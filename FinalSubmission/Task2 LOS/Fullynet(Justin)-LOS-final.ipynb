{
 "cells": [
  {
   "cell_type": "markdown",
   "id": "970d9aef",
   "metadata": {
    "heading_collapsed": true
   },
   "source": [
    "# Libraries"
   ]
  },
  {
   "cell_type": "code",
   "execution_count": 1,
   "id": "71cace5d",
   "metadata": {
    "ExecuteTime": {
     "end_time": "2022-12-04T13:46:59.200380Z",
     "start_time": "2022-12-04T13:46:58.811265Z"
    },
    "hidden": true
   },
   "outputs": [],
   "source": [
    "import torch\n",
    "import torchvision\n",
    "import torch.nn as nn\n",
    "import torch.optim as optim\n",
    "import torch.nn.functional as F\n",
    "from torch.utils.data import Dataset, DataLoader\n",
    "import torchvision.transforms as transforms"
   ]
  },
  {
   "cell_type": "code",
   "execution_count": 2,
   "id": "8735b622",
   "metadata": {
    "ExecuteTime": {
     "end_time": "2022-12-04T13:46:59.559446Z",
     "start_time": "2022-12-04T13:46:59.202042Z"
    },
    "hidden": true
   },
   "outputs": [],
   "source": [
    "device = torch.device(\"cuda\" if torch.cuda.is_available() else \"cpu\")"
   ]
  },
  {
   "cell_type": "markdown",
   "id": "e5e3db1d",
   "metadata": {
    "ExecuteTime": {
     "end_time": "2022-10-27T03:47:12.458066Z",
     "start_time": "2022-10-27T03:47:12.452095Z"
    }
   },
   "source": [
    "# Import data"
   ]
  },
  {
   "cell_type": "code",
   "execution_count": 3,
   "id": "c7c7a26f",
   "metadata": {
    "ExecuteTime": {
     "end_time": "2022-12-04T13:47:00.626761Z",
     "start_time": "2022-12-04T13:46:59.561701Z"
    }
   },
   "outputs": [
    {
     "name": "stdout",
     "output_type": "stream",
     "text": [
      "************************************************************\n",
      "There are 6 set of X\n",
      "X_train_selected_t1, X_train_selected_t2, X_valid_selected_t1,X_valid_selected_t2,X_test_selected_t1,X_test_selected_t2\n",
      "------------------------------------------------------------\n",
      "Normalized version\n",
      "X_train_selected_t1_norm, X_train_selected_t2_norm, X_valid_selected_t1_norm,X_valid_selected_t2_norm,X_test_selected_t1_norm,X_test_selected_t2_norm\n",
      "------------------------------------------------------------\n",
      "There are 4 set of Y\n",
      "y_train_t1, y_train_t2, y_valid_t1, y_valid_t2\n",
      "when training, please use: 'y_train_t1_value,y_train_t2_value,y_valid_t1_value,y_valid_t2_value'\n",
      "************************************************************\n"
     ]
    }
   ],
   "source": [
    "%run Data_preprocessing_v1.ipynb"
   ]
  },
  {
   "cell_type": "code",
   "execution_count": 4,
   "id": "4aa393c8",
   "metadata": {
    "ExecuteTime": {
     "end_time": "2022-12-04T13:47:00.633393Z",
     "start_time": "2022-12-04T13:47:00.629729Z"
    }
   },
   "outputs": [
    {
     "name": "stdout",
     "output_type": "stream",
     "text": [
      "(16760, 54)\n",
      "(2394, 54)\n",
      "(4790, 54)\n"
     ]
    }
   ],
   "source": [
    "print(X_train_selected_t2_norm.shape)\n",
    "print(X_valid_selected_t2_norm.shape)\n",
    "print(X_test_selected_t2_norm.shape)"
   ]
  },
  {
   "cell_type": "markdown",
   "id": "560831ad",
   "metadata": {},
   "source": [
    "# Hyperparameters"
   ]
  },
  {
   "cell_type": "code",
   "execution_count": 5,
   "id": "6fb9fe03",
   "metadata": {
    "ExecuteTime": {
     "end_time": "2022-12-04T13:47:00.647201Z",
     "start_time": "2022-12-04T13:47:00.635673Z"
    }
   },
   "outputs": [],
   "source": [
    "input_size = 54\n",
    "output_size = 1 # live or dead\n",
    "num_layers = 3\n",
    "learning_rate = 0.001\n",
    "batch_size = 32\n",
    "num_epochs = 190\n",
    "l2_lamb = 3.736842105263158e-05"
   ]
  },
  {
   "cell_type": "markdown",
   "id": "9b7e4676",
   "metadata": {},
   "source": [
    "# Create JusNN"
   ]
  },
  {
   "cell_type": "code",
   "execution_count": 17,
   "id": "b8810614",
   "metadata": {
    "ExecuteTime": {
     "end_time": "2022-12-04T13:48:22.051532Z",
     "start_time": "2022-12-04T13:48:22.043936Z"
    }
   },
   "outputs": [],
   "source": [
    "class JusNN(nn.Module):\n",
    "    def __init__(self, input_size, num_layers, output_size):\n",
    "        super(JusNN, self).__init__()\n",
    "        \n",
    "        self.fclayers = nn.Sequential(\n",
    "            nn.Linear(input_size, 3),\n",
    "            nn.ReLU(),\n",
    "            nn.Dropout(p=0.5),\n",
    "            nn.Linear(3, 12),\n",
    "        )\n",
    "        \n",
    "        self.batchnorm1 = nn.BatchNorm1d(59)\n",
    "        \n",
    "        self.fc1 = nn.Linear(12, 1)\n",
    "        \n",
    "    def forward(self, x):\n",
    "         x1 = F.leaky_relu(self.fclayers(x))\n",
    "         \n",
    "         x2 = self.fc1(x1)\n",
    "         return x2"
   ]
  },
  {
   "cell_type": "markdown",
   "id": "076d6376",
   "metadata": {
    "heading_collapsed": true
   },
   "source": [
    "# Data transform"
   ]
  },
  {
   "cell_type": "code",
   "execution_count": 10,
   "id": "d7e4872c",
   "metadata": {
    "ExecuteTime": {
     "end_time": "2022-12-04T13:47:40.776698Z",
     "start_time": "2022-12-04T13:47:40.765988Z"
    },
    "hidden": true
   },
   "outputs": [],
   "source": [
    "class CusDatasetLoader(Dataset):\n",
    "    def __init__(self,x,y):\n",
    "        self.len = y.shape[0]\n",
    "        self.x_data = x\n",
    "        self.y_data = y\n",
    "  \n",
    "    def __len__(self):\n",
    "        return self.len\n",
    "\n",
    "    def __getitem__(self, index):\n",
    "        #return self.dataframe.iloc[index]\n",
    "        return self.x_data[index], self.y_data[index]"
   ]
  },
  {
   "cell_type": "code",
   "execution_count": 11,
   "id": "456be776",
   "metadata": {
    "ExecuteTime": {
     "end_time": "2022-12-04T13:47:40.783247Z",
     "start_time": "2022-12-04T13:47:40.778259Z"
    },
    "hidden": true
   },
   "outputs": [],
   "source": [
    "# X_shape(X) : used for split the data into a right tensor size\n",
    "#input: X in shape of 16760 rows × 7488 columns (df)\n",
    "#output: X in shape of torch.Size([16760, 312, 24]) (tensor)\n",
    "def X_shape(X):\n",
    "    X_tensor = torch.from_numpy(np.array(X)).to(torch.float32)\n",
    "    X_tensor = torch.split(X_tensor,1)\n",
    "    X_tensor = torch.stack(X_tensor)\n",
    "    print(\"X now in shape of\",X_tensor.shape)\n",
    "    return X_tensor\n",
    "\n",
    "# y_tensor(y) : used for split the data into a right tensor size\n",
    "#input: X in shape of 16760 rows × 7488 columns (df)\n",
    "#output: X in shape of torch.Size([16760, 312, 24]) (tensor)\n",
    "def y_tensor(y):\n",
    "    y= torch.from_numpy(np.array(y)).to(torch.float32).reshape(len(y),1)\n",
    "    print(\"y now in shape of\",y.shape)\n",
    "    return y"
   ]
  },
  {
   "cell_type": "code",
   "execution_count": 12,
   "id": "006849f5",
   "metadata": {
    "ExecuteTime": {
     "end_time": "2022-12-04T13:47:40.839447Z",
     "start_time": "2022-12-04T13:47:40.785880Z"
    },
    "hidden": true
   },
   "outputs": [
    {
     "name": "stdout",
     "output_type": "stream",
     "text": [
      "X now in shape of torch.Size([16760, 1, 54])\n",
      "y now in shape of torch.Size([16760, 1])\n",
      "torch.Size([1, 54])\n",
      "torch.Size([1])\n"
     ]
    }
   ],
   "source": [
    "# X should be in smaples, 1, squence, rows\n",
    "X1 = X_shape(X_train_selected_t2_norm)\n",
    "y1 = y_tensor(y_train_t2.iloc[:,-1])\n",
    "\n",
    "train_datasets = CusDatasetLoader(X1, y1)\n",
    "train_loader = DataLoader(dataset=train_datasets, batch_size=batch_size, shuffle=True)\n",
    "\n",
    "x,y = train_datasets[0]\n",
    "print(x.shape)\n",
    "print(y.shape)"
   ]
  },
  {
   "cell_type": "markdown",
   "id": "e366eb01",
   "metadata": {},
   "source": [
    "# Model train"
   ]
  },
  {
   "cell_type": "code",
   "execution_count": 18,
   "id": "6443333a",
   "metadata": {
    "ExecuteTime": {
     "end_time": "2022-12-04T13:48:26.467511Z",
     "start_time": "2022-12-04T13:48:26.459417Z"
    }
   },
   "outputs": [],
   "source": [
    "model = JusNN(input_size, num_layers, output_size).to(device)"
   ]
  },
  {
   "cell_type": "code",
   "execution_count": 20,
   "id": "afa986f2",
   "metadata": {
    "ExecuteTime": {
     "end_time": "2022-12-04T13:51:07.839745Z",
     "start_time": "2022-12-04T13:51:07.833342Z"
    }
   },
   "outputs": [],
   "source": [
    "def RMSELoss(yhat,y):\n",
    "    return torch.sqrt(torch.mean((yhat-y)**2))\n",
    "\n",
    "criterion = RMSELoss\n",
    "optimizer = optim.Adam(model.parameters(), lr = learning_rate)"
   ]
  },
  {
   "cell_type": "code",
   "execution_count": 21,
   "id": "680547a7",
   "metadata": {
    "ExecuteTime": {
     "end_time": "2022-12-04T13:58:43.306120Z",
     "start_time": "2022-12-04T13:51:09.555397Z"
    },
    "scrolled": true
   },
   "outputs": [
    {
     "name": "stdout",
     "output_type": "stream",
     "text": [
      "Epoch 000: | Loss: 2.00252 \n",
      "Epoch 005: | Loss: 1.90669 \n",
      "Epoch 010: | Loss: 1.91172 \n",
      "Epoch 015: | Loss: 2.02851 \n",
      "Epoch 020: | Loss: 1.71510 \n",
      "Epoch 025: | Loss: 1.63440 \n",
      "Epoch 030: | Loss: 2.05576 \n",
      "Epoch 035: | Loss: 1.45829 \n",
      "Epoch 040: | Loss: 1.41631 \n",
      "Epoch 045: | Loss: 2.12357 \n",
      "Epoch 050: | Loss: 2.56408 \n",
      "Epoch 055: | Loss: 2.00228 \n",
      "Epoch 060: | Loss: 1.90288 \n",
      "Epoch 065: | Loss: 2.13858 \n",
      "Epoch 070: | Loss: 1.87541 \n",
      "Epoch 075: | Loss: 1.92098 \n",
      "Epoch 080: | Loss: 1.75201 \n",
      "Epoch 085: | Loss: 1.60578 \n",
      "Epoch 090: | Loss: 2.59241 \n",
      "Epoch 095: | Loss: 2.10973 \n",
      "Epoch 100: | Loss: 2.37758 \n",
      "Epoch 105: | Loss: 2.25627 \n",
      "Epoch 110: | Loss: 2.39752 \n",
      "Epoch 115: | Loss: 1.34266 \n",
      "Epoch 120: | Loss: 1.57053 \n",
      "Epoch 125: | Loss: 1.68692 \n",
      "Epoch 130: | Loss: 1.72217 \n",
      "Epoch 135: | Loss: 1.73860 \n",
      "Epoch 140: | Loss: 1.11857 \n",
      "Epoch 145: | Loss: 2.03662 \n",
      "Epoch 150: | Loss: 1.75853 \n",
      "Epoch 155: | Loss: 1.83401 \n",
      "Epoch 160: | Loss: 1.60887 \n",
      "Epoch 165: | Loss: 1.57527 \n",
      "Epoch 170: | Loss: 1.85810 \n",
      "Epoch 175: | Loss: 1.81540 \n",
      "Epoch 180: | Loss: 1.86690 \n",
      "Epoch 185: | Loss: 1.56629 \n",
      "Epoch 190: | Loss: 1.70778 \n",
      "Epoch 195: | Loss: 1.94399 \n",
      "Epoch 200: | Loss: 2.00117 \n",
      "Epoch 205: | Loss: 1.74441 \n",
      "Epoch 210: | Loss: 1.22050 \n",
      "Epoch 215: | Loss: 2.11715 \n",
      "Epoch 220: | Loss: 2.17206 \n",
      "Epoch 225: | Loss: 1.82207 \n",
      "Epoch 230: | Loss: 1.84869 \n",
      "Epoch 235: | Loss: 2.09986 \n",
      "Epoch 240: | Loss: 2.35684 \n",
      "Epoch 245: | Loss: 2.03151 \n",
      "Epoch 250: | Loss: 1.66999 \n",
      "Epoch 255: | Loss: 1.64190 \n",
      "Epoch 260: | Loss: 1.69297 \n",
      "Epoch 265: | Loss: 2.14711 \n",
      "Epoch 270: | Loss: 2.43735 \n",
      "Epoch 275: | Loss: 2.10693 \n",
      "Epoch 280: | Loss: 2.12619 \n",
      "Epoch 285: | Loss: 1.48606 \n",
      "Epoch 290: | Loss: 1.77319 \n",
      "Epoch 295: | Loss: 1.80947 \n",
      "Epoch 300: | Loss: 1.66735 \n",
      "Epoch 305: | Loss: 2.14539 \n",
      "Epoch 310: | Loss: 1.63580 \n",
      "Epoch 315: | Loss: 2.22287 \n",
      "Epoch 320: | Loss: 2.24598 \n",
      "Epoch 325: | Loss: 1.96853 \n",
      "Epoch 330: | Loss: 1.90505 \n",
      "Epoch 335: | Loss: 2.53411 \n",
      "Epoch 340: | Loss: 1.83602 \n",
      "Epoch 345: | Loss: 1.88187 \n",
      "Epoch 350: | Loss: 2.57761 \n",
      "Epoch 355: | Loss: 1.71159 \n",
      "Epoch 360: | Loss: 1.76472 \n",
      "Epoch 365: | Loss: 1.42959 \n",
      "Epoch 370: | Loss: 1.72083 \n",
      "Epoch 375: | Loss: 1.52407 \n",
      "Epoch 380: | Loss: 2.62828 \n",
      "Epoch 385: | Loss: 1.81241 \n",
      "Epoch 390: | Loss: 1.86403 \n",
      "Epoch 395: | Loss: 1.97091 \n",
      "Epoch 400: | Loss: 1.81219 \n",
      "Epoch 405: | Loss: 2.31098 \n",
      "Epoch 410: | Loss: 1.25797 \n",
      "Epoch 415: | Loss: 2.04559 \n",
      "Epoch 420: | Loss: 1.51575 \n",
      "Epoch 425: | Loss: 2.60192 \n",
      "Epoch 430: | Loss: 1.75149 \n",
      "Epoch 435: | Loss: 1.54564 \n",
      "Epoch 440: | Loss: 1.82593 \n",
      "Epoch 445: | Loss: 1.46244 \n",
      "Epoch 450: | Loss: 1.60633 \n",
      "Epoch 455: | Loss: 1.36162 \n",
      "Epoch 460: | Loss: 1.55334 \n",
      "Epoch 465: | Loss: 1.72062 \n",
      "Epoch 470: | Loss: 1.86858 \n",
      "Epoch 475: | Loss: 2.40451 \n",
      "Epoch 480: | Loss: 1.92611 \n",
      "Epoch 485: | Loss: 1.90116 \n",
      "Epoch 490: | Loss: 1.63033 \n",
      "Epoch 495: | Loss: 2.17019 \n"
     ]
    }
   ],
   "source": [
    "losses=[]\n",
    "acc_list=[]\n",
    "for epoch in range(num_epochs):\n",
    "    for batch_idx, (data, targets) in enumerate(train_loader):\n",
    "        data = data.permute(0,1,2)\n",
    "        #print(data.shape)\n",
    "        data = data.to(device=device)\n",
    "        targets = targets.to(device=device)\n",
    "        targets = torch.squeeze(targets, 1)\n",
    "        #print(targets)\n",
    "        \n",
    "        # forward\n",
    "        scores = model(data)\n",
    "        #print(scores.shape)\n",
    "        loss = criterion(scores, targets)\n",
    "        l2_lambda = l2_lamb\n",
    "        l2_norm = sum(p.pow(2.0).sum()\n",
    "                  for p in model.parameters())\n",
    " \n",
    "        loss = loss + l2_lambda * l2_norm\n",
    "    \n",
    "        # backward\n",
    "        optimizer.zero_grad()\n",
    "        loss.backward()\n",
    "        \n",
    "        # gradient descent or adam step\n",
    "        optimizer.step()\n",
    "        \n",
    "    if epoch%5 == 0:\n",
    "        losses.append(loss.detach().numpy() )\n",
    "        print(f'Epoch {epoch:03}: | Loss: {loss:.5f} ')\n",
    "        "
   ]
  },
  {
   "cell_type": "markdown",
   "id": "06bcbff7",
   "metadata": {
    "ExecuteTime": {
     "end_time": "2022-10-28T17:23:14.669685Z",
     "start_time": "2022-10-28T17:23:14.663564Z"
    }
   },
   "source": [
    "# Model RMSE"
   ]
  },
  {
   "cell_type": "code",
   "execution_count": 22,
   "id": "48a94a4e",
   "metadata": {
    "ExecuteTime": {
     "end_time": "2022-12-04T13:58:47.306021Z",
     "start_time": "2022-12-04T13:58:47.296887Z"
    }
   },
   "outputs": [],
   "source": [
    "def rmse(predictions, targets):\n",
    "    return np.sqrt(((predictions - targets) ** 2).mean())\n",
    "\n",
    "def check_rmse(loader, model):\n",
    "\n",
    "    # Set model to eval\n",
    "    model.eval()\n",
    "\n",
    "    with torch.no_grad():\n",
    "        for data, targets in loader:\n",
    "            data = data.permute(0,1,2)\n",
    "            #print(data.shape)\n",
    "            data = data.to(device=device)\n",
    "            targets = targets.to(device=device)\n",
    "            targets = torch.squeeze(targets, 1)\n",
    "\n",
    "            scores = model(data)\n",
    "            res = rmse(scores,targets)\n",
    "        \n",
    "            \n",
    "    # Toggle model back to train\n",
    "    model.train()\n",
    "    return res\n",
    "    "
   ]
  },
  {
   "cell_type": "code",
   "execution_count": 23,
   "id": "7194f3f0",
   "metadata": {
    "ExecuteTime": {
     "end_time": "2022-12-04T13:58:48.849929Z",
     "start_time": "2022-12-04T13:58:48.649707Z"
    }
   },
   "outputs": [
    {
     "name": "stdout",
     "output_type": "stream",
     "text": [
      "X now in shape of torch.Size([2394, 1, 54])\n",
      "y now in shape of torch.Size([2394, 1])\n",
      "RMSE on test set: 1.4394893646240234\n"
     ]
    }
   ],
   "source": [
    "X2 = X_shape(X_valid_selected_t2_norm)\n",
    "y2 = y_tensor(y_valid_t2.iloc[:,-1])\n",
    "\n",
    "Valid_datasets = CusDatasetLoader(X2, y2)\n",
    "Valid_loader = DataLoader(dataset=train_datasets, batch_size=batch_size, shuffle=True)\n",
    "print(f\"RMSE on test set: {check_rmse(Valid_loader, model)}\")"
   ]
  },
  {
   "cell_type": "markdown",
   "id": "b16acbcd",
   "metadata": {
    "heading_collapsed": true
   },
   "source": [
    "# Test"
   ]
  },
  {
   "cell_type": "code",
   "execution_count": null,
   "id": "0fc30b2a",
   "metadata": {
    "ExecuteTime": {
     "end_time": "2022-12-04T13:47:40.960486Z",
     "start_time": "2022-12-04T13:47:40.960476Z"
    },
    "hidden": true
   },
   "outputs": [],
   "source": [
    "def test(loader, model):\n",
    "    # Set model to eval\n",
    "    model.eval()\n",
    "    res = torch.tensor([], dtype=torch.int64)\n",
    "    with torch.no_grad():\n",
    "        for x, y in loader:\n",
    "            x = x.to(device=device).permute(0,2,1)\n",
    "            print(x.shape)\n",
    "            y = torch.squeeze(y.to(device=device), 1)\n",
    "            print(y.shape)\n",
    "\n",
    "            scores = model(x)\n",
    "            _, predictions = scores.max(1)\n",
    "            res =  torch.cat((predictions, res), 0)  \n",
    "    model.train()\n",
    "   \n",
    "    return res"
   ]
  },
  {
   "cell_type": "code",
   "execution_count": null,
   "id": "767ccbaa",
   "metadata": {
    "ExecuteTime": {
     "end_time": "2022-12-04T13:47:40.961196Z",
     "start_time": "2022-12-04T13:47:40.961187Z"
    },
    "hidden": true
   },
   "outputs": [],
   "source": [
    "X_test"
   ]
  },
  {
   "cell_type": "code",
   "execution_count": null,
   "id": "66e51253",
   "metadata": {
    "ExecuteTime": {
     "end_time": "2022-12-04T13:47:40.962243Z",
     "start_time": "2022-12-04T13:47:40.962234Z"
    },
    "hidden": true
   },
   "outputs": [],
   "source": [
    "X_test_final = X_shape(X_test)\n",
    "y_final = torch.zeros([4790,1])\n",
    "\n",
    "test_datasets = CusDatasetLoader(X_test_final, y_final)\n",
    "test_loader = DataLoader(dataset=test_datasets, batch_size=batch_size, shuffle=True)\n",
    "\n",
    "result = test(test_loader, model)\n",
    "result"
   ]
  },
  {
   "cell_type": "code",
   "execution_count": null,
   "id": "8747d5c8",
   "metadata": {
    "ExecuteTime": {
     "end_time": "2022-12-04T13:47:40.963047Z",
     "start_time": "2022-12-04T13:47:40.963038Z"
    },
    "hidden": true,
    "scrolled": true
   },
   "outputs": [],
   "source": [
    "\n",
    "#df.index = ['Row_1', 'Row_2', 'Row_3', 'Row_4']\n",
    "res1 = pd.DataFrame(result, columns=[\"Predicted\"])\n",
    "res1.index = X_test.index\n",
    "res1.index.name = 'Id'\n",
    "pd.DataFrame(res1).to_csv('out.csv')\n"
   ]
  },
  {
   "cell_type": "markdown",
   "id": "27ca623b",
   "metadata": {},
   "source": [
    "#"
   ]
  },
  {
   "cell_type": "markdown",
   "id": "afa29a40",
   "metadata": {},
   "source": [
    "#"
   ]
  },
  {
   "cell_type": "markdown",
   "id": "b8d38018",
   "metadata": {},
   "source": [
    "#"
   ]
  }
 ],
 "metadata": {
  "kernelspec": {
   "display_name": "comp3340",
   "language": "python",
   "name": "comp3340"
  },
  "language_info": {
   "codemirror_mode": {
    "name": "ipython",
    "version": 3
   },
   "file_extension": ".py",
   "mimetype": "text/x-python",
   "name": "python",
   "nbconvert_exporter": "python",
   "pygments_lexer": "ipython3",
   "version": "3.7.7"
  },
  "toc": {
   "base_numbering": 1,
   "nav_menu": {},
   "number_sections": true,
   "sideBar": true,
   "skip_h1_title": false,
   "title_cell": "Table of Contents",
   "title_sidebar": "Contents",
   "toc_cell": false,
   "toc_position": {},
   "toc_section_display": true,
   "toc_window_display": true
  }
 },
 "nbformat": 4,
 "nbformat_minor": 5
}
