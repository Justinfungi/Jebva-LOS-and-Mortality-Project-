{
 "cells": [
  {
   "cell_type": "code",
   "execution_count": 1,
   "id": "37750dc6",
   "metadata": {},
   "outputs": [],
   "source": [
    "import numpy as np\n",
    "import pandas as pd\n",
    "import matplotlib.pyplot as plt\n",
    "import seaborn as sns\n",
    "from sklearn import svm\n",
    "from sklearn.metrics import accuracy_score, precision_score, roc_auc_score, roc_curve, auc, confusion_matrix\n",
    "\n",
    "%matplotlib inline"
   ]
  },
  {
   "cell_type": "markdown",
   "id": "dcd64141",
   "metadata": {},
   "source": [
    "### Data preprocessing"
   ]
  },
  {
   "cell_type": "code",
   "execution_count": 2,
   "id": "17cea3bb",
   "metadata": {
    "scrolled": false
   },
   "outputs": [
    {
     "name": "stdout",
     "output_type": "stream",
     "text": [
      "(15535, 62) (1225, 62)\n",
      "(15535, 62) (15535, 62)\n",
      "(2242, 62) (152, 62)\n",
      "(2242, 62) (2242, 62)\n",
      "MAE: 0.85108\n",
      "Config: {'alpha': 0.0}\n",
      "************************************************************\n",
      "There are 3 set of X\n",
      "X_train_selected_t1,X_valid_selected_t1,X_test_selected_t1\n",
      "------------------------------------------------------------\n",
      "Normalized version\n",
      "X_train_selected_t1_norm,X_valid_selected_t1_norm,X_test_selected_t1_norm\n",
      "------------------------------------------------------------\n",
      "There are 2 set of Y\n",
      "y_train_t1,y_valid_t1\n",
      "when training, please use: 'y_train_t1_value,y_valid_t1_value'\n",
      "************************************************************\n"
     ]
    }
   ],
   "source": [
    "%run Data_preprocessing_realmean_forrun_final_task1.py"
   ]
  },
  {
   "cell_type": "markdown",
   "id": "f8d9923b",
   "metadata": {},
   "source": [
    "## Formal Model ##"
   ]
  },
  {
   "cell_type": "code",
   "execution_count": 89,
   "id": "d9b2a564",
   "metadata": {},
   "outputs": [
    {
     "data": {
      "text/html": [
       "<style>#sk-container-id-9 {color: black;background-color: white;}#sk-container-id-9 pre{padding: 0;}#sk-container-id-9 div.sk-toggleable {background-color: white;}#sk-container-id-9 label.sk-toggleable__label {cursor: pointer;display: block;width: 100%;margin-bottom: 0;padding: 0.3em;box-sizing: border-box;text-align: center;}#sk-container-id-9 label.sk-toggleable__label-arrow:before {content: \"▸\";float: left;margin-right: 0.25em;color: #696969;}#sk-container-id-9 label.sk-toggleable__label-arrow:hover:before {color: black;}#sk-container-id-9 div.sk-estimator:hover label.sk-toggleable__label-arrow:before {color: black;}#sk-container-id-9 div.sk-toggleable__content {max-height: 0;max-width: 0;overflow: hidden;text-align: left;background-color: #f0f8ff;}#sk-container-id-9 div.sk-toggleable__content pre {margin: 0.2em;color: black;border-radius: 0.25em;background-color: #f0f8ff;}#sk-container-id-9 input.sk-toggleable__control:checked~div.sk-toggleable__content {max-height: 200px;max-width: 100%;overflow: auto;}#sk-container-id-9 input.sk-toggleable__control:checked~label.sk-toggleable__label-arrow:before {content: \"▾\";}#sk-container-id-9 div.sk-estimator input.sk-toggleable__control:checked~label.sk-toggleable__label {background-color: #d4ebff;}#sk-container-id-9 div.sk-label input.sk-toggleable__control:checked~label.sk-toggleable__label {background-color: #d4ebff;}#sk-container-id-9 input.sk-hidden--visually {border: 0;clip: rect(1px 1px 1px 1px);clip: rect(1px, 1px, 1px, 1px);height: 1px;margin: -1px;overflow: hidden;padding: 0;position: absolute;width: 1px;}#sk-container-id-9 div.sk-estimator {font-family: monospace;background-color: #f0f8ff;border: 1px dotted black;border-radius: 0.25em;box-sizing: border-box;margin-bottom: 0.5em;}#sk-container-id-9 div.sk-estimator:hover {background-color: #d4ebff;}#sk-container-id-9 div.sk-parallel-item::after {content: \"\";width: 100%;border-bottom: 1px solid gray;flex-grow: 1;}#sk-container-id-9 div.sk-label:hover label.sk-toggleable__label {background-color: #d4ebff;}#sk-container-id-9 div.sk-serial::before {content: \"\";position: absolute;border-left: 1px solid gray;box-sizing: border-box;top: 0;bottom: 0;left: 50%;z-index: 0;}#sk-container-id-9 div.sk-serial {display: flex;flex-direction: column;align-items: center;background-color: white;padding-right: 0.2em;padding-left: 0.2em;position: relative;}#sk-container-id-9 div.sk-item {position: relative;z-index: 1;}#sk-container-id-9 div.sk-parallel {display: flex;align-items: stretch;justify-content: center;background-color: white;position: relative;}#sk-container-id-9 div.sk-item::before, #sk-container-id-9 div.sk-parallel-item::before {content: \"\";position: absolute;border-left: 1px solid gray;box-sizing: border-box;top: 0;bottom: 0;left: 50%;z-index: -1;}#sk-container-id-9 div.sk-parallel-item {display: flex;flex-direction: column;z-index: 1;position: relative;background-color: white;}#sk-container-id-9 div.sk-parallel-item:first-child::after {align-self: flex-end;width: 50%;}#sk-container-id-9 div.sk-parallel-item:last-child::after {align-self: flex-start;width: 50%;}#sk-container-id-9 div.sk-parallel-item:only-child::after {width: 0;}#sk-container-id-9 div.sk-dashed-wrapped {border: 1px dashed gray;margin: 0 0.4em 0.5em 0.4em;box-sizing: border-box;padding-bottom: 0.4em;background-color: white;}#sk-container-id-9 div.sk-label label {font-family: monospace;font-weight: bold;display: inline-block;line-height: 1.2em;}#sk-container-id-9 div.sk-label-container {text-align: center;}#sk-container-id-9 div.sk-container {/* jupyter's `normalize.less` sets `[hidden] { display: none; }` but bootstrap.min.css set `[hidden] { display: none !important; }` so we also need the `!important` here to be able to override the default hidden behavior on the sphinx rendered scikit-learn.org. See: https://github.com/scikit-learn/scikit-learn/issues/21755 */display: inline-block !important;position: relative;}#sk-container-id-9 div.sk-text-repr-fallback {display: none;}</style><div id=\"sk-container-id-9\" class=\"sk-top-container\"><div class=\"sk-text-repr-fallback\"><pre>SVC(C=0.1, probability=True)</pre><b>In a Jupyter environment, please rerun this cell to show the HTML representation or trust the notebook. <br />On GitHub, the HTML representation is unable to render, please try loading this page with nbviewer.org.</b></div><div class=\"sk-container\" hidden><div class=\"sk-item\"><div class=\"sk-estimator sk-toggleable\"><input class=\"sk-toggleable__control sk-hidden--visually\" id=\"sk-estimator-id-15\" type=\"checkbox\" checked><label for=\"sk-estimator-id-15\" class=\"sk-toggleable__label sk-toggleable__label-arrow\">SVC</label><div class=\"sk-toggleable__content\"><pre>SVC(C=0.1, probability=True)</pre></div></div></div></div></div>"
      ],
      "text/plain": [
       "SVC(C=0.1, probability=True)"
      ]
     },
     "execution_count": 89,
     "metadata": {},
     "output_type": "execute_result"
    }
   ],
   "source": [
    "clf_rbf = svm.SVC(C=0.1, kernel='rbf', degree=3,probability=True)\n",
    "clf_rbf.fit(X_train_t1_balanced,y_train_t1_balanced)"
   ]
  },
  {
   "cell_type": "code",
   "execution_count": 91,
   "id": "5dcbdb0c",
   "metadata": {},
   "outputs": [
    {
     "name": "stdout",
     "output_type": "stream",
     "text": [
      "0.8621502183201089\n"
     ]
    }
   ],
   "source": [
    "y_valid_score = clf_rbf.decision_function(X_valid_realmean)\n",
    "# compute ROC curve and AUC for each learning rate\n",
    "fpr, tpr, thresholds = roc_curve(y_valid_t1_value,y_valid_score)\n",
    "roc_auc = auc(fpr, tpr)\n",
    "\n",
    "print(roc_auc)\n"
   ]
  },
  {
   "cell_type": "code",
   "execution_count": null,
   "id": "2aac3ef3",
   "metadata": {},
   "outputs": [],
   "source": [
    "plt.title(\"C=1.1, kernel='rbf', degree=3\", fontsize=18)\n",
    "plt.scatter(X_test_selected_t1_norm[:, 0], X_test_selected_t1_norm[:, 1], c=pred_test_y, s=50, cmap='cool')\n",
    "plot_svc_decision_function(clf)"
   ]
  },
  {
   "cell_type": "code",
   "execution_count": 97,
   "id": "3a05cd50",
   "metadata": {},
   "outputs": [],
   "source": [
    "pred_test_y = clf_rbf.predict_proba(X_test_realmean)\n",
    "pd.DataFrame(pred_test_y).to_excel(excel_writer=\"C:/Users/16225/Documents/GitHub/Jebva-LOS-and-Mortality-Project-/prediction/SVMpred9.xlsx\")"
   ]
  },
  {
   "cell_type": "markdown",
   "id": "53ec5338",
   "metadata": {},
   "source": [
    "## GridsearchCV ##"
   ]
  },
  {
   "cell_type": "code",
   "execution_count": 4,
   "id": "8e7a2c76",
   "metadata": {},
   "outputs": [],
   "source": [
    "from sklearn.model_selection import GridSearchCV\n",
    "from sklearn.metrics import make_scorer\n",
    "from sklearn.svm import SVC"
   ]
  },
  {
   "cell_type": "code",
   "execution_count": 5,
   "id": "8d6e1fd6",
   "metadata": {},
   "outputs": [
    {
     "name": "stdout",
     "output_type": "stream",
     "text": [
      "Fitting 5 folds for each of 10 candidates, totalling 50 fits\n",
      "[CV] END .................................C=1, kernel=linear; total time=  48.2s\n",
      "[CV] END .................................C=1, kernel=linear; total time=  47.0s\n",
      "[CV] END .................................C=1, kernel=linear; total time=  46.9s\n",
      "[CV] END .................................C=1, kernel=linear; total time=  45.6s\n",
      "[CV] END .................................C=1, kernel=linear; total time=  46.4s\n",
      "[CV] END ................................C=10, kernel=linear; total time= 4.9min\n",
      "[CV] END ................................C=10, kernel=linear; total time= 5.0min\n",
      "[CV] END ................................C=10, kernel=linear; total time= 5.0min\n",
      "[CV] END ................................C=10, kernel=linear; total time= 4.7min\n",
      "[CV] END ................................C=10, kernel=linear; total time= 5.0min\n",
      "[CV] END .........................C=1, degree=2, kernel=poly; total time=  13.2s\n",
      "[CV] END .........................C=1, degree=2, kernel=poly; total time=  14.3s\n",
      "[CV] END .........................C=1, degree=2, kernel=poly; total time=  13.7s\n",
      "[CV] END .........................C=1, degree=2, kernel=poly; total time=  13.6s\n",
      "[CV] END .........................C=1, degree=2, kernel=poly; total time=  14.3s\n",
      "[CV] END .........................C=1, degree=3, kernel=poly; total time=  17.7s\n",
      "[CV] END .........................C=1, degree=3, kernel=poly; total time=  18.4s\n",
      "[CV] END .........................C=1, degree=3, kernel=poly; total time=  17.9s\n",
      "[CV] END .........................C=1, degree=3, kernel=poly; total time=  17.9s\n",
      "[CV] END .........................C=1, degree=3, kernel=poly; total time=  18.3s\n",
      "[CV] END ...........................C=1, gamma=1, kernel=rbf; total time=  56.6s\n",
      "[CV] END ...........................C=1, gamma=1, kernel=rbf; total time=  56.2s\n",
      "[CV] END ...........................C=1, gamma=1, kernel=rbf; total time=  57.3s\n",
      "[CV] END ...........................C=1, gamma=1, kernel=rbf; total time=  59.0s\n",
      "[CV] END ...........................C=1, gamma=1, kernel=rbf; total time=  57.5s\n",
      "[CV] END .........................C=1, gamma=0.1, kernel=rbf; total time=  34.2s\n",
      "[CV] END .........................C=1, gamma=0.1, kernel=rbf; total time=  34.8s\n",
      "[CV] END .........................C=1, gamma=0.1, kernel=rbf; total time=  34.3s\n",
      "[CV] END .........................C=1, gamma=0.1, kernel=rbf; total time=  34.5s\n",
      "[CV] END .........................C=1, gamma=0.1, kernel=rbf; total time=  34.7s\n",
      "[CV] END ..........................C=10, gamma=1, kernel=rbf; total time=  55.4s\n",
      "[CV] END ..........................C=10, gamma=1, kernel=rbf; total time=  55.4s\n",
      "[CV] END ..........................C=10, gamma=1, kernel=rbf; total time=  57.5s\n",
      "[CV] END ..........................C=10, gamma=1, kernel=rbf; total time=  58.1s\n",
      "[CV] END ..........................C=10, gamma=1, kernel=rbf; total time=  57.2s\n",
      "[CV] END ........................C=10, gamma=0.1, kernel=rbf; total time=  35.5s\n",
      "[CV] END ........................C=10, gamma=0.1, kernel=rbf; total time=  35.6s\n",
      "[CV] END ........................C=10, gamma=0.1, kernel=rbf; total time=  34.8s\n",
      "[CV] END ........................C=10, gamma=0.1, kernel=rbf; total time=  34.4s\n",
      "[CV] END ........................C=10, gamma=0.1, kernel=rbf; total time=  34.2s\n",
      "[CV] END .........................C=100, gamma=1, kernel=rbf; total time=  55.1s\n",
      "[CV] END .........................C=100, gamma=1, kernel=rbf; total time=  55.1s\n",
      "[CV] END .........................C=100, gamma=1, kernel=rbf; total time=  56.8s\n",
      "[CV] END .........................C=100, gamma=1, kernel=rbf; total time=  58.2s\n",
      "[CV] END .........................C=100, gamma=1, kernel=rbf; total time=  57.5s\n",
      "[CV] END .......................C=100, gamma=0.1, kernel=rbf; total time=  35.6s\n",
      "[CV] END .......................C=100, gamma=0.1, kernel=rbf; total time=  35.0s\n",
      "[CV] END .......................C=100, gamma=0.1, kernel=rbf; total time=  34.8s\n",
      "[CV] END .......................C=100, gamma=0.1, kernel=rbf; total time=  34.6s\n",
      "[CV] END .......................C=100, gamma=0.1, kernel=rbf; total time=  34.4s\n"
     ]
    },
    {
     "data": {
      "text/html": [
       "<style>#sk-container-id-1 {color: black;background-color: white;}#sk-container-id-1 pre{padding: 0;}#sk-container-id-1 div.sk-toggleable {background-color: white;}#sk-container-id-1 label.sk-toggleable__label {cursor: pointer;display: block;width: 100%;margin-bottom: 0;padding: 0.3em;box-sizing: border-box;text-align: center;}#sk-container-id-1 label.sk-toggleable__label-arrow:before {content: \"▸\";float: left;margin-right: 0.25em;color: #696969;}#sk-container-id-1 label.sk-toggleable__label-arrow:hover:before {color: black;}#sk-container-id-1 div.sk-estimator:hover label.sk-toggleable__label-arrow:before {color: black;}#sk-container-id-1 div.sk-toggleable__content {max-height: 0;max-width: 0;overflow: hidden;text-align: left;background-color: #f0f8ff;}#sk-container-id-1 div.sk-toggleable__content pre {margin: 0.2em;color: black;border-radius: 0.25em;background-color: #f0f8ff;}#sk-container-id-1 input.sk-toggleable__control:checked~div.sk-toggleable__content {max-height: 200px;max-width: 100%;overflow: auto;}#sk-container-id-1 input.sk-toggleable__control:checked~label.sk-toggleable__label-arrow:before {content: \"▾\";}#sk-container-id-1 div.sk-estimator input.sk-toggleable__control:checked~label.sk-toggleable__label {background-color: #d4ebff;}#sk-container-id-1 div.sk-label input.sk-toggleable__control:checked~label.sk-toggleable__label {background-color: #d4ebff;}#sk-container-id-1 input.sk-hidden--visually {border: 0;clip: rect(1px 1px 1px 1px);clip: rect(1px, 1px, 1px, 1px);height: 1px;margin: -1px;overflow: hidden;padding: 0;position: absolute;width: 1px;}#sk-container-id-1 div.sk-estimator {font-family: monospace;background-color: #f0f8ff;border: 1px dotted black;border-radius: 0.25em;box-sizing: border-box;margin-bottom: 0.5em;}#sk-container-id-1 div.sk-estimator:hover {background-color: #d4ebff;}#sk-container-id-1 div.sk-parallel-item::after {content: \"\";width: 100%;border-bottom: 1px solid gray;flex-grow: 1;}#sk-container-id-1 div.sk-label:hover label.sk-toggleable__label {background-color: #d4ebff;}#sk-container-id-1 div.sk-serial::before {content: \"\";position: absolute;border-left: 1px solid gray;box-sizing: border-box;top: 0;bottom: 0;left: 50%;z-index: 0;}#sk-container-id-1 div.sk-serial {display: flex;flex-direction: column;align-items: center;background-color: white;padding-right: 0.2em;padding-left: 0.2em;position: relative;}#sk-container-id-1 div.sk-item {position: relative;z-index: 1;}#sk-container-id-1 div.sk-parallel {display: flex;align-items: stretch;justify-content: center;background-color: white;position: relative;}#sk-container-id-1 div.sk-item::before, #sk-container-id-1 div.sk-parallel-item::before {content: \"\";position: absolute;border-left: 1px solid gray;box-sizing: border-box;top: 0;bottom: 0;left: 50%;z-index: -1;}#sk-container-id-1 div.sk-parallel-item {display: flex;flex-direction: column;z-index: 1;position: relative;background-color: white;}#sk-container-id-1 div.sk-parallel-item:first-child::after {align-self: flex-end;width: 50%;}#sk-container-id-1 div.sk-parallel-item:last-child::after {align-self: flex-start;width: 50%;}#sk-container-id-1 div.sk-parallel-item:only-child::after {width: 0;}#sk-container-id-1 div.sk-dashed-wrapped {border: 1px dashed gray;margin: 0 0.4em 0.5em 0.4em;box-sizing: border-box;padding-bottom: 0.4em;background-color: white;}#sk-container-id-1 div.sk-label label {font-family: monospace;font-weight: bold;display: inline-block;line-height: 1.2em;}#sk-container-id-1 div.sk-label-container {text-align: center;}#sk-container-id-1 div.sk-container {/* jupyter's `normalize.less` sets `[hidden] { display: none; }` but bootstrap.min.css set `[hidden] { display: none !important; }` so we also need the `!important` here to be able to override the default hidden behavior on the sphinx rendered scikit-learn.org. See: https://github.com/scikit-learn/scikit-learn/issues/21755 */display: inline-block !important;position: relative;}#sk-container-id-1 div.sk-text-repr-fallback {display: none;}</style><div id=\"sk-container-id-1\" class=\"sk-top-container\"><div class=\"sk-text-repr-fallback\"><pre>GridSearchCV(estimator=SVC(),\n",
       "             param_grid=[{&#x27;C&#x27;: [1, 10], &#x27;kernel&#x27;: [&#x27;linear&#x27;]},\n",
       "                         {&#x27;C&#x27;: [1], &#x27;degree&#x27;: [2, 3], &#x27;kernel&#x27;: [&#x27;poly&#x27;]},\n",
       "                         {&#x27;C&#x27;: [1, 10, 100], &#x27;gamma&#x27;: [1, 0.1],\n",
       "                          &#x27;kernel&#x27;: [&#x27;rbf&#x27;]}],\n",
       "             scoring=&#x27;roc_auc&#x27;, verbose=2)</pre><b>In a Jupyter environment, please rerun this cell to show the HTML representation or trust the notebook. <br />On GitHub, the HTML representation is unable to render, please try loading this page with nbviewer.org.</b></div><div class=\"sk-container\" hidden><div class=\"sk-item sk-dashed-wrapped\"><div class=\"sk-label-container\"><div class=\"sk-label sk-toggleable\"><input class=\"sk-toggleable__control sk-hidden--visually\" id=\"sk-estimator-id-1\" type=\"checkbox\" ><label for=\"sk-estimator-id-1\" class=\"sk-toggleable__label sk-toggleable__label-arrow\">GridSearchCV</label><div class=\"sk-toggleable__content\"><pre>GridSearchCV(estimator=SVC(),\n",
       "             param_grid=[{&#x27;C&#x27;: [1, 10], &#x27;kernel&#x27;: [&#x27;linear&#x27;]},\n",
       "                         {&#x27;C&#x27;: [1], &#x27;degree&#x27;: [2, 3], &#x27;kernel&#x27;: [&#x27;poly&#x27;]},\n",
       "                         {&#x27;C&#x27;: [1, 10, 100], &#x27;gamma&#x27;: [1, 0.1],\n",
       "                          &#x27;kernel&#x27;: [&#x27;rbf&#x27;]}],\n",
       "             scoring=&#x27;roc_auc&#x27;, verbose=2)</pre></div></div></div><div class=\"sk-parallel\"><div class=\"sk-parallel-item\"><div class=\"sk-item\"><div class=\"sk-label-container\"><div class=\"sk-label sk-toggleable\"><input class=\"sk-toggleable__control sk-hidden--visually\" id=\"sk-estimator-id-2\" type=\"checkbox\" ><label for=\"sk-estimator-id-2\" class=\"sk-toggleable__label sk-toggleable__label-arrow\">estimator: SVC</label><div class=\"sk-toggleable__content\"><pre>SVC()</pre></div></div></div><div class=\"sk-serial\"><div class=\"sk-item\"><div class=\"sk-estimator sk-toggleable\"><input class=\"sk-toggleable__control sk-hidden--visually\" id=\"sk-estimator-id-3\" type=\"checkbox\" ><label for=\"sk-estimator-id-3\" class=\"sk-toggleable__label sk-toggleable__label-arrow\">SVC</label><div class=\"sk-toggleable__content\"><pre>SVC()</pre></div></div></div></div></div></div></div></div></div></div>"
      ],
      "text/plain": [
       "GridSearchCV(estimator=SVC(),\n",
       "             param_grid=[{'C': [1, 10], 'kernel': ['linear']},\n",
       "                         {'C': [1], 'degree': [2, 3], 'kernel': ['poly']},\n",
       "                         {'C': [1, 10, 100], 'gamma': [1, 0.1],\n",
       "                          'kernel': ['rbf']}],\n",
       "             scoring='roc_auc', verbose=2)"
      ]
     },
     "execution_count": 5,
     "metadata": {},
     "output_type": "execute_result"
    }
   ],
   "source": [
    "param_grid=[\n",
    "    {'kernel':['linear'],'C':[1,10]},\n",
    "    {'kernel':['poly'],'C':[1],'degree':[2,3]},\n",
    "    {'kernel':['rbf'],'C':[1,10,100],'gamma':[1,0.1]}]\n",
    "\n",
    "grid=GridSearchCV(SVC(),param_grid,refit=True,verbose=2,scoring=\"roc_auc\")\n",
    "grid.fit(X_train_selected_t1_norm,y_train_t1_balanced)"
   ]
  },
  {
   "cell_type": "code",
   "execution_count": 6,
   "id": "fef1fe04",
   "metadata": {},
   "outputs": [
    {
     "name": "stdout",
     "output_type": "stream",
     "text": [
      "best_params_: {'C': 1, 'gamma': 1, 'kernel': 'rbf'}\n",
      "best_score_: 1.0\n"
     ]
    }
   ],
   "source": [
    "print('best_params_:',grid.best_params_)\n",
    "print('best_score_:',grid.best_score_)"
   ]
  },
  {
   "cell_type": "code",
   "execution_count": 12,
   "id": "b5768b41",
   "metadata": {},
   "outputs": [
    {
     "ename": "NameError",
     "evalue": "name 'clf_rbf' is not defined",
     "output_type": "error",
     "traceback": [
      "\u001b[1;31m---------------------------------------------------------------------------\u001b[0m",
      "\u001b[1;31mNameError\u001b[0m                                 Traceback (most recent call last)",
      "\u001b[1;32m~\\AppData\\Local\\Temp/ipykernel_20924/3796058122.py\u001b[0m in \u001b[0;36m<module>\u001b[1;34m\u001b[0m\n\u001b[0;32m      2\u001b[0m \u001b[0mclf_best\u001b[0m\u001b[1;33m.\u001b[0m\u001b[0mfit\u001b[0m\u001b[1;33m(\u001b[0m\u001b[0mX_train_selected_t1_norm\u001b[0m\u001b[1;33m,\u001b[0m\u001b[0my_train_t1_balanced\u001b[0m\u001b[1;33m)\u001b[0m\u001b[1;33m\u001b[0m\u001b[1;33m\u001b[0m\u001b[0m\n\u001b[0;32m      3\u001b[0m \u001b[1;33m\u001b[0m\u001b[0m\n\u001b[1;32m----> 4\u001b[1;33m \u001b[0my_valid_score\u001b[0m \u001b[1;33m=\u001b[0m \u001b[0mclf_rbf\u001b[0m\u001b[1;33m.\u001b[0m\u001b[0mdecision_function\u001b[0m\u001b[1;33m(\u001b[0m\u001b[0mX_valid_selected_t1_norm\u001b[0m\u001b[1;33m)\u001b[0m\u001b[1;33m\u001b[0m\u001b[1;33m\u001b[0m\u001b[0m\n\u001b[0m\u001b[0;32m      5\u001b[0m \u001b[1;31m# compute ROC curve and AUC for each learning rate\u001b[0m\u001b[1;33m\u001b[0m\u001b[1;33m\u001b[0m\u001b[0m\n\u001b[0;32m      6\u001b[0m \u001b[0mfpr\u001b[0m\u001b[1;33m,\u001b[0m \u001b[0mtpr\u001b[0m\u001b[1;33m,\u001b[0m \u001b[0mthresholds\u001b[0m \u001b[1;33m=\u001b[0m \u001b[0mroc_curve\u001b[0m\u001b[1;33m(\u001b[0m\u001b[0my_valid_t1_value\u001b[0m\u001b[1;33m,\u001b[0m\u001b[0my_valid_score\u001b[0m\u001b[1;33m)\u001b[0m\u001b[1;33m\u001b[0m\u001b[1;33m\u001b[0m\u001b[0m\n",
      "\u001b[1;31mNameError\u001b[0m: name 'clf_rbf' is not defined"
     ]
    }
   ],
   "source": [
    "clf_best = svm.SVC(C=1,gamma=1, kernel='rbf',probability=True)\n",
    "clf_best.fit(X_train_selected_t1_norm,y_train_t1_balanced)"
   ]
  },
  {
   "cell_type": "code",
   "execution_count": 15,
   "id": "86789788",
   "metadata": {},
   "outputs": [
    {
     "data": {
      "text/html": [
       "<div>\n",
       "<style scoped>\n",
       "    .dataframe tbody tr th:only-of-type {\n",
       "        vertical-align: middle;\n",
       "    }\n",
       "\n",
       "    .dataframe tbody tr th {\n",
       "        vertical-align: top;\n",
       "    }\n",
       "\n",
       "    .dataframe thead th {\n",
       "        text-align: right;\n",
       "    }\n",
       "</style>\n",
       "<table border=\"1\" class=\"dataframe\">\n",
       "  <thead>\n",
       "    <tr style=\"text-align: right;\">\n",
       "      <th></th>\n",
       "      <th>0</th>\n",
       "      <th>1</th>\n",
       "      <th>2</th>\n",
       "      <th>3</th>\n",
       "      <th>4</th>\n",
       "      <th>5</th>\n",
       "      <th>6</th>\n",
       "      <th>7</th>\n",
       "      <th>8</th>\n",
       "      <th>9</th>\n",
       "      <th>...</th>\n",
       "      <th>35</th>\n",
       "      <th>36</th>\n",
       "      <th>37</th>\n",
       "      <th>38</th>\n",
       "      <th>39</th>\n",
       "      <th>40</th>\n",
       "      <th>41</th>\n",
       "      <th>42</th>\n",
       "      <th>43</th>\n",
       "      <th>44</th>\n",
       "    </tr>\n",
       "  </thead>\n",
       "  <tbody>\n",
       "    <tr>\n",
       "      <th>0</th>\n",
       "      <td>-0.280575</td>\n",
       "      <td>-2.657304</td>\n",
       "      <td>-0.429425</td>\n",
       "      <td>0.775220</td>\n",
       "      <td>-0.300847</td>\n",
       "      <td>0.592858</td>\n",
       "      <td>-1.690252</td>\n",
       "      <td>-0.064088</td>\n",
       "      <td>-0.170302</td>\n",
       "      <td>0.849769</td>\n",
       "      <td>...</td>\n",
       "      <td>0.368876</td>\n",
       "      <td>0.209845</td>\n",
       "      <td>-0.666700</td>\n",
       "      <td>0.146045</td>\n",
       "      <td>1.238141</td>\n",
       "      <td>0.712455</td>\n",
       "      <td>0.025072</td>\n",
       "      <td>-0.029214</td>\n",
       "      <td>1.361607</td>\n",
       "      <td>0.385414</td>\n",
       "    </tr>\n",
       "    <tr>\n",
       "      <th>1</th>\n",
       "      <td>-0.284743</td>\n",
       "      <td>-0.271004</td>\n",
       "      <td>-0.563926</td>\n",
       "      <td>1.592273</td>\n",
       "      <td>-0.461203</td>\n",
       "      <td>1.466872</td>\n",
       "      <td>-0.044352</td>\n",
       "      <td>-0.020925</td>\n",
       "      <td>-0.145751</td>\n",
       "      <td>-0.334678</td>\n",
       "      <td>...</td>\n",
       "      <td>-0.150557</td>\n",
       "      <td>-0.537369</td>\n",
       "      <td>1.983417</td>\n",
       "      <td>-0.442836</td>\n",
       "      <td>0.114812</td>\n",
       "      <td>0.135240</td>\n",
       "      <td>0.025072</td>\n",
       "      <td>-0.029214</td>\n",
       "      <td>0.066358</td>\n",
       "      <td>-0.198802</td>\n",
       "    </tr>\n",
       "    <tr>\n",
       "      <th>2</th>\n",
       "      <td>-0.309753</td>\n",
       "      <td>0.160980</td>\n",
       "      <td>-0.492192</td>\n",
       "      <td>-0.526526</td>\n",
       "      <td>-0.407751</td>\n",
       "      <td>-0.546787</td>\n",
       "      <td>1.041485</td>\n",
       "      <td>-0.063189</td>\n",
       "      <td>-0.070044</td>\n",
       "      <td>-0.665221</td>\n",
       "      <td>...</td>\n",
       "      <td>-0.233828</td>\n",
       "      <td>-0.129798</td>\n",
       "      <td>2.209515</td>\n",
       "      <td>0.264002</td>\n",
       "      <td>1.238428</td>\n",
       "      <td>1.602646</td>\n",
       "      <td>0.025072</td>\n",
       "      <td>-0.029214</td>\n",
       "      <td>0.066358</td>\n",
       "      <td>-0.198802</td>\n",
       "    </tr>\n",
       "    <tr>\n",
       "      <th>3</th>\n",
       "      <td>-0.057696</td>\n",
       "      <td>0.160980</td>\n",
       "      <td>-0.085038</td>\n",
       "      <td>-0.277256</td>\n",
       "      <td>-0.100543</td>\n",
       "      <td>-0.546787</td>\n",
       "      <td>1.498680</td>\n",
       "      <td>-0.020925</td>\n",
       "      <td>-0.070044</td>\n",
       "      <td>0.161137</td>\n",
       "      <td>...</td>\n",
       "      <td>-0.150557</td>\n",
       "      <td>0.583452</td>\n",
       "      <td>-0.694348</td>\n",
       "      <td>-0.066437</td>\n",
       "      <td>0.114812</td>\n",
       "      <td>0.135240</td>\n",
       "      <td>0.025072</td>\n",
       "      <td>-0.029214</td>\n",
       "      <td>0.066358</td>\n",
       "      <td>-0.168749</td>\n",
       "    </tr>\n",
       "    <tr>\n",
       "      <th>4</th>\n",
       "      <td>-0.057696</td>\n",
       "      <td>0.160980</td>\n",
       "      <td>-0.085038</td>\n",
       "      <td>1.093732</td>\n",
       "      <td>-0.100543</td>\n",
       "      <td>0.181558</td>\n",
       "      <td>0.355693</td>\n",
       "      <td>-0.065852</td>\n",
       "      <td>-0.116691</td>\n",
       "      <td>1.097676</td>\n",
       "      <td>...</td>\n",
       "      <td>0.012173</td>\n",
       "      <td>0.889131</td>\n",
       "      <td>0.845389</td>\n",
       "      <td>-0.031566</td>\n",
       "      <td>0.739904</td>\n",
       "      <td>1.068531</td>\n",
       "      <td>-2.148262</td>\n",
       "      <td>-0.464735</td>\n",
       "      <td>0.066358</td>\n",
       "      <td>-0.365767</td>\n",
       "    </tr>\n",
       "    <tr>\n",
       "      <th>...</th>\n",
       "      <td>...</td>\n",
       "      <td>...</td>\n",
       "      <td>...</td>\n",
       "      <td>...</td>\n",
       "      <td>...</td>\n",
       "      <td>...</td>\n",
       "      <td>...</td>\n",
       "      <td>...</td>\n",
       "      <td>...</td>\n",
       "      <td>...</td>\n",
       "      <td>...</td>\n",
       "      <td>...</td>\n",
       "      <td>...</td>\n",
       "      <td>...</td>\n",
       "      <td>...</td>\n",
       "      <td>...</td>\n",
       "      <td>...</td>\n",
       "      <td>...</td>\n",
       "      <td>...</td>\n",
       "      <td>...</td>\n",
       "      <td>...</td>\n",
       "    </tr>\n",
       "    <tr>\n",
       "      <th>31065</th>\n",
       "      <td>-0.212840</td>\n",
       "      <td>-3.253879</td>\n",
       "      <td>0.032363</td>\n",
       "      <td>0.692130</td>\n",
       "      <td>-0.340936</td>\n",
       "      <td>-0.444438</td>\n",
       "      <td>-2.362074</td>\n",
       "      <td>-0.080882</td>\n",
       "      <td>-0.070044</td>\n",
       "      <td>1.268457</td>\n",
       "      <td>...</td>\n",
       "      <td>2.004786</td>\n",
       "      <td>1.480109</td>\n",
       "      <td>-1.180774</td>\n",
       "      <td>-4.410317</td>\n",
       "      <td>-2.068234</td>\n",
       "      <td>-2.133191</td>\n",
       "      <td>0.025072</td>\n",
       "      <td>3.551292</td>\n",
       "      <td>0.943910</td>\n",
       "      <td>0.201913</td>\n",
       "    </tr>\n",
       "    <tr>\n",
       "      <th>31066</th>\n",
       "      <td>-0.278491</td>\n",
       "      <td>-1.066437</td>\n",
       "      <td>0.063747</td>\n",
       "      <td>0.844462</td>\n",
       "      <td>1.463072</td>\n",
       "      <td>0.931324</td>\n",
       "      <td>0.241394</td>\n",
       "      <td>-0.020925</td>\n",
       "      <td>-0.070044</td>\n",
       "      <td>1.318038</td>\n",
       "      <td>...</td>\n",
       "      <td>0.684578</td>\n",
       "      <td>0.787238</td>\n",
       "      <td>-0.753669</td>\n",
       "      <td>-1.338730</td>\n",
       "      <td>-0.844012</td>\n",
       "      <td>-0.711852</td>\n",
       "      <td>0.025072</td>\n",
       "      <td>-0.029214</td>\n",
       "      <td>-1.177605</td>\n",
       "      <td>-0.900053</td>\n",
       "    </tr>\n",
       "    <tr>\n",
       "      <th>31067</th>\n",
       "      <td>-0.211798</td>\n",
       "      <td>0.160980</td>\n",
       "      <td>-0.259057</td>\n",
       "      <td>1.301458</td>\n",
       "      <td>-0.434477</td>\n",
       "      <td>-0.282583</td>\n",
       "      <td>0.012797</td>\n",
       "      <td>-0.020925</td>\n",
       "      <td>-0.070044</td>\n",
       "      <td>-1.216127</td>\n",
       "      <td>...</td>\n",
       "      <td>-0.150557</td>\n",
       "      <td>-1.216655</td>\n",
       "      <td>0.525707</td>\n",
       "      <td>-0.061046</td>\n",
       "      <td>-0.479585</td>\n",
       "      <td>0.135240</td>\n",
       "      <td>0.173008</td>\n",
       "      <td>-0.029214</td>\n",
       "      <td>0.382605</td>\n",
       "      <td>0.339937</td>\n",
       "    </tr>\n",
       "    <tr>\n",
       "      <th>31068</th>\n",
       "      <td>-0.300374</td>\n",
       "      <td>-2.060729</td>\n",
       "      <td>2.014016</td>\n",
       "      <td>-1.025067</td>\n",
       "      <td>-0.113764</td>\n",
       "      <td>1.274075</td>\n",
       "      <td>-0.615845</td>\n",
       "      <td>-0.020925</td>\n",
       "      <td>-0.070044</td>\n",
       "      <td>-0.499950</td>\n",
       "      <td>...</td>\n",
       "      <td>-0.150557</td>\n",
       "      <td>-0.639262</td>\n",
       "      <td>-0.301081</td>\n",
       "      <td>-1.060175</td>\n",
       "      <td>0.114812</td>\n",
       "      <td>0.135240</td>\n",
       "      <td>0.025072</td>\n",
       "      <td>-0.029214</td>\n",
       "      <td>0.066358</td>\n",
       "      <td>0.368877</td>\n",
       "    </tr>\n",
       "    <tr>\n",
       "      <th>31069</th>\n",
       "      <td>-0.197209</td>\n",
       "      <td>-1.066437</td>\n",
       "      <td>0.216181</td>\n",
       "      <td>-0.900432</td>\n",
       "      <td>-0.381025</td>\n",
       "      <td>-0.032661</td>\n",
       "      <td>-0.387248</td>\n",
       "      <td>-0.052064</td>\n",
       "      <td>-0.070044</td>\n",
       "      <td>0.078501</td>\n",
       "      <td>...</td>\n",
       "      <td>0.777853</td>\n",
       "      <td>-0.027905</td>\n",
       "      <td>-0.183404</td>\n",
       "      <td>-1.620484</td>\n",
       "      <td>2.502090</td>\n",
       "      <td>2.166434</td>\n",
       "      <td>0.633613</td>\n",
       "      <td>-0.029214</td>\n",
       "      <td>-0.009781</td>\n",
       "      <td>-0.035177</td>\n",
       "    </tr>\n",
       "  </tbody>\n",
       "</table>\n",
       "<p>31070 rows × 45 columns</p>\n",
       "</div>"
      ],
      "text/plain": [
       "             0         1         2         3         4         5         6   \\\n",
       "0     -0.280575 -2.657304 -0.429425  0.775220 -0.300847  0.592858 -1.690252   \n",
       "1     -0.284743 -0.271004 -0.563926  1.592273 -0.461203  1.466872 -0.044352   \n",
       "2     -0.309753  0.160980 -0.492192 -0.526526 -0.407751 -0.546787  1.041485   \n",
       "3     -0.057696  0.160980 -0.085038 -0.277256 -0.100543 -0.546787  1.498680   \n",
       "4     -0.057696  0.160980 -0.085038  1.093732 -0.100543  0.181558  0.355693   \n",
       "...         ...       ...       ...       ...       ...       ...       ...   \n",
       "31065 -0.212840 -3.253879  0.032363  0.692130 -0.340936 -0.444438 -2.362074   \n",
       "31066 -0.278491 -1.066437  0.063747  0.844462  1.463072  0.931324  0.241394   \n",
       "31067 -0.211798  0.160980 -0.259057  1.301458 -0.434477 -0.282583  0.012797   \n",
       "31068 -0.300374 -2.060729  2.014016 -1.025067 -0.113764  1.274075 -0.615845   \n",
       "31069 -0.197209 -1.066437  0.216181 -0.900432 -0.381025 -0.032661 -0.387248   \n",
       "\n",
       "             7         8         9   ...        35        36        37  \\\n",
       "0     -0.064088 -0.170302  0.849769  ...  0.368876  0.209845 -0.666700   \n",
       "1     -0.020925 -0.145751 -0.334678  ... -0.150557 -0.537369  1.983417   \n",
       "2     -0.063189 -0.070044 -0.665221  ... -0.233828 -0.129798  2.209515   \n",
       "3     -0.020925 -0.070044  0.161137  ... -0.150557  0.583452 -0.694348   \n",
       "4     -0.065852 -0.116691  1.097676  ...  0.012173  0.889131  0.845389   \n",
       "...         ...       ...       ...  ...       ...       ...       ...   \n",
       "31065 -0.080882 -0.070044  1.268457  ...  2.004786  1.480109 -1.180774   \n",
       "31066 -0.020925 -0.070044  1.318038  ...  0.684578  0.787238 -0.753669   \n",
       "31067 -0.020925 -0.070044 -1.216127  ... -0.150557 -1.216655  0.525707   \n",
       "31068 -0.020925 -0.070044 -0.499950  ... -0.150557 -0.639262 -0.301081   \n",
       "31069 -0.052064 -0.070044  0.078501  ...  0.777853 -0.027905 -0.183404   \n",
       "\n",
       "             38        39        40        41        42        43        44  \n",
       "0      0.146045  1.238141  0.712455  0.025072 -0.029214  1.361607  0.385414  \n",
       "1     -0.442836  0.114812  0.135240  0.025072 -0.029214  0.066358 -0.198802  \n",
       "2      0.264002  1.238428  1.602646  0.025072 -0.029214  0.066358 -0.198802  \n",
       "3     -0.066437  0.114812  0.135240  0.025072 -0.029214  0.066358 -0.168749  \n",
       "4     -0.031566  0.739904  1.068531 -2.148262 -0.464735  0.066358 -0.365767  \n",
       "...         ...       ...       ...       ...       ...       ...       ...  \n",
       "31065 -4.410317 -2.068234 -2.133191  0.025072  3.551292  0.943910  0.201913  \n",
       "31066 -1.338730 -0.844012 -0.711852  0.025072 -0.029214 -1.177605 -0.900053  \n",
       "31067 -0.061046 -0.479585  0.135240  0.173008 -0.029214  0.382605  0.339937  \n",
       "31068 -1.060175  0.114812  0.135240  0.025072 -0.029214  0.066358  0.368877  \n",
       "31069 -1.620484  2.502090  2.166434  0.633613 -0.029214 -0.009781 -0.035177  \n",
       "\n",
       "[31070 rows x 45 columns]"
      ]
     },
     "execution_count": 15,
     "metadata": {},
     "output_type": "execute_result"
    }
   ],
   "source": [
    "X_train_selected_t1_norm"
   ]
  },
  {
   "cell_type": "code",
   "execution_count": 16,
   "id": "8b254696",
   "metadata": {},
   "outputs": [
    {
     "name": "stdout",
     "output_type": "stream",
     "text": [
      "0.7878224568512407\n"
     ]
    }
   ],
   "source": [
    "y_valid_score = clf_best.decision_function(X_valid_selected_t1_norm)\n",
    "# compute ROC curve and AUC for each learning rate\n",
    "fpr, tpr, thresholds = roc_curve(y_valid_t1_balanced,y_valid_score)\n",
    "roc_auc = auc(fpr, tpr)\n",
    "\n",
    "print(roc_auc)\n",
    "\n",
    "pred_test_y = clf_best.predict_proba(X_test_selected_t1_norm)"
   ]
  },
  {
   "cell_type": "code",
   "execution_count": 31,
   "id": "a7f232ee",
   "metadata": {},
   "outputs": [],
   "source": [
    "sns.set_theme(style=\"whitegrid\")\n",
    "\n",
    "plt.plot(fpr, tpr, color='darkorange', lw=2, label='ROC curve (area = %0.2f)' % roc_auc)\n",
    "plt.plot([0, 1], [0, 1], color='navy', lw=2, linestyle='--')\n",
    "plt.xlim([0.0, 1.0])\n",
    "plt.ylim([0.0, 1.05])\n",
    "plt.xlabel('False Positive Rate')\n",
    "plt.ylabel('True Positive Rate')\n",
    "plt.title('ROC Curve')\n",
    "plt.legend(loc=\"lower right\")\n",
    "\n",
    "plt.savefig('ruc.png')"
   ]
  },
  {
   "cell_type": "code",
   "execution_count": 25,
   "id": "a72ca025",
   "metadata": {},
   "outputs": [],
   "source": [
    "pred_valid_y=clf_best.predict(X_valid_selected_t1_norm)"
   ]
  },
  {
   "cell_type": "code",
   "execution_count": 39,
   "id": "ce6f616a",
   "metadata": {},
   "outputs": [
    {
     "name": "stdout",
     "output_type": "stream",
     "text": [
      "AxesSubplot(0.715718,0.06;0.127849x0.22191)\n"
     ]
    }
   ],
   "source": [
    "cm=confusion_matrix(y_valid_t1_balanced,pred_valid_y)\n",
    "print(sns.heatmap(cm, annot=True))\n",
    "plt.savefig('confusion.png')"
   ]
  },
  {
   "cell_type": "code",
   "execution_count": null,
   "id": "ff8b22cf",
   "metadata": {},
   "outputs": [],
   "source": [
    "pd.DataFrame(pred_test_y).to_excel(excel_writer=\"C:/Users/16225/Documents/GitHub/Jebva-LOS-and-Mortality-Project-/prediction/SVMpred5.xlsx\")"
   ]
  }
 ],
 "metadata": {
  "kernelspec": {
   "display_name": "Python 3 (ipykernel)",
   "language": "python",
   "name": "python3"
  },
  "language_info": {
   "codemirror_mode": {
    "name": "ipython",
    "version": 3
   },
   "file_extension": ".py",
   "mimetype": "text/x-python",
   "name": "python",
   "nbconvert_exporter": "python",
   "pygments_lexer": "ipython3",
   "version": "3.9.7"
  }
 },
 "nbformat": 4,
 "nbformat_minor": 5
}
