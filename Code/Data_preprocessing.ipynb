{
 "cells": [
  {
   "cell_type": "markdown",
   "id": "a4f47b56",
   "metadata": {
    "ExecuteTime": {
     "end_time": "2022-10-25T14:31:30.264761Z",
     "start_time": "2022-10-25T14:31:30.261019Z"
    }
   },
   "source": [
    "# Libraries"
   ]
  },
  {
   "cell_type": "code",
   "execution_count": 2,
   "id": "53e04bcf",
   "metadata": {
    "ExecuteTime": {
     "end_time": "2022-10-25T14:31:40.461218Z",
     "start_time": "2022-10-25T14:31:40.222359Z"
    }
   },
   "outputs": [],
   "source": [
    "import numpy as np\n",
    "import pandas as pd"
   ]
  },
  {
   "cell_type": "code",
   "execution_count": null,
   "id": "5329bcb5",
   "metadata": {},
   "outputs": [],
   "source": [
    "X_valid = pd.read_csv(\"../X/X_valid.csv\", index_col=[0], header=[0, 1, 2])"
   ]
  },
  {
   "cell_type": "code",
   "execution_count": 3,
   "id": "f8f37436",
   "metadata": {
    "ExecuteTime": {
     "end_time": "2022-10-25T14:32:42.250754Z",
     "start_time": "2022-10-25T14:32:39.727567Z"
    },
    "scrolled": false
   },
   "outputs": [],
   "source": [
    "X_valid = pd.read_csv(\"../X/X_valid.csv\", index_col=[0], header=[0, 1, 2])"
   ]
  },
  {
   "cell_type": "code",
   "execution_count": 8,
   "id": "2fc2e8b3",
   "metadata": {
    "ExecuteTime": {
     "end_time": "2022-10-24T00:54:01.813974Z",
     "start_time": "2022-10-24T00:46:09.975441Z"
    }
   },
   "outputs": [],
   "source": [
    "import openpyxl\n",
    "X_valid.to_excel('Xvalid.xlsx', sheet_name='new_sheet_name')"
   ]
  }
 ],
 "metadata": {
  "kernelspec": {
   "display_name": "comp3340",
   "language": "python",
   "name": "comp3340"
  },
  "language_info": {
   "codemirror_mode": {
    "name": "ipython",
    "version": 3
   },
   "file_extension": ".py",
   "mimetype": "text/x-python",
   "name": "python",
   "nbconvert_exporter": "python",
   "pygments_lexer": "ipython3",
   "version": "3.7.13"
  },
  "toc": {
   "base_numbering": 1,
   "nav_menu": {},
   "number_sections": true,
   "sideBar": true,
   "skip_h1_title": false,
   "title_cell": "Table of Contents",
   "title_sidebar": "Contents",
   "toc_cell": false,
   "toc_position": {},
   "toc_section_display": true,
   "toc_window_display": false
  }
 },
 "nbformat": 4,
 "nbformat_minor": 5
}
