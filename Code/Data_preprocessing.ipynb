{
 "cells": [
  {
   "cell_type": "markdown",
   "id": "ef20a47f",
   "metadata": {
    "ExecuteTime": {
     "end_time": "2022-10-25T14:31:30.264761Z",
     "start_time": "2022-10-25T14:31:30.261019Z"
    }
   },
   "source": [
    "# Libraries"
   ]
  },
  {
   "cell_type": "code",
   "execution_count": 1,
   "id": "13f6d23e",
   "metadata": {
    "ExecuteTime": {
     "end_time": "2022-10-27T04:24:31.948223Z",
     "start_time": "2022-10-27T04:24:31.679655Z"
    }
   },
   "outputs": [],
   "source": [
    "import numpy as np\n",
    "import pandas as pd"
   ]
  },
  {
   "cell_type": "markdown",
   "id": "e2457a8a",
   "metadata": {},
   "source": [
    "# Import data"
   ]
  },
  {
   "cell_type": "markdown",
   "id": "9604885a",
   "metadata": {
    "heading_collapsed": true
   },
   "source": [
    "## X"
   ]
  },
  {
   "cell_type": "code",
   "execution_count": 16,
   "id": "f546c14e",
   "metadata": {
    "ExecuteTime": {
     "end_time": "2022-10-27T04:24:48.786898Z",
     "start_time": "2022-10-27T04:24:31.950114Z"
    },
    "hidden": true
   },
   "outputs": [
    {
     "name": "stdout",
     "output_type": "stream",
     "text": [
      "1.0\n"
     ]
    }
   ],
   "source": [
    "# For training the model\n",
    "X_train = pd.read_csv(\"../X/X_train.csv\", index_col=[0], header=[0, 1, 2])\n"
   ]
  },
  {
   "cell_type": "code",
   "execution_count": 20,
   "id": "ce970fb5",
   "metadata": {
    "ExecuteTime": {
     "end_time": "2022-10-27T04:24:48.833738Z",
     "start_time": "2022-10-27T04:24:48.788190Z"
    },
    "hidden": true
   },
   "outputs": [
    {
     "data": {
      "text/html": [
       "<div>\n",
       "<style scoped>\n",
       "    .dataframe tbody tr th:only-of-type {\n",
       "        vertical-align: middle;\n",
       "    }\n",
       "\n",
       "    .dataframe tbody tr th {\n",
       "        vertical-align: top;\n",
       "    }\n",
       "\n",
       "    .dataframe thead tr th {\n",
       "        text-align: left;\n",
       "    }\n",
       "</style>\n",
       "<table border=\"1\" class=\"dataframe\">\n",
       "  <thead>\n",
       "    <tr>\n",
       "      <th>LEVEL2</th>\n",
       "      <th colspan=\"10\" halign=\"left\">alanine aminotransferase</th>\n",
       "      <th>...</th>\n",
       "      <th colspan=\"10\" halign=\"left\">white blood cell count urine</th>\n",
       "    </tr>\n",
       "    <tr>\n",
       "      <th>Aggregation Function</th>\n",
       "      <th colspan=\"10\" halign=\"left\">mask</th>\n",
       "      <th>...</th>\n",
       "      <th colspan=\"10\" halign=\"left\">time_since_measured</th>\n",
       "    </tr>\n",
       "    <tr>\n",
       "      <th>hours_in</th>\n",
       "      <th>0</th>\n",
       "      <th>1</th>\n",
       "      <th>2</th>\n",
       "      <th>3</th>\n",
       "      <th>4</th>\n",
       "      <th>5</th>\n",
       "      <th>6</th>\n",
       "      <th>7</th>\n",
       "      <th>8</th>\n",
       "      <th>9</th>\n",
       "      <th>...</th>\n",
       "      <th>14</th>\n",
       "      <th>15</th>\n",
       "      <th>16</th>\n",
       "      <th>17</th>\n",
       "      <th>18</th>\n",
       "      <th>19</th>\n",
       "      <th>20</th>\n",
       "      <th>21</th>\n",
       "      <th>22</th>\n",
       "      <th>23</th>\n",
       "    </tr>\n",
       "  </thead>\n",
       "  <tbody>\n",
       "    <tr>\n",
       "      <th>3_145834_211552</th>\n",
       "      <td>1.0</td>\n",
       "      <td>0.0</td>\n",
       "      <td>0.0</td>\n",
       "      <td>0.0</td>\n",
       "      <td>0.0</td>\n",
       "      <td>0.0</td>\n",
       "      <td>0.0</td>\n",
       "      <td>0.0</td>\n",
       "      <td>0.0</td>\n",
       "      <td>0.0</td>\n",
       "      <td>...</td>\n",
       "      <td>6.0</td>\n",
       "      <td>7.0</td>\n",
       "      <td>8.0</td>\n",
       "      <td>9.0</td>\n",
       "      <td>10.0</td>\n",
       "      <td>11.0</td>\n",
       "      <td>12.0</td>\n",
       "      <td>13.0</td>\n",
       "      <td>14.0</td>\n",
       "      <td>15.0</td>\n",
       "    </tr>\n",
       "    <tr>\n",
       "      <th>6_107064_228232</th>\n",
       "      <td>1.0</td>\n",
       "      <td>0.0</td>\n",
       "      <td>0.0</td>\n",
       "      <td>0.0</td>\n",
       "      <td>0.0</td>\n",
       "      <td>0.0</td>\n",
       "      <td>0.0</td>\n",
       "      <td>0.0</td>\n",
       "      <td>0.0</td>\n",
       "      <td>0.0</td>\n",
       "      <td>...</td>\n",
       "      <td>30.0</td>\n",
       "      <td>31.0</td>\n",
       "      <td>32.0</td>\n",
       "      <td>33.0</td>\n",
       "      <td>34.0</td>\n",
       "      <td>35.0</td>\n",
       "      <td>36.0</td>\n",
       "      <td>37.0</td>\n",
       "      <td>38.0</td>\n",
       "      <td>39.0</td>\n",
       "    </tr>\n",
       "    <tr>\n",
       "      <th>9_150750_220597</th>\n",
       "      <td>0.0</td>\n",
       "      <td>0.0</td>\n",
       "      <td>0.0</td>\n",
       "      <td>0.0</td>\n",
       "      <td>0.0</td>\n",
       "      <td>0.0</td>\n",
       "      <td>0.0</td>\n",
       "      <td>0.0</td>\n",
       "      <td>0.0</td>\n",
       "      <td>0.0</td>\n",
       "      <td>...</td>\n",
       "      <td>54.0</td>\n",
       "      <td>55.0</td>\n",
       "      <td>56.0</td>\n",
       "      <td>57.0</td>\n",
       "      <td>58.0</td>\n",
       "      <td>59.0</td>\n",
       "      <td>60.0</td>\n",
       "      <td>61.0</td>\n",
       "      <td>62.0</td>\n",
       "      <td>63.0</td>\n",
       "    </tr>\n",
       "    <tr>\n",
       "      <th>11_194540_229441</th>\n",
       "      <td>0.0</td>\n",
       "      <td>0.0</td>\n",
       "      <td>0.0</td>\n",
       "      <td>0.0</td>\n",
       "      <td>0.0</td>\n",
       "      <td>0.0</td>\n",
       "      <td>0.0</td>\n",
       "      <td>0.0</td>\n",
       "      <td>0.0</td>\n",
       "      <td>0.0</td>\n",
       "      <td>...</td>\n",
       "      <td>78.0</td>\n",
       "      <td>79.0</td>\n",
       "      <td>80.0</td>\n",
       "      <td>81.0</td>\n",
       "      <td>82.0</td>\n",
       "      <td>83.0</td>\n",
       "      <td>84.0</td>\n",
       "      <td>85.0</td>\n",
       "      <td>86.0</td>\n",
       "      <td>87.0</td>\n",
       "    </tr>\n",
       "    <tr>\n",
       "      <th>12_112213_232669</th>\n",
       "      <td>0.0</td>\n",
       "      <td>0.0</td>\n",
       "      <td>0.0</td>\n",
       "      <td>0.0</td>\n",
       "      <td>0.0</td>\n",
       "      <td>0.0</td>\n",
       "      <td>0.0</td>\n",
       "      <td>0.0</td>\n",
       "      <td>0.0</td>\n",
       "      <td>0.0</td>\n",
       "      <td>...</td>\n",
       "      <td>102.0</td>\n",
       "      <td>103.0</td>\n",
       "      <td>104.0</td>\n",
       "      <td>105.0</td>\n",
       "      <td>106.0</td>\n",
       "      <td>107.0</td>\n",
       "      <td>108.0</td>\n",
       "      <td>109.0</td>\n",
       "      <td>110.0</td>\n",
       "      <td>111.0</td>\n",
       "    </tr>\n",
       "    <tr>\n",
       "      <th>...</th>\n",
       "      <td>...</td>\n",
       "      <td>...</td>\n",
       "      <td>...</td>\n",
       "      <td>...</td>\n",
       "      <td>...</td>\n",
       "      <td>...</td>\n",
       "      <td>...</td>\n",
       "      <td>...</td>\n",
       "      <td>...</td>\n",
       "      <td>...</td>\n",
       "      <td>...</td>\n",
       "      <td>...</td>\n",
       "      <td>...</td>\n",
       "      <td>...</td>\n",
       "      <td>...</td>\n",
       "      <td>...</td>\n",
       "      <td>...</td>\n",
       "      <td>...</td>\n",
       "      <td>...</td>\n",
       "      <td>...</td>\n",
       "      <td>...</td>\n",
       "    </tr>\n",
       "    <tr>\n",
       "      <th>99966_167228_252173</th>\n",
       "      <td>0.0</td>\n",
       "      <td>0.0</td>\n",
       "      <td>0.0</td>\n",
       "      <td>0.0</td>\n",
       "      <td>0.0</td>\n",
       "      <td>0.0</td>\n",
       "      <td>0.0</td>\n",
       "      <td>0.0</td>\n",
       "      <td>0.0</td>\n",
       "      <td>0.0</td>\n",
       "      <td>...</td>\n",
       "      <td>86.0</td>\n",
       "      <td>87.0</td>\n",
       "      <td>88.0</td>\n",
       "      <td>89.0</td>\n",
       "      <td>90.0</td>\n",
       "      <td>91.0</td>\n",
       "      <td>92.0</td>\n",
       "      <td>93.0</td>\n",
       "      <td>94.0</td>\n",
       "      <td>95.0</td>\n",
       "    </tr>\n",
       "    <tr>\n",
       "      <th>99973_150202_275083</th>\n",
       "      <td>0.0</td>\n",
       "      <td>0.0</td>\n",
       "      <td>0.0</td>\n",
       "      <td>0.0</td>\n",
       "      <td>0.0</td>\n",
       "      <td>0.0</td>\n",
       "      <td>0.0</td>\n",
       "      <td>0.0</td>\n",
       "      <td>0.0</td>\n",
       "      <td>0.0</td>\n",
       "      <td>...</td>\n",
       "      <td>110.0</td>\n",
       "      <td>111.0</td>\n",
       "      <td>112.0</td>\n",
       "      <td>113.0</td>\n",
       "      <td>114.0</td>\n",
       "      <td>115.0</td>\n",
       "      <td>116.0</td>\n",
       "      <td>117.0</td>\n",
       "      <td>118.0</td>\n",
       "      <td>119.0</td>\n",
       "    </tr>\n",
       "    <tr>\n",
       "      <th>99982_151454_221194</th>\n",
       "      <td>0.0</td>\n",
       "      <td>0.0</td>\n",
       "      <td>0.0</td>\n",
       "      <td>0.0</td>\n",
       "      <td>0.0</td>\n",
       "      <td>0.0</td>\n",
       "      <td>0.0</td>\n",
       "      <td>0.0</td>\n",
       "      <td>0.0</td>\n",
       "      <td>0.0</td>\n",
       "      <td>...</td>\n",
       "      <td>134.0</td>\n",
       "      <td>135.0</td>\n",
       "      <td>136.0</td>\n",
       "      <td>137.0</td>\n",
       "      <td>138.0</td>\n",
       "      <td>139.0</td>\n",
       "      <td>140.0</td>\n",
       "      <td>141.0</td>\n",
       "      <td>142.0</td>\n",
       "      <td>143.0</td>\n",
       "    </tr>\n",
       "    <tr>\n",
       "      <th>99991_151118_226241</th>\n",
       "      <td>0.0</td>\n",
       "      <td>0.0</td>\n",
       "      <td>0.0</td>\n",
       "      <td>0.0</td>\n",
       "      <td>0.0</td>\n",
       "      <td>0.0</td>\n",
       "      <td>0.0</td>\n",
       "      <td>0.0</td>\n",
       "      <td>0.0</td>\n",
       "      <td>0.0</td>\n",
       "      <td>...</td>\n",
       "      <td>14.0</td>\n",
       "      <td>15.0</td>\n",
       "      <td>16.0</td>\n",
       "      <td>17.0</td>\n",
       "      <td>18.0</td>\n",
       "      <td>19.0</td>\n",
       "      <td>20.0</td>\n",
       "      <td>21.0</td>\n",
       "      <td>22.0</td>\n",
       "      <td>23.0</td>\n",
       "    </tr>\n",
       "    <tr>\n",
       "      <th>99995_137810_229633</th>\n",
       "      <td>0.0</td>\n",
       "      <td>1.0</td>\n",
       "      <td>1.0</td>\n",
       "      <td>0.0</td>\n",
       "      <td>0.0</td>\n",
       "      <td>0.0</td>\n",
       "      <td>0.0</td>\n",
       "      <td>0.0</td>\n",
       "      <td>0.0</td>\n",
       "      <td>0.0</td>\n",
       "      <td>...</td>\n",
       "      <td>38.0</td>\n",
       "      <td>39.0</td>\n",
       "      <td>40.0</td>\n",
       "      <td>41.0</td>\n",
       "      <td>42.0</td>\n",
       "      <td>43.0</td>\n",
       "      <td>44.0</td>\n",
       "      <td>45.0</td>\n",
       "      <td>46.0</td>\n",
       "      <td>47.0</td>\n",
       "    </tr>\n",
       "  </tbody>\n",
       "</table>\n",
       "<p>16760 rows × 7488 columns</p>\n",
       "</div>"
      ],
      "text/plain": [
       "LEVEL2               alanine aminotransferase                                \\\n",
       "Aggregation Function                     mask                                 \n",
       "hours_in                                    0    1    2    3    4    5    6   \n",
       "3_145834_211552                           1.0  0.0  0.0  0.0  0.0  0.0  0.0   \n",
       "6_107064_228232                           1.0  0.0  0.0  0.0  0.0  0.0  0.0   \n",
       "9_150750_220597                           0.0  0.0  0.0  0.0  0.0  0.0  0.0   \n",
       "11_194540_229441                          0.0  0.0  0.0  0.0  0.0  0.0  0.0   \n",
       "12_112213_232669                          0.0  0.0  0.0  0.0  0.0  0.0  0.0   \n",
       "...                                       ...  ...  ...  ...  ...  ...  ...   \n",
       "99966_167228_252173                       0.0  0.0  0.0  0.0  0.0  0.0  0.0   \n",
       "99973_150202_275083                       0.0  0.0  0.0  0.0  0.0  0.0  0.0   \n",
       "99982_151454_221194                       0.0  0.0  0.0  0.0  0.0  0.0  0.0   \n",
       "99991_151118_226241                       0.0  0.0  0.0  0.0  0.0  0.0  0.0   \n",
       "99995_137810_229633                       0.0  1.0  1.0  0.0  0.0  0.0  0.0   \n",
       "\n",
       "LEVEL2                               ... white blood cell count urine         \\\n",
       "Aggregation Function                 ...          time_since_measured          \n",
       "hours_in                7    8    9  ...                           14     15   \n",
       "3_145834_211552       0.0  0.0  0.0  ...                          6.0    7.0   \n",
       "6_107064_228232       0.0  0.0  0.0  ...                         30.0   31.0   \n",
       "9_150750_220597       0.0  0.0  0.0  ...                         54.0   55.0   \n",
       "11_194540_229441      0.0  0.0  0.0  ...                         78.0   79.0   \n",
       "12_112213_232669      0.0  0.0  0.0  ...                        102.0  103.0   \n",
       "...                   ...  ...  ...  ...                          ...    ...   \n",
       "99966_167228_252173   0.0  0.0  0.0  ...                         86.0   87.0   \n",
       "99973_150202_275083   0.0  0.0  0.0  ...                        110.0  111.0   \n",
       "99982_151454_221194   0.0  0.0  0.0  ...                        134.0  135.0   \n",
       "99991_151118_226241   0.0  0.0  0.0  ...                         14.0   15.0   \n",
       "99995_137810_229633   0.0  0.0  0.0  ...                         38.0   39.0   \n",
       "\n",
       "LEVEL2                                                                        \n",
       "Aggregation Function                                                          \n",
       "hours_in                 16     17     18     19     20     21     22     23  \n",
       "3_145834_211552         8.0    9.0   10.0   11.0   12.0   13.0   14.0   15.0  \n",
       "6_107064_228232        32.0   33.0   34.0   35.0   36.0   37.0   38.0   39.0  \n",
       "9_150750_220597        56.0   57.0   58.0   59.0   60.0   61.0   62.0   63.0  \n",
       "11_194540_229441       80.0   81.0   82.0   83.0   84.0   85.0   86.0   87.0  \n",
       "12_112213_232669      104.0  105.0  106.0  107.0  108.0  109.0  110.0  111.0  \n",
       "...                     ...    ...    ...    ...    ...    ...    ...    ...  \n",
       "99966_167228_252173    88.0   89.0   90.0   91.0   92.0   93.0   94.0   95.0  \n",
       "99973_150202_275083   112.0  113.0  114.0  115.0  116.0  117.0  118.0  119.0  \n",
       "99982_151454_221194   136.0  137.0  138.0  139.0  140.0  141.0  142.0  143.0  \n",
       "99991_151118_226241    16.0   17.0   18.0   19.0   20.0   21.0   22.0   23.0  \n",
       "99995_137810_229633    40.0   41.0   42.0   43.0   44.0   45.0   46.0   47.0  \n",
       "\n",
       "[16760 rows x 7488 columns]"
      ]
     },
     "execution_count": 20,
     "metadata": {},
     "output_type": "execute_result"
    }
   ],
   "source": [
    "X_train\n"
   ]
  },
  {
   "cell_type": "code",
   "execution_count": null,
   "id": "6bc2142a",
   "metadata": {},
   "outputs": [],
   "source": []
  },
  {
   "cell_type": "code",
   "execution_count": 21,
   "id": "f8f37436",
   "metadata": {
    "ExecuteTime": {
     "end_time": "2022-10-27T04:24:51.246997Z",
     "start_time": "2022-10-27T04:24:48.835423Z"
    },
    "hidden": true,
    "scrolled": false
   },
   "outputs": [],
   "source": [
    "# For cross validation\n",
    "X_valid = pd.read_csv(\"../X/X_valid.csv\", index_col=[0], header=[0, 1, 2])"
   ]
  },
  {
   "cell_type": "code",
   "execution_count": 22,
   "id": "f36f2de1",
   "metadata": {
    "ExecuteTime": {
     "end_time": "2022-10-27T04:24:56.086464Z",
     "start_time": "2022-10-27T04:24:51.248731Z"
    },
    "hidden": true
   },
   "outputs": [],
   "source": [
    "# For prediction\n",
    "X_test = pd.read_csv(\"../X/X_test.csv\", index_col=[0], header=[0, 1, 2])"
   ]
  },
  {
   "cell_type": "markdown",
   "id": "1517bf13",
   "metadata": {
    "heading_collapsed": true
   },
   "source": [
    "## Task 1"
   ]
  },
  {
   "cell_type": "code",
   "execution_count": 23,
   "id": "a44e85c0",
   "metadata": {
    "ExecuteTime": {
     "end_time": "2022-10-27T05:07:06.555426Z",
     "start_time": "2022-10-27T05:07:06.534240Z"
    },
    "hidden": true
   },
   "outputs": [],
   "source": [
    "y_train_t1 = pd.read_csv(\"../Task1/Y_train.csv\")\n",
    "y_valid_t1 = pd.read_csv(\"../Task1/Y_valid.csv\")"
   ]
  },
  {
   "cell_type": "markdown",
   "id": "b04af03f",
   "metadata": {
    "heading_collapsed": true
   },
   "source": [
    "## Task 2"
   ]
  },
  {
   "cell_type": "code",
   "execution_count": 24,
   "id": "94409666",
   "metadata": {
    "ExecuteTime": {
     "end_time": "2022-10-27T05:07:29.906313Z",
     "start_time": "2022-10-27T05:07:29.882713Z"
    },
    "hidden": true
   },
   "outputs": [],
   "source": [
    "y_train_t2 = pd.read_csv(\"../Task2/Y_train.csv\")\n",
    "y_valid_t2 = pd.read_csv(\"../Task2/Y_valid.csv\")"
   ]
  },
  {
   "cell_type": "markdown",
   "id": "aed0dc26",
   "metadata": {},
   "source": [
    "# Data Pre-processing"
   ]
  },
  {
   "cell_type": "markdown",
   "id": "668ec5a9",
   "metadata": {},
   "source": [
    "## Dealing with N/A data"
   ]
  },
  {
   "cell_type": "code",
   "execution_count": 25,
   "id": "dbb462d0",
   "metadata": {
    "ExecuteTime": {
     "end_time": "2022-10-27T05:08:09.179850Z",
     "start_time": "2022-10-27T05:08:08.912324Z"
    },
    "scrolled": true
   },
   "outputs": [
    {
     "name": "stdout",
     "output_type": "stream",
     "text": [
      "0\n",
      "0\n",
      "0\n"
     ]
    }
   ],
   "source": [
    "print(X_train.isna().sum().sum())\n",
    "print(X_valid.isna().sum().sum())\n",
    "print(X_test.isna().sum().sum()) "
   ]
  },
  {
   "cell_type": "markdown",
   "id": "da4029d9",
   "metadata": {},
   "source": [
    "All data are well-recorded. There is no N/A data"
   ]
  },
  {
   "cell_type": "markdown",
   "id": "edfbdb01",
   "metadata": {},
   "source": [
    "## Normalization"
   ]
  },
  {
   "cell_type": "markdown",
   "id": "34ada321",
   "metadata": {},
   "source": [
    "##  "
   ]
  },
  {
   "cell_type": "code",
   "execution_count": 27,
   "id": "4673047f",
   "metadata": {},
   "outputs": [],
   "source": [
    "from sklearn import preprocessing\n",
    "scaler = preprocessing.StandardScaler()\n",
    "x_train=X_train.values\n",
    "x_train_scaled = scaler.fit_transform(x_train)\n",
    "X_train_norm=pd.DataFrame(x_train_scaled)\n"
   ]
  },
  {
   "cell_type": "code",
   "execution_count": 28,
   "id": "67418d3f",
   "metadata": {},
   "outputs": [],
   "source": [
    "x_valid=X_valid.values\n",
    "x_valid_scaled = scaler.fit_transform(x_valid)\n",
    "X_valid_norm=pd.DataFrame(x_valid_scaled)\n"
   ]
  },
  {
   "cell_type": "code",
   "execution_count": 29,
   "id": "cb1f57a9",
   "metadata": {},
   "outputs": [],
   "source": [
    "y1_train=y_train_t1.values\n",
    "y1_train_scaled = scaler.fit_transform(y1_train)\n",
    "y_train_t1_norm=pd.DataFrame(y1_train_scaled)\n"
   ]
  },
  {
   "cell_type": "code",
   "execution_count": 30,
   "id": "070f3a56",
   "metadata": {},
   "outputs": [],
   "source": [
    "y1_valid=y_valid_t1.values\n",
    "y1_valid_scaled = scaler.fit_transform(y1_valid)\n",
    "y_valid_t1_norm=pd.DataFrame(y1_valid_scaled)"
   ]
  },
  {
   "cell_type": "code",
   "execution_count": 31,
   "id": "6d4d5293",
   "metadata": {},
   "outputs": [],
   "source": [
    "y2_train=y_train_t2.values\n",
    "y2_train_scaled = scaler.fit_transform(y2_train)\n",
    "y_train_t2_norm=pd.DataFrame(y2_train_scaled)"
   ]
  },
  {
   "cell_type": "code",
   "execution_count": 32,
   "id": "fc199e87",
   "metadata": {},
   "outputs": [],
   "source": [
    "y2_valid=y_valid_t2.values\n",
    "y2_valid_scaled = scaler.fit_transform(y2_valid)\n",
    "y_valid_t2_norm=pd.DataFrame(y2_valid_scaled)"
   ]
  },
  {
   "cell_type": "markdown",
   "id": "3926ff97",
   "metadata": {},
   "source": [
    "## Feature importance checking"
   ]
  },
  {
   "cell_type": "markdown",
   "id": "6dc85304",
   "metadata": {},
   "source": [
    "## "
   ]
  },
  {
   "cell_type": "markdown",
   "id": "5a279935",
   "metadata": {
    "ExecuteTime": {
     "end_time": "2022-10-25T14:36:30.344475Z",
     "start_time": "2022-10-25T14:36:30.341456Z"
    }
   },
   "source": [
    "# Export processed data when done"
   ]
  },
  {
   "cell_type": "markdown",
   "id": "47e0ced0",
   "metadata": {
    "ExecuteTime": {
     "end_time": "2022-10-24T00:54:01.813974Z",
     "start_time": "2022-10-24T00:46:09.975441Z"
    }
   },
   "source": [
    "import openpyxl\n",
    "X_valid.to_excel('Xvalid.xlsx', sheet_name='new_sheet_name')"
   ]
  }
 ],
 "metadata": {
  "kernelspec": {
   "display_name": "Python 3 (ipykernel)",
   "language": "python",
   "name": "python3"
  },
  "language_info": {
   "codemirror_mode": {
    "name": "ipython",
    "version": 3
   },
   "file_extension": ".py",
   "mimetype": "text/x-python",
   "name": "python",
   "nbconvert_exporter": "python",
   "pygments_lexer": "ipython3",
   "version": "3.9.12"
  },
  "toc": {
   "base_numbering": 1,
   "nav_menu": {},
   "number_sections": true,
   "sideBar": true,
   "skip_h1_title": false,
   "title_cell": "Table of Contents",
   "title_sidebar": "Contents",
   "toc_cell": false,
   "toc_position": {},
   "toc_section_display": true,
   "toc_window_display": true
  }
 },
 "nbformat": 4,
 "nbformat_minor": 5
}
