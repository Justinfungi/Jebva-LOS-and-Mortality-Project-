{
 "cells": [
  {
   "cell_type": "markdown",
   "id": "ef20a47f",
   "metadata": {
    "ExecuteTime": {
     "end_time": "2022-10-25T14:31:30.264761Z",
     "start_time": "2022-10-25T14:31:30.261019Z"
    }
   },
   "source": [
    "# Libraries"
   ]
  },
  {
   "cell_type": "code",
   "execution_count": 2,
   "id": "13f6d23e",
   "metadata": {
    "ExecuteTime": {
     "end_time": "2022-10-25T14:31:40.461218Z",
     "start_time": "2022-10-25T14:31:40.222359Z"
    }
   },
   "outputs": [],
   "source": [
    "import numpy as np\n",
    "import pandas as pd"
   ]
  },
  {
   "cell_type": "code",
   "execution_count": 5,
   "id": "f546c14e",
   "metadata": {
    "ExecuteTime": {
     "end_time": "2022-10-25T14:36:15.689238Z",
     "start_time": "2022-10-25T14:35:58.459815Z"
    }
   },
   "outputs": [],
   "source": [
    "# For training the model\n",
    "X_train = pd.read_csv(\"../X/X_train.csv\", index_col=[0], header=[0, 1, 2])"
   ]
  },
  {
   "cell_type": "code",
   "execution_count": 3,
   "id": "f8f37436",
   "metadata": {
    "ExecuteTime": {
     "end_time": "2022-10-25T14:32:42.250754Z",
     "start_time": "2022-10-25T14:32:39.727567Z"
    },
    "scrolled": false
   },
   "outputs": [],
   "source": [
    "# For cross validation\n",
    "X_valid = pd.read_csv(\"../X/X_valid.csv\", index_col=[0], header=[0, 1, 2])"
   ]
  },
  {
   "cell_type": "code",
   "execution_count": 4,
   "id": "f36f2de1",
   "metadata": {
    "ExecuteTime": {
     "end_time": "2022-10-25T14:35:24.929151Z",
     "start_time": "2022-10-25T14:35:19.977037Z"
    }
   },
   "outputs": [],
   "source": [
    "# For prediction\n",
    "X_test = pd.read_csv(\"../X/X_test.csv\", index_col=[0], header=[0, 1, 2])"
   ]
  },
  {
   "cell_type": "markdown",
   "id": "aed0dc26",
   "metadata": {},
   "source": [
    "# Data Pre-processing"
   ]
  },
  {
   "cell_type": "markdown",
   "id": "668ec5a9",
   "metadata": {},
   "source": [
    "## Dealing with N/A data"
   ]
  },
  {
   "cell_type": "code",
   "execution_count": 9,
   "id": "dbb462d0",
   "metadata": {
    "ExecuteTime": {
     "end_time": "2022-10-25T14:42:41.701045Z",
     "start_time": "2022-10-25T14:42:41.187928Z"
    },
    "scrolled": true
   },
   "outputs": [
    {
     "name": "stdout",
     "output_type": "stream",
     "text": [
      "0\n",
      "0\n",
      "0\n"
     ]
    }
   ],
   "source": [
    "print(X_train.isna().sum().sum())\n",
    "print(X_train.isna().sum().sum())\n",
    "print(X_train.isna().sum().sum()) "
   ]
  },
  {
   "cell_type": "markdown",
   "id": "da4029d9",
   "metadata": {},
   "source": [
    "All data are well-recorded. There is no N/A data"
   ]
  },
  {
   "cell_type": "markdown",
   "id": "edfbdb01",
   "metadata": {},
   "source": [
    "## Normalization"
   ]
  },
  {
   "cell_type": "markdown",
   "id": "34ada321",
   "metadata": {},
   "source": [
    "##  "
   ]
  },
  {
   "cell_type": "markdown",
   "id": "3926ff97",
   "metadata": {},
   "source": [
    "## Feature importance checking"
   ]
  },
  {
   "cell_type": "markdown",
   "id": "6dc85304",
   "metadata": {},
   "source": [
    "## "
   ]
  },
  {
   "cell_type": "markdown",
   "id": "5a279935",
   "metadata": {
    "ExecuteTime": {
     "end_time": "2022-10-25T14:36:30.344475Z",
     "start_time": "2022-10-25T14:36:30.341456Z"
    }
   },
   "source": [
    "# Export processed data when done"
   ]
  },
  {
   "cell_type": "code",
   "execution_count": 8,
   "id": "2fc2e8b3",
   "metadata": {
    "ExecuteTime": {
     "end_time": "2022-10-24T00:54:01.813974Z",
     "start_time": "2022-10-24T00:46:09.975441Z"
    }
   },
   "outputs": [],
   "source": [
    "import openpyxl\n",
    "X_valid.to_excel('Xvalid.xlsx', sheet_name='new_sheet_name')"
   ]
  }
 ],
 "metadata": {
  "kernelspec": {
   "display_name": "comp3340",
   "language": "python",
   "name": "comp3340"
  },
  "language_info": {
   "codemirror_mode": {
    "name": "ipython",
    "version": 3
   },
   "file_extension": ".py",
   "mimetype": "text/x-python",
   "name": "python",
   "nbconvert_exporter": "python",
   "pygments_lexer": "ipython3",
   "version": "3.7.13"
  },
  "toc": {
   "base_numbering": 1,
   "nav_menu": {},
   "number_sections": true,
   "sideBar": true,
   "skip_h1_title": false,
   "title_cell": "Table of Contents",
   "title_sidebar": "Contents",
   "toc_cell": false,
   "toc_position": {},
   "toc_section_display": true,
   "toc_window_display": true
  }
 },
 "nbformat": 4,
 "nbformat_minor": 5
}
