{
 "cells": [
  {
   "cell_type": "markdown",
   "id": "ef20a47f",
   "metadata": {
    "ExecuteTime": {
     "end_time": "2022-10-25T14:31:30.264761Z",
     "start_time": "2022-10-25T14:31:30.261019Z"
    }
   },
   "source": [
    "# Libraries"
   ]
  },
  {
   "cell_type": "markdown",
   "id": "c7dc3c25",
   "metadata": {},
   "source": [
    "! pip install numpy pandas sklearn"
   ]
  },
  {
   "cell_type": "code",
   "execution_count": 69,
   "id": "13f6d23e",
   "metadata": {
    "ExecuteTime": {
     "end_time": "2022-11-11T18:53:54.049657Z",
     "start_time": "2022-11-11T18:53:54.046786Z"
    }
   },
   "outputs": [],
   "source": [
    "import numpy as np\n",
    "import pandas as pd\n",
    "from sklearn import preprocessing\n",
    "from sklearn.impute import SimpleImputer\n",
    "\n",
    "import warnings\n",
    "warnings.filterwarnings(\"ignore\")"
   ]
  },
  {
   "cell_type": "markdown",
   "id": "e2457a8a",
   "metadata": {},
   "source": [
    "# Import data"
   ]
  },
  {
   "cell_type": "markdown",
   "id": "9604885a",
   "metadata": {},
   "source": [
    "## X"
   ]
  },
  {
   "cell_type": "code",
   "execution_count": 84,
   "id": "f546c14e",
   "metadata": {
    "ExecuteTime": {
     "end_time": "2022-11-11T18:58:03.514683Z",
     "start_time": "2022-11-11T18:57:39.418549Z"
    }
   },
   "outputs": [],
   "source": [
    "# For training the model\n",
    "X_train = pd.read_csv(\"../X/X_train.csv\" , index_col=[0], header=[0, 1, 2])\n",
    "\n",
    "# For cross validation\n",
    "X_valid = pd.read_csv(\"../X/X_valid.csv\", index_col=[0], header=[0, 1, 2])\n",
    "\n",
    "# For prediction\n",
    "X_test = pd.read_csv(\"../X/X_test.csv\", index_col=[0], header=[0, 1, 2])"
   ]
  },
  {
   "cell_type": "markdown",
   "id": "1517bf13",
   "metadata": {
    "heading_collapsed": true
   },
   "source": [
    "## Task 1"
   ]
  },
  {
   "cell_type": "code",
   "execution_count": 73,
   "id": "a44e85c0",
   "metadata": {
    "ExecuteTime": {
     "end_time": "2022-11-11T18:54:18.037363Z",
     "start_time": "2022-11-11T18:54:18.022555Z"
    },
    "hidden": true
   },
   "outputs": [],
   "source": [
    "y_train_t1 = pd.read_csv(\"../Task1/Y_train.csv\")\n",
    "y_valid_t1 = pd.read_csv(\"../Task1/Y_valid.csv\")"
   ]
  },
  {
   "cell_type": "markdown",
   "id": "b04af03f",
   "metadata": {
    "heading_collapsed": true
   },
   "source": [
    "## Task 2"
   ]
  },
  {
   "cell_type": "code",
   "execution_count": 74,
   "id": "94409666",
   "metadata": {
    "ExecuteTime": {
     "end_time": "2022-11-11T18:54:18.061464Z",
     "start_time": "2022-11-11T18:54:18.039022Z"
    },
    "hidden": true
   },
   "outputs": [],
   "source": [
    "y_train_t2 = pd.read_csv(\"../Task2/Y_train.csv\")\n",
    "y_valid_t2 = pd.read_csv(\"../Task2/Y_valid.csv\")"
   ]
  },
  {
   "cell_type": "markdown",
   "id": "aed0dc26",
   "metadata": {},
   "source": [
    "# Data Pre-processing"
   ]
  },
  {
   "cell_type": "markdown",
   "id": "341e78ea",
   "metadata": {},
   "source": [
    "## Statistics Calculation\n"
   ]
  },
  {
   "cell_type": "code",
   "execution_count": 82,
   "id": "01cb5b01",
   "metadata": {
    "ExecuteTime": {
     "end_time": "2022-11-11T18:55:26.308534Z",
     "start_time": "2022-11-11T18:55:26.281354Z"
    }
   },
   "outputs": [
    {
     "data": {
      "text/html": [
       "<div>\n",
       "<style scoped>\n",
       "    .dataframe tbody tr th:only-of-type {\n",
       "        vertical-align: middle;\n",
       "    }\n",
       "\n",
       "    .dataframe tbody tr th {\n",
       "        vertical-align: top;\n",
       "    }\n",
       "\n",
       "    .dataframe thead th {\n",
       "        text-align: right;\n",
       "    }\n",
       "</style>\n",
       "<table border=\"1\" class=\"dataframe\">\n",
       "  <thead>\n",
       "    <tr style=\"text-align: right;\">\n",
       "      <th></th>\n",
       "      <th>47</th>\n",
       "      <th>119</th>\n",
       "      <th>191</th>\n",
       "      <th>263</th>\n",
       "      <th>335</th>\n",
       "      <th>407</th>\n",
       "      <th>479</th>\n",
       "      <th>551</th>\n",
       "      <th>623</th>\n",
       "      <th>695</th>\n",
       "      <th>...</th>\n",
       "      <th>6815</th>\n",
       "      <th>6887</th>\n",
       "      <th>6959</th>\n",
       "      <th>7031</th>\n",
       "      <th>7103</th>\n",
       "      <th>7175</th>\n",
       "      <th>7247</th>\n",
       "      <th>7319</th>\n",
       "      <th>7391</th>\n",
       "      <th>7463</th>\n",
       "    </tr>\n",
       "  </thead>\n",
       "  <tbody>\n",
       "    <tr>\n",
       "      <th>0</th>\n",
       "      <td>0.000000</td>\n",
       "      <td>0.000000</td>\n",
       "      <td>0.0</td>\n",
       "      <td>0.0</td>\n",
       "      <td>0.0</td>\n",
       "      <td>0.000000</td>\n",
       "      <td>-0.088963</td>\n",
       "      <td>0.000000</td>\n",
       "      <td>0.000000</td>\n",
       "      <td>1.019964</td>\n",
       "      <td>...</td>\n",
       "      <td>2.536928</td>\n",
       "      <td>-0.353795</td>\n",
       "      <td>0.0</td>\n",
       "      <td>0.0</td>\n",
       "      <td>0.0</td>\n",
       "      <td>0.000000</td>\n",
       "      <td>0.000000</td>\n",
       "      <td>0.000000</td>\n",
       "      <td>0.415254</td>\n",
       "      <td>0.0</td>\n",
       "    </tr>\n",
       "    <tr>\n",
       "      <th>1</th>\n",
       "      <td>-0.261946</td>\n",
       "      <td>1.044231</td>\n",
       "      <td>0.0</td>\n",
       "      <td>0.0</td>\n",
       "      <td>0.0</td>\n",
       "      <td>-0.138712</td>\n",
       "      <td>-1.297356</td>\n",
       "      <td>-0.259826</td>\n",
       "      <td>-0.226141</td>\n",
       "      <td>1.234293</td>\n",
       "      <td>...</td>\n",
       "      <td>0.000000</td>\n",
       "      <td>0.000000</td>\n",
       "      <td>0.0</td>\n",
       "      <td>0.0</td>\n",
       "      <td>0.0</td>\n",
       "      <td>0.000000</td>\n",
       "      <td>-0.495954</td>\n",
       "      <td>-0.105634</td>\n",
       "      <td>1.310519</td>\n",
       "      <td>0.0</td>\n",
       "    </tr>\n",
       "    <tr>\n",
       "      <th>2</th>\n",
       "      <td>-0.251251</td>\n",
       "      <td>0.612219</td>\n",
       "      <td>0.0</td>\n",
       "      <td>0.0</td>\n",
       "      <td>0.0</td>\n",
       "      <td>0.117304</td>\n",
       "      <td>-0.088963</td>\n",
       "      <td>-0.265360</td>\n",
       "      <td>-0.484272</td>\n",
       "      <td>0.805635</td>\n",
       "      <td>...</td>\n",
       "      <td>0.000000</td>\n",
       "      <td>0.000000</td>\n",
       "      <td>0.0</td>\n",
       "      <td>0.0</td>\n",
       "      <td>0.0</td>\n",
       "      <td>0.000000</td>\n",
       "      <td>0.000000</td>\n",
       "      <td>-0.517139</td>\n",
       "      <td>-0.386754</td>\n",
       "      <td>0.0</td>\n",
       "    </tr>\n",
       "    <tr>\n",
       "      <th>3</th>\n",
       "      <td>0.000000</td>\n",
       "      <td>0.000000</td>\n",
       "      <td>0.0</td>\n",
       "      <td>0.0</td>\n",
       "      <td>0.0</td>\n",
       "      <td>0.000000</td>\n",
       "      <td>-0.813998</td>\n",
       "      <td>0.000000</td>\n",
       "      <td>0.000000</td>\n",
       "      <td>-0.051682</td>\n",
       "      <td>...</td>\n",
       "      <td>0.859888</td>\n",
       "      <td>0.079879</td>\n",
       "      <td>0.0</td>\n",
       "      <td>0.0</td>\n",
       "      <td>0.0</td>\n",
       "      <td>0.000000</td>\n",
       "      <td>0.000000</td>\n",
       "      <td>0.220140</td>\n",
       "      <td>-0.452033</td>\n",
       "      <td>0.0</td>\n",
       "    </tr>\n",
       "    <tr>\n",
       "      <th>4</th>\n",
       "      <td>-0.271571</td>\n",
       "      <td>0.000000</td>\n",
       "      <td>0.0</td>\n",
       "      <td>0.0</td>\n",
       "      <td>0.0</td>\n",
       "      <td>-0.173309</td>\n",
       "      <td>-0.813998</td>\n",
       "      <td>-0.267732</td>\n",
       "      <td>1.580775</td>\n",
       "      <td>-0.051682</td>\n",
       "      <td>...</td>\n",
       "      <td>0.000000</td>\n",
       "      <td>0.000000</td>\n",
       "      <td>0.0</td>\n",
       "      <td>0.0</td>\n",
       "      <td>0.0</td>\n",
       "      <td>0.000000</td>\n",
       "      <td>0.000000</td>\n",
       "      <td>0.000000</td>\n",
       "      <td>-1.020899</td>\n",
       "      <td>0.0</td>\n",
       "    </tr>\n",
       "    <tr>\n",
       "      <th>...</th>\n",
       "      <td>...</td>\n",
       "      <td>...</td>\n",
       "      <td>...</td>\n",
       "      <td>...</td>\n",
       "      <td>...</td>\n",
       "      <td>...</td>\n",
       "      <td>...</td>\n",
       "      <td>...</td>\n",
       "      <td>...</td>\n",
       "      <td>...</td>\n",
       "      <td>...</td>\n",
       "      <td>...</td>\n",
       "      <td>...</td>\n",
       "      <td>...</td>\n",
       "      <td>...</td>\n",
       "      <td>...</td>\n",
       "      <td>...</td>\n",
       "      <td>...</td>\n",
       "      <td>...</td>\n",
       "      <td>...</td>\n",
       "      <td>...</td>\n",
       "    </tr>\n",
       "    <tr>\n",
       "      <th>4785</th>\n",
       "      <td>0.000000</td>\n",
       "      <td>0.000000</td>\n",
       "      <td>0.0</td>\n",
       "      <td>0.0</td>\n",
       "      <td>0.0</td>\n",
       "      <td>0.000000</td>\n",
       "      <td>-0.572320</td>\n",
       "      <td>0.000000</td>\n",
       "      <td>0.000000</td>\n",
       "      <td>1.448622</td>\n",
       "      <td>...</td>\n",
       "      <td>-4.590492</td>\n",
       "      <td>-0.076804</td>\n",
       "      <td>0.0</td>\n",
       "      <td>0.0</td>\n",
       "      <td>0.0</td>\n",
       "      <td>0.000000</td>\n",
       "      <td>0.000000</td>\n",
       "      <td>-0.890065</td>\n",
       "      <td>-0.274846</td>\n",
       "      <td>0.0</td>\n",
       "    </tr>\n",
       "    <tr>\n",
       "      <th>4786</th>\n",
       "      <td>0.000000</td>\n",
       "      <td>0.000000</td>\n",
       "      <td>0.0</td>\n",
       "      <td>0.0</td>\n",
       "      <td>0.0</td>\n",
       "      <td>0.000000</td>\n",
       "      <td>0.152716</td>\n",
       "      <td>0.000000</td>\n",
       "      <td>0.000000</td>\n",
       "      <td>-0.908998</td>\n",
       "      <td>...</td>\n",
       "      <td>0.000000</td>\n",
       "      <td>0.000000</td>\n",
       "      <td>0.0</td>\n",
       "      <td>0.0</td>\n",
       "      <td>0.0</td>\n",
       "      <td>-0.339655</td>\n",
       "      <td>0.000000</td>\n",
       "      <td>-0.370414</td>\n",
       "      <td>-0.041704</td>\n",
       "      <td>0.0</td>\n",
       "    </tr>\n",
       "    <tr>\n",
       "      <th>4787</th>\n",
       "      <td>0.000000</td>\n",
       "      <td>0.000000</td>\n",
       "      <td>0.0</td>\n",
       "      <td>0.0</td>\n",
       "      <td>0.0</td>\n",
       "      <td>0.000000</td>\n",
       "      <td>-0.572320</td>\n",
       "      <td>0.000000</td>\n",
       "      <td>0.000000</td>\n",
       "      <td>-0.480340</td>\n",
       "      <td>...</td>\n",
       "      <td>0.021368</td>\n",
       "      <td>-0.076804</td>\n",
       "      <td>0.0</td>\n",
       "      <td>0.0</td>\n",
       "      <td>0.0</td>\n",
       "      <td>0.000000</td>\n",
       "      <td>0.000000</td>\n",
       "      <td>0.361595</td>\n",
       "      <td>-0.218892</td>\n",
       "      <td>0.0</td>\n",
       "    </tr>\n",
       "    <tr>\n",
       "      <th>4788</th>\n",
       "      <td>0.000000</td>\n",
       "      <td>0.000000</td>\n",
       "      <td>0.0</td>\n",
       "      <td>0.0</td>\n",
       "      <td>0.0</td>\n",
       "      <td>0.000000</td>\n",
       "      <td>0.636073</td>\n",
       "      <td>0.000000</td>\n",
       "      <td>-0.742403</td>\n",
       "      <td>-0.051682</td>\n",
       "      <td>...</td>\n",
       "      <td>0.000000</td>\n",
       "      <td>0.000000</td>\n",
       "      <td>0.0</td>\n",
       "      <td>0.0</td>\n",
       "      <td>0.0</td>\n",
       "      <td>-0.308485</td>\n",
       "      <td>0.000000</td>\n",
       "      <td>-0.517139</td>\n",
       "      <td>0.620419</td>\n",
       "      <td>0.0</td>\n",
       "    </tr>\n",
       "    <tr>\n",
       "      <th>4789</th>\n",
       "      <td>-0.246974</td>\n",
       "      <td>-1.691847</td>\n",
       "      <td>0.0</td>\n",
       "      <td>0.0</td>\n",
       "      <td>0.0</td>\n",
       "      <td>-0.443163</td>\n",
       "      <td>0.152716</td>\n",
       "      <td>-0.265360</td>\n",
       "      <td>-0.226141</td>\n",
       "      <td>-0.266011</td>\n",
       "      <td>...</td>\n",
       "      <td>0.000000</td>\n",
       "      <td>0.000000</td>\n",
       "      <td>0.0</td>\n",
       "      <td>0.0</td>\n",
       "      <td>0.0</td>\n",
       "      <td>0.000000</td>\n",
       "      <td>0.000000</td>\n",
       "      <td>-0.719808</td>\n",
       "      <td>0.424580</td>\n",
       "      <td>0.0</td>\n",
       "    </tr>\n",
       "  </tbody>\n",
       "</table>\n",
       "<p>4790 rows × 104 columns</p>\n",
       "</div>"
      ],
      "text/plain": [
       "          47        119   191   263   335       407       479       551   \\\n",
       "0     0.000000  0.000000   0.0   0.0   0.0  0.000000 -0.088963  0.000000   \n",
       "1    -0.261946  1.044231   0.0   0.0   0.0 -0.138712 -1.297356 -0.259826   \n",
       "2    -0.251251  0.612219   0.0   0.0   0.0  0.117304 -0.088963 -0.265360   \n",
       "3     0.000000  0.000000   0.0   0.0   0.0  0.000000 -0.813998  0.000000   \n",
       "4    -0.271571  0.000000   0.0   0.0   0.0 -0.173309 -0.813998 -0.267732   \n",
       "...        ...       ...   ...   ...   ...       ...       ...       ...   \n",
       "4785  0.000000  0.000000   0.0   0.0   0.0  0.000000 -0.572320  0.000000   \n",
       "4786  0.000000  0.000000   0.0   0.0   0.0  0.000000  0.152716  0.000000   \n",
       "4787  0.000000  0.000000   0.0   0.0   0.0  0.000000 -0.572320  0.000000   \n",
       "4788  0.000000  0.000000   0.0   0.0   0.0  0.000000  0.636073  0.000000   \n",
       "4789 -0.246974 -1.691847   0.0   0.0   0.0 -0.443163  0.152716 -0.265360   \n",
       "\n",
       "          623       695   ...      6815      6887  6959  7031  7103      7175  \\\n",
       "0     0.000000  1.019964  ...  2.536928 -0.353795   0.0   0.0   0.0  0.000000   \n",
       "1    -0.226141  1.234293  ...  0.000000  0.000000   0.0   0.0   0.0  0.000000   \n",
       "2    -0.484272  0.805635  ...  0.000000  0.000000   0.0   0.0   0.0  0.000000   \n",
       "3     0.000000 -0.051682  ...  0.859888  0.079879   0.0   0.0   0.0  0.000000   \n",
       "4     1.580775 -0.051682  ...  0.000000  0.000000   0.0   0.0   0.0  0.000000   \n",
       "...        ...       ...  ...       ...       ...   ...   ...   ...       ...   \n",
       "4785  0.000000  1.448622  ... -4.590492 -0.076804   0.0   0.0   0.0  0.000000   \n",
       "4786  0.000000 -0.908998  ...  0.000000  0.000000   0.0   0.0   0.0 -0.339655   \n",
       "4787  0.000000 -0.480340  ...  0.021368 -0.076804   0.0   0.0   0.0  0.000000   \n",
       "4788 -0.742403 -0.051682  ...  0.000000  0.000000   0.0   0.0   0.0 -0.308485   \n",
       "4789 -0.226141 -0.266011  ...  0.000000  0.000000   0.0   0.0   0.0  0.000000   \n",
       "\n",
       "          7247      7319      7391  7463  \n",
       "0     0.000000  0.000000  0.415254   0.0  \n",
       "1    -0.495954 -0.105634  1.310519   0.0  \n",
       "2     0.000000 -0.517139 -0.386754   0.0  \n",
       "3     0.000000  0.220140 -0.452033   0.0  \n",
       "4     0.000000  0.000000 -1.020899   0.0  \n",
       "...        ...       ...       ...   ...  \n",
       "4785  0.000000 -0.890065 -0.274846   0.0  \n",
       "4786  0.000000 -0.370414 -0.041704   0.0  \n",
       "4787  0.000000  0.361595 -0.218892   0.0  \n",
       "4788  0.000000 -0.517139  0.620419   0.0  \n",
       "4789  0.000000 -0.719808  0.424580   0.0  \n",
       "\n",
       "[4790 rows x 104 columns]"
      ]
     },
     "execution_count": 82,
     "metadata": {},
     "output_type": "execute_result"
    }
   ],
   "source": [
    "li=[] # Find the positions of the columns with means of the particular feature after 24 hours\n",
    "for i in range(47, 7488, 72):\n",
    "    li.append(i)\n",
    "#print(li)\n",
    "\n",
    "dx_train = pd. DataFrame(X_train)\n",
    "X_train_mean= dx_train.iloc[:,li]\n",
    "\n",
    "dx_valid = pd. DataFrame(X_valid)\n",
    "X_valid_mean= dx_valid.iloc[:,li]\n",
    "\n",
    "x_test=X_test.values\n",
    "dx_test = pd. DataFrame(x_test)\n",
    "X_test_mean= dx_test.iloc[:,li]\n",
    "\n",
    "X_test_mean"
   ]
  },
  {
   "cell_type": "markdown",
   "id": "668ec5a9",
   "metadata": {},
   "source": [
    "## Dealing with N/A data"
   ]
  },
  {
   "cell_type": "code",
   "execution_count": 76,
   "id": "716da602",
   "metadata": {
    "ExecuteTime": {
     "end_time": "2022-11-11T18:54:18.482659Z",
     "start_time": "2022-11-11T18:54:18.079595Z"
    }
   },
   "outputs": [],
   "source": [
    "# Eliminate features containing 70% 0 value\n",
    "for i in X_train_mean.columns:\n",
    "    if (X_train_mean[i] == 0).sum()> 12000:\n",
    "        X_train_mean.drop(i, axis=1, inplace=True)\n",
    "\n",
    "X_valid_mean = X_valid_mean[X_train_mean.columns]\n",
    "X_test_mean = X_test_mean[X_train_mean.columns]"
   ]
  },
  {
   "cell_type": "markdown",
   "id": "b2227d37",
   "metadata": {
    "ExecuteTime": {
     "end_time": "2022-11-11T18:55:39.671754Z",
     "start_time": "2022-11-11T18:55:39.610547Z"
    }
   },
   "source": [
    "# Impute the 0 with mean\n",
    "\n",
    "imp = SimpleImputer(missing_values=0, strategy='mean')\n",
    "X_train_mean = pd.DataFrame(imp.fit_transform(X_train_mean))\n",
    "X_valid_mean = pd.DataFrame(imp.fit_transform(X_valid_mean))\n",
    "X_train_mean"
   ]
  },
  {
   "cell_type": "markdown",
   "id": "edfbdb01",
   "metadata": {},
   "source": [
    "## Normalization"
   ]
  },
  {
   "cell_type": "code",
   "execution_count": 85,
   "id": "4495564c",
   "metadata": {
    "ExecuteTime": {
     "end_time": "2022-11-11T18:58:22.114724Z",
     "start_time": "2022-11-11T18:58:22.090222Z"
    }
   },
   "outputs": [],
   "source": [
    "scaler = preprocessing.StandardScaler()\n",
    "x_train_mean=X_train_mean.values\n",
    "x_train_mean_scaled = scaler.fit_transform(x_train_mean)\n",
    "X_train_norm=pd.DataFrame(x_train_mean_scaled)\n",
    "\n",
    "x_valid_mean=X_valid_mean.values\n",
    "x_valid_mean_scaled = scaler.fit_transform(x_valid_mean)\n",
    "X_valid_norm=pd.DataFrame(x_valid_mean_scaled)\n",
    "\n",
    "x_test_mean=X_test_mean.values\n",
    "x_test_mean_scaled = scaler.fit_transform(x_test_mean)\n",
    "X_test_norm=pd.DataFrame(x_test_mean_scaled)"
   ]
  },
  {
   "cell_type": "markdown",
   "id": "3926ff97",
   "metadata": {},
   "source": [
    "## Feature importance checking"
   ]
  },
  {
   "cell_type": "markdown",
   "id": "5a279935",
   "metadata": {
    "ExecuteTime": {
     "end_time": "2022-10-25T14:36:30.344475Z",
     "start_time": "2022-10-25T14:36:30.341456Z"
    }
   },
   "source": [
    "# Data report"
   ]
  },
  {
   "cell_type": "code",
   "execution_count": 80,
   "id": "6ec4d3b2",
   "metadata": {
    "ExecuteTime": {
     "end_time": "2022-11-11T18:54:18.569943Z",
     "start_time": "2022-11-11T18:54:18.565958Z"
    }
   },
   "outputs": [
    {
     "name": "stdout",
     "output_type": "stream",
     "text": [
      "************************************************************\n",
      "There are 3 set of X\n",
      "X_train_mean, X_valid_mean, X_test_mean\n",
      "------------------------------------------------------------\n",
      "Normalized version\n",
      "X_train_norm, X_valid_norm, X_test_norm\n",
      "------------------------------------------------------------\n",
      "There are 4 set of Y\n",
      "y_train_t1, y_train_t2, y_valid_t1, y_valid_t2\n",
      "************************************************************\n"
     ]
    }
   ],
   "source": [
    "print(\"*\"*60)\n",
    "print(\"There are 3 set of X\")\n",
    "print(\"X_train_mean, X_valid_mean, X_test_mean\")\n",
    "print(\"-\"*60)\n",
    "print(\"Normalized version\")\n",
    "print(\"X_train_norm, X_valid_norm, X_test_norm\")\n",
    "print(\"-\"*60)\n",
    "print(\"There are 4 set of Y\")\n",
    "print(\"y_train_t1, y_train_t2, y_valid_t1, y_valid_t2\")\n",
    "print(\"*\"*60)"
   ]
  }
 ],
 "metadata": {
  "kernelspec": {
   "display_name": "Python 3 (ipykernel)",
   "language": "python",
   "name": "python3"
  },
  "language_info": {
   "codemirror_mode": {
    "name": "ipython",
    "version": 3
   },
   "file_extension": ".py",
   "mimetype": "text/x-python",
   "name": "python",
   "nbconvert_exporter": "python",
   "pygments_lexer": "ipython3",
   "version": "3.9.12"
  },
  "toc": {
   "base_numbering": 1,
   "nav_menu": {},
   "number_sections": true,
   "sideBar": true,
   "skip_h1_title": false,
   "title_cell": "Table of Contents",
   "title_sidebar": "Contents",
   "toc_cell": false,
   "toc_position": {},
   "toc_section_display": true,
   "toc_window_display": true
  },
  "vscode": {
   "interpreter": {
    "hash": "529bcf6abcc3d23528523c7666d9f36040f112e2ca21b4e62324de75fcde4134"
   }
  }
 },
 "nbformat": 4,
 "nbformat_minor": 5
}
