{
 "cells": [
  {
   "cell_type": "markdown",
   "id": "970d9aef",
   "metadata": {
    "heading_collapsed": true
   },
   "source": [
    "# Libraries"
   ]
  },
  {
   "cell_type": "code",
   "execution_count": 26,
   "id": "71cace5d",
   "metadata": {
    "ExecuteTime": {
     "end_time": "2022-11-14T14:44:44.465208Z",
     "start_time": "2022-11-14T14:44:44.459860Z"
    },
    "hidden": true
   },
   "outputs": [],
   "source": [
    "import torch\n",
    "import torchvision\n",
    "import torch.nn as nn\n",
    "import torch.optim as optim\n",
    "import torch.nn.functional as F\n",
    "from torch.utils.data import Dataset, DataLoader\n",
    "import torchvision.transforms as transforms\n",
    "import matplotlib.pyplot as plt\n",
    "from sklearn import metrics\n",
    "\n",
    "device = torch.device(\"cuda\" if torch.cuda.is_available() else \"cpu\")"
   ]
  },
  {
   "cell_type": "markdown",
   "id": "e5e3db1d",
   "metadata": {
    "ExecuteTime": {
     "end_time": "2022-10-27T03:47:12.458066Z",
     "start_time": "2022-10-27T03:47:12.452095Z"
    },
    "heading_collapsed": true
   },
   "source": [
    "# Import data"
   ]
  },
  {
   "cell_type": "code",
   "execution_count": 27,
   "id": "c7c7a26f",
   "metadata": {
    "ExecuteTime": {
     "end_time": "2022-11-14T14:45:09.610185Z",
     "start_time": "2022-11-14T14:44:44.467265Z"
    },
    "hidden": true
   },
   "outputs": [
    {
     "name": "stdout",
     "output_type": "stream",
     "text": [
      "************************************************************\n",
      "There are 6 set of X\n",
      "X_*_nozero\n",
      "------------------------------------------------------------\n",
      "Normalized version\n",
      "X_*_norm\n",
      "------------------------------------------------------------\n",
      "There are 4 set of Y\n",
      "y_train_t1, y_train_t2, y_valid_t1, y_valid_t2\n",
      "when training, please use: 'y_train_t1_value,y_train_t2_value,y_valid_t1_value,y_valid_t2_value'\n",
      "************************************************************\n"
     ]
    }
   ],
   "source": [
    "%run Data_preprocessing.ipynb"
   ]
  },
  {
   "cell_type": "code",
   "execution_count": 28,
   "id": "4aa393c8",
   "metadata": {
    "ExecuteTime": {
     "end_time": "2022-11-14T14:45:09.615134Z",
     "start_time": "2022-11-14T14:45:09.612164Z"
    },
    "hidden": true
   },
   "outputs": [
    {
     "name": "stdout",
     "output_type": "stream",
     "text": [
      "(16760, 61)\n",
      "(2394, 61)\n",
      "(4790, 61)\n"
     ]
    }
   ],
   "source": [
    "print(X_train_norm.shape)\n",
    "print(X_valid_norm.shape)\n",
    "print(X_test_norm.shape)"
   ]
  },
  {
   "cell_type": "markdown",
   "id": "1542c335",
   "metadata": {
    "ExecuteTime": {
     "end_time": "2022-11-14T09:37:26.759973Z",
     "start_time": "2022-11-14T09:37:26.756004Z"
    }
   },
   "source": [
    "# Neural Network Using Sklearn build in function"
   ]
  },
  {
   "cell_type": "code",
   "execution_count": 41,
   "id": "61a47fdf",
   "metadata": {
    "ExecuteTime": {
     "end_time": "2022-11-14T14:56:35.589574Z",
     "start_time": "2022-11-14T14:56:23.889190Z"
    }
   },
   "outputs": [
    {
     "data": {
      "text/plain": [
       "-0.12806230444436162"
      ]
     },
     "execution_count": 41,
     "metadata": {},
     "output_type": "execute_result"
    }
   ],
   "source": [
    "from sklearn.neural_network import MLPRegressor\n",
    "\n",
    "clf = MLPRegressor(hidden_layer_sizes=(100,),\n",
    "                   activation='relu',\n",
    "                   solver='adam', \n",
    "                   alpha=0.0001, \n",
    "                   batch_size='auto', \n",
    "                   learning_rate='constant', \n",
    "                   learning_rate_init=0.001,\n",
    "                   max_iter=300,  \n",
    "                   random_state=3612, \n",
    "                   momentum=0.9, \n",
    "                   early_stopping=False, \n",
    "                   validation_fraction=0.1)\n",
    "\n",
    "clf.fit(X_train_norm, y_train_t2_value)\n",
    "\n",
    "clf.score(X_valid_norm, y_valid_t2_value)"
   ]
  },
  {
   "cell_type": "code",
   "execution_count": 42,
   "id": "7a3ae147",
   "metadata": {
    "ExecuteTime": {
     "end_time": "2022-11-14T14:56:37.736304Z",
     "start_time": "2022-11-14T14:56:37.728820Z"
    }
   },
   "outputs": [
    {
     "data": {
      "text/plain": [
       "2.1181483020077145"
      ]
     },
     "execution_count": 42,
     "metadata": {},
     "output_type": "execute_result"
    }
   ],
   "source": [
    "y_pred = clf.predict(X_valid_norm)\n",
    "\n",
    "rmse(y_pred, y_valid_t2_value)"
   ]
  },
  {
   "cell_type": "markdown",
   "id": "41f64f7e",
   "metadata": {
    "heading_collapsed": true
   },
   "source": [
    "# Evaluation Matrix"
   ]
  },
  {
   "cell_type": "code",
   "execution_count": 31,
   "id": "bf89ddbb",
   "metadata": {
    "ExecuteTime": {
     "end_time": "2022-11-14T14:47:41.037197Z",
     "start_time": "2022-11-14T14:47:41.033586Z"
    },
    "hidden": true
   },
   "outputs": [],
   "source": [
    "def rmse(predictions, targets):\n",
    "    return np.sqrt(((predictions - targets) ** 2).mean())"
   ]
  },
  {
   "cell_type": "markdown",
   "id": "7eaa1314",
   "metadata": {
    "ExecuteTime": {
     "end_time": "2022-11-14T09:39:42.985881Z",
     "start_time": "2022-11-14T09:39:42.982955Z"
    },
    "heading_collapsed": true
   },
   "source": [
    "# Hyperparameter and setting tuning"
   ]
  },
  {
   "cell_type": "markdown",
   "id": "45b5905c",
   "metadata": {
    "ExecuteTime": {
     "end_time": "2022-11-14T10:48:05.363047Z",
     "start_time": "2022-11-14T10:48:05.359385Z"
    },
    "hidden": true
   },
   "source": [
    "## layers"
   ]
  },
  {
   "cell_type": "code",
   "execution_count": null,
   "id": "8e9bbbe6",
   "metadata": {
    "ExecuteTime": {
     "end_time": "2022-11-14T14:45:10.568027Z",
     "start_time": "2022-11-14T14:45:10.568009Z"
    },
    "hidden": true
   },
   "outputs": [],
   "source": [
    "layer_list = []\n",
    "fpr_lst=[]\n",
    "tpr_lst=[]\n",
    "roc_auc_lst=[]\n",
    "for i in range(1,20,5):\n",
    "    for j in range(1,20,5):\n",
    "        layer_list.append((i,j))\n",
    "        \n",
    "for i in layer_list:\n",
    "    clf = MLPRegressor(solver=\"lbfgs\",\n",
    "                        alpha=1e-5,\n",
    "                        hidden_layer_sizes=i,\n",
    "                        random_state=1,\n",
    "                        max_iter=200)\n",
    "\n",
    "    clf.fit(X_train_norm, y_train_t2_value)\n",
    "    clf.score(X_valid_norm, y_valid_t2_value)\n",
    "    y_pred = clf.predict(X_valid_norm)\n",
    "    fpr, tpr, _ = metrics.roc_curve(y_valid_t2_value, y_pred)\n",
    "    roc_auc = metrics.roc_auc_score(y_valid_t2_value, y_pred)\n",
    "    \n",
    "    fpr_lst.append(fpr)\n",
    "    tpr_lst.append(tpr)\n",
    "    roc_auc_lst.append(roc_auc)\n",
    "    \n",
    "    \n",
    "index = roc_auc_lst.index(max(roc_auc_lst))\n",
    "plt.figure(1)\n",
    "plt.plot([0, 1], [0, 1], 'k-')\n",
    "plt.plot(fpr_lst[index], tpr_lst[index], label='FN(area = {:.3f})'.format(max(roc_auc_lst)))\n",
    "plt.xlabel('False positive rate')\n",
    "plt.ylabel('True positive rate')\n",
    "plt.title(f\"Layer {layer_list[index]} - ROC curve\")\n",
    "plt.legend(loc=\"best\")\n",
    "plt.show()"
   ]
  },
  {
   "cell_type": "code",
   "execution_count": null,
   "id": "f314ef7d",
   "metadata": {
    "ExecuteTime": {
     "end_time": "2022-11-14T14:45:10.570906Z",
     "start_time": "2022-11-14T14:45:10.570873Z"
    },
    "hidden": true
   },
   "outputs": [],
   "source": [
    "best_layernumber = layer_list[index]\n",
    "best_layernumber"
   ]
  },
  {
   "cell_type": "markdown",
   "id": "16213e33",
   "metadata": {
    "hidden": true
   },
   "source": [
    "## Solver"
   ]
  },
  {
   "cell_type": "code",
   "execution_count": null,
   "id": "754bfc1c",
   "metadata": {
    "ExecuteTime": {
     "end_time": "2022-11-14T14:45:10.572884Z",
     "start_time": "2022-11-14T14:45:10.572858Z"
    },
    "hidden": true
   },
   "outputs": [],
   "source": [
    "solver_list = [\"lbfgs\",\"sgd\",\"adam\"]\n",
    "fpr_lst=[]\n",
    "tpr_lst=[]\n",
    "roc_auc_lst=[]\n",
    "\n",
    "for i in solver_list:\n",
    "    clf = MLPRegressor(solver=i,\n",
    "                        alpha=1e-5,\n",
    "                        hidden_layer_sizes=best_layernumber,\n",
    "                        random_state=1,\n",
    "                        max_iter=200)\n",
    "\n",
    "    clf.fit(X_train_norm, y_train_t2_value)\n",
    "    clf.score(X_valid_norm, y_valid_t2_value)\n",
    "    y_pred = clf.predict(X_valid_norm)\n",
    "    fpr, tpr, _ = metrics.roc_curve(y_valid_t2_value, y_pred)\n",
    "    roc_auc = metrics.roc_auc_score(y_valid_t2_value, y_pred)\n",
    "    \n",
    "    fpr_lst.append(fpr)\n",
    "    tpr_lst.append(tpr)\n",
    "    roc_auc_lst.append(roc_auc)\n",
    "    \n",
    "    \n",
    "fig, axes = plt.subplots(1, 3, sharex=True, sharey=True)\n",
    "plt.figure(figsize=(5,5))\n",
    "for j in range(3):\n",
    "    plt.figure(1)\n",
    "    axes[j].plot([0, 1], [0, 1], 'k-')\n",
    "    axes[j].plot(fpr_lst[j], tpr_lst[j], label='FN(area = {:.3f})'.format(roc_auc_lst[j]))\n",
    "    axes[j].set_xlabel('False positive rate')\n",
    "    axes[j].set_ylabel('True positive rate')\n",
    "    axes[j].set_title(f\"{solver_list[j]} - ROC curve\")\n",
    "    axes[j].legend(loc=\"best\")\n",
    "plt.show()"
   ]
  },
  {
   "cell_type": "code",
   "execution_count": null,
   "id": "69561f86",
   "metadata": {
    "ExecuteTime": {
     "end_time": "2022-11-14T14:45:10.574605Z",
     "start_time": "2022-11-14T14:45:10.574585Z"
    },
    "hidden": true
   },
   "outputs": [],
   "source": [
    "index = roc_auc_lst.index(max(roc_auc_lst))\n",
    "best_solver = solver_list[index]\n",
    "best_solver"
   ]
  },
  {
   "cell_type": "raw",
   "id": "4220f67f",
   "metadata": {
    "hidden": true
   },
   "source": [
    "For small datasets, however, ‘lbfgs’ can converge faster and perform better"
   ]
  },
  {
   "cell_type": "markdown",
   "id": "893d31a1",
   "metadata": {
    "ExecuteTime": {
     "end_time": "2022-11-14T10:00:23.542784Z",
     "start_time": "2022-11-14T10:00:23.538559Z"
    },
    "hidden": true
   },
   "source": [
    "## Learning rate tuning"
   ]
  },
  {
   "cell_type": "code",
   "execution_count": null,
   "id": "ee20b4f5",
   "metadata": {
    "ExecuteTime": {
     "end_time": "2022-11-14T14:45:10.576636Z",
     "start_time": "2022-11-14T14:45:10.576619Z"
    },
    "hidden": true
   },
   "outputs": [],
   "source": [
    "fpr_lst=[]\n",
    "tpr_lst=[]\n",
    "roc_auc_lst=[]\n",
    "lr_list = [\"constant\", \"invscaling\", \"adaptive\"]\n",
    "\n",
    "for i in lr_list:\n",
    "    clf = MLPRegressor(solver=best_solver,\n",
    "                        alpha=1e-5,\n",
    "                        hidden_layer_sizes=best_layernumber,\n",
    "                        learning_rate=i,\n",
    "                        random_state=3612,\n",
    "                        max_iter=200)\n",
    "\n",
    "    clf.fit(X_train_norm, y_train_t2_value)\n",
    "    clf.score(X_valid_norm, y_valid_t2_value)\n",
    "    y_pred = clf.predict(X_valid_norm)\n",
    "    fpr, tpr, _ = metrics.roc_curve(y_valid_t2_value, y_pred)\n",
    "    roc_auc = metrics.roc_auc_score(y_valid_t2_value, y_pred)\n",
    "    \n",
    "    fpr_lst.append(fpr)\n",
    "    tpr_lst.append(tpr)\n",
    "    roc_auc_lst.append(roc_auc)\n",
    "    \n",
    "    \n",
    "index = roc_auc_lst.index(max(roc_auc_lst))\n",
    "plt.figure(1)\n",
    "plt.plot([0, 1], [0, 1], 'k-')\n",
    "plt.plot(fpr_lst[index], tpr_lst[index], label='FN(area = {:.3f})'.format(max(roc_auc_lst)))\n",
    "plt.xlabel('False positive rate')\n",
    "plt.ylabel('True positive rate')\n",
    "plt.title(f\"Learning Rate {lr_list[index]} - ROC curve\")\n",
    "plt.legend(loc=\"best\")\n",
    "plt.show()"
   ]
  },
  {
   "cell_type": "code",
   "execution_count": null,
   "id": "2c5468c4",
   "metadata": {
    "ExecuteTime": {
     "end_time": "2022-11-14T14:45:10.578097Z",
     "start_time": "2022-11-14T14:45:10.578081Z"
    },
    "hidden": true
   },
   "outputs": [],
   "source": [
    "index = roc_auc_lst.index(max(roc_auc_lst))\n",
    "best_lr_choice =  lr_list[index]\n",
    "best_lr_choice"
   ]
  },
  {
   "cell_type": "markdown",
   "id": "b16acbcd",
   "metadata": {
    "heading_collapsed": true
   },
   "source": [
    "# Test"
   ]
  },
  {
   "cell_type": "code",
   "execution_count": null,
   "id": "f5c8cc99",
   "metadata": {
    "ExecuteTime": {
     "end_time": "2022-11-14T14:45:10.579474Z",
     "start_time": "2022-11-14T14:45:10.579455Z"
    },
    "hidden": true
   },
   "outputs": [],
   "source": [
    "# Final model\n",
    "clf1 = MLPClassifier(solver=best_solver,\n",
    "                    alpha=1e-5,\n",
    "                    hidden_layer_sizes=best_layernumber,\n",
    "                    learning_rate=best_lr_choice,\n",
    "                    random_state=3612,\n",
    "                    max_iter=200)\n",
    "\n",
    "clf1.fit(X_train_norm, y_train_t2_value)\n",
    "\n",
    "clf1.score(X_valid_norm, y_valid_t2_value_2)\n",
    "y_pred = clf1.predict(X_valid_norm)\n",
    "fpr, tpr, _ = metrics.roc_curve(y_valid_t2_value, y_pred)\n",
    "roc_auc = metrics.roc_auc_score(y_valid_t2_value, y_pred)\n",
    "\n",
    "\n",
    "\n",
    "plt.figure(1)\n",
    "plt.plot([0, 1], [0, 1], 'k-')\n",
    "plt.plot(fpr, tpr, label='FN(area = {:.3f})'.format(roc_auc))\n",
    "plt.xlabel('False positive rate')\n",
    "plt.ylabel('True positive rate')\n",
    "plt.title(\"ROC curve\")\n",
    "plt.legend(loc=\"best\")\n",
    "plt.show()"
   ]
  },
  {
   "cell_type": "code",
   "execution_count": null,
   "id": "dcff3df6",
   "metadata": {
    "ExecuteTime": {
     "end_time": "2022-11-14T14:45:10.580833Z",
     "start_time": "2022-11-14T14:45:10.580818Z"
    },
    "hidden": true
   },
   "outputs": [],
   "source": [
    "X_test_norm"
   ]
  },
  {
   "cell_type": "code",
   "execution_count": null,
   "id": "8747d5c8",
   "metadata": {
    "ExecuteTime": {
     "end_time": "2022-11-14T14:45:10.582031Z",
     "start_time": "2022-11-14T14:45:10.582018Z"
    },
    "hidden": true,
    "scrolled": true
   },
   "outputs": [],
   "source": [
    "\n",
    "result = clf1.predict(X_test_norm)\n",
    "res1 = pd.DataFrame(result.tolist(), columns=[\"Predicted\"])\n",
    "res1.index = X_test.index\n",
    "res1.index.name = 'Id'\n",
    "pd.DataFrame(res1).to_csv('out.csv')\n",
    "#print(torch.count_nonzero(torch.from_numpy(np.array(res1)).to(torch.float32)))\n",
    "res1.sum(axis=0)"
   ]
  }
 ],
 "metadata": {
  "kernelspec": {
   "display_name": "comp3340",
   "language": "python",
   "name": "comp3340"
  },
  "language_info": {
   "codemirror_mode": {
    "name": "ipython",
    "version": 3
   },
   "file_extension": ".py",
   "mimetype": "text/x-python",
   "name": "python",
   "nbconvert_exporter": "python",
   "pygments_lexer": "ipython3",
   "version": "3.7.13"
  },
  "toc": {
   "base_numbering": 1,
   "nav_menu": {},
   "number_sections": true,
   "sideBar": true,
   "skip_h1_title": false,
   "title_cell": "Table of Contents",
   "title_sidebar": "Contents",
   "toc_cell": false,
   "toc_position": {},
   "toc_section_display": true,
   "toc_window_display": true
  }
 },
 "nbformat": 4,
 "nbformat_minor": 5
}
