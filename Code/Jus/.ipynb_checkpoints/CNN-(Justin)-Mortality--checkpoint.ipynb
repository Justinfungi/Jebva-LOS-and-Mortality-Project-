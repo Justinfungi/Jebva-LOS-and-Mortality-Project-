{
 "cells": [
  {
   "cell_type": "markdown",
   "id": "970d9aef",
   "metadata": {},
   "source": [
    "# Libraries"
   ]
  },
  {
   "cell_type": "code",
   "execution_count": 1,
   "id": "71cace5d",
   "metadata": {
    "ExecuteTime": {
     "end_time": "2022-11-27T12:07:33.209941Z",
     "start_time": "2022-11-27T12:07:32.569017Z"
    }
   },
   "outputs": [],
   "source": [
    "import torch\n",
    "import torchvision\n",
    "import torch.nn as nn\n",
    "import torch.optim as optim\n",
    "import torch.nn.functional as F\n",
    "from torch.utils.data import Dataset, DataLoader\n",
    "import torchvision.transforms as transforms"
   ]
  },
  {
   "cell_type": "code",
   "execution_count": 2,
   "id": "8735b622",
   "metadata": {
    "ExecuteTime": {
     "end_time": "2022-11-27T12:07:34.155092Z",
     "start_time": "2022-11-27T12:07:33.976673Z"
    }
   },
   "outputs": [],
   "source": [
    "device = torch.device(\"cuda\" if torch.cuda.is_available() else \"cpu\")"
   ]
  },
  {
   "cell_type": "markdown",
   "id": "e5e3db1d",
   "metadata": {
    "ExecuteTime": {
     "end_time": "2022-10-27T03:47:12.458066Z",
     "start_time": "2022-10-27T03:47:12.452095Z"
    }
   },
   "source": [
    "# Import data"
   ]
  },
  {
   "cell_type": "code",
   "execution_count": 3,
   "id": "c7c7a26f",
   "metadata": {
    "ExecuteTime": {
     "end_time": "2022-11-27T12:08:10.807397Z",
     "start_time": "2022-11-27T12:07:36.573740Z"
    }
   },
   "outputs": [
    {
     "name": "stdout",
     "output_type": "stream",
     "text": [
      "************************************************************\n",
      "There are 6 set of X\n",
      "X_*_nozero\n",
      "------------------------------------------------------------\n",
      "Normalized version\n",
      "X_*_norm\n",
      "------------------------------------------------------------\n",
      "There are 4 set of Y\n",
      "y_train_t1, y_train_t2, y_valid_t1, y_valid_t2\n",
      "when training, please use: 'y_train_t1_value,y_train_t2_value,y_valid_t1_value,y_valid_t2_value'\n",
      "************************************************************\n"
     ]
    }
   ],
   "source": [
    "%run Data_preprocessing.ipynb"
   ]
  },
  {
   "cell_type": "code",
   "execution_count": 4,
   "id": "4aa393c8",
   "metadata": {
    "ExecuteTime": {
     "end_time": "2022-11-27T12:08:10.816097Z",
     "start_time": "2022-11-27T12:08:10.812110Z"
    }
   },
   "outputs": [
    {
     "name": "stdout",
     "output_type": "stream",
     "text": [
      "(16760, 104)\n",
      "(2394, 104)\n",
      "(4790, 104)\n"
     ]
    }
   ],
   "source": [
    "print(X_train_mean.shape)\n",
    "print(X_valid_mean.shape)\n",
    "print(X_test_mean.shape)"
   ]
  },
  {
   "cell_type": "markdown",
   "id": "560831ad",
   "metadata": {},
   "source": [
    "# Hyperparameters"
   ]
  },
  {
   "cell_type": "code",
   "execution_count": 5,
   "id": "6fb9fe03",
   "metadata": {
    "ExecuteTime": {
     "end_time": "2022-11-27T12:08:10.827102Z",
     "start_time": "2022-11-27T12:08:10.823057Z"
    }
   },
   "outputs": [],
   "source": [
    "input_size = 104 # 7488/24\n",
    "output_size = 2 # live or dead\n",
    "hidden_size=256\n",
    "learning_rate = 0.01\n",
    "batch_size = 64\n",
    "num_epochs = 2"
   ]
  },
  {
   "cell_type": "markdown",
   "id": "9b7e4676",
   "metadata": {},
   "source": [
    "# Create CNN"
   ]
  },
  {
   "cell_type": "code",
   "execution_count": 6,
   "id": "c00d907c",
   "metadata": {
    "ExecuteTime": {
     "end_time": "2022-11-27T12:08:14.293869Z",
     "start_time": "2022-11-27T12:08:14.283572Z"
    }
   },
   "outputs": [],
   "source": [
    "class CNN(nn.Module):\n",
    "    def __init__(self, input_size, output_size):\n",
    "        super(CNN, self).__init__()\n",
    "        self.convlayer = nn.Sequential(\n",
    "            nn.Conv1d(in_channels=1, out_channels=6, kernel_size=1, stride=1, padding=0, dilation=0),\n",
    "            nn.ReLU(),\n",
    "            nn.Conv1d(in_channels=6, out_channels=1, kernel_size=1, stride=1, padding=0, dilation=0),\n",
    "            nn.ReLU(),\n",
    "        )\n",
    "        \n",
    "        self.fclayers = nn.Sequential(\n",
    "            nn.Linear(input_size, 30),\n",
    "            nn.Linear(30, output_size),\n",
    "        )\n",
    "        \n",
    "        self.dropout = nn.Dropout(p=0.5)\n",
    "        \n",
    "    def forward(self, x):\n",
    "         x = self.convlayer(x)\n",
    "         x = x.view(-1,104)\n",
    "         x = self.fclayers(x)\n",
    "         x = self.dropout(x)\n",
    "         x = .softmax(x)\n",
    "         #x = torch.argmax(x)\n",
    "         return x"
   ]
  },
  {
   "cell_type": "markdown",
   "id": "076d6376",
   "metadata": {},
   "source": [
    "# Data transform"
   ]
  },
  {
   "cell_type": "code",
   "execution_count": 7,
   "id": "d7e4872c",
   "metadata": {
    "ExecuteTime": {
     "end_time": "2022-11-27T12:08:15.520391Z",
     "start_time": "2022-11-27T12:08:15.514414Z"
    }
   },
   "outputs": [],
   "source": [
    "class CusDatasetLoader(Dataset):\n",
    "    def __init__(self,x,y):\n",
    "        self.len = y.shape[0]\n",
    "        self.x_data = x\n",
    "        self.y_data = y\n",
    "  \n",
    "    def __len__(self):\n",
    "        return self.len\n",
    "\n",
    "    def __getitem__(self, index):\n",
    "        #return self.dataframe.iloc[index]\n",
    "        return self.x_data[index], self.y_data[index]"
   ]
  },
  {
   "cell_type": "code",
   "execution_count": 131,
   "id": "456be776",
   "metadata": {
    "ExecuteTime": {
     "end_time": "2022-11-03T19:52:20.612816Z",
     "start_time": "2022-11-03T19:52:20.608173Z"
    }
   },
   "outputs": [],
   "source": [
    "# X_shape(X) : used for split the data into a right tensor size\n",
    "#input: X in shape of 16760 rows × 104 columns (df)\n",
    "#output: X in shape of torch.Size([16760, 104, 1]) (tensor)\n",
    "def X_tensor(X):\n",
    "    X_tensor = torch.from_numpy(np.array(X)).to(torch.float32)\n",
    "    X_tensor = torch.split(X_tensor,1,1)\n",
    "    X_tensor = torch.stack(X_tensor).permute(1, 0, 2)\n",
    "    print(\"X now in shape of\",X_tensor.shape)\n",
    "    return X_tensor\n",
    "\n",
    "# y_tensor(y) : used for split the data into a right tensor size\n",
    "#input: X in shape of 16760 rows × 7488 columns (df)\n",
    "#output: X in shape of torch.Size([16760, 312, 24]) (tensor)\n",
    "def y_tensor(y):\n",
    "    y= torch.from_numpy(np.array(y)).to(torch.float32).reshape(len(y),1)\n",
    "    print(\"y now in shape of\",y.shape)\n",
    "    return y"
   ]
  },
  {
   "cell_type": "code",
   "execution_count": 132,
   "id": "006849f5",
   "metadata": {
    "ExecuteTime": {
     "end_time": "2022-11-03T19:52:20.623895Z",
     "start_time": "2022-11-03T19:52:20.614343Z"
    }
   },
   "outputs": [
    {
     "name": "stdout",
     "output_type": "stream",
     "text": [
      "X now in shape of torch.Size([16760, 104, 1])\n",
      "y now in shape of torch.Size([16760, 1])\n",
      "torch.Size([104, 1])\n",
      "torch.Size([1])\n"
     ]
    }
   ],
   "source": [
    "# X should be in smaples, 1, squence, rows\n",
    "X1 = X_tensor(X_train_norm)\n",
    "y1 = y_tensor(y_train_t1.iloc[:,-1])\n",
    "\n",
    "train_datasets = CusDatasetLoader(X1, y1)\n",
    "train_loader = DataLoader(dataset=train_datasets, batch_size=batch_size, shuffle=True)\n",
    "\n",
    "x,y = train_datasets[0]\n",
    "print(x.shape)\n",
    "print(y.shape)"
   ]
  },
  {
   "cell_type": "markdown",
   "id": "e366eb01",
   "metadata": {},
   "source": [
    "# Model train"
   ]
  },
  {
   "cell_type": "code",
   "execution_count": 133,
   "id": "6443333a",
   "metadata": {
    "ExecuteTime": {
     "end_time": "2022-11-03T19:52:20.628995Z",
     "start_time": "2022-11-03T19:52:20.625506Z"
    }
   },
   "outputs": [],
   "source": [
    "model = CNN(input_size, output_size).to(device)"
   ]
  },
  {
   "cell_type": "code",
   "execution_count": 134,
   "id": "afa986f2",
   "metadata": {
    "ExecuteTime": {
     "end_time": "2022-11-03T19:52:20.633825Z",
     "start_time": "2022-11-03T19:52:20.630521Z"
    }
   },
   "outputs": [],
   "source": [
    "criterion = nn.CrossEntropyLoss()\n",
    "optimizer = optim.Adam(model.parameters(), lr = learning_rate)"
   ]
  },
  {
   "cell_type": "code",
   "execution_count": 135,
   "id": "680547a7",
   "metadata": {
    "ExecuteTime": {
     "end_time": "2022-11-03T19:52:22.872787Z",
     "start_time": "2022-11-03T19:52:20.635729Z"
    },
    "scrolled": true
   },
   "outputs": [
    {
     "name": "stderr",
     "output_type": "stream",
     "text": [
      "/home/fish/anaconda3/envs/comp3340/lib/python3.7/site-packages/ipykernel_launcher.py:24: UserWarning: Implicit dimension choice for softmax has been deprecated. Change the call to include dim=X as an argument.\n"
     ]
    }
   ],
   "source": [
    "for epoch in range(num_epochs):\n",
    "    for batch_idx, (data, targets) in enumerate(train_loader):\n",
    "        data = data.permute(0,2,1)\n",
    "        data = data.to(device=device)\n",
    "        targets = targets.to(device=device)\n",
    "        targets = torch.squeeze(targets, 1).type(torch.LongTensor)\n",
    "        #print(\"1\",targets.shape)\n",
    "        \n",
    "        # forward\n",
    "        \n",
    "        scores = model(data)\n",
    "        #print(scores.shape)\n",
    "        loss = criterion(scores, targets)\n",
    "        \n",
    "        l2_lambda = 0.01\n",
    "        l2_norm = sum(p.pow(2.0).sum()\n",
    "                  for p in model.parameters())\n",
    " \n",
    "        loss = loss + l2_lambda * l2_norm\n",
    "        \n",
    "        # backward\n",
    "        optimizer.zero_grad()\n",
    "        loss.backward()\n",
    "        \n",
    "        # gradient descent or adam step\n",
    "        optimizer.step()\n",
    "        \n",
    "        "
   ]
  },
  {
   "cell_type": "markdown",
   "id": "06bcbff7",
   "metadata": {
    "ExecuteTime": {
     "end_time": "2022-10-28T17:23:14.669685Z",
     "start_time": "2022-10-28T17:23:14.663564Z"
    }
   },
   "source": [
    "# Model Accuracy"
   ]
  },
  {
   "cell_type": "code",
   "execution_count": 136,
   "id": "48a94a4e",
   "metadata": {
    "ExecuteTime": {
     "end_time": "2022-11-03T19:52:22.879707Z",
     "start_time": "2022-11-03T19:52:22.874070Z"
    }
   },
   "outputs": [],
   "source": [
    "# Check accuracy on training & test to see how good our model\n",
    "def check_accuracy(loader, model):\n",
    "    num_correct = 0\n",
    "    num_samples = 0\n",
    "\n",
    "    # Set model to eval\n",
    "    model.eval()\n",
    "\n",
    "    with torch.no_grad():\n",
    "        for x, y in loader:\n",
    "            x = x.to(device=device).permute(0,2,1)\n",
    "            y = torch.squeeze(y.to(device=device), 1)\n",
    "\n",
    "            scores = model(x)\n",
    "            _, predictions = scores.max(1)\n",
    "            #print(predictions)\n",
    "            #print(torch.count_nonzero(predictions))\n",
    "            num_correct += int((predictions == y).sum())\n",
    "            num_samples += predictions.size(0)\n",
    "            \n",
    "    # Toggle model back to train\n",
    "    model.train()\n",
    "    #print(num_correct , num_samples)\n",
    "    return num_correct / num_samples"
   ]
  },
  {
   "cell_type": "code",
   "execution_count": 137,
   "id": "f370065c",
   "metadata": {
    "ExecuteTime": {
     "end_time": "2022-11-03T19:52:23.219975Z",
     "start_time": "2022-11-03T19:52:22.884015Z"
    }
   },
   "outputs": [
    {
     "name": "stderr",
     "output_type": "stream",
     "text": [
      "/home/fish/anaconda3/envs/comp3340/lib/python3.7/site-packages/ipykernel_launcher.py:24: UserWarning: Implicit dimension choice for softmax has been deprecated. Change the call to include dim=X as an argument.\n"
     ]
    },
    {
     "name": "stdout",
     "output_type": "stream",
     "text": [
      "Accuracy on training set: 92.690931 %\n"
     ]
    }
   ],
   "source": [
    "print(f\"Accuracy on training set: {check_accuracy(train_loader, model)*100:2f} %\")\n",
    "#print(f\"Accuracy on test set: {check_accuracy(test_loader, model)*100:.2f} %\")"
   ]
  },
  {
   "cell_type": "code",
   "execution_count": 138,
   "id": "7194f3f0",
   "metadata": {
    "ExecuteTime": {
     "end_time": "2022-11-03T19:52:23.577113Z",
     "start_time": "2022-11-03T19:52:23.222395Z"
    }
   },
   "outputs": [
    {
     "name": "stdout",
     "output_type": "stream",
     "text": [
      "X now in shape of torch.Size([2394, 104, 1])\n",
      "y now in shape of torch.Size([2394, 1])\n"
     ]
    },
    {
     "name": "stderr",
     "output_type": "stream",
     "text": [
      "/home/fish/anaconda3/envs/comp3340/lib/python3.7/site-packages/ipykernel_launcher.py:24: UserWarning: Implicit dimension choice for softmax has been deprecated. Change the call to include dim=X as an argument.\n"
     ]
    },
    {
     "name": "stdout",
     "output_type": "stream",
     "text": [
      "Accuracy on test set: 92.69 %\n"
     ]
    }
   ],
   "source": [
    "X2 = X_tensor(X_valid_norm)\n",
    "y2 = y_tensor(y_valid_t1.iloc[:,-1])\n",
    "\n",
    "Valid_datasets = CusDatasetLoader(X2, y2)\n",
    "Valid_loader = DataLoader(dataset=train_datasets, batch_size=batch_size, shuffle=True)\n",
    "print(f\"Accuracy on test set: {check_accuracy(Valid_loader, model)*100:.2f} %\")"
   ]
  },
  {
   "cell_type": "markdown",
   "id": "b16acbcd",
   "metadata": {},
   "source": [
    "# Test"
   ]
  },
  {
   "cell_type": "code",
   "execution_count": 139,
   "id": "0fc30b2a",
   "metadata": {
    "ExecuteTime": {
     "end_time": "2022-11-03T19:52:23.586595Z",
     "start_time": "2022-11-03T19:52:23.579372Z"
    }
   },
   "outputs": [],
   "source": [
    "def test(loader, model):\n",
    "    # Set model to eval\n",
    "    model.eval()\n",
    "    res = torch.tensor([], dtype=torch.int64)\n",
    "    with torch.no_grad():\n",
    "        for x, y in loader:\n",
    "            x = x.to(device=device)\n",
    "            print(x.shape)\n",
    "            y = torch.squeeze(y.to(device=device), 1)\n",
    "            print(y.shape)\n",
    "\n",
    "            scores = model(x)\n",
    "            _, predictions = scores.max(1)\n",
    "            res =  torch.cat((predictions, res), 0)  \n",
    "    model.train()\n",
    "   \n",
    "    return res"
   ]
  },
  {
   "cell_type": "code",
   "execution_count": 140,
   "id": "767ccbaa",
   "metadata": {
    "ExecuteTime": {
     "end_time": "2022-11-03T19:52:23.616393Z",
     "start_time": "2022-11-03T19:52:23.590785Z"
    }
   },
   "outputs": [
    {
     "data": {
      "text/html": [
       "<div>\n",
       "<style scoped>\n",
       "    .dataframe tbody tr th:only-of-type {\n",
       "        vertical-align: middle;\n",
       "    }\n",
       "\n",
       "    .dataframe tbody tr th {\n",
       "        vertical-align: top;\n",
       "    }\n",
       "\n",
       "    .dataframe thead th {\n",
       "        text-align: right;\n",
       "    }\n",
       "</style>\n",
       "<table border=\"1\" class=\"dataframe\">\n",
       "  <thead>\n",
       "    <tr style=\"text-align: right;\">\n",
       "      <th></th>\n",
       "      <th>0</th>\n",
       "      <th>1</th>\n",
       "      <th>2</th>\n",
       "      <th>3</th>\n",
       "      <th>4</th>\n",
       "      <th>5</th>\n",
       "      <th>6</th>\n",
       "      <th>7</th>\n",
       "      <th>8</th>\n",
       "      <th>9</th>\n",
       "      <th>...</th>\n",
       "      <th>94</th>\n",
       "      <th>95</th>\n",
       "      <th>96</th>\n",
       "      <th>97</th>\n",
       "      <th>98</th>\n",
       "      <th>99</th>\n",
       "      <th>100</th>\n",
       "      <th>101</th>\n",
       "      <th>102</th>\n",
       "      <th>103</th>\n",
       "    </tr>\n",
       "  </thead>\n",
       "  <tbody>\n",
       "    <tr>\n",
       "      <th>0</th>\n",
       "      <td>0.165740</td>\n",
       "      <td>-0.004162</td>\n",
       "      <td>-0.018101</td>\n",
       "      <td>-0.019275</td>\n",
       "      <td>0.048917</td>\n",
       "      <td>0.073994</td>\n",
       "      <td>0.185472</td>\n",
       "      <td>0.127482</td>\n",
       "      <td>-0.006190</td>\n",
       "      <td>0.972110</td>\n",
       "      <td>...</td>\n",
       "      <td>3.176095</td>\n",
       "      <td>-0.553177</td>\n",
       "      <td>-0.004285</td>\n",
       "      <td>0.002797</td>\n",
       "      <td>0.017947</td>\n",
       "      <td>0.027071</td>\n",
       "      <td>0.017438</td>\n",
       "      <td>-0.017092</td>\n",
       "      <td>0.765229</td>\n",
       "      <td>0.026431</td>\n",
       "    </tr>\n",
       "    <tr>\n",
       "      <th>1</th>\n",
       "      <td>-0.504386</td>\n",
       "      <td>1.730745</td>\n",
       "      <td>-0.018101</td>\n",
       "      <td>-0.019275</td>\n",
       "      <td>0.048917</td>\n",
       "      <td>-0.183348</td>\n",
       "      <td>-1.315022</td>\n",
       "      <td>-0.430294</td>\n",
       "      <td>-0.371828</td>\n",
       "      <td>1.212867</td>\n",
       "      <td>...</td>\n",
       "      <td>0.019050</td>\n",
       "      <td>-0.022098</td>\n",
       "      <td>-0.004285</td>\n",
       "      <td>0.002797</td>\n",
       "      <td>0.017947</td>\n",
       "      <td>0.027071</td>\n",
       "      <td>-4.824070</td>\n",
       "      <td>-0.143602</td>\n",
       "      <td>2.209077</td>\n",
       "      <td>0.026431</td>\n",
       "    </tr>\n",
       "    <tr>\n",
       "      <th>2</th>\n",
       "      <td>-0.477027</td>\n",
       "      <td>1.012991</td>\n",
       "      <td>-0.018101</td>\n",
       "      <td>-0.019275</td>\n",
       "      <td>0.048917</td>\n",
       "      <td>0.291617</td>\n",
       "      <td>0.185472</td>\n",
       "      <td>-0.442176</td>\n",
       "      <td>-0.789188</td>\n",
       "      <td>0.731352</td>\n",
       "      <td>...</td>\n",
       "      <td>0.019050</td>\n",
       "      <td>-0.022098</td>\n",
       "      <td>-0.004285</td>\n",
       "      <td>0.002797</td>\n",
       "      <td>0.017947</td>\n",
       "      <td>0.027071</td>\n",
       "      <td>0.017438</td>\n",
       "      <td>-0.636430</td>\n",
       "      <td>-0.528219</td>\n",
       "      <td>0.026431</td>\n",
       "    </tr>\n",
       "    <tr>\n",
       "      <th>3</th>\n",
       "      <td>0.165740</td>\n",
       "      <td>-0.004162</td>\n",
       "      <td>-0.018101</td>\n",
       "      <td>-0.019275</td>\n",
       "      <td>0.048917</td>\n",
       "      <td>0.073994</td>\n",
       "      <td>-0.714824</td>\n",
       "      <td>0.127482</td>\n",
       "      <td>-0.006190</td>\n",
       "      <td>-0.231679</td>\n",
       "      <td>...</td>\n",
       "      <td>1.089125</td>\n",
       "      <td>0.097808</td>\n",
       "      <td>-0.004285</td>\n",
       "      <td>0.002797</td>\n",
       "      <td>0.017947</td>\n",
       "      <td>0.027071</td>\n",
       "      <td>0.017438</td>\n",
       "      <td>0.246553</td>\n",
       "      <td>-0.633499</td>\n",
       "      <td>0.026431</td>\n",
       "    </tr>\n",
       "    <tr>\n",
       "      <th>4</th>\n",
       "      <td>-0.529010</td>\n",
       "      <td>-0.004162</td>\n",
       "      <td>-0.018101</td>\n",
       "      <td>-0.019275</td>\n",
       "      <td>0.048917</td>\n",
       "      <td>-0.247532</td>\n",
       "      <td>-0.714824</td>\n",
       "      <td>-0.447268</td>\n",
       "      <td>2.549697</td>\n",
       "      <td>-0.231679</td>\n",
       "      <td>...</td>\n",
       "      <td>0.019050</td>\n",
       "      <td>-0.022098</td>\n",
       "      <td>-0.004285</td>\n",
       "      <td>0.002797</td>\n",
       "      <td>0.017947</td>\n",
       "      <td>0.027071</td>\n",
       "      <td>0.017438</td>\n",
       "      <td>-0.017092</td>\n",
       "      <td>-1.550945</td>\n",
       "      <td>0.026431</td>\n",
       "    </tr>\n",
       "    <tr>\n",
       "      <th>...</th>\n",
       "      <td>...</td>\n",
       "      <td>...</td>\n",
       "      <td>...</td>\n",
       "      <td>...</td>\n",
       "      <td>...</td>\n",
       "      <td>...</td>\n",
       "      <td>...</td>\n",
       "      <td>...</td>\n",
       "      <td>...</td>\n",
       "      <td>...</td>\n",
       "      <td>...</td>\n",
       "      <td>...</td>\n",
       "      <td>...</td>\n",
       "      <td>...</td>\n",
       "      <td>...</td>\n",
       "      <td>...</td>\n",
       "      <td>...</td>\n",
       "      <td>...</td>\n",
       "      <td>...</td>\n",
       "      <td>...</td>\n",
       "      <td>...</td>\n",
       "    </tr>\n",
       "    <tr>\n",
       "      <th>4785</th>\n",
       "      <td>0.165740</td>\n",
       "      <td>-0.004162</td>\n",
       "      <td>-0.018101</td>\n",
       "      <td>-0.019275</td>\n",
       "      <td>0.048917</td>\n",
       "      <td>0.073994</td>\n",
       "      <td>-0.414726</td>\n",
       "      <td>0.127482</td>\n",
       "      <td>-0.006190</td>\n",
       "      <td>1.453625</td>\n",
       "      <td>...</td>\n",
       "      <td>-5.693526</td>\n",
       "      <td>-0.137387</td>\n",
       "      <td>-0.004285</td>\n",
       "      <td>0.002797</td>\n",
       "      <td>0.017947</td>\n",
       "      <td>0.027071</td>\n",
       "      <td>0.017438</td>\n",
       "      <td>-1.083055</td>\n",
       "      <td>-0.347738</td>\n",
       "      <td>0.026431</td>\n",
       "    </tr>\n",
       "    <tr>\n",
       "      <th>4786</th>\n",
       "      <td>0.165740</td>\n",
       "      <td>-0.004162</td>\n",
       "      <td>-0.018101</td>\n",
       "      <td>-0.019275</td>\n",
       "      <td>0.048917</td>\n",
       "      <td>0.073994</td>\n",
       "      <td>0.485571</td>\n",
       "      <td>0.127482</td>\n",
       "      <td>-0.006190</td>\n",
       "      <td>-1.194710</td>\n",
       "      <td>...</td>\n",
       "      <td>0.019050</td>\n",
       "      <td>-0.022098</td>\n",
       "      <td>-0.004285</td>\n",
       "      <td>0.002797</td>\n",
       "      <td>0.017947</td>\n",
       "      <td>-0.655784</td>\n",
       "      <td>0.017438</td>\n",
       "      <td>-0.460709</td>\n",
       "      <td>0.028265</td>\n",
       "      <td>0.026431</td>\n",
       "    </tr>\n",
       "    <tr>\n",
       "      <th>4787</th>\n",
       "      <td>0.165740</td>\n",
       "      <td>-0.004162</td>\n",
       "      <td>-0.018101</td>\n",
       "      <td>-0.019275</td>\n",
       "      <td>0.048917</td>\n",
       "      <td>0.073994</td>\n",
       "      <td>-0.414726</td>\n",
       "      <td>0.127482</td>\n",
       "      <td>-0.006190</td>\n",
       "      <td>-0.713195</td>\n",
       "      <td>...</td>\n",
       "      <td>0.045641</td>\n",
       "      <td>-0.137387</td>\n",
       "      <td>-0.004285</td>\n",
       "      <td>0.002797</td>\n",
       "      <td>0.017947</td>\n",
       "      <td>0.027071</td>\n",
       "      <td>0.017438</td>\n",
       "      <td>0.415963</td>\n",
       "      <td>-0.257497</td>\n",
       "      <td>0.026431</td>\n",
       "    </tr>\n",
       "    <tr>\n",
       "      <th>4788</th>\n",
       "      <td>0.165740</td>\n",
       "      <td>-0.004162</td>\n",
       "      <td>-0.018101</td>\n",
       "      <td>-0.019275</td>\n",
       "      <td>0.048917</td>\n",
       "      <td>0.073994</td>\n",
       "      <td>1.085769</td>\n",
       "      <td>0.127482</td>\n",
       "      <td>-1.206549</td>\n",
       "      <td>-0.231679</td>\n",
       "      <td>...</td>\n",
       "      <td>0.019050</td>\n",
       "      <td>-0.022098</td>\n",
       "      <td>-0.004285</td>\n",
       "      <td>0.002797</td>\n",
       "      <td>0.017947</td>\n",
       "      <td>-0.593120</td>\n",
       "      <td>0.017438</td>\n",
       "      <td>-0.636430</td>\n",
       "      <td>1.096111</td>\n",
       "      <td>0.026431</td>\n",
       "    </tr>\n",
       "    <tr>\n",
       "      <th>4789</th>\n",
       "      <td>-0.466083</td>\n",
       "      <td>-2.815031</td>\n",
       "      <td>-0.018101</td>\n",
       "      <td>-0.019275</td>\n",
       "      <td>0.048917</td>\n",
       "      <td>-0.748171</td>\n",
       "      <td>0.485571</td>\n",
       "      <td>-0.442176</td>\n",
       "      <td>-0.371828</td>\n",
       "      <td>-0.472437</td>\n",
       "      <td>...</td>\n",
       "      <td>0.019050</td>\n",
       "      <td>-0.022098</td>\n",
       "      <td>-0.004285</td>\n",
       "      <td>0.002797</td>\n",
       "      <td>0.017947</td>\n",
       "      <td>0.027071</td>\n",
       "      <td>0.017438</td>\n",
       "      <td>-0.879150</td>\n",
       "      <td>0.780269</td>\n",
       "      <td>0.026431</td>\n",
       "    </tr>\n",
       "  </tbody>\n",
       "</table>\n",
       "<p>4790 rows × 104 columns</p>\n",
       "</div>"
      ],
      "text/plain": [
       "           0         1         2         3         4         5         6    \\\n",
       "0     0.165740 -0.004162 -0.018101 -0.019275  0.048917  0.073994  0.185472   \n",
       "1    -0.504386  1.730745 -0.018101 -0.019275  0.048917 -0.183348 -1.315022   \n",
       "2    -0.477027  1.012991 -0.018101 -0.019275  0.048917  0.291617  0.185472   \n",
       "3     0.165740 -0.004162 -0.018101 -0.019275  0.048917  0.073994 -0.714824   \n",
       "4    -0.529010 -0.004162 -0.018101 -0.019275  0.048917 -0.247532 -0.714824   \n",
       "...        ...       ...       ...       ...       ...       ...       ...   \n",
       "4785  0.165740 -0.004162 -0.018101 -0.019275  0.048917  0.073994 -0.414726   \n",
       "4786  0.165740 -0.004162 -0.018101 -0.019275  0.048917  0.073994  0.485571   \n",
       "4787  0.165740 -0.004162 -0.018101 -0.019275  0.048917  0.073994 -0.414726   \n",
       "4788  0.165740 -0.004162 -0.018101 -0.019275  0.048917  0.073994  1.085769   \n",
       "4789 -0.466083 -2.815031 -0.018101 -0.019275  0.048917 -0.748171  0.485571   \n",
       "\n",
       "           7         8         9    ...       94        95        96   \\\n",
       "0     0.127482 -0.006190  0.972110  ...  3.176095 -0.553177 -0.004285   \n",
       "1    -0.430294 -0.371828  1.212867  ...  0.019050 -0.022098 -0.004285   \n",
       "2    -0.442176 -0.789188  0.731352  ...  0.019050 -0.022098 -0.004285   \n",
       "3     0.127482 -0.006190 -0.231679  ...  1.089125  0.097808 -0.004285   \n",
       "4    -0.447268  2.549697 -0.231679  ...  0.019050 -0.022098 -0.004285   \n",
       "...        ...       ...       ...  ...       ...       ...       ...   \n",
       "4785  0.127482 -0.006190  1.453625  ... -5.693526 -0.137387 -0.004285   \n",
       "4786  0.127482 -0.006190 -1.194710  ...  0.019050 -0.022098 -0.004285   \n",
       "4787  0.127482 -0.006190 -0.713195  ...  0.045641 -0.137387 -0.004285   \n",
       "4788  0.127482 -1.206549 -0.231679  ...  0.019050 -0.022098 -0.004285   \n",
       "4789 -0.442176 -0.371828 -0.472437  ...  0.019050 -0.022098 -0.004285   \n",
       "\n",
       "           97        98        99        100       101       102       103  \n",
       "0     0.002797  0.017947  0.027071  0.017438 -0.017092  0.765229  0.026431  \n",
       "1     0.002797  0.017947  0.027071 -4.824070 -0.143602  2.209077  0.026431  \n",
       "2     0.002797  0.017947  0.027071  0.017438 -0.636430 -0.528219  0.026431  \n",
       "3     0.002797  0.017947  0.027071  0.017438  0.246553 -0.633499  0.026431  \n",
       "4     0.002797  0.017947  0.027071  0.017438 -0.017092 -1.550945  0.026431  \n",
       "...        ...       ...       ...       ...       ...       ...       ...  \n",
       "4785  0.002797  0.017947  0.027071  0.017438 -1.083055 -0.347738  0.026431  \n",
       "4786  0.002797  0.017947 -0.655784  0.017438 -0.460709  0.028265  0.026431  \n",
       "4787  0.002797  0.017947  0.027071  0.017438  0.415963 -0.257497  0.026431  \n",
       "4788  0.002797  0.017947 -0.593120  0.017438 -0.636430  1.096111  0.026431  \n",
       "4789  0.002797  0.017947  0.027071  0.017438 -0.879150  0.780269  0.026431  \n",
       "\n",
       "[4790 rows x 104 columns]"
      ]
     },
     "execution_count": 140,
     "metadata": {},
     "output_type": "execute_result"
    }
   ],
   "source": [
    "X_test_mean\n",
    "x_valid_mean=X_test_mean.values\n",
    "x_valid_mean_scaled = scaler.fit_transform(x_valid_mean)\n",
    "X_test_norm=pd.DataFrame(x_valid_mean_scaled)\n",
    "X_test_norm"
   ]
  },
  {
   "cell_type": "code",
   "execution_count": 141,
   "id": "66e51253",
   "metadata": {
    "ExecuteTime": {
     "end_time": "2022-11-03T19:52:23.728806Z",
     "start_time": "2022-11-03T19:52:23.617769Z"
    }
   },
   "outputs": [
    {
     "name": "stdout",
     "output_type": "stream",
     "text": [
      "X now in shape of torch.Size([4790, 104, 1])\n",
      "torch.Size([64, 1, 104])\n",
      "torch.Size([64])\n",
      "torch.Size([64, 1, 104])\n",
      "torch.Size([64])\n",
      "torch.Size([64, 1, 104])\n",
      "torch.Size([64])\n",
      "torch.Size([64, 1, 104])\n",
      "torch.Size([64])\n",
      "torch.Size([64, 1, 104])\n",
      "torch.Size([64])\n",
      "torch.Size([64, 1, 104])\n",
      "torch.Size([64])\n",
      "torch.Size([64, 1, 104])\n",
      "torch.Size([64])\n",
      "torch.Size([64, 1, 104])\n",
      "torch.Size([64])\n",
      "torch.Size([64, 1, 104])\n",
      "torch.Size([64])\n",
      "torch.Size([64, 1, 104])\n",
      "torch.Size([64])\n",
      "torch.Size([64, 1, 104])\n",
      "torch.Size([64])\n",
      "torch.Size([64, 1, 104])\n",
      "torch.Size([64])\n",
      "torch.Size([64, 1, 104])\n",
      "torch.Size([64])\n",
      "torch.Size([64, 1, 104])\n",
      "torch.Size([64])\n",
      "torch.Size([64, 1, 104])\n",
      "torch.Size([64])\n",
      "torch.Size([64, 1, 104])\n",
      "torch.Size([64])\n",
      "torch.Size([64, 1, 104])\n",
      "torch.Size([64])\n",
      "torch.Size([64, 1, 104])\n",
      "torch.Size([64])\n",
      "torch.Size([64, 1, 104])\n",
      "torch.Size([64])\n",
      "torch.Size([64, 1, 104])\n",
      "torch.Size([64])\n",
      "torch.Size([64, 1, 104])\n",
      "torch.Size([64])\n",
      "torch.Size([64, 1, 104])\n",
      "torch.Size([64])\n",
      "torch.Size([64, 1, 104])\n",
      "torch.Size([64])\n",
      "torch.Size([64, 1, 104])\n",
      "torch.Size([64])\n",
      "torch.Size([64, 1, 104])\n",
      "torch.Size([64])\n",
      "torch.Size([64, 1, 104])\n",
      "torch.Size([64])\n",
      "torch.Size([64, 1, 104])\n",
      "torch.Size([64])\n",
      "torch.Size([64, 1, 104])\n",
      "torch.Size([64])\n",
      "torch.Size([64, 1, 104])\n",
      "torch.Size([64])\n",
      "torch.Size([64, 1, 104])\n",
      "torch.Size([64])\n",
      "torch.Size([64, 1, 104])\n",
      "torch.Size([64])\n",
      "torch.Size([64, 1, 104])\n",
      "torch.Size([64])\n",
      "torch.Size([64, 1, 104])\n",
      "torch.Size([64])\n",
      "torch.Size([64, 1, 104])\n",
      "torch.Size([64])\n",
      "torch.Size([64, 1, 104])\n",
      "torch.Size([64])\n",
      "torch.Size([64, 1, 104])\n",
      "torch.Size([64])\n",
      "torch.Size([64, 1, 104])\n",
      "torch.Size([64])\n",
      "torch.Size([64, 1, 104])\n",
      "torch.Size([64])\n",
      "torch.Size([64, 1, 104])\n",
      "torch.Size([64])\n",
      "torch.Size([64, 1, 104])\n",
      "torch.Size([64])\n",
      "torch.Size([64, 1, 104])\n",
      "torch.Size([64])\n",
      "torch.Size([64, 1, 104])\n",
      "torch.Size([64])\n",
      "torch.Size([64, 1, 104])\n",
      "torch.Size([64])\n",
      "torch.Size([64, 1, 104])\n",
      "torch.Size([64])\n",
      "torch.Size([64, 1, 104])\n",
      "torch.Size([64])\n",
      "torch.Size([64, 1, 104])\n",
      "torch.Size([64])\n",
      "torch.Size([64, 1, 104])\n",
      "torch.Size([64])\n",
      "torch.Size([64, 1, 104])\n",
      "torch.Size([64])\n",
      "torch.Size([64, 1, 104])\n",
      "torch.Size([64])\n",
      "torch.Size([64, 1, 104])\n",
      "torch.Size([64])\n",
      "torch.Size([64, 1, 104])\n",
      "torch.Size([64])\n",
      "torch.Size([64, 1, 104])\n",
      "torch.Size([64])\n",
      "torch.Size([64, 1, 104])\n",
      "torch.Size([64])\n",
      "torch.Size([64, 1, 104])\n",
      "torch.Size([64])\n",
      "torch.Size([64, 1, 104])\n",
      "torch.Size([64])\n",
      "torch.Size([64, 1, 104])\n",
      "torch.Size([64])\n",
      "torch.Size([64, 1, 104])\n",
      "torch.Size([64])\n",
      "torch.Size([64, 1, 104])\n",
      "torch.Size([64])\n",
      "torch.Size([64, 1, 104])\n",
      "torch.Size([64])\n",
      "torch.Size([64, 1, 104])\n",
      "torch.Size([64])\n",
      "torch.Size([64, 1, 104])\n",
      "torch.Size([64])\n",
      "torch.Size([64, 1, 104])\n",
      "torch.Size([64])\n",
      "torch.Size([64, 1, 104])\n",
      "torch.Size([64])\n",
      "torch.Size([64, 1, 104])\n",
      "torch.Size([64])\n",
      "torch.Size([64, 1, 104])\n",
      "torch.Size([64])\n",
      "torch.Size([64, 1, 104])\n",
      "torch.Size([64])\n",
      "torch.Size([64, 1, 104])\n",
      "torch.Size([64])\n",
      "torch.Size([64, 1, 104])\n",
      "torch.Size([64])\n",
      "torch.Size([64, 1, 104])\n",
      "torch.Size([64])\n",
      "torch.Size([64, 1, 104])\n",
      "torch.Size([64])\n",
      "torch.Size([64, 1, 104])\n",
      "torch.Size([64])\n",
      "torch.Size([64, 1, 104])\n",
      "torch.Size([64])\n",
      "torch.Size([64, 1, 104])\n",
      "torch.Size([64])\n",
      "torch.Size([64, 1, 104])\n",
      "torch.Size([64])\n",
      "torch.Size([54, 1, 104])\n",
      "torch.Size([54])\n"
     ]
    },
    {
     "name": "stderr",
     "output_type": "stream",
     "text": [
      "/home/fish/anaconda3/envs/comp3340/lib/python3.7/site-packages/ipykernel_launcher.py:24: UserWarning: Implicit dimension choice for softmax has been deprecated. Change the call to include dim=X as an argument.\n"
     ]
    },
    {
     "data": {
      "text/plain": [
       "tensor([0, 0, 0,  ..., 0, 0, 0])"
      ]
     },
     "execution_count": 141,
     "metadata": {},
     "output_type": "execute_result"
    }
   ],
   "source": [
    "X_test_final = X_tensor(X_test_norm).permute(0,2,1)\n",
    "y_final = torch.zeros([4790,1])\n",
    "\n",
    "test_datasets = CusDatasetLoader(X_test_final, y_final)\n",
    "test_loader = DataLoader(dataset=test_datasets, batch_size=batch_size, shuffle=True)\n",
    "\n",
    "result = test(test_loader, model)\n",
    "result"
   ]
  },
  {
   "cell_type": "code",
   "execution_count": 142,
   "id": "8747d5c8",
   "metadata": {
    "ExecuteTime": {
     "end_time": "2022-11-03T19:52:23.781639Z",
     "start_time": "2022-11-03T19:52:23.730584Z"
    },
    "scrolled": true
   },
   "outputs": [
    {
     "name": "stdout",
     "output_type": "stream",
     "text": [
      "tensor(0)\n"
     ]
    },
    {
     "data": {
      "text/html": [
       "<div>\n",
       "<style scoped>\n",
       "    .dataframe tbody tr th:only-of-type {\n",
       "        vertical-align: middle;\n",
       "    }\n",
       "\n",
       "    .dataframe tbody tr th {\n",
       "        vertical-align: top;\n",
       "    }\n",
       "\n",
       "    .dataframe thead th {\n",
       "        text-align: right;\n",
       "    }\n",
       "</style>\n",
       "<table border=\"1\" class=\"dataframe\">\n",
       "  <thead>\n",
       "    <tr style=\"text-align: right;\">\n",
       "      <th></th>\n",
       "      <th>Predicted</th>\n",
       "    </tr>\n",
       "    <tr>\n",
       "      <th>Id</th>\n",
       "      <th></th>\n",
       "    </tr>\n",
       "  </thead>\n",
       "  <tbody>\n",
       "    <tr>\n",
       "      <th>32_175413_295037</th>\n",
       "      <td>0</td>\n",
       "    </tr>\n",
       "    <tr>\n",
       "      <th>33_176176_296681</th>\n",
       "      <td>0</td>\n",
       "    </tr>\n",
       "    <tr>\n",
       "      <th>42_119203_210828</th>\n",
       "      <td>0</td>\n",
       "    </tr>\n",
       "    <tr>\n",
       "      <th>44_181750_291554</th>\n",
       "      <td>0</td>\n",
       "    </tr>\n",
       "    <tr>\n",
       "      <th>61_176332_252348</th>\n",
       "      <td>0</td>\n",
       "    </tr>\n",
       "    <tr>\n",
       "      <th>...</th>\n",
       "      <td>...</td>\n",
       "    </tr>\n",
       "    <tr>\n",
       "      <th>99883_150755_276467</th>\n",
       "      <td>0</td>\n",
       "    </tr>\n",
       "    <tr>\n",
       "      <th>99897_162913_266801</th>\n",
       "      <td>0</td>\n",
       "    </tr>\n",
       "    <tr>\n",
       "      <th>99913_175989_292375</th>\n",
       "      <td>0</td>\n",
       "    </tr>\n",
       "    <tr>\n",
       "      <th>99944_185654_221067</th>\n",
       "      <td>0</td>\n",
       "    </tr>\n",
       "    <tr>\n",
       "      <th>99992_197084_242052</th>\n",
       "      <td>0</td>\n",
       "    </tr>\n",
       "  </tbody>\n",
       "</table>\n",
       "<p>4790 rows × 1 columns</p>\n",
       "</div>"
      ],
      "text/plain": [
       "                     Predicted\n",
       "Id                            \n",
       "32_175413_295037             0\n",
       "33_176176_296681             0\n",
       "42_119203_210828             0\n",
       "44_181750_291554             0\n",
       "61_176332_252348             0\n",
       "...                        ...\n",
       "99883_150755_276467          0\n",
       "99897_162913_266801          0\n",
       "99913_175989_292375          0\n",
       "99944_185654_221067          0\n",
       "99992_197084_242052          0\n",
       "\n",
       "[4790 rows x 1 columns]"
      ]
     },
     "execution_count": 142,
     "metadata": {},
     "output_type": "execute_result"
    }
   ],
   "source": [
    "\n",
    "#df.index = ['Row_1', 'Row_2', 'Row_3', 'Row_4']\n",
    "res1 = pd.DataFrame(result, columns=[\"Predicted\"])\n",
    "res1.index = X_test.index\n",
    "res1.index.name = 'Id'\n",
    "pd.DataFrame(res1).to_csv('out.csv')\n",
    "print(torch.count_nonzero(torch.from_numpy(np.array(res1)).to(torch.float32)))\n",
    "res1"
   ]
  },
  {
   "cell_type": "markdown",
   "id": "27ca623b",
   "metadata": {},
   "source": [
    "#"
   ]
  },
  {
   "cell_type": "markdown",
   "id": "afa29a40",
   "metadata": {},
   "source": [
    "#"
   ]
  },
  {
   "cell_type": "markdown",
   "id": "b8d38018",
   "metadata": {},
   "source": [
    "#"
   ]
  }
 ],
 "metadata": {
  "kernelspec": {
   "display_name": "comp3340",
   "language": "python",
   "name": "comp3340"
  },
  "language_info": {
   "codemirror_mode": {
    "name": "ipython",
    "version": 3
   },
   "file_extension": ".py",
   "mimetype": "text/x-python",
   "name": "python",
   "nbconvert_exporter": "python",
   "pygments_lexer": "ipython3",
   "version": "3.7.7"
  },
  "toc": {
   "base_numbering": 1,
   "nav_menu": {},
   "number_sections": true,
   "sideBar": true,
   "skip_h1_title": false,
   "title_cell": "Table of Contents",
   "title_sidebar": "Contents",
   "toc_cell": false,
   "toc_position": {},
   "toc_section_display": true,
   "toc_window_display": false
  }
 },
 "nbformat": 4,
 "nbformat_minor": 5
}
