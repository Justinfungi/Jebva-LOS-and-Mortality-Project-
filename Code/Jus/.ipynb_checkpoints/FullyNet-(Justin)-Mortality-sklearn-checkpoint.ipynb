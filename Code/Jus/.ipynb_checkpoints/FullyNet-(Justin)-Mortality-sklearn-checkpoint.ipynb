{
 "cells": [
  {
   "cell_type": "markdown",
   "id": "970d9aef",
   "metadata": {
    "heading_collapsed": true
   },
   "source": [
    "# Libraries"
   ]
  },
  {
   "cell_type": "code",
   "execution_count": 35,
   "id": "71cace5d",
   "metadata": {
    "ExecuteTime": {
     "end_time": "2022-11-14T09:48:26.909976Z",
     "start_time": "2022-11-14T09:48:26.905396Z"
    },
    "hidden": true
   },
   "outputs": [],
   "source": [
    "import torch\n",
    "import torchvision\n",
    "import torch.nn as nn\n",
    "import torch.optim as optim\n",
    "import torch.nn.functional as F\n",
    "from torch.utils.data import Dataset, DataLoader\n",
    "import torchvision.transforms as transforms\n",
    "import matplotlib.pyplot as plt\n",
    "from sklearn import metrics\n",
    "\n",
    "device = torch.device(\"cuda\" if torch.cuda.is_available() else \"cpu\")"
   ]
  },
  {
   "cell_type": "markdown",
   "id": "e5e3db1d",
   "metadata": {
    "ExecuteTime": {
     "end_time": "2022-10-27T03:47:12.458066Z",
     "start_time": "2022-10-27T03:47:12.452095Z"
    },
    "heading_collapsed": true
   },
   "source": [
    "# Import data"
   ]
  },
  {
   "cell_type": "code",
   "execution_count": 36,
   "id": "c7c7a26f",
   "metadata": {
    "ExecuteTime": {
     "end_time": "2022-11-14T09:48:52.319794Z",
     "start_time": "2022-11-14T09:48:26.911701Z"
    },
    "hidden": true
   },
   "outputs": [
    {
     "name": "stdout",
     "output_type": "stream",
     "text": [
      "************************************************************\n",
      "There are 6 set of X\n",
      "X_*_nozero\n",
      "------------------------------------------------------------\n",
      "Normalized version\n",
      "X_*_norm\n",
      "------------------------------------------------------------\n",
      "There are 4 set of Y\n",
      "y_train_t1, y_train_t2, y_valid_t1, y_valid_t2\n",
      "when training, please use: 'y_train_t1_value,y_train_t2_value,y_valid_t1_value,y_valid_t2_value'\n",
      "************************************************************\n"
     ]
    }
   ],
   "source": [
    "%run Data_preprocessing.ipynb"
   ]
  },
  {
   "cell_type": "code",
   "execution_count": 37,
   "id": "4aa393c8",
   "metadata": {
    "ExecuteTime": {
     "end_time": "2022-11-14T09:48:52.325639Z",
     "start_time": "2022-11-14T09:48:52.322582Z"
    },
    "hidden": true
   },
   "outputs": [
    {
     "name": "stdout",
     "output_type": "stream",
     "text": [
      "(16760, 61)\n",
      "(2394, 61)\n",
      "(4790, 61)\n"
     ]
    }
   ],
   "source": [
    "print(X_train_norm.shape)\n",
    "print(X_valid_norm.shape)\n",
    "print(X_test_norm.shape)"
   ]
  },
  {
   "cell_type": "markdown",
   "id": "07ffdcc1",
   "metadata": {
    "ExecuteTime": {
     "end_time": "2022-11-12T06:27:37.687176Z",
     "start_time": "2022-11-12T06:27:37.683442Z"
    },
    "heading_collapsed": true
   },
   "source": [
    "# Imbalanced Learning"
   ]
  },
  {
   "cell_type": "code",
   "execution_count": 38,
   "id": "a0e38388",
   "metadata": {
    "ExecuteTime": {
     "end_time": "2022-11-14T09:48:52.345072Z",
     "start_time": "2022-11-14T09:48:52.327048Z"
    },
    "hidden": true
   },
   "outputs": [
    {
     "name": "stdout",
     "output_type": "stream",
     "text": [
      "(15535, 62) (1225, 62)\n"
     ]
    }
   ],
   "source": [
    "Full = pd.DataFrame(np.concatenate((X_train_norm,pd.DataFrame(y_train_t1.iloc[:,-1])),axis=1))\n",
    "Full\n",
    "\n",
    "label0 = Full[Full[61]==0]\n",
    "label1 = Full[Full[61]==1]\n",
    "print(label0.shape,label1.shape)"
   ]
  },
  {
   "cell_type": "code",
   "execution_count": 39,
   "id": "cac17082",
   "metadata": {
    "ExecuteTime": {
     "end_time": "2022-11-14T09:48:52.377299Z",
     "start_time": "2022-11-14T09:48:52.346699Z"
    },
    "hidden": true
   },
   "outputs": [
    {
     "data": {
      "text/plain": [
       "(31070, 61)"
      ]
     },
     "execution_count": 39,
     "metadata": {},
     "output_type": "execute_result"
    }
   ],
   "source": [
    "from imblearn.over_sampling import RandomOverSampler\n",
    "oversample = RandomOverSampler()\n",
    "x_over, y_over = oversample.fit_resample(X_train_norm, y_train_t1.iloc[:,-1])\n",
    "\n",
    "\n",
    "y_over = pd.DataFrame(y_over)\n",
    "y_over.shape\n",
    "x_over.shape"
   ]
  },
  {
   "cell_type": "code",
   "execution_count": 40,
   "id": "dd3c662f",
   "metadata": {
    "ExecuteTime": {
     "end_time": "2022-11-14T09:48:52.395609Z",
     "start_time": "2022-11-14T09:48:52.379531Z"
    },
    "hidden": true
   },
   "outputs": [
    {
     "name": "stdout",
     "output_type": "stream",
     "text": [
      "(15535, 62) (15535, 62)\n"
     ]
    }
   ],
   "source": [
    "Full = pd.DataFrame(np.concatenate((x_over,y_over),axis=1))\n",
    "Full\n",
    "\n",
    "label0 = Full[Full[61]==0]\n",
    "label1 = Full[Full[61]==1]\n",
    "print(label0.shape,label1.shape)"
   ]
  },
  {
   "cell_type": "code",
   "execution_count": 41,
   "id": "55d6208d",
   "metadata": {
    "ExecuteTime": {
     "end_time": "2022-11-14T09:48:52.400850Z",
     "start_time": "2022-11-14T09:48:52.397398Z"
    },
    "hidden": true
   },
   "outputs": [],
   "source": [
    "X_train_norm=x_over\n",
    "\n",
    "y_train_t1 = y_over"
   ]
  },
  {
   "cell_type": "markdown",
   "id": "1542c335",
   "metadata": {
    "ExecuteTime": {
     "end_time": "2022-11-14T09:37:26.759973Z",
     "start_time": "2022-11-14T09:37:26.756004Z"
    }
   },
   "source": [
    "# Neural Network Using Sklearn build in function"
   ]
  },
  {
   "cell_type": "code",
   "execution_count": 42,
   "id": "61a47fdf",
   "metadata": {
    "ExecuteTime": {
     "end_time": "2022-11-14T09:48:54.469711Z",
     "start_time": "2022-11-14T09:48:52.402965Z"
    }
   },
   "outputs": [
    {
     "data": {
      "text/plain": [
       "0.7832080200501254"
      ]
     },
     "execution_count": 42,
     "metadata": {},
     "output_type": "execute_result"
    }
   ],
   "source": [
    "from sklearn.neural_network import MLPClassifier\n",
    "from sklearn.model_selection import train_test_split\n",
    "\n",
    "clf = MLPClassifier(solver=\"lbfgs\",\n",
    "                    alpha=1e-5,\n",
    "                    hidden_layer_sizes=(5,2),\n",
    "                    random_state=1,\n",
    "                    max_iter=200)\n",
    "\n",
    "clf.fit(X_train_norm, y_train_t1)\n",
    "\n",
    "clf.score(X_valid_norm, y_valid_t1_value)"
   ]
  },
  {
   "cell_type": "code",
   "execution_count": 43,
   "id": "7a3ae147",
   "metadata": {
    "ExecuteTime": {
     "end_time": "2022-11-14T09:48:54.689100Z",
     "start_time": "2022-11-14T09:48:54.472309Z"
    }
   },
   "outputs": [
    {
     "data": {
      "image/png": "[encoded data removed]",
      "text/plain": [
       "<Figure size 640x480 with 1 Axes>"
      ]
     },
     "metadata": {},
     "output_type": "display_data"
    }
   ],
   "source": [
    "y_pred = clf.predict(X_valid_norm)\n",
    "fpr, tpr, _ = metrics.roc_curve(y_valid_t1_value, y_pred)\n",
    "roc_auc = metrics.roc_auc_score(y_valid_t1_value, y_pred)\n",
    "\n",
    "\n",
    "\n",
    "plt.figure(1)\n",
    "plt.plot([0, 1], [0, 1], 'k-')\n",
    "plt.plot(fpr, tpr, label='FN(area = {:.3f})'.format(roc_auc))\n",
    "plt.xlabel('False positive rate')\n",
    "plt.ylabel('True positive rate')\n",
    "plt.title(\"ROC curve\")\n",
    "plt.legend(loc=\"best\")\n",
    "plt.show()"
   ]
  },
  {
   "cell_type": "markdown",
   "id": "7eaa1314",
   "metadata": {
    "ExecuteTime": {
     "end_time": "2022-11-14T09:39:42.985881Z",
     "start_time": "2022-11-14T09:39:42.982955Z"
    }
   },
   "source": [
    "# Hyperparameter and setting tuning"
   ]
  },
  {
   "cell_type": "markdown",
   "id": "45b5905c",
   "metadata": {
    "ExecuteTime": {
     "end_time": "2022-11-14T10:48:05.363047Z",
     "start_time": "2022-11-14T10:48:05.359385Z"
    }
   },
   "source": [
    "## layers"
   ]
  },
  {
   "cell_type": "code",
   "execution_count": null,
   "id": "8e9bbbe6",
   "metadata": {
    "ExecuteTime": {
     "start_time": "2022-11-14T10:51:06.710Z"
    }
   },
   "outputs": [],
   "source": [
    "layer_list = []\n",
    "fpr_lst=[]\n",
    "tpr_lst=[]\n",
    "roc_auc_lst=[]\n",
    "for i in range(1,20,5):\n",
    "    for j in range(1,20,5):\n",
    "        layer_list.append((i,j))\n",
    "        \n",
    "for i in layer_list:\n",
    "    clf = MLPClassifier(solver=\"lbfgs\",\n",
    "                        alpha=1e-5,\n",
    "                        hidden_layer_sizes=i,\n",
    "                        random_state=1,\n",
    "                        max_iter=200)\n",
    "\n",
    "    clf.fit(X_train_norm, y_train_t1)\n",
    "    clf.score(X_valid_norm, y_valid_t1_value)\n",
    "    y_pred = clf.predict(X_valid_norm)\n",
    "    fpr, tpr, _ = metrics.roc_curve(y_valid_t1_value, y_pred)\n",
    "    roc_auc = metrics.roc_auc_score(y_valid_t1_value, y_pred)\n",
    "    \n",
    "    fpr_lst.append(fpr)\n",
    "    tpr_lst.append(tpr)\n",
    "    roc_auc_lst.append(roc_auc)\n",
    "    \n",
    "    \n",
    "index = roc_auc_lst.index(max(roc_auc_lst))\n",
    "plt.figure(1)\n",
    "plt.plot([0, 1], [0, 1], 'k-')\n",
    "plt.plot(fpr_lst[index], tpr_lst[index], label='FN(area = {:.3f})'.format(max(roc_auc_lst)))\n",
    "plt.xlabel('False positive rate')\n",
    "plt.ylabel('True positive rate')\n",
    "plt.title(\"ROC curve\")\n",
    "plt.legend(loc=\"best\")\n",
    "plt.show()"
   ]
  },
  {
   "cell_type": "code",
   "execution_count": 50,
   "id": "754bfc1c",
   "metadata": {
    "ExecuteTime": {
     "end_time": "2022-11-14T09:59:18.773484Z",
     "start_time": "2022-11-14T09:58:54.091584Z"
    }
   },
   "outputs": [
    {
     "data": {
      "image/png": "[encoded data removed]",
      "text/plain": [
       "<Figure size 500x500 with 3 Axes>"
      ]
     },
     "metadata": {},
     "output_type": "display_data"
    }
   ],
   "source": [
    "solver_list = [\"lbfgs\",\"sgd\",\"adam\"]\n",
    "fpr_lst=[]\n",
    "tpr_lst=[]\n",
    "roc_auc_lst=[]\n",
    "\n",
    "for i in solver_list:\n",
    "    clf = MLPClassifier(solver=i,\n",
    "                        alpha=1e-5,\n",
    "                        hidden_layer_sizes=(5,2),\n",
    "                        random_state=1,\n",
    "                        max_iter=200)\n",
    "\n",
    "    clf.fit(X_train_norm, y_train_t1)\n",
    "    clf.score(X_valid_norm, y_valid_t1_value)\n",
    "    y_pred = clf.predict(X_valid_norm)\n",
    "    fpr, tpr, _ = metrics.roc_curve(y_valid_t1_value, y_pred)\n",
    "    roc_auc = metrics.roc_auc_score(y_valid_t1_value, y_pred)\n",
    "    \n",
    "    fpr_lst.append(fpr)\n",
    "    tpr_lst.append(tpr)\n",
    "    roc_auc_lst.append(roc_auc)\n",
    "    \n",
    "    \n",
    "fig, axes = plt.subplots(1, 3, sharex=True, sharey=True)\n",
    "\n",
    "for j in range(3):\n",
    "    plt.figure(figsize=(5,5))\n",
    "    plt.figure(1)\n",
    "    axes[j].plot([0, 1], [0, 1], 'k-')\n",
    "    axes[j].plot(fpr_lst[j], tpr_lst[j], label='FN(area = {:.3f})'.format(roc_auc_lst[j]))\n",
    "    axes[j].set_xlabel('False positive rate')\n",
    "    axes[j].set_ylabel('True positive rate')\n",
    "    axes[j].set_title(\"ROC curve\")\n",
    "    axes[j].legend(loc=\"best\")\n",
    "plt.show()"
   ]
  },
  {
   "cell_type": "raw",
   "id": "4220f67f",
   "metadata": {},
   "source": [
    "For small datasets, however, ‘lbfgs’ can converge faster and perform better"
   ]
  },
  {
   "cell_type": "markdown",
   "id": "893d31a1",
   "metadata": {
    "ExecuteTime": {
     "end_time": "2022-11-14T10:00:23.542784Z",
     "start_time": "2022-11-14T10:00:23.538559Z"
    }
   },
   "source": [
    "## Learning rate tuning"
   ]
  },
  {
   "cell_type": "code",
   "execution_count": null,
   "id": "ee20b4f5",
   "metadata": {},
   "outputs": [],
   "source": [
    "fpr_lst=[]\n",
    "tpr_lst=[]\n",
    "roc_auc_lst=[]\n",
    "\n",
    "for i in range(0,1):\n",
    "    clf = MLPClassifier(solver=i,\n",
    "                        alpha=1e-5,\n",
    "                        hidden_layer_sizes=(5,2),\n",
    "                        random_state=3612,\n",
    "                        max_iter=200)\n",
    "\n",
    "    clf.fit(X_train_norm, y_train_t1)\n",
    "    clf.score(X_valid_norm, y_valid_t1_value)\n",
    "    y_pred = clf.predict(X_valid_norm)\n",
    "    fpr, tpr, _ = metrics.roc_curve(y_valid_t1_value, y_pred)\n",
    "    roc_auc = metrics.roc_auc_score(y_valid_t1_value, y_pred)\n",
    "    \n",
    "    fpr_lst.append(fpr)\n",
    "    tpr_lst.append(tpr)\n",
    "    roc_auc_lst.append(roc_auc)\n",
    "    \n",
    "    \n",
    "fig, axes = plt.subplots(1, 3, sharex=True, sharey=True, figsize=(5,5))\n",
    "for j in range(3):\n",
    "    \n",
    "    plt.figure(1)\n",
    "    axes[j].plot([0, 1], [0, 1], 'k-')\n",
    "    axes[j].plot(fpr_lst[j], tpr_lst[j], label='FN(area = {:.3f})'.format(roc_auc_lst[j]))\n",
    "    axes[j].set_xlabel('False positive rate')\n",
    "    axes[j].set_ylabel('True positive rate')\n",
    "    axes[j].set_title(\"ROC curve\")\n",
    "    axes[j].legend(loc=\"best\")\n",
    "plt.show()"
   ]
  },
  {
   "cell_type": "markdown",
   "id": "b16acbcd",
   "metadata": {
    "heading_collapsed": true
   },
   "source": [
    "# Test"
   ]
  },
  {
   "cell_type": "code",
   "execution_count": 45,
   "id": "dcff3df6",
   "metadata": {
    "ExecuteTime": {
     "end_time": "2022-11-14T09:49:20.131116Z",
     "start_time": "2022-11-14T09:49:20.104863Z"
    },
    "hidden": true
   },
   "outputs": [
    {
     "data": {
      "text/html": [
       "<div>\n",
       "<style scoped>\n",
       "    .dataframe tbody tr th:only-of-type {\n",
       "        vertical-align: middle;\n",
       "    }\n",
       "\n",
       "    .dataframe tbody tr th {\n",
       "        vertical-align: top;\n",
       "    }\n",
       "\n",
       "    .dataframe thead th {\n",
       "        text-align: right;\n",
       "    }\n",
       "</style>\n",
       "<table border=\"1\" class=\"dataframe\">\n",
       "  <thead>\n",
       "    <tr style=\"text-align: right;\">\n",
       "      <th></th>\n",
       "      <th>0</th>\n",
       "      <th>1</th>\n",
       "      <th>2</th>\n",
       "      <th>3</th>\n",
       "      <th>4</th>\n",
       "      <th>5</th>\n",
       "      <th>6</th>\n",
       "      <th>7</th>\n",
       "      <th>8</th>\n",
       "      <th>9</th>\n",
       "      <th>...</th>\n",
       "      <th>51</th>\n",
       "      <th>52</th>\n",
       "      <th>53</th>\n",
       "      <th>54</th>\n",
       "      <th>55</th>\n",
       "      <th>56</th>\n",
       "      <th>57</th>\n",
       "      <th>58</th>\n",
       "      <th>59</th>\n",
       "      <th>60</th>\n",
       "    </tr>\n",
       "  </thead>\n",
       "  <tbody>\n",
       "    <tr>\n",
       "      <th>0</th>\n",
       "      <td>0.000000</td>\n",
       "      <td>2.882147e-18</td>\n",
       "      <td>0.000000</td>\n",
       "      <td>0.193160</td>\n",
       "      <td>6.016953e-17</td>\n",
       "      <td>5.609774e-18</td>\n",
       "      <td>0.971208</td>\n",
       "      <td>-2.477535e-17</td>\n",
       "      <td>-0.700754</td>\n",
       "      <td>-0.085412</td>\n",
       "      <td>...</td>\n",
       "      <td>-1.094667</td>\n",
       "      <td>0.761543</td>\n",
       "      <td>-0.269197</td>\n",
       "      <td>0.796149</td>\n",
       "      <td>-2.749614e+00</td>\n",
       "      <td>3.198461e+00</td>\n",
       "      <td>-5.959798e-01</td>\n",
       "      <td>4.188770e-17</td>\n",
       "      <td>-1.662156e-17</td>\n",
       "      <td>0.766021</td>\n",
       "    </tr>\n",
       "    <tr>\n",
       "      <th>1</th>\n",
       "      <td>-0.312102</td>\n",
       "      <td>1.723721e+00</td>\n",
       "      <td>-0.090785</td>\n",
       "      <td>-1.308996</td>\n",
       "      <td>-2.810434e-01</td>\n",
       "      <td>-3.818694e-01</td>\n",
       "      <td>1.211987</td>\n",
       "      <td>-3.767748e-01</td>\n",
       "      <td>-0.343800</td>\n",
       "      <td>-0.015321</td>\n",
       "      <td>...</td>\n",
       "      <td>0.000000</td>\n",
       "      <td>0.298294</td>\n",
       "      <td>-0.175260</td>\n",
       "      <td>0.057241</td>\n",
       "      <td>3.604995e-17</td>\n",
       "      <td>3.454719e-17</td>\n",
       "      <td>1.042083e-17</td>\n",
       "      <td>4.188770e-17</td>\n",
       "      <td>-1.521141e-01</td>\n",
       "      <td>2.209922</td>\n",
       "    </tr>\n",
       "    <tr>\n",
       "      <th>2</th>\n",
       "      <td>-0.284284</td>\n",
       "      <td>1.005956e+00</td>\n",
       "      <td>0.385820</td>\n",
       "      <td>0.193160</td>\n",
       "      <td>-2.930417e-01</td>\n",
       "      <td>-7.992430e-01</td>\n",
       "      <td>0.730430</td>\n",
       "      <td>-5.511088e-01</td>\n",
       "      <td>-0.547773</td>\n",
       "      <td>0.405221</td>\n",
       "      <td>...</td>\n",
       "      <td>0.000000</td>\n",
       "      <td>-0.164956</td>\n",
       "      <td>1.186824</td>\n",
       "      <td>-1.226029</td>\n",
       "      <td>3.604995e-17</td>\n",
       "      <td>3.454719e-17</td>\n",
       "      <td>1.042083e-17</td>\n",
       "      <td>4.188770e-17</td>\n",
       "      <td>-6.449774e-01</td>\n",
       "      <td>-0.527474</td>\n",
       "    </tr>\n",
       "    <tr>\n",
       "      <th>3</th>\n",
       "      <td>0.000000</td>\n",
       "      <td>2.882147e-18</td>\n",
       "      <td>0.000000</td>\n",
       "      <td>-0.708134</td>\n",
       "      <td>6.016953e-17</td>\n",
       "      <td>5.609774e-18</td>\n",
       "      <td>-0.232683</td>\n",
       "      <td>-2.477535e-17</td>\n",
       "      <td>0.013154</td>\n",
       "      <td>0.000000</td>\n",
       "      <td>...</td>\n",
       "      <td>-2.765092</td>\n",
       "      <td>-0.396581</td>\n",
       "      <td>-0.410103</td>\n",
       "      <td>1.418316</td>\n",
       "      <td>1.164973e+00</td>\n",
       "      <td>1.111059e+00</td>\n",
       "      <td>5.531141e-02</td>\n",
       "      <td>4.188770e-17</td>\n",
       "      <td>2.380694e-01</td>\n",
       "      <td>-0.632759</td>\n",
       "    </tr>\n",
       "    <tr>\n",
       "      <th>4</th>\n",
       "      <td>-0.337139</td>\n",
       "      <td>2.882147e-18</td>\n",
       "      <td>-0.155191</td>\n",
       "      <td>-0.708134</td>\n",
       "      <td>-2.981838e-01</td>\n",
       "      <td>2.539745e+00</td>\n",
       "      <td>-0.232683</td>\n",
       "      <td>-5.511088e-01</td>\n",
       "      <td>-0.343800</td>\n",
       "      <td>-0.786317</td>\n",
       "      <td>...</td>\n",
       "      <td>0.000000</td>\n",
       "      <td>0.298294</td>\n",
       "      <td>-1.584314</td>\n",
       "      <td>1.184969</td>\n",
       "      <td>3.604995e-17</td>\n",
       "      <td>3.454719e-17</td>\n",
       "      <td>1.042083e-17</td>\n",
       "      <td>4.188770e-17</td>\n",
       "      <td>-1.662156e-17</td>\n",
       "      <td>-1.550237</td>\n",
       "    </tr>\n",
       "    <tr>\n",
       "      <th>...</th>\n",
       "      <td>...</td>\n",
       "      <td>...</td>\n",
       "      <td>...</td>\n",
       "      <td>...</td>\n",
       "      <td>...</td>\n",
       "      <td>...</td>\n",
       "      <td>...</td>\n",
       "      <td>...</td>\n",
       "      <td>...</td>\n",
       "      <td>...</td>\n",
       "      <td>...</td>\n",
       "      <td>...</td>\n",
       "      <td>...</td>\n",
       "      <td>...</td>\n",
       "      <td>...</td>\n",
       "      <td>...</td>\n",
       "      <td>...</td>\n",
       "      <td>...</td>\n",
       "      <td>...</td>\n",
       "      <td>...</td>\n",
       "      <td>...</td>\n",
       "    </tr>\n",
       "    <tr>\n",
       "      <th>4785</th>\n",
       "      <td>0.000000</td>\n",
       "      <td>2.882147e-18</td>\n",
       "      <td>0.000000</td>\n",
       "      <td>-0.407702</td>\n",
       "      <td>6.016953e-17</td>\n",
       "      <td>5.609774e-18</td>\n",
       "      <td>1.452765</td>\n",
       "      <td>-2.477535e-17</td>\n",
       "      <td>0.013154</td>\n",
       "      <td>0.545402</td>\n",
       "      <td>...</td>\n",
       "      <td>-3.878709</td>\n",
       "      <td>-0.396581</td>\n",
       "      <td>-1.255535</td>\n",
       "      <td>-0.214951</td>\n",
       "      <td>-7.502785e-01</td>\n",
       "      <td>-5.672995e+00</td>\n",
       "      <td>-1.799938e-01</td>\n",
       "      <td>4.188770e-17</td>\n",
       "      <td>-1.091635e+00</td>\n",
       "      <td>-0.346986</td>\n",
       "    </tr>\n",
       "    <tr>\n",
       "      <th>4786</th>\n",
       "      <td>0.000000</td>\n",
       "      <td>2.882147e-18</td>\n",
       "      <td>0.000000</td>\n",
       "      <td>0.493592</td>\n",
       "      <td>6.016953e-17</td>\n",
       "      <td>5.609774e-18</td>\n",
       "      <td>-1.195797</td>\n",
       "      <td>-2.477535e-17</td>\n",
       "      <td>2.103882</td>\n",
       "      <td>0.335131</td>\n",
       "      <td>...</td>\n",
       "      <td>0.000000</td>\n",
       "      <td>-2.017954</td>\n",
       "      <td>0.951982</td>\n",
       "      <td>-0.603824</td>\n",
       "      <td>3.604995e-17</td>\n",
       "      <td>3.454719e-17</td>\n",
       "      <td>1.042083e-17</td>\n",
       "      <td>-5.910209e-01</td>\n",
       "      <td>-4.692437e-01</td>\n",
       "      <td>0.029029</td>\n",
       "    </tr>\n",
       "    <tr>\n",
       "      <th>4787</th>\n",
       "      <td>0.000000</td>\n",
       "      <td>2.882147e-18</td>\n",
       "      <td>0.000000</td>\n",
       "      <td>-0.407702</td>\n",
       "      <td>6.016953e-17</td>\n",
       "      <td>5.609774e-18</td>\n",
       "      <td>-0.714240</td>\n",
       "      <td>-2.477535e-17</td>\n",
       "      <td>-0.751747</td>\n",
       "      <td>0.000000</td>\n",
       "      <td>...</td>\n",
       "      <td>0.297353</td>\n",
       "      <td>-0.396581</td>\n",
       "      <td>-0.316166</td>\n",
       "      <td>0.718344</td>\n",
       "      <td>-8.250200e-01</td>\n",
       "      <td>6.735880e-02</td>\n",
       "      <td>-1.799938e-01</td>\n",
       "      <td>4.188770e-17</td>\n",
       "      <td>4.074914e-01</td>\n",
       "      <td>-0.256743</td>\n",
       "    </tr>\n",
       "    <tr>\n",
       "      <th>4788</th>\n",
       "      <td>0.000000</td>\n",
       "      <td>2.882147e-18</td>\n",
       "      <td>0.000000</td>\n",
       "      <td>1.094454</td>\n",
       "      <td>6.016953e-17</td>\n",
       "      <td>-1.216617e+00</td>\n",
       "      <td>-0.232683</td>\n",
       "      <td>-2.477535e-17</td>\n",
       "      <td>0.472094</td>\n",
       "      <td>0.265040</td>\n",
       "      <td>...</td>\n",
       "      <td>0.000000</td>\n",
       "      <td>0.529918</td>\n",
       "      <td>1.139856</td>\n",
       "      <td>-0.914922</td>\n",
       "      <td>3.604995e-17</td>\n",
       "      <td>3.454719e-17</td>\n",
       "      <td>1.042083e-17</td>\n",
       "      <td>-5.283017e-01</td>\n",
       "      <td>-6.449774e-01</td>\n",
       "      <td>1.096915</td>\n",
       "    </tr>\n",
       "    <tr>\n",
       "      <th>4789</th>\n",
       "      <td>-0.273157</td>\n",
       "      <td>-2.822122e+00</td>\n",
       "      <td>-0.657559</td>\n",
       "      <td>0.493592</td>\n",
       "      <td>-2.930417e-01</td>\n",
       "      <td>-3.818694e-01</td>\n",
       "      <td>-0.473462</td>\n",
       "      <td>-6.237480e-01</td>\n",
       "      <td>1.644941</td>\n",
       "      <td>-0.716226</td>\n",
       "      <td>...</td>\n",
       "      <td>0.000000</td>\n",
       "      <td>-0.628205</td>\n",
       "      <td>1.797414</td>\n",
       "      <td>-0.137176</td>\n",
       "      <td>3.604995e-17</td>\n",
       "      <td>3.454719e-17</td>\n",
       "      <td>1.042083e-17</td>\n",
       "      <td>4.188770e-17</td>\n",
       "      <td>-8.877156e-01</td>\n",
       "      <td>0.781061</td>\n",
       "    </tr>\n",
       "  </tbody>\n",
       "</table>\n",
       "<p>4790 rows × 61 columns</p>\n",
       "</div>"
      ],
      "text/plain": [
       "            0             1         2         3             4             5   \\\n",
       "0     0.000000  2.882147e-18  0.000000  0.193160  6.016953e-17  5.609774e-18   \n",
       "1    -0.312102  1.723721e+00 -0.090785 -1.308996 -2.810434e-01 -3.818694e-01   \n",
       "2    -0.284284  1.005956e+00  0.385820  0.193160 -2.930417e-01 -7.992430e-01   \n",
       "3     0.000000  2.882147e-18  0.000000 -0.708134  6.016953e-17  5.609774e-18   \n",
       "4    -0.337139  2.882147e-18 -0.155191 -0.708134 -2.981838e-01  2.539745e+00   \n",
       "...        ...           ...       ...       ...           ...           ...   \n",
       "4785  0.000000  2.882147e-18  0.000000 -0.407702  6.016953e-17  5.609774e-18   \n",
       "4786  0.000000  2.882147e-18  0.000000  0.493592  6.016953e-17  5.609774e-18   \n",
       "4787  0.000000  2.882147e-18  0.000000 -0.407702  6.016953e-17  5.609774e-18   \n",
       "4788  0.000000  2.882147e-18  0.000000  1.094454  6.016953e-17 -1.216617e+00   \n",
       "4789 -0.273157 -2.822122e+00 -0.657559  0.493592 -2.930417e-01 -3.818694e-01   \n",
       "\n",
       "            6             7         8         9   ...        51        52  \\\n",
       "0     0.971208 -2.477535e-17 -0.700754 -0.085412  ... -1.094667  0.761543   \n",
       "1     1.211987 -3.767748e-01 -0.343800 -0.015321  ...  0.000000  0.298294   \n",
       "2     0.730430 -5.511088e-01 -0.547773  0.405221  ...  0.000000 -0.164956   \n",
       "3    -0.232683 -2.477535e-17  0.013154  0.000000  ... -2.765092 -0.396581   \n",
       "4    -0.232683 -5.511088e-01 -0.343800 -0.786317  ...  0.000000  0.298294   \n",
       "...        ...           ...       ...       ...  ...       ...       ...   \n",
       "4785  1.452765 -2.477535e-17  0.013154  0.545402  ... -3.878709 -0.396581   \n",
       "4786 -1.195797 -2.477535e-17  2.103882  0.335131  ...  0.000000 -2.017954   \n",
       "4787 -0.714240 -2.477535e-17 -0.751747  0.000000  ...  0.297353 -0.396581   \n",
       "4788 -0.232683 -2.477535e-17  0.472094  0.265040  ...  0.000000  0.529918   \n",
       "4789 -0.473462 -6.237480e-01  1.644941 -0.716226  ...  0.000000 -0.628205   \n",
       "\n",
       "            53        54            55            56            57  \\\n",
       "0    -0.269197  0.796149 -2.749614e+00  3.198461e+00 -5.959798e-01   \n",
       "1    -0.175260  0.057241  3.604995e-17  3.454719e-17  1.042083e-17   \n",
       "2     1.186824 -1.226029  3.604995e-17  3.454719e-17  1.042083e-17   \n",
       "3    -0.410103  1.418316  1.164973e+00  1.111059e+00  5.531141e-02   \n",
       "4    -1.584314  1.184969  3.604995e-17  3.454719e-17  1.042083e-17   \n",
       "...        ...       ...           ...           ...           ...   \n",
       "4785 -1.255535 -0.214951 -7.502785e-01 -5.672995e+00 -1.799938e-01   \n",
       "4786  0.951982 -0.603824  3.604995e-17  3.454719e-17  1.042083e-17   \n",
       "4787 -0.316166  0.718344 -8.250200e-01  6.735880e-02 -1.799938e-01   \n",
       "4788  1.139856 -0.914922  3.604995e-17  3.454719e-17  1.042083e-17   \n",
       "4789  1.797414 -0.137176  3.604995e-17  3.454719e-17  1.042083e-17   \n",
       "\n",
       "                58            59        60  \n",
       "0     4.188770e-17 -1.662156e-17  0.766021  \n",
       "1     4.188770e-17 -1.521141e-01  2.209922  \n",
       "2     4.188770e-17 -6.449774e-01 -0.527474  \n",
       "3     4.188770e-17  2.380694e-01 -0.632759  \n",
       "4     4.188770e-17 -1.662156e-17 -1.550237  \n",
       "...            ...           ...       ...  \n",
       "4785  4.188770e-17 -1.091635e+00 -0.346986  \n",
       "4786 -5.910209e-01 -4.692437e-01  0.029029  \n",
       "4787  4.188770e-17  4.074914e-01 -0.256743  \n",
       "4788 -5.283017e-01 -6.449774e-01  1.096915  \n",
       "4789  4.188770e-17 -8.877156e-01  0.781061  \n",
       "\n",
       "[4790 rows x 61 columns]"
      ]
     },
     "execution_count": 45,
     "metadata": {},
     "output_type": "execute_result"
    }
   ],
   "source": [
    "X_test_norm"
   ]
  },
  {
   "cell_type": "code",
   "execution_count": 46,
   "id": "8747d5c8",
   "metadata": {
    "ExecuteTime": {
     "end_time": "2022-11-14T09:49:20.154855Z",
     "start_time": "2022-11-14T09:49:20.133830Z"
    },
    "hidden": true,
    "scrolled": true
   },
   "outputs": [
    {
     "data": {
      "text/html": [
       "<div>\n",
       "<style scoped>\n",
       "    .dataframe tbody tr th:only-of-type {\n",
       "        vertical-align: middle;\n",
       "    }\n",
       "\n",
       "    .dataframe tbody tr th {\n",
       "        vertical-align: top;\n",
       "    }\n",
       "\n",
       "    .dataframe thead th {\n",
       "        text-align: right;\n",
       "    }\n",
       "</style>\n",
       "<table border=\"1\" class=\"dataframe\">\n",
       "  <thead>\n",
       "    <tr style=\"text-align: right;\">\n",
       "      <th></th>\n",
       "      <th>Predicted</th>\n",
       "    </tr>\n",
       "    <tr>\n",
       "      <th>Id</th>\n",
       "      <th></th>\n",
       "    </tr>\n",
       "  </thead>\n",
       "  <tbody>\n",
       "    <tr>\n",
       "      <th>32_175413_295037</th>\n",
       "      <td>0</td>\n",
       "    </tr>\n",
       "    <tr>\n",
       "      <th>33_176176_296681</th>\n",
       "      <td>0</td>\n",
       "    </tr>\n",
       "    <tr>\n",
       "      <th>42_119203_210828</th>\n",
       "      <td>0</td>\n",
       "    </tr>\n",
       "    <tr>\n",
       "      <th>44_181750_291554</th>\n",
       "      <td>0</td>\n",
       "    </tr>\n",
       "    <tr>\n",
       "      <th>61_176332_252348</th>\n",
       "      <td>0</td>\n",
       "    </tr>\n",
       "    <tr>\n",
       "      <th>...</th>\n",
       "      <td>...</td>\n",
       "    </tr>\n",
       "    <tr>\n",
       "      <th>99883_150755_276467</th>\n",
       "      <td>0</td>\n",
       "    </tr>\n",
       "    <tr>\n",
       "      <th>99897_162913_266801</th>\n",
       "      <td>0</td>\n",
       "    </tr>\n",
       "    <tr>\n",
       "      <th>99913_175989_292375</th>\n",
       "      <td>0</td>\n",
       "    </tr>\n",
       "    <tr>\n",
       "      <th>99944_185654_221067</th>\n",
       "      <td>0</td>\n",
       "    </tr>\n",
       "    <tr>\n",
       "      <th>99992_197084_242052</th>\n",
       "      <td>0</td>\n",
       "    </tr>\n",
       "  </tbody>\n",
       "</table>\n",
       "<p>4790 rows × 1 columns</p>\n",
       "</div>"
      ],
      "text/plain": [
       "                     Predicted\n",
       "Id                            \n",
       "32_175413_295037             0\n",
       "33_176176_296681             0\n",
       "42_119203_210828             0\n",
       "44_181750_291554             0\n",
       "61_176332_252348             0\n",
       "...                        ...\n",
       "99883_150755_276467          0\n",
       "99897_162913_266801          0\n",
       "99913_175989_292375          0\n",
       "99944_185654_221067          0\n",
       "99992_197084_242052          0\n",
       "\n",
       "[4790 rows x 1 columns]"
      ]
     },
     "execution_count": 46,
     "metadata": {},
     "output_type": "execute_result"
    }
   ],
   "source": [
    "\n",
    "result = clf.predict(X_test_norm)\n",
    "res1 = pd.DataFrame(result.tolist(), columns=[\"Predicted\"])\n",
    "res1.index = X_test.index\n",
    "res1.index.name = 'Id'\n",
    "pd.DataFrame(res1).to_csv('out.csv')\n",
    "#print(torch.count_nonzero(torch.from_numpy(np.array(res1)).to(torch.float32)))\n",
    "res1"
   ]
  }
 ],
 "metadata": {
  "kernelspec": {
   "display_name": "comp3340",
   "language": "python",
   "name": "comp3340"
  },
  "language_info": {
   "codemirror_mode": {
    "name": "ipython",
    "version": 3
   },
   "file_extension": ".py",
   "mimetype": "text/x-python",
   "name": "python",
   "nbconvert_exporter": "python",
   "pygments_lexer": "ipython3",
   "version": "3.7.13"
  },
  "toc": {
   "base_numbering": 1,
   "nav_menu": {},
   "number_sections": true,
   "sideBar": true,
   "skip_h1_title": false,
   "title_cell": "Table of Contents",
   "title_sidebar": "Contents",
   "toc_cell": false,
   "toc_position": {},
   "toc_section_display": true,
   "toc_window_display": true
  }
 },
 "nbformat": 4,
 "nbformat_minor": 5
}
