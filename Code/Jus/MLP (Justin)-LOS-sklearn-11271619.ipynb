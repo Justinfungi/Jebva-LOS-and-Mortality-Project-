{
 "cells": [
  {
   "cell_type": "markdown",
   "id": "970d9aef",
   "metadata": {},
   "source": [
    "# Libraries"
   ]
  },
  {
   "cell_type": "code",
   "execution_count": 78,
   "id": "71cace5d",
   "metadata": {
    "ExecuteTime": {
     "end_time": "2022-11-27T08:35:36.866372Z",
     "start_time": "2022-11-27T08:35:36.860712Z"
    }
   },
   "outputs": [],
   "source": [
    "import torch\n",
    "import matplotlib.pyplot as plt\n",
    "from sklearn import metrics\n",
    "from sklearn.neural_network import MLPRegressor\n",
    "from tqdm import tqdm\n",
    "\n",
    "device = torch.device(\"cuda\" if torch.cuda.is_available() else \"cpu\")"
   ]
  },
  {
   "cell_type": "markdown",
   "id": "e5e3db1d",
   "metadata": {
    "ExecuteTime": {
     "end_time": "2022-10-27T03:47:12.458066Z",
     "start_time": "2022-10-27T03:47:12.452095Z"
    }
   },
   "source": [
    "# Import data"
   ]
  },
  {
   "cell_type": "code",
   "execution_count": 79,
   "id": "c7c7a26f",
   "metadata": {
    "ExecuteTime": {
     "end_time": "2022-11-27T08:35:37.296465Z",
     "start_time": "2022-11-27T08:35:36.869083Z"
    }
   },
   "outputs": [
    {
     "name": "stdout",
     "output_type": "stream",
     "text": [
      "************************************************************\n",
      "There are 6 set of X\n",
      "X_train_selected_t1, X_train_selected_t2, X_valid_selected_t1,X_valid_selected_t2,X_test_selected_t1,X_test_selected_t2\n",
      "------------------------------------------------------------\n",
      "Normalized version\n",
      "X_train_selected_t1_norm, X_train_selected_t2_norm, X_valid_selected_t1_norm,X_valid_selected_t2_norm,X_test_selected_t1_norm,X_test_selected_t2_norm\n",
      "------------------------------------------------------------\n",
      "There are 4 set of Y\n",
      "y_train_t1, y_train_t2, y_valid_t1, y_valid_t2\n",
      "when training, please use: 'y_train_t1_value,y_train_t2_value,y_valid_t1_value,y_valid_t2_value'\n",
      "************************************************************\n"
     ]
    }
   ],
   "source": [
    "%run Data_preprocessing_realmean_final.ipynb"
   ]
  },
  {
   "cell_type": "code",
   "execution_count": null,
   "id": "fdb1cc5b",
   "metadata": {},
   "outputs": [],
   "source": []
  },
  {
   "cell_type": "code",
   "execution_count": 101,
   "id": "4aa393c8",
   "metadata": {
    "ExecuteTime": {
     "end_time": "2022-11-27T13:47:59.607899Z",
     "start_time": "2022-11-27T13:47:59.355098Z"
    }
   },
   "outputs": [
    {
     "name": "stdout",
     "output_type": "stream",
     "text": [
      "(16760, 61)\n",
      "(2394, 61)\n",
      "(4790, 61)\n"
     ]
    },
    {
     "data": {
      "text/html": [
       "<div>\n",
       "<style scoped>\n",
       "    .dataframe tbody tr th:only-of-type {\n",
       "        vertical-align: middle;\n",
       "    }\n",
       "\n",
       "    .dataframe tbody tr th {\n",
       "        vertical-align: top;\n",
       "    }\n",
       "\n",
       "    .dataframe thead th {\n",
       "        text-align: right;\n",
       "    }\n",
       "</style>\n",
       "<table border=\"1\" class=\"dataframe\">\n",
       "  <thead>\n",
       "    <tr style=\"text-align: right;\">\n",
       "      <th></th>\n",
       "      <th>0</th>\n",
       "      <th>1</th>\n",
       "      <th>2</th>\n",
       "      <th>3</th>\n",
       "      <th>4</th>\n",
       "      <th>5</th>\n",
       "      <th>6</th>\n",
       "      <th>7</th>\n",
       "      <th>8</th>\n",
       "      <th>9</th>\n",
       "      <th>...</th>\n",
       "      <th>51</th>\n",
       "      <th>52</th>\n",
       "      <th>53</th>\n",
       "      <th>54</th>\n",
       "      <th>55</th>\n",
       "      <th>56</th>\n",
       "      <th>57</th>\n",
       "      <th>58</th>\n",
       "      <th>59</th>\n",
       "      <th>60</th>\n",
       "    </tr>\n",
       "  </thead>\n",
       "  <tbody>\n",
       "    <tr>\n",
       "      <th>0</th>\n",
       "      <td>-0.286414</td>\n",
       "      <td>-3.364543e+00</td>\n",
       "      <td>-4.668067e-01</td>\n",
       "      <td>1.287299</td>\n",
       "      <td>-0.229497</td>\n",
       "      <td>1.649481e-17</td>\n",
       "      <td>-2.050998</td>\n",
       "      <td>-0.322341</td>\n",
       "      <td>0.934671</td>\n",
       "      <td>-1.793228</td>\n",
       "      <td>...</td>\n",
       "      <td>0.450046</td>\n",
       "      <td>0.287380</td>\n",
       "      <td>-0.833087</td>\n",
       "      <td>0.126241</td>\n",
       "      <td>1.198413</td>\n",
       "      <td>6.235952e-01</td>\n",
       "      <td>7.390399e-18</td>\n",
       "      <td>0.000000</td>\n",
       "      <td>1.283108e+00</td>\n",
       "      <td>0.768159</td>\n",
       "    </tr>\n",
       "    <tr>\n",
       "      <th>1</th>\n",
       "      <td>-0.291771</td>\n",
       "      <td>-5.157137e-01</td>\n",
       "      <td>-6.491195e-01</td>\n",
       "      <td>2.290083</td>\n",
       "      <td>-0.299940</td>\n",
       "      <td>-1.199707e+00</td>\n",
       "      <td>-1.765362</td>\n",
       "      <td>-0.580397</td>\n",
       "      <td>1.964341</td>\n",
       "      <td>-0.097147</td>\n",
       "      <td>...</td>\n",
       "      <td>0.000000</td>\n",
       "      <td>-0.560840</td>\n",
       "      <td>1.999349</td>\n",
       "      <td>-0.596546</td>\n",
       "      <td>0.000000</td>\n",
       "      <td>-3.342525e-17</td>\n",
       "      <td>7.390399e-18</td>\n",
       "      <td>0.000000</td>\n",
       "      <td>-1.073808e-17</td>\n",
       "      <td>-0.190810</td>\n",
       "    </tr>\n",
       "    <tr>\n",
       "      <th>2</th>\n",
       "      <td>-0.323910</td>\n",
       "      <td>-1.143933e-17</td>\n",
       "      <td>-5.518860e-01</td>\n",
       "      <td>-0.310355</td>\n",
       "      <td>-0.344219</td>\n",
       "      <td>3.300145e+00</td>\n",
       "      <td>1.050202</td>\n",
       "      <td>-0.494378</td>\n",
       "      <td>-0.407936</td>\n",
       "      <td>1.021795</td>\n",
       "      <td>...</td>\n",
       "      <td>-0.072147</td>\n",
       "      <td>-0.098174</td>\n",
       "      <td>2.241001</td>\n",
       "      <td>0.271020</td>\n",
       "      <td>1.198719</td>\n",
       "      <td>1.585315e+00</td>\n",
       "      <td>7.390399e-18</td>\n",
       "      <td>0.000000</td>\n",
       "      <td>-1.073808e-17</td>\n",
       "      <td>-0.190810</td>\n",
       "    </tr>\n",
       "    <tr>\n",
       "      <th>3</th>\n",
       "      <td>0.000000</td>\n",
       "      <td>-1.143933e-17</td>\n",
       "      <td>1.218853e-17</td>\n",
       "      <td>-0.004421</td>\n",
       "      <td>0.000000</td>\n",
       "      <td>1.649481e-17</td>\n",
       "      <td>0.438123</td>\n",
       "      <td>0.000000</td>\n",
       "      <td>-0.407936</td>\n",
       "      <td>1.492929</td>\n",
       "      <td>...</td>\n",
       "      <td>0.000000</td>\n",
       "      <td>0.711490</td>\n",
       "      <td>-0.862638</td>\n",
       "      <td>-0.134558</td>\n",
       "      <td>0.000000</td>\n",
       "      <td>-3.342525e-17</td>\n",
       "      <td>7.390399e-18</td>\n",
       "      <td>0.000000</td>\n",
       "      <td>-1.073808e-17</td>\n",
       "      <td>-0.141478</td>\n",
       "    </tr>\n",
       "    <tr>\n",
       "      <th>4</th>\n",
       "      <td>0.000000</td>\n",
       "      <td>-1.143933e-17</td>\n",
       "      <td>1.218853e-17</td>\n",
       "      <td>1.678215</td>\n",
       "      <td>0.000000</td>\n",
       "      <td>1.649481e-17</td>\n",
       "      <td>-2.050998</td>\n",
       "      <td>0.000000</td>\n",
       "      <td>0.450121</td>\n",
       "      <td>0.315094</td>\n",
       "      <td>...</td>\n",
       "      <td>0.140993</td>\n",
       "      <td>1.058489</td>\n",
       "      <td>0.783028</td>\n",
       "      <td>-0.091757</td>\n",
       "      <td>0.666874</td>\n",
       "      <td>1.008283e+00</td>\n",
       "      <td>-2.560233e+00</td>\n",
       "      <td>-0.525055</td>\n",
       "      <td>-1.073808e-17</td>\n",
       "      <td>-0.464876</td>\n",
       "    </tr>\n",
       "    <tr>\n",
       "      <th>...</th>\n",
       "      <td>...</td>\n",
       "      <td>...</td>\n",
       "      <td>...</td>\n",
       "      <td>...</td>\n",
       "      <td>...</td>\n",
       "      <td>...</td>\n",
       "      <td>...</td>\n",
       "      <td>...</td>\n",
       "      <td>...</td>\n",
       "      <td>...</td>\n",
       "      <td>...</td>\n",
       "      <td>...</td>\n",
       "      <td>...</td>\n",
       "      <td>...</td>\n",
       "      <td>...</td>\n",
       "      <td>...</td>\n",
       "      <td>...</td>\n",
       "      <td>...</td>\n",
       "      <td>...</td>\n",
       "      <td>...</td>\n",
       "      <td>...</td>\n",
       "    </tr>\n",
       "    <tr>\n",
       "      <th>16755</th>\n",
       "      <td>0.000000</td>\n",
       "      <td>1.620908e+00</td>\n",
       "      <td>1.218853e-17</td>\n",
       "      <td>-0.616289</td>\n",
       "      <td>0.000000</td>\n",
       "      <td>4.366027e-01</td>\n",
       "      <td>-0.010735</td>\n",
       "      <td>0.000000</td>\n",
       "      <td>-0.147154</td>\n",
       "      <td>0.629184</td>\n",
       "      <td>...</td>\n",
       "      <td>0.000000</td>\n",
       "      <td>-0.329507</td>\n",
       "      <td>0.867201</td>\n",
       "      <td>-1.289578</td>\n",
       "      <td>0.000000</td>\n",
       "      <td>-3.342525e-17</td>\n",
       "      <td>7.390399e-18</td>\n",
       "      <td>-0.613730</td>\n",
       "      <td>7.369685e-01</td>\n",
       "      <td>-0.161576</td>\n",
       "    </tr>\n",
       "    <tr>\n",
       "      <th>16756</th>\n",
       "      <td>0.000000</td>\n",
       "      <td>-1.143933e-17</td>\n",
       "      <td>1.218853e-17</td>\n",
       "      <td>-0.259366</td>\n",
       "      <td>0.000000</td>\n",
       "      <td>-1.097438e+00</td>\n",
       "      <td>-2.663078</td>\n",
       "      <td>0.000000</td>\n",
       "      <td>-0.290164</td>\n",
       "      <td>-1.098306</td>\n",
       "      <td>...</td>\n",
       "      <td>0.000000</td>\n",
       "      <td>0.287380</td>\n",
       "      <td>-0.508974</td>\n",
       "      <td>0.034865</td>\n",
       "      <td>0.000000</td>\n",
       "      <td>-3.342525e-17</td>\n",
       "      <td>7.390399e-18</td>\n",
       "      <td>-0.618163</td>\n",
       "      <td>1.218356e+00</td>\n",
       "      <td>0.527242</td>\n",
       "    </tr>\n",
       "    <tr>\n",
       "      <th>16757</th>\n",
       "      <td>-0.302484</td>\n",
       "      <td>1.620908e+00</td>\n",
       "      <td>-4.303441e-01</td>\n",
       "      <td>-0.310355</td>\n",
       "      <td>-0.318055</td>\n",
       "      <td>1.649481e-17</td>\n",
       "      <td>1.539866</td>\n",
       "      <td>-0.064286</td>\n",
       "      <td>0.197751</td>\n",
       "      <td>0.550661</td>\n",
       "      <td>...</td>\n",
       "      <td>0.000000</td>\n",
       "      <td>-0.722773</td>\n",
       "      <td>-1.471289</td>\n",
       "      <td>-0.365548</td>\n",
       "      <td>0.000000</td>\n",
       "      <td>-3.342525e-17</td>\n",
       "      <td>7.390399e-18</td>\n",
       "      <td>0.000000</td>\n",
       "      <td>-5.365386e-01</td>\n",
       "      <td>-0.779138</td>\n",
       "    </tr>\n",
       "    <tr>\n",
       "      <th>16758</th>\n",
       "      <td>0.000000</td>\n",
       "      <td>-1.143933e-17</td>\n",
       "      <td>1.218853e-17</td>\n",
       "      <td>-0.845740</td>\n",
       "      <td>0.000000</td>\n",
       "      <td>1.649481e-17</td>\n",
       "      <td>-0.173956</td>\n",
       "      <td>0.000000</td>\n",
       "      <td>-0.168185</td>\n",
       "      <td>-1.422211</td>\n",
       "      <td>...</td>\n",
       "      <td>0.000000</td>\n",
       "      <td>1.231989</td>\n",
       "      <td>2.629713</td>\n",
       "      <td>0.339025</td>\n",
       "      <td>0.000000</td>\n",
       "      <td>-3.342525e-17</td>\n",
       "      <td>7.390399e-18</td>\n",
       "      <td>0.000000</td>\n",
       "      <td>9.819162e-01</td>\n",
       "      <td>-0.722498</td>\n",
       "    </tr>\n",
       "    <tr>\n",
       "      <th>16759</th>\n",
       "      <td>-0.259632</td>\n",
       "      <td>-1.143933e-17</td>\n",
       "      <td>-2.723397e-01</td>\n",
       "      <td>-1.687058</td>\n",
       "      <td>-0.217421</td>\n",
       "      <td>1.649481e-17</td>\n",
       "      <td>2.421260</td>\n",
       "      <td>0.838908</td>\n",
       "      <td>-0.660306</td>\n",
       "      <td>0.020636</td>\n",
       "      <td>...</td>\n",
       "      <td>-0.221345</td>\n",
       "      <td>-0.560840</td>\n",
       "      <td>0.941706</td>\n",
       "      <td>0.219671</td>\n",
       "      <td>-1.884425</td>\n",
       "      <td>-1.396016e+00</td>\n",
       "      <td>-7.900575e-01</td>\n",
       "      <td>-0.622597</td>\n",
       "      <td>-7.391400e-01</td>\n",
       "      <td>-0.503245</td>\n",
       "    </tr>\n",
       "  </tbody>\n",
       "</table>\n",
       "<p>16760 rows × 61 columns</p>\n",
       "</div>"
      ],
      "text/plain": [
       "             0             1             2         3         4             5   \\\n",
       "0     -0.286414 -3.364543e+00 -4.668067e-01  1.287299 -0.229497  1.649481e-17   \n",
       "1     -0.291771 -5.157137e-01 -6.491195e-01  2.290083 -0.299940 -1.199707e+00   \n",
       "2     -0.323910 -1.143933e-17 -5.518860e-01 -0.310355 -0.344219  3.300145e+00   \n",
       "3      0.000000 -1.143933e-17  1.218853e-17 -0.004421  0.000000  1.649481e-17   \n",
       "4      0.000000 -1.143933e-17  1.218853e-17  1.678215  0.000000  1.649481e-17   \n",
       "...         ...           ...           ...       ...       ...           ...   \n",
       "16755  0.000000  1.620908e+00  1.218853e-17 -0.616289  0.000000  4.366027e-01   \n",
       "16756  0.000000 -1.143933e-17  1.218853e-17 -0.259366  0.000000 -1.097438e+00   \n",
       "16757 -0.302484  1.620908e+00 -4.303441e-01 -0.310355 -0.318055  1.649481e-17   \n",
       "16758  0.000000 -1.143933e-17  1.218853e-17 -0.845740  0.000000  1.649481e-17   \n",
       "16759 -0.259632 -1.143933e-17 -2.723397e-01 -1.687058 -0.217421  1.649481e-17   \n",
       "\n",
       "             6         7         8         9   ...        51        52  \\\n",
       "0     -2.050998 -0.322341  0.934671 -1.793228  ...  0.450046  0.287380   \n",
       "1     -1.765362 -0.580397  1.964341 -0.097147  ...  0.000000 -0.560840   \n",
       "2      1.050202 -0.494378 -0.407936  1.021795  ... -0.072147 -0.098174   \n",
       "3      0.438123  0.000000 -0.407936  1.492929  ...  0.000000  0.711490   \n",
       "4     -2.050998  0.000000  0.450121  0.315094  ...  0.140993  1.058489   \n",
       "...         ...       ...       ...       ...  ...       ...       ...   \n",
       "16755 -0.010735  0.000000 -0.147154  0.629184  ...  0.000000 -0.329507   \n",
       "16756 -2.663078  0.000000 -0.290164 -1.098306  ...  0.000000  0.287380   \n",
       "16757  1.539866 -0.064286  0.197751  0.550661  ...  0.000000 -0.722773   \n",
       "16758 -0.173956  0.000000 -0.168185 -1.422211  ...  0.000000  1.231989   \n",
       "16759  2.421260  0.838908 -0.660306  0.020636  ... -0.221345 -0.560840   \n",
       "\n",
       "             53        54        55            56            57        58  \\\n",
       "0     -0.833087  0.126241  1.198413  6.235952e-01  7.390399e-18  0.000000   \n",
       "1      1.999349 -0.596546  0.000000 -3.342525e-17  7.390399e-18  0.000000   \n",
       "2      2.241001  0.271020  1.198719  1.585315e+00  7.390399e-18  0.000000   \n",
       "3     -0.862638 -0.134558  0.000000 -3.342525e-17  7.390399e-18  0.000000   \n",
       "4      0.783028 -0.091757  0.666874  1.008283e+00 -2.560233e+00 -0.525055   \n",
       "...         ...       ...       ...           ...           ...       ...   \n",
       "16755  0.867201 -1.289578  0.000000 -3.342525e-17  7.390399e-18 -0.613730   \n",
       "16756 -0.508974  0.034865  0.000000 -3.342525e-17  7.390399e-18 -0.618163   \n",
       "16757 -1.471289 -0.365548  0.000000 -3.342525e-17  7.390399e-18  0.000000   \n",
       "16758  2.629713  0.339025  0.000000 -3.342525e-17  7.390399e-18  0.000000   \n",
       "16759  0.941706  0.219671 -1.884425 -1.396016e+00 -7.900575e-01 -0.622597   \n",
       "\n",
       "                 59        60  \n",
       "0      1.283108e+00  0.768159  \n",
       "1     -1.073808e-17 -0.190810  \n",
       "2     -1.073808e-17 -0.190810  \n",
       "3     -1.073808e-17 -0.141478  \n",
       "4     -1.073808e-17 -0.464876  \n",
       "...             ...       ...  \n",
       "16755  7.369685e-01 -0.161576  \n",
       "16756  1.218356e+00  0.527242  \n",
       "16757 -5.365386e-01 -0.779138  \n",
       "16758  9.819162e-01 -0.722498  \n",
       "16759 -7.391400e-01 -0.503245  \n",
       "\n",
       "[16760 rows x 61 columns]"
      ]
     },
     "execution_count": 101,
     "metadata": {},
     "output_type": "execute_result"
    }
   ],
   "source": [
    "\n",
    "X_train_norm = X_train_selected_norm\n",
    "X_valid_norm = X_valid_selected_t2_norm\n",
    "X_test_norm = X_test_selected_t2_norm\n",
    "\n",
    "print(X_train_norm.shape)\n",
    "print(X_valid_norm.shape)\n",
    "print(X_test_norm.shape)\n"
   ]
  },
  {
   "cell_type": "markdown",
   "id": "1542c335",
   "metadata": {
    "ExecuteTime": {
     "end_time": "2022-11-14T09:37:26.759973Z",
     "start_time": "2022-11-14T09:37:26.756004Z"
    }
   },
   "source": [
    "# Neural Network Using Sklearn build in function"
   ]
  },
  {
   "cell_type": "code",
   "execution_count": 81,
   "id": "61a47fdf",
   "metadata": {
    "ExecuteTime": {
     "end_time": "2022-11-27T08:35:38.239027Z",
     "start_time": "2022-11-27T08:35:37.303945Z"
    }
   },
   "outputs": [
    {
     "data": {
      "text/plain": [
       "0.1179798953026161"
      ]
     },
     "execution_count": 81,
     "metadata": {},
     "output_type": "execute_result"
    }
   ],
   "source": [
    "from sklearn.neural_network import MLPRegressor\n",
    "\n",
    "clf = MLPRegressor(hidden_layer_sizes=(100,), \n",
    "                   activation='relu',\n",
    "                   solver='adam', \n",
    "                   alpha=0.0001, \n",
    "                   batch_size='auto', \n",
    "                   learning_rate='constant', \n",
    "                   learning_rate_init=0.01, \n",
    "                   power_t=0.5, \n",
    "                   max_iter=200, \n",
    "                   shuffle=True, \n",
    "                   random_state=None, \n",
    "                   tol=0.0001, \n",
    "                   verbose=False, \n",
    "                   warm_start=False, \n",
    "                   momentum=0.9, \n",
    "                   nesterovs_momentum=True, \n",
    "                   early_stopping=True, \n",
    "                   validation_fraction=0.1, \n",
    "                   beta_1=0.9, \n",
    "                   beta_2=0.999, \n",
    "                   epsilon=1e-08, \n",
    "                   n_iter_no_change=10, \n",
    "                   max_fun=15000)\n",
    "\n",
    "clf.fit(X_train_norm, y_train_t2_value)\n",
    "\n",
    "clf.score(X_valid_norm, y_valid_t2_value)"
   ]
  },
  {
   "cell_type": "markdown",
   "id": "74a00a91",
   "metadata": {},
   "source": [
    "# Evaluation Matrix"
   ]
  },
  {
   "cell_type": "code",
   "execution_count": 82,
   "id": "f680ed22",
   "metadata": {
    "ExecuteTime": {
     "end_time": "2022-11-27T08:35:38.244665Z",
     "start_time": "2022-11-27T08:35:38.241040Z"
    }
   },
   "outputs": [],
   "source": [
    "def rmse(predictions, targets):\n",
    "    return np.sqrt(((predictions - targets) ** 2).mean())"
   ]
  },
  {
   "cell_type": "code",
   "execution_count": 83,
   "id": "7a3ae147",
   "metadata": {
    "ExecuteTime": {
     "end_time": "2022-11-27T08:35:38.263939Z",
     "start_time": "2022-11-27T08:35:38.246906Z"
    }
   },
   "outputs": [
    {
     "data": {
      "text/plain": [
       "1.8729624162146694"
      ]
     },
     "execution_count": 83,
     "metadata": {},
     "output_type": "execute_result"
    }
   ],
   "source": [
    "y_pred = clf.predict(X_valid_norm)\n",
    "rmse(y_pred, y_valid_t2_value)"
   ]
  },
  {
   "cell_type": "markdown",
   "id": "7eaa1314",
   "metadata": {
    "ExecuteTime": {
     "end_time": "2022-11-14T09:39:42.985881Z",
     "start_time": "2022-11-14T09:39:42.982955Z"
    }
   },
   "source": [
    "# Hyperparameter and setting tuning"
   ]
  },
  {
   "cell_type": "markdown",
   "id": "45b5905c",
   "metadata": {
    "ExecuteTime": {
     "end_time": "2022-11-14T10:48:05.363047Z",
     "start_time": "2022-11-14T10:48:05.359385Z"
    }
   },
   "source": [
    "## Layer Choices"
   ]
  },
  {
   "cell_type": "code",
   "execution_count": 99,
   "id": "8e9bbbe6",
   "metadata": {
    "ExecuteTime": {
     "end_time": "2022-11-27T08:59:34.410615Z",
     "start_time": "2022-11-27T08:52:27.031496Z"
    },
    "scrolled": false
   },
   "outputs": [
    {
     "name": "stderr",
     "output_type": "stream",
     "text": [
      "100%|█████████████████████████████████████████| 196/196 [07:07<00:00,  2.18s/it]"
     ]
    },
    {
     "name": "stdout",
     "output_type": "stream",
     "text": [
      "[(1, 1), (1, 2), (1, 3), (1, 4), (1, 5), (1, 6), (1, 7), (1, 8), (1, 9), (1, 10), (1, 11), (1, 12), (1, 13), (1, 14), (1, 15), (1, 16), (1, 17), (1, 18), (1, 19), (1, 20), (1, 21), (1, 22), (1, 23), (1, 24), (1, 25), (1, 26), (1, 27), (1, 28), (1, 29), (1, 30), (1, 31), (1, 32), (1, 33), (1, 34), (1, 35), (1, 36), (1, 37), (1, 38), (1, 39), (1, 40), (1, 41), (1, 42), (1, 43), (1, 44), (1, 45), (1, 46), (1, 47), (1, 48), (1, 49), (2, 1), (2, 2), (2, 3), (2, 4), (2, 5), (2, 6), (2, 7), (2, 8), (2, 9), (2, 10), (2, 11), (2, 12), (2, 13), (2, 14), (2, 15), (2, 16), (2, 17), (2, 18), (2, 19), (2, 20), (2, 21), (2, 22), (2, 23), (2, 24), (2, 25), (2, 26), (2, 27), (2, 28), (2, 29), (2, 30), (2, 31), (2, 32), (2, 33), (2, 34), (2, 35), (2, 36), (2, 37), (2, 38), (2, 39), (2, 40), (2, 41), (2, 42), (2, 43), (2, 44), (2, 45), (2, 46), (2, 47), (2, 48), (2, 49), (3, 1), (3, 2), (3, 3), (3, 4), (3, 5), (3, 6), (3, 7), (3, 8), (3, 9), (3, 10), (3, 11), (3, 12), (3, 13), (3, 14), (3, 15), (3, 16), (3, 17), (3, 18), (3, 19), (3, 20), (3, 21), (3, 22), (3, 23), (3, 24), (3, 25), (3, 26), (3, 27), (3, 28), (3, 29), (3, 30), (3, 31), (3, 32), (3, 33), (3, 34), (3, 35), (3, 36), (3, 37), (3, 38), (3, 39), (3, 40), (3, 41), (3, 42), (3, 43), (3, 44), (3, 45), (3, 46), (3, 47), (3, 48), (3, 49), (4, 1), (4, 2), (4, 3), (4, 4), (4, 5), (4, 6), (4, 7), (4, 8), (4, 9), (4, 10), (4, 11), (4, 12), (4, 13), (4, 14), (4, 15), (4, 16), (4, 17), (4, 18), (4, 19), (4, 20), (4, 21), (4, 22), (4, 23), (4, 24), (4, 25), (4, 26), (4, 27), (4, 28), (4, 29), (4, 30), (4, 31), (4, 32), (4, 33), (4, 34), (4, 35), (4, 36), (4, 37), (4, 38), (4, 39), (4, 40), (4, 41), (4, 42), (4, 43), (4, 44), (4, 45), (4, 46), (4, 47), (4, 48), (4, 49)]\n"
     ]
    },
    {
     "name": "stderr",
     "output_type": "stream",
     "text": [
      "\n"
     ]
    },
    {
     "data": {
      "image/png": "[encoded data removed]",
      "text/plain": [
       "<Figure size 640x480 with 1 Axes>"
      ]
     },
     "metadata": {},
     "output_type": "display_data"
    }
   ],
   "source": [
    "layer_list = []\n",
    "rmse_lst=[]\n",
    "\n",
    "for x in range (1,5,1):\n",
    "    for y in range (1,50,1):\n",
    "        layer_list.append((x,y))\n",
    "\n",
    "for j in tqdm(range(len(layer_list))):\n",
    "    i = layer_list[j]\n",
    "    clf = MLPRegressor(solver=\"adam\",\n",
    "                       alpha=1e-5,\n",
    "                       hidden_layer_sizes=i,\n",
    "                       activation='relu',\n",
    "                       learning_rate_init=0.01,\n",
    "                       random_state=3612,\n",
    "                       max_iter=200)\n",
    "\n",
    "    clf.fit(X_train_norm, y_train_t2_value)\n",
    "    y_pred = clf.predict(X_valid_norm)\n",
    "    rmse1 = rmse(y_pred, y_valid_t2_value)\n",
    "    rmse_lst.append(rmse1)\n",
    "    \n",
    "print(layer_list)\n",
    "index = rmse_lst.index(min(rmse_lst))\n",
    "plt.plot(list(range(len(layer_list))), rmse_lst, label='Layers Tuning')\n",
    "plt.xlabel('Layer Choices')\n",
    "plt.ylabel('RMSE')\n",
    "plt.title(f\"Layer {layer_list[index]} - ROC curve\")\n",
    "plt.legend(loc=\"best\")\n",
    "plt.annotate(np.min(rmse_lst).round(4), (np.argmin(rmse_lst), np.min(rmse_lst)), xycoords=\"data\",\n",
    "                 xytext=(40, 20), textcoords=\"offset pixels\", arrowprops=dict(facecolor=\"black\", shrink=0.1), fontsize=10,\n",
    "                 horizontalalignment=\"center\", verticalalignment=\"top\")\n",
    "plt.show()"
   ]
  },
  {
   "cell_type": "code",
   "execution_count": 85,
   "id": "f314ef7d",
   "metadata": {
    "ExecuteTime": {
     "end_time": "2022-11-27T08:43:00.434244Z",
     "start_time": "2022-11-27T08:43:00.429671Z"
    }
   },
   "outputs": [
    {
     "data": {
      "text/plain": [
       "(3, 12)"
      ]
     },
     "execution_count": 85,
     "metadata": {},
     "output_type": "execute_result"
    }
   ],
   "source": [
    "best_layernumber = layer_list[index]\n",
    "best_layernumber"
   ]
  },
  {
   "cell_type": "markdown",
   "id": "16213e33",
   "metadata": {},
   "source": [
    "## Solver Choices"
   ]
  },
  {
   "cell_type": "code",
   "execution_count": 86,
   "id": "754bfc1c",
   "metadata": {
    "ExecuteTime": {
     "end_time": "2022-11-27T08:43:08.849314Z",
     "start_time": "2022-11-27T08:43:00.436426Z"
    }
   },
   "outputs": [
    {
     "name": "stdout",
     "output_type": "stream",
     "text": [
      "['lbfgs', 'sgd', 'adam']\n"
     ]
    },
    {
     "data": {
      "image/png": "[encoded data removed]",
      "text/plain": [
       "<Figure size 640x480 with 1 Axes>"
      ]
     },
     "metadata": {},
     "output_type": "display_data"
    }
   ],
   "source": [
    "solver_list = [\"lbfgs\",\"sgd\",\"adam\"]\n",
    "rmse_lst=[]\n",
    "\n",
    "for i in solver_list:\n",
    "    clf = MLPRegressor(solver=i,\n",
    "                       alpha=1e-5,\n",
    "                       hidden_layer_sizes=best_layernumber,\n",
    "                       activation='relu',\n",
    "                       learning_rate_init=0.01,\n",
    "                       learning_rate=\"adaptive\", \n",
    "                       random_state=3612,\n",
    "                       max_iter=200)\n",
    "\n",
    "    clf.fit(X_train_norm, y_train_t2_value)\n",
    "    y_pred = clf.predict(X_valid_norm)\n",
    "    rmse1 = rmse(y_pred, y_valid_t2_value)\n",
    "    rmse_lst.append(rmse1)\n",
    "    \n",
    "print(solver_list)\n",
    "index = rmse_lst.index(min(rmse_lst))\n",
    "plt.plot(solver_list, rmse_lst, label='Solver Tuning')\n",
    "plt.xlabel('Solver Choices')\n",
    "plt.ylabel('RMSE')\n",
    "plt.title(f\"Solver {solver_list[index]} - ROC curve\")\n",
    "plt.legend(loc=\"best\")\n",
    "plt.annotate(np.min(rmse_lst).round(4), (np.argmin(rmse_lst), np.min(rmse_lst)), xycoords=\"data\",\n",
    "                 xytext=(40, 20), textcoords=\"offset pixels\", arrowprops=dict(facecolor=\"black\", shrink=0.1), fontsize=10,\n",
    "                 horizontalalignment=\"center\", verticalalignment=\"top\")\n",
    "plt.show()"
   ]
  },
  {
   "cell_type": "code",
   "execution_count": 87,
   "id": "69561f86",
   "metadata": {
    "ExecuteTime": {
     "end_time": "2022-11-27T08:43:08.855830Z",
     "start_time": "2022-11-27T08:43:08.852217Z"
    }
   },
   "outputs": [
    {
     "data": {
      "text/plain": [
       "'adam'"
      ]
     },
     "execution_count": 87,
     "metadata": {},
     "output_type": "execute_result"
    }
   ],
   "source": [
    "index = np.argmin(rmse_lst)\n",
    "best_solver = solver_list[index]\n",
    "best_solver"
   ]
  },
  {
   "cell_type": "markdown",
   "id": "893d31a1",
   "metadata": {
    "ExecuteTime": {
     "end_time": "2022-11-14T10:00:23.542784Z",
     "start_time": "2022-11-14T10:00:23.538559Z"
    }
   },
   "source": [
    "## Learning rate tuning"
   ]
  },
  {
   "cell_type": "code",
   "execution_count": 88,
   "id": "ee20b4f5",
   "metadata": {
    "ExecuteTime": {
     "end_time": "2022-11-27T08:43:33.384792Z",
     "start_time": "2022-11-27T08:43:08.857453Z"
    }
   },
   "outputs": [
    {
     "name": "stdout",
     "output_type": "stream",
     "text": [
      "[0.001, 0.0032500000000000003, 0.0055000000000000005, 0.007750000000000001, 0.01, 0.01, 0.0325, 0.05500000000000001, 0.0775, 0.1, 0.1, 0.325, 0.55, 0.775, 1.0]\n"
     ]
    },
    {
     "data": {
      "image/png": "[encoded data removed]",
      "text/plain": [
       "<Figure size 640x480 with 1 Axes>"
      ]
     },
     "metadata": {},
     "output_type": "display_data"
    },
    {
     "name": "stdout",
     "output_type": "stream",
     "text": [
      "1.8399\n"
     ]
    }
   ],
   "source": [
    "lr_list = list(np.linspace(0.001,0.01,5))+list(np.linspace(0.01,0.1,5))+list(np.linspace(0.1,1,5))\n",
    "rmse_lst=[]\n",
    "\n",
    "for i in lr_list:\n",
    "    clf = MLPRegressor(solver=best_solver,\n",
    "                        hidden_layer_sizes=best_layernumber,\n",
    "                        learning_rate_init=i,\n",
    "                        learning_rate=\"adaptive\", \n",
    "                        alpha=1e-5,\n",
    "                        random_state=3612,\n",
    "                        activation=\"relu\",\n",
    "                        max_iter=200)\n",
    "\n",
    "    clf.fit(X_train_norm, y_train_t2_value)\n",
    "    y_pred = clf.predict(X_valid_norm)\n",
    "    rmse1 = rmse(y_pred, y_valid_t2_value)\n",
    "    rmse_lst.append(rmse1)\n",
    "    \n",
    "print(lr_list)\n",
    "index = rmse_lst.index(min(rmse_lst))\n",
    "plt.plot(lr_list, rmse_lst, label='Learning Rate Tuning')\n",
    "plt.xlabel('Learning Rate Choices')\n",
    "plt.ylabel('RMSE')\n",
    "plt.title(f\"Learning Rate {lr_list[index]} - ROC curve\")\n",
    "plt.legend(loc=\"best\")\n",
    "plt.annotate(np.min(rmse_lst).round(4), (np.argmin(rmse_lst), np.min(rmse_lst)), xycoords=\"data\",\n",
    "                 xytext=(40, 20), textcoords=\"offset pixels\", arrowprops=dict(facecolor=\"black\", shrink=0.1), fontsize=10,\n",
    "                 horizontalalignment=\"center\", verticalalignment=\"top\")\n",
    "plt.show()\n",
    "print(np.min(rmse_lst).round(4))"
   ]
  },
  {
   "cell_type": "code",
   "execution_count": 89,
   "id": "2c5468c4",
   "metadata": {
    "ExecuteTime": {
     "end_time": "2022-11-27T08:43:33.392258Z",
     "start_time": "2022-11-27T08:43:33.387036Z"
    }
   },
   "outputs": [
    {
     "data": {
      "text/plain": [
       "0.01"
      ]
     },
     "execution_count": 89,
     "metadata": {},
     "output_type": "execute_result"
    }
   ],
   "source": [
    "index = np.argmin(rmse_lst)\n",
    "best_lr_choice =  lr_list[index]\n",
    "best_lr_choice"
   ]
  },
  {
   "cell_type": "markdown",
   "id": "cb356760",
   "metadata": {
    "ExecuteTime": {
     "end_time": "2022-11-24T12:56:56.523825Z",
     "start_time": "2022-11-24T12:56:56.518572Z"
    }
   },
   "source": [
    "## Regularization strength tuning"
   ]
  },
  {
   "cell_type": "code",
   "execution_count": 90,
   "id": "abcce264",
   "metadata": {
    "ExecuteTime": {
     "end_time": "2022-11-27T08:44:02.818518Z",
     "start_time": "2022-11-27T08:43:33.395501Z"
    }
   },
   "outputs": [
    {
     "name": "stdout",
     "output_type": "stream",
     "text": [
      "[1e-05, 1.2105263157894737e-05, 1.4210526315789475e-05, 1.6315789473684213e-05, 1.842105263157895e-05, 2.0526315789473685e-05, 2.2631578947368423e-05, 2.473684210526316e-05, 2.6842105263157896e-05, 2.8947368421052637e-05, 3.105263157894737e-05, 3.3157894736842106e-05, 3.526315789473685e-05, 3.736842105263158e-05, 3.9473684210526316e-05, 4.157894736842106e-05, 4.368421052631579e-05, 4.5789473684210527e-05, 4.789473684210527e-05, 5e-05]\n"
     ]
    },
    {
     "data": {
      "image/png": "[encoded data removed]",
      "text/plain": [
       "<Figure size 640x480 with 1 Axes>"
      ]
     },
     "metadata": {},
     "output_type": "display_data"
    }
   ],
   "source": [
    "reg_list = list(np.linspace(1e-5,0.00005,20))\n",
    "rmse_lst=[]\n",
    "\n",
    "for i in reg_list:\n",
    "    clf = MLPRegressor(solver=best_solver,\n",
    "                        hidden_layer_sizes=best_layernumber,\n",
    "                        learning_rate_init=best_lr_choice,\n",
    "                        learning_rate=\"adaptive\", \n",
    "                        alpha=i,\n",
    "                        random_state=3612,\n",
    "                        activation='relu',\n",
    "                        max_iter=200)\n",
    "\n",
    "    clf.fit(X_train_norm, y_train_t2_value)\n",
    "    y_pred = clf.predict(X_valid_norm)\n",
    "    rmse1 = rmse(y_pred, y_valid_t2_value)\n",
    "    rmse_lst.append(rmse1)\n",
    "    \n",
    "print(reg_list)\n",
    "index = rmse_lst.index(min(rmse_lst))\n",
    "plt.plot(list(range(len(reg_list))), rmse_lst, label='Regularization strength tuning')\n",
    "plt.xlabel('Regularization strength Choices')\n",
    "plt.ylabel('RMSE')\n",
    "plt.title(f\"Regularization strength tuning {reg_list[index]} - ROC curve\")\n",
    "plt.legend(loc=\"best\")\n",
    "plt.annotate(np.min(rmse_lst).round(4), (np.argmin(rmse_lst), np.min(rmse_lst)), xycoords=\"data\",\n",
    "                 xytext=(40, 20), textcoords=\"offset pixels\", arrowprops=dict(facecolor=\"black\", shrink=0.1), fontsize=10,\n",
    "                 horizontalalignment=\"center\", verticalalignment=\"top\")\n",
    "plt.show()"
   ]
  },
  {
   "cell_type": "code",
   "execution_count": 91,
   "id": "df9d432e",
   "metadata": {
    "ExecuteTime": {
     "end_time": "2022-11-27T08:44:02.824634Z",
     "start_time": "2022-11-27T08:44:02.820531Z"
    }
   },
   "outputs": [
    {
     "data": {
      "text/plain": [
       "3.736842105263158e-05"
      ]
     },
     "execution_count": 91,
     "metadata": {},
     "output_type": "execute_result"
    }
   ],
   "source": [
    "index = np.argmin(rmse_lst)\n",
    "best_reg_choice =  reg_list[index]\n",
    "best_reg_choice"
   ]
  },
  {
   "cell_type": "markdown",
   "id": "4fbb3efb",
   "metadata": {
    "ExecuteTime": {
     "end_time": "2022-11-25T09:14:34.666541Z",
     "start_time": "2022-11-25T09:14:34.664049Z"
    }
   },
   "source": [
    "## Activation function Choices"
   ]
  },
  {
   "cell_type": "code",
   "execution_count": 92,
   "id": "9be7047c",
   "metadata": {
    "ExecuteTime": {
     "end_time": "2022-11-27T08:44:10.844577Z",
     "start_time": "2022-11-27T08:44:02.826256Z"
    }
   },
   "outputs": [
    {
     "name": "stdout",
     "output_type": "stream",
     "text": [
      "['identity', 'logistic', 'tanh', 'relu']\n"
     ]
    },
    {
     "data": {
      "image/png": "[encoded data removed]",
      "text/plain": [
       "<Figure size 640x480 with 1 Axes>"
      ]
     },
     "metadata": {},
     "output_type": "display_data"
    }
   ],
   "source": [
    "activation_list = ['identity','logistic','tanh','relu']\n",
    "rmse_lst=[]\n",
    "\n",
    "for i in activation_list:\n",
    "    clf = MLPRegressor(solver=best_solver,\n",
    "                        hidden_layer_sizes=best_layernumber,\n",
    "                        learning_rate_init=best_lr_choice,\n",
    "                        learning_rate=\"adaptive\", \n",
    "                        alpha=best_reg_choice,\n",
    "                        random_state=3612,\n",
    "                        activation=i,\n",
    "                        max_iter=200)\n",
    "\n",
    "    clf.fit(X_train_norm, y_train_t2_value)\n",
    "    y_pred = clf.predict(X_valid_norm)\n",
    "    rmse1 = rmse(y_pred, y_valid_t2_value)\n",
    "    rmse_lst.append(rmse1)\n",
    "    \n",
    "print(activation_list)\n",
    "index = rmse_lst.index(min(rmse_lst))\n",
    "plt.plot(activation_list, rmse_lst, label=' Random State Tuning')\n",
    "plt.xlabel(' Random State Choices')\n",
    "plt.ylabel('RMSE')\n",
    "plt.title(f\" Activiation Function Tuning {activation_list[index]} - ROC curve\")\n",
    "plt.legend(loc=\"best\")\n",
    "plt.annotate(np.min(rmse_lst).round(4), (np.argmin(rmse_lst), np.min(rmse_lst)), xycoords=\"data\",\n",
    "                 xytext=(40, 20), textcoords=\"offset pixels\", arrowprops=dict(facecolor=\"black\", shrink=0.1), fontsize=10,\n",
    "                 horizontalalignment=\"center\", verticalalignment=\"top\")\n",
    "plt.show()"
   ]
  },
  {
   "cell_type": "code",
   "execution_count": 93,
   "id": "0e3a55e4",
   "metadata": {
    "ExecuteTime": {
     "end_time": "2022-11-27T08:44:10.849520Z",
     "start_time": "2022-11-27T08:44:10.846055Z"
    }
   },
   "outputs": [
    {
     "data": {
      "text/plain": [
       "'relu'"
      ]
     },
     "execution_count": 93,
     "metadata": {},
     "output_type": "execute_result"
    }
   ],
   "source": [
    "index = np.argmin(rmse_lst)\n",
    "best_act_choice =  activation_list[index]\n",
    "best_act_choice"
   ]
  },
  {
   "cell_type": "markdown",
   "id": "b16acbcd",
   "metadata": {},
   "source": [
    "# Test"
   ]
  },
  {
   "cell_type": "code",
   "execution_count": 94,
   "id": "393988a7",
   "metadata": {
    "ExecuteTime": {
     "end_time": "2022-11-27T08:44:10.862318Z",
     "start_time": "2022-11-27T08:44:10.850674Z"
    }
   },
   "outputs": [],
   "source": [
    "X = np.concatenate((X_train_norm,X_valid_norm),axis=0)\n",
    "y = np.concatenate((y_train_t2_value,y_valid_t2_value),axis=0)"
   ]
  },
  {
   "cell_type": "code",
   "execution_count": 95,
   "id": "f5c8cc99",
   "metadata": {
    "ExecuteTime": {
     "end_time": "2022-11-27T08:44:11.995906Z",
     "start_time": "2022-11-27T08:44:10.863574Z"
    }
   },
   "outputs": [
    {
     "data": {
      "text/plain": [
       "1.824768217755113"
      ]
     },
     "execution_count": 95,
     "metadata": {},
     "output_type": "execute_result"
    }
   ],
   "source": [
    "# Final model\n",
    "reg1 = MLPRegressor(solver=best_solver,\n",
    "                    hidden_layer_sizes=best_layernumber,\n",
    "                    learning_rate_init=best_lr_choice,\n",
    "                    learning_rate=\"adaptive\", \n",
    "                    alpha=best_reg_choice,\n",
    "                    activation=best_act_choice,\n",
    "                    \n",
    "                    max_iter=300,\n",
    "                    power_t=0.5,\n",
    "                    shuffle=True, \n",
    "                    random_state=3612, \n",
    "                    tol=0.001, \n",
    "                    verbose=False, \n",
    "                    warm_start=True, \n",
    "                    momentum=0.5, \n",
    "                    early_stopping=True, \n",
    "                    validation_fraction=0.1\n",
    "                   )\n",
    "\n",
    "reg1.fit(X,y)\n",
    "y_pred = reg1.predict(X_valid_norm)\n",
    "rmse(y_pred, y_valid_t2_value)"
   ]
  },
  {
   "cell_type": "code",
   "execution_count": 96,
   "id": "bcd7285c",
   "metadata": {
    "ExecuteTime": {
     "end_time": "2022-11-27T08:44:12.005614Z",
     "start_time": "2022-11-27T08:44:11.999401Z"
    }
   },
   "outputs": [
    {
     "data": {
      "text/plain": [
       "MLPRegressor(alpha=3.736842105263158e-05, early_stopping=True,\n",
       "             hidden_layer_sizes=(3, 12), learning_rate='adaptive',\n",
       "             learning_rate_init=0.01, max_iter=300, momentum=0.5,\n",
       "             random_state=3612, tol=0.001, warm_start=True)"
      ]
     },
     "execution_count": 96,
     "metadata": {},
     "output_type": "execute_result"
    }
   ],
   "source": [
    "reg1"
   ]
  },
  {
   "cell_type": "code",
   "execution_count": 97,
   "id": "dcff3df6",
   "metadata": {
    "ExecuteTime": {
     "end_time": "2022-11-27T08:44:12.168127Z",
     "start_time": "2022-11-27T08:44:12.009306Z"
    }
   },
   "outputs": [
    {
     "data": {
      "text/html": [
       "<div>\n",
       "<style scoped>\n",
       "    .dataframe tbody tr th:only-of-type {\n",
       "        vertical-align: middle;\n",
       "    }\n",
       "\n",
       "    .dataframe tbody tr th {\n",
       "        vertical-align: top;\n",
       "    }\n",
       "\n",
       "    .dataframe thead th {\n",
       "        text-align: right;\n",
       "    }\n",
       "</style>\n",
       "<table border=\"1\" class=\"dataframe\">\n",
       "  <thead>\n",
       "    <tr style=\"text-align: right;\">\n",
       "      <th></th>\n",
       "      <th>0</th>\n",
       "      <th>1</th>\n",
       "      <th>2</th>\n",
       "      <th>3</th>\n",
       "      <th>4</th>\n",
       "      <th>5</th>\n",
       "      <th>6</th>\n",
       "      <th>7</th>\n",
       "      <th>8</th>\n",
       "      <th>9</th>\n",
       "      <th>...</th>\n",
       "      <th>51</th>\n",
       "      <th>52</th>\n",
       "      <th>53</th>\n",
       "      <th>54</th>\n",
       "      <th>55</th>\n",
       "      <th>56</th>\n",
       "      <th>57</th>\n",
       "      <th>58</th>\n",
       "      <th>59</th>\n",
       "      <th>60</th>\n",
       "    </tr>\n",
       "  </thead>\n",
       "  <tbody>\n",
       "    <tr>\n",
       "      <th>count</th>\n",
       "      <td>4.790000e+03</td>\n",
       "      <td>4.790000e+03</td>\n",
       "      <td>4.790000e+03</td>\n",
       "      <td>4.790000e+03</td>\n",
       "      <td>4.790000e+03</td>\n",
       "      <td>4.790000e+03</td>\n",
       "      <td>4.790000e+03</td>\n",
       "      <td>4.790000e+03</td>\n",
       "      <td>4.790000e+03</td>\n",
       "      <td>4.790000e+03</td>\n",
       "      <td>...</td>\n",
       "      <td>4.790000e+03</td>\n",
       "      <td>4.790000e+03</td>\n",
       "      <td>4.790000e+03</td>\n",
       "      <td>4.790000e+03</td>\n",
       "      <td>4.790000e+03</td>\n",
       "      <td>4.790000e+03</td>\n",
       "      <td>4.790000e+03</td>\n",
       "      <td>4.790000e+03</td>\n",
       "      <td>4.790000e+03</td>\n",
       "      <td>4.790000e+03</td>\n",
       "    </tr>\n",
       "    <tr>\n",
       "      <th>mean</th>\n",
       "      <td>-4.524333e-17</td>\n",
       "      <td>2.966776e-18</td>\n",
       "      <td>5.933551e-18</td>\n",
       "      <td>-2.373420e-17</td>\n",
       "      <td>-5.340196e-17</td>\n",
       "      <td>1.483388e-17</td>\n",
       "      <td>1.780065e-17</td>\n",
       "      <td>-1.223795e-17</td>\n",
       "      <td>8.900327e-18</td>\n",
       "      <td>2.299251e-17</td>\n",
       "      <td>...</td>\n",
       "      <td>-1.186710e-17</td>\n",
       "      <td>5.933551e-18</td>\n",
       "      <td>2.373420e-17</td>\n",
       "      <td>-1.780065e-17</td>\n",
       "      <td>-2.373420e-17</td>\n",
       "      <td>-4.746841e-17</td>\n",
       "      <td>-5.933551e-18</td>\n",
       "      <td>-1.186710e-17</td>\n",
       "      <td>-1.186710e-17</td>\n",
       "      <td>1.186710e-17</td>\n",
       "    </tr>\n",
       "    <tr>\n",
       "      <th>std</th>\n",
       "      <td>1.000104e+00</td>\n",
       "      <td>1.000104e+00</td>\n",
       "      <td>1.000104e+00</td>\n",
       "      <td>1.000104e+00</td>\n",
       "      <td>1.000104e+00</td>\n",
       "      <td>1.000104e+00</td>\n",
       "      <td>1.000104e+00</td>\n",
       "      <td>1.000104e+00</td>\n",
       "      <td>1.000104e+00</td>\n",
       "      <td>1.000104e+00</td>\n",
       "      <td>...</td>\n",
       "      <td>1.000104e+00</td>\n",
       "      <td>1.000104e+00</td>\n",
       "      <td>1.000104e+00</td>\n",
       "      <td>1.000104e+00</td>\n",
       "      <td>1.000104e+00</td>\n",
       "      <td>1.000104e+00</td>\n",
       "      <td>1.000104e+00</td>\n",
       "      <td>1.000104e+00</td>\n",
       "      <td>1.000104e+00</td>\n",
       "      <td>1.000104e+00</td>\n",
       "    </tr>\n",
       "    <tr>\n",
       "      <th>min</th>\n",
       "      <td>-3.866192e-01</td>\n",
       "      <td>-4.765697e+00</td>\n",
       "      <td>-1.111802e+00</td>\n",
       "      <td>-2.611997e+00</td>\n",
       "      <td>-3.601494e-01</td>\n",
       "      <td>-1.258709e+00</td>\n",
       "      <td>-3.693002e+00</td>\n",
       "      <td>-6.436459e-01</td>\n",
       "      <td>-1.123647e+00</td>\n",
       "      <td>-3.586934e+00</td>\n",
       "      <td>...</td>\n",
       "      <td>-5.136424e+00</td>\n",
       "      <td>-6.571703e+00</td>\n",
       "      <td>-5.751612e+00</td>\n",
       "      <td>-8.085019e+00</td>\n",
       "      <td>-6.612951e+00</td>\n",
       "      <td>-7.322217e+00</td>\n",
       "      <td>-2.216855e+00</td>\n",
       "      <td>-6.238583e-01</td>\n",
       "      <td>-4.273184e+00</td>\n",
       "      <td>-1.726776e+00</td>\n",
       "    </tr>\n",
       "    <tr>\n",
       "      <th>25%</th>\n",
       "      <td>-2.866700e-01</td>\n",
       "      <td>-1.151935e-17</td>\n",
       "      <td>-2.726431e-01</td>\n",
       "      <td>-5.987448e-01</td>\n",
       "      <td>-2.799569e-01</td>\n",
       "      <td>-2.882546e-18</td>\n",
       "      <td>-5.606852e-01</td>\n",
       "      <td>-3.755694e-01</td>\n",
       "      <td>-5.882805e-01</td>\n",
       "      <td>-4.803815e-01</td>\n",
       "      <td>...</td>\n",
       "      <td>-1.194131e-01</td>\n",
       "      <td>-4.959732e-01</td>\n",
       "      <td>-7.394177e-01</td>\n",
       "      <td>-6.241685e-01</td>\n",
       "      <td>-9.967123e-02</td>\n",
       "      <td>-6.577652e-02</td>\n",
       "      <td>5.675102e-18</td>\n",
       "      <td>-2.881372e-17</td>\n",
       "      <td>-4.788060e-01</td>\n",
       "      <td>-5.546262e-01</td>\n",
       "    </tr>\n",
       "    <tr>\n",
       "      <th>50%</th>\n",
       "      <td>-8.367707e-17</td>\n",
       "      <td>-1.151935e-17</td>\n",
       "      <td>2.530916e-17</td>\n",
       "      <td>-8.252631e-02</td>\n",
       "      <td>-7.218124e-17</td>\n",
       "      <td>-2.882546e-18</td>\n",
       "      <td>5.652010e-02</td>\n",
       "      <td>-2.539832e-17</td>\n",
       "      <td>-3.124413e-01</td>\n",
       "      <td>1.193247e-17</td>\n",
       "      <td>...</td>\n",
       "      <td>0.000000e+00</td>\n",
       "      <td>1.251068e-02</td>\n",
       "      <td>-1.262557e-01</td>\n",
       "      <td>-2.566844e-04</td>\n",
       "      <td>0.000000e+00</td>\n",
       "      <td>-8.734293e-17</td>\n",
       "      <td>5.675102e-18</td>\n",
       "      <td>-2.881372e-17</td>\n",
       "      <td>-5.272928e-18</td>\n",
       "      <td>-1.472327e-01</td>\n",
       "    </tr>\n",
       "    <tr>\n",
       "      <th>75%</th>\n",
       "      <td>-8.367707e-17</td>\n",
       "      <td>-1.151935e-17</td>\n",
       "      <td>2.530916e-17</td>\n",
       "      <td>4.853141e-01</td>\n",
       "      <td>-7.218124e-17</td>\n",
       "      <td>-2.882546e-18</td>\n",
       "      <td>5.502843e-01</td>\n",
       "      <td>-2.539832e-17</td>\n",
       "      <td>1.980391e-01</td>\n",
       "      <td>4.264394e-01</td>\n",
       "      <td>...</td>\n",
       "      <td>0.000000e+00</td>\n",
       "      <td>5.209945e-01</td>\n",
       "      <td>6.327505e-01</td>\n",
       "      <td>6.282353e-01</td>\n",
       "      <td>0.000000e+00</td>\n",
       "      <td>-8.734293e-17</td>\n",
       "      <td>5.675102e-18</td>\n",
       "      <td>-2.881372e-17</td>\n",
       "      <td>1.888961e-01</td>\n",
       "      <td>3.316333e-01</td>\n",
       "    </tr>\n",
       "    <tr>\n",
       "      <th>max</th>\n",
       "      <td>2.644274e+01</td>\n",
       "      <td>5.992146e+00</td>\n",
       "      <td>2.777082e+01</td>\n",
       "      <td>6.731558e+00</td>\n",
       "      <td>3.018609e+01</td>\n",
       "      <td>2.404813e+01</td>\n",
       "      <td>6.845778e+00</td>\n",
       "      <td>1.768981e+01</td>\n",
       "      <td>1.040765e+01</td>\n",
       "      <td>3.438273e+01</td>\n",
       "      <td>...</td>\n",
       "      <td>7.764461e+00</td>\n",
       "      <td>7.616300e+00</td>\n",
       "      <td>4.374362e+00</td>\n",
       "      <td>4.471973e+00</td>\n",
       "      <td>5.200926e+00</td>\n",
       "      <td>5.871311e+00</td>\n",
       "      <td>2.524288e+01</td>\n",
       "      <td>1.864271e+01</td>\n",
       "      <td>8.326082e+00</td>\n",
       "      <td>2.344432e+01</td>\n",
       "    </tr>\n",
       "  </tbody>\n",
       "</table>\n",
       "<p>8 rows × 61 columns</p>\n",
       "</div>"
      ],
      "text/plain": [
       "                 0             1             2             3             4   \\\n",
       "count  4.790000e+03  4.790000e+03  4.790000e+03  4.790000e+03  4.790000e+03   \n",
       "mean  -4.524333e-17  2.966776e-18  5.933551e-18 -2.373420e-17 -5.340196e-17   \n",
       "std    1.000104e+00  1.000104e+00  1.000104e+00  1.000104e+00  1.000104e+00   \n",
       "min   -3.866192e-01 -4.765697e+00 -1.111802e+00 -2.611997e+00 -3.601494e-01   \n",
       "25%   -2.866700e-01 -1.151935e-17 -2.726431e-01 -5.987448e-01 -2.799569e-01   \n",
       "50%   -8.367707e-17 -1.151935e-17  2.530916e-17 -8.252631e-02 -7.218124e-17   \n",
       "75%   -8.367707e-17 -1.151935e-17  2.530916e-17  4.853141e-01 -7.218124e-17   \n",
       "max    2.644274e+01  5.992146e+00  2.777082e+01  6.731558e+00  3.018609e+01   \n",
       "\n",
       "                 5             6             7             8             9   \\\n",
       "count  4.790000e+03  4.790000e+03  4.790000e+03  4.790000e+03  4.790000e+03   \n",
       "mean   1.483388e-17  1.780065e-17 -1.223795e-17  8.900327e-18  2.299251e-17   \n",
       "std    1.000104e+00  1.000104e+00  1.000104e+00  1.000104e+00  1.000104e+00   \n",
       "min   -1.258709e+00 -3.693002e+00 -6.436459e-01 -1.123647e+00 -3.586934e+00   \n",
       "25%   -2.882546e-18 -5.606852e-01 -3.755694e-01 -5.882805e-01 -4.803815e-01   \n",
       "50%   -2.882546e-18  5.652010e-02 -2.539832e-17 -3.124413e-01  1.193247e-17   \n",
       "75%   -2.882546e-18  5.502843e-01 -2.539832e-17  1.980391e-01  4.264394e-01   \n",
       "max    2.404813e+01  6.845778e+00  1.768981e+01  1.040765e+01  3.438273e+01   \n",
       "\n",
       "       ...            51            52            53            54  \\\n",
       "count  ...  4.790000e+03  4.790000e+03  4.790000e+03  4.790000e+03   \n",
       "mean   ... -1.186710e-17  5.933551e-18  2.373420e-17 -1.780065e-17   \n",
       "std    ...  1.000104e+00  1.000104e+00  1.000104e+00  1.000104e+00   \n",
       "min    ... -5.136424e+00 -6.571703e+00 -5.751612e+00 -8.085019e+00   \n",
       "25%    ... -1.194131e-01 -4.959732e-01 -7.394177e-01 -6.241685e-01   \n",
       "50%    ...  0.000000e+00  1.251068e-02 -1.262557e-01 -2.566844e-04   \n",
       "75%    ...  0.000000e+00  5.209945e-01  6.327505e-01  6.282353e-01   \n",
       "max    ...  7.764461e+00  7.616300e+00  4.374362e+00  4.471973e+00   \n",
       "\n",
       "                 55            56            57            58            59  \\\n",
       "count  4.790000e+03  4.790000e+03  4.790000e+03  4.790000e+03  4.790000e+03   \n",
       "mean  -2.373420e-17 -4.746841e-17 -5.933551e-18 -1.186710e-17 -1.186710e-17   \n",
       "std    1.000104e+00  1.000104e+00  1.000104e+00  1.000104e+00  1.000104e+00   \n",
       "min   -6.612951e+00 -7.322217e+00 -2.216855e+00 -6.238583e-01 -4.273184e+00   \n",
       "25%   -9.967123e-02 -6.577652e-02  5.675102e-18 -2.881372e-17 -4.788060e-01   \n",
       "50%    0.000000e+00 -8.734293e-17  5.675102e-18 -2.881372e-17 -5.272928e-18   \n",
       "75%    0.000000e+00 -8.734293e-17  5.675102e-18 -2.881372e-17  1.888961e-01   \n",
       "max    5.200926e+00  5.871311e+00  2.524288e+01  1.864271e+01  8.326082e+00   \n",
       "\n",
       "                 60  \n",
       "count  4.790000e+03  \n",
       "mean   1.186710e-17  \n",
       "std    1.000104e+00  \n",
       "min   -1.726776e+00  \n",
       "25%   -5.546262e-01  \n",
       "50%   -1.472327e-01  \n",
       "75%    3.316333e-01  \n",
       "max    2.344432e+01  \n",
       "\n",
       "[8 rows x 61 columns]"
      ]
     },
     "execution_count": 97,
     "metadata": {},
     "output_type": "execute_result"
    }
   ],
   "source": [
    "X_test_norm.describe()"
   ]
  },
  {
   "cell_type": "code",
   "execution_count": 98,
   "id": "8747d5c8",
   "metadata": {
    "ExecuteTime": {
     "end_time": "2022-11-27T08:44:12.199071Z",
     "start_time": "2022-11-27T08:44:12.170290Z"
    },
    "scrolled": true
   },
   "outputs": [
    {
     "data": {
      "text/html": [
       "<div>\n",
       "<style scoped>\n",
       "    .dataframe tbody tr th:only-of-type {\n",
       "        vertical-align: middle;\n",
       "    }\n",
       "\n",
       "    .dataframe tbody tr th {\n",
       "        vertical-align: top;\n",
       "    }\n",
       "\n",
       "    .dataframe thead th {\n",
       "        text-align: right;\n",
       "    }\n",
       "</style>\n",
       "<table border=\"1\" class=\"dataframe\">\n",
       "  <thead>\n",
       "    <tr style=\"text-align: right;\">\n",
       "      <th></th>\n",
       "      <th>Predicted</th>\n",
       "    </tr>\n",
       "    <tr>\n",
       "      <th>Id</th>\n",
       "      <th></th>\n",
       "    </tr>\n",
       "  </thead>\n",
       "  <tbody>\n",
       "    <tr>\n",
       "      <th>32_175413_295037</th>\n",
       "      <td>3.178651</td>\n",
       "    </tr>\n",
       "    <tr>\n",
       "      <th>33_176176_296681</th>\n",
       "      <td>2.591676</td>\n",
       "    </tr>\n",
       "    <tr>\n",
       "      <th>42_119203_210828</th>\n",
       "      <td>2.591676</td>\n",
       "    </tr>\n",
       "    <tr>\n",
       "      <th>44_181750_291554</th>\n",
       "      <td>2.591676</td>\n",
       "    </tr>\n",
       "    <tr>\n",
       "      <th>61_176332_252348</th>\n",
       "      <td>2.941637</td>\n",
       "    </tr>\n",
       "    <tr>\n",
       "      <th>...</th>\n",
       "      <td>...</td>\n",
       "    </tr>\n",
       "    <tr>\n",
       "      <th>99883_150755_276467</th>\n",
       "      <td>4.571730</td>\n",
       "    </tr>\n",
       "    <tr>\n",
       "      <th>99897_162913_266801</th>\n",
       "      <td>3.216538</td>\n",
       "    </tr>\n",
       "    <tr>\n",
       "      <th>99913_175989_292375</th>\n",
       "      <td>2.755369</td>\n",
       "    </tr>\n",
       "    <tr>\n",
       "      <th>99944_185654_221067</th>\n",
       "      <td>2.739100</td>\n",
       "    </tr>\n",
       "    <tr>\n",
       "      <th>99992_197084_242052</th>\n",
       "      <td>4.021606</td>\n",
       "    </tr>\n",
       "  </tbody>\n",
       "</table>\n",
       "<p>4790 rows × 1 columns</p>\n",
       "</div>"
      ],
      "text/plain": [
       "                     Predicted\n",
       "Id                            \n",
       "32_175413_295037      3.178651\n",
       "33_176176_296681      2.591676\n",
       "42_119203_210828      2.591676\n",
       "44_181750_291554      2.591676\n",
       "61_176332_252348      2.941637\n",
       "...                        ...\n",
       "99883_150755_276467   4.571730\n",
       "99897_162913_266801   3.216538\n",
       "99913_175989_292375   2.755369\n",
       "99944_185654_221067   2.739100\n",
       "99992_197084_242052   4.021606\n",
       "\n",
       "[4790 rows x 1 columns]"
      ]
     },
     "execution_count": 98,
     "metadata": {},
     "output_type": "execute_result"
    }
   ],
   "source": [
    "\n",
    "result = reg1.predict(X_test_norm)\n",
    "res1 = pd.DataFrame(result.tolist(), columns=[\"Predicted\"])\n",
    "res1.index = X_test_realmean.index\n",
    "res1.index.name = 'Id'\n",
    "pd.DataFrame(res1).to_csv('out1.csv')\n",
    "#print(torch.count_nonzero(torch.from_numpy(np.array(res1)).to(torch.float32)))\n",
    "res1"
   ]
  }
 ],
 "metadata": {
  "kernelspec": {
   "display_name": "comp3340",
   "language": "python",
   "name": "comp3340"
  },
  "language_info": {
   "codemirror_mode": {
    "name": "ipython",
    "version": 3
   },
   "file_extension": ".py",
   "mimetype": "text/x-python",
   "name": "python",
   "nbconvert_exporter": "python",
   "pygments_lexer": "ipython3",
   "version": "3.7.7"
  },
  "toc": {
   "base_numbering": 1,
   "nav_menu": {},
   "number_sections": true,
   "sideBar": true,
   "skip_h1_title": false,
   "title_cell": "Table of Contents",
   "title_sidebar": "Contents",
   "toc_cell": false,
   "toc_position": {},
   "toc_section_display": true,
   "toc_window_display": true
  }
 },
 "nbformat": 4,
 "nbformat_minor": 5
}
