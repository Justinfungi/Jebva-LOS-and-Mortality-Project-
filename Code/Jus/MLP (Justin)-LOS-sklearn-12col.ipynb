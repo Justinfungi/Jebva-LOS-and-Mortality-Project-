{
 "cells": [
  {
   "cell_type": "markdown",
   "id": "970d9aef",
   "metadata": {},
   "source": [
    "# Libraries"
   ]
  },
  {
   "cell_type": "code",
   "execution_count": 38,
   "id": "71cace5d",
   "metadata": {
    "ExecuteTime": {
     "end_time": "2022-11-26T15:22:40.883530Z",
     "start_time": "2022-11-26T15:22:40.877939Z"
    }
   },
   "outputs": [],
   "source": [
    "import pandas as pd\n",
    "import numpy as np\n",
    "from sklearn.impute import SimpleImputer\n",
    "from sklearn import preprocessing\n",
    "import torch\n",
    "import matplotlib.pyplot as plt\n",
    "from sklearn import metrics\n",
    "from sklearn.neural_network import MLPRegressor\n",
    "from tqdm import tqdm\n",
    "\n",
    "device = torch.device(\"cuda\" if torch.cuda.is_available() else \"cpu\")"
   ]
  },
  {
   "cell_type": "markdown",
   "id": "e5e3db1d",
   "metadata": {
    "ExecuteTime": {
     "end_time": "2022-10-27T03:47:12.458066Z",
     "start_time": "2022-10-27T03:47:12.452095Z"
    }
   },
   "source": [
    "# Import data"
   ]
  },
  {
   "cell_type": "code",
   "execution_count": 39,
   "id": "c7c7a26f",
   "metadata": {
    "ExecuteTime": {
     "end_time": "2022-11-26T15:22:40.953603Z",
     "start_time": "2022-11-26T15:22:40.885782Z"
    }
   },
   "outputs": [],
   "source": [
    "# For training the model\n",
    "X_train = pd.read_csv(\"../../X/LOStrain.csv\", index_col=[0])\n",
    "\n",
    "# For cross validation\n",
    "X_valid = pd.read_csv(\"../../X/LOSvalid.csv\", index_col=[0])\n",
    "\n",
    "# For prediction\n",
    "X_test = pd.read_csv(\"../../X/LOStest.csv\", index_col=[0])\n",
    "\n",
    "y_train_t2 = pd.read_csv(\"../../Task2/Y_train.csv\")\n",
    "y_valid_t2 = pd.read_csv(\"../../Task2/Y_valid.csv\")\n",
    "y_train_t2_value=y_train_t2[\"los_icu\"]\n",
    "y_valid_t2_value=y_valid_t2[\"los_icu\"]\n",
    "\n",
    "final_index = X_test.index"
   ]
  },
  {
   "cell_type": "code",
   "execution_count": 40,
   "id": "f58f4af0",
   "metadata": {
    "ExecuteTime": {
     "end_time": "2022-11-26T15:22:40.981322Z",
     "start_time": "2022-11-26T15:22:40.954913Z"
    }
   },
   "outputs": [
    {
     "data": {
      "text/html": [
       "<div>\n",
       "<style scoped>\n",
       "    .dataframe tbody tr th:only-of-type {\n",
       "        vertical-align: middle;\n",
       "    }\n",
       "\n",
       "    .dataframe tbody tr th {\n",
       "        vertical-align: top;\n",
       "    }\n",
       "\n",
       "    .dataframe thead th {\n",
       "        text-align: right;\n",
       "    }\n",
       "</style>\n",
       "<table border=\"1\" class=\"dataframe\">\n",
       "  <thead>\n",
       "    <tr style=\"text-align: right;\">\n",
       "      <th></th>\n",
       "      <th>0</th>\n",
       "      <th>1</th>\n",
       "      <th>2</th>\n",
       "      <th>3</th>\n",
       "      <th>4</th>\n",
       "      <th>5</th>\n",
       "      <th>6</th>\n",
       "      <th>7</th>\n",
       "      <th>8</th>\n",
       "      <th>9</th>\n",
       "      <th>10</th>\n",
       "      <th>11</th>\n",
       "      <th>12</th>\n",
       "    </tr>\n",
       "  </thead>\n",
       "  <tbody>\n",
       "    <tr>\n",
       "      <th>0</th>\n",
       "      <td>-0.068072</td>\n",
       "      <td>1.170093</td>\n",
       "      <td>-0.638602</td>\n",
       "      <td>-0.002273</td>\n",
       "      <td>0.305052</td>\n",
       "      <td>-1.069743</td>\n",
       "      <td>-0.296768</td>\n",
       "      <td>0.040605</td>\n",
       "      <td>-1.109747</td>\n",
       "      <td>1.036957e-10</td>\n",
       "      <td>1.026004</td>\n",
       "      <td>1.478921</td>\n",
       "      <td>-2.039985</td>\n",
       "    </tr>\n",
       "    <tr>\n",
       "      <th>1</th>\n",
       "      <td>-0.221815</td>\n",
       "      <td>-0.061390</td>\n",
       "      <td>1.537514</td>\n",
       "      <td>-0.518339</td>\n",
       "      <td>0.049434</td>\n",
       "      <td>-1.044218</td>\n",
       "      <td>0.093803</td>\n",
       "      <td>0.040605</td>\n",
       "      <td>0.702851</td>\n",
       "      <td>1.036957e-10</td>\n",
       "      <td>-0.010417</td>\n",
       "      <td>0.198395</td>\n",
       "      <td>0.793194</td>\n",
       "    </tr>\n",
       "    <tr>\n",
       "      <th>2</th>\n",
       "      <td>1.194640</td>\n",
       "      <td>0.546114</td>\n",
       "      <td>1.723172</td>\n",
       "      <td>0.101098</td>\n",
       "      <td>0.049434</td>\n",
       "      <td>-0.858553</td>\n",
       "      <td>0.511385</td>\n",
       "      <td>0.040605</td>\n",
       "      <td>0.145354</td>\n",
       "      <td>1.036957e-10</td>\n",
       "      <td>-0.010417</td>\n",
       "      <td>0.161234</td>\n",
       "      <td>-1.561656</td>\n",
       "    </tr>\n",
       "    <tr>\n",
       "      <th>3</th>\n",
       "      <td>-0.563883</td>\n",
       "      <td>-0.029561</td>\n",
       "      <td>-0.661305</td>\n",
       "      <td>-0.188482</td>\n",
       "      <td>0.049434</td>\n",
       "      <td>-0.079990</td>\n",
       "      <td>0.093803</td>\n",
       "      <td>0.040605</td>\n",
       "      <td>-0.151030</td>\n",
       "      <td>1.036957e-10</td>\n",
       "      <td>-0.010417</td>\n",
       "      <td>-0.211957</td>\n",
       "      <td>0.728804</td>\n",
       "    </tr>\n",
       "    <tr>\n",
       "      <th>4</th>\n",
       "      <td>0.325216</td>\n",
       "      <td>-0.101854</td>\n",
       "      <td>0.603034</td>\n",
       "      <td>-0.157922</td>\n",
       "      <td>0.049434</td>\n",
       "      <td>-0.726826</td>\n",
       "      <td>-1.734962</td>\n",
       "      <td>0.040605</td>\n",
       "      <td>-0.181217</td>\n",
       "      <td>1.036957e-10</td>\n",
       "      <td>-0.010417</td>\n",
       "      <td>-0.341346</td>\n",
       "      <td>-1.074128</td>\n",
       "    </tr>\n",
       "    <tr>\n",
       "      <th>...</th>\n",
       "      <td>...</td>\n",
       "      <td>...</td>\n",
       "      <td>...</td>\n",
       "      <td>...</td>\n",
       "      <td>...</td>\n",
       "      <td>...</td>\n",
       "      <td>...</td>\n",
       "      <td>...</td>\n",
       "      <td>...</td>\n",
       "      <td>...</td>\n",
       "      <td>...</td>\n",
       "      <td>...</td>\n",
       "      <td>...</td>\n",
       "    </tr>\n",
       "    <tr>\n",
       "      <th>16755</th>\n",
       "      <td>0.068561</td>\n",
       "      <td>-1.432434</td>\n",
       "      <td>0.667703</td>\n",
       "      <td>-1.013160</td>\n",
       "      <td>0.049434</td>\n",
       "      <td>-0.598336</td>\n",
       "      <td>0.093803</td>\n",
       "      <td>0.040605</td>\n",
       "      <td>-0.036621</td>\n",
       "      <td>6.866879e-01</td>\n",
       "      <td>0.584864</td>\n",
       "      <td>-0.894033</td>\n",
       "      <td>0.039265</td>\n",
       "    </tr>\n",
       "    <tr>\n",
       "      <th>16756</th>\n",
       "      <td>-0.024141</td>\n",
       "      <td>0.370595</td>\n",
       "      <td>-0.389591</td>\n",
       "      <td>-0.067515</td>\n",
       "      <td>0.049434</td>\n",
       "      <td>-0.004140</td>\n",
       "      <td>-2.040678</td>\n",
       "      <td>0.040605</td>\n",
       "      <td>0.325411</td>\n",
       "      <td>1.036957e-10</td>\n",
       "      <td>0.973702</td>\n",
       "      <td>-0.841322</td>\n",
       "      <td>0.039265</td>\n",
       "    </tr>\n",
       "    <tr>\n",
       "      <th>16757</th>\n",
       "      <td>-0.125969</td>\n",
       "      <td>-0.518391</td>\n",
       "      <td>-1.128922</td>\n",
       "      <td>-0.353408</td>\n",
       "      <td>0.049434</td>\n",
       "      <td>-0.389777</td>\n",
       "      <td>1.863979</td>\n",
       "      <td>0.040605</td>\n",
       "      <td>0.006264</td>\n",
       "      <td>8.628834e-01</td>\n",
       "      <td>-0.443803</td>\n",
       "      <td>-0.629821</td>\n",
       "      <td>0.039265</td>\n",
       "    </tr>\n",
       "    <tr>\n",
       "      <th>16758</th>\n",
       "      <td>1.355096</td>\n",
       "      <td>1.023920</td>\n",
       "      <td>2.021813</td>\n",
       "      <td>0.149653</td>\n",
       "      <td>0.049434</td>\n",
       "      <td>1.028054</td>\n",
       "      <td>0.192377</td>\n",
       "      <td>-0.813486</td>\n",
       "      <td>0.052558</td>\n",
       "      <td>1.036957e-10</td>\n",
       "      <td>0.782719</td>\n",
       "      <td>-0.077771</td>\n",
       "      <td>0.039265</td>\n",
       "    </tr>\n",
       "    <tr>\n",
       "      <th>16759</th>\n",
       "      <td>-0.718144</td>\n",
       "      <td>-0.637370</td>\n",
       "      <td>0.724944</td>\n",
       "      <td>0.064435</td>\n",
       "      <td>0.049434</td>\n",
       "      <td>0.404018</td>\n",
       "      <td>0.830393</td>\n",
       "      <td>-0.318204</td>\n",
       "      <td>0.172140</td>\n",
       "      <td>-7.900174e-01</td>\n",
       "      <td>-0.607453</td>\n",
       "      <td>-0.358876</td>\n",
       "      <td>0.039265</td>\n",
       "    </tr>\n",
       "  </tbody>\n",
       "</table>\n",
       "<p>16760 rows × 13 columns</p>\n",
       "</div>"
      ],
      "text/plain": [
       "             0         1         2         3         4         5         6   \\\n",
       "0     -0.068072  1.170093 -0.638602 -0.002273  0.305052 -1.069743 -0.296768   \n",
       "1     -0.221815 -0.061390  1.537514 -0.518339  0.049434 -1.044218  0.093803   \n",
       "2      1.194640  0.546114  1.723172  0.101098  0.049434 -0.858553  0.511385   \n",
       "3     -0.563883 -0.029561 -0.661305 -0.188482  0.049434 -0.079990  0.093803   \n",
       "4      0.325216 -0.101854  0.603034 -0.157922  0.049434 -0.726826 -1.734962   \n",
       "...         ...       ...       ...       ...       ...       ...       ...   \n",
       "16755  0.068561 -1.432434  0.667703 -1.013160  0.049434 -0.598336  0.093803   \n",
       "16756 -0.024141  0.370595 -0.389591 -0.067515  0.049434 -0.004140 -2.040678   \n",
       "16757 -0.125969 -0.518391 -1.128922 -0.353408  0.049434 -0.389777  1.863979   \n",
       "16758  1.355096  1.023920  2.021813  0.149653  0.049434  1.028054  0.192377   \n",
       "16759 -0.718144 -0.637370  0.724944  0.064435  0.049434  0.404018  0.830393   \n",
       "\n",
       "             7         8             9         10        11        12  \n",
       "0      0.040605 -1.109747  1.036957e-10  1.026004  1.478921 -2.039985  \n",
       "1      0.040605  0.702851  1.036957e-10 -0.010417  0.198395  0.793194  \n",
       "2      0.040605  0.145354  1.036957e-10 -0.010417  0.161234 -1.561656  \n",
       "3      0.040605 -0.151030  1.036957e-10 -0.010417 -0.211957  0.728804  \n",
       "4      0.040605 -0.181217  1.036957e-10 -0.010417 -0.341346 -1.074128  \n",
       "...         ...       ...           ...       ...       ...       ...  \n",
       "16755  0.040605 -0.036621  6.866879e-01  0.584864 -0.894033  0.039265  \n",
       "16756  0.040605  0.325411  1.036957e-10  0.973702 -0.841322  0.039265  \n",
       "16757  0.040605  0.006264  8.628834e-01 -0.443803 -0.629821  0.039265  \n",
       "16758 -0.813486  0.052558  1.036957e-10  0.782719 -0.077771  0.039265  \n",
       "16759 -0.318204  0.172140 -7.900174e-01 -0.607453 -0.358876  0.039265  \n",
       "\n",
       "[16760 rows x 13 columns]"
      ]
     },
     "execution_count": 40,
     "metadata": {},
     "output_type": "execute_result"
    }
   ],
   "source": [
    "# Impute the 0 with mean\n",
    "imp = SimpleImputer(missing_values=0, strategy='mean')\n",
    "X_train_nozero = pd.DataFrame(imp.fit_transform(X_train))\n",
    "X_valid_nozero = pd.DataFrame(imp.fit_transform(X_valid))\n",
    "X_test_nozero = pd.DataFrame(imp.fit_transform(X_test))\n",
    "X_train_nozero"
   ]
  },
  {
   "cell_type": "code",
   "execution_count": 41,
   "id": "6399bfe5",
   "metadata": {
    "ExecuteTime": {
     "end_time": "2022-11-26T15:22:40.990009Z",
     "start_time": "2022-11-26T15:22:40.983001Z"
    }
   },
   "outputs": [],
   "source": [
    "scaler = preprocessing.StandardScaler()\n",
    "\n",
    "X_train=X_train_nozero.values\n",
    "X_train= scaler.fit_transform(X_train)\n",
    "X_train=pd.DataFrame(X_train)\n",
    "\n",
    "X_valid=X_valid_nozero.values\n",
    "X_valid= scaler.fit_transform(X_valid)\n",
    "X_valid=pd.DataFrame(X_valid)\n",
    "\n",
    "X_test=X_test_nozero.values\n",
    "X_test= scaler.fit_transform(X_test)\n",
    "X_test=pd.DataFrame(X_test)"
   ]
  },
  {
   "cell_type": "code",
   "execution_count": 42,
   "id": "4aa393c8",
   "metadata": {
    "ExecuteTime": {
     "end_time": "2022-11-26T15:22:40.994829Z",
     "start_time": "2022-11-26T15:22:40.991500Z"
    }
   },
   "outputs": [
    {
     "name": "stdout",
     "output_type": "stream",
     "text": [
      "(16760, 13)\n",
      "(2394, 13)\n",
      "(4790, 13)\n"
     ]
    }
   ],
   "source": [
    "\n",
    "X_train_norm = X_train\n",
    "X_valid_norm = X_valid\n",
    "X_test_norm = X_test\n",
    "\n",
    "print(X_train_norm.shape)\n",
    "print(X_valid_norm.shape)\n",
    "print(X_test_norm.shape)\n"
   ]
  },
  {
   "cell_type": "markdown",
   "id": "74a00a91",
   "metadata": {},
   "source": [
    "# Evaluation Matrix"
   ]
  },
  {
   "cell_type": "code",
   "execution_count": 43,
   "id": "f680ed22",
   "metadata": {
    "ExecuteTime": {
     "end_time": "2022-11-26T15:22:41.000289Z",
     "start_time": "2022-11-26T15:22:40.996118Z"
    }
   },
   "outputs": [],
   "source": [
    "def rmse(predictions, targets):\n",
    "    return np.sqrt(((predictions - targets) ** 2).mean())"
   ]
  },
  {
   "cell_type": "markdown",
   "id": "7eaa1314",
   "metadata": {
    "ExecuteTime": {
     "end_time": "2022-11-14T09:39:42.985881Z",
     "start_time": "2022-11-14T09:39:42.982955Z"
    }
   },
   "source": [
    "# Hyperparameter and setting tuning"
   ]
  },
  {
   "cell_type": "markdown",
   "id": "45b5905c",
   "metadata": {
    "ExecuteTime": {
     "end_time": "2022-11-14T10:48:05.363047Z",
     "start_time": "2022-11-14T10:48:05.359385Z"
    }
   },
   "source": [
    "## Layer Choices"
   ]
  },
  {
   "cell_type": "code",
   "execution_count": 44,
   "id": "8e9bbbe6",
   "metadata": {
    "ExecuteTime": {
     "end_time": "2022-11-26T15:35:44.111416Z",
     "start_time": "2022-11-26T15:22:41.001777Z"
    },
    "scrolled": false
   },
   "outputs": [
    {
     "name": "stderr",
     "output_type": "stream",
     "text": [
      "100%|█████████████████████████████████████████| 171/171 [13:02<00:00,  4.58s/it]\n"
     ]
    },
    {
     "name": "stdout",
     "output_type": "stream",
     "text": [
      "[(1, 1), (1, 2), (1, 3), (1, 4), (1, 5), (1, 6), (1, 7), (1, 8), (1, 9), (1, 10), (1, 11), (1, 12), (1, 13), (1, 14), (1, 15), (1, 16), (1, 17), (1, 18), (1, 19), (2, 1), (2, 2), (2, 3), (2, 4), (2, 5), (2, 6), (2, 7), (2, 8), (2, 9), (2, 10), (2, 11), (2, 12), (2, 13), (2, 14), (2, 15), (2, 16), (2, 17), (2, 18), (2, 19), (3, 1), (3, 2), (3, 3), (3, 4), (3, 5), (3, 6), (3, 7), (3, 8), (3, 9), (3, 10), (3, 11), (3, 12), (3, 13), (3, 14), (3, 15), (3, 16), (3, 17), (3, 18), (3, 19), (4, 1), (4, 2), (4, 3), (4, 4), (4, 5), (4, 6), (4, 7), (4, 8), (4, 9), (4, 10), (4, 11), (4, 12), (4, 13), (4, 14), (4, 15), (4, 16), (4, 17), (4, 18), (4, 19), (5, 1), (5, 2), (5, 3), (5, 4), (5, 5), (5, 6), (5, 7), (5, 8), (5, 9), (5, 10), (5, 11), (5, 12), (5, 13), (5, 14), (5, 15), (5, 16), (5, 17), (5, 18), (5, 19), (6, 1), (6, 2), (6, 3), (6, 4), (6, 5), (6, 6), (6, 7), (6, 8), (6, 9), (6, 10), (6, 11), (6, 12), (6, 13), (6, 14), (6, 15), (6, 16), (6, 17), (6, 18), (6, 19), (7, 1), (7, 2), (7, 3), (7, 4), (7, 5), (7, 6), (7, 7), (7, 8), (7, 9), (7, 10), (7, 11), (7, 12), (7, 13), (7, 14), (7, 15), (7, 16), (7, 17), (7, 18), (7, 19), (8, 1), (8, 2), (8, 3), (8, 4), (8, 5), (8, 6), (8, 7), (8, 8), (8, 9), (8, 10), (8, 11), (8, 12), (8, 13), (8, 14), (8, 15), (8, 16), (8, 17), (8, 18), (8, 19), (9, 1), (9, 2), (9, 3), (9, 4), (9, 5), (9, 6), (9, 7), (9, 8), (9, 9), (9, 10), (9, 11), (9, 12), (9, 13), (9, 14), (9, 15), (9, 16), (9, 17), (9, 18), (9, 19)]\n"
     ]
    },
    {
     "data": {
      "image/png": "[encoded data removed]",
      "text/plain": [
       "<Figure size 640x480 with 1 Axes>"
      ]
     },
     "metadata": {},
     "output_type": "display_data"
    }
   ],
   "source": [
    "layer_list = []\n",
    "rmse_lst=[]\n",
    "\n",
    "for x in range (1,10,1):\n",
    "    for y in range (1,20,1):\n",
    "        layer_list.append((x,y))\n",
    "\n",
    "for j in tqdm(range(len(layer_list))):\n",
    "    i = layer_list[j]\n",
    "    clf = MLPRegressor(solver=\"adam\",\n",
    "                       alpha=1e-5,\n",
    "                       hidden_layer_sizes=i,\n",
    "                       activation='relu',\n",
    "                       random_state=3612,\n",
    "                       max_iter=1000)\n",
    "\n",
    "    clf.fit(X_train_norm, y_train_t2_value)\n",
    "    y_pred = clf.predict(X_valid_norm)\n",
    "    rmse1 = rmse(y_pred, y_valid_t2_value)\n",
    "    rmse_lst.append(rmse1)\n",
    "    \n",
    "print(layer_list)\n",
    "index = rmse_lst.index(min(rmse_lst))\n",
    "plt.plot(list(range(len(layer_list))), rmse_lst, label='Layers Tuning')\n",
    "plt.xlabel('Layer Choises')\n",
    "plt.ylabel('RMSE')\n",
    "plt.title(f\"Layer {layer_list[index]} - ROC curve\")\n",
    "plt.legend(loc=\"best\")\n",
    "plt.annotate(np.min(rmse_lst).round(4), (np.argmin(rmse_lst), np.min(rmse_lst)), xycoords=\"data\",\n",
    "                 xytext=(40, 20), textcoords=\"offset pixels\", arrowprops=dict(facecolor=\"black\", shrink=0.1), fontsize=10,\n",
    "                 horizontalalignment=\"center\", verticalalignment=\"top\")\n",
    "plt.show()"
   ]
  },
  {
   "cell_type": "code",
   "execution_count": 45,
   "id": "f314ef7d",
   "metadata": {
    "ExecuteTime": {
     "end_time": "2022-11-26T15:35:44.117867Z",
     "start_time": "2022-11-26T15:35:44.113508Z"
    }
   },
   "outputs": [
    {
     "data": {
      "text/plain": [
       "(5, 19)"
      ]
     },
     "execution_count": 45,
     "metadata": {},
     "output_type": "execute_result"
    }
   ],
   "source": [
    "best_layernumber = layer_list[index]\n",
    "best_layernumber"
   ]
  },
  {
   "cell_type": "markdown",
   "id": "16213e33",
   "metadata": {},
   "source": [
    "## Solver Choices"
   ]
  },
  {
   "cell_type": "code",
   "execution_count": 46,
   "id": "754bfc1c",
   "metadata": {
    "ExecuteTime": {
     "end_time": "2022-11-26T15:36:08.284645Z",
     "start_time": "2022-11-26T15:35:44.122831Z"
    }
   },
   "outputs": [
    {
     "name": "stderr",
     "output_type": "stream",
     "text": [
      "/home/fish/anaconda3/envs/comp3340/lib/python3.7/site-packages/sklearn/neural_network/_multilayer_perceptron.py:549: ConvergenceWarning: lbfgs failed to converge (status=1):\n",
      "STOP: TOTAL NO. of ITERATIONS REACHED LIMIT.\n",
      "\n",
      "Increase the number of iterations (max_iter) or scale the data as shown in:\n",
      "    https://scikit-learn.org/stable/modules/preprocessing.html\n",
      "  self.n_iter_ = _check_optimize_result(\"lbfgs\", opt_res, self.max_iter)\n"
     ]
    },
    {
     "name": "stdout",
     "output_type": "stream",
     "text": [
      "['lbfgs', 'sgd', 'adam']\n"
     ]
    },
    {
     "data": {
      "image/png": "[encoded data removed]",
      "text/plain": [
       "<Figure size 640x480 with 1 Axes>"
      ]
     },
     "metadata": {},
     "output_type": "display_data"
    }
   ],
   "source": [
    "solver_list = [\"lbfgs\",\"sgd\",\"adam\"]\n",
    "rmse_lst=[]\n",
    "\n",
    "for i in solver_list:\n",
    "    clf = MLPRegressor(solver=i,\n",
    "                        alpha=1e-5,\n",
    "                        hidden_layer_sizes=best_layernumber,\n",
    "                        random_state=1,\n",
    "                        activation='relu',\n",
    "                        max_iter=1000)\n",
    "\n",
    "    clf.fit(X_train_norm, y_train_t2_value)\n",
    "    y_pred = clf.predict(X_valid_norm)\n",
    "    rmse1 = rmse(y_pred, y_valid_t2_value)\n",
    "    rmse_lst.append(rmse1)\n",
    "    \n",
    "print(solver_list)\n",
    "index = rmse_lst.index(min(rmse_lst))\n",
    "plt.plot(solver_list, rmse_lst, label='Solver Tuning')\n",
    "plt.xlabel('Solver Choises')\n",
    "plt.ylabel('RMSE')\n",
    "plt.title(f\"Solver {solver_list[index]} - ROC curve\")\n",
    "plt.legend(loc=\"best\")\n",
    "plt.annotate(np.min(rmse_lst).round(4), (np.argmin(rmse_lst), np.min(rmse_lst)), xycoords=\"data\",\n",
    "                 xytext=(40, 20), textcoords=\"offset pixels\", arrowprops=dict(facecolor=\"black\", shrink=0.1), fontsize=10,\n",
    "                 horizontalalignment=\"center\", verticalalignment=\"top\")\n",
    "plt.show()"
   ]
  },
  {
   "cell_type": "code",
   "execution_count": 47,
   "id": "69561f86",
   "metadata": {
    "ExecuteTime": {
     "end_time": "2022-11-26T15:36:08.292158Z",
     "start_time": "2022-11-26T15:36:08.286918Z"
    }
   },
   "outputs": [
    {
     "data": {
      "text/plain": [
       "'adam'"
      ]
     },
     "execution_count": 47,
     "metadata": {},
     "output_type": "execute_result"
    }
   ],
   "source": [
    "index = np.argmin(rmse_lst)\n",
    "best_solver = solver_list[index]\n",
    "best_solver"
   ]
  },
  {
   "cell_type": "markdown",
   "id": "893d31a1",
   "metadata": {
    "ExecuteTime": {
     "end_time": "2022-11-14T10:00:23.542784Z",
     "start_time": "2022-11-14T10:00:23.538559Z"
    }
   },
   "source": [
    "## Learning rate tuning"
   ]
  },
  {
   "cell_type": "code",
   "execution_count": 48,
   "id": "ee20b4f5",
   "metadata": {
    "ExecuteTime": {
     "end_time": "2022-11-26T15:36:47.045745Z",
     "start_time": "2022-11-26T15:36:08.294210Z"
    }
   },
   "outputs": [
    {
     "name": "stdout",
     "output_type": "stream",
     "text": [
      "[1e-10, 0.0001, 0.001, 0.0032500000000000003, 0.0055000000000000005, 0.007750000000000001, 0.01, 0.01, 0.0325, 0.05500000000000001, 0.0775, 0.1, 0.1, 0.325, 0.55, 0.775, 1.0]\n"
     ]
    },
    {
     "data": {
      "image/png": "[encoded data removed]",
      "text/plain": [
       "<Figure size 640x480 with 1 Axes>"
      ]
     },
     "metadata": {},
     "output_type": "display_data"
    },
    {
     "name": "stdout",
     "output_type": "stream",
     "text": [
      "1.8926\n"
     ]
    }
   ],
   "source": [
    "lr_list = [1e-10,0.0001]+list(np.linspace(0.001,0.01,5))+list(np.linspace(0.01,0.1,5))+list(np.linspace(0.1,1,5))\n",
    "rmse_lst=[]\n",
    "\n",
    "for i in lr_list:\n",
    "    clf = MLPRegressor(solver=best_solver,\n",
    "                        hidden_layer_sizes=best_layernumber,\n",
    "                        learning_rate_init=i,\n",
    "                        learning_rate=\"adaptive\", \n",
    "                        alpha=1e-5,\n",
    "                        random_state=1,\n",
    "                        activation='relu',\n",
    "                        max_iter=1000)\n",
    "\n",
    "    clf.fit(X_train_norm, y_train_t2_value)\n",
    "    y_pred = clf.predict(X_valid_norm)\n",
    "    rmse1 = rmse(y_pred, y_valid_t2_value)\n",
    "    rmse_lst.append(rmse1)\n",
    "    \n",
    "print(lr_list)\n",
    "index = rmse_lst.index(min(rmse_lst))\n",
    "plt.plot(lr_list, rmse_lst, label='Learning Rate Tuning')\n",
    "plt.xlabel('Learning Rate Choises')\n",
    "plt.ylabel('RMSE')\n",
    "plt.title(f\"Learning Rate {lr_list[index]} - ROC curve\")\n",
    "plt.legend(loc=\"best\")\n",
    "plt.annotate(np.min(rmse_lst).round(4), (np.argmin(rmse_lst), np.min(rmse_lst)), xycoords=\"data\",\n",
    "                 xytext=(40, 20), textcoords=\"offset pixels\", arrowprops=dict(facecolor=\"black\", shrink=0.1), fontsize=10,\n",
    "                 horizontalalignment=\"center\", verticalalignment=\"top\")\n",
    "plt.show()\n",
    "print(np.min(rmse_lst).round(4))"
   ]
  },
  {
   "cell_type": "code",
   "execution_count": 49,
   "id": "2c5468c4",
   "metadata": {
    "ExecuteTime": {
     "end_time": "2022-11-26T15:36:47.051545Z",
     "start_time": "2022-11-26T15:36:47.047615Z"
    }
   },
   "outputs": [
    {
     "data": {
      "text/plain": [
       "0.001"
      ]
     },
     "execution_count": 49,
     "metadata": {},
     "output_type": "execute_result"
    }
   ],
   "source": [
    "index = np.argmin(rmse_lst)\n",
    "best_lr_choice =  lr_list[index]\n",
    "best_lr_choice"
   ]
  },
  {
   "cell_type": "markdown",
   "id": "cb356760",
   "metadata": {
    "ExecuteTime": {
     "end_time": "2022-11-24T12:56:56.523825Z",
     "start_time": "2022-11-24T12:56:56.518572Z"
    }
   },
   "source": [
    "## Regularization strength tuning"
   ]
  },
  {
   "cell_type": "code",
   "execution_count": 50,
   "id": "abcce264",
   "metadata": {
    "ExecuteTime": {
     "end_time": "2022-11-26T15:38:54.192841Z",
     "start_time": "2022-11-26T15:36:47.053068Z"
    }
   },
   "outputs": [
    {
     "name": "stdout",
     "output_type": "stream",
     "text": [
      "[1e-05, 1.2105263157894737e-05, 1.4210526315789475e-05, 1.6315789473684213e-05, 1.842105263157895e-05, 2.0526315789473685e-05, 2.2631578947368423e-05, 2.473684210526316e-05, 2.6842105263157896e-05, 2.8947368421052637e-05, 3.105263157894737e-05, 3.3157894736842106e-05, 3.526315789473685e-05, 3.736842105263158e-05, 3.9473684210526316e-05, 4.157894736842106e-05, 4.368421052631579e-05, 4.5789473684210527e-05, 4.789473684210527e-05, 5e-05]\n"
     ]
    },
    {
     "data": {
      "image/png": "[encoded data removed]",
      "text/plain": [
       "<Figure size 640x480 with 1 Axes>"
      ]
     },
     "metadata": {},
     "output_type": "display_data"
    }
   ],
   "source": [
    "reg_list = list(np.linspace(1e-5,0.00005,20))\n",
    "rmse_lst=[]\n",
    "\n",
    "for i in reg_list:\n",
    "    clf = MLPRegressor(solver=best_solver,\n",
    "                        hidden_layer_sizes=best_layernumber,\n",
    "                        learning_rate_init=best_lr_choice,\n",
    "                        alpha=i,\n",
    "                        random_state=1,\n",
    "                        activation='relu',\n",
    "                        max_iter=1000)\n",
    "\n",
    "    clf.fit(X_train_norm, y_train_t2_value)\n",
    "    y_pred = clf.predict(X_valid_norm)\n",
    "    rmse1 = rmse(y_pred, y_valid_t2_value)\n",
    "    rmse_lst.append(rmse1)\n",
    "    \n",
    "print(reg_list)\n",
    "index = rmse_lst.index(min(rmse_lst))\n",
    "plt.plot(list(range(len(reg_list))), rmse_lst, label='Regularization strength tuning')\n",
    "plt.xlabel('Regularization strength Choices')\n",
    "plt.ylabel('RMSE')\n",
    "plt.title(f\"Regularization strength tuning {reg_list[index]} - ROC curve\")\n",
    "plt.legend(loc=\"best\")\n",
    "plt.annotate(np.min(rmse_lst).round(4), (np.argmin(rmse_lst), np.min(rmse_lst)), xycoords=\"data\",\n",
    "                 xytext=(40, 20), textcoords=\"offset pixels\", arrowprops=dict(facecolor=\"black\", shrink=0.1), fontsize=10,\n",
    "                 horizontalalignment=\"center\", verticalalignment=\"top\")\n",
    "plt.show()"
   ]
  },
  {
   "cell_type": "code",
   "execution_count": 51,
   "id": "df9d432e",
   "metadata": {
    "ExecuteTime": {
     "end_time": "2022-11-26T15:38:54.201499Z",
     "start_time": "2022-11-26T15:38:54.195045Z"
    }
   },
   "outputs": [
    {
     "data": {
      "text/plain": [
       "3.105263157894737e-05"
      ]
     },
     "execution_count": 51,
     "metadata": {},
     "output_type": "execute_result"
    }
   ],
   "source": [
    "index = np.argmin(rmse_lst)\n",
    "best_reg_choice =  reg_list[index]\n",
    "best_reg_choice"
   ]
  },
  {
   "cell_type": "code",
   "execution_count": 52,
   "id": "5bc4e02a",
   "metadata": {
    "ExecuteTime": {
     "end_time": "2022-11-26T15:38:54.225537Z",
     "start_time": "2022-11-26T15:38:54.204807Z"
    }
   },
   "outputs": [
    {
     "data": {
      "text/plain": [
       "1001"
      ]
     },
     "execution_count": 52,
     "metadata": {},
     "output_type": "execute_result"
    }
   ],
   "source": [
    "index = np.argmin(rmse_lst)\n",
    "best_rs_choice =  rs_list[index]\n",
    "best_rs_choice"
   ]
  },
  {
   "cell_type": "markdown",
   "id": "4fbb3efb",
   "metadata": {
    "ExecuteTime": {
     "end_time": "2022-11-25T09:14:34.666541Z",
     "start_time": "2022-11-25T09:14:34.664049Z"
    }
   },
   "source": [
    "## Activation function Choices"
   ]
  },
  {
   "cell_type": "code",
   "execution_count": 53,
   "id": "9be7047c",
   "metadata": {
    "ExecuteTime": {
     "end_time": "2022-11-26T15:39:14.917637Z",
     "start_time": "2022-11-26T15:38:54.228013Z"
    }
   },
   "outputs": [
    {
     "name": "stdout",
     "output_type": "stream",
     "text": [
      "['identity', 'logistic', 'tanh', 'relu']\n"
     ]
    },
    {
     "data": {
      "image/png": "[encoded data removed]",
      "text/plain": [
       "<Figure size 640x480 with 1 Axes>"
      ]
     },
     "metadata": {},
     "output_type": "display_data"
    }
   ],
   "source": [
    "activation_list = ['identity','logistic','tanh','relu']\n",
    "rmse_lst=[]\n",
    "\n",
    "for i in activation_list:\n",
    "    clf = MLPRegressor(solver=best_solver,\n",
    "                        hidden_layer_sizes=best_layernumber,\n",
    "                        learning_rate_init=best_lr_choice,\n",
    "                        alpha=best_reg_choice,\n",
    "                        random_state=3612,\n",
    "                        activation=i,\n",
    "                        max_iter=1000)\n",
    "\n",
    "    clf.fit(X_train_norm, y_train_t2_value)\n",
    "    y_pred = clf.predict(X_valid_norm)\n",
    "    rmse1 = rmse(y_pred, y_valid_t2_value)\n",
    "    rmse_lst.append(rmse1)\n",
    "    \n",
    "print(activation_list)\n",
    "index = rmse_lst.index(min(rmse_lst))\n",
    "plt.plot(activation_list, rmse_lst, label=' Random State Tuning')\n",
    "plt.xlabel(' Random State Choices')\n",
    "plt.ylabel('RMSE')\n",
    "plt.title(f\" Activation Tuning {activation_list[index]} - ROC curve\")\n",
    "plt.legend(loc=\"best\")\n",
    "plt.annotate(np.min(rmse_lst).round(4), (np.argmin(rmse_lst), np.min(rmse_lst)), xycoords=\"data\",\n",
    "                 xytext=(40, 20), textcoords=\"offset pixels\", arrowprops=dict(facecolor=\"black\", shrink=0.1), fontsize=10,\n",
    "                 horizontalalignment=\"center\", verticalalignment=\"top\")\n",
    "plt.show()"
   ]
  },
  {
   "cell_type": "markdown",
   "id": "b16acbcd",
   "metadata": {},
   "source": [
    "# Test"
   ]
  },
  {
   "cell_type": "code",
   "execution_count": 54,
   "id": "393988a7",
   "metadata": {
    "ExecuteTime": {
     "end_time": "2022-11-26T15:39:14.924157Z",
     "start_time": "2022-11-26T15:39:14.919638Z"
    }
   },
   "outputs": [],
   "source": [
    "X = np.concatenate((X_train_norm,X_valid_norm),axis=0)\n",
    "y = np.concatenate((y_train_t2_value,y_valid_t2_value),axis=0)"
   ]
  },
  {
   "cell_type": "code",
   "execution_count": 55,
   "id": "f5c8cc99",
   "metadata": {
    "ExecuteTime": {
     "end_time": "2022-11-26T15:39:28.258511Z",
     "start_time": "2022-11-26T15:39:14.926517Z"
    }
   },
   "outputs": [
    {
     "name": "stderr",
     "output_type": "stream",
     "text": [
      "/home/fish/anaconda3/envs/comp3340/lib/python3.7/site-packages/sklearn/neural_network/_multilayer_perceptron.py:696: ConvergenceWarning: Stochastic Optimizer: Maximum iterations (200) reached and the optimization hasn't converged yet.\n",
      "  ConvergenceWarning,\n"
     ]
    },
    {
     "data": {
      "text/plain": [
       "1.941978747981517"
      ]
     },
     "execution_count": 55,
     "metadata": {},
     "output_type": "execute_result"
    }
   ],
   "source": [
    "# Final model\n",
    "reg1 = MLPRegressor(\n",
    "                   )\n",
    "\n",
    "reg1.fit(X_train_norm,y_train_t2_value)\n",
    "y_pred = reg1.predict(X_valid_norm)\n",
    "rmse(y_pred, y_valid_t2_value)"
   ]
  },
  {
   "cell_type": "code",
   "execution_count": 56,
   "id": "bcd7285c",
   "metadata": {
    "ExecuteTime": {
     "end_time": "2022-11-26T15:39:28.272769Z",
     "start_time": "2022-11-26T15:39:28.260770Z"
    }
   },
   "outputs": [
    {
     "data": {
      "text/plain": [
       "1.941978747981517"
      ]
     },
     "execution_count": 56,
     "metadata": {},
     "output_type": "execute_result"
    }
   ],
   "source": [
    "y_pred = reg1.predict(X_valid_norm)\n",
    "rmse(y_pred, y_valid_t2_value)"
   ]
  },
  {
   "cell_type": "code",
   "execution_count": 57,
   "id": "dcff3df6",
   "metadata": {
    "ExecuteTime": {
     "end_time": "2022-11-26T15:39:28.351189Z",
     "start_time": "2022-11-26T15:39:28.275380Z"
    }
   },
   "outputs": [
    {
     "data": {
      "text/html": [
       "<div>\n",
       "<style scoped>\n",
       "    .dataframe tbody tr th:only-of-type {\n",
       "        vertical-align: middle;\n",
       "    }\n",
       "\n",
       "    .dataframe tbody tr th {\n",
       "        vertical-align: top;\n",
       "    }\n",
       "\n",
       "    .dataframe thead th {\n",
       "        text-align: right;\n",
       "    }\n",
       "</style>\n",
       "<table border=\"1\" class=\"dataframe\">\n",
       "  <thead>\n",
       "    <tr style=\"text-align: right;\">\n",
       "      <th></th>\n",
       "      <th>0</th>\n",
       "      <th>1</th>\n",
       "      <th>2</th>\n",
       "      <th>3</th>\n",
       "      <th>4</th>\n",
       "      <th>5</th>\n",
       "      <th>6</th>\n",
       "      <th>7</th>\n",
       "      <th>8</th>\n",
       "      <th>9</th>\n",
       "      <th>10</th>\n",
       "      <th>11</th>\n",
       "      <th>12</th>\n",
       "    </tr>\n",
       "  </thead>\n",
       "  <tbody>\n",
       "    <tr>\n",
       "      <th>count</th>\n",
       "      <td>4.790000e+03</td>\n",
       "      <td>4.790000e+03</td>\n",
       "      <td>4.790000e+03</td>\n",
       "      <td>4.790000e+03</td>\n",
       "      <td>4.790000e+03</td>\n",
       "      <td>4.790000e+03</td>\n",
       "      <td>4.790000e+03</td>\n",
       "      <td>4.790000e+03</td>\n",
       "      <td>4.790000e+03</td>\n",
       "      <td>4.790000e+03</td>\n",
       "      <td>4.790000e+03</td>\n",
       "      <td>4.790000e+03</td>\n",
       "      <td>4.790000e+03</td>\n",
       "    </tr>\n",
       "    <tr>\n",
       "      <th>mean</th>\n",
       "      <td>-2.373420e-17</td>\n",
       "      <td>1.186710e-17</td>\n",
       "      <td>2.373420e-17</td>\n",
       "      <td>3.356165e-17</td>\n",
       "      <td>-5.933551e-18</td>\n",
       "      <td>-1.780065e-17</td>\n",
       "      <td>1.483388e-18</td>\n",
       "      <td>5.933551e-18</td>\n",
       "      <td>1.780065e-17</td>\n",
       "      <td>-1.826421e-17</td>\n",
       "      <td>-1.186710e-17</td>\n",
       "      <td>-1.372134e-17</td>\n",
       "      <td>1.780065e-17</td>\n",
       "    </tr>\n",
       "    <tr>\n",
       "      <th>std</th>\n",
       "      <td>1.000104e+00</td>\n",
       "      <td>1.000104e+00</td>\n",
       "      <td>1.000104e+00</td>\n",
       "      <td>1.000104e+00</td>\n",
       "      <td>1.000104e+00</td>\n",
       "      <td>1.000104e+00</td>\n",
       "      <td>1.000104e+00</td>\n",
       "      <td>1.000104e+00</td>\n",
       "      <td>1.000104e+00</td>\n",
       "      <td>1.000104e+00</td>\n",
       "      <td>1.000104e+00</td>\n",
       "      <td>1.000104e+00</td>\n",
       "      <td>1.000104e+00</td>\n",
       "    </tr>\n",
       "    <tr>\n",
       "      <th>min</th>\n",
       "      <td>-4.461371e+00</td>\n",
       "      <td>-2.838087e+00</td>\n",
       "      <td>-5.751612e+00</td>\n",
       "      <td>-8.597163e+00</td>\n",
       "      <td>-3.322443e+00</td>\n",
       "      <td>-8.085019e+00</td>\n",
       "      <td>-7.404562e+00</td>\n",
       "      <td>-4.846050e+00</td>\n",
       "      <td>-1.536470e+01</td>\n",
       "      <td>-2.006440e+01</td>\n",
       "      <td>-4.273184e+00</td>\n",
       "      <td>-2.313259e+00</td>\n",
       "      <td>-3.572175e+00</td>\n",
       "    </tr>\n",
       "    <tr>\n",
       "      <th>25%</th>\n",
       "      <td>-6.824738e-01</td>\n",
       "      <td>-7.032289e-01</td>\n",
       "      <td>-7.394177e-01</td>\n",
       "      <td>4.004780e-17</td>\n",
       "      <td>-6.909686e-01</td>\n",
       "      <td>-6.241685e-01</td>\n",
       "      <td>-3.045085e-01</td>\n",
       "      <td>0.000000e+00</td>\n",
       "      <td>-5.263943e-01</td>\n",
       "      <td>-8.355273e-18</td>\n",
       "      <td>-4.788060e-01</td>\n",
       "      <td>-6.111659e-01</td>\n",
       "      <td>-5.456345e-03</td>\n",
       "    </tr>\n",
       "    <tr>\n",
       "      <th>50%</th>\n",
       "      <td>-9.115115e-02</td>\n",
       "      <td>-5.913376e-02</td>\n",
       "      <td>-1.262557e-01</td>\n",
       "      <td>4.004780e-17</td>\n",
       "      <td>-1.176261e-01</td>\n",
       "      <td>-2.566844e-04</td>\n",
       "      <td>-3.860917e-17</td>\n",
       "      <td>0.000000e+00</td>\n",
       "      <td>1.144849e-01</td>\n",
       "      <td>-8.355273e-18</td>\n",
       "      <td>-5.272928e-18</td>\n",
       "      <td>-2.232884e-01</td>\n",
       "      <td>-5.338329e-18</td>\n",
       "    </tr>\n",
       "    <tr>\n",
       "      <th>75%</th>\n",
       "      <td>5.804267e-01</td>\n",
       "      <td>6.657724e-01</td>\n",
       "      <td>6.327505e-01</td>\n",
       "      <td>4.004780e-17</td>\n",
       "      <td>5.192116e-01</td>\n",
       "      <td>6.282353e-01</td>\n",
       "      <td>4.054969e-01</td>\n",
       "      <td>0.000000e+00</td>\n",
       "      <td>6.984003e-01</td>\n",
       "      <td>-8.355273e-18</td>\n",
       "      <td>1.888961e-01</td>\n",
       "      <td>3.547887e-01</td>\n",
       "      <td>8.664083e-01</td>\n",
       "    </tr>\n",
       "    <tr>\n",
       "      <th>max</th>\n",
       "      <td>5.962550e+00</td>\n",
       "      <td>3.850393e+00</td>\n",
       "      <td>4.374362e+00</td>\n",
       "      <td>3.912836e+01</td>\n",
       "      <td>5.446643e+00</td>\n",
       "      <td>4.471973e+00</td>\n",
       "      <td>1.815563e+01</td>\n",
       "      <td>5.688984e+00</td>\n",
       "      <td>1.387748e+00</td>\n",
       "      <td>1.330562e+01</td>\n",
       "      <td>8.326082e+00</td>\n",
       "      <td>9.680828e+00</td>\n",
       "      <td>1.183450e+00</td>\n",
       "    </tr>\n",
       "  </tbody>\n",
       "</table>\n",
       "</div>"
      ],
      "text/plain": [
       "                 0             1             2             3             4   \\\n",
       "count  4.790000e+03  4.790000e+03  4.790000e+03  4.790000e+03  4.790000e+03   \n",
       "mean  -2.373420e-17  1.186710e-17  2.373420e-17  3.356165e-17 -5.933551e-18   \n",
       "std    1.000104e+00  1.000104e+00  1.000104e+00  1.000104e+00  1.000104e+00   \n",
       "min   -4.461371e+00 -2.838087e+00 -5.751612e+00 -8.597163e+00 -3.322443e+00   \n",
       "25%   -6.824738e-01 -7.032289e-01 -7.394177e-01  4.004780e-17 -6.909686e-01   \n",
       "50%   -9.115115e-02 -5.913376e-02 -1.262557e-01  4.004780e-17 -1.176261e-01   \n",
       "75%    5.804267e-01  6.657724e-01  6.327505e-01  4.004780e-17  5.192116e-01   \n",
       "max    5.962550e+00  3.850393e+00  4.374362e+00  3.912836e+01  5.446643e+00   \n",
       "\n",
       "                 5             6             7             8             9   \\\n",
       "count  4.790000e+03  4.790000e+03  4.790000e+03  4.790000e+03  4.790000e+03   \n",
       "mean  -1.780065e-17  1.483388e-18  5.933551e-18  1.780065e-17 -1.826421e-17   \n",
       "std    1.000104e+00  1.000104e+00  1.000104e+00  1.000104e+00  1.000104e+00   \n",
       "min   -8.085019e+00 -7.404562e+00 -4.846050e+00 -1.536470e+01 -2.006440e+01   \n",
       "25%   -6.241685e-01 -3.045085e-01  0.000000e+00 -5.263943e-01 -8.355273e-18   \n",
       "50%   -2.566844e-04 -3.860917e-17  0.000000e+00  1.144849e-01 -8.355273e-18   \n",
       "75%    6.282353e-01  4.054969e-01  0.000000e+00  6.984003e-01 -8.355273e-18   \n",
       "max    4.471973e+00  1.815563e+01  5.688984e+00  1.387748e+00  1.330562e+01   \n",
       "\n",
       "                 10            11            12  \n",
       "count  4.790000e+03  4.790000e+03  4.790000e+03  \n",
       "mean  -1.186710e-17 -1.372134e-17  1.780065e-17  \n",
       "std    1.000104e+00  1.000104e+00  1.000104e+00  \n",
       "min   -4.273184e+00 -2.313259e+00 -3.572175e+00  \n",
       "25%   -4.788060e-01 -6.111659e-01 -5.456345e-03  \n",
       "50%   -5.272928e-18 -2.232884e-01 -5.338329e-18  \n",
       "75%    1.888961e-01  3.547887e-01  8.664083e-01  \n",
       "max    8.326082e+00  9.680828e+00  1.183450e+00  "
      ]
     },
     "execution_count": 57,
     "metadata": {},
     "output_type": "execute_result"
    }
   ],
   "source": [
    "X_test_norm.describe()"
   ]
  },
  {
   "cell_type": "code",
   "execution_count": 58,
   "id": "40f64526",
   "metadata": {
    "ExecuteTime": {
     "end_time": "2022-11-26T15:39:28.387864Z",
     "start_time": "2022-11-26T15:39:28.354972Z"
    }
   },
   "outputs": [
    {
     "data": {
      "text/html": [
       "<div>\n",
       "<style scoped>\n",
       "    .dataframe tbody tr th:only-of-type {\n",
       "        vertical-align: middle;\n",
       "    }\n",
       "\n",
       "    .dataframe tbody tr th {\n",
       "        vertical-align: top;\n",
       "    }\n",
       "\n",
       "    .dataframe thead th {\n",
       "        text-align: right;\n",
       "    }\n",
       "</style>\n",
       "<table border=\"1\" class=\"dataframe\">\n",
       "  <thead>\n",
       "    <tr style=\"text-align: right;\">\n",
       "      <th></th>\n",
       "      <th>0</th>\n",
       "      <th>1</th>\n",
       "      <th>2</th>\n",
       "      <th>3</th>\n",
       "      <th>4</th>\n",
       "      <th>5</th>\n",
       "      <th>6</th>\n",
       "      <th>7</th>\n",
       "      <th>8</th>\n",
       "      <th>9</th>\n",
       "      <th>10</th>\n",
       "      <th>11</th>\n",
       "      <th>12</th>\n",
       "    </tr>\n",
       "  </thead>\n",
       "  <tbody>\n",
       "    <tr>\n",
       "      <th>0</th>\n",
       "      <td>0.553297</td>\n",
       "      <td>1.078399</td>\n",
       "      <td>-0.524059</td>\n",
       "      <td>4.004780e-17</td>\n",
       "      <td>0.421136</td>\n",
       "      <td>1.064077</td>\n",
       "      <td>-1.014514e+00</td>\n",
       "      <td>0.000000</td>\n",
       "      <td>-1.848229</td>\n",
       "      <td>-8.355273e-18</td>\n",
       "      <td>-5.272928e-18</td>\n",
       "      <td>-0.415307</td>\n",
       "      <td>-4.017585e-01</td>\n",
       "    </tr>\n",
       "    <tr>\n",
       "      <th>1</th>\n",
       "      <td>-1.099922</td>\n",
       "      <td>-1.207540</td>\n",
       "      <td>-0.374367</td>\n",
       "      <td>4.004780e-17</td>\n",
       "      <td>-0.240195</td>\n",
       "      <td>0.166202</td>\n",
       "      <td>2.091090e-02</td>\n",
       "      <td>0.000000</td>\n",
       "      <td>-1.384458</td>\n",
       "      <td>-8.355273e-18</td>\n",
       "      <td>-1.246132e-01</td>\n",
       "      <td>-0.558816</td>\n",
       "      <td>1.183450e+00</td>\n",
       "    </tr>\n",
       "    <tr>\n",
       "      <th>2</th>\n",
       "      <td>0.651308</td>\n",
       "      <td>-1.041872</td>\n",
       "      <td>0.175292</td>\n",
       "      <td>4.004780e-17</td>\n",
       "      <td>-0.520031</td>\n",
       "      <td>-1.267372</td>\n",
       "      <td>-3.860917e-17</td>\n",
       "      <td>0.000000</td>\n",
       "      <td>-0.064732</td>\n",
       "      <td>-8.355273e-18</td>\n",
       "      <td>-6.249432e-01</td>\n",
       "      <td>-0.316266</td>\n",
       "      <td>1.183450e+00</td>\n",
       "    </tr>\n",
       "    <tr>\n",
       "      <th>3</th>\n",
       "      <td>-1.452239</td>\n",
       "      <td>-0.192965</td>\n",
       "      <td>-0.030969</td>\n",
       "      <td>4.004780e-17</td>\n",
       "      <td>0.590545</td>\n",
       "      <td>1.559512</td>\n",
       "      <td>8.993892e-02</td>\n",
       "      <td>0.000000</td>\n",
       "      <td>0.438452</td>\n",
       "      <td>-8.355273e-18</td>\n",
       "      <td>2.714814e-01</td>\n",
       "      <td>-0.504495</td>\n",
       "      <td>-2.696578e-01</td>\n",
       "    </tr>\n",
       "    <tr>\n",
       "      <th>4</th>\n",
       "      <td>-1.199830</td>\n",
       "      <td>0.609956</td>\n",
       "      <td>-1.661466</td>\n",
       "      <td>4.004780e-17</td>\n",
       "      <td>0.618523</td>\n",
       "      <td>1.981568</td>\n",
       "      <td>-3.860917e-17</td>\n",
       "      <td>0.000000</td>\n",
       "      <td>0.486012</td>\n",
       "      <td>-8.355273e-18</td>\n",
       "      <td>-5.272928e-18</td>\n",
       "      <td>-1.076255</td>\n",
       "      <td>1.183450e+00</td>\n",
       "    </tr>\n",
       "    <tr>\n",
       "      <th>...</th>\n",
       "      <td>...</td>\n",
       "      <td>...</td>\n",
       "      <td>...</td>\n",
       "      <td>...</td>\n",
       "      <td>...</td>\n",
       "      <td>...</td>\n",
       "      <td>...</td>\n",
       "      <td>...</td>\n",
       "      <td>...</td>\n",
       "      <td>...</td>\n",
       "      <td>...</td>\n",
       "      <td>...</td>\n",
       "      <td>...</td>\n",
       "    </tr>\n",
       "    <tr>\n",
       "      <th>4785</th>\n",
       "      <td>0.466176</td>\n",
       "      <td>0.039141</td>\n",
       "      <td>-0.414883</td>\n",
       "      <td>4.004780e-17</td>\n",
       "      <td>0.214572</td>\n",
       "      <td>-1.052785</td>\n",
       "      <td>1.569950e-01</td>\n",
       "      <td>0.088080</td>\n",
       "      <td>-0.185948</td>\n",
       "      <td>-7.044783e-01</td>\n",
       "      <td>-1.071546e+00</td>\n",
       "      <td>-0.651793</td>\n",
       "      <td>-5.338329e-18</td>\n",
       "    </tr>\n",
       "    <tr>\n",
       "      <th>4786</th>\n",
       "      <td>1.107539</td>\n",
       "      <td>-0.703327</td>\n",
       "      <td>1.982437</td>\n",
       "      <td>4.004780e-17</td>\n",
       "      <td>-0.009641</td>\n",
       "      <td>-0.073665</td>\n",
       "      <td>-1.547018e+00</td>\n",
       "      <td>0.000000</td>\n",
       "      <td>1.387748</td>\n",
       "      <td>1.179735e+00</td>\n",
       "      <td>-4.465473e-01</td>\n",
       "      <td>4.821510</td>\n",
       "      <td>-5.338329e-18</td>\n",
       "    </tr>\n",
       "    <tr>\n",
       "      <th>4787</th>\n",
       "      <td>-0.903081</td>\n",
       "      <td>0.702082</td>\n",
       "      <td>-0.193140</td>\n",
       "      <td>4.004780e-17</td>\n",
       "      <td>-0.021665</td>\n",
       "      <td>0.563954</td>\n",
       "      <td>3.628965e-01</td>\n",
       "      <td>-0.597745</td>\n",
       "      <td>0.276086</td>\n",
       "      <td>-1.866935e-01</td>\n",
       "      <td>1.366649e-01</td>\n",
       "      <td>-0.202232</td>\n",
       "      <td>-5.338329e-18</td>\n",
       "    </tr>\n",
       "    <tr>\n",
       "      <th>4788</th>\n",
       "      <td>-0.604500</td>\n",
       "      <td>-0.722571</td>\n",
       "      <td>0.716874</td>\n",
       "      <td>4.004780e-17</td>\n",
       "      <td>1.066831</td>\n",
       "      <td>-1.321485</td>\n",
       "      <td>1.470505e+00</td>\n",
       "      <td>0.000000</td>\n",
       "      <td>-1.297609</td>\n",
       "      <td>2.376283e-01</td>\n",
       "      <td>-6.178881e-01</td>\n",
       "      <td>0.049176</td>\n",
       "      <td>-5.338329e-18</td>\n",
       "    </tr>\n",
       "    <tr>\n",
       "      <th>4789</th>\n",
       "      <td>-0.837826</td>\n",
       "      <td>-1.091173</td>\n",
       "      <td>0.270409</td>\n",
       "      <td>4.004780e-17</td>\n",
       "      <td>-0.710643</td>\n",
       "      <td>-0.816852</td>\n",
       "      <td>-3.860917e-17</td>\n",
       "      <td>0.000000</td>\n",
       "      <td>-2.142409</td>\n",
       "      <td>-8.355273e-18</td>\n",
       "      <td>-8.680218e-01</td>\n",
       "      <td>-0.033291</td>\n",
       "      <td>-5.338329e-18</td>\n",
       "    </tr>\n",
       "  </tbody>\n",
       "</table>\n",
       "<p>4790 rows × 13 columns</p>\n",
       "</div>"
      ],
      "text/plain": [
       "            0         1         2             3         4         5   \\\n",
       "0     0.553297  1.078399 -0.524059  4.004780e-17  0.421136  1.064077   \n",
       "1    -1.099922 -1.207540 -0.374367  4.004780e-17 -0.240195  0.166202   \n",
       "2     0.651308 -1.041872  0.175292  4.004780e-17 -0.520031 -1.267372   \n",
       "3    -1.452239 -0.192965 -0.030969  4.004780e-17  0.590545  1.559512   \n",
       "4    -1.199830  0.609956 -1.661466  4.004780e-17  0.618523  1.981568   \n",
       "...        ...       ...       ...           ...       ...       ...   \n",
       "4785  0.466176  0.039141 -0.414883  4.004780e-17  0.214572 -1.052785   \n",
       "4786  1.107539 -0.703327  1.982437  4.004780e-17 -0.009641 -0.073665   \n",
       "4787 -0.903081  0.702082 -0.193140  4.004780e-17 -0.021665  0.563954   \n",
       "4788 -0.604500 -0.722571  0.716874  4.004780e-17  1.066831 -1.321485   \n",
       "4789 -0.837826 -1.091173  0.270409  4.004780e-17 -0.710643 -0.816852   \n",
       "\n",
       "                6         7         8             9             10        11  \\\n",
       "0    -1.014514e+00  0.000000 -1.848229 -8.355273e-18 -5.272928e-18 -0.415307   \n",
       "1     2.091090e-02  0.000000 -1.384458 -8.355273e-18 -1.246132e-01 -0.558816   \n",
       "2    -3.860917e-17  0.000000 -0.064732 -8.355273e-18 -6.249432e-01 -0.316266   \n",
       "3     8.993892e-02  0.000000  0.438452 -8.355273e-18  2.714814e-01 -0.504495   \n",
       "4    -3.860917e-17  0.000000  0.486012 -8.355273e-18 -5.272928e-18 -1.076255   \n",
       "...            ...       ...       ...           ...           ...       ...   \n",
       "4785  1.569950e-01  0.088080 -0.185948 -7.044783e-01 -1.071546e+00 -0.651793   \n",
       "4786 -1.547018e+00  0.000000  1.387748  1.179735e+00 -4.465473e-01  4.821510   \n",
       "4787  3.628965e-01 -0.597745  0.276086 -1.866935e-01  1.366649e-01 -0.202232   \n",
       "4788  1.470505e+00  0.000000 -1.297609  2.376283e-01 -6.178881e-01  0.049176   \n",
       "4789 -3.860917e-17  0.000000 -2.142409 -8.355273e-18 -8.680218e-01 -0.033291   \n",
       "\n",
       "                12  \n",
       "0    -4.017585e-01  \n",
       "1     1.183450e+00  \n",
       "2     1.183450e+00  \n",
       "3    -2.696578e-01  \n",
       "4     1.183450e+00  \n",
       "...            ...  \n",
       "4785 -5.338329e-18  \n",
       "4786 -5.338329e-18  \n",
       "4787 -5.338329e-18  \n",
       "4788 -5.338329e-18  \n",
       "4789 -5.338329e-18  \n",
       "\n",
       "[4790 rows x 13 columns]"
      ]
     },
     "execution_count": 58,
     "metadata": {},
     "output_type": "execute_result"
    }
   ],
   "source": [
    "X_test"
   ]
  },
  {
   "cell_type": "code",
   "execution_count": 59,
   "id": "8747d5c8",
   "metadata": {
    "ExecuteTime": {
     "end_time": "2022-11-26T15:39:28.438282Z",
     "start_time": "2022-11-26T15:39:28.391773Z"
    },
    "scrolled": true
   },
   "outputs": [
    {
     "data": {
      "text/html": [
       "<div>\n",
       "<style scoped>\n",
       "    .dataframe tbody tr th:only-of-type {\n",
       "        vertical-align: middle;\n",
       "    }\n",
       "\n",
       "    .dataframe tbody tr th {\n",
       "        vertical-align: top;\n",
       "    }\n",
       "\n",
       "    .dataframe thead th {\n",
       "        text-align: right;\n",
       "    }\n",
       "</style>\n",
       "<table border=\"1\" class=\"dataframe\">\n",
       "  <thead>\n",
       "    <tr style=\"text-align: right;\">\n",
       "      <th></th>\n",
       "      <th>Predicted</th>\n",
       "    </tr>\n",
       "    <tr>\n",
       "      <th>Id</th>\n",
       "      <th></th>\n",
       "    </tr>\n",
       "  </thead>\n",
       "  <tbody>\n",
       "    <tr>\n",
       "      <th>32_175413_295037</th>\n",
       "      <td>3.473378</td>\n",
       "    </tr>\n",
       "    <tr>\n",
       "      <th>33_176176_296681</th>\n",
       "      <td>2.902602</td>\n",
       "    </tr>\n",
       "    <tr>\n",
       "      <th>42_119203_210828</th>\n",
       "      <td>2.692932</td>\n",
       "    </tr>\n",
       "    <tr>\n",
       "      <th>44_181750_291554</th>\n",
       "      <td>3.158209</td>\n",
       "    </tr>\n",
       "    <tr>\n",
       "      <th>61_176332_252348</th>\n",
       "      <td>3.008874</td>\n",
       "    </tr>\n",
       "    <tr>\n",
       "      <th>...</th>\n",
       "      <td>...</td>\n",
       "    </tr>\n",
       "    <tr>\n",
       "      <th>99883_150755_276467</th>\n",
       "      <td>2.851836</td>\n",
       "    </tr>\n",
       "    <tr>\n",
       "      <th>99897_162913_266801</th>\n",
       "      <td>3.875520</td>\n",
       "    </tr>\n",
       "    <tr>\n",
       "      <th>99913_175989_292375</th>\n",
       "      <td>2.922266</td>\n",
       "    </tr>\n",
       "    <tr>\n",
       "      <th>99944_185654_221067</th>\n",
       "      <td>3.286852</td>\n",
       "    </tr>\n",
       "    <tr>\n",
       "      <th>99992_197084_242052</th>\n",
       "      <td>3.515158</td>\n",
       "    </tr>\n",
       "  </tbody>\n",
       "</table>\n",
       "<p>4790 rows × 1 columns</p>\n",
       "</div>"
      ],
      "text/plain": [
       "                     Predicted\n",
       "Id                            \n",
       "32_175413_295037      3.473378\n",
       "33_176176_296681      2.902602\n",
       "42_119203_210828      2.692932\n",
       "44_181750_291554      3.158209\n",
       "61_176332_252348      3.008874\n",
       "...                        ...\n",
       "99883_150755_276467   2.851836\n",
       "99897_162913_266801   3.875520\n",
       "99913_175989_292375   2.922266\n",
       "99944_185654_221067   3.286852\n",
       "99992_197084_242052   3.515158\n",
       "\n",
       "[4790 rows x 1 columns]"
      ]
     },
     "execution_count": 59,
     "metadata": {},
     "output_type": "execute_result"
    }
   ],
   "source": [
    "\n",
    "result = reg1.predict(X_test_norm)\n",
    "res1 = pd.DataFrame(result.tolist(), columns=[\"Predicted\"])\n",
    "res1.index = final_index\n",
    "res1.index.name = 'Id'\n",
    "pd.DataFrame(res1).to_csv('out12col.csv')\n",
    "#print(torch.count_nonzero(torch.from_numpy(np.array(res1)).to(torch.float32)))\n",
    "res1"
   ]
  }
 ],
 "metadata": {
  "kernelspec": {
   "display_name": "comp3340",
   "language": "python",
   "name": "comp3340"
  },
  "language_info": {
   "codemirror_mode": {
    "name": "ipython",
    "version": 3
   },
   "file_extension": ".py",
   "mimetype": "text/x-python",
   "name": "python",
   "nbconvert_exporter": "python",
   "pygments_lexer": "ipython3",
   "version": "3.7.7"
  },
  "toc": {
   "base_numbering": 1,
   "nav_menu": {},
   "number_sections": true,
   "sideBar": true,
   "skip_h1_title": false,
   "title_cell": "Table of Contents",
   "title_sidebar": "Contents",
   "toc_cell": false,
   "toc_position": {},
   "toc_section_display": true,
   "toc_window_display": true
  }
 },
 "nbformat": 4,
 "nbformat_minor": 5
}
