{
 "cells": [
  {
   "cell_type": "markdown",
   "id": "970d9aef",
   "metadata": {},
   "source": [
    "# Libraries"
   ]
  },
  {
   "cell_type": "code",
   "execution_count": 60,
   "id": "71cace5d",
   "metadata": {
    "ExecuteTime": {
     "end_time": "2022-11-27T11:19:37.683006Z",
     "start_time": "2022-11-27T11:19:37.678806Z"
    }
   },
   "outputs": [],
   "source": [
    "import pandas as pd\n",
    "import numpy as np\n",
    "from sklearn.impute import SimpleImputer\n",
    "from sklearn import preprocessing\n",
    "import torch\n",
    "import matplotlib.pyplot as plt\n",
    "from sklearn import metrics\n",
    "from sklearn.neural_network import MLPRegressor\n",
    "from tqdm import tqdm\n",
    "\n",
    "device = torch.device(\"cuda\" if torch.cuda.is_available() else \"cpu\")"
   ]
  },
  {
   "cell_type": "markdown",
   "id": "e5e3db1d",
   "metadata": {
    "ExecuteTime": {
     "end_time": "2022-10-27T03:47:12.458066Z",
     "start_time": "2022-10-27T03:47:12.452095Z"
    }
   },
   "source": [
    "# Import data"
   ]
  },
  {
   "cell_type": "code",
   "execution_count": 69,
   "id": "c7c7a26f",
   "metadata": {
    "ExecuteTime": {
     "end_time": "2022-11-27T11:21:40.090097Z",
     "start_time": "2022-11-27T11:21:39.910470Z"
    }
   },
   "outputs": [],
   "source": [
    "# For training the model\n",
    "X_train = pd.read_csv(\"../../X/train_v1.csv\", index_col=[0])\n",
    "\n",
    "# For cross validation\n",
    "X_valid = pd.read_csv(\"../../X/valid_v1.csv\", index_col=[0])\n",
    "\n",
    "# For prediction\n",
    "X_test = pd.read_csv(\"../../X/test_v1.csv\", index_col=[0])\n",
    "\n",
    "y_train_t2 = pd.read_csv(\"../../Task2/Y_train.csv\")\n",
    "y_valid_t2 = pd.read_csv(\"../../Task2/Y_valid.csv\")\n",
    "y_train_t2_value=y_train_t2[\"los_icu\"]\n",
    "y_valid_t2_value=y_valid_t2[\"los_icu\"]\n",
    "\n",
    "final_index = X_test.index"
   ]
  },
  {
   "cell_type": "code",
   "execution_count": 70,
   "id": "f58f4af0",
   "metadata": {
    "ExecuteTime": {
     "end_time": "2022-11-27T11:21:42.191769Z",
     "start_time": "2022-11-27T11:21:42.142953Z"
    }
   },
   "outputs": [
    {
     "data": {
      "text/html": [
       "<div>\n",
       "<style scoped>\n",
       "    .dataframe tbody tr th:only-of-type {\n",
       "        vertical-align: middle;\n",
       "    }\n",
       "\n",
       "    .dataframe tbody tr th {\n",
       "        vertical-align: top;\n",
       "    }\n",
       "\n",
       "    .dataframe thead th {\n",
       "        text-align: right;\n",
       "    }\n",
       "</style>\n",
       "<table border=\"1\" class=\"dataframe\">\n",
       "  <thead>\n",
       "    <tr style=\"text-align: right;\">\n",
       "      <th></th>\n",
       "      <th>0</th>\n",
       "      <th>1</th>\n",
       "      <th>2</th>\n",
       "      <th>3</th>\n",
       "      <th>4</th>\n",
       "      <th>5</th>\n",
       "      <th>6</th>\n",
       "      <th>7</th>\n",
       "      <th>8</th>\n",
       "      <th>9</th>\n",
       "      <th>...</th>\n",
       "      <th>41</th>\n",
       "      <th>42</th>\n",
       "      <th>43</th>\n",
       "      <th>44</th>\n",
       "      <th>45</th>\n",
       "      <th>46</th>\n",
       "      <th>47</th>\n",
       "      <th>48</th>\n",
       "      <th>49</th>\n",
       "      <th>50</th>\n",
       "    </tr>\n",
       "  </thead>\n",
       "  <tbody>\n",
       "    <tr>\n",
       "      <th>0</th>\n",
       "      <td>-2.039985</td>\n",
       "      <td>-1.109747</td>\n",
       "      <td>1.170093</td>\n",
       "      <td>1.478921</td>\n",
       "      <td>-1.069743</td>\n",
       "      <td>0.090101</td>\n",
       "      <td>0.792807</td>\n",
       "      <td>-0.638602</td>\n",
       "      <td>-0.166695</td>\n",
       "      <td>-0.002273</td>\n",
       "      <td>...</td>\n",
       "      <td>-0.586358</td>\n",
       "      <td>-1.694872</td>\n",
       "      <td>-0.397490</td>\n",
       "      <td>-0.675987</td>\n",
       "      <td>-1.979855</td>\n",
       "      <td>0.000309</td>\n",
       "      <td>-0.124820</td>\n",
       "      <td>0.442871</td>\n",
       "      <td>0.869070</td>\n",
       "      <td>0.381991</td>\n",
       "    </tr>\n",
       "    <tr>\n",
       "      <th>1</th>\n",
       "      <td>0.793194</td>\n",
       "      <td>0.702851</td>\n",
       "      <td>-0.061390</td>\n",
       "      <td>0.198395</td>\n",
       "      <td>-1.044218</td>\n",
       "      <td>1.369469</td>\n",
       "      <td>1.737977</td>\n",
       "      <td>1.537514</td>\n",
       "      <td>-0.390618</td>\n",
       "      <td>-0.518339</td>\n",
       "      <td>...</td>\n",
       "      <td>-0.392555</td>\n",
       "      <td>-1.444821</td>\n",
       "      <td>-0.658260</td>\n",
       "      <td>-1.097709</td>\n",
       "      <td>-0.251806</td>\n",
       "      <td>0.000309</td>\n",
       "      <td>-0.098064</td>\n",
       "      <td>-0.812489</td>\n",
       "      <td>2.806903</td>\n",
       "      <td>1.307294</td>\n",
       "    </tr>\n",
       "    <tr>\n",
       "      <th>2</th>\n",
       "      <td>-1.561656</td>\n",
       "      <td>0.145354</td>\n",
       "      <td>0.546114</td>\n",
       "      <td>0.161234</td>\n",
       "      <td>-0.858553</td>\n",
       "      <td>-0.739112</td>\n",
       "      <td>-0.439621</td>\n",
       "      <td>1.723172</td>\n",
       "      <td>-0.472836</td>\n",
       "      <td>0.101098</td>\n",
       "      <td>...</td>\n",
       "      <td>1.865413</td>\n",
       "      <td>1.019964</td>\n",
       "      <td>1.590880</td>\n",
       "      <td>2.563201</td>\n",
       "      <td>0.061017</td>\n",
       "      <td>0.000309</td>\n",
       "      <td>-0.048254</td>\n",
       "      <td>0.100500</td>\n",
       "      <td>-0.476014</td>\n",
       "      <td>-1.941549</td>\n",
       "    </tr>\n",
       "    <tr>\n",
       "      <th>3</th>\n",
       "      <td>0.728804</td>\n",
       "      <td>-0.151030</td>\n",
       "      <td>-0.029561</td>\n",
       "      <td>-0.211957</td>\n",
       "      <td>-0.079990</td>\n",
       "      <td>-0.128434</td>\n",
       "      <td>-0.439621</td>\n",
       "      <td>-0.661305</td>\n",
       "      <td>-0.103117</td>\n",
       "      <td>-0.188482</td>\n",
       "      <td>...</td>\n",
       "      <td>1.029896</td>\n",
       "      <td>0.484141</td>\n",
       "      <td>0.833018</td>\n",
       "      <td>0.031234</td>\n",
       "      <td>0.061017</td>\n",
       "      <td>0.000309</td>\n",
       "      <td>-0.098064</td>\n",
       "      <td>-0.015089</td>\n",
       "      <td>0.071139</td>\n",
       "      <td>0.006806</td>\n",
       "    </tr>\n",
       "    <tr>\n",
       "      <th>4</th>\n",
       "      <td>-1.074128</td>\n",
       "      <td>-0.181217</td>\n",
       "      <td>-0.101854</td>\n",
       "      <td>-0.341346</td>\n",
       "      <td>-0.726826</td>\n",
       "      <td>0.186551</td>\n",
       "      <td>0.348021</td>\n",
       "      <td>0.603034</td>\n",
       "      <td>-0.194262</td>\n",
       "      <td>-0.157922</td>\n",
       "      <td>...</td>\n",
       "      <td>0.560349</td>\n",
       "      <td>-1.694872</td>\n",
       "      <td>0.083304</td>\n",
       "      <td>0.031234</td>\n",
       "      <td>0.061017</td>\n",
       "      <td>-1.333059</td>\n",
       "      <td>0.234019</td>\n",
       "      <td>-0.015089</td>\n",
       "      <td>0.823474</td>\n",
       "      <td>0.006806</td>\n",
       "    </tr>\n",
       "    <tr>\n",
       "      <th>...</th>\n",
       "      <td>...</td>\n",
       "      <td>...</td>\n",
       "      <td>...</td>\n",
       "      <td>...</td>\n",
       "      <td>...</td>\n",
       "      <td>...</td>\n",
       "      <td>...</td>\n",
       "      <td>...</td>\n",
       "      <td>...</td>\n",
       "      <td>...</td>\n",
       "      <td>...</td>\n",
       "      <td>...</td>\n",
       "      <td>...</td>\n",
       "      <td>...</td>\n",
       "      <td>...</td>\n",
       "      <td>...</td>\n",
       "      <td>...</td>\n",
       "      <td>...</td>\n",
       "      <td>...</td>\n",
       "      <td>...</td>\n",
       "      <td>...</td>\n",
       "    </tr>\n",
       "    <tr>\n",
       "      <th>16755</th>\n",
       "      <td>0.039265</td>\n",
       "      <td>-0.036621</td>\n",
       "      <td>-1.432434</td>\n",
       "      <td>-0.894033</td>\n",
       "      <td>-0.598336</td>\n",
       "      <td>-0.575247</td>\n",
       "      <td>-0.200239</td>\n",
       "      <td>0.667703</td>\n",
       "      <td>-0.559890</td>\n",
       "      <td>-1.013160</td>\n",
       "      <td>...</td>\n",
       "      <td>0.691546</td>\n",
       "      <td>0.091204</td>\n",
       "      <td>0.727080</td>\n",
       "      <td>0.355887</td>\n",
       "      <td>1.044231</td>\n",
       "      <td>0.000309</td>\n",
       "      <td>-0.098064</td>\n",
       "      <td>-0.127747</td>\n",
       "      <td>-0.236635</td>\n",
       "      <td>-0.070380</td>\n",
       "    </tr>\n",
       "    <tr>\n",
       "      <th>16756</th>\n",
       "      <td>0.039265</td>\n",
       "      <td>0.325411</td>\n",
       "      <td>0.370595</td>\n",
       "      <td>-0.841322</td>\n",
       "      <td>-0.004140</td>\n",
       "      <td>-0.420184</td>\n",
       "      <td>-0.331513</td>\n",
       "      <td>-0.389591</td>\n",
       "      <td>-0.197164</td>\n",
       "      <td>-0.067515</td>\n",
       "      <td>...</td>\n",
       "      <td>-0.513394</td>\n",
       "      <td>-2.230694</td>\n",
       "      <td>-0.715303</td>\n",
       "      <td>-0.003025</td>\n",
       "      <td>0.061017</td>\n",
       "      <td>0.000309</td>\n",
       "      <td>-0.098064</td>\n",
       "      <td>-0.263269</td>\n",
       "      <td>0.481503</td>\n",
       "      <td>0.265471</td>\n",
       "    </tr>\n",
       "    <tr>\n",
       "      <th>16757</th>\n",
       "      <td>0.039265</td>\n",
       "      <td>0.006264</td>\n",
       "      <td>-0.518391</td>\n",
       "      <td>-0.629821</td>\n",
       "      <td>-0.389777</td>\n",
       "      <td>-0.131727</td>\n",
       "      <td>0.116362</td>\n",
       "      <td>-1.128922</td>\n",
       "      <td>0.071254</td>\n",
       "      <td>-0.353408</td>\n",
       "      <td>...</td>\n",
       "      <td>-0.979489</td>\n",
       "      <td>1.448622</td>\n",
       "      <td>-0.583560</td>\n",
       "      <td>0.031234</td>\n",
       "      <td>1.044231</td>\n",
       "      <td>0.000309</td>\n",
       "      <td>-0.098064</td>\n",
       "      <td>-0.015089</td>\n",
       "      <td>-0.270832</td>\n",
       "      <td>0.006806</td>\n",
       "    </tr>\n",
       "    <tr>\n",
       "      <th>16758</th>\n",
       "      <td>0.039265</td>\n",
       "      <td>0.052558</td>\n",
       "      <td>1.023920</td>\n",
       "      <td>-0.077771</td>\n",
       "      <td>1.028054</td>\n",
       "      <td>-0.491283</td>\n",
       "      <td>-0.219544</td>\n",
       "      <td>2.021813</td>\n",
       "      <td>-0.559890</td>\n",
       "      <td>0.149653</td>\n",
       "      <td>...</td>\n",
       "      <td>-0.468511</td>\n",
       "      <td>-0.051682</td>\n",
       "      <td>-0.560471</td>\n",
       "      <td>0.355887</td>\n",
       "      <td>0.061017</td>\n",
       "      <td>0.000309</td>\n",
       "      <td>-0.098064</td>\n",
       "      <td>5.007816</td>\n",
       "      <td>-0.937674</td>\n",
       "      <td>-2.976518</td>\n",
       "    </tr>\n",
       "    <tr>\n",
       "      <th>16759</th>\n",
       "      <td>0.039265</td>\n",
       "      <td>0.172140</td>\n",
       "      <td>-0.637370</td>\n",
       "      <td>-0.358876</td>\n",
       "      <td>0.404018</td>\n",
       "      <td>-0.314958</td>\n",
       "      <td>-0.671280</td>\n",
       "      <td>0.724944</td>\n",
       "      <td>0.142348</td>\n",
       "      <td>0.064435</td>\n",
       "      <td>...</td>\n",
       "      <td>-0.875912</td>\n",
       "      <td>2.220207</td>\n",
       "      <td>-0.946736</td>\n",
       "      <td>0.031234</td>\n",
       "      <td>0.061017</td>\n",
       "      <td>-0.411152</td>\n",
       "      <td>-0.110001</td>\n",
       "      <td>-0.015089</td>\n",
       "      <td>-0.407620</td>\n",
       "      <td>0.006806</td>\n",
       "    </tr>\n",
       "  </tbody>\n",
       "</table>\n",
       "<p>16760 rows × 51 columns</p>\n",
       "</div>"
      ],
      "text/plain": [
       "             0         1         2         3         4         5         6   \\\n",
       "0     -2.039985 -1.109747  1.170093  1.478921 -1.069743  0.090101  0.792807   \n",
       "1      0.793194  0.702851 -0.061390  0.198395 -1.044218  1.369469  1.737977   \n",
       "2     -1.561656  0.145354  0.546114  0.161234 -0.858553 -0.739112 -0.439621   \n",
       "3      0.728804 -0.151030 -0.029561 -0.211957 -0.079990 -0.128434 -0.439621   \n",
       "4     -1.074128 -0.181217 -0.101854 -0.341346 -0.726826  0.186551  0.348021   \n",
       "...         ...       ...       ...       ...       ...       ...       ...   \n",
       "16755  0.039265 -0.036621 -1.432434 -0.894033 -0.598336 -0.575247 -0.200239   \n",
       "16756  0.039265  0.325411  0.370595 -0.841322 -0.004140 -0.420184 -0.331513   \n",
       "16757  0.039265  0.006264 -0.518391 -0.629821 -0.389777 -0.131727  0.116362   \n",
       "16758  0.039265  0.052558  1.023920 -0.077771  1.028054 -0.491283 -0.219544   \n",
       "16759  0.039265  0.172140 -0.637370 -0.358876  0.404018 -0.314958 -0.671280   \n",
       "\n",
       "             7         8         9   ...        41        42        43  \\\n",
       "0     -0.638602 -0.166695 -0.002273  ... -0.586358 -1.694872 -0.397490   \n",
       "1      1.537514 -0.390618 -0.518339  ... -0.392555 -1.444821 -0.658260   \n",
       "2      1.723172 -0.472836  0.101098  ...  1.865413  1.019964  1.590880   \n",
       "3     -0.661305 -0.103117 -0.188482  ...  1.029896  0.484141  0.833018   \n",
       "4      0.603034 -0.194262 -0.157922  ...  0.560349 -1.694872  0.083304   \n",
       "...         ...       ...       ...  ...       ...       ...       ...   \n",
       "16755  0.667703 -0.559890 -1.013160  ...  0.691546  0.091204  0.727080   \n",
       "16756 -0.389591 -0.197164 -0.067515  ... -0.513394 -2.230694 -0.715303   \n",
       "16757 -1.128922  0.071254 -0.353408  ... -0.979489  1.448622 -0.583560   \n",
       "16758  2.021813 -0.559890  0.149653  ... -0.468511 -0.051682 -0.560471   \n",
       "16759  0.724944  0.142348  0.064435  ... -0.875912  2.220207 -0.946736   \n",
       "\n",
       "             44        45        46        47        48        49        50  \n",
       "0     -0.675987 -1.979855  0.000309 -0.124820  0.442871  0.869070  0.381991  \n",
       "1     -1.097709 -0.251806  0.000309 -0.098064 -0.812489  2.806903  1.307294  \n",
       "2      2.563201  0.061017  0.000309 -0.048254  0.100500 -0.476014 -1.941549  \n",
       "3      0.031234  0.061017  0.000309 -0.098064 -0.015089  0.071139  0.006806  \n",
       "4      0.031234  0.061017 -1.333059  0.234019 -0.015089  0.823474  0.006806  \n",
       "...         ...       ...       ...       ...       ...       ...       ...  \n",
       "16755  0.355887  1.044231  0.000309 -0.098064 -0.127747 -0.236635 -0.070380  \n",
       "16756 -0.003025  0.061017  0.000309 -0.098064 -0.263269  0.481503  0.265471  \n",
       "16757  0.031234  1.044231  0.000309 -0.098064 -0.015089 -0.270832  0.006806  \n",
       "16758  0.355887  0.061017  0.000309 -0.098064  5.007816 -0.937674 -2.976518  \n",
       "16759  0.031234  0.061017 -0.411152 -0.110001 -0.015089 -0.407620  0.006806  \n",
       "\n",
       "[16760 rows x 51 columns]"
      ]
     },
     "execution_count": 70,
     "metadata": {},
     "output_type": "execute_result"
    }
   ],
   "source": [
    "# Impute the 0 with mean\n",
    "imp = SimpleImputer(missing_values=0, strategy='mean')\n",
    "X_train_nozero = pd.DataFrame(imp.fit_transform(X_train))\n",
    "X_valid_nozero = pd.DataFrame(imp.fit_transform(X_valid))\n",
    "X_test_nozero = pd.DataFrame(imp.fit_transform(X_test))\n",
    "X_train_nozero"
   ]
  },
  {
   "cell_type": "code",
   "execution_count": 75,
   "id": "6399bfe5",
   "metadata": {
    "ExecuteTime": {
     "end_time": "2022-11-27T11:24:09.543669Z",
     "start_time": "2022-11-27T11:24:09.524138Z"
    }
   },
   "outputs": [],
   "source": [
    "scaler = preprocessing.StandardScaler()\n",
    "\n",
    "X_train=X_train.values\n",
    "X_train= scaler.fit_transform(X_train)\n",
    "X_train=pd.DataFrame(X_train)\n",
    "\n",
    "X_valid=X_valid.values\n",
    "X_valid= scaler.fit_transform(X_valid)\n",
    "X_valid=pd.DataFrame(X_valid)\n",
    "\n",
    "X_test=X_test.values\n",
    "X_test= scaler.fit_transform(X_test)\n",
    "X_test=pd.DataFrame(X_test)"
   ]
  },
  {
   "cell_type": "code",
   "execution_count": 76,
   "id": "4aa393c8",
   "metadata": {
    "ExecuteTime": {
     "end_time": "2022-11-27T11:24:11.085316Z",
     "start_time": "2022-11-27T11:24:11.077034Z"
    }
   },
   "outputs": [
    {
     "name": "stdout",
     "output_type": "stream",
     "text": [
      "(16760, 51)\n",
      "(2394, 51)\n",
      "(4790, 55)\n"
     ]
    }
   ],
   "source": [
    "\n",
    "X_train_norm = X_train\n",
    "X_valid_norm = X_valid\n",
    "X_test_norm = X_test\n",
    "\n",
    "print(X_train_norm.shape)\n",
    "print(X_valid_norm.shape)\n",
    "print(X_test_norm.shape)\n"
   ]
  },
  {
   "cell_type": "code",
   "execution_count": 68,
   "id": "738b41f6",
   "metadata": {
    "ExecuteTime": {
     "end_time": "2022-11-27T11:20:25.787210Z",
     "start_time": "2022-11-27T11:20:25.777474Z"
    }
   },
   "outputs": [
    {
     "data": {
      "text/plain": [
       "0        6.064560\n",
       "1        3.672917\n",
       "2        5.323056\n",
       "3        1.584410\n",
       "4        7.634815\n",
       "           ...   \n",
       "16755    1.703391\n",
       "16756    2.731933\n",
       "16757    7.949259\n",
       "16758    3.142616\n",
       "16759    2.161481\n",
       "Name: los_icu, Length: 16760, dtype: float64"
      ]
     },
     "execution_count": 68,
     "metadata": {},
     "output_type": "execute_result"
    }
   ],
   "source": [
    "y_train_t2_value"
   ]
  },
  {
   "cell_type": "markdown",
   "id": "74a00a91",
   "metadata": {},
   "source": [
    "# Evaluation Matrix"
   ]
  },
  {
   "cell_type": "code",
   "execution_count": 65,
   "id": "f680ed22",
   "metadata": {
    "ExecuteTime": {
     "end_time": "2022-11-27T11:19:37.844803Z",
     "start_time": "2022-11-27T11:19:37.840953Z"
    }
   },
   "outputs": [],
   "source": [
    "def rmse(predictions, targets):\n",
    "    return np.sqrt(((predictions - targets) ** 2).mean())"
   ]
  },
  {
   "cell_type": "markdown",
   "id": "7eaa1314",
   "metadata": {
    "ExecuteTime": {
     "end_time": "2022-11-14T09:39:42.985881Z",
     "start_time": "2022-11-14T09:39:42.982955Z"
    }
   },
   "source": [
    "# Hyperparameter and setting tuning"
   ]
  },
  {
   "cell_type": "markdown",
   "id": "45b5905c",
   "metadata": {
    "ExecuteTime": {
     "end_time": "2022-11-14T10:48:05.363047Z",
     "start_time": "2022-11-14T10:48:05.359385Z"
    }
   },
   "source": [
    "## Layer Choices"
   ]
  },
  {
   "cell_type": "code",
   "execution_count": 66,
   "id": "8e9bbbe6",
   "metadata": {
    "ExecuteTime": {
     "end_time": "2022-11-27T11:19:37.873282Z",
     "start_time": "2022-11-27T11:19:37.846208Z"
    },
    "scrolled": false
   },
   "outputs": [
    {
     "name": "stderr",
     "output_type": "stream",
     "text": [
      "  0%|                                                   | 0/171 [00:00<?, ?it/s]\n"
     ]
    },
    {
     "ename": "ValueError",
     "evalue": "Found input variables with inconsistent numbers of samples: [2394, 16760]",
     "output_type": "error",
     "traceback": [
      "\u001b[0;31m---------------------------------------------------------------------------\u001b[0m",
      "\u001b[0;31mValueError\u001b[0m                                Traceback (most recent call last)",
      "\u001b[0;32m/tmp/ipykernel_13576/1878138358.py\u001b[0m in \u001b[0;36m<module>\u001b[0;34m\u001b[0m\n\u001b[1;32m     15\u001b[0m                        max_iter=1000)\n\u001b[1;32m     16\u001b[0m \u001b[0;34m\u001b[0m\u001b[0m\n\u001b[0;32m---> 17\u001b[0;31m     \u001b[0mclf\u001b[0m\u001b[0;34m.\u001b[0m\u001b[0mfit\u001b[0m\u001b[0;34m(\u001b[0m\u001b[0mX_train_norm\u001b[0m\u001b[0;34m,\u001b[0m \u001b[0my_train_t2_value\u001b[0m\u001b[0;34m)\u001b[0m\u001b[0;34m\u001b[0m\u001b[0;34m\u001b[0m\u001b[0m\n\u001b[0m\u001b[1;32m     18\u001b[0m     \u001b[0my_pred\u001b[0m \u001b[0;34m=\u001b[0m \u001b[0mclf\u001b[0m\u001b[0;34m.\u001b[0m\u001b[0mpredict\u001b[0m\u001b[0;34m(\u001b[0m\u001b[0mX_valid_norm\u001b[0m\u001b[0;34m)\u001b[0m\u001b[0;34m\u001b[0m\u001b[0;34m\u001b[0m\u001b[0m\n\u001b[1;32m     19\u001b[0m     \u001b[0mrmse1\u001b[0m \u001b[0;34m=\u001b[0m \u001b[0mrmse\u001b[0m\u001b[0;34m(\u001b[0m\u001b[0my_pred\u001b[0m\u001b[0;34m,\u001b[0m \u001b[0my_valid_t2_value\u001b[0m\u001b[0;34m)\u001b[0m\u001b[0;34m\u001b[0m\u001b[0;34m\u001b[0m\u001b[0m\n",
      "\u001b[0;32m~/anaconda3/envs/comp3340/lib/python3.7/site-packages/sklearn/neural_network/_multilayer_perceptron.py\u001b[0m in \u001b[0;36mfit\u001b[0;34m(self, X, y)\u001b[0m\n\u001b[1;32m    750\u001b[0m             \u001b[0mReturns\u001b[0m \u001b[0ma\u001b[0m \u001b[0mtrained\u001b[0m \u001b[0mMLP\u001b[0m \u001b[0mmodel\u001b[0m\u001b[0;34m.\u001b[0m\u001b[0;34m\u001b[0m\u001b[0;34m\u001b[0m\u001b[0m\n\u001b[1;32m    751\u001b[0m         \"\"\"\n\u001b[0;32m--> 752\u001b[0;31m         \u001b[0;32mreturn\u001b[0m \u001b[0mself\u001b[0m\u001b[0;34m.\u001b[0m\u001b[0m_fit\u001b[0m\u001b[0;34m(\u001b[0m\u001b[0mX\u001b[0m\u001b[0;34m,\u001b[0m \u001b[0my\u001b[0m\u001b[0;34m,\u001b[0m \u001b[0mincremental\u001b[0m\u001b[0;34m=\u001b[0m\u001b[0;32mFalse\u001b[0m\u001b[0;34m)\u001b[0m\u001b[0;34m\u001b[0m\u001b[0;34m\u001b[0m\u001b[0m\n\u001b[0m\u001b[1;32m    753\u001b[0m \u001b[0;34m\u001b[0m\u001b[0m\n\u001b[1;32m    754\u001b[0m     \u001b[0;32mdef\u001b[0m \u001b[0m_check_solver\u001b[0m\u001b[0;34m(\u001b[0m\u001b[0mself\u001b[0m\u001b[0;34m)\u001b[0m\u001b[0;34m:\u001b[0m\u001b[0;34m\u001b[0m\u001b[0;34m\u001b[0m\u001b[0m\n",
      "\u001b[0;32m~/anaconda3/envs/comp3340/lib/python3.7/site-packages/sklearn/neural_network/_multilayer_perceptron.py\u001b[0m in \u001b[0;36m_fit\u001b[0;34m(self, X, y, incremental)\u001b[0m\n\u001b[1;32m    391\u001b[0m         )\n\u001b[1;32m    392\u001b[0m \u001b[0;34m\u001b[0m\u001b[0m\n\u001b[0;32m--> 393\u001b[0;31m         \u001b[0mX\u001b[0m\u001b[0;34m,\u001b[0m \u001b[0my\u001b[0m \u001b[0;34m=\u001b[0m \u001b[0mself\u001b[0m\u001b[0;34m.\u001b[0m\u001b[0m_validate_input\u001b[0m\u001b[0;34m(\u001b[0m\u001b[0mX\u001b[0m\u001b[0;34m,\u001b[0m \u001b[0my\u001b[0m\u001b[0;34m,\u001b[0m \u001b[0mincremental\u001b[0m\u001b[0;34m,\u001b[0m \u001b[0mreset\u001b[0m\u001b[0;34m=\u001b[0m\u001b[0mfirst_pass\u001b[0m\u001b[0;34m)\u001b[0m\u001b[0;34m\u001b[0m\u001b[0;34m\u001b[0m\u001b[0m\n\u001b[0m\u001b[1;32m    394\u001b[0m \u001b[0;34m\u001b[0m\u001b[0m\n\u001b[1;32m    395\u001b[0m         \u001b[0mn_samples\u001b[0m\u001b[0;34m,\u001b[0m \u001b[0mn_features\u001b[0m \u001b[0;34m=\u001b[0m \u001b[0mX\u001b[0m\u001b[0;34m.\u001b[0m\u001b[0mshape\u001b[0m\u001b[0;34m\u001b[0m\u001b[0;34m\u001b[0m\u001b[0m\n",
      "\u001b[0;32m~/anaconda3/envs/comp3340/lib/python3.7/site-packages/sklearn/neural_network/_multilayer_perceptron.py\u001b[0m in \u001b[0;36m_validate_input\u001b[0;34m(self, X, y, incremental, reset)\u001b[0m\n\u001b[1;32m   1594\u001b[0m             \u001b[0my_numeric\u001b[0m\u001b[0;34m=\u001b[0m\u001b[0;32mTrue\u001b[0m\u001b[0;34m,\u001b[0m\u001b[0;34m\u001b[0m\u001b[0;34m\u001b[0m\u001b[0m\n\u001b[1;32m   1595\u001b[0m             \u001b[0mdtype\u001b[0m\u001b[0;34m=\u001b[0m\u001b[0;34m(\u001b[0m\u001b[0mnp\u001b[0m\u001b[0;34m.\u001b[0m\u001b[0mfloat64\u001b[0m\u001b[0;34m,\u001b[0m \u001b[0mnp\u001b[0m\u001b[0;34m.\u001b[0m\u001b[0mfloat32\u001b[0m\u001b[0;34m)\u001b[0m\u001b[0;34m,\u001b[0m\u001b[0;34m\u001b[0m\u001b[0;34m\u001b[0m\u001b[0m\n\u001b[0;32m-> 1596\u001b[0;31m             \u001b[0mreset\u001b[0m\u001b[0;34m=\u001b[0m\u001b[0mreset\u001b[0m\u001b[0;34m,\u001b[0m\u001b[0;34m\u001b[0m\u001b[0;34m\u001b[0m\u001b[0m\n\u001b[0m\u001b[1;32m   1597\u001b[0m         )\n\u001b[1;32m   1598\u001b[0m         \u001b[0;32mif\u001b[0m \u001b[0my\u001b[0m\u001b[0;34m.\u001b[0m\u001b[0mndim\u001b[0m \u001b[0;34m==\u001b[0m \u001b[0;36m2\u001b[0m \u001b[0;32mand\u001b[0m \u001b[0my\u001b[0m\u001b[0;34m.\u001b[0m\u001b[0mshape\u001b[0m\u001b[0;34m[\u001b[0m\u001b[0;36m1\u001b[0m\u001b[0;34m]\u001b[0m \u001b[0;34m==\u001b[0m \u001b[0;36m1\u001b[0m\u001b[0;34m:\u001b[0m\u001b[0;34m\u001b[0m\u001b[0;34m\u001b[0m\u001b[0m\n",
      "\u001b[0;32m~/anaconda3/envs/comp3340/lib/python3.7/site-packages/sklearn/base.py\u001b[0m in \u001b[0;36m_validate_data\u001b[0;34m(self, X, y, reset, validate_separately, **check_params)\u001b[0m\n\u001b[1;32m    579\u001b[0m                 \u001b[0my\u001b[0m \u001b[0;34m=\u001b[0m \u001b[0mcheck_array\u001b[0m\u001b[0;34m(\u001b[0m\u001b[0my\u001b[0m\u001b[0;34m,\u001b[0m \u001b[0;34m**\u001b[0m\u001b[0mcheck_y_params\u001b[0m\u001b[0;34m)\u001b[0m\u001b[0;34m\u001b[0m\u001b[0;34m\u001b[0m\u001b[0m\n\u001b[1;32m    580\u001b[0m             \u001b[0;32melse\u001b[0m\u001b[0;34m:\u001b[0m\u001b[0;34m\u001b[0m\u001b[0;34m\u001b[0m\u001b[0m\n\u001b[0;32m--> 581\u001b[0;31m                 \u001b[0mX\u001b[0m\u001b[0;34m,\u001b[0m \u001b[0my\u001b[0m \u001b[0;34m=\u001b[0m \u001b[0mcheck_X_y\u001b[0m\u001b[0;34m(\u001b[0m\u001b[0mX\u001b[0m\u001b[0;34m,\u001b[0m \u001b[0my\u001b[0m\u001b[0;34m,\u001b[0m \u001b[0;34m**\u001b[0m\u001b[0mcheck_params\u001b[0m\u001b[0;34m)\u001b[0m\u001b[0;34m\u001b[0m\u001b[0;34m\u001b[0m\u001b[0m\n\u001b[0m\u001b[1;32m    582\u001b[0m             \u001b[0mout\u001b[0m \u001b[0;34m=\u001b[0m \u001b[0mX\u001b[0m\u001b[0;34m,\u001b[0m \u001b[0my\u001b[0m\u001b[0;34m\u001b[0m\u001b[0;34m\u001b[0m\u001b[0m\n\u001b[1;32m    583\u001b[0m \u001b[0;34m\u001b[0m\u001b[0m\n",
      "\u001b[0;32m~/anaconda3/envs/comp3340/lib/python3.7/site-packages/sklearn/utils/validation.py\u001b[0m in \u001b[0;36mcheck_X_y\u001b[0;34m(X, y, accept_sparse, accept_large_sparse, dtype, order, copy, force_all_finite, ensure_2d, allow_nd, multi_output, ensure_min_samples, ensure_min_features, y_numeric, estimator)\u001b[0m\n\u001b[1;32m    979\u001b[0m     \u001b[0my\u001b[0m \u001b[0;34m=\u001b[0m \u001b[0m_check_y\u001b[0m\u001b[0;34m(\u001b[0m\u001b[0my\u001b[0m\u001b[0;34m,\u001b[0m \u001b[0mmulti_output\u001b[0m\u001b[0;34m=\u001b[0m\u001b[0mmulti_output\u001b[0m\u001b[0;34m,\u001b[0m \u001b[0my_numeric\u001b[0m\u001b[0;34m=\u001b[0m\u001b[0my_numeric\u001b[0m\u001b[0;34m)\u001b[0m\u001b[0;34m\u001b[0m\u001b[0;34m\u001b[0m\u001b[0m\n\u001b[1;32m    980\u001b[0m \u001b[0;34m\u001b[0m\u001b[0m\n\u001b[0;32m--> 981\u001b[0;31m     \u001b[0mcheck_consistent_length\u001b[0m\u001b[0;34m(\u001b[0m\u001b[0mX\u001b[0m\u001b[0;34m,\u001b[0m \u001b[0my\u001b[0m\u001b[0;34m)\u001b[0m\u001b[0;34m\u001b[0m\u001b[0;34m\u001b[0m\u001b[0m\n\u001b[0m\u001b[1;32m    982\u001b[0m \u001b[0;34m\u001b[0m\u001b[0m\n\u001b[1;32m    983\u001b[0m     \u001b[0;32mreturn\u001b[0m \u001b[0mX\u001b[0m\u001b[0;34m,\u001b[0m \u001b[0my\u001b[0m\u001b[0;34m\u001b[0m\u001b[0;34m\u001b[0m\u001b[0m\n",
      "\u001b[0;32m~/anaconda3/envs/comp3340/lib/python3.7/site-packages/sklearn/utils/validation.py\u001b[0m in \u001b[0;36mcheck_consistent_length\u001b[0;34m(*arrays)\u001b[0m\n\u001b[1;32m    332\u001b[0m         raise ValueError(\n\u001b[1;32m    333\u001b[0m             \u001b[0;34m\"Found input variables with inconsistent numbers of samples: %r\"\u001b[0m\u001b[0;34m\u001b[0m\u001b[0;34m\u001b[0m\u001b[0m\n\u001b[0;32m--> 334\u001b[0;31m             \u001b[0;34m%\u001b[0m \u001b[0;34m[\u001b[0m\u001b[0mint\u001b[0m\u001b[0;34m(\u001b[0m\u001b[0ml\u001b[0m\u001b[0;34m)\u001b[0m \u001b[0;32mfor\u001b[0m \u001b[0ml\u001b[0m \u001b[0;32min\u001b[0m \u001b[0mlengths\u001b[0m\u001b[0;34m]\u001b[0m\u001b[0;34m\u001b[0m\u001b[0;34m\u001b[0m\u001b[0m\n\u001b[0m\u001b[1;32m    335\u001b[0m         )\n\u001b[1;32m    336\u001b[0m \u001b[0;34m\u001b[0m\u001b[0m\n",
      "\u001b[0;31mValueError\u001b[0m: Found input variables with inconsistent numbers of samples: [2394, 16760]"
     ]
    }
   ],
   "source": [
    "layer_list = []\n",
    "rmse_lst=[]\n",
    "\n",
    "for x in range (1,10,1):\n",
    "    for y in range (1,20,1):\n",
    "        layer_list.append((x,y))\n",
    "\n",
    "for j in tqdm(range(len(layer_list))):\n",
    "    i = layer_list[j]\n",
    "    clf = MLPRegressor(solver=\"adam\",\n",
    "                       alpha=1e-5,\n",
    "                       hidden_layer_sizes=i,\n",
    "                       activation='relu',\n",
    "                       random_state=3612,\n",
    "                       max_iter=1000)\n",
    "\n",
    "    clf.fit(X_train_norm, y_train_t2_value)\n",
    "    y_pred = clf.predict(X_valid_norm)\n",
    "    rmse1 = rmse(y_pred, y_valid_t2_value)\n",
    "    rmse_lst.append(rmse1)\n",
    "    \n",
    "print(layer_list)\n",
    "index = rmse_lst.index(min(rmse_lst))\n",
    "plt.plot(list(range(len(layer_list))), rmse_lst, label='Layers Tuning')\n",
    "plt.xlabel('Layer Choises')\n",
    "plt.ylabel('RMSE')\n",
    "plt.title(f\"Layer {layer_list[index]} - ROC curve\")\n",
    "plt.legend(loc=\"best\")\n",
    "plt.annotate(np.min(rmse_lst).round(4), (np.argmin(rmse_lst), np.min(rmse_lst)), xycoords=\"data\",\n",
    "                 xytext=(40, 20), textcoords=\"offset pixels\", arrowprops=dict(facecolor=\"black\", shrink=0.1), fontsize=10,\n",
    "                 horizontalalignment=\"center\", verticalalignment=\"top\")\n",
    "plt.show()"
   ]
  },
  {
   "cell_type": "code",
   "execution_count": null,
   "id": "f314ef7d",
   "metadata": {
    "ExecuteTime": {
     "end_time": "2022-11-27T11:19:37.875498Z",
     "start_time": "2022-11-27T11:19:37.875481Z"
    }
   },
   "outputs": [],
   "source": [
    "best_layernumber = layer_list[index]\n",
    "best_layernumber"
   ]
  },
  {
   "cell_type": "markdown",
   "id": "16213e33",
   "metadata": {},
   "source": [
    "## Solver Choices"
   ]
  },
  {
   "cell_type": "code",
   "execution_count": null,
   "id": "754bfc1c",
   "metadata": {
    "ExecuteTime": {
     "end_time": "2022-11-27T11:19:37.876679Z",
     "start_time": "2022-11-27T11:19:37.876665Z"
    }
   },
   "outputs": [],
   "source": [
    "solver_list = [\"lbfgs\",\"sgd\",\"adam\"]\n",
    "rmse_lst=[]\n",
    "\n",
    "for i in solver_list:\n",
    "    clf = MLPRegressor(solver=i,\n",
    "                        alpha=1e-5,\n",
    "                        hidden_layer_sizes=best_layernumber,\n",
    "                        random_state=1,\n",
    "                        activation='relu',\n",
    "                        max_iter=1000)\n",
    "\n",
    "    clf.fit(X_train_norm, y_train_t2_value)\n",
    "    y_pred = clf.predict(X_valid_norm)\n",
    "    rmse1 = rmse(y_pred, y_valid_t2_value)\n",
    "    rmse_lst.append(rmse1)\n",
    "    \n",
    "print(solver_list)\n",
    "index = rmse_lst.index(min(rmse_lst))\n",
    "plt.plot(solver_list, rmse_lst, label='Solver Tuning')\n",
    "plt.xlabel('Solver Choises')\n",
    "plt.ylabel('RMSE')\n",
    "plt.title(f\"Solver {solver_list[index]} - ROC curve\")\n",
    "plt.legend(loc=\"best\")\n",
    "plt.annotate(np.min(rmse_lst).round(4), (np.argmin(rmse_lst), np.min(rmse_lst)), xycoords=\"data\",\n",
    "                 xytext=(40, 20), textcoords=\"offset pixels\", arrowprops=dict(facecolor=\"black\", shrink=0.1), fontsize=10,\n",
    "                 horizontalalignment=\"center\", verticalalignment=\"top\")\n",
    "plt.show()"
   ]
  },
  {
   "cell_type": "code",
   "execution_count": null,
   "id": "69561f86",
   "metadata": {
    "ExecuteTime": {
     "end_time": "2022-11-27T11:19:37.878089Z",
     "start_time": "2022-11-27T11:19:37.878074Z"
    }
   },
   "outputs": [],
   "source": [
    "index = np.argmin(rmse_lst)\n",
    "best_solver = solver_list[index]\n",
    "best_solver"
   ]
  },
  {
   "cell_type": "markdown",
   "id": "893d31a1",
   "metadata": {
    "ExecuteTime": {
     "end_time": "2022-11-14T10:00:23.542784Z",
     "start_time": "2022-11-14T10:00:23.538559Z"
    }
   },
   "source": [
    "## Learning rate tuning"
   ]
  },
  {
   "cell_type": "code",
   "execution_count": null,
   "id": "ee20b4f5",
   "metadata": {
    "ExecuteTime": {
     "end_time": "2022-11-27T11:19:37.880140Z",
     "start_time": "2022-11-27T11:19:37.880115Z"
    }
   },
   "outputs": [],
   "source": [
    "lr_list = [1e-10,0.0001]+list(np.linspace(0.001,0.01,5))+list(np.linspace(0.01,0.1,5))+list(np.linspace(0.1,1,5))\n",
    "rmse_lst=[]\n",
    "\n",
    "for i in lr_list:\n",
    "    clf = MLPRegressor(solver=best_solver,\n",
    "                        hidden_layer_sizes=best_layernumber,\n",
    "                        learning_rate_init=i,\n",
    "                        learning_rate=\"adaptive\", \n",
    "                        alpha=1e-5,\n",
    "                        random_state=1,\n",
    "                        activation='relu',\n",
    "                        max_iter=1000)\n",
    "\n",
    "    clf.fit(X_train_norm, y_train_t2_value)\n",
    "    y_pred = clf.predict(X_valid_norm)\n",
    "    rmse1 = rmse(y_pred, y_valid_t2_value)\n",
    "    rmse_lst.append(rmse1)\n",
    "    \n",
    "print(lr_list)\n",
    "index = rmse_lst.index(min(rmse_lst))\n",
    "plt.plot(lr_list, rmse_lst, label='Learning Rate Tuning')\n",
    "plt.xlabel('Learning Rate Choises')\n",
    "plt.ylabel('RMSE')\n",
    "plt.title(f\"Learning Rate {lr_list[index]} - ROC curve\")\n",
    "plt.legend(loc=\"best\")\n",
    "plt.annotate(np.min(rmse_lst).round(4), (np.argmin(rmse_lst), np.min(rmse_lst)), xycoords=\"data\",\n",
    "                 xytext=(40, 20), textcoords=\"offset pixels\", arrowprops=dict(facecolor=\"black\", shrink=0.1), fontsize=10,\n",
    "                 horizontalalignment=\"center\", verticalalignment=\"top\")\n",
    "plt.show()\n",
    "print(np.min(rmse_lst).round(4))"
   ]
  },
  {
   "cell_type": "code",
   "execution_count": null,
   "id": "2c5468c4",
   "metadata": {
    "ExecuteTime": {
     "end_time": "2022-11-27T11:19:37.881963Z",
     "start_time": "2022-11-27T11:19:37.881941Z"
    }
   },
   "outputs": [],
   "source": [
    "index = np.argmin(rmse_lst)\n",
    "best_lr_choice =  lr_list[index]\n",
    "best_lr_choice"
   ]
  },
  {
   "cell_type": "markdown",
   "id": "cb356760",
   "metadata": {
    "ExecuteTime": {
     "end_time": "2022-11-24T12:56:56.523825Z",
     "start_time": "2022-11-24T12:56:56.518572Z"
    }
   },
   "source": [
    "## Regularization strength tuning"
   ]
  },
  {
   "cell_type": "code",
   "execution_count": null,
   "id": "abcce264",
   "metadata": {
    "ExecuteTime": {
     "end_time": "2022-11-27T11:19:37.883543Z",
     "start_time": "2022-11-27T11:19:37.883531Z"
    }
   },
   "outputs": [],
   "source": [
    "reg_list = list(np.linspace(1e-5,0.00005,20))\n",
    "rmse_lst=[]\n",
    "\n",
    "for i in reg_list:\n",
    "    clf = MLPRegressor(solver=best_solver,\n",
    "                        hidden_layer_sizes=best_layernumber,\n",
    "                        learning_rate_init=best_lr_choice,\n",
    "                        alpha=i,\n",
    "                        random_state=1,\n",
    "                        activation='relu',\n",
    "                        max_iter=1000)\n",
    "\n",
    "    clf.fit(X_train_norm, y_train_t2_value)\n",
    "    y_pred = clf.predict(X_valid_norm)\n",
    "    rmse1 = rmse(y_pred, y_valid_t2_value)\n",
    "    rmse_lst.append(rmse1)\n",
    "    \n",
    "print(reg_list)\n",
    "index = rmse_lst.index(min(rmse_lst))\n",
    "plt.plot(list(range(len(reg_list))), rmse_lst, label='Regularization strength tuning')\n",
    "plt.xlabel('Regularization strength Choices')\n",
    "plt.ylabel('RMSE')\n",
    "plt.title(f\"Regularization strength tuning {reg_list[index]} - ROC curve\")\n",
    "plt.legend(loc=\"best\")\n",
    "plt.annotate(np.min(rmse_lst).round(4), (np.argmin(rmse_lst), np.min(rmse_lst)), xycoords=\"data\",\n",
    "                 xytext=(40, 20), textcoords=\"offset pixels\", arrowprops=dict(facecolor=\"black\", shrink=0.1), fontsize=10,\n",
    "                 horizontalalignment=\"center\", verticalalignment=\"top\")\n",
    "plt.show()"
   ]
  },
  {
   "cell_type": "code",
   "execution_count": null,
   "id": "df9d432e",
   "metadata": {
    "ExecuteTime": {
     "end_time": "2022-11-27T11:19:37.884688Z",
     "start_time": "2022-11-27T11:19:37.884672Z"
    }
   },
   "outputs": [],
   "source": [
    "index = np.argmin(rmse_lst)\n",
    "best_reg_choice =  reg_list[index]\n",
    "best_reg_choice"
   ]
  },
  {
   "cell_type": "code",
   "execution_count": null,
   "id": "5bc4e02a",
   "metadata": {
    "ExecuteTime": {
     "end_time": "2022-11-27T11:19:37.885869Z",
     "start_time": "2022-11-27T11:19:37.885854Z"
    }
   },
   "outputs": [],
   "source": [
    "index = np.argmin(rmse_lst)\n",
    "best_rs_choice =  rs_list[index]\n",
    "best_rs_choice"
   ]
  },
  {
   "cell_type": "markdown",
   "id": "4fbb3efb",
   "metadata": {
    "ExecuteTime": {
     "end_time": "2022-11-25T09:14:34.666541Z",
     "start_time": "2022-11-25T09:14:34.664049Z"
    }
   },
   "source": [
    "## Activation function Choices"
   ]
  },
  {
   "cell_type": "code",
   "execution_count": null,
   "id": "9be7047c",
   "metadata": {
    "ExecuteTime": {
     "end_time": "2022-11-27T11:19:37.887092Z",
     "start_time": "2022-11-27T11:19:37.887075Z"
    }
   },
   "outputs": [],
   "source": [
    "activation_list = ['identity','logistic','tanh','relu']\n",
    "rmse_lst=[]\n",
    "\n",
    "for i in activation_list:\n",
    "    clf = MLPRegressor(solver=best_solver,\n",
    "                        hidden_layer_sizes=best_layernumber,\n",
    "                        learning_rate_init=best_lr_choice,\n",
    "                        alpha=best_reg_choice,\n",
    "                        random_state=3612,\n",
    "                        activation=i,\n",
    "                        max_iter=1000)\n",
    "\n",
    "    clf.fit(X_train_norm, y_train_t2_value)\n",
    "    y_pred = clf.predict(X_valid_norm)\n",
    "    rmse1 = rmse(y_pred, y_valid_t2_value)\n",
    "    rmse_lst.append(rmse1)\n",
    "    \n",
    "print(activation_list)\n",
    "index = rmse_lst.index(min(rmse_lst))\n",
    "plt.plot(activation_list, rmse_lst, label=' Random State Tuning')\n",
    "plt.xlabel(' Random State Choices')\n",
    "plt.ylabel('RMSE')\n",
    "plt.title(f\" Activation Tuning {activation_list[index]} - ROC curve\")\n",
    "plt.legend(loc=\"best\")\n",
    "plt.annotate(np.min(rmse_lst).round(4), (np.argmin(rmse_lst), np.min(rmse_lst)), xycoords=\"data\",\n",
    "                 xytext=(40, 20), textcoords=\"offset pixels\", arrowprops=dict(facecolor=\"black\", shrink=0.1), fontsize=10,\n",
    "                 horizontalalignment=\"center\", verticalalignment=\"top\")\n",
    "plt.show()"
   ]
  },
  {
   "cell_type": "markdown",
   "id": "b16acbcd",
   "metadata": {},
   "source": [
    "# Test"
   ]
  },
  {
   "cell_type": "code",
   "execution_count": null,
   "id": "393988a7",
   "metadata": {
    "ExecuteTime": {
     "end_time": "2022-11-27T11:19:37.888407Z",
     "start_time": "2022-11-27T11:19:37.888394Z"
    }
   },
   "outputs": [],
   "source": [
    "X = np.concatenate((X_train_norm,X_valid_norm),axis=0)\n",
    "y = np.concatenate((y_train_t2_value,y_valid_t2_value),axis=0)"
   ]
  },
  {
   "cell_type": "code",
   "execution_count": null,
   "id": "f5c8cc99",
   "metadata": {
    "ExecuteTime": {
     "end_time": "2022-11-27T11:19:37.889974Z",
     "start_time": "2022-11-27T11:19:37.889952Z"
    }
   },
   "outputs": [],
   "source": [
    "# Final model\n",
    "reg1 = MLPRegressor(\n",
    "                   )\n",
    "\n",
    "reg1.fit(X_train_norm,y_train_t2_value)\n",
    "y_pred = reg1.predict(X_valid_norm)\n",
    "rmse(y_pred, y_valid_t2_value)"
   ]
  },
  {
   "cell_type": "code",
   "execution_count": null,
   "id": "bcd7285c",
   "metadata": {
    "ExecuteTime": {
     "end_time": "2022-11-27T11:19:37.892153Z",
     "start_time": "2022-11-27T11:19:37.892128Z"
    }
   },
   "outputs": [],
   "source": [
    "y_pred = reg1.predict(X_valid_norm)\n",
    "rmse(y_pred, y_valid_t2_value)"
   ]
  },
  {
   "cell_type": "code",
   "execution_count": null,
   "id": "dcff3df6",
   "metadata": {
    "ExecuteTime": {
     "end_time": "2022-11-27T11:19:37.893594Z",
     "start_time": "2022-11-27T11:19:37.893573Z"
    }
   },
   "outputs": [],
   "source": [
    "X_test_norm.describe()"
   ]
  },
  {
   "cell_type": "code",
   "execution_count": null,
   "id": "40f64526",
   "metadata": {
    "ExecuteTime": {
     "end_time": "2022-11-27T11:19:37.895283Z",
     "start_time": "2022-11-27T11:19:37.895264Z"
    }
   },
   "outputs": [],
   "source": [
    "X_test"
   ]
  },
  {
   "cell_type": "code",
   "execution_count": null,
   "id": "8747d5c8",
   "metadata": {
    "ExecuteTime": {
     "end_time": "2022-11-27T11:19:37.896984Z",
     "start_time": "2022-11-27T11:19:37.896961Z"
    },
    "scrolled": true
   },
   "outputs": [],
   "source": [
    "\n",
    "result = reg1.predict(X_test_norm)\n",
    "res1 = pd.DataFrame(result.tolist(), columns=[\"Predicted\"])\n",
    "res1.index = final_index\n",
    "res1.index.name = 'Id'\n",
    "pd.DataFrame(res1).to_csv('out12col.csv')\n",
    "#print(torch.count_nonzero(torch.from_numpy(np.array(res1)).to(torch.float32)))\n",
    "res1"
   ]
  }
 ],
 "metadata": {
  "kernelspec": {
   "display_name": "comp3340",
   "language": "python",
   "name": "comp3340"
  },
  "language_info": {
   "codemirror_mode": {
    "name": "ipython",
    "version": 3
   },
   "file_extension": ".py",
   "mimetype": "text/x-python",
   "name": "python",
   "nbconvert_exporter": "python",
   "pygments_lexer": "ipython3",
   "version": "3.7.7"
  },
  "toc": {
   "base_numbering": 1,
   "nav_menu": {},
   "number_sections": true,
   "sideBar": true,
   "skip_h1_title": false,
   "title_cell": "Table of Contents",
   "title_sidebar": "Contents",
   "toc_cell": false,
   "toc_position": {},
   "toc_section_display": true,
   "toc_window_display": true
  }
 },
 "nbformat": 4,
 "nbformat_minor": 5
}
