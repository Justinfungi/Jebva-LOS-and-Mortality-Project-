{
 "cells": [
  {
   "cell_type": "markdown",
   "id": "970d9aef",
   "metadata": {
    "heading_collapsed": true
   },
   "source": [
    "# Libraries"
   ]
  },
  {
   "cell_type": "code",
   "execution_count": 2,
   "id": "71cace5d",
   "metadata": {
    "ExecuteTime": {
     "end_time": "2022-11-15T06:36:34.732006Z",
     "start_time": "2022-11-15T06:36:29.347663Z"
    },
    "hidden": true
   },
   "outputs": [],
   "source": [
    "import torch\n",
    "import torchvision\n",
    "import torch.nn as nn\n",
    "import torch.optim as optim\n",
    "import torch.nn.functional as F\n",
    "from torch.utils.data import Dataset, DataLoader\n",
    "import torchvision.transforms as transforms\n",
    "import matplotlib.pyplot as plt\n",
    "from sklearn import metrics\n",
    "\n",
    "device = torch.device(\"cuda\" if torch.cuda.is_available() else \"cpu\")"
   ]
  },
  {
   "cell_type": "markdown",
   "id": "e5e3db1d",
   "metadata": {
    "ExecuteTime": {
     "end_time": "2022-10-27T03:47:12.458066Z",
     "start_time": "2022-10-27T03:47:12.452095Z"
    }
   },
   "source": [
    "# Import data"
   ]
  },
  {
   "cell_type": "code",
   "execution_count": 3,
   "id": "c7c7a26f",
   "metadata": {
    "ExecuteTime": {
     "end_time": "2022-11-15T06:38:08.022870Z",
     "start_time": "2022-11-15T06:36:34.740701Z"
    }
   },
   "outputs": [
    {
     "name": "stdout",
     "output_type": "stream",
     "text": [
      "************************************************************\n",
      "There are 6 set of X\n",
      "X_*_nozero\n",
      "------------------------------------------------------------\n",
      "Normalized version\n",
      "X_*_norm\n",
      "------------------------------------------------------------\n",
      "There are 4 set of Y\n",
      "y_train_t1, y_train_t2, y_valid_t1, y_valid_t2\n",
      "when training, please use: 'y_train_t1_value,y_train_t2_value,y_valid_t1_value,y_valid_t2_value'\n",
      "************************************************************\n"
     ]
    }
   ],
   "source": [
    "%run Data_preprocessing.ipynb"
   ]
  },
  {
   "cell_type": "code",
   "execution_count": 4,
   "id": "4aa393c8",
   "metadata": {
    "ExecuteTime": {
     "end_time": "2022-11-15T06:38:08.039174Z",
     "start_time": "2022-11-15T06:38:08.030427Z"
    }
   },
   "outputs": [
    {
     "name": "stdout",
     "output_type": "stream",
     "text": [
      "(16760, 61)\n",
      "(2394, 61)\n",
      "(4790, 61)\n"
     ]
    }
   ],
   "source": [
    "print(X_train_norm.shape)\n",
    "print(X_valid_norm.shape)\n",
    "print(X_test_norm.shape)"
   ]
  },
  {
   "cell_type": "markdown",
   "id": "1542c335",
   "metadata": {
    "ExecuteTime": {
     "end_time": "2022-11-14T09:37:26.759973Z",
     "start_time": "2022-11-14T09:37:26.756004Z"
    },
    "heading_collapsed": true
   },
   "source": [
    "# Neural Network Using Sklearn build in function"
   ]
  },
  {
   "cell_type": "code",
   "execution_count": 5,
   "id": "61a47fdf",
   "metadata": {
    "ExecuteTime": {
     "end_time": "2022-11-15T06:40:27.864972Z",
     "start_time": "2022-11-15T06:40:25.597784Z"
    },
    "hidden": true
   },
   "outputs": [
    {
     "data": {
      "text/plain": [
       "0.12321964534531882"
      ]
     },
     "execution_count": 5,
     "metadata": {},
     "output_type": "execute_result"
    }
   ],
   "source": [
    "from sklearn.neural_network import MLPRegressor\n",
    "\n",
    "clf = MLPRegressor(hidden_layer_sizes=(100,), \n",
    "                   activation='relu',\n",
    "                   solver='adam', \n",
    "                   alpha=0.0001, \n",
    "                   batch_size='auto', \n",
    "                   learning_rate='constant', \n",
    "                   learning_rate_init=0.01, \n",
    "                   power_t=0.5, \n",
    "                   max_iter=200, \n",
    "                   shuffle=True, \n",
    "                   random_state=None, \n",
    "                   tol=0.0001, \n",
    "                   verbose=False, \n",
    "                   warm_start=False, \n",
    "                   momentum=0.9, \n",
    "                   nesterovs_momentum=True, \n",
    "                   early_stopping=True, \n",
    "                   validation_fraction=0.1, \n",
    "                   beta_1=0.9, \n",
    "                   beta_2=0.999, \n",
    "                   epsilon=1e-08, \n",
    "                   n_iter_no_change=10, \n",
    "                   max_fun=15000)\n",
    "\n",
    "clf.fit(X_train_norm, y_train_t2_value)\n",
    "\n",
    "clf.score(X_valid_norm, y_valid_t2_value)"
   ]
  },
  {
   "cell_type": "code",
   "execution_count": 6,
   "id": "7a3ae147",
   "metadata": {
    "ExecuteTime": {
     "end_time": "2022-11-15T06:40:29.903829Z",
     "start_time": "2022-11-15T06:40:29.562350Z"
    },
    "hidden": true
   },
   "outputs": [
    {
     "ename": "NameError",
     "evalue": "name 'rmse' is not defined",
     "output_type": "error",
     "traceback": [
      "\u001b[0;31m---------------------------------------------------------------------------\u001b[0m",
      "\u001b[0;31mNameError\u001b[0m                                 Traceback (most recent call last)",
      "\u001b[0;32m/tmp/ipykernel_180078/71761593.py\u001b[0m in \u001b[0;36m<module>\u001b[0;34m\u001b[0m\n\u001b[1;32m      1\u001b[0m \u001b[0my_pred\u001b[0m \u001b[0;34m=\u001b[0m \u001b[0mclf\u001b[0m\u001b[0;34m.\u001b[0m\u001b[0mpredict\u001b[0m\u001b[0;34m(\u001b[0m\u001b[0mX_valid_norm\u001b[0m\u001b[0;34m)\u001b[0m\u001b[0;34m\u001b[0m\u001b[0;34m\u001b[0m\u001b[0m\n\u001b[0;32m----> 2\u001b[0;31m \u001b[0mrmse\u001b[0m\u001b[0;34m(\u001b[0m\u001b[0my_pred\u001b[0m\u001b[0;34m,\u001b[0m \u001b[0my_valid_t2_value\u001b[0m\u001b[0;34m)\u001b[0m\u001b[0;34m\u001b[0m\u001b[0;34m\u001b[0m\u001b[0m\n\u001b[0m",
      "\u001b[0;31mNameError\u001b[0m: name 'rmse' is not defined"
     ]
    }
   ],
   "source": [
    "y_pred = clf.predict(X_valid_norm)\n",
    "rmse(y_pred, y_valid_t2_value)"
   ]
  },
  {
   "cell_type": "markdown",
   "id": "74a00a91",
   "metadata": {},
   "source": [
    "# Evaluation Matrix"
   ]
  },
  {
   "cell_type": "code",
   "execution_count": 7,
   "id": "f680ed22",
   "metadata": {
    "ExecuteTime": {
     "end_time": "2022-11-15T06:40:42.191319Z",
     "start_time": "2022-11-15T06:40:42.183418Z"
    }
   },
   "outputs": [],
   "source": [
    "def rmse(predictions, targets):\n",
    "    return np.sqrt(((predictions - targets) ** 2).mean())"
   ]
  },
  {
   "cell_type": "markdown",
   "id": "7eaa1314",
   "metadata": {
    "ExecuteTime": {
     "end_time": "2022-11-14T09:39:42.985881Z",
     "start_time": "2022-11-14T09:39:42.982955Z"
    },
    "heading_collapsed": true
   },
   "source": [
    "# Hyperparameter and setting tuning"
   ]
  },
  {
   "cell_type": "markdown",
   "id": "45b5905c",
   "metadata": {
    "ExecuteTime": {
     "end_time": "2022-11-14T10:48:05.363047Z",
     "start_time": "2022-11-14T10:48:05.359385Z"
    },
    "hidden": true
   },
   "source": [
    "## layers"
   ]
  },
  {
   "cell_type": "code",
   "execution_count": null,
   "id": "8e9bbbe6",
   "metadata": {
    "ExecuteTime": {
     "end_time": "2022-11-14T14:45:10.568027Z",
     "start_time": "2022-11-14T14:45:10.568009Z"
    },
    "hidden": true
   },
   "outputs": [],
   "source": [
    "layer_list = []\n",
    "fpr_lst=[]\n",
    "tpr_lst=[]\n",
    "roc_auc_lst=[]\n",
    "for i in range(1,20,5):\n",
    "    for j in range(1,20,5):\n",
    "        layer_list.append((i,j))\n",
    "        \n",
    "for i in layer_list:\n",
    "    clf = MLPRegressor(solver=\"lbfgs\",\n",
    "                        alpha=1e-5,\n",
    "                        hidden_layer_sizes=i,\n",
    "                        random_state=1,\n",
    "                        max_iter=200)\n",
    "\n",
    "    clf.fit(X_train_norm, y_train_t2_value)\n",
    "    clf.score(X_valid_norm, y_valid_t2_value)\n",
    "    y_pred = clf.predict(X_valid_norm)\n",
    "    fpr, tpr, _ = metrics.roc_curve(y_valid_t2_value, y_pred)\n",
    "    roc_auc = metrics.roc_auc_score(y_valid_t2_value, y_pred)\n",
    "    \n",
    "    fpr_lst.append(fpr)\n",
    "    tpr_lst.append(tpr)\n",
    "    roc_auc_lst.append(roc_auc)\n",
    "    \n",
    "    \n",
    "index = roc_auc_lst.index(max(roc_auc_lst))\n",
    "plt.figure(1)\n",
    "plt.plot([0, 1], [0, 1], 'k-')\n",
    "plt.plot(fpr_lst[index], tpr_lst[index], label='FN(area = {:.3f})'.format(max(roc_auc_lst)))\n",
    "plt.xlabel('False positive rate')\n",
    "plt.ylabel('True positive rate')\n",
    "plt.title(f\"Layer {layer_list[index]} - ROC curve\")\n",
    "plt.legend(loc=\"best\")\n",
    "plt.show()"
   ]
  },
  {
   "cell_type": "code",
   "execution_count": null,
   "id": "f314ef7d",
   "metadata": {
    "ExecuteTime": {
     "end_time": "2022-11-14T14:45:10.570906Z",
     "start_time": "2022-11-14T14:45:10.570873Z"
    },
    "hidden": true
   },
   "outputs": [],
   "source": [
    "best_layernumber = layer_list[index]\n",
    "best_layernumber"
   ]
  },
  {
   "cell_type": "markdown",
   "id": "16213e33",
   "metadata": {
    "hidden": true
   },
   "source": [
    "## Solver"
   ]
  },
  {
   "cell_type": "code",
   "execution_count": null,
   "id": "754bfc1c",
   "metadata": {
    "ExecuteTime": {
     "end_time": "2022-11-14T14:45:10.572884Z",
     "start_time": "2022-11-14T14:45:10.572858Z"
    },
    "hidden": true
   },
   "outputs": [],
   "source": [
    "solver_list = [\"lbfgs\",\"sgd\",\"adam\"]\n",
    "fpr_lst=[]\n",
    "tpr_lst=[]\n",
    "roc_auc_lst=[]\n",
    "\n",
    "for i in solver_list:\n",
    "    clf = MLPRegressor(solver=i,\n",
    "                        alpha=1e-5,\n",
    "                        hidden_layer_sizes=best_layernumber,\n",
    "                        random_state=1,\n",
    "                        max_iter=200)\n",
    "\n",
    "    clf.fit(X_train_norm, y_train_t2_value)\n",
    "    clf.score(X_valid_norm, y_valid_t2_value)\n",
    "    y_pred = clf.predict(X_valid_norm)\n",
    "    fpr, tpr, _ = metrics.roc_curve(y_valid_t2_value, y_pred)\n",
    "    roc_auc = metrics.roc_auc_score(y_valid_t2_value, y_pred)\n",
    "    \n",
    "    fpr_lst.append(fpr)\n",
    "    tpr_lst.append(tpr)\n",
    "    roc_auc_lst.append(roc_auc)\n",
    "    \n",
    "    \n",
    "fig, axes = plt.subplots(1, 3, sharex=True, sharey=True)\n",
    "plt.figure(figsize=(5,5))\n",
    "for j in range(3):\n",
    "    plt.figure(1)\n",
    "    axes[j].plot([0, 1], [0, 1], 'k-')\n",
    "    axes[j].plot(fpr_lst[j], tpr_lst[j], label='FN(area = {:.3f})'.format(roc_auc_lst[j]))\n",
    "    axes[j].set_xlabel('False positive rate')\n",
    "    axes[j].set_ylabel('True positive rate')\n",
    "    axes[j].set_title(f\"{solver_list[j]} - ROC curve\")\n",
    "    axes[j].legend(loc=\"best\")\n",
    "plt.show()"
   ]
  },
  {
   "cell_type": "code",
   "execution_count": null,
   "id": "69561f86",
   "metadata": {
    "ExecuteTime": {
     "end_time": "2022-11-14T14:45:10.574605Z",
     "start_time": "2022-11-14T14:45:10.574585Z"
    },
    "hidden": true
   },
   "outputs": [],
   "source": [
    "index = roc_auc_lst.index(max(roc_auc_lst))\n",
    "best_solver = solver_list[index]\n",
    "best_solver"
   ]
  },
  {
   "cell_type": "raw",
   "id": "4220f67f",
   "metadata": {
    "hidden": true
   },
   "source": [
    "For small datasets, however, ‘lbfgs’ can converge faster and perform better"
   ]
  },
  {
   "cell_type": "markdown",
   "id": "893d31a1",
   "metadata": {
    "ExecuteTime": {
     "end_time": "2022-11-14T10:00:23.542784Z",
     "start_time": "2022-11-14T10:00:23.538559Z"
    },
    "hidden": true
   },
   "source": [
    "## Learning rate tuning"
   ]
  },
  {
   "cell_type": "code",
   "execution_count": null,
   "id": "ee20b4f5",
   "metadata": {
    "ExecuteTime": {
     "end_time": "2022-11-14T14:45:10.576636Z",
     "start_time": "2022-11-14T14:45:10.576619Z"
    },
    "hidden": true
   },
   "outputs": [],
   "source": [
    "fpr_lst=[]\n",
    "tpr_lst=[]\n",
    "roc_auc_lst=[]\n",
    "lr_list = [\"constant\", \"invscaling\", \"adaptive\"]\n",
    "\n",
    "for i in lr_list:\n",
    "    clf = MLPRegressor(solver=best_solver,\n",
    "                        alpha=1e-5,\n",
    "                        hidden_layer_sizes=best_layernumber,\n",
    "                        learning_rate=i,\n",
    "                        random_state=3612,\n",
    "                        max_iter=200)\n",
    "\n",
    "    clf.fit(X_train_norm, y_train_t2_value)\n",
    "    clf.score(X_valid_norm, y_valid_t2_value)\n",
    "    y_pred = clf.predict(X_valid_norm)\n",
    "    fpr, tpr, _ = metrics.roc_curve(y_valid_t2_value, y_pred)\n",
    "    roc_auc = metrics.roc_auc_score(y_valid_t2_value, y_pred)\n",
    "    \n",
    "    fpr_lst.append(fpr)\n",
    "    tpr_lst.append(tpr)\n",
    "    roc_auc_lst.append(roc_auc)\n",
    "    \n",
    "    \n",
    "index = roc_auc_lst.index(max(roc_auc_lst))\n",
    "plt.figure(1)\n",
    "plt.plot([0, 1], [0, 1], 'k-')\n",
    "plt.plot(fpr_lst[index], tpr_lst[index], label='FN(area = {:.3f})'.format(max(roc_auc_lst)))\n",
    "plt.xlabel('False positive rate')\n",
    "plt.ylabel('True positive rate')\n",
    "plt.title(f\"Learning Rate {lr_list[index]} - ROC curve\")\n",
    "plt.legend(loc=\"best\")\n",
    "plt.show()"
   ]
  },
  {
   "cell_type": "code",
   "execution_count": null,
   "id": "2c5468c4",
   "metadata": {
    "ExecuteTime": {
     "end_time": "2022-11-14T14:45:10.578097Z",
     "start_time": "2022-11-14T14:45:10.578081Z"
    },
    "hidden": true
   },
   "outputs": [],
   "source": [
    "index = roc_auc_lst.index(max(roc_auc_lst))\n",
    "best_lr_choice =  lr_list[index]\n",
    "best_lr_choice"
   ]
  },
  {
   "cell_type": "markdown",
   "id": "b16acbcd",
   "metadata": {},
   "source": [
    "# Test"
   ]
  },
  {
   "cell_type": "code",
   "execution_count": 68,
   "id": "393988a7",
   "metadata": {
    "ExecuteTime": {
     "end_time": "2022-11-15T07:34:40.057302Z",
     "start_time": "2022-11-15T07:34:40.047837Z"
    }
   },
   "outputs": [],
   "source": [
    "X = np.concatenate((X_train_norm,X_valid_norm),axis=0)\n",
    "y = np.concatenate((y_train_t2_value,y_valid_t2_value),axis=0)"
   ]
  },
  {
   "cell_type": "code",
   "execution_count": 69,
   "id": "aaa93c8a",
   "metadata": {
    "ExecuteTime": {
     "end_time": "2022-11-15T07:34:53.190585Z",
     "start_time": "2022-11-15T07:34:53.177299Z"
    }
   },
   "outputs": [
    {
     "data": {
      "text/plain": [
       "array([6.06456019, 3.67291667, 5.32305556, ..., 9.14388889, 6.12417824,\n",
       "       3.81853009])"
      ]
     },
     "execution_count": 69,
     "metadata": {},
     "output_type": "execute_result"
    }
   ],
   "source": [
    "y.apply()"
   ]
  },
  {
   "cell_type": "code",
   "execution_count": 67,
   "id": "f5c8cc99",
   "metadata": {
    "ExecuteTime": {
     "end_time": "2022-11-15T07:32:15.551230Z",
     "start_time": "2022-11-15T07:32:01.890284Z"
    }
   },
   "outputs": [
    {
     "data": {
      "text/plain": [
       "1.8331037070883331"
      ]
     },
     "execution_count": 67,
     "metadata": {},
     "output_type": "execute_result"
    }
   ],
   "source": [
    "# Final model\n",
    "reg1 = MLPRegressor(hidden_layer_sizes=(20,1000), \n",
    "                   activation='logistic',\n",
    "                   solver='adam', \n",
    "                   alpha=0.2,\n",
    "                   learning_rate=\"adaptive\", \n",
    "                   learning_rate_init=0.1, \n",
    "                   max_iter=300, \n",
    "                   shuffle=True, \n",
    "                   random_state=3612, \n",
    "                   warm_start=True, \n",
    "                   momentum=0.9, \n",
    "                   early_stopping=True, \n",
    "                   )\n",
    "\n",
    "reg1.fit(X,y)\n",
    "y_pred = reg1.predict(X_valid_norm)\n",
    "rmse(y_pred, y_valid_t2_value)"
   ]
  },
  {
   "cell_type": "code",
   "execution_count": 51,
   "id": "bcd7285c",
   "metadata": {
    "ExecuteTime": {
     "end_time": "2022-11-15T07:24:33.804313Z",
     "start_time": "2022-11-15T07:24:33.776526Z"
    }
   },
   "outputs": [
    {
     "data": {
      "text/plain": [
       "1.7867877680306063"
      ]
     },
     "execution_count": 51,
     "metadata": {},
     "output_type": "execute_result"
    }
   ],
   "source": [
    "y_pred = reg1.predict(X_valid_norm)\n",
    "rmse(y_pred, y_valid_t2_value)"
   ]
  },
  {
   "cell_type": "code",
   "execution_count": 33,
   "id": "dcff3df6",
   "metadata": {
    "ExecuteTime": {
     "end_time": "2022-11-15T07:08:47.491242Z",
     "start_time": "2022-11-15T07:08:47.020331Z"
    }
   },
   "outputs": [
    {
     "data": {
      "text/html": [
       "<div>\n",
       "<style scoped>\n",
       "    .dataframe tbody tr th:only-of-type {\n",
       "        vertical-align: middle;\n",
       "    }\n",
       "\n",
       "    .dataframe tbody tr th {\n",
       "        vertical-align: top;\n",
       "    }\n",
       "\n",
       "    .dataframe thead th {\n",
       "        text-align: right;\n",
       "    }\n",
       "</style>\n",
       "<table border=\"1\" class=\"dataframe\">\n",
       "  <thead>\n",
       "    <tr style=\"text-align: right;\">\n",
       "      <th></th>\n",
       "      <th>0</th>\n",
       "      <th>1</th>\n",
       "      <th>2</th>\n",
       "      <th>3</th>\n",
       "      <th>4</th>\n",
       "      <th>5</th>\n",
       "      <th>6</th>\n",
       "      <th>7</th>\n",
       "      <th>8</th>\n",
       "      <th>9</th>\n",
       "      <th>...</th>\n",
       "      <th>51</th>\n",
       "      <th>52</th>\n",
       "      <th>53</th>\n",
       "      <th>54</th>\n",
       "      <th>55</th>\n",
       "      <th>56</th>\n",
       "      <th>57</th>\n",
       "      <th>58</th>\n",
       "      <th>59</th>\n",
       "      <th>60</th>\n",
       "    </tr>\n",
       "  </thead>\n",
       "  <tbody>\n",
       "    <tr>\n",
       "      <th>count</th>\n",
       "      <td>4.790000e+03</td>\n",
       "      <td>4.790000e+03</td>\n",
       "      <td>4.790000e+03</td>\n",
       "      <td>4.790000e+03</td>\n",
       "      <td>4.790000e+03</td>\n",
       "      <td>4.790000e+03</td>\n",
       "      <td>4.790000e+03</td>\n",
       "      <td>4.790000e+03</td>\n",
       "      <td>4.790000e+03</td>\n",
       "      <td>4.790000e+03</td>\n",
       "      <td>...</td>\n",
       "      <td>4.790000e+03</td>\n",
       "      <td>4.790000e+03</td>\n",
       "      <td>4.790000e+03</td>\n",
       "      <td>4.790000e+03</td>\n",
       "      <td>4.790000e+03</td>\n",
       "      <td>4.790000e+03</td>\n",
       "      <td>4.790000e+03</td>\n",
       "      <td>4.790000e+03</td>\n",
       "      <td>4.790000e+03</td>\n",
       "      <td>4790.000000</td>\n",
       "    </tr>\n",
       "    <tr>\n",
       "      <th>mean</th>\n",
       "      <td>-1.483388e-18</td>\n",
       "      <td>-1.483388e-17</td>\n",
       "      <td>5.933551e-18</td>\n",
       "      <td>-5.933551e-18</td>\n",
       "      <td>4.524333e-17</td>\n",
       "      <td>-7.416939e-18</td>\n",
       "      <td>1.186710e-17</td>\n",
       "      <td>-1.112541e-17</td>\n",
       "      <td>6.675245e-18</td>\n",
       "      <td>2.225082e-18</td>\n",
       "      <td>...</td>\n",
       "      <td>-1.186710e-17</td>\n",
       "      <td>-1.186710e-17</td>\n",
       "      <td>-1.780065e-17</td>\n",
       "      <td>2.373420e-17</td>\n",
       "      <td>0.000000e+00</td>\n",
       "      <td>1.186710e-17</td>\n",
       "      <td>0.000000e+00</td>\n",
       "      <td>1.780065e-17</td>\n",
       "      <td>-2.225082e-17</td>\n",
       "      <td>0.000000</td>\n",
       "    </tr>\n",
       "    <tr>\n",
       "      <th>std</th>\n",
       "      <td>1.000104e+00</td>\n",
       "      <td>1.000104e+00</td>\n",
       "      <td>1.000104e+00</td>\n",
       "      <td>1.000104e+00</td>\n",
       "      <td>1.000104e+00</td>\n",
       "      <td>1.000104e+00</td>\n",
       "      <td>1.000104e+00</td>\n",
       "      <td>1.000104e+00</td>\n",
       "      <td>1.000104e+00</td>\n",
       "      <td>1.000104e+00</td>\n",
       "      <td>...</td>\n",
       "      <td>1.000104e+00</td>\n",
       "      <td>1.000104e+00</td>\n",
       "      <td>1.000104e+00</td>\n",
       "      <td>1.000104e+00</td>\n",
       "      <td>1.000104e+00</td>\n",
       "      <td>1.000104e+00</td>\n",
       "      <td>1.000104e+00</td>\n",
       "      <td>1.000104e+00</td>\n",
       "      <td>1.000104e+00</td>\n",
       "      <td>1.000104</td>\n",
       "    </tr>\n",
       "    <tr>\n",
       "      <th>min</th>\n",
       "      <td>-3.566118e-01</td>\n",
       "      <td>-4.736161e+00</td>\n",
       "      <td>-1.108402e+00</td>\n",
       "      <td>-2.510722e+00</td>\n",
       "      <td>-3.170383e-01</td>\n",
       "      <td>-1.216617e+00</td>\n",
       "      <td>-3.844358e+00</td>\n",
       "      <td>-6.382758e-01</td>\n",
       "      <td>-1.159694e+00</td>\n",
       "      <td>-2.118036e+00</td>\n",
       "      <td>...</td>\n",
       "      <td>-3.878709e+00</td>\n",
       "      <td>-5.955574e+00</td>\n",
       "      <td>-5.670569e+00</td>\n",
       "      <td>-6.841345e+00</td>\n",
       "      <td>-5.085287e+00</td>\n",
       "      <td>-5.672995e+00</td>\n",
       "      <td>-2.066637e+00</td>\n",
       "      <td>-6.447803e-01</td>\n",
       "      <td>-4.238773e+00</td>\n",
       "      <td>-1.775847</td>\n",
       "    </tr>\n",
       "    <tr>\n",
       "      <th>25%</th>\n",
       "      <td>-2.703750e-01</td>\n",
       "      <td>2.882147e-18</td>\n",
       "      <td>-2.711224e-01</td>\n",
       "      <td>-7.081335e-01</td>\n",
       "      <td>-2.519048e-01</td>\n",
       "      <td>5.609774e-18</td>\n",
       "      <td>-4.734616e-01</td>\n",
       "      <td>-3.767748e-01</td>\n",
       "      <td>-5.987669e-01</td>\n",
       "      <td>-2.956834e-01</td>\n",
       "      <td>...</td>\n",
       "      <td>0.000000e+00</td>\n",
       "      <td>-6.282054e-01</td>\n",
       "      <td>-7.388818e-01</td>\n",
       "      <td>-6.038237e-01</td>\n",
       "      <td>-2.038072e-02</td>\n",
       "      <td>3.454719e-17</td>\n",
       "      <td>1.042083e-17</td>\n",
       "      <td>4.188770e-17</td>\n",
       "      <td>-4.909576e-01</td>\n",
       "      <td>-0.572596</td>\n",
       "    </tr>\n",
       "    <tr>\n",
       "      <th>50%</th>\n",
       "      <td>0.000000e+00</td>\n",
       "      <td>2.882147e-18</td>\n",
       "      <td>0.000000e+00</td>\n",
       "      <td>-1.072709e-01</td>\n",
       "      <td>6.016953e-17</td>\n",
       "      <td>5.609774e-18</td>\n",
       "      <td>8.095031e-03</td>\n",
       "      <td>-2.477535e-17</td>\n",
       "      <td>-2.928067e-01</td>\n",
       "      <td>0.000000e+00</td>\n",
       "      <td>...</td>\n",
       "      <td>0.000000e+00</td>\n",
       "      <td>6.666879e-02</td>\n",
       "      <td>-8.132357e-02</td>\n",
       "      <td>1.837230e-02</td>\n",
       "      <td>3.604995e-17</td>\n",
       "      <td>3.454719e-17</td>\n",
       "      <td>1.042083e-17</td>\n",
       "      <td>4.188770e-17</td>\n",
       "      <td>-1.662156e-17</td>\n",
       "      <td>-0.151458</td>\n",
       "    </tr>\n",
       "    <tr>\n",
       "      <th>75%</th>\n",
       "      <td>0.000000e+00</td>\n",
       "      <td>2.882147e-18</td>\n",
       "      <td>0.000000e+00</td>\n",
       "      <td>4.935918e-01</td>\n",
       "      <td>6.016953e-17</td>\n",
       "      <td>5.609774e-18</td>\n",
       "      <td>4.896517e-01</td>\n",
       "      <td>-2.477535e-17</td>\n",
       "      <td>2.171270e-01</td>\n",
       "      <td>2.650404e-01</td>\n",
       "      <td>...</td>\n",
       "      <td>1.894909e-02</td>\n",
       "      <td>5.299182e-01</td>\n",
       "      <td>6.232031e-01</td>\n",
       "      <td>6.405395e-01</td>\n",
       "      <td>3.604995e-17</td>\n",
       "      <td>6.735880e-02</td>\n",
       "      <td>1.042083e-17</td>\n",
       "      <td>4.188770e-17</td>\n",
       "      <td>1.918637e-01</td>\n",
       "      <td>0.359923</td>\n",
       "    </tr>\n",
       "    <tr>\n",
       "      <th>max</th>\n",
       "      <td>2.745615e+01</td>\n",
       "      <td>6.030308e+00</td>\n",
       "      <td>2.847978e+01</td>\n",
       "      <td>9.806963e+00</td>\n",
       "      <td>2.865711e+01</td>\n",
       "      <td>2.340842e+01</td>\n",
       "      <td>6.268331e+00</td>\n",
       "      <td>1.814622e+01</td>\n",
       "      <td>1.041580e+01</td>\n",
       "      <td>6.075313e+01</td>\n",
       "      <td>...</td>\n",
       "      <td>6.143840e+00</td>\n",
       "      <td>7.247035e+00</td>\n",
       "      <td>3.867940e+00</td>\n",
       "      <td>3.673771e+00</td>\n",
       "      <td>6.966784e+00</td>\n",
       "      <td>4.764012e+00</td>\n",
       "      <td>2.314463e+01</td>\n",
       "      <td>1.802763e+01</td>\n",
       "      <td>8.172467e+00</td>\n",
       "      <td>23.567625</td>\n",
       "    </tr>\n",
       "  </tbody>\n",
       "</table>\n",
       "<p>8 rows × 61 columns</p>\n",
       "</div>"
      ],
      "text/plain": [
       "                 0             1             2             3             4   \\\n",
       "count  4.790000e+03  4.790000e+03  4.790000e+03  4.790000e+03  4.790000e+03   \n",
       "mean  -1.483388e-18 -1.483388e-17  5.933551e-18 -5.933551e-18  4.524333e-17   \n",
       "std    1.000104e+00  1.000104e+00  1.000104e+00  1.000104e+00  1.000104e+00   \n",
       "min   -3.566118e-01 -4.736161e+00 -1.108402e+00 -2.510722e+00 -3.170383e-01   \n",
       "25%   -2.703750e-01  2.882147e-18 -2.711224e-01 -7.081335e-01 -2.519048e-01   \n",
       "50%    0.000000e+00  2.882147e-18  0.000000e+00 -1.072709e-01  6.016953e-17   \n",
       "75%    0.000000e+00  2.882147e-18  0.000000e+00  4.935918e-01  6.016953e-17   \n",
       "max    2.745615e+01  6.030308e+00  2.847978e+01  9.806963e+00  2.865711e+01   \n",
       "\n",
       "                 5             6             7             8             9   \\\n",
       "count  4.790000e+03  4.790000e+03  4.790000e+03  4.790000e+03  4.790000e+03   \n",
       "mean  -7.416939e-18  1.186710e-17 -1.112541e-17  6.675245e-18  2.225082e-18   \n",
       "std    1.000104e+00  1.000104e+00  1.000104e+00  1.000104e+00  1.000104e+00   \n",
       "min   -1.216617e+00 -3.844358e+00 -6.382758e-01 -1.159694e+00 -2.118036e+00   \n",
       "25%    5.609774e-18 -4.734616e-01 -3.767748e-01 -5.987669e-01 -2.956834e-01   \n",
       "50%    5.609774e-18  8.095031e-03 -2.477535e-17 -2.928067e-01  0.000000e+00   \n",
       "75%    5.609774e-18  4.896517e-01 -2.477535e-17  2.171270e-01  2.650404e-01   \n",
       "max    2.340842e+01  6.268331e+00  1.814622e+01  1.041580e+01  6.075313e+01   \n",
       "\n",
       "       ...            51            52            53            54  \\\n",
       "count  ...  4.790000e+03  4.790000e+03  4.790000e+03  4.790000e+03   \n",
       "mean   ... -1.186710e-17 -1.186710e-17 -1.780065e-17  2.373420e-17   \n",
       "std    ...  1.000104e+00  1.000104e+00  1.000104e+00  1.000104e+00   \n",
       "min    ... -3.878709e+00 -5.955574e+00 -5.670569e+00 -6.841345e+00   \n",
       "25%    ...  0.000000e+00 -6.282054e-01 -7.388818e-01 -6.038237e-01   \n",
       "50%    ...  0.000000e+00  6.666879e-02 -8.132357e-02  1.837230e-02   \n",
       "75%    ...  1.894909e-02  5.299182e-01  6.232031e-01  6.405395e-01   \n",
       "max    ...  6.143840e+00  7.247035e+00  3.867940e+00  3.673771e+00   \n",
       "\n",
       "                 55            56            57            58            59  \\\n",
       "count  4.790000e+03  4.790000e+03  4.790000e+03  4.790000e+03  4.790000e+03   \n",
       "mean   0.000000e+00  1.186710e-17  0.000000e+00  1.780065e-17 -2.225082e-17   \n",
       "std    1.000104e+00  1.000104e+00  1.000104e+00  1.000104e+00  1.000104e+00   \n",
       "min   -5.085287e+00 -5.672995e+00 -2.066637e+00 -6.447803e-01 -4.238773e+00   \n",
       "25%   -2.038072e-02  3.454719e-17  1.042083e-17  4.188770e-17 -4.909576e-01   \n",
       "50%    3.604995e-17  3.454719e-17  1.042083e-17  4.188770e-17 -1.662156e-17   \n",
       "75%    3.604995e-17  6.735880e-02  1.042083e-17  4.188770e-17  1.918637e-01   \n",
       "max    6.966784e+00  4.764012e+00  2.314463e+01  1.802763e+01  8.172467e+00   \n",
       "\n",
       "                60  \n",
       "count  4790.000000  \n",
       "mean      0.000000  \n",
       "std       1.000104  \n",
       "min      -1.775847  \n",
       "25%      -0.572596  \n",
       "50%      -0.151458  \n",
       "75%       0.359923  \n",
       "max      23.567625  \n",
       "\n",
       "[8 rows x 61 columns]"
      ]
     },
     "execution_count": 33,
     "metadata": {},
     "output_type": "execute_result"
    }
   ],
   "source": [
    "X_test_norm.describe()"
   ]
  },
  {
   "cell_type": "code",
   "execution_count": 60,
   "id": "8747d5c8",
   "metadata": {
    "ExecuteTime": {
     "end_time": "2022-11-15T07:27:23.306059Z",
     "start_time": "2022-11-15T07:27:23.269988Z"
    },
    "scrolled": true
   },
   "outputs": [
    {
     "data": {
      "text/html": [
       "<div>\n",
       "<style scoped>\n",
       "    .dataframe tbody tr th:only-of-type {\n",
       "        vertical-align: middle;\n",
       "    }\n",
       "\n",
       "    .dataframe tbody tr th {\n",
       "        vertical-align: top;\n",
       "    }\n",
       "\n",
       "    .dataframe thead th {\n",
       "        text-align: right;\n",
       "    }\n",
       "</style>\n",
       "<table border=\"1\" class=\"dataframe\">\n",
       "  <thead>\n",
       "    <tr style=\"text-align: right;\">\n",
       "      <th></th>\n",
       "      <th>Predicted</th>\n",
       "    </tr>\n",
       "    <tr>\n",
       "      <th>Id</th>\n",
       "      <th></th>\n",
       "    </tr>\n",
       "  </thead>\n",
       "  <tbody>\n",
       "    <tr>\n",
       "      <th>32_175413_295037</th>\n",
       "      <td>4.384071</td>\n",
       "    </tr>\n",
       "    <tr>\n",
       "      <th>33_176176_296681</th>\n",
       "      <td>3.040878</td>\n",
       "    </tr>\n",
       "    <tr>\n",
       "      <th>42_119203_210828</th>\n",
       "      <td>2.364585</td>\n",
       "    </tr>\n",
       "    <tr>\n",
       "      <th>44_181750_291554</th>\n",
       "      <td>2.536625</td>\n",
       "    </tr>\n",
       "    <tr>\n",
       "      <th>61_176332_252348</th>\n",
       "      <td>2.854503</td>\n",
       "    </tr>\n",
       "    <tr>\n",
       "      <th>...</th>\n",
       "      <td>...</td>\n",
       "    </tr>\n",
       "    <tr>\n",
       "      <th>99883_150755_276467</th>\n",
       "      <td>3.100880</td>\n",
       "    </tr>\n",
       "    <tr>\n",
       "      <th>99897_162913_266801</th>\n",
       "      <td>2.738057</td>\n",
       "    </tr>\n",
       "    <tr>\n",
       "      <th>99913_175989_292375</th>\n",
       "      <td>2.488737</td>\n",
       "    </tr>\n",
       "    <tr>\n",
       "      <th>99944_185654_221067</th>\n",
       "      <td>2.989108</td>\n",
       "    </tr>\n",
       "    <tr>\n",
       "      <th>99992_197084_242052</th>\n",
       "      <td>4.082936</td>\n",
       "    </tr>\n",
       "  </tbody>\n",
       "</table>\n",
       "<p>4790 rows × 1 columns</p>\n",
       "</div>"
      ],
      "text/plain": [
       "                     Predicted\n",
       "Id                            \n",
       "32_175413_295037      4.384071\n",
       "33_176176_296681      3.040878\n",
       "42_119203_210828      2.364585\n",
       "44_181750_291554      2.536625\n",
       "61_176332_252348      2.854503\n",
       "...                        ...\n",
       "99883_150755_276467   3.100880\n",
       "99897_162913_266801   2.738057\n",
       "99913_175989_292375   2.488737\n",
       "99944_185654_221067   2.989108\n",
       "99992_197084_242052   4.082936\n",
       "\n",
       "[4790 rows x 1 columns]"
      ]
     },
     "execution_count": 60,
     "metadata": {},
     "output_type": "execute_result"
    }
   ],
   "source": [
    "\n",
    "result = reg1.predict(X_test_norm)\n",
    "res1 = pd.DataFrame(result.tolist(), columns=[\"Predicted\"])\n",
    "res1.index = X_test.index\n",
    "res1.index.name = 'Id'\n",
    "pd.DataFrame(res1).to_csv('out1.csv')\n",
    "#print(torch.count_nonzero(torch.from_numpy(np.array(res1)).to(torch.float32)))\n",
    "res1"
   ]
  }
 ],
 "metadata": {
  "kernelspec": {
   "display_name": "comp3340",
   "language": "python",
   "name": "comp3340"
  },
  "language_info": {
   "codemirror_mode": {
    "name": "ipython",
    "version": 3
   },
   "file_extension": ".py",
   "mimetype": "text/x-python",
   "name": "python",
   "nbconvert_exporter": "python",
   "pygments_lexer": "ipython3",
   "version": "3.7.7"
  },
  "toc": {
   "base_numbering": 1,
   "nav_menu": {},
   "number_sections": true,
   "sideBar": true,
   "skip_h1_title": false,
   "title_cell": "Table of Contents",
   "title_sidebar": "Contents",
   "toc_cell": false,
   "toc_position": {},
   "toc_section_display": true,
   "toc_window_display": true
  }
 },
 "nbformat": 4,
 "nbformat_minor": 5
}
