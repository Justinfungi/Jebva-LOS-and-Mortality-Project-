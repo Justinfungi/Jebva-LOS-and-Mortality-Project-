{
 "cells": [
  {
   "cell_type": "markdown",
   "id": "970d9aef",
   "metadata": {},
   "source": [
    "# Libraries"
   ]
  },
  {
   "cell_type": "code",
   "execution_count": 126,
   "id": "71cace5d",
   "metadata": {
    "ExecuteTime": {
     "end_time": "2022-11-27T17:24:19.696961Z",
     "start_time": "2022-11-27T17:24:19.686154Z"
    }
   },
   "outputs": [],
   "source": [
    "import torch\n",
    "import torchvision\n",
    "import torch.nn as nn\n",
    "import torch.optim as optim\n",
    "import torch.nn.functional as F\n",
    "from torch.utils.data import Dataset, DataLoader\n",
    "import torchvision.transforms as transforms\n",
    "import matplotlib.pyplot as plt\n",
    "from sklearn import metrics\n",
    "\n",
    "device = torch.device(\"cuda\" if torch.cuda.is_available() else \"cpu\")"
   ]
  },
  {
   "cell_type": "markdown",
   "id": "e5e3db1d",
   "metadata": {
    "ExecuteTime": {
     "end_time": "2022-10-27T03:47:12.458066Z",
     "start_time": "2022-10-27T03:47:12.452095Z"
    }
   },
   "source": [
    "# Import data"
   ]
  },
  {
   "cell_type": "code",
   "execution_count": 127,
   "id": "c7c7a26f",
   "metadata": {
    "ExecuteTime": {
     "end_time": "2022-11-27T17:24:20.103541Z",
     "start_time": "2022-11-27T17:24:19.699182Z"
    }
   },
   "outputs": [
    {
     "name": "stdout",
     "output_type": "stream",
     "text": [
      "************************************************************\n",
      "There are 6 set of X\n",
      "X_train_selected_t1, X_train_selected_t2, X_valid_selected_t1,X_valid_selected_t2,X_test_selected_t1,X_test_selected_t2\n",
      "------------------------------------------------------------\n",
      "Normalized version\n",
      "X_train_selected_t1_norm, X_train_selected_t2_norm, X_valid_selected_t1_norm,X_valid_selected_t2_norm,X_test_selected_t1_norm,X_test_selected_t2_norm\n",
      "------------------------------------------------------------\n",
      "There are 4 set of Y\n",
      "y_train_t1, y_train_t2, y_valid_t1, y_valid_t2\n",
      "when training, please use: 'y_train_t1_value,y_train_t2_value,y_valid_t1_value,y_valid_t2_value'\n",
      "************************************************************\n"
     ]
    }
   ],
   "source": [
    "%run Data_preprocessing_v1.ipynb"
   ]
  },
  {
   "cell_type": "code",
   "execution_count": 128,
   "id": "4aa393c8",
   "metadata": {
    "ExecuteTime": {
     "end_time": "2022-11-27T17:24:20.108388Z",
     "start_time": "2022-11-27T17:24:20.105404Z"
    }
   },
   "outputs": [
    {
     "name": "stdout",
     "output_type": "stream",
     "text": [
      "(16760, 61)\n",
      "(2394, 61)\n",
      "(4790, 61)\n"
     ]
    }
   ],
   "source": [
    "print(X_train_norm.shape)\n",
    "print(X_valid_norm.shape)\n",
    "print(X_test_norm.shape)"
   ]
  },
  {
   "cell_type": "markdown",
   "id": "560831ad",
   "metadata": {},
   "source": [
    "# Hyperparameters"
   ]
  },
  {
   "cell_type": "code",
   "execution_count": 129,
   "id": "6fb9fe03",
   "metadata": {
    "ExecuteTime": {
     "end_time": "2022-11-27T17:24:20.120557Z",
     "start_time": "2022-11-27T17:24:20.111238Z"
    }
   },
   "outputs": [],
   "source": [
    "input_size = 1\n",
    "output_size = 1 #resulting LOS\n",
    "learning_rate = 0.001\n",
    "batch_size = 64\n",
    "num_epochs = 200"
   ]
  },
  {
   "cell_type": "markdown",
   "id": "9b7e4676",
   "metadata": {},
   "source": [
    "# Create FullyNet"
   ]
  },
  {
   "cell_type": "code",
   "execution_count": 130,
   "id": "c00d907c",
   "metadata": {
    "ExecuteTime": {
     "end_time": "2022-11-27T17:24:20.128655Z",
     "start_time": "2022-11-27T17:24:20.122190Z"
    }
   },
   "outputs": [],
   "source": [
    "class NN(nn.Module):\n",
    "    def __init__(self, input_size):\n",
    "        super(NN, self).__init__()\n",
    "        #self.Conv1 = nn.Conv1d(input_size, 30, kernel_size=1)\n",
    "        #self.Conv2 = nn.Conv1d(30, 1, kernel_size=1)\n",
    "        self.fc1 = nn.Linear(61, 30)\n",
    "        self.fc2 = nn.Linear(30, 15)\n",
    "        self.fc3 = nn.Linear(15, 1)\n",
    "        \n",
    "        self.batchnorm1 = nn.BatchNorm1d(61)\n",
    "        self.batchnorm2 = nn.BatchNorm1d(30)\n",
    "        #self.batchnorm1 = nn.BatchNorm1d(16)\n",
    "        \n",
    "        self.dropout = nn.Dropout(p=0.3)\n",
    "\n",
    "        \n",
    "        \n",
    "    def forward(self, x):\n",
    "         x = self.batchnorm1(x)\n",
    "         x = F.leaky_relu(self.fc1(x))\n",
    "         x = self.dropout(x)\n",
    "            \n",
    "         x = self.batchnorm2(x)\n",
    "         x = F.leaky_relu(self.fc2(x))\n",
    "         x = self.dropout(x)\n",
    "         x = F.leaky_relu(self.fc3(x))\n",
    "         \n",
    "         return x"
   ]
  },
  {
   "cell_type": "markdown",
   "id": "076d6376",
   "metadata": {},
   "source": [
    "# Data transform"
   ]
  },
  {
   "cell_type": "code",
   "execution_count": 131,
   "id": "d7e4872c",
   "metadata": {
    "ExecuteTime": {
     "end_time": "2022-11-27T17:24:20.134279Z",
     "start_time": "2022-11-27T17:24:20.130314Z"
    }
   },
   "outputs": [],
   "source": [
    "class CusDatasetLoader(Dataset):\n",
    "    def __init__(self,x,y):\n",
    "        self.len = y.shape[0]\n",
    "        self.x_data = x\n",
    "        self.y_data = y\n",
    "  \n",
    "    def __len__(self):\n",
    "        return self.len\n",
    "\n",
    "    def __getitem__(self, index):\n",
    "        #return self.dataframe.iloc[index]\n",
    "        return self.x_data[index], self.y_data[index]"
   ]
  },
  {
   "cell_type": "code",
   "execution_count": 132,
   "id": "456be776",
   "metadata": {
    "ExecuteTime": {
     "end_time": "2022-11-27T17:24:20.140074Z",
     "start_time": "2022-11-27T17:24:20.135611Z"
    }
   },
   "outputs": [],
   "source": [
    "# X_shape(X) : used for split the data into a right tensor size\n",
    "#input: X in shape of 16760 rows × 104 columns (df)\n",
    "#output: X in shape of torch.Size([16760, 104, 1]) (tensor)\n",
    "\n",
    "def X_tensor(X):\n",
    "    X_tensor = torch.from_numpy(np.array(X)).to(torch.float32)\n",
    "    #print(X_tensor.shape)\n",
    "    #X_tensor = torch.stack(X_tensor).permute()\n",
    "    print(\"X now in shape of\",X_tensor.shape)\n",
    "    return X_tensor\n",
    "\n",
    "# y_tensor(y) : used for split the data into a right tensor size\n",
    "#input: X in shape of 16760 rows × 7488 columns (df)\n",
    "#output: X in shape of torch.Size([16760, 312, 24]) (tensor)\n",
    "\n",
    "def y_tensor(y):\n",
    "    y= torch.from_numpy(np.array(y)).to(torch.float32).reshape(len(y),1)\n",
    "    print(\"y now in shape of\",y.shape)\n",
    "    return y"
   ]
  },
  {
   "cell_type": "code",
   "execution_count": 133,
   "id": "006849f5",
   "metadata": {
    "ExecuteTime": {
     "end_time": "2022-11-27T17:24:20.152179Z",
     "start_time": "2022-11-27T17:24:20.141272Z"
    }
   },
   "outputs": [
    {
     "name": "stdout",
     "output_type": "stream",
     "text": [
      "X now in shape of torch.Size([16760, 61])\n",
      "y now in shape of torch.Size([16760, 1])\n",
      "torch.Size([61])\n",
      "torch.Size([1])\n"
     ]
    }
   ],
   "source": [
    "# X should be in smaples, 1, squence, rows\n",
    "X1 = X_tensor(X_train_selected_t2_norm)\n",
    "y1 = y_tensor(y_train_t2.iloc[:,-1].astype(float))\n",
    "\n",
    "train_datasets = CusDatasetLoader(X1, y1)\n",
    "train_loader = DataLoader(dataset=train_datasets, batch_size=batch_size, shuffle=True)\n",
    "\n",
    "x,y = train_datasets[0]\n",
    "print(x.shape)\n",
    "print(y.shape)"
   ]
  },
  {
   "cell_type": "markdown",
   "id": "e366eb01",
   "metadata": {},
   "source": [
    "# Model train"
   ]
  },
  {
   "cell_type": "code",
   "execution_count": 134,
   "id": "6443333a",
   "metadata": {
    "ExecuteTime": {
     "end_time": "2022-11-27T17:24:20.161132Z",
     "start_time": "2022-11-27T17:24:20.154382Z"
    }
   },
   "outputs": [],
   "source": [
    "model = NN(input_size).to(device)"
   ]
  },
  {
   "cell_type": "raw",
   "id": "521238bb",
   "metadata": {
    "ExecuteTime": {
     "end_time": "2022-11-10T17:45:27.568519Z",
     "start_time": "2022-11-10T17:45:27.562929Z"
    }
   },
   "source": [
    "# Criterion and optimizer setting\n",
    "\n",
    "criterion = nn.MSELoss()\n",
    "optimizer = optim.Adam(model.parameters(), lr = learning_rate)"
   ]
  },
  {
   "cell_type": "code",
   "execution_count": 135,
   "id": "e73149f1",
   "metadata": {
    "ExecuteTime": {
     "end_time": "2022-11-27T17:24:20.169027Z",
     "start_time": "2022-11-27T17:24:20.165645Z"
    }
   },
   "outputs": [],
   "source": [
    "#optimizer = torch.optim.SGD(model.parameters(),lr=learning_rate)\n",
    "#optimizer = optim.Adam(model.parameters(), lr = learning_rate)\n",
    "optimizer = optim.Adadelta(model.parameters(), lr = learning_rate)\n",
    "criterion = torch.nn.MSELoss()"
   ]
  },
  {
   "cell_type": "code",
   "execution_count": 137,
   "id": "680547a7",
   "metadata": {
    "ExecuteTime": {
     "end_time": "2022-11-27T17:28:11.388884Z",
     "start_time": "2022-11-27T17:24:53.869782Z"
    },
    "scrolled": true
   },
   "outputs": [
    {
     "name": "stdout",
     "output_type": "stream",
     "text": [
      "Epoch 000: | Loss: 15.84093 | Acc: 0.000\n",
      "Epoch 001: | Loss: 13.73359 | Acc: 0.000\n",
      "Epoch 002: | Loss: 14.85134 | Acc: 0.000\n",
      "Epoch 003: | Loss: 16.67937 | Acc: 0.000\n",
      "Epoch 004: | Loss: 15.98449 | Acc: 0.000\n",
      "Epoch 005: | Loss: 11.85315 | Acc: 0.000\n",
      "Epoch 006: | Loss: 12.71204 | Acc: 0.000\n",
      "Epoch 007: | Loss: 10.45115 | Acc: 0.000\n",
      "Epoch 008: | Loss: 9.22530 | Acc: 0.000\n",
      "Epoch 009: | Loss: 10.49659 | Acc: 0.000\n",
      "Epoch 010: | Loss: 10.37810 | Acc: 0.000\n",
      "Epoch 011: | Loss: 11.51035 | Acc: 0.000\n",
      "Epoch 012: | Loss: 10.04993 | Acc: 0.000\n",
      "Epoch 013: | Loss: 9.10179 | Acc: 0.000\n",
      "Epoch 014: | Loss: 13.67493 | Acc: 0.000\n",
      "Epoch 015: | Loss: 11.22262 | Acc: 0.000\n",
      "Epoch 016: | Loss: 17.77494 | Acc: 0.000\n",
      "Epoch 017: | Loss: 11.38105 | Acc: 0.000\n",
      "Epoch 018: | Loss: 12.38168 | Acc: 0.000\n",
      "Epoch 019: | Loss: 13.82503 | Acc: 0.000\n",
      "Epoch 020: | Loss: 8.88041 | Acc: 0.000\n",
      "Epoch 021: | Loss: 15.35923 | Acc: 0.000\n",
      "Epoch 022: | Loss: 10.43327 | Acc: 0.000\n",
      "Epoch 023: | Loss: 11.90204 | Acc: 0.000\n",
      "Epoch 024: | Loss: 13.38065 | Acc: 0.000\n",
      "Epoch 025: | Loss: 12.97952 | Acc: 0.000\n",
      "Epoch 026: | Loss: 9.55918 | Acc: 0.000\n",
      "Epoch 027: | Loss: 9.28708 | Acc: 0.000\n",
      "Epoch 028: | Loss: 17.05619 | Acc: 0.000\n",
      "Epoch 029: | Loss: 10.20580 | Acc: 0.000\n",
      "Epoch 030: | Loss: 11.69763 | Acc: 0.000\n",
      "Epoch 031: | Loss: 13.10690 | Acc: 0.000\n",
      "Epoch 032: | Loss: 10.08873 | Acc: 0.000\n",
      "Epoch 033: | Loss: 10.67775 | Acc: 0.000\n",
      "Epoch 034: | Loss: 12.01186 | Acc: 0.000\n",
      "Epoch 035: | Loss: 9.94184 | Acc: 0.000\n",
      "Epoch 036: | Loss: 10.20234 | Acc: 0.000\n",
      "Epoch 037: | Loss: 11.44059 | Acc: 0.000\n",
      "Epoch 038: | Loss: 8.52687 | Acc: 0.000\n",
      "Epoch 039: | Loss: 10.93963 | Acc: 0.000\n",
      "Epoch 040: | Loss: 10.86288 | Acc: 0.000\n",
      "Epoch 041: | Loss: 8.07828 | Acc: 0.000\n",
      "Epoch 042: | Loss: 16.72797 | Acc: 0.000\n",
      "Epoch 043: | Loss: 13.88990 | Acc: 0.000\n",
      "Epoch 044: | Loss: 12.13643 | Acc: 0.000\n",
      "Epoch 045: | Loss: 11.41030 | Acc: 0.000\n",
      "Epoch 046: | Loss: 9.44365 | Acc: 0.000\n",
      "Epoch 047: | Loss: 10.34260 | Acc: 0.000\n",
      "Epoch 048: | Loss: 9.61581 | Acc: 0.000\n",
      "Epoch 049: | Loss: 10.10350 | Acc: 0.000\n",
      "Epoch 050: | Loss: 8.91203 | Acc: 0.000\n",
      "Epoch 051: | Loss: 8.59663 | Acc: 0.000\n",
      "Epoch 052: | Loss: 10.07111 | Acc: 0.000\n",
      "Epoch 053: | Loss: 10.08515 | Acc: 0.000\n",
      "Epoch 054: | Loss: 9.93220 | Acc: 0.000\n",
      "Epoch 055: | Loss: 12.67691 | Acc: 0.000\n",
      "Epoch 056: | Loss: 7.70789 | Acc: 0.000\n",
      "Epoch 057: | Loss: 6.78960 | Acc: 0.000\n",
      "Epoch 058: | Loss: 9.64616 | Acc: 0.000\n",
      "Epoch 059: | Loss: 10.66029 | Acc: 0.000\n",
      "Epoch 060: | Loss: 6.82248 | Acc: 0.000\n",
      "Epoch 061: | Loss: 8.90928 | Acc: 0.000\n",
      "Epoch 062: | Loss: 8.22616 | Acc: 0.000\n",
      "Epoch 063: | Loss: 9.53011 | Acc: 0.000\n",
      "Epoch 064: | Loss: 8.02012 | Acc: 0.000\n",
      "Epoch 065: | Loss: 7.01109 | Acc: 0.000\n",
      "Epoch 066: | Loss: 9.99377 | Acc: 0.000\n",
      "Epoch 067: | Loss: 7.31055 | Acc: 0.000\n",
      "Epoch 068: | Loss: 6.99966 | Acc: 0.000\n",
      "Epoch 069: | Loss: 4.67560 | Acc: 0.000\n",
      "Epoch 070: | Loss: 6.37181 | Acc: 0.000\n",
      "Epoch 071: | Loss: 3.97125 | Acc: 0.000\n",
      "Epoch 072: | Loss: 7.09451 | Acc: 0.000\n",
      "Epoch 073: | Loss: 9.41500 | Acc: 0.000\n",
      "Epoch 074: | Loss: 9.52090 | Acc: 0.000\n",
      "Epoch 075: | Loss: 8.37834 | Acc: 0.000\n",
      "Epoch 076: | Loss: 8.18147 | Acc: 0.000\n",
      "Epoch 077: | Loss: 9.50992 | Acc: 0.000\n",
      "Epoch 078: | Loss: 9.14607 | Acc: 0.000\n",
      "Epoch 079: | Loss: 6.72792 | Acc: 0.000\n",
      "Epoch 080: | Loss: 5.68420 | Acc: 0.000\n",
      "Epoch 081: | Loss: 5.48419 | Acc: 0.000\n",
      "Epoch 082: | Loss: 7.36877 | Acc: 0.000\n",
      "Epoch 083: | Loss: 7.83964 | Acc: 0.000\n",
      "Epoch 084: | Loss: 5.33187 | Acc: 0.000\n",
      "Epoch 085: | Loss: 7.29465 | Acc: 0.000\n",
      "Epoch 086: | Loss: 6.53304 | Acc: 0.000\n",
      "Epoch 087: | Loss: 9.32736 | Acc: 0.000\n",
      "Epoch 088: | Loss: 6.52949 | Acc: 0.000\n",
      "Epoch 089: | Loss: 6.49866 | Acc: 0.000\n",
      "Epoch 090: | Loss: 7.82951 | Acc: 0.000\n",
      "Epoch 091: | Loss: 7.17519 | Acc: 0.000\n",
      "Epoch 092: | Loss: 9.18800 | Acc: 0.000\n",
      "Epoch 093: | Loss: 3.19176 | Acc: 0.000\n",
      "Epoch 094: | Loss: 9.04638 | Acc: 0.000\n",
      "Epoch 095: | Loss: 4.90153 | Acc: 0.000\n",
      "Epoch 096: | Loss: 4.24037 | Acc: 0.000\n",
      "Epoch 097: | Loss: 6.63754 | Acc: 0.000\n",
      "Epoch 098: | Loss: 7.01204 | Acc: 0.000\n",
      "Epoch 099: | Loss: 5.34140 | Acc: 0.000\n",
      "Epoch 100: | Loss: 8.17762 | Acc: 0.000\n",
      "Epoch 101: | Loss: 5.80481 | Acc: 0.000\n",
      "Epoch 102: | Loss: 8.97582 | Acc: 0.000\n",
      "Epoch 103: | Loss: 6.56411 | Acc: 0.000\n",
      "Epoch 104: | Loss: 7.10391 | Acc: 0.000\n",
      "Epoch 105: | Loss: 7.50830 | Acc: 0.000\n",
      "Epoch 106: | Loss: 5.76320 | Acc: 0.000\n",
      "Epoch 107: | Loss: 6.56153 | Acc: 0.000\n",
      "Epoch 108: | Loss: 5.18577 | Acc: 0.000\n",
      "Epoch 109: | Loss: 7.74653 | Acc: 0.000\n",
      "Epoch 110: | Loss: 4.84884 | Acc: 0.000\n",
      "Epoch 111: | Loss: 3.69554 | Acc: 0.000\n",
      "Epoch 112: | Loss: 4.31243 | Acc: 0.000\n",
      "Epoch 113: | Loss: 4.70370 | Acc: 0.000\n",
      "Epoch 114: | Loss: 5.83428 | Acc: 0.000\n",
      "Epoch 115: | Loss: 9.82818 | Acc: 0.000\n",
      "Epoch 116: | Loss: 4.15515 | Acc: 0.000\n",
      "Epoch 117: | Loss: 4.49686 | Acc: 0.000\n",
      "Epoch 118: | Loss: 6.35652 | Acc: 0.000\n",
      "Epoch 119: | Loss: 5.00315 | Acc: 0.000\n",
      "Epoch 120: | Loss: 8.04651 | Acc: 0.000\n",
      "Epoch 121: | Loss: 5.13324 | Acc: 0.000\n",
      "Epoch 122: | Loss: 6.31834 | Acc: 0.000\n",
      "Epoch 123: | Loss: 5.33558 | Acc: 0.000\n",
      "Epoch 124: | Loss: 7.05840 | Acc: 0.000\n",
      "Epoch 125: | Loss: 4.96146 | Acc: 0.000\n",
      "Epoch 126: | Loss: 6.28204 | Acc: 0.000\n",
      "Epoch 127: | Loss: 5.77590 | Acc: 0.000\n",
      "Epoch 128: | Loss: 6.35048 | Acc: 0.000\n",
      "Epoch 129: | Loss: 6.24095 | Acc: 0.000\n",
      "Epoch 130: | Loss: 6.89080 | Acc: 0.000\n",
      "Epoch 131: | Loss: 5.15033 | Acc: 0.000\n",
      "Epoch 132: | Loss: 3.43347 | Acc: 0.000\n",
      "Epoch 133: | Loss: 4.40404 | Acc: 0.000\n",
      "Epoch 134: | Loss: 4.62623 | Acc: 0.000\n",
      "Epoch 135: | Loss: 4.10583 | Acc: 0.000\n",
      "Epoch 136: | Loss: 5.23936 | Acc: 0.000\n",
      "Epoch 137: | Loss: 3.51066 | Acc: 0.000\n",
      "Epoch 138: | Loss: 3.17409 | Acc: 0.000\n",
      "Epoch 139: | Loss: 3.11787 | Acc: 0.000\n",
      "Epoch 140: | Loss: 5.47437 | Acc: 0.000\n",
      "Epoch 141: | Loss: 7.81259 | Acc: 0.000\n",
      "Epoch 142: | Loss: 5.48310 | Acc: 0.000\n",
      "Epoch 143: | Loss: 6.01561 | Acc: 0.000\n",
      "Epoch 144: | Loss: 6.26657 | Acc: 0.000\n",
      "Epoch 145: | Loss: 3.96401 | Acc: 0.000\n",
      "Epoch 146: | Loss: 6.78037 | Acc: 0.000\n",
      "Epoch 147: | Loss: 4.82641 | Acc: 0.000\n",
      "Epoch 148: | Loss: 5.54418 | Acc: 0.000\n",
      "Epoch 149: | Loss: 3.81085 | Acc: 0.000\n",
      "Epoch 150: | Loss: 6.37879 | Acc: 0.000\n",
      "Epoch 151: | Loss: 5.78441 | Acc: 0.000\n",
      "Epoch 152: | Loss: 6.33933 | Acc: 0.000\n",
      "Epoch 153: | Loss: 5.47877 | Acc: 0.000\n",
      "Epoch 154: | Loss: 6.39889 | Acc: 0.000\n",
      "Epoch 155: | Loss: 5.21684 | Acc: 0.000\n",
      "Epoch 156: | Loss: 7.31903 | Acc: 0.000\n",
      "Epoch 157: | Loss: 6.81783 | Acc: 0.000\n",
      "Epoch 158: | Loss: 8.45093 | Acc: 0.000\n",
      "Epoch 159: | Loss: 3.25080 | Acc: 0.000\n",
      "Epoch 160: | Loss: 6.87192 | Acc: 0.000\n",
      "Epoch 161: | Loss: 4.91274 | Acc: 0.000\n",
      "Epoch 162: | Loss: 4.83838 | Acc: 0.000\n",
      "Epoch 163: | Loss: 3.98822 | Acc: 0.000\n",
      "Epoch 164: | Loss: 5.45303 | Acc: 0.000\n",
      "Epoch 165: | Loss: 7.02425 | Acc: 0.000\n",
      "Epoch 166: | Loss: 3.55419 | Acc: 0.000\n",
      "Epoch 167: | Loss: 5.66594 | Acc: 0.000\n",
      "Epoch 168: | Loss: 7.07326 | Acc: 0.000\n",
      "Epoch 169: | Loss: 5.42333 | Acc: 0.000\n",
      "Epoch 170: | Loss: 4.74435 | Acc: 0.000\n",
      "Epoch 171: | Loss: 4.19023 | Acc: 0.000\n",
      "Epoch 172: | Loss: 7.79622 | Acc: 0.000\n",
      "Epoch 173: | Loss: 3.48681 | Acc: 0.000\n",
      "Epoch 174: | Loss: 7.27518 | Acc: 0.000\n",
      "Epoch 175: | Loss: 5.74240 | Acc: 0.000\n",
      "Epoch 176: | Loss: 2.65097 | Acc: 0.000\n",
      "Epoch 177: | Loss: 4.56273 | Acc: 0.000\n",
      "Epoch 178: | Loss: 2.58595 | Acc: 0.000\n",
      "Epoch 179: | Loss: 5.62333 | Acc: 0.000\n",
      "Epoch 180: | Loss: 4.99630 | Acc: 0.000\n",
      "Epoch 181: | Loss: 4.14003 | Acc: 0.000\n",
      "Epoch 182: | Loss: 2.97127 | Acc: 0.000\n",
      "Epoch 183: | Loss: 4.70391 | Acc: 0.000\n",
      "Epoch 184: | Loss: 2.78680 | Acc: 0.000\n",
      "Epoch 185: | Loss: 4.74307 | Acc: 0.000\n",
      "Epoch 186: | Loss: 5.05549 | Acc: 0.000\n",
      "Epoch 187: | Loss: 4.99494 | Acc: 0.000\n",
      "Epoch 188: | Loss: 6.54834 | Acc: 0.000\n",
      "Epoch 189: | Loss: 5.66715 | Acc: 0.000\n",
      "Epoch 190: | Loss: 4.26540 | Acc: 0.000\n",
      "Epoch 191: | Loss: 4.83398 | Acc: 0.000\n",
      "Epoch 192: | Loss: 4.76363 | Acc: 0.000\n",
      "Epoch 193: | Loss: 4.48183 | Acc: 0.000\n",
      "Epoch 194: | Loss: 5.71355 | Acc: 0.000\n",
      "Epoch 195: | Loss: 5.32981 | Acc: 0.000\n",
      "Epoch 196: | Loss: 2.82526 | Acc: 0.000\n",
      "Epoch 197: | Loss: 6.02453 | Acc: 0.000\n",
      "Epoch 198: | Loss: 5.41610 | Acc: 0.000\n",
      "Epoch 199: | Loss: 3.38734 | Acc: 0.000\n"
     ]
    }
   ],
   "source": [
    "losses=[]\n",
    "acc_list=[]\n",
    "\n",
    "for epoch in range(num_epochs):\n",
    "    for batch_idx, (data, targets) in enumerate(train_loader):\n",
    "        num_correct = 0\n",
    "        num_samples = 0\n",
    "        data = data.to(device=device)\n",
    "        targets = targets.to(device=device)\n",
    "        \n",
    "        # forward\n",
    "        #print(data.shape)\n",
    "        scores = model(data)\n",
    "        loss = criterion(scores, targets)\n",
    "        \n",
    "        l2_lambda = 5e-05\n",
    "        l2_norm = sum(p.pow(2.0).sum()\n",
    "                  for p in model.parameters())\n",
    " \n",
    "        loss = loss + l2_lambda * l2_norm\n",
    "        \n",
    "        # backward\n",
    "        optimizer.zero_grad()\n",
    "        loss.backward()\n",
    "        \n",
    "        \n",
    "        # gradient descent or adam step\n",
    "        optimizer.step()\n",
    "        \n",
    "        #accuracy\n",
    "        scores = model(data)\n",
    "        predictions = scores\n",
    "        predictions = predictions.detach().apply_( lambda x: 1 if x >= 0.5 else 0 )\n",
    "        num_correct += int((predictions == targets).sum())\n",
    "        num_samples += predictions.size(0)\n",
    "        acc = num_correct / num_samples\n",
    "        \n",
    "    if epoch%5 == 0:\n",
    "        losses.append(loss.detach().numpy() )\n",
    "    print(f'Epoch {epoch:03}: | Loss: {loss:.5f} | Acc: {acc:.3f}')\n",
    "        \n",
    "        "
   ]
  },
  {
   "cell_type": "code",
   "execution_count": null,
   "id": "b4fcb9b7",
   "metadata": {
    "ExecuteTime": {
     "end_time": "2022-11-27T17:24:48.096661Z",
     "start_time": "2022-11-27T17:24:48.096633Z"
    }
   },
   "outputs": [],
   "source": [
    "#plotting the loss\n",
    "x_range = list(range(5,5*len(losses)+5,5))\n",
    "plt.plot(x_range,losses)\n",
    "plt.title('Loss vs Epochs')\n",
    "plt.xlabel('Epochs')\n",
    "plt.ylabel('loss')\n",
    "plt.show()"
   ]
  },
  {
   "cell_type": "markdown",
   "id": "06bcbff7",
   "metadata": {
    "ExecuteTime": {
     "end_time": "2022-10-28T17:23:14.669685Z",
     "start_time": "2022-10-28T17:23:14.663564Z"
    },
    "heading_collapsed": true
   },
   "source": [
    "# Model RMSE"
   ]
  },
  {
   "cell_type": "code",
   "execution_count": null,
   "id": "48a94a4e",
   "metadata": {
    "ExecuteTime": {
     "end_time": "2022-11-27T17:24:48.099408Z",
     "start_time": "2022-11-27T17:24:48.099371Z"
    },
    "hidden": true
   },
   "outputs": [],
   "source": [
    "# Check accuracy on training & test to see how good our model\n",
    "def check_accuracy(loader, model):\n",
    "    num_correct = 0\n",
    "    num_samples = 0\n",
    "\n",
    "    # Set model to eval\n",
    "    model.eval()\n",
    "\n",
    "    with torch.no_grad():\n",
    "        for x, y in train_loader:\n",
    "            x = x.to(device=device)\n",
    "            y.to(device=device)\n",
    "            #y = torch.squeeze(y.to(device=device), 1)\n",
    "            #print(y.shape)\n",
    "\n",
    "            scores = model(x)\n",
    "            predictions = scores\n",
    "            predictions = predictions.apply_( lambda x: 1 if x >= 0.5 else 0 )\n",
    "            num_correct += int((predictions == y).sum())\n",
    "            num_samples += predictions.size(0)\n",
    "\n",
    "    # Toggle model back to train\n",
    "    model.train()\n",
    "    return num_correct / num_samples"
   ]
  },
  {
   "cell_type": "code",
   "execution_count": null,
   "id": "f370065c",
   "metadata": {
    "ExecuteTime": {
     "end_time": "2022-11-27T17:24:48.102755Z",
     "start_time": "2022-11-27T17:24:48.102724Z"
    },
    "hidden": true
   },
   "outputs": [],
   "source": [
    "print(f\"Accuracy on training set: {check_accuracy(train_loader, model)*100:2f} %\")\n",
    "#print(f\"Accuracy on test set: {check_accuracy(test_loader, model)*100:.2f} %\")"
   ]
  },
  {
   "cell_type": "code",
   "execution_count": null,
   "id": "7194f3f0",
   "metadata": {
    "ExecuteTime": {
     "end_time": "2022-11-27T17:24:48.105042Z",
     "start_time": "2022-11-27T17:24:48.105010Z"
    },
    "hidden": true
   },
   "outputs": [],
   "source": [
    "X2 = X_tensor(X_valid_norm)\n",
    "y2 = y_tensor(y_valid_t2.iloc[:,-1])\n",
    "\n",
    "Valid_datasets = CusDatasetLoader(X2, y2)\n",
    "Valid_loader = DataLoader(dataset=Valid_datasets, batch_size=batch_size, shuffle=True)\n",
    "print(f\"Accuracy on valid set: {check_accuracy(Valid_loader, model)*100:.2f} %\")"
   ]
  },
  {
   "cell_type": "markdown",
   "id": "b16acbcd",
   "metadata": {},
   "source": [
    "# Test"
   ]
  },
  {
   "cell_type": "code",
   "execution_count": null,
   "id": "0fc30b2a",
   "metadata": {
    "ExecuteTime": {
     "end_time": "2022-11-27T17:24:48.107357Z",
     "start_time": "2022-11-27T17:24:48.107341Z"
    }
   },
   "outputs": [],
   "source": [
    "def test(loader, model):\n",
    "    # Set model to eval\n",
    "    model.eval()\n",
    "    res = torch.tensor([], dtype=torch.int64)\n",
    "    with torch.no_grad():\n",
    "        for x, y in loader:\n",
    "            x = x.to(device=device)\n",
    "            y.to(device=device)\n",
    "\n",
    "            scores = model(x)\n",
    "            predictions = scores\n",
    "            res =  torch.cat((predictions, res), 0)  \n",
    "    model.train()\n",
    "   \n",
    "    return res"
   ]
  },
  {
   "cell_type": "code",
   "execution_count": null,
   "id": "66e51253",
   "metadata": {
    "ExecuteTime": {
     "end_time": "2022-11-27T17:24:48.108795Z",
     "start_time": "2022-11-27T17:24:48.108778Z"
    }
   },
   "outputs": [],
   "source": [
    "X_test_final = X_tensor(X_test_norm)\n",
    "y_final = torch.zeros([4790,1])\n",
    "\n",
    "test_datasets = CusDatasetLoader(X_test_final, y_final)\n",
    "test_loader = DataLoader(dataset=test_datasets, batch_size=batch_size, shuffle=True)\n",
    "\n",
    "result = test(test_loader, model)\n",
    "result"
   ]
  },
  {
   "cell_type": "code",
   "execution_count": null,
   "id": "8747d5c8",
   "metadata": {
    "ExecuteTime": {
     "end_time": "2022-11-27T17:24:48.109958Z",
     "start_time": "2022-11-27T17:24:48.109948Z"
    },
    "scrolled": true
   },
   "outputs": [],
   "source": [
    "\n",
    "#df.index = ['Row_1', 'Row_2', 'Row_3', 'Row_4']\n",
    "res1 = pd.DataFrame(result.tolist(), columns=[\"Predicted\"])\n",
    "res1.index = X_test.index\n",
    "res1.index.name = 'Id'\n",
    "pd.DataFrame(res1).to_csv('outfullynet.csv')\n",
    "#print(torch.count_nonzero(torch.from_numpy(np.array(res1)).to(torch.float32)))\n",
    "res1"
   ]
  }
 ],
 "metadata": {
  "kernelspec": {
   "display_name": "comp3340",
   "language": "python",
   "name": "comp3340"
  },
  "language_info": {
   "codemirror_mode": {
    "name": "ipython",
    "version": 3
   },
   "file_extension": ".py",
   "mimetype": "text/x-python",
   "name": "python",
   "nbconvert_exporter": "python",
   "pygments_lexer": "ipython3",
   "version": "3.7.7"
  },
  "toc": {
   "base_numbering": 1,
   "nav_menu": {},
   "number_sections": true,
   "sideBar": true,
   "skip_h1_title": false,
   "title_cell": "Table of Contents",
   "title_sidebar": "Contents",
   "toc_cell": false,
   "toc_position": {},
   "toc_section_display": true,
   "toc_window_display": true
  }
 },
 "nbformat": 4,
 "nbformat_minor": 5
}
