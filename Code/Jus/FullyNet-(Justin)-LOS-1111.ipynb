{
 "cells": [
  {
   "cell_type": "markdown",
   "id": "970d9aef",
   "metadata": {},
   "source": [
    "# Libraries"
   ]
  },
  {
   "cell_type": "code",
   "execution_count": 7,
   "id": "71cace5d",
   "metadata": {
    "ExecuteTime": {
     "end_time": "2022-11-26T15:11:43.556920Z",
     "start_time": "2022-11-26T15:11:43.549548Z"
    }
   },
   "outputs": [],
   "source": [
    "import torch\n",
    "import torchvision\n",
    "import torch.nn as nn\n",
    "import torch.optim as optim\n",
    "import torch.nn.functional as F\n",
    "from torch.utils.data import Dataset, DataLoader\n",
    "import torchvision.transforms as transforms\n",
    "import matplotlib.pyplot as plt\n",
    "from sklearn import metrics\n",
    "\n",
    "device = torch.device(\"cuda\" if torch.cuda.is_available() else \"cpu\")"
   ]
  },
  {
   "cell_type": "markdown",
   "id": "e5e3db1d",
   "metadata": {
    "ExecuteTime": {
     "end_time": "2022-10-27T03:47:12.458066Z",
     "start_time": "2022-10-27T03:47:12.452095Z"
    }
   },
   "source": [
    "# Import data"
   ]
  },
  {
   "cell_type": "code",
   "execution_count": 30,
   "id": "c7c7a26f",
   "metadata": {
    "ExecuteTime": {
     "end_time": "2022-11-26T15:24:32.548360Z",
     "start_time": "2022-11-26T15:23:53.982149Z"
    }
   },
   "outputs": [
    {
     "name": "stdout",
     "output_type": "stream",
     "text": [
      "************************************************************\n",
      "There are 6 set of X\n",
      "X_*_nozero\n",
      "------------------------------------------------------------\n",
      "Normalized version\n",
      "X_*_norm\n",
      "------------------------------------------------------------\n",
      "There are 4 set of Y\n",
      "y_train_t1, y_train_t2, y_valid_t1, y_valid_t2\n",
      "when training, please use: 'y_train_t1_value,y_train_t2_value,y_valid_t1_value,y_valid_t2_value'\n",
      "************************************************************\n"
     ]
    }
   ],
   "source": [
    "%run Data_preprocessing.ipynb"
   ]
  },
  {
   "cell_type": "code",
   "execution_count": 31,
   "id": "4aa393c8",
   "metadata": {
    "ExecuteTime": {
     "end_time": "2022-11-26T15:25:04.193451Z",
     "start_time": "2022-11-26T15:25:04.189784Z"
    }
   },
   "outputs": [
    {
     "name": "stdout",
     "output_type": "stream",
     "text": [
      "(16760, 61)\n",
      "(2394, 61)\n",
      "(4790, 61)\n"
     ]
    }
   ],
   "source": [
    "print(X_train_norm.shape)\n",
    "print(X_valid_norm.shape)\n",
    "print(X_test_norm.shape)"
   ]
  },
  {
   "cell_type": "markdown",
   "id": "560831ad",
   "metadata": {},
   "source": [
    "# Hyperparameters"
   ]
  },
  {
   "cell_type": "code",
   "execution_count": 10,
   "id": "6fb9fe03",
   "metadata": {
    "ExecuteTime": {
     "end_time": "2022-11-26T15:12:09.895823Z",
     "start_time": "2022-11-26T15:12:09.886024Z"
    }
   },
   "outputs": [],
   "source": [
    "input_size = X_train_norm.shape[1]\n",
    "output_size = 1 #resulting LOS\n",
    "learning_rate = 0.01\n",
    "batch_size = 64\n",
    "num_epochs = 200"
   ]
  },
  {
   "cell_type": "markdown",
   "id": "9b7e4676",
   "metadata": {},
   "source": [
    "# Create FullyNet"
   ]
  },
  {
   "cell_type": "code",
   "execution_count": 11,
   "id": "c00d907c",
   "metadata": {
    "ExecuteTime": {
     "end_time": "2022-11-26T15:12:09.902482Z",
     "start_time": "2022-11-26T15:12:09.897333Z"
    }
   },
   "outputs": [],
   "source": [
    "class NN(nn.Module):\n",
    "    def __init__(self, input_size):\n",
    "        super(NN, self).__init__()\n",
    "        self.fc1 = nn.Linear(input_size, 30)\n",
    "        self.fc2 = nn.Linear(30, 15)\n",
    "        self.fc3 = nn.Linear(15, 1)\n",
    "        \n",
    "        self.batchnorm1 = nn.BatchNorm1d(30)\n",
    "        self.dropout = nn.Dropout(p=0.1)\n",
    "\n",
    "        \n",
    "        \n",
    "    def forward(self, x):\n",
    "         x = F.leaky_relu(self.fc1(x))\n",
    "         x = self.batchnorm1(x)\n",
    "         x = F.leaky_relu(self.fc2(x))\n",
    "         x = self.dropout(x)\n",
    "         x = F.leaky_relu(self.fc3(x))\n",
    "         \n",
    "         return x"
   ]
  },
  {
   "cell_type": "markdown",
   "id": "076d6376",
   "metadata": {
    "heading_collapsed": true
   },
   "source": [
    "# Data transform"
   ]
  },
  {
   "cell_type": "code",
   "execution_count": 12,
   "id": "d7e4872c",
   "metadata": {
    "ExecuteTime": {
     "end_time": "2022-11-26T15:12:09.917224Z",
     "start_time": "2022-11-26T15:12:09.903963Z"
    },
    "hidden": true
   },
   "outputs": [],
   "source": [
    "class CusDatasetLoader(Dataset):\n",
    "    def __init__(self,x,y):\n",
    "        self.len = y.shape[0]\n",
    "        self.x_data = x\n",
    "        self.y_data = y\n",
    "  \n",
    "    def __len__(self):\n",
    "        return self.len\n",
    "\n",
    "    def __getitem__(self, index):\n",
    "        #return self.dataframe.iloc[index]\n",
    "        return self.x_data[index], self.y_data[index]"
   ]
  },
  {
   "cell_type": "code",
   "execution_count": 13,
   "id": "456be776",
   "metadata": {
    "ExecuteTime": {
     "end_time": "2022-11-26T15:12:09.934891Z",
     "start_time": "2022-11-26T15:12:09.920089Z"
    },
    "hidden": true
   },
   "outputs": [],
   "source": [
    "# X_shape(X) : used for split the data into a right tensor size\n",
    "#input: X in shape of 16760 rows × 104 columns (df)\n",
    "#output: X in shape of torch.Size([16760, 104, 1]) (tensor)\n",
    "\n",
    "def X_tensor(X):\n",
    "    X_tensor = torch.from_numpy(np.array(X)).to(torch.float32)\n",
    "    #print(X_tensor.shape)\n",
    "    #X_tensor = torch.stack(X_tensor).permute()\n",
    "    print(\"X now in shape of\",X_tensor.shape)\n",
    "    return X_tensor\n",
    "\n",
    "# y_tensor(y) : used for split the data into a right tensor size\n",
    "#input: X in shape of 16760 rows × 7488 columns (df)\n",
    "#output: X in shape of torch.Size([16760, 312, 24]) (tensor)\n",
    "\n",
    "def y_tensor(y):\n",
    "    y= torch.from_numpy(np.array(y)).to(torch.float32).reshape(len(y),1)\n",
    "    print(\"y now in shape of\",y.shape)\n",
    "    return y"
   ]
  },
  {
   "cell_type": "code",
   "execution_count": 14,
   "id": "006849f5",
   "metadata": {
    "ExecuteTime": {
     "end_time": "2022-11-26T15:12:09.962401Z",
     "start_time": "2022-11-26T15:12:09.939388Z"
    },
    "hidden": true
   },
   "outputs": [
    {
     "name": "stdout",
     "output_type": "stream",
     "text": [
      "X now in shape of torch.Size([16760, 61])\n",
      "y now in shape of torch.Size([16760, 1])\n",
      "torch.Size([61])\n",
      "torch.Size([1])\n"
     ]
    }
   ],
   "source": [
    "# X should be in smaples, 1, squence, rows\n",
    "X1 = X_tensor(X_train_norm)\n",
    "y1 = y_tensor(y_train_t2.iloc[:,-1].astype(float))\n",
    "\n",
    "train_datasets = CusDatasetLoader(X1, y1)\n",
    "train_loader = DataLoader(dataset=train_datasets, batch_size=batch_size, shuffle=True)\n",
    "\n",
    "x,y = train_datasets[0]\n",
    "print(x.shape)\n",
    "print(y.shape)"
   ]
  },
  {
   "cell_type": "markdown",
   "id": "e366eb01",
   "metadata": {},
   "source": [
    "# Model train"
   ]
  },
  {
   "cell_type": "code",
   "execution_count": 15,
   "id": "6443333a",
   "metadata": {
    "ExecuteTime": {
     "end_time": "2022-11-26T15:12:09.985557Z",
     "start_time": "2022-11-26T15:12:09.967647Z"
    }
   },
   "outputs": [],
   "source": [
    "model = NN(input_size).to(device)"
   ]
  },
  {
   "cell_type": "raw",
   "id": "521238bb",
   "metadata": {
    "ExecuteTime": {
     "end_time": "2022-11-10T17:45:27.568519Z",
     "start_time": "2022-11-10T17:45:27.562929Z"
    }
   },
   "source": [
    "# Criterion and optimizer setting\n",
    "\n",
    "criterion = nn.MSELoss()\n",
    "optimizer = optim.Adam(model.parameters(), lr = learning_rate)"
   ]
  },
  {
   "cell_type": "code",
   "execution_count": 16,
   "id": "e73149f1",
   "metadata": {
    "ExecuteTime": {
     "end_time": "2022-11-26T15:12:09.990741Z",
     "start_time": "2022-11-26T15:12:09.987608Z"
    }
   },
   "outputs": [],
   "source": [
    "#optimizer = torch.optim.SGD(model.parameters(),lr=learning_rate)\n",
    "#optimizer = optim.Adam(model.parameters(), lr = learning_rate)\n",
    "optimizer = optim.Adadelta(model.parameters(), lr = learning_rate)\n",
    "criterion = torch.nn.MSELoss()"
   ]
  },
  {
   "cell_type": "code",
   "execution_count": 17,
   "id": "680547a7",
   "metadata": {
    "ExecuteTime": {
     "end_time": "2022-11-26T15:15:03.696688Z",
     "start_time": "2022-11-26T15:12:09.992404Z"
    },
    "scrolled": true
   },
   "outputs": [
    {
     "name": "stdout",
     "output_type": "stream",
     "text": [
      "Epoch 000: | Loss: 13.82047 | Acc: 0.000\n",
      "Epoch 001: | Loss: 13.80637 | Acc: 0.000\n",
      "Epoch 002: | Loss: 9.07845 | Acc: 0.000\n",
      "Epoch 003: | Loss: 13.80927 | Acc: 0.000\n",
      "Epoch 004: | Loss: 10.90219 | Acc: 0.000\n",
      "Epoch 005: | Loss: 10.28979 | Acc: 0.000\n",
      "Epoch 006: | Loss: 8.03953 | Acc: 0.000\n",
      "Epoch 007: | Loss: 7.15203 | Acc: 0.000\n",
      "Epoch 008: | Loss: 4.85668 | Acc: 0.000\n",
      "Epoch 009: | Loss: 5.37139 | Acc: 0.000\n",
      "Epoch 010: | Loss: 5.59398 | Acc: 0.000\n",
      "Epoch 011: | Loss: 5.48301 | Acc: 0.000\n",
      "Epoch 012: | Loss: 6.77532 | Acc: 0.000\n",
      "Epoch 013: | Loss: 4.79550 | Acc: 0.000\n",
      "Epoch 014: | Loss: 5.56914 | Acc: 0.000\n",
      "Epoch 015: | Loss: 5.27937 | Acc: 0.000\n",
      "Epoch 016: | Loss: 5.82924 | Acc: 0.000\n",
      "Epoch 017: | Loss: 3.97211 | Acc: 0.000\n",
      "Epoch 018: | Loss: 5.41533 | Acc: 0.000\n",
      "Epoch 019: | Loss: 4.30222 | Acc: 0.000\n",
      "Epoch 020: | Loss: 5.48135 | Acc: 0.000\n",
      "Epoch 021: | Loss: 3.87269 | Acc: 0.000\n",
      "Epoch 022: | Loss: 4.29934 | Acc: 0.000\n",
      "Epoch 023: | Loss: 3.99976 | Acc: 0.000\n",
      "Epoch 024: | Loss: 2.86365 | Acc: 0.000\n",
      "Epoch 025: | Loss: 3.95183 | Acc: 0.000\n",
      "Epoch 026: | Loss: 4.74257 | Acc: 0.000\n",
      "Epoch 027: | Loss: 4.51249 | Acc: 0.000\n",
      "Epoch 028: | Loss: 5.36840 | Acc: 0.000\n",
      "Epoch 029: | Loss: 4.07135 | Acc: 0.000\n",
      "Epoch 030: | Loss: 4.92521 | Acc: 0.000\n",
      "Epoch 031: | Loss: 5.11586 | Acc: 0.000\n",
      "Epoch 032: | Loss: 6.26474 | Acc: 0.000\n",
      "Epoch 033: | Loss: 4.87714 | Acc: 0.000\n",
      "Epoch 034: | Loss: 3.75528 | Acc: 0.000\n",
      "Epoch 035: | Loss: 3.90936 | Acc: 0.000\n",
      "Epoch 036: | Loss: 3.93164 | Acc: 0.000\n",
      "Epoch 037: | Loss: 4.73337 | Acc: 0.000\n",
      "Epoch 038: | Loss: 4.96518 | Acc: 0.000\n",
      "Epoch 039: | Loss: 4.02134 | Acc: 0.000\n",
      "Epoch 040: | Loss: 3.65120 | Acc: 0.000\n",
      "Epoch 041: | Loss: 5.06889 | Acc: 0.000\n",
      "Epoch 042: | Loss: 3.92821 | Acc: 0.000\n",
      "Epoch 043: | Loss: 5.85448 | Acc: 0.000\n",
      "Epoch 044: | Loss: 5.85651 | Acc: 0.000\n",
      "Epoch 045: | Loss: 4.53664 | Acc: 0.000\n",
      "Epoch 046: | Loss: 4.67567 | Acc: 0.000\n",
      "Epoch 047: | Loss: 3.42616 | Acc: 0.000\n",
      "Epoch 048: | Loss: 3.36115 | Acc: 0.000\n",
      "Epoch 049: | Loss: 3.72038 | Acc: 0.000\n",
      "Epoch 050: | Loss: 4.13061 | Acc: 0.000\n",
      "Epoch 051: | Loss: 4.63274 | Acc: 0.000\n",
      "Epoch 052: | Loss: 4.58303 | Acc: 0.000\n",
      "Epoch 053: | Loss: 5.93825 | Acc: 0.000\n",
      "Epoch 054: | Loss: 3.59121 | Acc: 0.000\n",
      "Epoch 055: | Loss: 3.54315 | Acc: 0.000\n",
      "Epoch 056: | Loss: 3.89383 | Acc: 0.000\n",
      "Epoch 057: | Loss: 3.70779 | Acc: 0.000\n",
      "Epoch 058: | Loss: 3.08782 | Acc: 0.000\n",
      "Epoch 059: | Loss: 5.47063 | Acc: 0.000\n",
      "Epoch 060: | Loss: 3.02096 | Acc: 0.000\n",
      "Epoch 061: | Loss: 3.09626 | Acc: 0.000\n",
      "Epoch 062: | Loss: 4.28130 | Acc: 0.000\n",
      "Epoch 063: | Loss: 4.30602 | Acc: 0.000\n",
      "Epoch 064: | Loss: 4.75904 | Acc: 0.000\n",
      "Epoch 065: | Loss: 2.79374 | Acc: 0.000\n",
      "Epoch 066: | Loss: 5.30373 | Acc: 0.000\n",
      "Epoch 067: | Loss: 5.10428 | Acc: 0.000\n",
      "Epoch 068: | Loss: 4.45883 | Acc: 0.000\n",
      "Epoch 069: | Loss: 4.10780 | Acc: 0.000\n",
      "Epoch 070: | Loss: 4.87213 | Acc: 0.000\n",
      "Epoch 071: | Loss: 4.98298 | Acc: 0.000\n",
      "Epoch 072: | Loss: 3.85798 | Acc: 0.000\n",
      "Epoch 073: | Loss: 3.53548 | Acc: 0.000\n",
      "Epoch 074: | Loss: 3.30134 | Acc: 0.000\n",
      "Epoch 075: | Loss: 5.93772 | Acc: 0.000\n",
      "Epoch 076: | Loss: 3.89246 | Acc: 0.000\n",
      "Epoch 077: | Loss: 4.23115 | Acc: 0.000\n",
      "Epoch 078: | Loss: 4.15440 | Acc: 0.000\n",
      "Epoch 079: | Loss: 3.91041 | Acc: 0.000\n",
      "Epoch 080: | Loss: 5.35567 | Acc: 0.000\n",
      "Epoch 081: | Loss: 5.30967 | Acc: 0.000\n",
      "Epoch 082: | Loss: 4.61774 | Acc: 0.000\n",
      "Epoch 083: | Loss: 5.27981 | Acc: 0.000\n",
      "Epoch 084: | Loss: 5.78111 | Acc: 0.000\n",
      "Epoch 085: | Loss: 4.04882 | Acc: 0.000\n",
      "Epoch 086: | Loss: 4.02328 | Acc: 0.000\n",
      "Epoch 087: | Loss: 2.92045 | Acc: 0.000\n",
      "Epoch 088: | Loss: 3.17336 | Acc: 0.000\n",
      "Epoch 089: | Loss: 4.03370 | Acc: 0.000\n",
      "Epoch 090: | Loss: 3.28830 | Acc: 0.000\n",
      "Epoch 091: | Loss: 6.24359 | Acc: 0.000\n",
      "Epoch 092: | Loss: 3.37155 | Acc: 0.000\n",
      "Epoch 093: | Loss: 3.29881 | Acc: 0.000\n",
      "Epoch 094: | Loss: 3.65605 | Acc: 0.000\n",
      "Epoch 095: | Loss: 4.13418 | Acc: 0.000\n",
      "Epoch 096: | Loss: 4.04579 | Acc: 0.000\n",
      "Epoch 097: | Loss: 3.36123 | Acc: 0.000\n",
      "Epoch 098: | Loss: 3.76486 | Acc: 0.000\n",
      "Epoch 099: | Loss: 4.26085 | Acc: 0.000\n",
      "Epoch 100: | Loss: 5.60473 | Acc: 0.000\n",
      "Epoch 101: | Loss: 4.22377 | Acc: 0.000\n",
      "Epoch 102: | Loss: 4.74035 | Acc: 0.000\n",
      "Epoch 103: | Loss: 4.79996 | Acc: 0.000\n",
      "Epoch 104: | Loss: 3.61563 | Acc: 0.000\n",
      "Epoch 105: | Loss: 4.36106 | Acc: 0.000\n",
      "Epoch 106: | Loss: 3.99213 | Acc: 0.000\n",
      "Epoch 107: | Loss: 5.34679 | Acc: 0.000\n",
      "Epoch 108: | Loss: 3.30293 | Acc: 0.000\n",
      "Epoch 109: | Loss: 5.14893 | Acc: 0.000\n",
      "Epoch 110: | Loss: 5.82729 | Acc: 0.000\n",
      "Epoch 111: | Loss: 4.71917 | Acc: 0.000\n",
      "Epoch 112: | Loss: 3.99264 | Acc: 0.000\n",
      "Epoch 113: | Loss: 4.70429 | Acc: 0.000\n",
      "Epoch 114: | Loss: 3.02972 | Acc: 0.000\n",
      "Epoch 115: | Loss: 3.78101 | Acc: 0.000\n",
      "Epoch 116: | Loss: 4.87733 | Acc: 0.000\n",
      "Epoch 117: | Loss: 5.06653 | Acc: 0.000\n",
      "Epoch 118: | Loss: 4.02694 | Acc: 0.000\n",
      "Epoch 119: | Loss: 3.59833 | Acc: 0.000\n",
      "Epoch 120: | Loss: 3.70905 | Acc: 0.000\n",
      "Epoch 121: | Loss: 3.31924 | Acc: 0.000\n",
      "Epoch 122: | Loss: 4.76425 | Acc: 0.000\n",
      "Epoch 123: | Loss: 2.82146 | Acc: 0.000\n",
      "Epoch 124: | Loss: 3.46530 | Acc: 0.000\n",
      "Epoch 125: | Loss: 4.46280 | Acc: 0.000\n",
      "Epoch 126: | Loss: 2.54448 | Acc: 0.000\n",
      "Epoch 127: | Loss: 3.02033 | Acc: 0.000\n",
      "Epoch 128: | Loss: 3.61262 | Acc: 0.000\n",
      "Epoch 129: | Loss: 4.48266 | Acc: 0.000\n",
      "Epoch 130: | Loss: 4.33637 | Acc: 0.000\n",
      "Epoch 131: | Loss: 4.57136 | Acc: 0.000\n",
      "Epoch 132: | Loss: 3.71531 | Acc: 0.000\n",
      "Epoch 133: | Loss: 3.46739 | Acc: 0.000\n",
      "Epoch 134: | Loss: 4.63575 | Acc: 0.000\n",
      "Epoch 135: | Loss: 3.56855 | Acc: 0.000\n",
      "Epoch 136: | Loss: 4.97974 | Acc: 0.000\n",
      "Epoch 137: | Loss: 3.27110 | Acc: 0.000\n",
      "Epoch 138: | Loss: 3.56391 | Acc: 0.000\n",
      "Epoch 139: | Loss: 3.39805 | Acc: 0.000\n",
      "Epoch 140: | Loss: 5.23974 | Acc: 0.000\n",
      "Epoch 141: | Loss: 5.33685 | Acc: 0.000\n",
      "Epoch 142: | Loss: 3.60140 | Acc: 0.000\n",
      "Epoch 143: | Loss: 3.15838 | Acc: 0.000\n",
      "Epoch 144: | Loss: 5.13684 | Acc: 0.000\n",
      "Epoch 145: | Loss: 3.11465 | Acc: 0.000\n",
      "Epoch 146: | Loss: 4.62988 | Acc: 0.000\n",
      "Epoch 147: | Loss: 5.24956 | Acc: 0.000\n",
      "Epoch 148: | Loss: 4.11037 | Acc: 0.000\n",
      "Epoch 149: | Loss: 4.14373 | Acc: 0.000\n",
      "Epoch 150: | Loss: 4.60931 | Acc: 0.000\n",
      "Epoch 151: | Loss: 3.16939 | Acc: 0.000\n",
      "Epoch 152: | Loss: 4.11222 | Acc: 0.000\n",
      "Epoch 153: | Loss: 4.06886 | Acc: 0.000\n",
      "Epoch 154: | Loss: 4.42625 | Acc: 0.000\n",
      "Epoch 155: | Loss: 2.65705 | Acc: 0.000\n",
      "Epoch 156: | Loss: 3.46458 | Acc: 0.000\n",
      "Epoch 157: | Loss: 4.43496 | Acc: 0.000\n",
      "Epoch 158: | Loss: 4.44541 | Acc: 0.000\n",
      "Epoch 159: | Loss: 3.97149 | Acc: 0.000\n",
      "Epoch 160: | Loss: 2.57149 | Acc: 0.000\n",
      "Epoch 161: | Loss: 3.37103 | Acc: 0.000\n",
      "Epoch 162: | Loss: 4.32774 | Acc: 0.000\n",
      "Epoch 163: | Loss: 2.93365 | Acc: 0.000\n",
      "Epoch 164: | Loss: 2.96470 | Acc: 0.000\n",
      "Epoch 165: | Loss: 3.95377 | Acc: 0.000\n",
      "Epoch 166: | Loss: 2.63235 | Acc: 0.000\n",
      "Epoch 167: | Loss: 2.37834 | Acc: 0.000\n",
      "Epoch 168: | Loss: 3.45353 | Acc: 0.000\n",
      "Epoch 169: | Loss: 3.77591 | Acc: 0.000\n",
      "Epoch 170: | Loss: 3.19012 | Acc: 0.000\n",
      "Epoch 171: | Loss: 3.32456 | Acc: 0.000\n",
      "Epoch 172: | Loss: 2.65145 | Acc: 0.000\n",
      "Epoch 173: | Loss: 2.48917 | Acc: 0.000\n",
      "Epoch 174: | Loss: 3.07711 | Acc: 0.000\n",
      "Epoch 175: | Loss: 3.87038 | Acc: 0.000\n",
      "Epoch 176: | Loss: 4.08299 | Acc: 0.000\n",
      "Epoch 177: | Loss: 5.34929 | Acc: 0.000\n",
      "Epoch 178: | Loss: 5.28967 | Acc: 0.000\n",
      "Epoch 179: | Loss: 2.52251 | Acc: 0.000\n",
      "Epoch 180: | Loss: 4.46465 | Acc: 0.000\n",
      "Epoch 181: | Loss: 3.37270 | Acc: 0.000\n",
      "Epoch 182: | Loss: 2.99061 | Acc: 0.000\n",
      "Epoch 183: | Loss: 4.92427 | Acc: 0.000\n",
      "Epoch 184: | Loss: 4.42442 | Acc: 0.000\n",
      "Epoch 185: | Loss: 5.40114 | Acc: 0.000\n",
      "Epoch 186: | Loss: 2.71768 | Acc: 0.000\n",
      "Epoch 187: | Loss: 3.31095 | Acc: 0.000\n",
      "Epoch 188: | Loss: 2.90119 | Acc: 0.000\n",
      "Epoch 189: | Loss: 4.38729 | Acc: 0.000\n",
      "Epoch 190: | Loss: 4.42453 | Acc: 0.000\n",
      "Epoch 191: | Loss: 4.34341 | Acc: 0.000\n",
      "Epoch 192: | Loss: 3.78196 | Acc: 0.000\n",
      "Epoch 193: | Loss: 3.26772 | Acc: 0.000\n",
      "Epoch 194: | Loss: 3.91749 | Acc: 0.000\n",
      "Epoch 195: | Loss: 2.57640 | Acc: 0.000\n",
      "Epoch 196: | Loss: 3.50722 | Acc: 0.000\n",
      "Epoch 197: | Loss: 3.16247 | Acc: 0.000\n",
      "Epoch 198: | Loss: 2.95798 | Acc: 0.000\n",
      "Epoch 199: | Loss: 3.30805 | Acc: 0.000\n"
     ]
    }
   ],
   "source": [
    "losses=[]\n",
    "acc_list=[]\n",
    "\n",
    "for epoch in range(num_epochs):\n",
    "    for batch_idx, (data, targets) in enumerate(train_loader):\n",
    "        num_correct = 0\n",
    "        num_samples = 0\n",
    "        data = data.to(device=device)\n",
    "        targets = targets.to(device=device)\n",
    "        #print(targets)\n",
    "        #targets = torch.squeeze(targets, 1).type(torch.LongTensor)\n",
    "        \n",
    "        # forward\n",
    "        scores = model(data)\n",
    "        #print(scores)\n",
    "        loss = criterion(scores, targets)\n",
    "        \n",
    "        l2_lambda = 5e-05\n",
    "        l2_norm = sum(p.pow(2.0).sum()\n",
    "                  for p in model.parameters())\n",
    " \n",
    "        loss = loss + l2_lambda * l2_norm\n",
    "        \n",
    "        # backward\n",
    "        optimizer.zero_grad()\n",
    "        loss.backward()\n",
    "        \n",
    "        \n",
    "        # gradient descent or adam step\n",
    "        optimizer.step()\n",
    "        \n",
    "        #accuracy\n",
    "        scores = model(data)\n",
    "        predictions = scores\n",
    "        predictions = predictions.detach().apply_( lambda x: 1 if x >= 0.5 else 0 )\n",
    "        num_correct += int((predictions == targets).sum())\n",
    "        num_samples += predictions.size(0)\n",
    "        acc = num_correct / num_samples\n",
    "        \n",
    "    if epoch%5 == 0:\n",
    "        losses.append(loss.detach().numpy() )\n",
    "    print(f'Epoch {epoch:03}: | Loss: {loss:.5f} | Acc: {acc:.3f}')\n",
    "        \n",
    "        "
   ]
  },
  {
   "cell_type": "code",
   "execution_count": 18,
   "id": "b4fcb9b7",
   "metadata": {
    "ExecuteTime": {
     "end_time": "2022-11-26T15:15:03.908241Z",
     "start_time": "2022-11-26T15:15:03.699745Z"
    }
   },
   "outputs": [
    {
     "data": {
      "image/png": "[encoded data removed]",
      "text/plain": [
       "<Figure size 640x480 with 1 Axes>"
      ]
     },
     "metadata": {},
     "output_type": "display_data"
    }
   ],
   "source": [
    "#plotting the loss\n",
    "x_range = list(range(5,5*len(losses)+5,5))\n",
    "plt.plot(x_range,losses)\n",
    "plt.title('Loss vs Epochs')\n",
    "plt.xlabel('Epochs')\n",
    "plt.ylabel('loss')\n",
    "plt.show()"
   ]
  },
  {
   "cell_type": "markdown",
   "id": "06bcbff7",
   "metadata": {
    "ExecuteTime": {
     "end_time": "2022-10-28T17:23:14.669685Z",
     "start_time": "2022-10-28T17:23:14.663564Z"
    }
   },
   "source": [
    "# Model RMSE"
   ]
  },
  {
   "cell_type": "code",
   "execution_count": 19,
   "id": "48a94a4e",
   "metadata": {
    "ExecuteTime": {
     "end_time": "2022-11-26T15:15:03.918166Z",
     "start_time": "2022-11-26T15:15:03.911063Z"
    }
   },
   "outputs": [],
   "source": [
    "# Check accuracy on training & test to see how good our model\n",
    "def check_accuracy(loader, model):\n",
    "    num_correct = 0\n",
    "    num_samples = 0\n",
    "\n",
    "    # Set model to eval\n",
    "    model.eval()\n",
    "\n",
    "    with torch.no_grad():\n",
    "        for x, y in train_loader:\n",
    "            x = x.to(device=device)\n",
    "            y.to(device=device)\n",
    "            #y = torch.squeeze(y.to(device=device), 1)\n",
    "            #print(y.shape)\n",
    "\n",
    "            scores = model(x)\n",
    "            predictions = scores\n",
    "            predictions = predictions.apply_( lambda x: 1 if x >= 0.5 else 0 )\n",
    "            num_correct += int((predictions == y).sum())\n",
    "            num_samples += predictions.size(0)\n",
    "\n",
    "    # Toggle model back to train\n",
    "    model.train()\n",
    "    return num_correct / num_samples"
   ]
  },
  {
   "cell_type": "code",
   "execution_count": 20,
   "id": "f370065c",
   "metadata": {
    "ExecuteTime": {
     "end_time": "2022-11-26T15:15:04.185970Z",
     "start_time": "2022-11-26T15:15:03.921863Z"
    }
   },
   "outputs": [
    {
     "name": "stdout",
     "output_type": "stream",
     "text": [
      "Accuracy on training set: 0.000000 %\n"
     ]
    }
   ],
   "source": [
    "print(f\"Accuracy on training set: {check_accuracy(train_loader, model)*100:2f} %\")\n",
    "#print(f\"Accuracy on test set: {check_accuracy(test_loader, model)*100:.2f} %\")"
   ]
  },
  {
   "cell_type": "code",
   "execution_count": 21,
   "id": "7194f3f0",
   "metadata": {
    "ExecuteTime": {
     "end_time": "2022-11-26T15:15:04.378851Z",
     "start_time": "2022-11-26T15:15:04.187950Z"
    }
   },
   "outputs": [
    {
     "name": "stdout",
     "output_type": "stream",
     "text": [
      "X now in shape of torch.Size([2394, 61])\n",
      "y now in shape of torch.Size([2394, 1])\n",
      "Accuracy on valid set: 0.00 %\n"
     ]
    }
   ],
   "source": [
    "X2 = X_tensor(X_valid_norm)\n",
    "y2 = y_tensor(y_valid_t2.iloc[:,-1])\n",
    "\n",
    "Valid_datasets = CusDatasetLoader(X2, y2)\n",
    "Valid_loader = DataLoader(dataset=Valid_datasets, batch_size=batch_size, shuffle=True)\n",
    "print(f\"Accuracy on valid set: {check_accuracy(Valid_loader, model)*100:.2f} %\")"
   ]
  },
  {
   "cell_type": "markdown",
   "id": "b16acbcd",
   "metadata": {},
   "source": [
    "# Test"
   ]
  },
  {
   "cell_type": "code",
   "execution_count": 24,
   "id": "0fc30b2a",
   "metadata": {
    "ExecuteTime": {
     "end_time": "2022-11-26T15:17:16.362756Z",
     "start_time": "2022-11-26T15:17:16.355529Z"
    }
   },
   "outputs": [],
   "source": [
    "def test(loader, model):\n",
    "    # Set model to eval\n",
    "    model.eval()\n",
    "    res = torch.tensor([], dtype=torch.int64)\n",
    "    with torch.no_grad():\n",
    "        for x, y in loader:\n",
    "            x = x.to(device=device)\n",
    "            y.to(device=device)\n",
    "\n",
    "            scores = model(x)\n",
    "            predictions = scores\n",
    "            res =  torch.cat((predictions, res), 0)  \n",
    "    model.train()\n",
    "   \n",
    "    return res"
   ]
  },
  {
   "cell_type": "code",
   "execution_count": 32,
   "id": "66e51253",
   "metadata": {
    "ExecuteTime": {
     "end_time": "2022-11-26T15:25:08.776615Z",
     "start_time": "2022-11-26T15:25:08.695628Z"
    }
   },
   "outputs": [
    {
     "name": "stdout",
     "output_type": "stream",
     "text": [
      "X now in shape of torch.Size([4790, 61])\n"
     ]
    },
    {
     "data": {
      "text/plain": [
       "tensor([[2.4100],\n",
       "        [3.0967],\n",
       "        [2.8022],\n",
       "        ...,\n",
       "        [3.5233],\n",
       "        [2.9107],\n",
       "        [3.4190]])"
      ]
     },
     "execution_count": 32,
     "metadata": {},
     "output_type": "execute_result"
    }
   ],
   "source": [
    "X_test_final = X_tensor(X_test_norm)\n",
    "y_final = torch.zeros([4790,1])\n",
    "\n",
    "test_datasets = CusDatasetLoader(X_test_final, y_final)\n",
    "test_loader = DataLoader(dataset=test_datasets, batch_size=batch_size, shuffle=True)\n",
    "\n",
    "result = test(test_loader, model)\n",
    "result"
   ]
  },
  {
   "cell_type": "code",
   "execution_count": 33,
   "id": "8747d5c8",
   "metadata": {
    "ExecuteTime": {
     "end_time": "2022-11-26T15:25:11.126183Z",
     "start_time": "2022-11-26T15:25:11.101136Z"
    },
    "scrolled": true
   },
   "outputs": [
    {
     "data": {
      "text/html": [
       "<div>\n",
       "<style scoped>\n",
       "    .dataframe tbody tr th:only-of-type {\n",
       "        vertical-align: middle;\n",
       "    }\n",
       "\n",
       "    .dataframe tbody tr th {\n",
       "        vertical-align: top;\n",
       "    }\n",
       "\n",
       "    .dataframe thead th {\n",
       "        text-align: right;\n",
       "    }\n",
       "</style>\n",
       "<table border=\"1\" class=\"dataframe\">\n",
       "  <thead>\n",
       "    <tr style=\"text-align: right;\">\n",
       "      <th></th>\n",
       "      <th>Predicted</th>\n",
       "    </tr>\n",
       "    <tr>\n",
       "      <th>Id</th>\n",
       "      <th></th>\n",
       "    </tr>\n",
       "  </thead>\n",
       "  <tbody>\n",
       "    <tr>\n",
       "      <th>32_175413_295037</th>\n",
       "      <td>2.409992</td>\n",
       "    </tr>\n",
       "    <tr>\n",
       "      <th>33_176176_296681</th>\n",
       "      <td>3.096665</td>\n",
       "    </tr>\n",
       "    <tr>\n",
       "      <th>42_119203_210828</th>\n",
       "      <td>2.802215</td>\n",
       "    </tr>\n",
       "    <tr>\n",
       "      <th>44_181750_291554</th>\n",
       "      <td>3.928783</td>\n",
       "    </tr>\n",
       "    <tr>\n",
       "      <th>61_176332_252348</th>\n",
       "      <td>1.861334</td>\n",
       "    </tr>\n",
       "    <tr>\n",
       "      <th>...</th>\n",
       "      <td>...</td>\n",
       "    </tr>\n",
       "    <tr>\n",
       "      <th>99883_150755_276467</th>\n",
       "      <td>3.075818</td>\n",
       "    </tr>\n",
       "    <tr>\n",
       "      <th>99897_162913_266801</th>\n",
       "      <td>4.244951</td>\n",
       "    </tr>\n",
       "    <tr>\n",
       "      <th>99913_175989_292375</th>\n",
       "      <td>3.523263</td>\n",
       "    </tr>\n",
       "    <tr>\n",
       "      <th>99944_185654_221067</th>\n",
       "      <td>2.910721</td>\n",
       "    </tr>\n",
       "    <tr>\n",
       "      <th>99992_197084_242052</th>\n",
       "      <td>3.419023</td>\n",
       "    </tr>\n",
       "  </tbody>\n",
       "</table>\n",
       "<p>4790 rows × 1 columns</p>\n",
       "</div>"
      ],
      "text/plain": [
       "                     Predicted\n",
       "Id                            \n",
       "32_175413_295037      2.409992\n",
       "33_176176_296681      3.096665\n",
       "42_119203_210828      2.802215\n",
       "44_181750_291554      3.928783\n",
       "61_176332_252348      1.861334\n",
       "...                        ...\n",
       "99883_150755_276467   3.075818\n",
       "99897_162913_266801   4.244951\n",
       "99913_175989_292375   3.523263\n",
       "99944_185654_221067   2.910721\n",
       "99992_197084_242052   3.419023\n",
       "\n",
       "[4790 rows x 1 columns]"
      ]
     },
     "execution_count": 33,
     "metadata": {},
     "output_type": "execute_result"
    }
   ],
   "source": [
    "\n",
    "#df.index = ['Row_1', 'Row_2', 'Row_3', 'Row_4']\n",
    "res1 = pd.DataFrame(result.tolist(), columns=[\"Predicted\"])\n",
    "res1.index = X_test.index\n",
    "res1.index.name = 'Id'\n",
    "pd.DataFrame(res1).to_csv('outfullynet.csv')\n",
    "#print(torch.count_nonzero(torch.from_numpy(np.array(res1)).to(torch.float32)))\n",
    "res1"
   ]
  }
 ],
 "metadata": {
  "kernelspec": {
   "display_name": "comp3340",
   "language": "python",
   "name": "comp3340"
  },
  "language_info": {
   "codemirror_mode": {
    "name": "ipython",
    "version": 3
   },
   "file_extension": ".py",
   "mimetype": "text/x-python",
   "name": "python",
   "nbconvert_exporter": "python",
   "pygments_lexer": "ipython3",
   "version": "3.7.7"
  },
  "toc": {
   "base_numbering": 1,
   "nav_menu": {},
   "number_sections": true,
   "sideBar": true,
   "skip_h1_title": false,
   "title_cell": "Table of Contents",
   "title_sidebar": "Contents",
   "toc_cell": false,
   "toc_position": {},
   "toc_section_display": true,
   "toc_window_display": true
  }
 },
 "nbformat": 4,
 "nbformat_minor": 5
}
