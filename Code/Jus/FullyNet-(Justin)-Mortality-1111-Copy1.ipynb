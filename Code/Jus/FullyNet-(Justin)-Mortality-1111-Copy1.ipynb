{
 "cells": [
  {
   "cell_type": "markdown",
   "id": "970d9aef",
   "metadata": {},
   "source": [
    "# Libraries"
   ]
  },
  {
   "cell_type": "code",
   "execution_count": 1,
   "id": "71cace5d",
   "metadata": {
    "ExecuteTime": {
     "end_time": "2022-11-14T07:11:16.057367Z",
     "start_time": "2022-11-14T07:11:13.406975Z"
    }
   },
   "outputs": [],
   "source": [
    "import torch\n",
    "import torchvision\n",
    "import torch.nn as nn\n",
    "import torch.optim as optim\n",
    "import torch.nn.functional as F\n",
    "from torch.utils.data import Dataset, DataLoader\n",
    "import torchvision.transforms as transforms\n",
    "import matplotlib.pyplot as plt\n",
    "from sklearn import metrics\n",
    "\n",
    "device = torch.device(\"cuda\" if torch.cuda.is_available() else \"cpu\")"
   ]
  },
  {
   "cell_type": "markdown",
   "id": "e5e3db1d",
   "metadata": {
    "ExecuteTime": {
     "end_time": "2022-10-27T03:47:12.458066Z",
     "start_time": "2022-10-27T03:47:12.452095Z"
    }
   },
   "source": [
    "# Import data"
   ]
  },
  {
   "cell_type": "code",
   "execution_count": 2,
   "id": "c7c7a26f",
   "metadata": {
    "ExecuteTime": {
     "end_time": "2022-11-14T07:11:41.793617Z",
     "start_time": "2022-11-14T07:11:16.061318Z"
    }
   },
   "outputs": [
    {
     "name": "stdout",
     "output_type": "stream",
     "text": [
      "************************************************************\n",
      "There are 6 set of X\n",
      "X_*_nozero\n",
      "------------------------------------------------------------\n",
      "Normalized version\n",
      "X_*_norm\n",
      "------------------------------------------------------------\n",
      "There are 4 set of Y\n",
      "y_train_t1, y_train_t2, y_valid_t1, y_valid_t2\n",
      "when training, please use: 'y_train_t1_value,y_train_t2_value,y_valid_t1_value,y_valid_t2_value'\n",
      "************************************************************\n"
     ]
    }
   ],
   "source": [
    "%run Data_preprocessing.ipynb"
   ]
  },
  {
   "cell_type": "code",
   "execution_count": 3,
   "id": "4aa393c8",
   "metadata": {
    "ExecuteTime": {
     "end_time": "2022-11-14T07:11:41.798361Z",
     "start_time": "2022-11-14T07:11:41.795635Z"
    }
   },
   "outputs": [
    {
     "name": "stdout",
     "output_type": "stream",
     "text": [
      "(16760, 61)\n",
      "(2394, 61)\n",
      "(4790, 61)\n"
     ]
    }
   ],
   "source": [
    "print(X_train_norm.shape)\n",
    "print(X_valid_norm.shape)\n",
    "print(X_test_norm.shape)"
   ]
  },
  {
   "cell_type": "markdown",
   "id": "07ffdcc1",
   "metadata": {
    "ExecuteTime": {
     "end_time": "2022-11-12T06:27:37.687176Z",
     "start_time": "2022-11-12T06:27:37.683442Z"
    }
   },
   "source": [
    "# Imbalanced Learning"
   ]
  },
  {
   "cell_type": "code",
   "execution_count": 4,
   "id": "a0e38388",
   "metadata": {
    "ExecuteTime": {
     "end_time": "2022-11-14T07:11:41.809659Z",
     "start_time": "2022-11-14T07:11:41.800705Z"
    }
   },
   "outputs": [
    {
     "name": "stdout",
     "output_type": "stream",
     "text": [
      "(15535, 62) (1225, 62)\n"
     ]
    }
   ],
   "source": [
    "Full = pd.DataFrame(np.concatenate((X_train_norm,pd.DataFrame(y_train_t1.iloc[:,-1])),axis=1))\n",
    "Full\n",
    "\n",
    "label0 = Full[Full[61]==0]\n",
    "label1 = Full[Full[61]==1]\n",
    "print(label0.shape,label1.shape)"
   ]
  },
  {
   "cell_type": "code",
   "execution_count": 5,
   "id": "cac17082",
   "metadata": {
    "ExecuteTime": {
     "end_time": "2022-11-14T07:11:41.900697Z",
     "start_time": "2022-11-14T07:11:41.811100Z"
    }
   },
   "outputs": [
    {
     "data": {
      "text/plain": [
       "(31070, 61)"
      ]
     },
     "execution_count": 5,
     "metadata": {},
     "output_type": "execute_result"
    }
   ],
   "source": [
    "from imblearn.over_sampling import RandomOverSampler\n",
    "oversample = RandomOverSampler()\n",
    "x_over, y_over = oversample.fit_resample(X_train_norm, y_train_t1.iloc[:,-1])\n",
    "\n",
    "\n",
    "y_over = pd.DataFrame(y_over)\n",
    "y_over.shape\n",
    "x_over.shape"
   ]
  },
  {
   "cell_type": "code",
   "execution_count": 6,
   "id": "dd3c662f",
   "metadata": {
    "ExecuteTime": {
     "end_time": "2022-11-14T07:11:41.915312Z",
     "start_time": "2022-11-14T07:11:41.902292Z"
    }
   },
   "outputs": [
    {
     "name": "stdout",
     "output_type": "stream",
     "text": [
      "(15535, 62) (15535, 62)\n"
     ]
    }
   ],
   "source": [
    "Full = pd.DataFrame(np.concatenate((x_over,y_over),axis=1))\n",
    "Full\n",
    "\n",
    "label0 = Full[Full[61]==0]\n",
    "label1 = Full[Full[61]==1]\n",
    "print(label0.shape,label1.shape)"
   ]
  },
  {
   "cell_type": "code",
   "execution_count": 7,
   "id": "55d6208d",
   "metadata": {
    "ExecuteTime": {
     "end_time": "2022-11-14T07:11:41.920140Z",
     "start_time": "2022-11-14T07:11:41.917496Z"
    }
   },
   "outputs": [],
   "source": [
    "X_train_norm=x_over\n",
    "\n",
    "y_train_t1 = y_over"
   ]
  },
  {
   "cell_type": "markdown",
   "id": "560831ad",
   "metadata": {},
   "source": [
    "# Hyperparameters"
   ]
  },
  {
   "cell_type": "code",
   "execution_count": 8,
   "id": "6fb9fe03",
   "metadata": {
    "ExecuteTime": {
     "end_time": "2022-11-14T07:11:41.925982Z",
     "start_time": "2022-11-14T07:11:41.922025Z"
    }
   },
   "outputs": [],
   "source": [
    "input_size = X_train_norm.shape[1] # 7488/24\n",
    "output_size = 2 # live or dead\n",
    "learning_rate = 0.01\n",
    "batch_size = 64\n",
    "num_epochs = 200"
   ]
  },
  {
   "cell_type": "markdown",
   "id": "9b7e4676",
   "metadata": {},
   "source": [
    "# Create FullyNet"
   ]
  },
  {
   "cell_type": "code",
   "execution_count": 16,
   "id": "c00d907c",
   "metadata": {
    "ExecuteTime": {
     "end_time": "2022-11-14T07:12:57.510297Z",
     "start_time": "2022-11-14T07:12:57.505422Z"
    }
   },
   "outputs": [],
   "source": [
    "class NN(nn.Module):\n",
    "    def __init__(self, input_size):\n",
    "        super(NN, self).__init__()\n",
    "        self.fc1 = nn.Linear(input_size, 26)\n",
    "        self.fc4 = nn.Linear(26, 1)\n",
    "        \n",
    "        self.batchnorm2 = nn.BatchNorm1d(26)\n",
    "        self.dropout = nn.Dropout(p=0.1)\n",
    "\n",
    "        \n",
    "        \n",
    "    def forward(self, x):\n",
    "         x = F.leaky_relu(self.fc1(x))\n",
    "         x = self.dropout(x)\n",
    "         x = torch.sigmoid(self.fc4(x))\n",
    "         return x"
   ]
  },
  {
   "cell_type": "markdown",
   "id": "076d6376",
   "metadata": {},
   "source": [
    "# Data transform"
   ]
  },
  {
   "cell_type": "code",
   "execution_count": 17,
   "id": "d7e4872c",
   "metadata": {
    "ExecuteTime": {
     "end_time": "2022-11-14T07:12:57.522463Z",
     "start_time": "2022-11-14T07:12:57.512753Z"
    }
   },
   "outputs": [],
   "source": [
    "class CusDatasetLoader(Dataset):\n",
    "    def __init__(self,x,y):\n",
    "        self.len = y.shape[0]\n",
    "        self.x_data = x\n",
    "        self.y_data = y\n",
    "  \n",
    "    def __len__(self):\n",
    "        return self.len\n",
    "\n",
    "    def __getitem__(self, index):\n",
    "        #return self.dataframe.iloc[index]\n",
    "        return self.x_data[index], self.y_data[index]"
   ]
  },
  {
   "cell_type": "code",
   "execution_count": 18,
   "id": "456be776",
   "metadata": {
    "ExecuteTime": {
     "end_time": "2022-11-14T07:12:57.530562Z",
     "start_time": "2022-11-14T07:12:57.524610Z"
    }
   },
   "outputs": [],
   "source": [
    "# X_shape(X) : used for split the data into a right tensor size\n",
    "#input: X in shape of 16760 rows × 104 columns (df)\n",
    "#output: X in shape of torch.Size([16760, 104, 1]) (tensor)\n",
    "\n",
    "def X_tensor(X):\n",
    "    X_tensor = torch.from_numpy(np.array(X)).to(torch.float32)\n",
    "    #print(X_tensor.shape)\n",
    "    #X_tensor = torch.stack(X_tensor).permute()\n",
    "    print(\"X now in shape of\",X_tensor.shape)\n",
    "    return X_tensor\n",
    "\n",
    "# y_tensor(y) : used for split the data into a right tensor size\n",
    "#input: X in shape of 16760 rows × 7488 columns (df)\n",
    "#output: X in shape of torch.Size([16760, 312, 24]) (tensor)\n",
    "\n",
    "def y_tensor(y):\n",
    "    y= torch.from_numpy(np.array(y)).to(torch.float32).reshape(len(y),1)\n",
    "    print(\"y now in shape of\",y.shape)\n",
    "    return y"
   ]
  },
  {
   "cell_type": "code",
   "execution_count": 19,
   "id": "006849f5",
   "metadata": {
    "ExecuteTime": {
     "end_time": "2022-11-14T07:12:57.542986Z",
     "start_time": "2022-11-14T07:12:57.532796Z"
    }
   },
   "outputs": [
    {
     "name": "stdout",
     "output_type": "stream",
     "text": [
      "X now in shape of torch.Size([31070, 61])\n",
      "y now in shape of torch.Size([31070, 1])\n",
      "torch.Size([61])\n",
      "torch.Size([1])\n"
     ]
    }
   ],
   "source": [
    "# X should be in smaples, 1, squence, rows\n",
    "X1 = X_tensor(X_train_norm)\n",
    "y1 = y_tensor(y_train_t1.iloc[:,-1].astype(float))\n",
    "\n",
    "train_datasets = CusDatasetLoader(X1, y1)\n",
    "train_loader = DataLoader(dataset=train_datasets, batch_size=batch_size, shuffle=True)\n",
    "\n",
    "x,y = train_datasets[0]\n",
    "print(x.shape)\n",
    "print(y.shape)"
   ]
  },
  {
   "cell_type": "markdown",
   "id": "e366eb01",
   "metadata": {},
   "source": [
    "# Model train"
   ]
  },
  {
   "cell_type": "code",
   "execution_count": 20,
   "id": "6443333a",
   "metadata": {
    "ExecuteTime": {
     "end_time": "2022-11-14T07:12:57.548408Z",
     "start_time": "2022-11-14T07:12:57.544864Z"
    }
   },
   "outputs": [],
   "source": [
    "model = NN(input_size).to(device)"
   ]
  },
  {
   "cell_type": "raw",
   "id": "521238bb",
   "metadata": {
    "ExecuteTime": {
     "end_time": "2022-11-10T17:45:27.568519Z",
     "start_time": "2022-11-10T17:45:27.562929Z"
    }
   },
   "source": [
    "# Criterion and optimizer setting\n",
    "\n",
    "criterion = nn.CrossEntropyLoss()\n",
    "optimizer = optim.Adam(model.parameters(), lr = learning_rate)\n",
    "#optimizer = torch.optim.SGD(model.parameters(),lr=learning_rate)\n",
    "#optimizer = optim.Adam(model.parameters(), lr = learning_rate)"
   ]
  },
  {
   "cell_type": "code",
   "execution_count": 21,
   "id": "e73149f1",
   "metadata": {
    "ExecuteTime": {
     "end_time": "2022-11-14T07:12:57.554261Z",
     "start_time": "2022-11-14T07:12:57.550793Z"
    }
   },
   "outputs": [],
   "source": [
    "optimizer = optim.Adadelta(model.parameters(), lr = learning_rate)\n",
    "criterion = nn.BCELoss()"
   ]
  },
  {
   "cell_type": "code",
   "execution_count": null,
   "id": "680547a7",
   "metadata": {
    "ExecuteTime": {
     "start_time": "2022-11-14T07:12:57.534Z"
    },
    "scrolled": true
   },
   "outputs": [
    {
     "name": "stdout",
     "output_type": "stream",
     "text": [
      "Epoch 000: | Loss: 1.34790 | Acc: 0.479\n",
      "Epoch 001: | Loss: 1.23858 | Acc: 0.516\n",
      "Epoch 002: | Loss: 1.09692 | Acc: 0.549\n",
      "Epoch 003: | Loss: 1.16119 | Acc: 0.578\n",
      "Epoch 004: | Loss: 1.04121 | Acc: 0.603\n",
      "Epoch 005: | Loss: 0.93029 | Acc: 0.622\n",
      "Epoch 006: | Loss: 0.79513 | Acc: 0.639\n",
      "Epoch 007: | Loss: 0.88946 | Acc: 0.653\n",
      "Epoch 008: | Loss: 0.74321 | Acc: 0.664\n",
      "Epoch 009: | Loss: 0.73965 | Acc: 0.674\n",
      "Epoch 010: | Loss: 0.61479 | Acc: 0.683\n",
      "Epoch 011: | Loss: 0.57491 | Acc: 0.690\n",
      "Epoch 012: | Loss: 0.62234 | Acc: 0.697\n",
      "Epoch 013: | Loss: 0.64464 | Acc: 0.703\n",
      "Epoch 014: | Loss: 0.69499 | Acc: 0.708\n",
      "Epoch 015: | Loss: 0.63241 | Acc: 0.712\n",
      "Epoch 016: | Loss: 0.53081 | Acc: 0.716\n",
      "Epoch 017: | Loss: 0.54088 | Acc: 0.720\n",
      "Epoch 018: | Loss: 0.64733 | Acc: 0.723\n",
      "Epoch 019: | Loss: 0.54999 | Acc: 0.726\n",
      "Epoch 020: | Loss: 0.49605 | Acc: 0.729\n",
      "Epoch 021: | Loss: 0.47674 | Acc: 0.731\n",
      "Epoch 022: | Loss: 0.55698 | Acc: 0.734\n",
      "Epoch 023: | Loss: 0.59303 | Acc: 0.736\n",
      "Epoch 024: | Loss: 0.48995 | Acc: 0.738\n",
      "Epoch 025: | Loss: 0.50908 | Acc: 0.740\n",
      "Epoch 026: | Loss: 0.45393 | Acc: 0.741\n",
      "Epoch 027: | Loss: 0.59431 | Acc: 0.743\n",
      "Epoch 028: | Loss: 0.50806 | Acc: 0.745\n",
      "Epoch 029: | Loss: 0.60187 | Acc: 0.746\n",
      "Epoch 030: | Loss: 0.61409 | Acc: 0.747\n",
      "Epoch 031: | Loss: 0.60416 | Acc: 0.749\n",
      "Epoch 032: | Loss: 0.47549 | Acc: 0.750\n",
      "Epoch 033: | Loss: 0.62090 | Acc: 0.751\n",
      "Epoch 034: | Loss: 0.57208 | Acc: 0.752\n",
      "Epoch 035: | Loss: 0.65514 | Acc: 0.753\n",
      "Epoch 036: | Loss: 0.44757 | Acc: 0.754\n",
      "Epoch 037: | Loss: 0.42182 | Acc: 0.755\n",
      "Epoch 038: | Loss: 0.46105 | Acc: 0.756\n",
      "Epoch 039: | Loss: 0.62662 | Acc: 0.757\n",
      "Epoch 040: | Loss: 0.48983 | Acc: 0.758\n",
      "Epoch 041: | Loss: 0.61604 | Acc: 0.759\n",
      "Epoch 042: | Loss: 0.63174 | Acc: 0.759\n",
      "Epoch 043: | Loss: 0.51967 | Acc: 0.760\n",
      "Epoch 044: | Loss: 0.48977 | Acc: 0.761\n",
      "Epoch 045: | Loss: 0.61110 | Acc: 0.761\n",
      "Epoch 046: | Loss: 0.59667 | Acc: 0.762\n",
      "Epoch 047: | Loss: 0.40018 | Acc: 0.763\n",
      "Epoch 048: | Loss: 0.64063 | Acc: 0.763\n",
      "Epoch 049: | Loss: 0.41162 | Acc: 0.764\n",
      "Epoch 050: | Loss: 0.51993 | Acc: 0.764\n",
      "Epoch 051: | Loss: 0.59270 | Acc: 0.765\n",
      "Epoch 052: | Loss: 0.46278 | Acc: 0.766\n",
      "Epoch 053: | Loss: 0.53766 | Acc: 0.766\n",
      "Epoch 054: | Loss: 0.49700 | Acc: 0.767\n",
      "Epoch 055: | Loss: 0.55024 | Acc: 0.767\n",
      "Epoch 056: | Loss: 0.48705 | Acc: 0.767\n",
      "Epoch 057: | Loss: 0.53907 | Acc: 0.768\n",
      "Epoch 058: | Loss: 0.50848 | Acc: 0.768\n",
      "Epoch 059: | Loss: 0.52031 | Acc: 0.769\n",
      "Epoch 060: | Loss: 0.62020 | Acc: 0.769\n",
      "Epoch 061: | Loss: 0.47167 | Acc: 0.770\n",
      "Epoch 062: | Loss: 0.44513 | Acc: 0.770\n",
      "Epoch 063: | Loss: 0.38801 | Acc: 0.770\n",
      "Epoch 064: | Loss: 0.51653 | Acc: 0.771\n",
      "Epoch 065: | Loss: 0.52624 | Acc: 0.771\n",
      "Epoch 066: | Loss: 0.47542 | Acc: 0.771\n",
      "Epoch 067: | Loss: 0.89101 | Acc: 0.772\n",
      "Epoch 068: | Loss: 0.56846 | Acc: 0.772\n",
      "Epoch 069: | Loss: 0.51429 | Acc: 0.772\n",
      "Epoch 070: | Loss: 0.51301 | Acc: 0.773\n",
      "Epoch 071: | Loss: 0.43038 | Acc: 0.773\n",
      "Epoch 072: | Loss: 0.68867 | Acc: 0.773\n",
      "Epoch 073: | Loss: 0.72261 | Acc: 0.774\n",
      "Epoch 074: | Loss: 0.59991 | Acc: 0.774\n",
      "Epoch 075: | Loss: 0.53089 | Acc: 0.774\n",
      "Epoch 076: | Loss: 0.54907 | Acc: 0.774\n",
      "Epoch 077: | Loss: 0.43193 | Acc: 0.775\n",
      "Epoch 078: | Loss: 0.57381 | Acc: 0.775\n",
      "Epoch 079: | Loss: 0.42947 | Acc: 0.775\n",
      "Epoch 080: | Loss: 0.55815 | Acc: 0.775\n",
      "Epoch 081: | Loss: 0.56193 | Acc: 0.776\n",
      "Epoch 082: | Loss: 0.54048 | Acc: 0.776\n",
      "Epoch 083: | Loss: 0.55841 | Acc: 0.776\n",
      "Epoch 084: | Loss: 0.62413 | Acc: 0.776\n",
      "Epoch 085: | Loss: 0.51403 | Acc: 0.777\n",
      "Epoch 086: | Loss: 0.41346 | Acc: 0.777\n",
      "Epoch 087: | Loss: 0.58020 | Acc: 0.777\n",
      "Epoch 088: | Loss: 0.46269 | Acc: 0.777\n",
      "Epoch 089: | Loss: 0.60169 | Acc: 0.777\n",
      "Epoch 090: | Loss: 0.51380 | Acc: 0.778\n",
      "Epoch 091: | Loss: 0.56259 | Acc: 0.778\n",
      "Epoch 092: | Loss: 0.54694 | Acc: 0.778\n",
      "Epoch 093: | Loss: 0.65962 | Acc: 0.778\n",
      "Epoch 094: | Loss: 0.47406 | Acc: 0.778\n",
      "Epoch 095: | Loss: 0.58595 | Acc: 0.779\n",
      "Epoch 096: | Loss: 0.55759 | Acc: 0.779\n",
      "Epoch 097: | Loss: 0.57935 | Acc: 0.779\n",
      "Epoch 098: | Loss: 0.49047 | Acc: 0.779\n",
      "Epoch 099: | Loss: 0.45278 | Acc: 0.779\n",
      "Epoch 100: | Loss: 0.68895 | Acc: 0.779\n",
      "Epoch 101: | Loss: 0.48074 | Acc: 0.780\n",
      "Epoch 102: | Loss: 0.60103 | Acc: 0.780\n",
      "Epoch 103: | Loss: 0.53868 | Acc: 0.780\n",
      "Epoch 104: | Loss: 0.50803 | Acc: 0.780\n",
      "Epoch 105: | Loss: 0.57822 | Acc: 0.780\n",
      "Epoch 106: | Loss: 0.49918 | Acc: 0.780\n",
      "Epoch 107: | Loss: 0.46067 | Acc: 0.780\n",
      "Epoch 108: | Loss: 0.63555 | Acc: 0.781\n",
      "Epoch 109: | Loss: 0.50652 | Acc: 0.781\n",
      "Epoch 110: | Loss: 0.51627 | Acc: 0.781\n",
      "Epoch 111: | Loss: 0.60994 | Acc: 0.781\n",
      "Epoch 112: | Loss: 0.48723 | Acc: 0.781\n",
      "Epoch 113: | Loss: 0.48335 | Acc: 0.781\n",
      "Epoch 114: | Loss: 0.44767 | Acc: 0.781\n",
      "Epoch 115: | Loss: 0.52217 | Acc: 0.782\n",
      "Epoch 116: | Loss: 0.42076 | Acc: 0.782\n",
      "Epoch 117: | Loss: 0.37768 | Acc: 0.782\n",
      "Epoch 118: | Loss: 0.59186 | Acc: 0.782\n",
      "Epoch 119: | Loss: 0.59512 | Acc: 0.782\n",
      "Epoch 120: | Loss: 0.41808 | Acc: 0.782\n",
      "Epoch 121: | Loss: 0.57699 | Acc: 0.782\n",
      "Epoch 122: | Loss: 0.57649 | Acc: 0.782\n",
      "Epoch 123: | Loss: 0.44030 | Acc: 0.783\n",
      "Epoch 124: | Loss: 0.41368 | Acc: 0.783\n",
      "Epoch 125: | Loss: 0.64679 | Acc: 0.783\n",
      "Epoch 126: | Loss: 0.56699 | Acc: 0.783\n",
      "Epoch 127: | Loss: 0.49658 | Acc: 0.783\n",
      "Epoch 128: | Loss: 0.49002 | Acc: 0.783\n",
      "Epoch 129: | Loss: 0.57630 | Acc: 0.783\n",
      "Epoch 130: | Loss: 0.59925 | Acc: 0.783\n",
      "Epoch 131: | Loss: 0.57988 | Acc: 0.783\n",
      "Epoch 132: | Loss: 0.68053 | Acc: 0.784\n",
      "Epoch 133: | Loss: 0.45274 | Acc: 0.784\n",
      "Epoch 134: | Loss: 0.48545 | Acc: 0.784\n",
      "Epoch 135: | Loss: 0.49866 | Acc: 0.784\n",
      "Epoch 136: | Loss: 0.52935 | Acc: 0.784\n",
      "Epoch 137: | Loss: 0.52461 | Acc: 0.784\n",
      "Epoch 138: | Loss: 0.44865 | Acc: 0.784\n",
      "Epoch 139: | Loss: 0.50475 | Acc: 0.784\n",
      "Epoch 140: | Loss: 0.51150 | Acc: 0.784\n",
      "Epoch 141: | Loss: 0.51008 | Acc: 0.784\n",
      "Epoch 142: | Loss: 0.50296 | Acc: 0.784\n",
      "Epoch 143: | Loss: 0.48043 | Acc: 0.785\n",
      "Epoch 144: | Loss: 0.49768 | Acc: 0.785\n",
      "Epoch 145: | Loss: 0.47281 | Acc: 0.785\n",
      "Epoch 146: | Loss: 0.58428 | Acc: 0.785\n",
      "Epoch 147: | Loss: 0.53743 | Acc: 0.785\n",
      "Epoch 148: | Loss: 0.52676 | Acc: 0.785\n",
      "Epoch 149: | Loss: 0.47836 | Acc: 0.785\n",
      "Epoch 150: | Loss: 0.58352 | Acc: 0.785\n",
      "Epoch 151: | Loss: 0.47190 | Acc: 0.785\n",
      "Epoch 152: | Loss: 0.48426 | Acc: 0.785\n",
      "Epoch 153: | Loss: 0.46497 | Acc: 0.785\n",
      "Epoch 154: | Loss: 0.52972 | Acc: 0.785\n",
      "Epoch 155: | Loss: 0.63651 | Acc: 0.786\n",
      "Epoch 156: | Loss: 0.55164 | Acc: 0.786\n",
      "Epoch 157: | Loss: 0.36787 | Acc: 0.786\n",
      "Epoch 158: | Loss: 0.59463 | Acc: 0.786\n",
      "Epoch 159: | Loss: 0.43823 | Acc: 0.786\n",
      "Epoch 160: | Loss: 0.48463 | Acc: 0.786\n",
      "Epoch 161: | Loss: 0.48022 | Acc: 0.786\n",
      "Epoch 162: | Loss: 0.37449 | Acc: 0.786\n",
      "Epoch 163: | Loss: 0.49397 | Acc: 0.786\n",
      "Epoch 164: | Loss: 0.56440 | Acc: 0.786\n",
      "Epoch 165: | Loss: 0.51392 | Acc: 0.786\n",
      "Epoch 166: | Loss: 0.61541 | Acc: 0.786\n",
      "Epoch 167: | Loss: 0.44597 | Acc: 0.786\n",
      "Epoch 168: | Loss: 0.60016 | Acc: 0.786\n",
      "Epoch 169: | Loss: 0.48176 | Acc: 0.787\n",
      "Epoch 170: | Loss: 0.58632 | Acc: 0.787\n",
      "Epoch 171: | Loss: 0.48653 | Acc: 0.787\n",
      "Epoch 172: | Loss: 0.40990 | Acc: 0.787\n",
      "Epoch 173: | Loss: 0.53254 | Acc: 0.787\n",
      "Epoch 174: | Loss: 0.43113 | Acc: 0.787\n",
      "Epoch 175: | Loss: 0.51441 | Acc: 0.787\n",
      "Epoch 176: | Loss: 0.49475 | Acc: 0.787\n",
      "Epoch 177: | Loss: 0.43291 | Acc: 0.787\n",
      "Epoch 178: | Loss: 0.48564 | Acc: 0.787\n",
      "Epoch 179: | Loss: 0.53026 | Acc: 0.787\n",
      "Epoch 180: | Loss: 0.64654 | Acc: 0.787\n",
      "Epoch 181: | Loss: 0.45681 | Acc: 0.787\n",
      "Epoch 182: | Loss: 0.47172 | Acc: 0.787\n",
      "Epoch 183: | Loss: 0.63386 | Acc: 0.787\n",
      "Epoch 184: | Loss: 0.57190 | Acc: 0.787\n",
      "Epoch 185: | Loss: 0.60372 | Acc: 0.787\n",
      "Epoch 186: | Loss: 0.60604 | Acc: 0.788\n",
      "Epoch 187: | Loss: 0.50962 | Acc: 0.788\n",
      "Epoch 188: | Loss: 0.47534 | Acc: 0.788\n",
      "Epoch 189: | Loss: 0.66747 | Acc: 0.788\n",
      "Epoch 190: | Loss: 0.48227 | Acc: 0.788\n"
     ]
    }
   ],
   "source": [
    "losses=[]\n",
    "acc_list=[]\n",
    "num_correct = 0\n",
    "num_samples = 0\n",
    "for epoch in range(num_epochs):\n",
    "    for batch_idx, (data, targets) in enumerate(train_loader):\n",
    "        data = data.to(device=device)\n",
    "        targets = targets.to(device=device)\n",
    "        \n",
    "        # forward\n",
    "        scores = model(data)\n",
    "        loss = criterion(scores, targets)\n",
    "        \n",
    "        # l2 regularization\n",
    "        l2_lambda = 0.02\n",
    "        l2_norm = sum(p.pow(2.0).sum()\n",
    "                  for p in model.parameters())\n",
    "        loss = loss + l2_lambda * l2_norm\n",
    "        \n",
    "        # backward\n",
    "        optimizer.zero_grad()\n",
    "        loss.backward()\n",
    "        \n",
    "        # gradient descent or adam step\n",
    "        optimizer.step()\n",
    "        \n",
    "        #accuracy\n",
    "        scores = model(data)\n",
    "        predictions = scores\n",
    "        predictions = predictions.detach().apply_( lambda x: 1 if x >= 0.5 else 0 )\n",
    "        num_correct += int((predictions == targets).sum())\n",
    "        num_samples += predictions.size(0)\n",
    "        acc = num_correct / num_samples\n",
    "        \n",
    "    if epoch%5 == 0:\n",
    "        losses.append(loss.detach().numpy() )\n",
    "        acc_list.append(acc)\n",
    "    print(f'Epoch {epoch:03}: | Loss: {loss:.5f} | Acc: {acc:.3f}')\n",
    "        \n",
    "        "
   ]
  },
  {
   "cell_type": "code",
   "execution_count": null,
   "id": "b4fcb9b7",
   "metadata": {
    "ExecuteTime": {
     "start_time": "2022-11-14T07:12:57.537Z"
    }
   },
   "outputs": [],
   "source": [
    "#plotting the loss\n",
    "x_range = list(range(5,5*len(losses)+5,5))\n",
    "plt.plot(x_range,losses)\n",
    "plt.title('Loss vs Epochs')\n",
    "plt.xlabel('Epochs')\n",
    "plt.ylabel('loss')\n",
    "plt.show()"
   ]
  },
  {
   "cell_type": "markdown",
   "id": "06bcbff7",
   "metadata": {
    "ExecuteTime": {
     "end_time": "2022-10-28T17:23:14.669685Z",
     "start_time": "2022-10-28T17:23:14.663564Z"
    }
   },
   "source": [
    "# Model Accuracy"
   ]
  },
  {
   "cell_type": "code",
   "execution_count": null,
   "id": "7057e4ba",
   "metadata": {
    "ExecuteTime": {
     "start_time": "2022-11-14T07:12:57.540Z"
    }
   },
   "outputs": [],
   "source": [
    "num_correct = 0\n",
    "num_samples = 0\n",
    "\n",
    "# Set model to eval\n",
    "model.eval()\n",
    "\n",
    "with torch.no_grad():\n",
    "    for x, y in train_loader:\n",
    "        x = x.to(device=device)\n",
    "        y.to(device=device)\n",
    "        #y = torch.squeeze(y.to(device=device), 1)\n",
    "        #print(y.shape)\n",
    "\n",
    "        scores = model(x)\n",
    "        predictions = scores\n",
    "        predictions = predictions.apply_( lambda x: 1 if x >= 0.5 else 0 )\n",
    "        num_correct += int((predictions == y).sum())\n",
    "        num_samples += predictions.size(0)\n",
    "\n",
    "# Toggle model back to train\n",
    "model.train()\n",
    "#print(num_correct , num_samples)\n",
    "num_correct / num_samples"
   ]
  },
  {
   "cell_type": "code",
   "execution_count": null,
   "id": "48a94a4e",
   "metadata": {
    "ExecuteTime": {
     "start_time": "2022-11-14T07:12:57.543Z"
    }
   },
   "outputs": [],
   "source": [
    "# Check accuracy on training & test to see how good our model\n",
    "def check_accuracy(loader, model):\n",
    "    num_correct = 0\n",
    "    num_samples = 0\n",
    "\n",
    "    # Set model to eval\n",
    "    model.eval()\n",
    "\n",
    "    with torch.no_grad():\n",
    "        for x, y in train_loader:\n",
    "            x = x.to(device=device)\n",
    "            y.to(device=device)\n",
    "            #y = torch.squeeze(y.to(device=device), 1)\n",
    "            #print(y.shape)\n",
    "\n",
    "            scores = model(x)\n",
    "            predictions = scores\n",
    "            predictions = predictions.apply_( lambda x: 1 if x >= 0.5 else 0 )\n",
    "            num_correct += int((predictions == y).sum())\n",
    "            num_samples += predictions.size(0)\n",
    "\n",
    "    # Toggle model back to train\n",
    "    model.train()\n",
    "    return num_correct / num_samples"
   ]
  },
  {
   "cell_type": "code",
   "execution_count": null,
   "id": "f370065c",
   "metadata": {
    "ExecuteTime": {
     "start_time": "2022-11-14T07:12:57.545Z"
    }
   },
   "outputs": [],
   "source": [
    "print(f\"Accuracy on training set: {check_accuracy(train_loader, model)*100:2f} %\")\n",
    "#print(f\"Accuracy on test set: {check_accuracy(test_loader, model)*100:.2f} %\")"
   ]
  },
  {
   "cell_type": "markdown",
   "id": "122b08ba",
   "metadata": {},
   "source": [
    "# Model Performance on validation dataset"
   ]
  },
  {
   "cell_type": "code",
   "execution_count": null,
   "id": "7194f3f0",
   "metadata": {
    "ExecuteTime": {
     "start_time": "2022-11-14T07:12:57.547Z"
    }
   },
   "outputs": [],
   "source": [
    "X2 = X_tensor(X_valid_norm)\n",
    "y2 = y_tensor(y_valid_t1.iloc[:,-1])\n",
    "\n",
    "Valid_datasets = CusDatasetLoader(X2, y2)\n",
    "Valid_loader = DataLoader(dataset=Valid_datasets, batch_size=batch_size, shuffle=True)\n",
    "print(f\"Accuracy on valid set: {check_accuracy(Valid_loader, model)*100:.2f} %\")"
   ]
  },
  {
   "cell_type": "code",
   "execution_count": null,
   "id": "d70d120b",
   "metadata": {
    "ExecuteTime": {
     "start_time": "2022-11-14T07:12:57.549Z"
    }
   },
   "outputs": [],
   "source": [
    "y_true = np.array(y_valid_t1.iloc[:,[-1]])\n",
    "all_y_pred = []\n",
    "\n",
    "model.eval()\n",
    "with torch.no_grad():\n",
    "    for x, y in Valid_loader:\n",
    "            x = x.to(device=device)\n",
    "            y = y.to(device=device)\n",
    "            #y = torch.squeeze(y.to(device=device), 1)\n",
    "            \n",
    "            pred_y1 = torch.sigmoid(model(x))\n",
    "            y_pred = pred_y1.squeeze(-1).detach().numpy()\n",
    "            all_y_pred = np.append(all_y_pred, y_pred)\n",
    "\n",
    "print(y_true.shape)\n",
    "print(all_y_pred.reshape(-1,1).shape)\n",
    "fpr, tpr, _ = metrics.roc_curve(y_true, all_y_pred)\n",
    "roc_auc = metrics.roc_auc_score(y_true, all_y_pred)\n",
    "\n",
    "model.train()\n",
    "\n",
    "plt.figure(1)\n",
    "plt.plot([0, 1], [0, 1], 'k-')\n",
    "plt.plot(fpr, tpr, label='FN(area = {:.3f})'.format(roc_auc))\n",
    "plt.xlabel('False positive rate')\n",
    "plt.ylabel('True positive rate')\n",
    "plt.title(\"ROC curve\")\n",
    "plt.legend(loc=\"best\")\n",
    "plt.show()"
   ]
  },
  {
   "cell_type": "markdown",
   "id": "b16acbcd",
   "metadata": {},
   "source": [
    "# Test"
   ]
  },
  {
   "cell_type": "code",
   "execution_count": null,
   "id": "0fc30b2a",
   "metadata": {
    "ExecuteTime": {
     "start_time": "2022-11-14T07:12:57.553Z"
    }
   },
   "outputs": [],
   "source": [
    "def test(loader, model):\n",
    "    # Set model to eval\n",
    "    model.eval()\n",
    "    res = torch.tensor([], dtype=torch.int64)\n",
    "    with torch.no_grad():\n",
    "        for x, y in loader:\n",
    "            x = x.to(device=device)\n",
    "            y.to(device=device)\n",
    "\n",
    "            scores = model(x)\n",
    "            predictions = scores\n",
    "            res =  torch.cat((predictions, res), 0)  \n",
    "    model.train()\n",
    "   \n",
    "    return res"
   ]
  },
  {
   "cell_type": "code",
   "execution_count": null,
   "id": "767ccbaa",
   "metadata": {
    "ExecuteTime": {
     "start_time": "2022-11-14T07:12:57.555Z"
    }
   },
   "outputs": [],
   "source": [
    "X_test_mean\n",
    "x_valid_mean=X_test_mean.values\n",
    "x_valid_mean_scaled = scaler.fit_transform(x_valid_mean)\n",
    "X_test_norm=pd.DataFrame(x_valid_mean_scaled)\n",
    "X_test_norm"
   ]
  },
  {
   "cell_type": "code",
   "execution_count": null,
   "id": "66e51253",
   "metadata": {
    "ExecuteTime": {
     "start_time": "2022-11-14T07:12:57.557Z"
    }
   },
   "outputs": [],
   "source": [
    "X_test_final = X_tensor(X_test_norm)\n",
    "y_final = torch.zeros([4790,1])\n",
    "\n",
    "test_datasets = CusDatasetLoader(X_test_final, y_final)\n",
    "test_loader = DataLoader(dataset=test_datasets, batch_size=batch_size, shuffle=True)\n",
    "\n",
    "result = test(test_loader, model)\n",
    "result"
   ]
  },
  {
   "cell_type": "code",
   "execution_count": null,
   "id": "8747d5c8",
   "metadata": {
    "ExecuteTime": {
     "start_time": "2022-11-14T07:12:57.560Z"
    },
    "scrolled": true
   },
   "outputs": [],
   "source": [
    "\n",
    "#df.index = ['Row_1', 'Row_2', 'Row_3', 'Row_4']\n",
    "res1 = pd.DataFrame(result.tolist(), columns=[\"Predicted\"])\n",
    "res1.index = X_test.index\n",
    "res1.index.name = 'Id'\n",
    "pd.DataFrame(res1).to_csv('out.csv')\n",
    "#print(torch.count_nonzero(torch.from_numpy(np.array(res1)).to(torch.float32)))\n",
    "res1"
   ]
  }
 ],
 "metadata": {
  "kernelspec": {
   "display_name": "comp3340",
   "language": "python",
   "name": "comp3340"
  },
  "language_info": {
   "codemirror_mode": {
    "name": "ipython",
    "version": 3
   },
   "file_extension": ".py",
   "mimetype": "text/x-python",
   "name": "python",
   "nbconvert_exporter": "python",
   "pygments_lexer": "ipython3",
   "version": "3.7.13"
  },
  "toc": {
   "base_numbering": 1,
   "nav_menu": {},
   "number_sections": true,
   "sideBar": true,
   "skip_h1_title": false,
   "title_cell": "Table of Contents",
   "title_sidebar": "Contents",
   "toc_cell": false,
   "toc_position": {},
   "toc_section_display": true,
   "toc_window_display": true
  }
 },
 "nbformat": 4,
 "nbformat_minor": 5
}
