{
 "cells": [
  {
   "cell_type": "markdown",
   "id": "ef20a47f",
   "metadata": {
    "ExecuteTime": {
     "end_time": "2022-10-25T14:31:30.264761Z",
     "start_time": "2022-10-25T14:31:30.261019Z"
    },
    "heading_collapsed": true
   },
   "source": [
    "# Libraries"
   ]
  },
  {
   "cell_type": "markdown",
   "id": "c7dc3c25",
   "metadata": {
    "hidden": true
   },
   "source": [
    "! pip install numpy pandas sklearn"
   ]
  },
  {
   "cell_type": "code",
   "execution_count": 2,
   "id": "13f6d23e",
   "metadata": {
    "ExecuteTime": {
     "end_time": "2022-11-14T03:00:23.623634Z",
     "start_time": "2022-11-14T03:00:21.772495Z"
    },
    "hidden": true
   },
   "outputs": [],
   "source": [
    "import numpy as np\n",
    "import pandas as pd\n",
    "from sklearn import preprocessing\n",
    "from sklearn.impute import SimpleImputer\n",
    "\n",
    "import warnings\n",
    "warnings.filterwarnings(\"ignore\")"
   ]
  },
  {
   "cell_type": "markdown",
   "id": "e2457a8a",
   "metadata": {},
   "source": [
    "# Import data"
   ]
  },
  {
   "cell_type": "markdown",
   "id": "9604885a",
   "metadata": {},
   "source": [
    "## X"
   ]
  },
  {
   "cell_type": "code",
   "execution_count": 3,
   "id": "f546c14e",
   "metadata": {
    "ExecuteTime": {
     "end_time": "2022-11-14T03:01:45.690449Z",
     "start_time": "2022-11-14T03:00:23.628536Z"
    }
   },
   "outputs": [],
   "source": [
    "# For training the model\n",
    "X_train = pd.read_csv(\"../../X/X_train.csv\" , index_col=[0], header=[0,1, 2])\n",
    "\n",
    "# For cross validation\n",
    "X_valid = pd.read_csv(\"../../X/X_valid.csv\", index_col=[0], header=[0, 1, 2])\n",
    "\n",
    "# For prediction\n",
    "X_test = pd.read_csv(\"../../X/X_test.csv\", index_col=[0], header=[0, 1, 2])"
   ]
  },
  {
   "cell_type": "markdown",
   "id": "1517bf13",
   "metadata": {},
   "source": [
    "## Task 1"
   ]
  },
  {
   "cell_type": "code",
   "execution_count": 4,
   "id": "a44e85c0",
   "metadata": {
    "ExecuteTime": {
     "end_time": "2022-11-14T03:01:45.730366Z",
     "start_time": "2022-11-14T03:01:45.694139Z"
    }
   },
   "outputs": [],
   "source": [
    "y_train_t1 = pd.read_csv(\"../../Task1/Y_train.csv\")\n",
    "y_valid_t1 = pd.read_csv(\"../../Task1/Y_valid.csv\")"
   ]
  },
  {
   "cell_type": "code",
   "execution_count": 5,
   "id": "16c572c0",
   "metadata": {
    "ExecuteTime": {
     "end_time": "2022-11-14T03:01:45.746094Z",
     "start_time": "2022-11-14T03:01:45.737946Z"
    }
   },
   "outputs": [],
   "source": [
    "y_train_t1_value=y_train_t1[\"mort_icu\"]\n",
    "y_valid_t1_value=y_valid_t1[\"mort_icu\"]"
   ]
  },
  {
   "cell_type": "markdown",
   "id": "b04af03f",
   "metadata": {},
   "source": [
    "## Task 2"
   ]
  },
  {
   "cell_type": "code",
   "execution_count": 6,
   "id": "94409666",
   "metadata": {
    "ExecuteTime": {
     "end_time": "2022-11-14T03:01:45.807766Z",
     "start_time": "2022-11-14T03:01:45.752611Z"
    }
   },
   "outputs": [],
   "source": [
    "y_train_t2 = pd.read_csv(\"../../Task2/Y_train.csv\")\n",
    "y_valid_t2 = pd.read_csv(\"../../Task2/Y_valid.csv\")"
   ]
  },
  {
   "cell_type": "code",
   "execution_count": 7,
   "id": "027f2ef0",
   "metadata": {
    "ExecuteTime": {
     "end_time": "2022-11-14T03:01:45.820391Z",
     "start_time": "2022-11-14T03:01:45.812819Z"
    }
   },
   "outputs": [],
   "source": [
    "y_train_t2_value=y_train_t2[\"los_icu\"]\n",
    "y_valid_t2_value=y_valid_t2[\"los_icu\"]"
   ]
  },
  {
   "cell_type": "markdown",
   "id": "aed0dc26",
   "metadata": {},
   "source": [
    "# Data Pre-processing"
   ]
  },
  {
   "cell_type": "markdown",
   "id": "341e78ea",
   "metadata": {},
   "source": [
    "## Process 1: Mean\n"
   ]
  },
  {
   "cell_type": "code",
   "execution_count": 8,
   "id": "01cb5b01",
   "metadata": {
    "ExecuteTime": {
     "end_time": "2022-11-14T03:01:45.856415Z",
     "start_time": "2022-11-14T03:01:45.826261Z"
    }
   },
   "outputs": [],
   "source": [
    "li=[] # Find the positions of the columns with means of the particular feature after 24 hours\n",
    "for i in range(47, 7488, 72):\n",
    "    li.append(i)\n",
    "#print(li)\n",
    "\n",
    "headlist=list(X_train.columns.values)[1:]\n",
    "head=[]\n",
    "for i in li:\n",
    "    head.append(headlist[i][0])\n",
    "\n",
    "dx_train = pd. DataFrame(X_train)\n",
    "X_train_mean= dx_train.iloc[:,li]\n",
    "X_train_mean.columns=head\n",
    "\n",
    "dx_valid = pd. DataFrame(X_valid)\n",
    "X_valid_mean= dx_valid.iloc[:,li]\n",
    "X_valid_mean.columns=head\n",
    "\n",
    "dx_test = pd. DataFrame(X_test)\n",
    "X_test_mean= dx_test.iloc[:,li]\n",
    "X_test_mean.columns=head"
   ]
  },
  {
   "cell_type": "markdown",
   "id": "668ec5a9",
   "metadata": {},
   "source": [
    "## Process 2: Elimination of features containing 70% 0 value (call is\"nozero\") and Imputation"
   ]
  },
  {
   "cell_type": "code",
   "execution_count": 9,
   "id": "716da602",
   "metadata": {
    "ExecuteTime": {
     "end_time": "2022-11-14T03:01:46.155234Z",
     "start_time": "2022-11-14T03:01:45.862269Z"
    }
   },
   "outputs": [],
   "source": [
    "# Eliminate feature containing 70% 0 value\n",
    "import copy\n",
    "X_train_nozero=copy.deepcopy(X_train_mean)\n",
    "X_valid_nozero=copy.deepcopy(X_valid_mean)\n",
    "X_test_nozero=copy.deepcopy(X_test_mean)\n",
    "for i in X_train_mean.columns:\n",
    "    if (X_train_nozero[i] == 0).sum()> 12000:\n",
    "        X_train_nozero.drop(i, axis=1, inplace=True)\n",
    "\n",
    "headnozero=list(X_train_nozero.columns.values)\n",
    "X_valid_nozero = X_valid_nozero[X_train_nozero.columns]\n",
    "X_test_nozero = X_test_nozero[X_train_nozero.columns]"
   ]
  },
  {
   "cell_type": "code",
   "execution_count": 10,
   "id": "3cf709aa",
   "metadata": {
    "ExecuteTime": {
     "end_time": "2022-11-14T03:01:46.390174Z",
     "start_time": "2022-11-14T03:01:46.160766Z"
    }
   },
   "outputs": [
    {
     "data": {
      "text/html": [
       "<div>\n",
       "<style scoped>\n",
       "    .dataframe tbody tr th:only-of-type {\n",
       "        vertical-align: middle;\n",
       "    }\n",
       "\n",
       "    .dataframe tbody tr th {\n",
       "        vertical-align: top;\n",
       "    }\n",
       "\n",
       "    .dataframe thead th {\n",
       "        text-align: right;\n",
       "    }\n",
       "</style>\n",
       "<table border=\"1\" class=\"dataframe\">\n",
       "  <thead>\n",
       "    <tr style=\"text-align: right;\">\n",
       "      <th></th>\n",
       "      <th>alanine aminotransferase</th>\n",
       "      <th>albumin</th>\n",
       "      <th>alkaline phosphate</th>\n",
       "      <th>anion gap</th>\n",
       "      <th>asparate aminotransferase</th>\n",
       "      <th>basophils</th>\n",
       "      <th>bicarbonate</th>\n",
       "      <th>bilirubin</th>\n",
       "      <th>blood urea nitrogen</th>\n",
       "      <th>calcium</th>\n",
       "      <th>...</th>\n",
       "      <th>respiratory rate set</th>\n",
       "      <th>sodium</th>\n",
       "      <th>systolic blood pressure</th>\n",
       "      <th>temperature</th>\n",
       "      <th>tidal volume observed</th>\n",
       "      <th>tidal volume set</th>\n",
       "      <th>tidal volume spontaneous</th>\n",
       "      <th>troponin-t</th>\n",
       "      <th>weight</th>\n",
       "      <th>white blood cell count</th>\n",
       "    </tr>\n",
       "  </thead>\n",
       "  <tbody>\n",
       "    <tr>\n",
       "      <th>0</th>\n",
       "      <td>-0.254460</td>\n",
       "      <td>-1.979855</td>\n",
       "      <td>-0.318615</td>\n",
       "      <td>0.152716</td>\n",
       "      <td>-0.226618</td>\n",
       "      <td>0.003512</td>\n",
       "      <td>-1.337656</td>\n",
       "      <td>-0.298127</td>\n",
       "      <td>0.741842</td>\n",
       "      <td>-1.080013</td>\n",
       "      <td>...</td>\n",
       "      <td>0.339645</td>\n",
       "      <td>0.136911</td>\n",
       "      <td>-0.809384</td>\n",
       "      <td>0.754975</td>\n",
       "      <td>0.336592</td>\n",
       "      <td>0.440628</td>\n",
       "      <td>0.028942</td>\n",
       "      <td>-0.042509</td>\n",
       "      <td>1.026004</td>\n",
       "      <td>0.583116</td>\n",
       "    </tr>\n",
       "    <tr>\n",
       "      <th>1</th>\n",
       "      <td>-0.256599</td>\n",
       "      <td>-0.251806</td>\n",
       "      <td>-0.422405</td>\n",
       "      <td>1.361109</td>\n",
       "      <td>-0.254291</td>\n",
       "      <td>-0.742403</td>\n",
       "      <td>-1.123327</td>\n",
       "      <td>-0.444605</td>\n",
       "      <td>1.807475</td>\n",
       "      <td>-0.256308</td>\n",
       "      <td>...</td>\n",
       "      <td>-0.112217</td>\n",
       "      <td>-0.786812</td>\n",
       "      <td>0.359660</td>\n",
       "      <td>-0.089499</td>\n",
       "      <td>-0.060738</td>\n",
       "      <td>-0.049053</td>\n",
       "      <td>0.028942</td>\n",
       "      <td>-0.042509</td>\n",
       "      <td>0.008052</td>\n",
       "      <td>-0.181589</td>\n",
       "    </tr>\n",
       "    <tr>\n",
       "      <th>2</th>\n",
       "      <td>-0.269432</td>\n",
       "      <td>0.035006</td>\n",
       "      <td>-0.367050</td>\n",
       "      <td>-0.330641</td>\n",
       "      <td>-0.271686</td>\n",
       "      <td>2.097036</td>\n",
       "      <td>0.591306</td>\n",
       "      <td>-0.395779</td>\n",
       "      <td>-0.416455</td>\n",
       "      <td>0.636039</td>\n",
       "      <td>...</td>\n",
       "      <td>-0.133014</td>\n",
       "      <td>-0.417323</td>\n",
       "      <td>2.697747</td>\n",
       "      <td>0.702221</td>\n",
       "      <td>1.199767</td>\n",
       "      <td>1.279148</td>\n",
       "      <td>0.028942</td>\n",
       "      <td>-0.042509</td>\n",
       "      <td>0.008052</td>\n",
       "      <td>0.107507</td>\n",
       "    </tr>\n",
       "    <tr>\n",
       "      <th>3</th>\n",
       "      <td>-0.138451</td>\n",
       "      <td>0.035006</td>\n",
       "      <td>-0.069442</td>\n",
       "      <td>-0.088963</td>\n",
       "      <td>-0.143050</td>\n",
       "      <td>0.003512</td>\n",
       "      <td>0.591306</td>\n",
       "      <td>-0.111027</td>\n",
       "      <td>-0.323791</td>\n",
       "      <td>0.910607</td>\n",
       "      <td>...</td>\n",
       "      <td>-0.112217</td>\n",
       "      <td>0.691146</td>\n",
       "      <td>-0.482051</td>\n",
       "      <td>-0.617335</td>\n",
       "      <td>-0.060738</td>\n",
       "      <td>-0.049053</td>\n",
       "      <td>0.028942</td>\n",
       "      <td>-0.042509</td>\n",
       "      <td>0.008052</td>\n",
       "      <td>0.023576</td>\n",
       "    </tr>\n",
       "    <tr>\n",
       "      <th>4</th>\n",
       "      <td>-0.138451</td>\n",
       "      <td>0.035006</td>\n",
       "      <td>-0.069442</td>\n",
       "      <td>-0.813998</td>\n",
       "      <td>-0.143050</td>\n",
       "      <td>0.003512</td>\n",
       "      <td>0.376977</td>\n",
       "      <td>-0.111027</td>\n",
       "      <td>0.602846</td>\n",
       "      <td>0.430112</td>\n",
       "      <td>...</td>\n",
       "      <td>0.103316</td>\n",
       "      <td>1.245380</td>\n",
       "      <td>1.061086</td>\n",
       "      <td>0.438275</td>\n",
       "      <td>0.379751</td>\n",
       "      <td>0.440628</td>\n",
       "      <td>-1.333059</td>\n",
       "      <td>-0.317391</td>\n",
       "      <td>0.008052</td>\n",
       "      <td>-0.442708</td>\n",
       "    </tr>\n",
       "    <tr>\n",
       "      <th>...</th>\n",
       "      <td>...</td>\n",
       "      <td>...</td>\n",
       "      <td>...</td>\n",
       "      <td>...</td>\n",
       "      <td>...</td>\n",
       "      <td>...</td>\n",
       "      <td>...</td>\n",
       "      <td>...</td>\n",
       "      <td>...</td>\n",
       "      <td>...</td>\n",
       "      <td>...</td>\n",
       "      <td>...</td>\n",
       "      <td>...</td>\n",
       "      <td>...</td>\n",
       "      <td>...</td>\n",
       "      <td>...</td>\n",
       "      <td>...</td>\n",
       "      <td>...</td>\n",
       "      <td>...</td>\n",
       "      <td>...</td>\n",
       "      <td>...</td>\n",
       "    </tr>\n",
       "    <tr>\n",
       "      <th>16755</th>\n",
       "      <td>-0.138451</td>\n",
       "      <td>1.044231</td>\n",
       "      <td>-0.069442</td>\n",
       "      <td>-0.813998</td>\n",
       "      <td>-0.143050</td>\n",
       "      <td>0.290121</td>\n",
       "      <td>0.376977</td>\n",
       "      <td>-0.111027</td>\n",
       "      <td>-0.184795</td>\n",
       "      <td>0.361470</td>\n",
       "      <td>...</td>\n",
       "      <td>-0.112217</td>\n",
       "      <td>-0.047833</td>\n",
       "      <td>0.266137</td>\n",
       "      <td>-2.002789</td>\n",
       "      <td>-0.060738</td>\n",
       "      <td>-0.049053</td>\n",
       "      <td>0.028942</td>\n",
       "      <td>-0.366371</td>\n",
       "      <td>0.584864</td>\n",
       "      <td>-0.162937</td>\n",
       "    </tr>\n",
       "    <tr>\n",
       "      <th>16756</th>\n",
       "      <td>-0.138451</td>\n",
       "      <td>0.035006</td>\n",
       "      <td>-0.069442</td>\n",
       "      <td>-0.088963</td>\n",
       "      <td>-0.143050</td>\n",
       "      <td>-0.742403</td>\n",
       "      <td>-2.409302</td>\n",
       "      <td>-0.111027</td>\n",
       "      <td>-0.370123</td>\n",
       "      <td>-0.599519</td>\n",
       "      <td>...</td>\n",
       "      <td>-0.112217</td>\n",
       "      <td>0.321656</td>\n",
       "      <td>0.874039</td>\n",
       "      <td>0.042444</td>\n",
       "      <td>-0.060738</td>\n",
       "      <td>-0.049053</td>\n",
       "      <td>0.028942</td>\n",
       "      <td>-0.361918</td>\n",
       "      <td>0.973702</td>\n",
       "      <td>0.405929</td>\n",
       "    </tr>\n",
       "    <tr>\n",
       "      <th>16757</th>\n",
       "      <td>-0.260876</td>\n",
       "      <td>1.044231</td>\n",
       "      <td>-0.297857</td>\n",
       "      <td>-0.330641</td>\n",
       "      <td>-0.261407</td>\n",
       "      <td>0.003512</td>\n",
       "      <td>1.448622</td>\n",
       "      <td>-0.151648</td>\n",
       "      <td>0.093196</td>\n",
       "      <td>0.361470</td>\n",
       "      <td>...</td>\n",
       "      <td>-0.112217</td>\n",
       "      <td>-0.602068</td>\n",
       "      <td>-0.856145</td>\n",
       "      <td>-0.815234</td>\n",
       "      <td>-0.060738</td>\n",
       "      <td>-0.049053</td>\n",
       "      <td>0.028942</td>\n",
       "      <td>-0.042509</td>\n",
       "      <td>-0.472878</td>\n",
       "      <td>-0.480010</td>\n",
       "    </tr>\n",
       "    <tr>\n",
       "      <th>16758</th>\n",
       "      <td>-0.138451</td>\n",
       "      <td>0.035006</td>\n",
       "      <td>-0.069442</td>\n",
       "      <td>-1.055677</td>\n",
       "      <td>-0.143050</td>\n",
       "      <td>0.003512</td>\n",
       "      <td>0.591306</td>\n",
       "      <td>-0.111027</td>\n",
       "      <td>-0.370123</td>\n",
       "      <td>-0.462235</td>\n",
       "      <td>...</td>\n",
       "      <td>-0.112217</td>\n",
       "      <td>1.430125</td>\n",
       "      <td>1.762512</td>\n",
       "      <td>0.372320</td>\n",
       "      <td>-0.060738</td>\n",
       "      <td>-0.049053</td>\n",
       "      <td>0.028942</td>\n",
       "      <td>-0.042509</td>\n",
       "      <td>0.781214</td>\n",
       "      <td>-0.489336</td>\n",
       "    </tr>\n",
       "    <tr>\n",
       "      <th>16759</th>\n",
       "      <td>-0.243765</td>\n",
       "      <td>0.035006</td>\n",
       "      <td>-0.207906</td>\n",
       "      <td>-1.297356</td>\n",
       "      <td>-0.221874</td>\n",
       "      <td>0.003512</td>\n",
       "      <td>1.877280</td>\n",
       "      <td>0.361027</td>\n",
       "      <td>-0.601782</td>\n",
       "      <td>-0.050382</td>\n",
       "      <td>...</td>\n",
       "      <td>-0.369343</td>\n",
       "      <td>-0.602068</td>\n",
       "      <td>1.107848</td>\n",
       "      <td>0.174394</td>\n",
       "      <td>-1.806959</td>\n",
       "      <td>-0.817152</td>\n",
       "      <td>-0.406955</td>\n",
       "      <td>-0.366371</td>\n",
       "      <td>-0.608981</td>\n",
       "      <td>-0.489336</td>\n",
       "    </tr>\n",
       "  </tbody>\n",
       "</table>\n",
       "<p>16760 rows × 61 columns</p>\n",
       "</div>"
      ],
      "text/plain": [
       "       alanine aminotransferase   albumin  alkaline phosphate  anion gap  \\\n",
       "0                     -0.254460 -1.979855           -0.318615   0.152716   \n",
       "1                     -0.256599 -0.251806           -0.422405   1.361109   \n",
       "2                     -0.269432  0.035006           -0.367050  -0.330641   \n",
       "3                     -0.138451  0.035006           -0.069442  -0.088963   \n",
       "4                     -0.138451  0.035006           -0.069442  -0.813998   \n",
       "...                         ...       ...                 ...        ...   \n",
       "16755                 -0.138451  1.044231           -0.069442  -0.813998   \n",
       "16756                 -0.138451  0.035006           -0.069442  -0.088963   \n",
       "16757                 -0.260876  1.044231           -0.297857  -0.330641   \n",
       "16758                 -0.138451  0.035006           -0.069442  -1.055677   \n",
       "16759                 -0.243765  0.035006           -0.207906  -1.297356   \n",
       "\n",
       "       asparate aminotransferase  basophils  bicarbonate  bilirubin  \\\n",
       "0                      -0.226618   0.003512    -1.337656  -0.298127   \n",
       "1                      -0.254291  -0.742403    -1.123327  -0.444605   \n",
       "2                      -0.271686   2.097036     0.591306  -0.395779   \n",
       "3                      -0.143050   0.003512     0.591306  -0.111027   \n",
       "4                      -0.143050   0.003512     0.376977  -0.111027   \n",
       "...                          ...        ...          ...        ...   \n",
       "16755                  -0.143050   0.290121     0.376977  -0.111027   \n",
       "16756                  -0.143050  -0.742403    -2.409302  -0.111027   \n",
       "16757                  -0.261407   0.003512     1.448622  -0.151648   \n",
       "16758                  -0.143050   0.003512     0.591306  -0.111027   \n",
       "16759                  -0.221874   0.003512     1.877280   0.361027   \n",
       "\n",
       "       blood urea nitrogen   calcium  ...  respiratory rate set    sodium  \\\n",
       "0                 0.741842 -1.080013  ...              0.339645  0.136911   \n",
       "1                 1.807475 -0.256308  ...             -0.112217 -0.786812   \n",
       "2                -0.416455  0.636039  ...             -0.133014 -0.417323   \n",
       "3                -0.323791  0.910607  ...             -0.112217  0.691146   \n",
       "4                 0.602846  0.430112  ...              0.103316  1.245380   \n",
       "...                    ...       ...  ...                   ...       ...   \n",
       "16755            -0.184795  0.361470  ...             -0.112217 -0.047833   \n",
       "16756            -0.370123 -0.599519  ...             -0.112217  0.321656   \n",
       "16757             0.093196  0.361470  ...             -0.112217 -0.602068   \n",
       "16758            -0.370123 -0.462235  ...             -0.112217  1.430125   \n",
       "16759            -0.601782 -0.050382  ...             -0.369343 -0.602068   \n",
       "\n",
       "       systolic blood pressure  temperature  tidal volume observed  \\\n",
       "0                    -0.809384     0.754975               0.336592   \n",
       "1                     0.359660    -0.089499              -0.060738   \n",
       "2                     2.697747     0.702221               1.199767   \n",
       "3                    -0.482051    -0.617335              -0.060738   \n",
       "4                     1.061086     0.438275               0.379751   \n",
       "...                        ...          ...                    ...   \n",
       "16755                 0.266137    -2.002789              -0.060738   \n",
       "16756                 0.874039     0.042444              -0.060738   \n",
       "16757                -0.856145    -0.815234              -0.060738   \n",
       "16758                 1.762512     0.372320              -0.060738   \n",
       "16759                 1.107848     0.174394              -1.806959   \n",
       "\n",
       "       tidal volume set  tidal volume spontaneous  troponin-t    weight  \\\n",
       "0              0.440628                  0.028942   -0.042509  1.026004   \n",
       "1             -0.049053                  0.028942   -0.042509  0.008052   \n",
       "2              1.279148                  0.028942   -0.042509  0.008052   \n",
       "3             -0.049053                  0.028942   -0.042509  0.008052   \n",
       "4              0.440628                 -1.333059   -0.317391  0.008052   \n",
       "...                 ...                       ...         ...       ...   \n",
       "16755         -0.049053                  0.028942   -0.366371  0.584864   \n",
       "16756         -0.049053                  0.028942   -0.361918  0.973702   \n",
       "16757         -0.049053                  0.028942   -0.042509 -0.472878   \n",
       "16758         -0.049053                  0.028942   -0.042509  0.781214   \n",
       "16759         -0.817152                 -0.406955   -0.366371 -0.608981   \n",
       "\n",
       "       white blood cell count  \n",
       "0                    0.583116  \n",
       "1                   -0.181589  \n",
       "2                    0.107507  \n",
       "3                    0.023576  \n",
       "4                   -0.442708  \n",
       "...                       ...  \n",
       "16755               -0.162937  \n",
       "16756                0.405929  \n",
       "16757               -0.480010  \n",
       "16758               -0.489336  \n",
       "16759               -0.489336  \n",
       "\n",
       "[16760 rows x 61 columns]"
      ]
     },
     "execution_count": 10,
     "metadata": {},
     "output_type": "execute_result"
    }
   ],
   "source": [
    "# Impute the 0 with mean\n",
    "imp = SimpleImputer(missing_values=0, strategy='mean')\n",
    "X_train_nozero = pd.DataFrame(imp.fit_transform(X_train_nozero))\n",
    "X_train_nozero.columns=headnozero\n",
    "X_valid_nozero = pd.DataFrame(imp.fit_transform(X_valid_nozero))\n",
    "X_valid_nozero.columns=headnozero\n",
    "X_test_nozero = pd.DataFrame(imp.fit_transform(X_test_nozero))\n",
    "X_test_nozero.columns=headnozero\n",
    "X_train_nozero"
   ]
  },
  {
   "cell_type": "markdown",
   "id": "edfbdb01",
   "metadata": {},
   "source": [
    "## Normalization"
   ]
  },
  {
   "cell_type": "code",
   "execution_count": 12,
   "id": "4495564c",
   "metadata": {
    "ExecuteTime": {
     "end_time": "2022-11-14T03:03:05.527018Z",
     "start_time": "2022-11-14T03:03:05.465165Z"
    }
   },
   "outputs": [],
   "source": [
    "scaler = preprocessing.StandardScaler()\n",
    "\n",
    "X_train_nozero = scaler.fit_transform(X_train_nozero)\n",
    "X_train_norm=pd.DataFrame(X_train_nozero)\n",
    "\n",
    "X_valid_nozero = scaler.fit_transform(X_valid_nozero)\n",
    "X_valid_norm=pd.DataFrame(X_valid_nozero)\n",
    "\n",
    "X_test_nozero = scaler.fit_transform(X_test_nozero)\n",
    "X_test_norm=pd.DataFrame(X_test_nozero)"
   ]
  },
  {
   "cell_type": "markdown",
   "id": "5a279935",
   "metadata": {
    "ExecuteTime": {
     "end_time": "2022-10-25T14:36:30.344475Z",
     "start_time": "2022-10-25T14:36:30.341456Z"
    }
   },
   "source": [
    "# Data report"
   ]
  },
  {
   "cell_type": "code",
   "execution_count": 13,
   "id": "6ec4d3b2",
   "metadata": {
    "ExecuteTime": {
     "end_time": "2022-11-14T03:03:07.132344Z",
     "start_time": "2022-11-14T03:03:07.118364Z"
    }
   },
   "outputs": [
    {
     "name": "stdout",
     "output_type": "stream",
     "text": [
      "************************************************************\n",
      "There are 6 set of X\n",
      "X_*_nozero\n",
      "------------------------------------------------------------\n",
      "Normalized version\n",
      "X_*_norm\n",
      "------------------------------------------------------------\n",
      "There are 4 set of Y\n",
      "y_train_t1, y_train_t2, y_valid_t1, y_valid_t2\n",
      "when training, please use: 'y_train_t1_value,y_train_t2_value,y_valid_t1_value,y_valid_t2_value'\n",
      "************************************************************\n"
     ]
    }
   ],
   "source": [
    "print(\"*\"*60)\n",
    "print(\"There are 6 set of X\")\n",
    "print(\"X_*_nozero\")\n",
    "print(\"-\"*60)\n",
    "print(\"Normalized version\")\n",
    "print(\"X_*_norm\")\n",
    "print(\"-\"*60)\n",
    "print(\"There are 4 set of Y\")\n",
    "print(\"y_train_t1, y_train_t2, y_valid_t1, y_valid_t2\")\n",
    "print(\"when training, please use: 'y_train_t1_value,y_train_t2_value,y_valid_t1_value,y_valid_t2_value'\")\n",
    "print(\"*\"*60)"
   ]
  }
 ],
 "metadata": {
  "kernelspec": {
   "display_name": "Python 3 (ipykernel)",
   "language": "python",
   "name": "python3"
  },
  "language_info": {
   "codemirror_mode": {
    "name": "ipython",
    "version": 3
   },
   "file_extension": ".py",
   "mimetype": "text/x-python",
   "name": "python",
   "nbconvert_exporter": "python",
   "pygments_lexer": "ipython3",
   "version": "3.9.12"
  },
  "toc": {
   "base_numbering": 1,
   "nav_menu": {},
   "number_sections": true,
   "sideBar": true,
   "skip_h1_title": false,
   "title_cell": "Table of Contents",
   "title_sidebar": "Contents",
   "toc_cell": false,
   "toc_position": {},
   "toc_section_display": true,
   "toc_window_display": true
  },
  "vscode": {
   "interpreter": {
    "hash": "529bcf6abcc3d23528523c7666d9f36040f112e2ca21b4e62324de75fcde4134"
   }
  }
 },
 "nbformat": 4,
 "nbformat_minor": 5
}
