{
 "cells": [
  {
   "cell_type": "code",
   "execution_count": 1,
   "id": "0989884c",
   "metadata": {
    "ExecuteTime": {
     "end_time": "2022-11-27T08:40:39.452623Z",
     "start_time": "2022-11-27T08:39:38.208851Z"
    },
    "scrolled": true
   },
   "outputs": [
    {
     "name": "stdout",
     "output_type": "stream",
     "text": [
      "************************************************************\n",
      "There are 6 set of X\n",
      "X_*_nozero\n",
      "------------------------------------------------------------\n",
      "Normalized version\n",
      "X_*_norm\n",
      "------------------------------------------------------------\n",
      "There are 4 set of Y\n",
      "y_train_t1, y_train_t2, y_valid_t1, y_valid_t2\n",
      "when training, please use: 'y_train_t1_value,y_train_t2_value,y_valid_t1_value,y_valid_t2_value'\n",
      "************************************************************\n"
     ]
    }
   ],
   "source": [
    "import torch\n",
    "import matplotlib.pyplot as plt\n",
    "from sklearn import metrics\n",
    "from sklearn.neural_network import MLPRegressor\n",
    "from tqdm import tqdm\n",
    "from sklearn.model_selection import GridSearchCV\n",
    "\n",
    "\n",
    "device = torch.device(\"cuda\" if torch.cuda.is_available() else \"cpu\")\n",
    "\n",
    "%run Data_preprocessing.ipynb\n",
    "def rmse(predictions, targets):\n",
    "    return np.sqrt(((predictions - targets) ** 2).mean())\n",
    "# Final model\n"
   ]
  },
  {
   "cell_type": "code",
   "execution_count": 2,
   "id": "ada29435",
   "metadata": {
    "ExecuteTime": {
     "end_time": "2022-11-27T08:40:39.460046Z",
     "start_time": "2022-11-27T08:40:39.455793Z"
    }
   },
   "outputs": [
    {
     "name": "stdout",
     "output_type": "stream",
     "text": [
      "(16760, 61)\n",
      "(2394, 61)\n",
      "(4790, 61)\n"
     ]
    }
   ],
   "source": [
    "\n",
    "X_train_norm = X_train_norm\n",
    "X_valid_norm = X_valid_norm\n",
    "X_test_norm = X_test_norm\n",
    "\n",
    "print(X_train_norm.shape)\n",
    "print(X_valid_norm.shape)\n",
    "print(X_test_norm.shape)"
   ]
  },
  {
   "cell_type": "markdown",
   "id": "e77d09e9",
   "metadata": {
    "ExecuteTime": {
     "start_time": "2022-11-27T05:03:57.614Z"
    },
    "scrolled": false
   },
   "source": [
    "from sklearn.model_selection import GridSearchCV\n",
    "\n",
    "X = np.concatenate((X_train_norm,X_valid_norm),axis=0)\n",
    "y = np.concatenate((y_train_t2_value,y_valid_t2_value),axis=0)\n",
    "\n",
    "reg1 = MLPRegressor()\n",
    "                   \n",
    "#\n",
    "layer_list = []\n",
    "rmse_lst=[]\n",
    "\n",
    "for x in range (1,5,1):\n",
    "    for y in range (1,40,1):\n",
    "        layer_list.append((x,y))\n",
    "        \n",
    "param_dist = {\n",
    "       \"solver\":(\"lbfgs\",\"sgd\",\"adam\"),\n",
    "       \"alpha\":(0.0000001,0.0001,0.001,0.01,0.1),\n",
    "       \"hidden_layer_sizes\":layer_list,\n",
    "       \"activation\": ('identity','logistic','tanh','relu'),\n",
    "       \"learning_rate_init\":[0.001,0.001,0.1],\n",
    "       \"learning_rate\":[\"adaptive\"], \n",
    "       \"random_state\":[3612],\n",
    "       \"max_iter\":[200]\n",
    "        }\n",
    " \n",
    " \n",
    "#GridSearchCV参数说明，clf1设置训练的学习器\n",
    "#param_dist字典类型，放入参数搜索范围\n",
    "#scoring = 'neg_log_loss'，精度评价方式设定为“neg_log_loss“\n",
    "#n_iter=300，训练300次，数值越大，获得的参数精度越大，但是搜索时间越长\n",
    "#n_jobs = -1，使用所有的CPU进行训练，默认为1，使用1个CPU\n",
    "grid = GridSearchCV(reg1,param_dist,cv = 3,scoring = 'neg_root_mean_squared_error',n_jobs = -1, verbose=10)\n",
    "  \n",
    "#在训练集上训练\n",
    "grid.fit(X_train_norm,y_train_t2_value)\n",
    "#返回最优的训练器\n",
    "best_estimator = grid.best_estimator_\n",
    "print(best_estimator)\n",
    "#输出最优训练器的精度\n",
    "y_pred = grid.predict(X_valid_norm)\n",
    "rmse(y_pred, y_valid_t2_value)"
   ]
  },
  {
   "cell_type": "code",
   "execution_count": 19,
   "id": "e986ac9e",
   "metadata": {
    "ExecuteTime": {
     "end_time": "2022-11-27T08:53:38.529405Z",
     "start_time": "2022-11-27T08:53:38.470690Z"
    }
   },
   "outputs": [
    {
     "data": {
      "text/html": [
       "<div>\n",
       "<style scoped>\n",
       "    .dataframe tbody tr th:only-of-type {\n",
       "        vertical-align: middle;\n",
       "    }\n",
       "\n",
       "    .dataframe tbody tr th {\n",
       "        vertical-align: top;\n",
       "    }\n",
       "\n",
       "    .dataframe thead th {\n",
       "        text-align: right;\n",
       "    }\n",
       "</style>\n",
       "<table border=\"1\" class=\"dataframe\">\n",
       "  <thead>\n",
       "    <tr style=\"text-align: right;\">\n",
       "      <th></th>\n",
       "      <th>Predicted</th>\n",
       "    </tr>\n",
       "    <tr>\n",
       "      <th>Id</th>\n",
       "      <th></th>\n",
       "    </tr>\n",
       "  </thead>\n",
       "  <tbody>\n",
       "    <tr>\n",
       "      <th>32_175413_295037</th>\n",
       "      <td>4.060344</td>\n",
       "    </tr>\n",
       "    <tr>\n",
       "      <th>33_176176_296681</th>\n",
       "      <td>2.619293</td>\n",
       "    </tr>\n",
       "    <tr>\n",
       "      <th>42_119203_210828</th>\n",
       "      <td>2.641177</td>\n",
       "    </tr>\n",
       "    <tr>\n",
       "      <th>44_181750_291554</th>\n",
       "      <td>2.586739</td>\n",
       "    </tr>\n",
       "    <tr>\n",
       "      <th>61_176332_252348</th>\n",
       "      <td>3.049063</td>\n",
       "    </tr>\n",
       "    <tr>\n",
       "      <th>...</th>\n",
       "      <td>...</td>\n",
       "    </tr>\n",
       "    <tr>\n",
       "      <th>99883_150755_276467</th>\n",
       "      <td>2.641138</td>\n",
       "    </tr>\n",
       "    <tr>\n",
       "      <th>99897_162913_266801</th>\n",
       "      <td>2.723583</td>\n",
       "    </tr>\n",
       "    <tr>\n",
       "      <th>99913_175989_292375</th>\n",
       "      <td>2.586739</td>\n",
       "    </tr>\n",
       "    <tr>\n",
       "      <th>99944_185654_221067</th>\n",
       "      <td>3.366182</td>\n",
       "    </tr>\n",
       "    <tr>\n",
       "      <th>99992_197084_242052</th>\n",
       "      <td>4.167792</td>\n",
       "    </tr>\n",
       "  </tbody>\n",
       "</table>\n",
       "<p>4790 rows × 1 columns</p>\n",
       "</div>"
      ],
      "text/plain": [
       "                     Predicted\n",
       "Id                            \n",
       "32_175413_295037      4.060344\n",
       "33_176176_296681      2.619293\n",
       "42_119203_210828      2.641177\n",
       "44_181750_291554      2.586739\n",
       "61_176332_252348      3.049063\n",
       "...                        ...\n",
       "99883_150755_276467   2.641138\n",
       "99897_162913_266801   2.723583\n",
       "99913_175989_292375   2.586739\n",
       "99944_185654_221067   3.366182\n",
       "99992_197084_242052   4.167792\n",
       "\n",
       "[4790 rows x 1 columns]"
      ]
     },
     "execution_count": 19,
     "metadata": {},
     "output_type": "execute_result"
    }
   ],
   "source": [
    "\n",
    "result = reg1.predict(X_test_norm)\n",
    "res1 = pd.DataFrame(result.tolist(), columns=[\"Predicted\"])\n",
    "res1.index = X_test.index\n",
    "res1.index.name = 'Id'\n",
    "pd.DataFrame(res1).to_csv('out1_11271027.csv')\n",
    "#print(torch.count_nonzero(torch.from_numpy(np.array(res1)).to(torch.float32)))\n",
    "res1"
   ]
  },
  {
   "cell_type": "markdown",
   "id": "fa0580b2",
   "metadata": {
    "heading_collapsed": true
   },
   "source": [
    "# 1.83"
   ]
  },
  {
   "cell_type": "code",
   "execution_count": null,
   "id": "8c81bd4b",
   "metadata": {
    "ExecuteTime": {
     "end_time": "2022-11-27T05:01:34.520070Z",
     "start_time": "2022-11-27T05:01:34.520042Z"
    },
    "hidden": true
   },
   "outputs": [],
   "source": [
    "X = np.concatenate((X_train_norm,X_valid_norm),axis=0)\n",
    "y = np.concatenate((y_train_t2_value,y_valid_t2_value),axis=0)\n",
    "reg1 = MLPRegressor(solver=\"adam\",\n",
    "                    hidden_layer_sizes=(10,1000),\n",
    "                    learning_rate_init=0.001,\n",
    "                    learning_rate=\"adaptive\", \n",
    "                    alpha=0.001,\n",
    "                    activation=\"relu\",\n",
    "                    \n",
    "                    max_iter=300,\n",
    "                    power_t=0.5,\n",
    "                    shuffle=True, \n",
    "                    random_state=3612, \n",
    "                    tol=0.001, \n",
    "                    verbose=False, \n",
    "                    warm_start=True, \n",
    "                    momentum=0.5, \n",
    "                    early_stopping=True, \n",
    "                    validation_fraction=0.3, \n",
    "                    beta_1=0.9, beta_2=0.999, \n",
    "                    epsilon=1e-08, \n",
    "                    n_iter_no_change=10, \n",
    "                    max_fun=15000)\n",
    "                   \n",
    "\n",
    "reg1.fit(X,y)\n",
    "y_pred = reg1.predict(X_valid_norm)\n",
    "rmse(y_pred, y_valid_t2_value)"
   ]
  },
  {
   "cell_type": "markdown",
   "id": "64e8fe3e",
   "metadata": {},
   "source": [
    "# 1.79"
   ]
  },
  {
   "cell_type": "code",
   "execution_count": 24,
   "id": "785ea492",
   "metadata": {
    "ExecuteTime": {
     "end_time": "2022-11-27T08:59:21.019319Z",
     "start_time": "2022-11-27T08:59:16.172476Z"
    }
   },
   "outputs": [
    {
     "data": {
      "text/plain": [
       "1.820507014483436"
      ]
     },
     "execution_count": 24,
     "metadata": {},
     "output_type": "execute_result"
    }
   ],
   "source": [
    "X = np.concatenate((X_train_norm,X_valid_norm),axis=0)\n",
    "y = np.concatenate((y_train_t2_value,y_valid_t2_value),axis=0)\n",
    "reg1 = MLPRegressor(solver=\"adam\",\n",
    "                    hidden_layer_sizes=(2,15),\n",
    "                    learning_rate_init=0.01,\n",
    "                    alpha=0.005,\n",
    "                    activation=\"relu\",\n",
    "                    \n",
    "                    )\n",
    "                   \n",
    "\n",
    "reg1.fit(X_train_norm,y_train_t2_value)\n",
    "y_pred = reg1.predict(X_valid_norm)\n",
    "rmse(y_pred, y_valid_t2_value)"
   ]
  },
  {
   "cell_type": "markdown",
   "id": "d5babfe0",
   "metadata": {},
   "source": [
    "# 1.84"
   ]
  },
  {
   "cell_type": "code",
   "execution_count": null,
   "id": "2ba5a61c",
   "metadata": {
    "ExecuteTime": {
     "end_time": "2022-11-27T05:01:34.523629Z",
     "start_time": "2022-11-27T05:01:34.523611Z"
    }
   },
   "outputs": [],
   "source": [
    "#X = np.concatenate((X_train_norm,X_valid_norm),axis=0)\n",
    "#y = np.concatenate((y_train_t2_value,y_valid_t2_value),axis=0)\n",
    "\n",
    "reg1 = MLPRegressor(solver=\"adam\",\n",
    "                    hidden_layer_sizes=(3,10),\n",
    "                    learning_rate_init=0.001,\n",
    "                    learning_rate=\"adaptive\", \n",
    "                    alpha=0.005,\n",
    "                    activation=\"relu\",\n",
    "                    \n",
    "                    \n",
    "                    )\n",
    "                   \n",
    "\n",
    "reg1.fit(X_train_norm,y_train_t2_value)\n",
    "y_pred = reg1.predict(X_valid_norm)\n",
    "rmse(y_pred, y_valid_t2_value)"
   ]
  },
  {
   "cell_type": "markdown",
   "id": "be28e2fe",
   "metadata": {},
   "source": [
    "#"
   ]
  },
  {
   "cell_type": "markdown",
   "id": "74150b8b",
   "metadata": {},
   "source": [
    "#"
   ]
  },
  {
   "cell_type": "markdown",
   "id": "9d212588",
   "metadata": {},
   "source": [
    "#"
   ]
  },
  {
   "cell_type": "markdown",
   "id": "940e2e03",
   "metadata": {},
   "source": [
    "#"
   ]
  },
  {
   "cell_type": "markdown",
   "id": "9f06905c",
   "metadata": {},
   "source": [
    "#"
   ]
  },
  {
   "cell_type": "markdown",
   "id": "b11c2348",
   "metadata": {},
   "source": [
    "#"
   ]
  },
  {
   "cell_type": "code",
   "execution_count": null,
   "id": "131f6c97",
   "metadata": {},
   "outputs": [],
   "source": []
  },
  {
   "cell_type": "code",
   "execution_count": null,
   "id": "ec8c2d7d",
   "metadata": {},
   "outputs": [],
   "source": []
  },
  {
   "cell_type": "code",
   "execution_count": null,
   "id": "cfcbbe8a",
   "metadata": {},
   "outputs": [],
   "source": []
  },
  {
   "cell_type": "code",
   "execution_count": null,
   "id": "dbe03470",
   "metadata": {},
   "outputs": [],
   "source": []
  },
  {
   "cell_type": "code",
   "execution_count": null,
   "id": "f0b432bd",
   "metadata": {},
   "outputs": [],
   "source": []
  },
  {
   "cell_type": "code",
   "execution_count": null,
   "id": "3c38d9a6",
   "metadata": {},
   "outputs": [],
   "source": []
  },
  {
   "cell_type": "code",
   "execution_count": null,
   "id": "cd41e4bb",
   "metadata": {},
   "outputs": [],
   "source": []
  }
 ],
 "metadata": {
  "kernelspec": {
   "display_name": "comp3340",
   "language": "python",
   "name": "comp3340"
  },
  "language_info": {
   "codemirror_mode": {
    "name": "ipython",
    "version": 3
   },
   "file_extension": ".py",
   "mimetype": "text/x-python",
   "name": "python",
   "nbconvert_exporter": "python",
   "pygments_lexer": "ipython3",
   "version": "3.7.7"
  },
  "toc": {
   "base_numbering": 1,
   "nav_menu": {},
   "number_sections": true,
   "sideBar": true,
   "skip_h1_title": false,
   "title_cell": "Table of Contents",
   "title_sidebar": "Contents",
   "toc_cell": false,
   "toc_position": {},
   "toc_section_display": true,
   "toc_window_display": true
  }
 },
 "nbformat": 4,
 "nbformat_minor": 5
}
