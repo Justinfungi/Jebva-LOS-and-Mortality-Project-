{
 "cells": [
  {
   "cell_type": "markdown",
   "id": "970d9aef",
   "metadata": {},
   "source": [
    "# Libraries"
   ]
  },
  {
   "cell_type": "code",
   "execution_count": 1,
   "id": "71cace5d",
   "metadata": {
    "ExecuteTime": {
     "end_time": "2022-11-14T02:57:37.844452Z",
     "start_time": "2022-11-14T02:57:32.940450Z"
    }
   },
   "outputs": [],
   "source": [
    "import torch\n",
    "import torchvision\n",
    "import torch.nn as nn\n",
    "import torch.optim as optim\n",
    "import torch.nn.functional as F\n",
    "from torch.utils.data import Dataset, DataLoader\n",
    "import torchvision.transforms as transforms\n",
    "import matplotlib.pyplot as plt\n",
    "from sklearn import metrics\n",
    "\n",
    "device = torch.device(\"cuda\" if torch.cuda.is_available() else \"cpu\")"
   ]
  },
  {
   "cell_type": "markdown",
   "id": "e5e3db1d",
   "metadata": {
    "ExecuteTime": {
     "end_time": "2022-10-27T03:47:12.458066Z",
     "start_time": "2022-10-27T03:47:12.452095Z"
    }
   },
   "source": [
    "# Import data"
   ]
  },
  {
   "cell_type": "code",
   "execution_count": 4,
   "id": "c7c7a26f",
   "metadata": {
    "ExecuteTime": {
     "end_time": "2022-11-14T03:04:46.752781Z",
     "start_time": "2022-11-14T03:03:16.762426Z"
    }
   },
   "outputs": [
    {
     "name": "stdout",
     "output_type": "stream",
     "text": [
      "************************************************************\n",
      "There are 6 set of X\n",
      "X_*_nozero\n",
      "------------------------------------------------------------\n",
      "Normalized version\n",
      "X_*_norm\n",
      "------------------------------------------------------------\n",
      "There are 4 set of Y\n",
      "y_train_t1, y_train_t2, y_valid_t1, y_valid_t2\n",
      "when training, please use: 'y_train_t1_value,y_train_t2_value,y_valid_t1_value,y_valid_t2_value'\n",
      "************************************************************\n"
     ]
    }
   ],
   "source": [
    "%run Data_preprocessing.ipynb"
   ]
  },
  {
   "cell_type": "code",
   "execution_count": 6,
   "id": "4aa393c8",
   "metadata": {
    "ExecuteTime": {
     "end_time": "2022-11-14T03:06:01.527173Z",
     "start_time": "2022-11-14T03:06:01.518906Z"
    }
   },
   "outputs": [
    {
     "name": "stdout",
     "output_type": "stream",
     "text": [
      "(16760, 61)\n",
      "(2394, 61)\n",
      "(4790, 61)\n"
     ]
    }
   ],
   "source": [
    "print(X_train_norm.shape)\n",
    "print(X_valid_norm.shape)\n",
    "print(X_test_norm.shape)"
   ]
  },
  {
   "cell_type": "markdown",
   "id": "07ffdcc1",
   "metadata": {
    "ExecuteTime": {
     "end_time": "2022-11-12T06:27:37.687176Z",
     "start_time": "2022-11-12T06:27:37.683442Z"
    }
   },
   "source": [
    "# Imbalanced Learning"
   ]
  },
  {
   "cell_type": "code",
   "execution_count": 7,
   "id": "a0e38388",
   "metadata": {
    "ExecuteTime": {
     "end_time": "2022-11-14T03:06:04.316381Z",
     "start_time": "2022-11-14T03:06:04.293088Z"
    }
   },
   "outputs": [
    {
     "name": "stdout",
     "output_type": "stream",
     "text": [
      "(15535, 62) (1225, 62)\n"
     ]
    }
   ],
   "source": [
    "Full = pd.DataFrame(np.concatenate((X_train_norm,pd.DataFrame(y_train_t1.iloc[:,-1])),axis=1))\n",
    "Full\n",
    "\n",
    "label0 = Full[Full[61]==0]\n",
    "label1 = Full[Full[61]==1]\n",
    "print(label0.shape,label1.shape)"
   ]
  },
  {
   "cell_type": "code",
   "execution_count": 8,
   "id": "cac17082",
   "metadata": {
    "ExecuteTime": {
     "end_time": "2022-11-14T03:06:06.154107Z",
     "start_time": "2022-11-14T03:06:05.903399Z"
    }
   },
   "outputs": [
    {
     "data": {
      "text/plain": [
       "(31070, 61)"
      ]
     },
     "execution_count": 8,
     "metadata": {},
     "output_type": "execute_result"
    }
   ],
   "source": [
    "from imblearn.over_sampling import RandomOverSampler\n",
    "oversample = RandomOverSampler()\n",
    "x_over, y_over = oversample.fit_resample(X_train_norm, y_train_t1.iloc[:,-1])\n",
    "\n",
    "\n",
    "y_over = pd.DataFrame(y_over)\n",
    "y_over.shape\n",
    "x_over.shape"
   ]
  },
  {
   "cell_type": "code",
   "execution_count": 9,
   "id": "dd3c662f",
   "metadata": {
    "ExecuteTime": {
     "end_time": "2022-11-14T03:06:08.132399Z",
     "start_time": "2022-11-14T03:06:08.095152Z"
    }
   },
   "outputs": [
    {
     "name": "stdout",
     "output_type": "stream",
     "text": [
      "(15535, 62) (15535, 62)\n"
     ]
    }
   ],
   "source": [
    "Full = pd.DataFrame(np.concatenate((x_over,y_over),axis=1))\n",
    "Full\n",
    "\n",
    "label0 = Full[Full[61]==0]\n",
    "label1 = Full[Full[61]==1]\n",
    "print(label0.shape,label1.shape)"
   ]
  },
  {
   "cell_type": "code",
   "execution_count": 10,
   "id": "55d6208d",
   "metadata": {
    "ExecuteTime": {
     "end_time": "2022-11-14T03:06:11.247652Z",
     "start_time": "2022-11-14T03:06:11.241208Z"
    }
   },
   "outputs": [],
   "source": [
    "X_train_norm=x_over\n",
    "\n",
    "y_train_t1 = y_over"
   ]
  },
  {
   "cell_type": "markdown",
   "id": "560831ad",
   "metadata": {},
   "source": [
    "# Hyperparameters"
   ]
  },
  {
   "cell_type": "code",
   "execution_count": 11,
   "id": "6fb9fe03",
   "metadata": {
    "ExecuteTime": {
     "end_time": "2022-11-14T03:06:15.430057Z",
     "start_time": "2022-11-14T03:06:15.421312Z"
    }
   },
   "outputs": [],
   "source": [
    "input_size = X_train_norm.shape[1] # 7488/24\n",
    "output_size = 2 # live or dead\n",
    "learning_rate = 0.01\n",
    "batch_size = 64\n",
    "num_epochs = 200"
   ]
  },
  {
   "cell_type": "markdown",
   "id": "9b7e4676",
   "metadata": {},
   "source": [
    "# Create FullyNet"
   ]
  },
  {
   "cell_type": "code",
   "execution_count": 12,
   "id": "c00d907c",
   "metadata": {
    "ExecuteTime": {
     "end_time": "2022-11-14T03:06:17.223389Z",
     "start_time": "2022-11-14T03:06:17.208920Z"
    }
   },
   "outputs": [],
   "source": [
    "class NN(nn.Module):\n",
    "    def __init__(self, input_size):\n",
    "        super(NN, self).__init__()\n",
    "        self.fc1 = nn.Linear(input_size, 52)\n",
    "        self.fc2 = nn.Linear(52, 26)\n",
    "        self.fc3 = nn.Linear(26, 13)\n",
    "        self.fc4 = nn.Linear(13, 1)\n",
    "        \n",
    "        self.batchnorm1 = nn.BatchNorm1d(52)\n",
    "        self.batchnorm2 = nn.BatchNorm1d(26)\n",
    "        self.dropout = nn.Dropout(p=0.1)\n",
    "\n",
    "        \n",
    "        \n",
    "    def forward(self, x):\n",
    "         x = F.leaky_relu(self.fc1(x))\n",
    "         x = self.batchnorm1(x)\n",
    "         x = F.leaky_relu(self.fc2(x))\n",
    "         x = self.batchnorm2(x)\n",
    "         x = F.leaky_relu(self.fc3(x))\n",
    "         x = self.dropout(x)\n",
    "         x = torch.sigmoid(self.fc4(x))\n",
    "         return x"
   ]
  },
  {
   "cell_type": "markdown",
   "id": "076d6376",
   "metadata": {},
   "source": [
    "# Data transform"
   ]
  },
  {
   "cell_type": "code",
   "execution_count": 13,
   "id": "d7e4872c",
   "metadata": {
    "ExecuteTime": {
     "end_time": "2022-11-14T03:06:47.490552Z",
     "start_time": "2022-11-14T03:06:47.481504Z"
    }
   },
   "outputs": [],
   "source": [
    "class CusDatasetLoader(Dataset):\n",
    "    def __init__(self,x,y):\n",
    "        self.len = y.shape[0]\n",
    "        self.x_data = x\n",
    "        self.y_data = y\n",
    "  \n",
    "    def __len__(self):\n",
    "        return self.len\n",
    "\n",
    "    def __getitem__(self, index):\n",
    "        #return self.dataframe.iloc[index]\n",
    "        return self.x_data[index], self.y_data[index]"
   ]
  },
  {
   "cell_type": "code",
   "execution_count": 14,
   "id": "456be776",
   "metadata": {
    "ExecuteTime": {
     "end_time": "2022-11-14T03:06:49.651475Z",
     "start_time": "2022-11-14T03:06:49.641127Z"
    }
   },
   "outputs": [],
   "source": [
    "# X_shape(X) : used for split the data into a right tensor size\n",
    "#input: X in shape of 16760 rows × 104 columns (df)\n",
    "#output: X in shape of torch.Size([16760, 104, 1]) (tensor)\n",
    "\n",
    "def X_tensor(X):\n",
    "    X_tensor = torch.from_numpy(np.array(X)).to(torch.float32)\n",
    "    #print(X_tensor.shape)\n",
    "    #X_tensor = torch.stack(X_tensor).permute()\n",
    "    print(\"X now in shape of\",X_tensor.shape)\n",
    "    return X_tensor\n",
    "\n",
    "# y_tensor(y) : used for split the data into a right tensor size\n",
    "#input: X in shape of 16760 rows × 7488 columns (df)\n",
    "#output: X in shape of torch.Size([16760, 312, 24]) (tensor)\n",
    "\n",
    "def y_tensor(y):\n",
    "    y= torch.from_numpy(np.array(y)).to(torch.float32).reshape(len(y),1)\n",
    "    print(\"y now in shape of\",y.shape)\n",
    "    return y"
   ]
  },
  {
   "cell_type": "code",
   "execution_count": 15,
   "id": "006849f5",
   "metadata": {
    "ExecuteTime": {
     "end_time": "2022-11-14T03:06:51.768297Z",
     "start_time": "2022-11-14T03:06:51.715743Z"
    }
   },
   "outputs": [
    {
     "name": "stdout",
     "output_type": "stream",
     "text": [
      "X now in shape of torch.Size([31070, 61])\n",
      "y now in shape of torch.Size([31070, 1])\n",
      "torch.Size([61])\n",
      "torch.Size([1])\n"
     ]
    }
   ],
   "source": [
    "# X should be in smaples, 1, squence, rows\n",
    "X1 = X_tensor(X_train_norm)\n",
    "y1 = y_tensor(y_train_t1.iloc[:,-1].astype(float))\n",
    "\n",
    "train_datasets = CusDatasetLoader(X1, y1)\n",
    "train_loader = DataLoader(dataset=train_datasets, batch_size=batch_size, shuffle=True)\n",
    "\n",
    "x,y = train_datasets[0]\n",
    "print(x.shape)\n",
    "print(y.shape)"
   ]
  },
  {
   "cell_type": "markdown",
   "id": "e366eb01",
   "metadata": {},
   "source": [
    "# Model train"
   ]
  },
  {
   "cell_type": "code",
   "execution_count": 16,
   "id": "6443333a",
   "metadata": {
    "ExecuteTime": {
     "end_time": "2022-11-14T03:06:57.121899Z",
     "start_time": "2022-11-14T03:06:57.096657Z"
    }
   },
   "outputs": [],
   "source": [
    "model = NN(input_size).to(device)"
   ]
  },
  {
   "cell_type": "raw",
   "id": "521238bb",
   "metadata": {
    "ExecuteTime": {
     "end_time": "2022-11-10T17:45:27.568519Z",
     "start_time": "2022-11-10T17:45:27.562929Z"
    }
   },
   "source": [
    "# Criterion and optimizer setting\n",
    "\n",
    "criterion = nn.CrossEntropyLoss()\n",
    "optimizer = optim.Adam(model.parameters(), lr = learning_rate)\n",
    "#optimizer = torch.optim.SGD(model.parameters(),lr=learning_rate)\n",
    "#optimizer = optim.Adam(model.parameters(), lr = learning_rate)"
   ]
  },
  {
   "cell_type": "code",
   "execution_count": 17,
   "id": "e73149f1",
   "metadata": {
    "ExecuteTime": {
     "end_time": "2022-11-14T03:06:59.836071Z",
     "start_time": "2022-11-14T03:06:59.829298Z"
    }
   },
   "outputs": [],
   "source": [
    "optimizer = optim.Adadelta(model.parameters(), lr = learning_rate)\n",
    "criterion = nn.BCELoss()"
   ]
  },
  {
   "cell_type": "code",
   "execution_count": 18,
   "id": "680547a7",
   "metadata": {
    "ExecuteTime": {
     "end_time": "2022-11-14T03:26:32.122741Z",
     "start_time": "2022-11-14T03:07:04.911208Z"
    },
    "scrolled": true
   },
   "outputs": [
    {
     "name": "stdout",
     "output_type": "stream",
     "text": [
      "Epoch 000: | Loss: 2.67201 | Acc: 0.582\n",
      "Epoch 001: | Loss: 2.41841 | Acc: 0.642\n",
      "Epoch 002: | Loss: 2.18822 | Acc: 0.676\n",
      "Epoch 003: | Loss: 2.01252 | Acc: 0.698\n",
      "Epoch 004: | Loss: 1.76016 | Acc: 0.713\n",
      "Epoch 005: | Loss: 1.55199 | Acc: 0.725\n",
      "Epoch 006: | Loss: 1.33506 | Acc: 0.734\n",
      "Epoch 007: | Loss: 1.32244 | Acc: 0.742\n",
      "Epoch 008: | Loss: 1.15546 | Acc: 0.748\n",
      "Epoch 009: | Loss: 1.31664 | Acc: 0.754\n",
      "Epoch 010: | Loss: 1.03218 | Acc: 0.758\n",
      "Epoch 011: | Loss: 1.13198 | Acc: 0.763\n",
      "Epoch 012: | Loss: 0.84321 | Acc: 0.766\n",
      "Epoch 013: | Loss: 0.80803 | Acc: 0.770\n",
      "Epoch 014: | Loss: 0.87325 | Acc: 0.773\n",
      "Epoch 015: | Loss: 0.93985 | Acc: 0.776\n",
      "Epoch 016: | Loss: 0.79397 | Acc: 0.779\n",
      "Epoch 017: | Loss: 0.88705 | Acc: 0.781\n",
      "Epoch 018: | Loss: 0.66645 | Acc: 0.784\n",
      "Epoch 019: | Loss: 0.90683 | Acc: 0.786\n",
      "Epoch 020: | Loss: 0.85435 | Acc: 0.789\n",
      "Epoch 021: | Loss: 0.70470 | Acc: 0.791\n",
      "Epoch 022: | Loss: 0.60547 | Acc: 0.793\n",
      "Epoch 023: | Loss: 0.66008 | Acc: 0.795\n",
      "Epoch 024: | Loss: 0.65927 | Acc: 0.797\n",
      "Epoch 025: | Loss: 0.75910 | Acc: 0.799\n",
      "Epoch 026: | Loss: 0.69386 | Acc: 0.801\n",
      "Epoch 027: | Loss: 0.57330 | Acc: 0.802\n",
      "Epoch 028: | Loss: 0.61382 | Acc: 0.804\n",
      "Epoch 029: | Loss: 0.52692 | Acc: 0.806\n",
      "Epoch 030: | Loss: 0.55182 | Acc: 0.808\n",
      "Epoch 031: | Loss: 0.51108 | Acc: 0.809\n",
      "Epoch 032: | Loss: 0.72770 | Acc: 0.811\n",
      "Epoch 033: | Loss: 0.51894 | Acc: 0.813\n",
      "Epoch 034: | Loss: 0.67376 | Acc: 0.814\n",
      "Epoch 035: | Loss: 0.54473 | Acc: 0.816\n",
      "Epoch 036: | Loss: 0.48988 | Acc: 0.817\n",
      "Epoch 037: | Loss: 0.65708 | Acc: 0.819\n",
      "Epoch 038: | Loss: 0.71385 | Acc: 0.820\n",
      "Epoch 039: | Loss: 0.54252 | Acc: 0.822\n",
      "Epoch 040: | Loss: 0.58134 | Acc: 0.823\n",
      "Epoch 041: | Loss: 0.47294 | Acc: 0.825\n",
      "Epoch 042: | Loss: 0.59782 | Acc: 0.826\n",
      "Epoch 043: | Loss: 0.53900 | Acc: 0.828\n",
      "Epoch 044: | Loss: 0.68143 | Acc: 0.829\n",
      "Epoch 045: | Loss: 0.66834 | Acc: 0.830\n",
      "Epoch 046: | Loss: 0.64271 | Acc: 0.832\n",
      "Epoch 047: | Loss: 0.50372 | Acc: 0.833\n",
      "Epoch 048: | Loss: 0.53533 | Acc: 0.834\n",
      "Epoch 049: | Loss: 0.49192 | Acc: 0.836\n",
      "Epoch 050: | Loss: 0.59071 | Acc: 0.837\n",
      "Epoch 051: | Loss: 0.67497 | Acc: 0.838\n",
      "Epoch 052: | Loss: 0.83095 | Acc: 0.839\n",
      "Epoch 053: | Loss: 0.63026 | Acc: 0.841\n",
      "Epoch 054: | Loss: 0.56251 | Acc: 0.842\n",
      "Epoch 055: | Loss: 0.46234 | Acc: 0.843\n",
      "Epoch 056: | Loss: 0.60813 | Acc: 0.844\n",
      "Epoch 057: | Loss: 0.58672 | Acc: 0.845\n",
      "Epoch 058: | Loss: 0.38236 | Acc: 0.846\n",
      "Epoch 059: | Loss: 0.49436 | Acc: 0.847\n",
      "Epoch 060: | Loss: 0.37719 | Acc: 0.848\n",
      "Epoch 061: | Loss: 0.46278 | Acc: 0.849\n",
      "Epoch 062: | Loss: 0.49456 | Acc: 0.850\n",
      "Epoch 063: | Loss: 0.54884 | Acc: 0.851\n",
      "Epoch 064: | Loss: 0.54144 | Acc: 0.852\n",
      "Epoch 065: | Loss: 0.49567 | Acc: 0.853\n",
      "Epoch 066: | Loss: 0.50107 | Acc: 0.854\n",
      "Epoch 067: | Loss: 0.45780 | Acc: 0.855\n",
      "Epoch 068: | Loss: 0.47768 | Acc: 0.856\n",
      "Epoch 069: | Loss: 0.50281 | Acc: 0.857\n",
      "Epoch 070: | Loss: 0.43013 | Acc: 0.858\n",
      "Epoch 071: | Loss: 0.57419 | Acc: 0.859\n",
      "Epoch 072: | Loss: 0.40298 | Acc: 0.860\n",
      "Epoch 073: | Loss: 0.51298 | Acc: 0.860\n",
      "Epoch 074: | Loss: 0.42654 | Acc: 0.861\n",
      "Epoch 075: | Loss: 0.53465 | Acc: 0.862\n",
      "Epoch 076: | Loss: 0.47005 | Acc: 0.863\n",
      "Epoch 077: | Loss: 0.66189 | Acc: 0.864\n",
      "Epoch 078: | Loss: 0.41121 | Acc: 0.865\n",
      "Epoch 079: | Loss: 0.54848 | Acc: 0.865\n",
      "Epoch 080: | Loss: 0.46637 | Acc: 0.866\n",
      "Epoch 081: | Loss: 0.50246 | Acc: 0.867\n",
      "Epoch 082: | Loss: 0.51952 | Acc: 0.868\n",
      "Epoch 083: | Loss: 0.38231 | Acc: 0.868\n",
      "Epoch 084: | Loss: 0.35339 | Acc: 0.869\n",
      "Epoch 085: | Loss: 0.48769 | Acc: 0.870\n",
      "Epoch 086: | Loss: 0.42156 | Acc: 0.870\n",
      "Epoch 087: | Loss: 0.47633 | Acc: 0.871\n",
      "Epoch 088: | Loss: 0.52878 | Acc: 0.872\n",
      "Epoch 089: | Loss: 0.57045 | Acc: 0.872\n",
      "Epoch 090: | Loss: 0.47240 | Acc: 0.873\n",
      "Epoch 091: | Loss: 0.40456 | Acc: 0.874\n",
      "Epoch 092: | Loss: 0.50452 | Acc: 0.874\n",
      "Epoch 093: | Loss: 0.55328 | Acc: 0.875\n",
      "Epoch 094: | Loss: 0.43824 | Acc: 0.876\n",
      "Epoch 095: | Loss: 0.43984 | Acc: 0.876\n",
      "Epoch 096: | Loss: 0.64675 | Acc: 0.877\n",
      "Epoch 097: | Loss: 0.40397 | Acc: 0.877\n",
      "Epoch 098: | Loss: 0.52751 | Acc: 0.878\n",
      "Epoch 099: | Loss: 0.50074 | Acc: 0.878\n",
      "Epoch 100: | Loss: 0.37187 | Acc: 0.879\n",
      "Epoch 101: | Loss: 0.39667 | Acc: 0.880\n",
      "Epoch 102: | Loss: 0.42643 | Acc: 0.880\n",
      "Epoch 103: | Loss: 0.42206 | Acc: 0.881\n",
      "Epoch 104: | Loss: 0.37201 | Acc: 0.881\n",
      "Epoch 105: | Loss: 0.38213 | Acc: 0.882\n",
      "Epoch 106: | Loss: 0.38530 | Acc: 0.882\n",
      "Epoch 107: | Loss: 0.46091 | Acc: 0.883\n",
      "Epoch 108: | Loss: 0.44776 | Acc: 0.883\n",
      "Epoch 109: | Loss: 0.38938 | Acc: 0.884\n",
      "Epoch 110: | Loss: 0.76039 | Acc: 0.884\n",
      "Epoch 111: | Loss: 0.34878 | Acc: 0.885\n",
      "Epoch 112: | Loss: 0.54761 | Acc: 0.885\n",
      "Epoch 113: | Loss: 0.52818 | Acc: 0.886\n",
      "Epoch 114: | Loss: 0.51801 | Acc: 0.886\n",
      "Epoch 115: | Loss: 0.47952 | Acc: 0.887\n",
      "Epoch 116: | Loss: 0.58972 | Acc: 0.887\n",
      "Epoch 117: | Loss: 0.43207 | Acc: 0.888\n",
      "Epoch 118: | Loss: 0.47250 | Acc: 0.888\n",
      "Epoch 119: | Loss: 0.64291 | Acc: 0.888\n",
      "Epoch 120: | Loss: 0.41011 | Acc: 0.889\n",
      "Epoch 121: | Loss: 0.50826 | Acc: 0.889\n",
      "Epoch 122: | Loss: 0.60092 | Acc: 0.890\n",
      "Epoch 123: | Loss: 0.47859 | Acc: 0.890\n",
      "Epoch 124: | Loss: 0.42598 | Acc: 0.891\n",
      "Epoch 125: | Loss: 0.38955 | Acc: 0.891\n",
      "Epoch 126: | Loss: 0.44980 | Acc: 0.891\n",
      "Epoch 127: | Loss: 0.46015 | Acc: 0.892\n",
      "Epoch 128: | Loss: 0.42301 | Acc: 0.892\n",
      "Epoch 129: | Loss: 0.40091 | Acc: 0.893\n",
      "Epoch 130: | Loss: 0.58385 | Acc: 0.893\n",
      "Epoch 131: | Loss: 0.42099 | Acc: 0.893\n",
      "Epoch 132: | Loss: 0.53293 | Acc: 0.894\n",
      "Epoch 133: | Loss: 0.47884 | Acc: 0.894\n",
      "Epoch 134: | Loss: 0.46913 | Acc: 0.895\n",
      "Epoch 135: | Loss: 0.60497 | Acc: 0.895\n",
      "Epoch 136: | Loss: 0.33431 | Acc: 0.895\n",
      "Epoch 137: | Loss: 0.35663 | Acc: 0.896\n",
      "Epoch 138: | Loss: 0.42277 | Acc: 0.896\n",
      "Epoch 139: | Loss: 0.35521 | Acc: 0.896\n",
      "Epoch 140: | Loss: 0.43418 | Acc: 0.897\n",
      "Epoch 141: | Loss: 0.37858 | Acc: 0.897\n",
      "Epoch 142: | Loss: 0.41580 | Acc: 0.898\n",
      "Epoch 143: | Loss: 0.43019 | Acc: 0.898\n",
      "Epoch 144: | Loss: 0.40330 | Acc: 0.898\n",
      "Epoch 145: | Loss: 0.50035 | Acc: 0.899\n",
      "Epoch 146: | Loss: 0.62912 | Acc: 0.899\n",
      "Epoch 147: | Loss: 0.60025 | Acc: 0.899\n",
      "Epoch 148: | Loss: 0.59001 | Acc: 0.900\n",
      "Epoch 149: | Loss: 0.34886 | Acc: 0.900\n",
      "Epoch 150: | Loss: 0.44145 | Acc: 0.900\n",
      "Epoch 151: | Loss: 0.64629 | Acc: 0.900\n",
      "Epoch 152: | Loss: 0.33292 | Acc: 0.901\n",
      "Epoch 153: | Loss: 0.75475 | Acc: 0.901\n",
      "Epoch 154: | Loss: 0.60106 | Acc: 0.901\n",
      "Epoch 155: | Loss: 0.38329 | Acc: 0.902\n",
      "Epoch 156: | Loss: 0.50521 | Acc: 0.902\n",
      "Epoch 157: | Loss: 0.62861 | Acc: 0.902\n",
      "Epoch 158: | Loss: 0.50646 | Acc: 0.903\n",
      "Epoch 159: | Loss: 0.33346 | Acc: 0.903\n",
      "Epoch 160: | Loss: 0.35578 | Acc: 0.903\n",
      "Epoch 161: | Loss: 0.45406 | Acc: 0.903\n",
      "Epoch 162: | Loss: 0.58480 | Acc: 0.904\n",
      "Epoch 163: | Loss: 0.41408 | Acc: 0.904\n",
      "Epoch 164: | Loss: 0.39109 | Acc: 0.904\n",
      "Epoch 165: | Loss: 0.55652 | Acc: 0.905\n",
      "Epoch 166: | Loss: 0.40189 | Acc: 0.905\n",
      "Epoch 167: | Loss: 0.34324 | Acc: 0.905\n",
      "Epoch 168: | Loss: 0.41276 | Acc: 0.905\n",
      "Epoch 169: | Loss: 0.38917 | Acc: 0.906\n",
      "Epoch 170: | Loss: 0.59683 | Acc: 0.906\n",
      "Epoch 171: | Loss: 0.38697 | Acc: 0.906\n",
      "Epoch 172: | Loss: 0.30678 | Acc: 0.906\n",
      "Epoch 173: | Loss: 0.68135 | Acc: 0.907\n",
      "Epoch 174: | Loss: 0.43361 | Acc: 0.907\n",
      "Epoch 175: | Loss: 0.53596 | Acc: 0.907\n",
      "Epoch 176: | Loss: 0.45500 | Acc: 0.907\n",
      "Epoch 177: | Loss: 0.67072 | Acc: 0.908\n",
      "Epoch 178: | Loss: 0.38953 | Acc: 0.908\n",
      "Epoch 179: | Loss: 0.47188 | Acc: 0.908\n",
      "Epoch 180: | Loss: 0.35548 | Acc: 0.908\n",
      "Epoch 181: | Loss: 0.51185 | Acc: 0.909\n",
      "Epoch 182: | Loss: 0.51593 | Acc: 0.909\n",
      "Epoch 183: | Loss: 0.42110 | Acc: 0.909\n",
      "Epoch 184: | Loss: 0.59445 | Acc: 0.909\n",
      "Epoch 185: | Loss: 0.39321 | Acc: 0.910\n",
      "Epoch 186: | Loss: 0.33223 | Acc: 0.910\n",
      "Epoch 187: | Loss: 0.38203 | Acc: 0.910\n",
      "Epoch 188: | Loss: 0.40988 | Acc: 0.910\n",
      "Epoch 189: | Loss: 0.56338 | Acc: 0.911\n",
      "Epoch 190: | Loss: 0.56666 | Acc: 0.911\n",
      "Epoch 191: | Loss: 0.45004 | Acc: 0.911\n",
      "Epoch 192: | Loss: 0.38762 | Acc: 0.911\n",
      "Epoch 193: | Loss: 0.56742 | Acc: 0.912\n",
      "Epoch 194: | Loss: 0.40501 | Acc: 0.912\n",
      "Epoch 195: | Loss: 0.48710 | Acc: 0.912\n",
      "Epoch 196: | Loss: 0.35201 | Acc: 0.912\n",
      "Epoch 197: | Loss: 0.41493 | Acc: 0.912\n",
      "Epoch 198: | Loss: 0.43873 | Acc: 0.913\n",
      "Epoch 199: | Loss: 0.60528 | Acc: 0.913\n"
     ]
    }
   ],
   "source": [
    "losses=[]\n",
    "acc_list=[]\n",
    "num_correct = 0\n",
    "num_samples = 0\n",
    "for epoch in range(num_epochs):\n",
    "    for batch_idx, (data, targets) in enumerate(train_loader):\n",
    "        data = data.to(device=device)\n",
    "        targets = targets.to(device=device)\n",
    "        \n",
    "        # forward\n",
    "        scores = model(data)\n",
    "        loss = criterion(scores, targets)\n",
    "        \n",
    "        # l2 regularization\n",
    "        l2_lambda = 0.02\n",
    "        l2_norm = sum(p.pow(2.0).sum()\n",
    "                  for p in model.parameters())\n",
    "        loss = loss + l2_lambda * l2_norm\n",
    "        \n",
    "        # backward\n",
    "        optimizer.zero_grad()\n",
    "        loss.backward()\n",
    "        \n",
    "        # gradient descent or adam step\n",
    "        optimizer.step()\n",
    "        \n",
    "        #accuracy\n",
    "        scores = model(data)\n",
    "        predictions = scores\n",
    "        predictions = predictions.detach().apply_( lambda x: 1 if x >= 0.5 else 0 )\n",
    "        num_correct += int((predictions == targets).sum())\n",
    "        num_samples += predictions.size(0)\n",
    "        acc = num_correct / num_samples\n",
    "        \n",
    "    if epoch%5 == 0:\n",
    "        losses.append(loss.detach().numpy() )\n",
    "        acc_list.append(acc)\n",
    "    print(f'Epoch {epoch:03}: | Loss: {loss:.5f} | Acc: {acc:.3f}')\n",
    "        \n",
    "        "
   ]
  },
  {
   "cell_type": "code",
   "execution_count": 19,
   "id": "b4fcb9b7",
   "metadata": {
    "ExecuteTime": {
     "end_time": "2022-11-14T03:26:43.444714Z",
     "start_time": "2022-11-14T03:26:43.074301Z"
    }
   },
   "outputs": [
    {
     "data": {
      "image/png": "[encoded data removed]",
      "text/plain": [
       "<Figure size 640x480 with 1 Axes>"
      ]
     },
     "metadata": {},
     "output_type": "display_data"
    }
   ],
   "source": [
    "#plotting the loss\n",
    "x_range = list(range(5,5*len(losses)+5,5))\n",
    "plt.plot(x_range,losses)\n",
    "plt.title('Loss vs Epochs')\n",
    "plt.xlabel('Epochs')\n",
    "plt.ylabel('loss')\n",
    "plt.show()"
   ]
  },
  {
   "cell_type": "markdown",
   "id": "06bcbff7",
   "metadata": {
    "ExecuteTime": {
     "end_time": "2022-10-28T17:23:14.669685Z",
     "start_time": "2022-10-28T17:23:14.663564Z"
    }
   },
   "source": [
    "# Model Accuracy"
   ]
  },
  {
   "cell_type": "code",
   "execution_count": 20,
   "id": "7057e4ba",
   "metadata": {
    "ExecuteTime": {
     "end_time": "2022-11-14T03:26:54.449461Z",
     "start_time": "2022-11-14T03:26:53.269196Z"
    }
   },
   "outputs": [
    {
     "data": {
      "text/plain": [
       "0.9651754103636949"
      ]
     },
     "execution_count": 20,
     "metadata": {},
     "output_type": "execute_result"
    }
   ],
   "source": [
    "num_correct = 0\n",
    "num_samples = 0\n",
    "\n",
    "# Set model to eval\n",
    "model.eval()\n",
    "\n",
    "with torch.no_grad():\n",
    "    for x, y in train_loader:\n",
    "        x = x.to(device=device)\n",
    "        y.to(device=device)\n",
    "        #y = torch.squeeze(y.to(device=device), 1)\n",
    "        #print(y.shape)\n",
    "\n",
    "        scores = model(x)\n",
    "        predictions = scores\n",
    "        predictions = predictions.apply_( lambda x: 1 if x >= 0.5 else 0 )\n",
    "        num_correct += int((predictions == y).sum())\n",
    "        num_samples += predictions.size(0)\n",
    "\n",
    "# Toggle model back to train\n",
    "model.train()\n",
    "#print(num_correct , num_samples)\n",
    "num_correct / num_samples"
   ]
  },
  {
   "cell_type": "code",
   "execution_count": 21,
   "id": "48a94a4e",
   "metadata": {
    "ExecuteTime": {
     "end_time": "2022-11-14T03:27:01.221407Z",
     "start_time": "2022-11-14T03:27:01.210375Z"
    }
   },
   "outputs": [],
   "source": [
    "# Check accuracy on training & test to see how good our model\n",
    "def check_accuracy(loader, model):\n",
    "    num_correct = 0\n",
    "    num_samples = 0\n",
    "\n",
    "    # Set model to eval\n",
    "    model.eval()\n",
    "\n",
    "    with torch.no_grad():\n",
    "        for x, y in train_loader:\n",
    "            x = x.to(device=device)\n",
    "            y.to(device=device)\n",
    "            #y = torch.squeeze(y.to(device=device), 1)\n",
    "            #print(y.shape)\n",
    "\n",
    "            scores = model(x)\n",
    "            predictions = scores\n",
    "            predictions = predictions.apply_( lambda x: 1 if x >= 0.5 else 0 )\n",
    "            num_correct += int((predictions == y).sum())\n",
    "            num_samples += predictions.size(0)\n",
    "\n",
    "    # Toggle model back to train\n",
    "    model.train()\n",
    "    return num_correct / num_samples"
   ]
  },
  {
   "cell_type": "code",
   "execution_count": 22,
   "id": "f370065c",
   "metadata": {
    "ExecuteTime": {
     "end_time": "2022-11-14T03:27:04.672078Z",
     "start_time": "2022-11-14T03:27:03.517020Z"
    }
   },
   "outputs": [
    {
     "name": "stdout",
     "output_type": "stream",
     "text": [
      "Accuracy on training set: 96.517541 %\n"
     ]
    }
   ],
   "source": [
    "print(f\"Accuracy on training set: {check_accuracy(train_loader, model)*100:2f} %\")\n",
    "#print(f\"Accuracy on test set: {check_accuracy(test_loader, model)*100:.2f} %\")"
   ]
  },
  {
   "cell_type": "markdown",
   "id": "122b08ba",
   "metadata": {},
   "source": [
    "# Model Performance on validation dataset"
   ]
  },
  {
   "cell_type": "code",
   "execution_count": 23,
   "id": "7194f3f0",
   "metadata": {
    "ExecuteTime": {
     "end_time": "2022-11-14T03:27:14.861300Z",
     "start_time": "2022-11-14T03:27:13.406510Z"
    }
   },
   "outputs": [
    {
     "name": "stdout",
     "output_type": "stream",
     "text": [
      "X now in shape of torch.Size([2394, 61])\n",
      "y now in shape of torch.Size([2394, 1])\n",
      "Accuracy on valid set: 96.52 %\n"
     ]
    }
   ],
   "source": [
    "X2 = X_tensor(X_valid_norm)\n",
    "y2 = y_tensor(y_valid_t1.iloc[:,-1])\n",
    "\n",
    "Valid_datasets = CusDatasetLoader(X2, y2)\n",
    "Valid_loader = DataLoader(dataset=Valid_datasets, batch_size=batch_size, shuffle=True)\n",
    "print(f\"Accuracy on valid set: {check_accuracy(Valid_loader, model)*100:.2f} %\")"
   ]
  },
  {
   "cell_type": "code",
   "execution_count": 24,
   "id": "d70d120b",
   "metadata": {
    "ExecuteTime": {
     "end_time": "2022-11-14T03:27:15.523192Z",
     "start_time": "2022-11-14T03:27:15.058514Z"
    }
   },
   "outputs": [
    {
     "name": "stdout",
     "output_type": "stream",
     "text": [
      "(2394, 1)\n",
      "(2394, 1)\n"
     ]
    },
    {
     "data": {
      "image/png": "[encoded data removed]",
      "text/plain": [
       "<Figure size 640x480 with 1 Axes>"
      ]
     },
     "metadata": {},
     "output_type": "display_data"
    }
   ],
   "source": [
    "y_true = np.array(y_valid_t1.iloc[:,[-1]])\n",
    "all_y_pred = []\n",
    "\n",
    "model.eval()\n",
    "with torch.no_grad():\n",
    "    for x, y in Valid_loader:\n",
    "            x = x.to(device=device)\n",
    "            y = y.to(device=device)\n",
    "            #y = torch.squeeze(y.to(device=device), 1)\n",
    "            \n",
    "            pred_y1 = torch.sigmoid(model(x))\n",
    "            y_pred = pred_y1.squeeze(-1).detach().numpy()\n",
    "            all_y_pred = np.append(all_y_pred, y_pred)\n",
    "\n",
    "print(y_true.shape)\n",
    "print(all_y_pred.reshape(-1,1).shape)\n",
    "fpr, tpr, _ = metrics.roc_curve(y_true, all_y_pred)\n",
    "roc_auc = metrics.roc_auc_score(y_true, all_y_pred)\n",
    "\n",
    "model.train()\n",
    "\n",
    "plt.figure(1)\n",
    "plt.plot([0, 1], [0, 1], 'k-')\n",
    "plt.plot(fpr, tpr, label='FN(area = {:.3f})'.format(roc_auc))\n",
    "plt.xlabel('False positive rate')\n",
    "plt.ylabel('True positive rate')\n",
    "plt.title(\"ROC curve\")\n",
    "plt.legend(loc=\"best\")\n",
    "plt.show()"
   ]
  },
  {
   "cell_type": "markdown",
   "id": "b16acbcd",
   "metadata": {},
   "source": [
    "# Test"
   ]
  },
  {
   "cell_type": "code",
   "execution_count": 25,
   "id": "0fc30b2a",
   "metadata": {
    "ExecuteTime": {
     "end_time": "2022-11-14T03:45:41.379897Z",
     "start_time": "2022-11-14T03:45:41.367369Z"
    }
   },
   "outputs": [],
   "source": [
    "def test(loader, model):\n",
    "    # Set model to eval\n",
    "    model.eval()\n",
    "    res = torch.tensor([], dtype=torch.int64)\n",
    "    with torch.no_grad():\n",
    "        for x, y in loader:\n",
    "            x = x.to(device=device)\n",
    "            y.to(device=device)\n",
    "\n",
    "            scores = model(x)\n",
    "            predictions = scores\n",
    "            res =  torch.cat((predictions, res), 0)  \n",
    "    model.train()\n",
    "   \n",
    "    return res"
   ]
  },
  {
   "cell_type": "code",
   "execution_count": 26,
   "id": "767ccbaa",
   "metadata": {
    "ExecuteTime": {
     "end_time": "2022-11-14T03:45:41.475438Z",
     "start_time": "2022-11-14T03:45:41.386099Z"
    }
   },
   "outputs": [
    {
     "data": {
      "text/html": [
       "<div>\n",
       "<style scoped>\n",
       "    .dataframe tbody tr th:only-of-type {\n",
       "        vertical-align: middle;\n",
       "    }\n",
       "\n",
       "    .dataframe tbody tr th {\n",
       "        vertical-align: top;\n",
       "    }\n",
       "\n",
       "    .dataframe thead th {\n",
       "        text-align: right;\n",
       "    }\n",
       "</style>\n",
       "<table border=\"1\" class=\"dataframe\">\n",
       "  <thead>\n",
       "    <tr style=\"text-align: right;\">\n",
       "      <th></th>\n",
       "      <th>0</th>\n",
       "      <th>1</th>\n",
       "      <th>2</th>\n",
       "      <th>3</th>\n",
       "      <th>4</th>\n",
       "      <th>5</th>\n",
       "      <th>6</th>\n",
       "      <th>7</th>\n",
       "      <th>8</th>\n",
       "      <th>9</th>\n",
       "      <th>...</th>\n",
       "      <th>94</th>\n",
       "      <th>95</th>\n",
       "      <th>96</th>\n",
       "      <th>97</th>\n",
       "      <th>98</th>\n",
       "      <th>99</th>\n",
       "      <th>100</th>\n",
       "      <th>101</th>\n",
       "      <th>102</th>\n",
       "      <th>103</th>\n",
       "    </tr>\n",
       "  </thead>\n",
       "  <tbody>\n",
       "    <tr>\n",
       "      <th>0</th>\n",
       "      <td>0.165740</td>\n",
       "      <td>-0.004162</td>\n",
       "      <td>-0.018101</td>\n",
       "      <td>-0.019275</td>\n",
       "      <td>0.048917</td>\n",
       "      <td>0.073994</td>\n",
       "      <td>0.185472</td>\n",
       "      <td>0.127482</td>\n",
       "      <td>-0.006190</td>\n",
       "      <td>0.972110</td>\n",
       "      <td>...</td>\n",
       "      <td>3.176095</td>\n",
       "      <td>-0.553177</td>\n",
       "      <td>-0.004285</td>\n",
       "      <td>0.002797</td>\n",
       "      <td>0.017947</td>\n",
       "      <td>0.027071</td>\n",
       "      <td>0.017438</td>\n",
       "      <td>-0.017092</td>\n",
       "      <td>0.765229</td>\n",
       "      <td>0.026431</td>\n",
       "    </tr>\n",
       "    <tr>\n",
       "      <th>1</th>\n",
       "      <td>-0.504386</td>\n",
       "      <td>1.730745</td>\n",
       "      <td>-0.018101</td>\n",
       "      <td>-0.019275</td>\n",
       "      <td>0.048917</td>\n",
       "      <td>-0.183348</td>\n",
       "      <td>-1.315022</td>\n",
       "      <td>-0.430294</td>\n",
       "      <td>-0.371828</td>\n",
       "      <td>1.212867</td>\n",
       "      <td>...</td>\n",
       "      <td>0.019050</td>\n",
       "      <td>-0.022098</td>\n",
       "      <td>-0.004285</td>\n",
       "      <td>0.002797</td>\n",
       "      <td>0.017947</td>\n",
       "      <td>0.027071</td>\n",
       "      <td>-4.824070</td>\n",
       "      <td>-0.143602</td>\n",
       "      <td>2.209077</td>\n",
       "      <td>0.026431</td>\n",
       "    </tr>\n",
       "    <tr>\n",
       "      <th>2</th>\n",
       "      <td>-0.477027</td>\n",
       "      <td>1.012991</td>\n",
       "      <td>-0.018101</td>\n",
       "      <td>-0.019275</td>\n",
       "      <td>0.048917</td>\n",
       "      <td>0.291617</td>\n",
       "      <td>0.185472</td>\n",
       "      <td>-0.442176</td>\n",
       "      <td>-0.789188</td>\n",
       "      <td>0.731352</td>\n",
       "      <td>...</td>\n",
       "      <td>0.019050</td>\n",
       "      <td>-0.022098</td>\n",
       "      <td>-0.004285</td>\n",
       "      <td>0.002797</td>\n",
       "      <td>0.017947</td>\n",
       "      <td>0.027071</td>\n",
       "      <td>0.017438</td>\n",
       "      <td>-0.636430</td>\n",
       "      <td>-0.528219</td>\n",
       "      <td>0.026431</td>\n",
       "    </tr>\n",
       "    <tr>\n",
       "      <th>3</th>\n",
       "      <td>0.165740</td>\n",
       "      <td>-0.004162</td>\n",
       "      <td>-0.018101</td>\n",
       "      <td>-0.019275</td>\n",
       "      <td>0.048917</td>\n",
       "      <td>0.073994</td>\n",
       "      <td>-0.714824</td>\n",
       "      <td>0.127482</td>\n",
       "      <td>-0.006190</td>\n",
       "      <td>-0.231679</td>\n",
       "      <td>...</td>\n",
       "      <td>1.089125</td>\n",
       "      <td>0.097808</td>\n",
       "      <td>-0.004285</td>\n",
       "      <td>0.002797</td>\n",
       "      <td>0.017947</td>\n",
       "      <td>0.027071</td>\n",
       "      <td>0.017438</td>\n",
       "      <td>0.246553</td>\n",
       "      <td>-0.633499</td>\n",
       "      <td>0.026431</td>\n",
       "    </tr>\n",
       "    <tr>\n",
       "      <th>4</th>\n",
       "      <td>-0.529010</td>\n",
       "      <td>-0.004162</td>\n",
       "      <td>-0.018101</td>\n",
       "      <td>-0.019275</td>\n",
       "      <td>0.048917</td>\n",
       "      <td>-0.247532</td>\n",
       "      <td>-0.714824</td>\n",
       "      <td>-0.447268</td>\n",
       "      <td>2.549697</td>\n",
       "      <td>-0.231679</td>\n",
       "      <td>...</td>\n",
       "      <td>0.019050</td>\n",
       "      <td>-0.022098</td>\n",
       "      <td>-0.004285</td>\n",
       "      <td>0.002797</td>\n",
       "      <td>0.017947</td>\n",
       "      <td>0.027071</td>\n",
       "      <td>0.017438</td>\n",
       "      <td>-0.017092</td>\n",
       "      <td>-1.550945</td>\n",
       "      <td>0.026431</td>\n",
       "    </tr>\n",
       "    <tr>\n",
       "      <th>...</th>\n",
       "      <td>...</td>\n",
       "      <td>...</td>\n",
       "      <td>...</td>\n",
       "      <td>...</td>\n",
       "      <td>...</td>\n",
       "      <td>...</td>\n",
       "      <td>...</td>\n",
       "      <td>...</td>\n",
       "      <td>...</td>\n",
       "      <td>...</td>\n",
       "      <td>...</td>\n",
       "      <td>...</td>\n",
       "      <td>...</td>\n",
       "      <td>...</td>\n",
       "      <td>...</td>\n",
       "      <td>...</td>\n",
       "      <td>...</td>\n",
       "      <td>...</td>\n",
       "      <td>...</td>\n",
       "      <td>...</td>\n",
       "      <td>...</td>\n",
       "    </tr>\n",
       "    <tr>\n",
       "      <th>4785</th>\n",
       "      <td>0.165740</td>\n",
       "      <td>-0.004162</td>\n",
       "      <td>-0.018101</td>\n",
       "      <td>-0.019275</td>\n",
       "      <td>0.048917</td>\n",
       "      <td>0.073994</td>\n",
       "      <td>-0.414726</td>\n",
       "      <td>0.127482</td>\n",
       "      <td>-0.006190</td>\n",
       "      <td>1.453625</td>\n",
       "      <td>...</td>\n",
       "      <td>-5.693526</td>\n",
       "      <td>-0.137387</td>\n",
       "      <td>-0.004285</td>\n",
       "      <td>0.002797</td>\n",
       "      <td>0.017947</td>\n",
       "      <td>0.027071</td>\n",
       "      <td>0.017438</td>\n",
       "      <td>-1.083055</td>\n",
       "      <td>-0.347738</td>\n",
       "      <td>0.026431</td>\n",
       "    </tr>\n",
       "    <tr>\n",
       "      <th>4786</th>\n",
       "      <td>0.165740</td>\n",
       "      <td>-0.004162</td>\n",
       "      <td>-0.018101</td>\n",
       "      <td>-0.019275</td>\n",
       "      <td>0.048917</td>\n",
       "      <td>0.073994</td>\n",
       "      <td>0.485571</td>\n",
       "      <td>0.127482</td>\n",
       "      <td>-0.006190</td>\n",
       "      <td>-1.194710</td>\n",
       "      <td>...</td>\n",
       "      <td>0.019050</td>\n",
       "      <td>-0.022098</td>\n",
       "      <td>-0.004285</td>\n",
       "      <td>0.002797</td>\n",
       "      <td>0.017947</td>\n",
       "      <td>-0.655784</td>\n",
       "      <td>0.017438</td>\n",
       "      <td>-0.460709</td>\n",
       "      <td>0.028265</td>\n",
       "      <td>0.026431</td>\n",
       "    </tr>\n",
       "    <tr>\n",
       "      <th>4787</th>\n",
       "      <td>0.165740</td>\n",
       "      <td>-0.004162</td>\n",
       "      <td>-0.018101</td>\n",
       "      <td>-0.019275</td>\n",
       "      <td>0.048917</td>\n",
       "      <td>0.073994</td>\n",
       "      <td>-0.414726</td>\n",
       "      <td>0.127482</td>\n",
       "      <td>-0.006190</td>\n",
       "      <td>-0.713195</td>\n",
       "      <td>...</td>\n",
       "      <td>0.045641</td>\n",
       "      <td>-0.137387</td>\n",
       "      <td>-0.004285</td>\n",
       "      <td>0.002797</td>\n",
       "      <td>0.017947</td>\n",
       "      <td>0.027071</td>\n",
       "      <td>0.017438</td>\n",
       "      <td>0.415963</td>\n",
       "      <td>-0.257497</td>\n",
       "      <td>0.026431</td>\n",
       "    </tr>\n",
       "    <tr>\n",
       "      <th>4788</th>\n",
       "      <td>0.165740</td>\n",
       "      <td>-0.004162</td>\n",
       "      <td>-0.018101</td>\n",
       "      <td>-0.019275</td>\n",
       "      <td>0.048917</td>\n",
       "      <td>0.073994</td>\n",
       "      <td>1.085769</td>\n",
       "      <td>0.127482</td>\n",
       "      <td>-1.206549</td>\n",
       "      <td>-0.231679</td>\n",
       "      <td>...</td>\n",
       "      <td>0.019050</td>\n",
       "      <td>-0.022098</td>\n",
       "      <td>-0.004285</td>\n",
       "      <td>0.002797</td>\n",
       "      <td>0.017947</td>\n",
       "      <td>-0.593120</td>\n",
       "      <td>0.017438</td>\n",
       "      <td>-0.636430</td>\n",
       "      <td>1.096111</td>\n",
       "      <td>0.026431</td>\n",
       "    </tr>\n",
       "    <tr>\n",
       "      <th>4789</th>\n",
       "      <td>-0.466083</td>\n",
       "      <td>-2.815031</td>\n",
       "      <td>-0.018101</td>\n",
       "      <td>-0.019275</td>\n",
       "      <td>0.048917</td>\n",
       "      <td>-0.748171</td>\n",
       "      <td>0.485571</td>\n",
       "      <td>-0.442176</td>\n",
       "      <td>-0.371828</td>\n",
       "      <td>-0.472437</td>\n",
       "      <td>...</td>\n",
       "      <td>0.019050</td>\n",
       "      <td>-0.022098</td>\n",
       "      <td>-0.004285</td>\n",
       "      <td>0.002797</td>\n",
       "      <td>0.017947</td>\n",
       "      <td>0.027071</td>\n",
       "      <td>0.017438</td>\n",
       "      <td>-0.879150</td>\n",
       "      <td>0.780269</td>\n",
       "      <td>0.026431</td>\n",
       "    </tr>\n",
       "  </tbody>\n",
       "</table>\n",
       "<p>4790 rows × 104 columns</p>\n",
       "</div>"
      ],
      "text/plain": [
       "           0         1         2         3         4         5         6    \\\n",
       "0     0.165740 -0.004162 -0.018101 -0.019275  0.048917  0.073994  0.185472   \n",
       "1    -0.504386  1.730745 -0.018101 -0.019275  0.048917 -0.183348 -1.315022   \n",
       "2    -0.477027  1.012991 -0.018101 -0.019275  0.048917  0.291617  0.185472   \n",
       "3     0.165740 -0.004162 -0.018101 -0.019275  0.048917  0.073994 -0.714824   \n",
       "4    -0.529010 -0.004162 -0.018101 -0.019275  0.048917 -0.247532 -0.714824   \n",
       "...        ...       ...       ...       ...       ...       ...       ...   \n",
       "4785  0.165740 -0.004162 -0.018101 -0.019275  0.048917  0.073994 -0.414726   \n",
       "4786  0.165740 -0.004162 -0.018101 -0.019275  0.048917  0.073994  0.485571   \n",
       "4787  0.165740 -0.004162 -0.018101 -0.019275  0.048917  0.073994 -0.414726   \n",
       "4788  0.165740 -0.004162 -0.018101 -0.019275  0.048917  0.073994  1.085769   \n",
       "4789 -0.466083 -2.815031 -0.018101 -0.019275  0.048917 -0.748171  0.485571   \n",
       "\n",
       "           7         8         9    ...       94        95        96   \\\n",
       "0     0.127482 -0.006190  0.972110  ...  3.176095 -0.553177 -0.004285   \n",
       "1    -0.430294 -0.371828  1.212867  ...  0.019050 -0.022098 -0.004285   \n",
       "2    -0.442176 -0.789188  0.731352  ...  0.019050 -0.022098 -0.004285   \n",
       "3     0.127482 -0.006190 -0.231679  ...  1.089125  0.097808 -0.004285   \n",
       "4    -0.447268  2.549697 -0.231679  ...  0.019050 -0.022098 -0.004285   \n",
       "...        ...       ...       ...  ...       ...       ...       ...   \n",
       "4785  0.127482 -0.006190  1.453625  ... -5.693526 -0.137387 -0.004285   \n",
       "4786  0.127482 -0.006190 -1.194710  ...  0.019050 -0.022098 -0.004285   \n",
       "4787  0.127482 -0.006190 -0.713195  ...  0.045641 -0.137387 -0.004285   \n",
       "4788  0.127482 -1.206549 -0.231679  ...  0.019050 -0.022098 -0.004285   \n",
       "4789 -0.442176 -0.371828 -0.472437  ...  0.019050 -0.022098 -0.004285   \n",
       "\n",
       "           97        98        99        100       101       102       103  \n",
       "0     0.002797  0.017947  0.027071  0.017438 -0.017092  0.765229  0.026431  \n",
       "1     0.002797  0.017947  0.027071 -4.824070 -0.143602  2.209077  0.026431  \n",
       "2     0.002797  0.017947  0.027071  0.017438 -0.636430 -0.528219  0.026431  \n",
       "3     0.002797  0.017947  0.027071  0.017438  0.246553 -0.633499  0.026431  \n",
       "4     0.002797  0.017947  0.027071  0.017438 -0.017092 -1.550945  0.026431  \n",
       "...        ...       ...       ...       ...       ...       ...       ...  \n",
       "4785  0.002797  0.017947  0.027071  0.017438 -1.083055 -0.347738  0.026431  \n",
       "4786  0.002797  0.017947 -0.655784  0.017438 -0.460709  0.028265  0.026431  \n",
       "4787  0.002797  0.017947  0.027071  0.017438  0.415963 -0.257497  0.026431  \n",
       "4788  0.002797  0.017947 -0.593120  0.017438 -0.636430  1.096111  0.026431  \n",
       "4789  0.002797  0.017947  0.027071  0.017438 -0.879150  0.780269  0.026431  \n",
       "\n",
       "[4790 rows x 104 columns]"
      ]
     },
     "execution_count": 26,
     "metadata": {},
     "output_type": "execute_result"
    }
   ],
   "source": [
    "X_test_mean\n",
    "x_valid_mean=X_test_mean.values\n",
    "x_valid_mean_scaled = scaler.fit_transform(x_valid_mean)\n",
    "X_test_norm=pd.DataFrame(x_valid_mean_scaled)\n",
    "X_test_norm"
   ]
  },
  {
   "cell_type": "code",
   "execution_count": 27,
   "id": "66e51253",
   "metadata": {
    "ExecuteTime": {
     "end_time": "2022-11-14T03:45:41.696394Z",
     "start_time": "2022-11-14T03:45:41.480897Z"
    }
   },
   "outputs": [
    {
     "name": "stdout",
     "output_type": "stream",
     "text": [
      "X now in shape of torch.Size([4790, 104])\n"
     ]
    },
    {
     "ename": "RuntimeError",
     "evalue": "mat1 and mat2 shapes cannot be multiplied (64x104 and 61x52)",
     "output_type": "error",
     "traceback": [
      "\u001b[0;31m---------------------------------------------------------------------------\u001b[0m",
      "\u001b[0;31mRuntimeError\u001b[0m                              Traceback (most recent call last)",
      "\u001b[0;32m/tmp/ipykernel_140575/347647333.py\u001b[0m in \u001b[0;36m<module>\u001b[0;34m\u001b[0m\n\u001b[1;32m      5\u001b[0m \u001b[0mtest_loader\u001b[0m \u001b[0;34m=\u001b[0m \u001b[0mDataLoader\u001b[0m\u001b[0;34m(\u001b[0m\u001b[0mdataset\u001b[0m\u001b[0;34m=\u001b[0m\u001b[0mtest_datasets\u001b[0m\u001b[0;34m,\u001b[0m \u001b[0mbatch_size\u001b[0m\u001b[0;34m=\u001b[0m\u001b[0mbatch_size\u001b[0m\u001b[0;34m,\u001b[0m \u001b[0mshuffle\u001b[0m\u001b[0;34m=\u001b[0m\u001b[0;32mTrue\u001b[0m\u001b[0;34m)\u001b[0m\u001b[0;34m\u001b[0m\u001b[0;34m\u001b[0m\u001b[0m\n\u001b[1;32m      6\u001b[0m \u001b[0;34m\u001b[0m\u001b[0m\n\u001b[0;32m----> 7\u001b[0;31m \u001b[0mresult\u001b[0m \u001b[0;34m=\u001b[0m \u001b[0mtest\u001b[0m\u001b[0;34m(\u001b[0m\u001b[0mtest_loader\u001b[0m\u001b[0;34m,\u001b[0m \u001b[0mmodel\u001b[0m\u001b[0;34m)\u001b[0m\u001b[0;34m\u001b[0m\u001b[0;34m\u001b[0m\u001b[0m\n\u001b[0m\u001b[1;32m      8\u001b[0m \u001b[0mresult\u001b[0m\u001b[0;34m\u001b[0m\u001b[0;34m\u001b[0m\u001b[0m\n",
      "\u001b[0;32m/tmp/ipykernel_140575/4188851062.py\u001b[0m in \u001b[0;36mtest\u001b[0;34m(loader, model)\u001b[0m\n\u001b[1;32m      8\u001b[0m             \u001b[0my\u001b[0m\u001b[0;34m.\u001b[0m\u001b[0mto\u001b[0m\u001b[0;34m(\u001b[0m\u001b[0mdevice\u001b[0m\u001b[0;34m=\u001b[0m\u001b[0mdevice\u001b[0m\u001b[0;34m)\u001b[0m\u001b[0;34m\u001b[0m\u001b[0;34m\u001b[0m\u001b[0m\n\u001b[1;32m      9\u001b[0m \u001b[0;34m\u001b[0m\u001b[0m\n\u001b[0;32m---> 10\u001b[0;31m             \u001b[0mscores\u001b[0m \u001b[0;34m=\u001b[0m \u001b[0mmodel\u001b[0m\u001b[0;34m(\u001b[0m\u001b[0mx\u001b[0m\u001b[0;34m)\u001b[0m\u001b[0;34m\u001b[0m\u001b[0;34m\u001b[0m\u001b[0m\n\u001b[0m\u001b[1;32m     11\u001b[0m             \u001b[0mpredictions\u001b[0m \u001b[0;34m=\u001b[0m \u001b[0mscores\u001b[0m\u001b[0;34m\u001b[0m\u001b[0;34m\u001b[0m\u001b[0m\n\u001b[1;32m     12\u001b[0m             \u001b[0mres\u001b[0m \u001b[0;34m=\u001b[0m  \u001b[0mtorch\u001b[0m\u001b[0;34m.\u001b[0m\u001b[0mcat\u001b[0m\u001b[0;34m(\u001b[0m\u001b[0;34m(\u001b[0m\u001b[0mpredictions\u001b[0m\u001b[0;34m,\u001b[0m \u001b[0mres\u001b[0m\u001b[0;34m)\u001b[0m\u001b[0;34m,\u001b[0m \u001b[0;36m0\u001b[0m\u001b[0;34m)\u001b[0m\u001b[0;34m\u001b[0m\u001b[0;34m\u001b[0m\u001b[0m\n",
      "\u001b[0;32m~/anaconda3/envs/comp3340/lib/python3.7/site-packages/torch/nn/modules/module.py\u001b[0m in \u001b[0;36m_call_impl\u001b[0;34m(self, *input, **kwargs)\u001b[0m\n\u001b[1;32m    725\u001b[0m             \u001b[0mresult\u001b[0m \u001b[0;34m=\u001b[0m \u001b[0mself\u001b[0m\u001b[0;34m.\u001b[0m\u001b[0m_slow_forward\u001b[0m\u001b[0;34m(\u001b[0m\u001b[0;34m*\u001b[0m\u001b[0minput\u001b[0m\u001b[0;34m,\u001b[0m \u001b[0;34m**\u001b[0m\u001b[0mkwargs\u001b[0m\u001b[0;34m)\u001b[0m\u001b[0;34m\u001b[0m\u001b[0;34m\u001b[0m\u001b[0m\n\u001b[1;32m    726\u001b[0m         \u001b[0;32melse\u001b[0m\u001b[0;34m:\u001b[0m\u001b[0;34m\u001b[0m\u001b[0;34m\u001b[0m\u001b[0m\n\u001b[0;32m--> 727\u001b[0;31m             \u001b[0mresult\u001b[0m \u001b[0;34m=\u001b[0m \u001b[0mself\u001b[0m\u001b[0;34m.\u001b[0m\u001b[0mforward\u001b[0m\u001b[0;34m(\u001b[0m\u001b[0;34m*\u001b[0m\u001b[0minput\u001b[0m\u001b[0;34m,\u001b[0m \u001b[0;34m**\u001b[0m\u001b[0mkwargs\u001b[0m\u001b[0;34m)\u001b[0m\u001b[0;34m\u001b[0m\u001b[0;34m\u001b[0m\u001b[0m\n\u001b[0m\u001b[1;32m    728\u001b[0m         for hook in itertools.chain(\n\u001b[1;32m    729\u001b[0m                 \u001b[0m_global_forward_hooks\u001b[0m\u001b[0;34m.\u001b[0m\u001b[0mvalues\u001b[0m\u001b[0;34m(\u001b[0m\u001b[0;34m)\u001b[0m\u001b[0;34m,\u001b[0m\u001b[0;34m\u001b[0m\u001b[0;34m\u001b[0m\u001b[0m\n",
      "\u001b[0;32m/tmp/ipykernel_140575/951173522.py\u001b[0m in \u001b[0;36mforward\u001b[0;34m(self, x)\u001b[0m\n\u001b[1;32m     14\u001b[0m \u001b[0;34m\u001b[0m\u001b[0m\n\u001b[1;32m     15\u001b[0m     \u001b[0;32mdef\u001b[0m \u001b[0mforward\u001b[0m\u001b[0;34m(\u001b[0m\u001b[0mself\u001b[0m\u001b[0;34m,\u001b[0m \u001b[0mx\u001b[0m\u001b[0;34m)\u001b[0m\u001b[0;34m:\u001b[0m\u001b[0;34m\u001b[0m\u001b[0;34m\u001b[0m\u001b[0m\n\u001b[0;32m---> 16\u001b[0;31m          \u001b[0mx\u001b[0m \u001b[0;34m=\u001b[0m \u001b[0mF\u001b[0m\u001b[0;34m.\u001b[0m\u001b[0mleaky_relu\u001b[0m\u001b[0;34m(\u001b[0m\u001b[0mself\u001b[0m\u001b[0;34m.\u001b[0m\u001b[0mfc1\u001b[0m\u001b[0;34m(\u001b[0m\u001b[0mx\u001b[0m\u001b[0;34m)\u001b[0m\u001b[0;34m)\u001b[0m\u001b[0;34m\u001b[0m\u001b[0;34m\u001b[0m\u001b[0m\n\u001b[0m\u001b[1;32m     17\u001b[0m          \u001b[0mx\u001b[0m \u001b[0;34m=\u001b[0m \u001b[0mself\u001b[0m\u001b[0;34m.\u001b[0m\u001b[0mbatchnorm1\u001b[0m\u001b[0;34m(\u001b[0m\u001b[0mx\u001b[0m\u001b[0;34m)\u001b[0m\u001b[0;34m\u001b[0m\u001b[0;34m\u001b[0m\u001b[0m\n\u001b[1;32m     18\u001b[0m          \u001b[0mx\u001b[0m \u001b[0;34m=\u001b[0m \u001b[0mF\u001b[0m\u001b[0;34m.\u001b[0m\u001b[0mleaky_relu\u001b[0m\u001b[0;34m(\u001b[0m\u001b[0mself\u001b[0m\u001b[0;34m.\u001b[0m\u001b[0mfc2\u001b[0m\u001b[0;34m(\u001b[0m\u001b[0mx\u001b[0m\u001b[0;34m)\u001b[0m\u001b[0;34m)\u001b[0m\u001b[0;34m\u001b[0m\u001b[0;34m\u001b[0m\u001b[0m\n",
      "\u001b[0;32m~/anaconda3/envs/comp3340/lib/python3.7/site-packages/torch/nn/modules/module.py\u001b[0m in \u001b[0;36m_call_impl\u001b[0;34m(self, *input, **kwargs)\u001b[0m\n\u001b[1;32m    725\u001b[0m             \u001b[0mresult\u001b[0m \u001b[0;34m=\u001b[0m \u001b[0mself\u001b[0m\u001b[0;34m.\u001b[0m\u001b[0m_slow_forward\u001b[0m\u001b[0;34m(\u001b[0m\u001b[0;34m*\u001b[0m\u001b[0minput\u001b[0m\u001b[0;34m,\u001b[0m \u001b[0;34m**\u001b[0m\u001b[0mkwargs\u001b[0m\u001b[0;34m)\u001b[0m\u001b[0;34m\u001b[0m\u001b[0;34m\u001b[0m\u001b[0m\n\u001b[1;32m    726\u001b[0m         \u001b[0;32melse\u001b[0m\u001b[0;34m:\u001b[0m\u001b[0;34m\u001b[0m\u001b[0;34m\u001b[0m\u001b[0m\n\u001b[0;32m--> 727\u001b[0;31m             \u001b[0mresult\u001b[0m \u001b[0;34m=\u001b[0m \u001b[0mself\u001b[0m\u001b[0;34m.\u001b[0m\u001b[0mforward\u001b[0m\u001b[0;34m(\u001b[0m\u001b[0;34m*\u001b[0m\u001b[0minput\u001b[0m\u001b[0;34m,\u001b[0m \u001b[0;34m**\u001b[0m\u001b[0mkwargs\u001b[0m\u001b[0;34m)\u001b[0m\u001b[0;34m\u001b[0m\u001b[0;34m\u001b[0m\u001b[0m\n\u001b[0m\u001b[1;32m    728\u001b[0m         for hook in itertools.chain(\n\u001b[1;32m    729\u001b[0m                 \u001b[0m_global_forward_hooks\u001b[0m\u001b[0;34m.\u001b[0m\u001b[0mvalues\u001b[0m\u001b[0;34m(\u001b[0m\u001b[0;34m)\u001b[0m\u001b[0;34m,\u001b[0m\u001b[0;34m\u001b[0m\u001b[0;34m\u001b[0m\u001b[0m\n",
      "\u001b[0;32m~/anaconda3/envs/comp3340/lib/python3.7/site-packages/torch/nn/modules/linear.py\u001b[0m in \u001b[0;36mforward\u001b[0;34m(self, input)\u001b[0m\n\u001b[1;32m     91\u001b[0m \u001b[0;34m\u001b[0m\u001b[0m\n\u001b[1;32m     92\u001b[0m     \u001b[0;32mdef\u001b[0m \u001b[0mforward\u001b[0m\u001b[0;34m(\u001b[0m\u001b[0mself\u001b[0m\u001b[0;34m,\u001b[0m \u001b[0minput\u001b[0m\u001b[0;34m:\u001b[0m \u001b[0mTensor\u001b[0m\u001b[0;34m)\u001b[0m \u001b[0;34m->\u001b[0m \u001b[0mTensor\u001b[0m\u001b[0;34m:\u001b[0m\u001b[0;34m\u001b[0m\u001b[0;34m\u001b[0m\u001b[0m\n\u001b[0;32m---> 93\u001b[0;31m         \u001b[0;32mreturn\u001b[0m \u001b[0mF\u001b[0m\u001b[0;34m.\u001b[0m\u001b[0mlinear\u001b[0m\u001b[0;34m(\u001b[0m\u001b[0minput\u001b[0m\u001b[0;34m,\u001b[0m \u001b[0mself\u001b[0m\u001b[0;34m.\u001b[0m\u001b[0mweight\u001b[0m\u001b[0;34m,\u001b[0m \u001b[0mself\u001b[0m\u001b[0;34m.\u001b[0m\u001b[0mbias\u001b[0m\u001b[0;34m)\u001b[0m\u001b[0;34m\u001b[0m\u001b[0;34m\u001b[0m\u001b[0m\n\u001b[0m\u001b[1;32m     94\u001b[0m \u001b[0;34m\u001b[0m\u001b[0m\n\u001b[1;32m     95\u001b[0m     \u001b[0;32mdef\u001b[0m \u001b[0mextra_repr\u001b[0m\u001b[0;34m(\u001b[0m\u001b[0mself\u001b[0m\u001b[0;34m)\u001b[0m \u001b[0;34m->\u001b[0m \u001b[0mstr\u001b[0m\u001b[0;34m:\u001b[0m\u001b[0;34m\u001b[0m\u001b[0;34m\u001b[0m\u001b[0m\n",
      "\u001b[0;32m~/anaconda3/envs/comp3340/lib/python3.7/site-packages/torch/nn/functional.py\u001b[0m in \u001b[0;36mlinear\u001b[0;34m(input, weight, bias)\u001b[0m\n\u001b[1;32m   1688\u001b[0m     \u001b[0;32mif\u001b[0m \u001b[0minput\u001b[0m\u001b[0;34m.\u001b[0m\u001b[0mdim\u001b[0m\u001b[0;34m(\u001b[0m\u001b[0;34m)\u001b[0m \u001b[0;34m==\u001b[0m \u001b[0;36m2\u001b[0m \u001b[0;32mand\u001b[0m \u001b[0mbias\u001b[0m \u001b[0;32mis\u001b[0m \u001b[0;32mnot\u001b[0m \u001b[0;32mNone\u001b[0m\u001b[0;34m:\u001b[0m\u001b[0;34m\u001b[0m\u001b[0;34m\u001b[0m\u001b[0m\n\u001b[1;32m   1689\u001b[0m         \u001b[0;31m# fused op is marginally faster\u001b[0m\u001b[0;34m\u001b[0m\u001b[0;34m\u001b[0m\u001b[0;34m\u001b[0m\u001b[0m\n\u001b[0;32m-> 1690\u001b[0;31m         \u001b[0mret\u001b[0m \u001b[0;34m=\u001b[0m \u001b[0mtorch\u001b[0m\u001b[0;34m.\u001b[0m\u001b[0maddmm\u001b[0m\u001b[0;34m(\u001b[0m\u001b[0mbias\u001b[0m\u001b[0;34m,\u001b[0m \u001b[0minput\u001b[0m\u001b[0;34m,\u001b[0m \u001b[0mweight\u001b[0m\u001b[0;34m.\u001b[0m\u001b[0mt\u001b[0m\u001b[0;34m(\u001b[0m\u001b[0;34m)\u001b[0m\u001b[0;34m)\u001b[0m\u001b[0;34m\u001b[0m\u001b[0;34m\u001b[0m\u001b[0m\n\u001b[0m\u001b[1;32m   1691\u001b[0m     \u001b[0;32melse\u001b[0m\u001b[0;34m:\u001b[0m\u001b[0;34m\u001b[0m\u001b[0;34m\u001b[0m\u001b[0m\n\u001b[1;32m   1692\u001b[0m         \u001b[0moutput\u001b[0m \u001b[0;34m=\u001b[0m \u001b[0minput\u001b[0m\u001b[0;34m.\u001b[0m\u001b[0mmatmul\u001b[0m\u001b[0;34m(\u001b[0m\u001b[0mweight\u001b[0m\u001b[0;34m.\u001b[0m\u001b[0mt\u001b[0m\u001b[0;34m(\u001b[0m\u001b[0;34m)\u001b[0m\u001b[0;34m)\u001b[0m\u001b[0;34m\u001b[0m\u001b[0;34m\u001b[0m\u001b[0m\n",
      "\u001b[0;31mRuntimeError\u001b[0m: mat1 and mat2 shapes cannot be multiplied (64x104 and 61x52)"
     ]
    }
   ],
   "source": [
    "X_test_final = X_tensor(X_test_norm)\n",
    "y_final = torch.zeros([4790,1])\n",
    "\n",
    "test_datasets = CusDatasetLoader(X_test_final, y_final)\n",
    "test_loader = DataLoader(dataset=test_datasets, batch_size=batch_size, shuffle=True)\n",
    "\n",
    "result = test(test_loader, model)\n",
    "result"
   ]
  },
  {
   "cell_type": "code",
   "execution_count": null,
   "id": "8747d5c8",
   "metadata": {
    "ExecuteTime": {
     "end_time": "2022-11-14T03:45:41.702262Z",
     "start_time": "2022-11-14T03:45:41.702222Z"
    },
    "scrolled": true
   },
   "outputs": [],
   "source": [
    "\n",
    "#df.index = ['Row_1', 'Row_2', 'Row_3', 'Row_4']\n",
    "res1 = pd.DataFrame(result.tolist(), columns=[\"Predicted\"])\n",
    "res1.index = X_test.index\n",
    "res1.index.name = 'Id'\n",
    "pd.DataFrame(res1).to_csv('out.csv')\n",
    "#print(torch.count_nonzero(torch.from_numpy(np.array(res1)).to(torch.float32)))\n",
    "res1"
   ]
  }
 ],
 "metadata": {
  "kernelspec": {
   "display_name": "comp3340",
   "language": "python",
   "name": "comp3340"
  },
  "language_info": {
   "codemirror_mode": {
    "name": "ipython",
    "version": 3
   },
   "file_extension": ".py",
   "mimetype": "text/x-python",
   "name": "python",
   "nbconvert_exporter": "python",
   "pygments_lexer": "ipython3",
   "version": "3.7.13"
  },
  "toc": {
   "base_numbering": 1,
   "nav_menu": {},
   "number_sections": true,
   "sideBar": true,
   "skip_h1_title": false,
   "title_cell": "Table of Contents",
   "title_sidebar": "Contents",
   "toc_cell": false,
   "toc_position": {},
   "toc_section_display": true,
   "toc_window_display": true
  }
 },
 "nbformat": 4,
 "nbformat_minor": 5
}
