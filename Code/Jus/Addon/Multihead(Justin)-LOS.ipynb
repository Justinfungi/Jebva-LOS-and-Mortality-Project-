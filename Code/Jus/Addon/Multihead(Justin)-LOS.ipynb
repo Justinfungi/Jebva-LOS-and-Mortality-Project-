{
 "cells": [
  {
   "cell_type": "markdown",
   "id": "970d9aef",
   "metadata": {},
   "source": [
    "# Libraries"
   ]
  },
  {
   "cell_type": "code",
   "execution_count": 2,
   "id": "71cace5d",
   "metadata": {
    "ExecuteTime": {
     "end_time": "2022-11-29T14:58:45.007149Z",
     "start_time": "2022-11-29T14:58:44.607113Z"
    }
   },
   "outputs": [],
   "source": [
    "import torch\n",
    "import torchvision\n",
    "import torch.nn as nn\n",
    "import torch.optim as optim\n",
    "import torch.nn.functional as F\n",
    "from torch.utils.data import Dataset, DataLoader\n",
    "import torchvision.transforms as transforms"
   ]
  },
  {
   "cell_type": "code",
   "execution_count": 3,
   "id": "8735b622",
   "metadata": {
    "ExecuteTime": {
     "end_time": "2022-11-29T14:58:47.111798Z",
     "start_time": "2022-11-29T14:58:46.077770Z"
    }
   },
   "outputs": [],
   "source": [
    "device = torch.device(\"cuda\" if torch.cuda.is_available() else \"cpu\")"
   ]
  },
  {
   "cell_type": "markdown",
   "id": "e5e3db1d",
   "metadata": {
    "ExecuteTime": {
     "end_time": "2022-10-27T03:47:12.458066Z",
     "start_time": "2022-10-27T03:47:12.452095Z"
    }
   },
   "source": [
    "# Import data"
   ]
  },
  {
   "cell_type": "code",
   "execution_count": 7,
   "id": "c7c7a26f",
   "metadata": {
    "ExecuteTime": {
     "end_time": "2022-11-29T15:01:07.520674Z",
     "start_time": "2022-11-29T15:01:07.127857Z"
    }
   },
   "outputs": [
    {
     "name": "stdout",
     "output_type": "stream",
     "text": [
      "************************************************************\n",
      "There are 6 set of X\n",
      "X_train_selected_t1, X_train_selected_t2, X_valid_selected_t1,X_valid_selected_t2,X_test_selected_t1,X_test_selected_t2\n",
      "------------------------------------------------------------\n",
      "Normalized version\n",
      "X_train_selected_t1_norm, X_train_selected_t2_norm, X_valid_selected_t1_norm,X_valid_selected_t2_norm,X_test_selected_t1_norm,X_test_selected_t2_norm\n",
      "------------------------------------------------------------\n",
      "There are 4 set of Y\n",
      "y_train_t1, y_train_t2, y_valid_t1, y_valid_t2\n",
      "when training, please use: 'y_train_t1_value,y_train_t2_value,y_valid_t1_value,y_valid_t2_value'\n",
      "************************************************************\n"
     ]
    }
   ],
   "source": [
    "%run Data_preprocessing_v1.ipynb"
   ]
  },
  {
   "cell_type": "code",
   "execution_count": 8,
   "id": "4aa393c8",
   "metadata": {
    "ExecuteTime": {
     "end_time": "2022-11-29T15:01:09.589504Z",
     "start_time": "2022-11-29T15:01:09.586657Z"
    }
   },
   "outputs": [
    {
     "name": "stdout",
     "output_type": "stream",
     "text": [
      "(16760, 61)\n",
      "(2394, 61)\n",
      "(4790, 61)\n"
     ]
    }
   ],
   "source": [
    "print(X_train_selected_t2_norm.shape)\n",
    "print(X_valid_selected_t2_norm.shape)\n",
    "print(X_test_selected_t2_norm.shape)"
   ]
  },
  {
   "cell_type": "markdown",
   "id": "560831ad",
   "metadata": {},
   "source": [
    "# Hyperparameters"
   ]
  },
  {
   "cell_type": "code",
   "execution_count": 50,
   "id": "6fb9fe03",
   "metadata": {
    "ExecuteTime": {
     "end_time": "2022-11-28T03:09:45.544194Z",
     "start_time": "2022-11-28T03:09:45.538261Z"
    }
   },
   "outputs": [],
   "source": [
    "input_size = 61\n",
    "sequence_length = 1\n",
    "output_size = 1 # live or dead\n",
    "num_layers = 3\n",
    "hidden_size=30\n",
    "learning_rate = 0.001\n",
    "batch_size = 64\n",
    "num_epochs = 500\n",
    "l2_lamb = 0.0005"
   ]
  },
  {
   "cell_type": "markdown",
   "id": "9b7e4676",
   "metadata": {},
   "source": [
    "# Create JusNN"
   ]
  },
  {
   "cell_type": "code",
   "execution_count": 14,
   "id": "b8810614",
   "metadata": {
    "ExecuteTime": {
     "end_time": "2022-11-29T15:34:45.887344Z",
     "start_time": "2022-11-29T15:34:45.880250Z"
    }
   },
   "outputs": [
    {
     "ename": "SyntaxError",
     "evalue": "invalid syntax (2058534331.py, line 8)",
     "output_type": "error",
     "traceback": [
      "\u001b[0;36m  File \u001b[0;32m\"/tmp/ipykernel_58252/2058534331.py\"\u001b[0;36m, line \u001b[0;32m8\u001b[0m\n\u001b[0;31m    nn.Conv1d(in_channels=6, out_channels=3, kernel_size=1, stride=1, padding=0, dilation=0),\u001b[0m\n\u001b[0m     ^\u001b[0m\n\u001b[0;31mSyntaxError\u001b[0m\u001b[0;31m:\u001b[0m invalid syntax\n"
     ]
    }
   ],
   "source": [
    "class JusNN(nn.Module):\n",
    "    def __init__(self, input_size, hidden_size, num_layers, output_size):\n",
    "        super(JusNN, self).__init__()\n",
    "        \n",
    "        self.convlayer = nn.Sequential(\n",
    "            nn.Conv1d(in_channels=1, out_channels=6, kernel_size=2, stride=1, padding=0, dilation=0),\n",
    "            nn.AvgPool1d(kernel_size=2,stride=1)\n",
    "            nn.Conv1d(in_channels=6, out_channels=3, kernel_size=1, stride=1, padding=0, dilation=0),\n",
    "            nn.ReLU(),\n",
    "        )\n",
    "        \n",
    "        self.fclayers = nn.Sequential(\n",
    "            nn.Linear(input_size, 60),\n",
    "            nn.ReLU()\n",
    "            nn.Linear(60, 31),\n",
    "        )\n",
    "        \n",
    "        self.batchnorm1 = nn.BatchNorm1d(61)\n",
    "        #self.batchnorm2 = nn.BatchNorm1d(30)\n",
    "        #self.dropout = nn.Dropout(p=0.5)\n",
    "        \n",
    "        self.fc1 = nn.Linear(31, 1)\n",
    "        \n",
    "    def forward(self, x):\n",
    "         x1 = self.batchnorm1(x)\n",
    "         x1 = F.leaky_relu(self.fc1(x1))\n",
    "            \n",
    "         x2 = self.batchnorm1(x)\n",
    "         x2 = self.convlayer(x2)\n",
    "            \n",
    "         x3 = x1+x2\n",
    "         x3 = self.fc1(x3)\n",
    "         return x3"
   ]
  },
  {
   "cell_type": "markdown",
   "id": "076d6376",
   "metadata": {
    "heading_collapsed": true
   },
   "source": [
    "# Data transform"
   ]
  },
  {
   "cell_type": "code",
   "execution_count": 52,
   "id": "d7e4872c",
   "metadata": {
    "ExecuteTime": {
     "end_time": "2022-11-28T03:09:45.564203Z",
     "start_time": "2022-11-28T03:09:45.557739Z"
    },
    "hidden": true
   },
   "outputs": [],
   "source": [
    "class CusDatasetLoader(Dataset):\n",
    "    def __init__(self,x,y):\n",
    "        self.len = y.shape[0]\n",
    "        self.x_data = x\n",
    "        self.y_data = y\n",
    "  \n",
    "    def __len__(self):\n",
    "        return self.len\n",
    "\n",
    "    def __getitem__(self, index):\n",
    "        #return self.dataframe.iloc[index]\n",
    "        return self.x_data[index], self.y_data[index]"
   ]
  },
  {
   "cell_type": "code",
   "execution_count": 53,
   "id": "456be776",
   "metadata": {
    "ExecuteTime": {
     "end_time": "2022-11-28T03:09:45.573027Z",
     "start_time": "2022-11-28T03:09:45.567437Z"
    },
    "hidden": true
   },
   "outputs": [],
   "source": [
    "# X_shape(X) : used for split the data into a right tensor size\n",
    "#input: X in shape of 16760 rows × 7488 columns (df)\n",
    "#output: X in shape of torch.Size([16760, 312, 24]) (tensor)\n",
    "def X_shape(X):\n",
    "    X_tensor = torch.from_numpy(np.array(X)).to(torch.float32)\n",
    "    X_tensor = torch.split(X_tensor,1)\n",
    "    X_tensor = torch.stack(X_tensor)\n",
    "    print(\"X now in shape of\",X_tensor.shape)\n",
    "    return X_tensor\n",
    "\n",
    "# y_tensor(y) : used for split the data into a right tensor size\n",
    "#input: X in shape of 16760 rows × 7488 columns (df)\n",
    "#output: X in shape of torch.Size([16760, 312, 24]) (tensor)\n",
    "def y_tensor(y):\n",
    "    y= torch.from_numpy(np.array(y)).to(torch.float32).reshape(len(y),1)\n",
    "    print(\"y now in shape of\",y.shape)\n",
    "    return y"
   ]
  },
  {
   "cell_type": "code",
   "execution_count": 54,
   "id": "006849f5",
   "metadata": {
    "ExecuteTime": {
     "end_time": "2022-11-28T03:09:45.633556Z",
     "start_time": "2022-11-28T03:09:45.575041Z"
    },
    "hidden": true
   },
   "outputs": [
    {
     "name": "stdout",
     "output_type": "stream",
     "text": [
      "X now in shape of torch.Size([16760, 1, 61])\n",
      "y now in shape of torch.Size([16760, 1])\n",
      "torch.Size([1, 61])\n",
      "torch.Size([1])\n"
     ]
    }
   ],
   "source": [
    "# X should be in smaples, 1, squence, rows\n",
    "X1 = X_shape(X_train_selected_t2_norm)\n",
    "y1 = y_tensor(y_train_t2.iloc[:,-1])\n",
    "\n",
    "train_datasets = CusDatasetLoader(X1, y1)\n",
    "train_loader = DataLoader(dataset=train_datasets, batch_size=batch_size, shuffle=True)\n",
    "\n",
    "x,y = train_datasets[0]\n",
    "print(x.shape)\n",
    "print(y.shape)"
   ]
  },
  {
   "cell_type": "markdown",
   "id": "e366eb01",
   "metadata": {},
   "source": [
    "# Model train"
   ]
  },
  {
   "cell_type": "code",
   "execution_count": 55,
   "id": "6443333a",
   "metadata": {
    "ExecuteTime": {
     "end_time": "2022-11-28T03:09:45.639755Z",
     "start_time": "2022-11-28T03:09:45.635023Z"
    }
   },
   "outputs": [],
   "source": [
    "model = RNN(input_size, hidden_size, num_layers, output_size).to(device)"
   ]
  },
  {
   "cell_type": "code",
   "execution_count": 56,
   "id": "afa986f2",
   "metadata": {
    "ExecuteTime": {
     "end_time": "2022-11-28T03:09:45.645231Z",
     "start_time": "2022-11-28T03:09:45.641386Z"
    }
   },
   "outputs": [],
   "source": [
    "criterion = nn.MSELoss()\n",
    "optimizer = optim.Adadelta(model.parameters(), lr = learning_rate)"
   ]
  },
  {
   "cell_type": "code",
   "execution_count": 57,
   "id": "680547a7",
   "metadata": {
    "ExecuteTime": {
     "end_time": "2022-11-28T03:20:54.620580Z",
     "start_time": "2022-11-28T03:09:45.647375Z"
    },
    "scrolled": true
   },
   "outputs": [
    {
     "name": "stdout",
     "output_type": "stream",
     "text": [
      "Epoch 000: | Loss: 14.93716 \n",
      "Epoch 005: | Loss: 13.15120 \n",
      "Epoch 010: | Loss: 16.31759 \n",
      "Epoch 015: | Loss: 11.50748 \n",
      "Epoch 020: | Loss: 6.69250 \n",
      "Epoch 025: | Loss: 7.00234 \n",
      "Epoch 030: | Loss: 5.25601 \n",
      "Epoch 035: | Loss: 3.07440 \n",
      "Epoch 040: | Loss: 3.51244 \n",
      "Epoch 045: | Loss: 4.72005 \n",
      "Epoch 050: | Loss: 4.92757 \n",
      "Epoch 055: | Loss: 3.90265 \n",
      "Epoch 060: | Loss: 5.93129 \n",
      "Epoch 065: | Loss: 5.17600 \n",
      "Epoch 070: | Loss: 5.48070 \n",
      "Epoch 075: | Loss: 5.79294 \n",
      "Epoch 080: | Loss: 5.50427 \n",
      "Epoch 085: | Loss: 3.88706 \n",
      "Epoch 090: | Loss: 4.83165 \n",
      "Epoch 095: | Loss: 4.10547 \n",
      "Epoch 100: | Loss: 3.13122 \n",
      "Epoch 105: | Loss: 4.86404 \n",
      "Epoch 110: | Loss: 3.58423 \n",
      "Epoch 115: | Loss: 5.38918 \n",
      "Epoch 120: | Loss: 4.28800 \n",
      "Epoch 125: | Loss: 4.01491 \n",
      "Epoch 130: | Loss: 4.21155 \n",
      "Epoch 135: | Loss: 4.86178 \n",
      "Epoch 140: | Loss: 4.26680 \n",
      "Epoch 145: | Loss: 3.94521 \n",
      "Epoch 150: | Loss: 3.73941 \n",
      "Epoch 155: | Loss: 4.63653 \n",
      "Epoch 160: | Loss: 3.71185 \n",
      "Epoch 165: | Loss: 3.61252 \n",
      "Epoch 170: | Loss: 3.81926 \n",
      "Epoch 175: | Loss: 3.03760 \n",
      "Epoch 180: | Loss: 5.12745 \n",
      "Epoch 185: | Loss: 6.62808 \n",
      "Epoch 190: | Loss: 4.65812 \n",
      "Epoch 195: | Loss: 4.47443 \n",
      "Epoch 200: | Loss: 4.43348 \n",
      "Epoch 205: | Loss: 3.55147 \n",
      "Epoch 210: | Loss: 3.22072 \n",
      "Epoch 215: | Loss: 5.04403 \n",
      "Epoch 220: | Loss: 5.01902 \n",
      "Epoch 225: | Loss: 4.44187 \n",
      "Epoch 230: | Loss: 5.38338 \n",
      "Epoch 235: | Loss: 4.96224 \n",
      "Epoch 240: | Loss: 4.34876 \n",
      "Epoch 245: | Loss: 4.72331 \n",
      "Epoch 250: | Loss: 3.74613 \n",
      "Epoch 255: | Loss: 6.27567 \n",
      "Epoch 260: | Loss: 2.96098 \n",
      "Epoch 265: | Loss: 4.63956 \n",
      "Epoch 270: | Loss: 6.06253 \n",
      "Epoch 275: | Loss: 4.05168 \n",
      "Epoch 280: | Loss: 2.29261 \n",
      "Epoch 285: | Loss: 3.78894 \n",
      "Epoch 290: | Loss: 4.26618 \n",
      "Epoch 295: | Loss: 2.63587 \n",
      "Epoch 300: | Loss: 5.29819 \n",
      "Epoch 305: | Loss: 5.50940 \n",
      "Epoch 310: | Loss: 5.15968 \n",
      "Epoch 315: | Loss: 2.94075 \n",
      "Epoch 320: | Loss: 5.72391 \n",
      "Epoch 325: | Loss: 3.45685 \n",
      "Epoch 330: | Loss: 5.13107 \n",
      "Epoch 335: | Loss: 4.09606 \n",
      "Epoch 340: | Loss: 4.18537 \n",
      "Epoch 345: | Loss: 3.99096 \n",
      "Epoch 350: | Loss: 3.68199 \n",
      "Epoch 355: | Loss: 3.73567 \n",
      "Epoch 360: | Loss: 5.04402 \n",
      "Epoch 365: | Loss: 3.70355 \n",
      "Epoch 370: | Loss: 6.57598 \n",
      "Epoch 375: | Loss: 4.57202 \n",
      "Epoch 380: | Loss: 4.71748 \n",
      "Epoch 385: | Loss: 5.00673 \n",
      "Epoch 390: | Loss: 4.48818 \n",
      "Epoch 395: | Loss: 3.62797 \n",
      "Epoch 400: | Loss: 4.13169 \n",
      "Epoch 405: | Loss: 3.22675 \n",
      "Epoch 410: | Loss: 4.20147 \n",
      "Epoch 415: | Loss: 2.96895 \n",
      "Epoch 420: | Loss: 3.39944 \n",
      "Epoch 425: | Loss: 5.16138 \n",
      "Epoch 430: | Loss: 3.84714 \n",
      "Epoch 435: | Loss: 5.60618 \n",
      "Epoch 440: | Loss: 3.14556 \n",
      "Epoch 445: | Loss: 4.54967 \n",
      "Epoch 450: | Loss: 6.47527 \n",
      "Epoch 455: | Loss: 6.55994 \n",
      "Epoch 460: | Loss: 5.95404 \n",
      "Epoch 465: | Loss: 2.68922 \n",
      "Epoch 470: | Loss: 3.33409 \n",
      "Epoch 475: | Loss: 3.80568 \n",
      "Epoch 480: | Loss: 3.49337 \n",
      "Epoch 485: | Loss: 4.95890 \n",
      "Epoch 490: | Loss: 4.98014 \n",
      "Epoch 495: | Loss: 4.31182 \n"
     ]
    }
   ],
   "source": [
    "losses=[]\n",
    "acc_list=[]\n",
    "for epoch in range(num_epochs):\n",
    "    for batch_idx, (data, targets) in enumerate(train_loader):\n",
    "        data = data.permute(0,1,2)\n",
    "        #print(data.shape)\n",
    "        data = data.to(device=device)\n",
    "        targets = targets.to(device=device)\n",
    "        targets = torch.squeeze(targets, 1)\n",
    "        #print(targets)\n",
    "        \n",
    "        # forward\n",
    "        scores = model(data)\n",
    "        #print(scores.shape)\n",
    "        loss = criterion(scores, targets)\n",
    "        l2_lambda = l2_lamb\n",
    "        l2_norm = sum(p.pow(2.0).sum()\n",
    "                  for p in model.parameters())\n",
    " \n",
    "        loss = loss + l2_lambda * l2_norm\n",
    "    \n",
    "        # backward\n",
    "        optimizer.zero_grad()\n",
    "        loss.backward()\n",
    "        \n",
    "        # gradient descent or adam step\n",
    "        optimizer.step()\n",
    "        \n",
    "    if epoch%5 == 0:\n",
    "        losses.append(loss.detach().numpy() )\n",
    "        print(f'Epoch {epoch:03}: | Loss: {loss:.5f} ')\n",
    "        "
   ]
  },
  {
   "cell_type": "markdown",
   "id": "06bcbff7",
   "metadata": {
    "ExecuteTime": {
     "end_time": "2022-10-28T17:23:14.669685Z",
     "start_time": "2022-10-28T17:23:14.663564Z"
    }
   },
   "source": [
    "# Model RMSE"
   ]
  },
  {
   "cell_type": "code",
   "execution_count": 58,
   "id": "48a94a4e",
   "metadata": {
    "ExecuteTime": {
     "end_time": "2022-11-28T03:20:54.639736Z",
     "start_time": "2022-11-28T03:20:54.624855Z"
    }
   },
   "outputs": [],
   "source": [
    "def rmse(predictions, targets):\n",
    "    return np.sqrt(((predictions - targets) ** 2).mean())\n",
    "\n",
    "def check_rmse(loader, model):\n",
    "\n",
    "    # Set model to eval\n",
    "    model.eval()\n",
    "\n",
    "    with torch.no_grad():\n",
    "        for x, y in loader:\n",
    "            x = x.to(device=device).permute(0,2,1)\n",
    "            print(x.shape)\n",
    "            y = torch.squeeze(y.to(device=device), 1)\n",
    "\n",
    "            scores = model(x)\n",
    "            res = rmse(scores,targets)\n",
    "            print(res)\n",
    "            \n",
    "    # Toggle model back to train\n",
    "    model.train()\n",
    "    \n",
    "    "
   ]
  },
  {
   "cell_type": "code",
   "execution_count": 59,
   "id": "7194f3f0",
   "metadata": {
    "ExecuteTime": {
     "end_time": "2022-11-28T03:20:54.672902Z",
     "start_time": "2022-11-28T03:20:54.648345Z"
    }
   },
   "outputs": [
    {
     "ename": "NameError",
     "evalue": "name 'X_valid' is not defined",
     "output_type": "error",
     "traceback": [
      "\u001b[0;31m---------------------------------------------------------------------------\u001b[0m",
      "\u001b[0;31mNameError\u001b[0m                                 Traceback (most recent call last)",
      "\u001b[0;32m/tmp/ipykernel_13125/2691318401.py\u001b[0m in \u001b[0;36m<module>\u001b[0;34m\u001b[0m\n\u001b[0;32m----> 1\u001b[0;31m \u001b[0mX2\u001b[0m \u001b[0;34m=\u001b[0m \u001b[0mX_shape\u001b[0m\u001b[0;34m(\u001b[0m\u001b[0mX_valid\u001b[0m\u001b[0;34m)\u001b[0m\u001b[0;34m\u001b[0m\u001b[0;34m\u001b[0m\u001b[0m\n\u001b[0m\u001b[1;32m      2\u001b[0m \u001b[0my2\u001b[0m \u001b[0;34m=\u001b[0m \u001b[0my_tensor\u001b[0m\u001b[0;34m(\u001b[0m\u001b[0my_valid_t1\u001b[0m\u001b[0;34m.\u001b[0m\u001b[0miloc\u001b[0m\u001b[0;34m[\u001b[0m\u001b[0;34m:\u001b[0m\u001b[0;34m,\u001b[0m\u001b[0;34m-\u001b[0m\u001b[0;36m1\u001b[0m\u001b[0;34m]\u001b[0m\u001b[0;34m)\u001b[0m\u001b[0;34m\u001b[0m\u001b[0;34m\u001b[0m\u001b[0m\n\u001b[1;32m      3\u001b[0m \u001b[0;34m\u001b[0m\u001b[0m\n\u001b[1;32m      4\u001b[0m \u001b[0mValid_datasets\u001b[0m \u001b[0;34m=\u001b[0m \u001b[0mCusDatasetLoader\u001b[0m\u001b[0;34m(\u001b[0m\u001b[0mX2\u001b[0m\u001b[0;34m,\u001b[0m \u001b[0my2\u001b[0m\u001b[0;34m)\u001b[0m\u001b[0;34m\u001b[0m\u001b[0;34m\u001b[0m\u001b[0m\n\u001b[1;32m      5\u001b[0m \u001b[0mValid_loader\u001b[0m \u001b[0;34m=\u001b[0m \u001b[0mDataLoader\u001b[0m\u001b[0;34m(\u001b[0m\u001b[0mdataset\u001b[0m\u001b[0;34m=\u001b[0m\u001b[0mtrain_datasets\u001b[0m\u001b[0;34m,\u001b[0m \u001b[0mbatch_size\u001b[0m\u001b[0;34m=\u001b[0m\u001b[0mbatch_size\u001b[0m\u001b[0;34m,\u001b[0m \u001b[0mshuffle\u001b[0m\u001b[0;34m=\u001b[0m\u001b[0;32mTrue\u001b[0m\u001b[0;34m)\u001b[0m\u001b[0;34m\u001b[0m\u001b[0;34m\u001b[0m\u001b[0m\n",
      "\u001b[0;31mNameError\u001b[0m: name 'X_valid' is not defined"
     ]
    }
   ],
   "source": [
    "X2 = X_shape(X_valid)\n",
    "y2 = y_tensor(y_valid_t1.iloc[:,-1])\n",
    "\n",
    "Valid_datasets = CusDatasetLoader(X2, y2)\n",
    "Valid_loader = DataLoader(dataset=train_datasets, batch_size=batch_size, shuffle=True)\n",
    "print(f\"RMSE on test set: {check_rmse(Valid_loader, model)*100:.2f} %\")"
   ]
  },
  {
   "cell_type": "markdown",
   "id": "b16acbcd",
   "metadata": {},
   "source": [
    "# Test"
   ]
  },
  {
   "cell_type": "code",
   "execution_count": null,
   "id": "0fc30b2a",
   "metadata": {
    "ExecuteTime": {
     "end_time": "2022-11-28T03:20:54.675953Z",
     "start_time": "2022-11-28T03:20:54.675930Z"
    }
   },
   "outputs": [],
   "source": [
    "def test(loader, model):\n",
    "    # Set model to eval\n",
    "    model.eval()\n",
    "    res = torch.tensor([], dtype=torch.int64)\n",
    "    with torch.no_grad():\n",
    "        for x, y in loader:\n",
    "            x = x.to(device=device).permute(0,2,1)\n",
    "            print(x.shape)\n",
    "            y = torch.squeeze(y.to(device=device), 1)\n",
    "            print(y.shape)\n",
    "\n",
    "            scores = model(x)\n",
    "            _, predictions = scores.max(1)\n",
    "            res =  torch.cat((predictions, res), 0)  \n",
    "    model.train()\n",
    "   \n",
    "    return res"
   ]
  },
  {
   "cell_type": "code",
   "execution_count": null,
   "id": "767ccbaa",
   "metadata": {
    "ExecuteTime": {
     "end_time": "2022-11-28T03:20:54.679783Z",
     "start_time": "2022-11-28T03:20:54.679728Z"
    }
   },
   "outputs": [],
   "source": [
    "X_test"
   ]
  },
  {
   "cell_type": "code",
   "execution_count": null,
   "id": "66e51253",
   "metadata": {
    "ExecuteTime": {
     "end_time": "2022-11-28T03:20:54.682294Z",
     "start_time": "2022-11-28T03:20:54.682263Z"
    }
   },
   "outputs": [],
   "source": [
    "X_test_final = X_shape(X_test)\n",
    "y_final = torch.zeros([4790,1])\n",
    "\n",
    "test_datasets = CusDatasetLoader(X_test_final, y_final)\n",
    "test_loader = DataLoader(dataset=test_datasets, batch_size=batch_size, shuffle=True)\n",
    "\n",
    "result = test(test_loader, model)\n",
    "result"
   ]
  },
  {
   "cell_type": "code",
   "execution_count": null,
   "id": "8747d5c8",
   "metadata": {
    "ExecuteTime": {
     "end_time": "2022-11-28T03:20:54.685017Z",
     "start_time": "2022-11-28T03:20:54.684978Z"
    },
    "scrolled": true
   },
   "outputs": [],
   "source": [
    "\n",
    "#df.index = ['Row_1', 'Row_2', 'Row_3', 'Row_4']\n",
    "res1 = pd.DataFrame(result, columns=[\"Predicted\"])\n",
    "res1.index = X_test.index\n",
    "res1.index.name = 'Id'\n",
    "pd.DataFrame(res1).to_csv('out.csv')\n"
   ]
  },
  {
   "cell_type": "markdown",
   "id": "27ca623b",
   "metadata": {},
   "source": [
    "#"
   ]
  },
  {
   "cell_type": "markdown",
   "id": "afa29a40",
   "metadata": {},
   "source": [
    "#"
   ]
  },
  {
   "cell_type": "markdown",
   "id": "b8d38018",
   "metadata": {},
   "source": [
    "#"
   ]
  }
 ],
 "metadata": {
  "kernelspec": {
   "display_name": "comp3340",
   "language": "python",
   "name": "comp3340"
  },
  "language_info": {
   "codemirror_mode": {
    "name": "ipython",
    "version": 3
   },
   "file_extension": ".py",
   "mimetype": "text/x-python",
   "name": "python",
   "nbconvert_exporter": "python",
   "pygments_lexer": "ipython3",
   "version": "3.7.7"
  },
  "toc": {
   "base_numbering": 1,
   "nav_menu": {},
   "number_sections": true,
   "sideBar": true,
   "skip_h1_title": false,
   "title_cell": "Table of Contents",
   "title_sidebar": "Contents",
   "toc_cell": false,
   "toc_position": {},
   "toc_section_display": true,
   "toc_window_display": false
  }
 },
 "nbformat": 4,
 "nbformat_minor": 5
}
