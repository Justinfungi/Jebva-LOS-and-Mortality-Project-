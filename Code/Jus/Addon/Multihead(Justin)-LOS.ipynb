{
 "cells": [
  {
   "cell_type": "markdown",
   "id": "970d9aef",
   "metadata": {
    "heading_collapsed": true
   },
   "source": [
    "# Libraries"
   ]
  },
  {
   "cell_type": "code",
   "execution_count": 57,
   "id": "71cace5d",
   "metadata": {
    "ExecuteTime": {
     "end_time": "2022-12-02T09:01:25.002266Z",
     "start_time": "2022-12-02T09:01:24.995706Z"
    },
    "hidden": true
   },
   "outputs": [],
   "source": [
    "import torch\n",
    "import torchvision\n",
    "import torch.nn as nn\n",
    "import torch.optim as optim\n",
    "import torch.nn.functional as F\n",
    "from torch.utils.data import Dataset, DataLoader\n",
    "import torchvision.transforms as transforms"
   ]
  },
  {
   "cell_type": "code",
   "execution_count": 58,
   "id": "8735b622",
   "metadata": {
    "ExecuteTime": {
     "end_time": "2022-12-02T09:01:25.014668Z",
     "start_time": "2022-12-02T09:01:25.005491Z"
    },
    "hidden": true
   },
   "outputs": [],
   "source": [
    "device = torch.device(\"cuda\" if torch.cuda.is_available() else \"cpu\")"
   ]
  },
  {
   "cell_type": "markdown",
   "id": "e5e3db1d",
   "metadata": {
    "ExecuteTime": {
     "end_time": "2022-10-27T03:47:12.458066Z",
     "start_time": "2022-10-27T03:47:12.452095Z"
    },
    "heading_collapsed": true
   },
   "source": [
    "# Import data"
   ]
  },
  {
   "cell_type": "code",
   "execution_count": 59,
   "id": "c7c7a26f",
   "metadata": {
    "ExecuteTime": {
     "end_time": "2022-12-02T09:01:25.382845Z",
     "start_time": "2022-12-02T09:01:25.016439Z"
    },
    "hidden": true
   },
   "outputs": [
    {
     "name": "stdout",
     "output_type": "stream",
     "text": [
      "************************************************************\n",
      "There are 6 set of X\n",
      "X_train_selected_t1, X_train_selected_t2, X_valid_selected_t1,X_valid_selected_t2,X_test_selected_t1,X_test_selected_t2\n",
      "------------------------------------------------------------\n",
      "Normalized version\n",
      "X_train_selected_t1_norm, X_train_selected_t2_norm, X_valid_selected_t1_norm,X_valid_selected_t2_norm,X_test_selected_t1_norm,X_test_selected_t2_norm\n",
      "------------------------------------------------------------\n",
      "There are 4 set of Y\n",
      "y_train_t1, y_train_t2, y_valid_t1, y_valid_t2\n",
      "when training, please use: 'y_train_t1_value,y_train_t2_value,y_valid_t1_value,y_valid_t2_value'\n",
      "************************************************************\n"
     ]
    }
   ],
   "source": [
    "%run Data_preprocessing_v1.ipynb"
   ]
  },
  {
   "cell_type": "code",
   "execution_count": 60,
   "id": "4aa393c8",
   "metadata": {
    "ExecuteTime": {
     "end_time": "2022-12-02T09:01:25.389022Z",
     "start_time": "2022-12-02T09:01:25.385942Z"
    },
    "hidden": true
   },
   "outputs": [
    {
     "name": "stdout",
     "output_type": "stream",
     "text": [
      "(16760, 54)\n",
      "(2394, 54)\n",
      "(4790, 54)\n"
     ]
    }
   ],
   "source": [
    "print(X_train_selected_t2_norm.shape)\n",
    "print(X_valid_selected_t2_norm.shape)\n",
    "print(X_test_selected_t2_norm.shape)"
   ]
  },
  {
   "cell_type": "markdown",
   "id": "560831ad",
   "metadata": {
    "heading_collapsed": true
   },
   "source": [
    "# Hyperparameters"
   ]
  },
  {
   "cell_type": "code",
   "execution_count": 61,
   "id": "6fb9fe03",
   "metadata": {
    "ExecuteTime": {
     "end_time": "2022-12-02T09:01:25.400806Z",
     "start_time": "2022-12-02T09:01:25.390961Z"
    },
    "hidden": true
   },
   "outputs": [],
   "source": [
    "input_size = 54\n",
    "sequence_length = 1\n",
    "output_size = 1 # live or dead\n",
    "num_layers = 3\n",
    "hidden_size=30\n",
    "learning_rate = 0.001\n",
    "batch_size = 64\n",
    "num_epochs = 500\n",
    "l2_lamb = 0.0005"
   ]
  },
  {
   "cell_type": "markdown",
   "id": "9b7e4676",
   "metadata": {
    "heading_collapsed": true
   },
   "source": [
    "# Create JusNN"
   ]
  },
  {
   "cell_type": "code",
   "execution_count": 62,
   "id": "b8810614",
   "metadata": {
    "ExecuteTime": {
     "end_time": "2022-12-02T09:01:25.407824Z",
     "start_time": "2022-12-02T09:01:25.402147Z"
    },
    "hidden": true
   },
   "outputs": [],
   "source": [
    "class JusNN(nn.Module):\n",
    "    def __init__(self, input_size, hidden_size, num_layers, output_size):\n",
    "        super(JusNN, self).__init__()\n",
    "        \n",
    "        self.convlayer = nn.Sequential(\n",
    "            nn.Conv1d(in_channels=1, out_channels=6, kernel_size=2, stride=1, padding=0),\n",
    "            nn.AvgPool1d(kernel_size=4,stride=2),\n",
    "            nn.Conv1d(in_channels=6, out_channels=1, kernel_size=2, stride=1, padding=0),\n",
    "            nn.ReLU(),\n",
    "        )\n",
    "        \n",
    "        self.fclayers = nn.Sequential(\n",
    "            nn.Linear(input_size, 50),\n",
    "            nn.ReLU(),\n",
    "            nn.Linear(50, 24),\n",
    "        )\n",
    "        \n",
    "        self.batchnorm1 = nn.BatchNorm1d(59)\n",
    "        #self.batchnorm2 = nn.BatchNorm1d(30)\n",
    "        #self.dropout = nn.Dropout(p=0.5)\n",
    "        \n",
    "        self.fc1 = nn.Linear(24, 1)\n",
    "        \n",
    "    def forward(self, x):\n",
    "         x1 = F.leaky_relu(self.fclayers(x))\n",
    "         #print(x1.shape)\n",
    "         x2 = self.convlayer(x)\n",
    "         #print(x2.shape)\n",
    "            \n",
    "         x3 = x1+x2\n",
    "         x3 = self.fc1(x3)\n",
    "         return x3"
   ]
  },
  {
   "cell_type": "markdown",
   "id": "076d6376",
   "metadata": {
    "heading_collapsed": true
   },
   "source": [
    "# Data transform"
   ]
  },
  {
   "cell_type": "code",
   "execution_count": 63,
   "id": "d7e4872c",
   "metadata": {
    "ExecuteTime": {
     "end_time": "2022-12-02T09:01:25.415338Z",
     "start_time": "2022-12-02T09:01:25.409735Z"
    },
    "hidden": true
   },
   "outputs": [],
   "source": [
    "class CusDatasetLoader(Dataset):\n",
    "    def __init__(self,x,y):\n",
    "        self.len = y.shape[0]\n",
    "        self.x_data = x\n",
    "        self.y_data = y\n",
    "  \n",
    "    def __len__(self):\n",
    "        return self.len\n",
    "\n",
    "    def __getitem__(self, index):\n",
    "        #return self.dataframe.iloc[index]\n",
    "        return self.x_data[index], self.y_data[index]"
   ]
  },
  {
   "cell_type": "code",
   "execution_count": 64,
   "id": "456be776",
   "metadata": {
    "ExecuteTime": {
     "end_time": "2022-12-02T09:01:25.420966Z",
     "start_time": "2022-12-02T09:01:25.416586Z"
    },
    "hidden": true
   },
   "outputs": [],
   "source": [
    "# X_shape(X) : used for split the data into a right tensor size\n",
    "#input: X in shape of 16760 rows × 7488 columns (df)\n",
    "#output: X in shape of torch.Size([16760, 312, 24]) (tensor)\n",
    "def X_shape(X):\n",
    "    X_tensor = torch.from_numpy(np.array(X)).to(torch.float32)\n",
    "    X_tensor = torch.split(X_tensor,1)\n",
    "    X_tensor = torch.stack(X_tensor)\n",
    "    print(\"X now in shape of\",X_tensor.shape)\n",
    "    return X_tensor\n",
    "\n",
    "# y_tensor(y) : used for split the data into a right tensor size\n",
    "#input: X in shape of 16760 rows × 7488 columns (df)\n",
    "#output: X in shape of torch.Size([16760, 312, 24]) (tensor)\n",
    "def y_tensor(y):\n",
    "    y= torch.from_numpy(np.array(y)).to(torch.float32).reshape(len(y),1)\n",
    "    print(\"y now in shape of\",y.shape)\n",
    "    return y"
   ]
  },
  {
   "cell_type": "code",
   "execution_count": 65,
   "id": "006849f5",
   "metadata": {
    "ExecuteTime": {
     "end_time": "2022-12-02T09:01:25.560253Z",
     "start_time": "2022-12-02T09:01:25.422453Z"
    },
    "hidden": true
   },
   "outputs": [
    {
     "name": "stdout",
     "output_type": "stream",
     "text": [
      "X now in shape of torch.Size([16760, 1, 54])\n",
      "y now in shape of torch.Size([16760, 1])\n",
      "torch.Size([1, 54])\n",
      "torch.Size([1])\n"
     ]
    }
   ],
   "source": [
    "# X should be in smaples, 1, squence, rows\n",
    "X1 = X_shape(X_train_selected_t2_norm)\n",
    "y1 = y_tensor(y_train_t2.iloc[:,-1])\n",
    "\n",
    "train_datasets = CusDatasetLoader(X1, y1)\n",
    "train_loader = DataLoader(dataset=train_datasets, batch_size=batch_size, shuffle=True)\n",
    "\n",
    "x,y = train_datasets[0]\n",
    "print(x.shape)\n",
    "print(y.shape)"
   ]
  },
  {
   "cell_type": "markdown",
   "id": "e366eb01",
   "metadata": {
    "heading_collapsed": true
   },
   "source": [
    "# Model train"
   ]
  },
  {
   "cell_type": "code",
   "execution_count": 66,
   "id": "6443333a",
   "metadata": {
    "ExecuteTime": {
     "end_time": "2022-12-02T09:01:25.568769Z",
     "start_time": "2022-12-02T09:01:25.564289Z"
    },
    "hidden": true
   },
   "outputs": [],
   "source": [
    "model = JusNN(input_size, hidden_size, num_layers, output_size).to(device)"
   ]
  },
  {
   "cell_type": "code",
   "execution_count": 67,
   "id": "afa986f2",
   "metadata": {
    "ExecuteTime": {
     "end_time": "2022-12-02T09:01:25.579912Z",
     "start_time": "2022-12-02T09:01:25.570378Z"
    },
    "hidden": true
   },
   "outputs": [],
   "source": [
    "criterion = nn.MSELoss()\n",
    "optimizer = optim.Adadelta(model.parameters(), lr = learning_rate)"
   ]
  },
  {
   "cell_type": "code",
   "execution_count": 68,
   "id": "680547a7",
   "metadata": {
    "ExecuteTime": {
     "end_time": "2022-12-02T09:09:56.989369Z",
     "start_time": "2022-12-02T09:01:25.581428Z"
    },
    "hidden": true,
    "scrolled": true
   },
   "outputs": [
    {
     "name": "stdout",
     "output_type": "stream",
     "text": [
      "Epoch 000: | Loss: 16.02535 \n",
      "Epoch 005: | Loss: 14.75311 \n",
      "Epoch 010: | Loss: 14.91039 \n",
      "Epoch 015: | Loss: 9.71114 \n",
      "Epoch 020: | Loss: 8.00420 \n",
      "Epoch 025: | Loss: 5.72879 \n",
      "Epoch 030: | Loss: 4.38315 \n",
      "Epoch 035: | Loss: 4.31457 \n",
      "Epoch 040: | Loss: 6.67893 \n",
      "Epoch 045: | Loss: 2.59293 \n",
      "Epoch 050: | Loss: 6.78536 \n",
      "Epoch 055: | Loss: 3.48445 \n",
      "Epoch 060: | Loss: 4.61111 \n",
      "Epoch 065: | Loss: 5.79332 \n",
      "Epoch 070: | Loss: 3.96021 \n",
      "Epoch 075: | Loss: 2.66718 \n",
      "Epoch 080: | Loss: 5.07338 \n",
      "Epoch 085: | Loss: 3.47440 \n",
      "Epoch 090: | Loss: 3.99813 \n",
      "Epoch 095: | Loss: 5.37459 \n",
      "Epoch 100: | Loss: 4.45372 \n",
      "Epoch 105: | Loss: 6.02709 \n",
      "Epoch 110: | Loss: 3.82781 \n",
      "Epoch 115: | Loss: 5.72869 \n",
      "Epoch 120: | Loss: 11.19768 \n",
      "Epoch 125: | Loss: 4.69570 \n",
      "Epoch 130: | Loss: 5.38069 \n",
      "Epoch 135: | Loss: 5.44462 \n",
      "Epoch 140: | Loss: 4.32249 \n",
      "Epoch 145: | Loss: 5.08893 \n",
      "Epoch 150: | Loss: 3.73787 \n",
      "Epoch 155: | Loss: 5.62320 \n",
      "Epoch 160: | Loss: 11.95387 \n",
      "Epoch 165: | Loss: 4.74573 \n",
      "Epoch 170: | Loss: 4.16571 \n",
      "Epoch 175: | Loss: 4.08338 \n",
      "Epoch 180: | Loss: 4.46787 \n",
      "Epoch 185: | Loss: 3.62463 \n",
      "Epoch 190: | Loss: 2.48012 \n",
      "Epoch 195: | Loss: 3.92861 \n",
      "Epoch 200: | Loss: 5.93968 \n",
      "Epoch 205: | Loss: 3.56648 \n",
      "Epoch 210: | Loss: 4.95758 \n",
      "Epoch 215: | Loss: 5.29673 \n",
      "Epoch 220: | Loss: 2.94217 \n",
      "Epoch 225: | Loss: 4.62762 \n",
      "Epoch 230: | Loss: 4.14773 \n",
      "Epoch 235: | Loss: 2.38148 \n",
      "Epoch 240: | Loss: 3.39462 \n",
      "Epoch 245: | Loss: 4.02969 \n",
      "Epoch 250: | Loss: 2.80663 \n",
      "Epoch 255: | Loss: 6.72375 \n",
      "Epoch 260: | Loss: 4.96362 \n",
      "Epoch 265: | Loss: 4.19839 \n",
      "Epoch 270: | Loss: 3.20761 \n",
      "Epoch 275: | Loss: 3.50730 \n",
      "Epoch 280: | Loss: 3.20163 \n",
      "Epoch 285: | Loss: 5.11739 \n",
      "Epoch 290: | Loss: 3.81524 \n",
      "Epoch 295: | Loss: 4.82413 \n",
      "Epoch 300: | Loss: 2.63663 \n",
      "Epoch 305: | Loss: 4.67596 \n",
      "Epoch 310: | Loss: 3.26535 \n",
      "Epoch 315: | Loss: 3.85674 \n",
      "Epoch 320: | Loss: 4.73228 \n",
      "Epoch 325: | Loss: 4.12477 \n",
      "Epoch 330: | Loss: 7.09743 \n",
      "Epoch 335: | Loss: 3.12901 \n",
      "Epoch 340: | Loss: 3.85328 \n",
      "Epoch 345: | Loss: 3.97550 \n",
      "Epoch 350: | Loss: 3.39135 \n",
      "Epoch 355: | Loss: 3.57129 \n",
      "Epoch 360: | Loss: 4.55465 \n",
      "Epoch 365: | Loss: 4.86573 \n",
      "Epoch 370: | Loss: 5.14756 \n",
      "Epoch 375: | Loss: 3.75539 \n",
      "Epoch 380: | Loss: 4.23618 \n",
      "Epoch 385: | Loss: 3.32624 \n",
      "Epoch 390: | Loss: 4.48601 \n",
      "Epoch 395: | Loss: 4.81471 \n",
      "Epoch 400: | Loss: 3.64088 \n",
      "Epoch 405: | Loss: 2.73817 \n",
      "Epoch 410: | Loss: 4.80240 \n",
      "Epoch 415: | Loss: 3.50940 \n",
      "Epoch 420: | Loss: 3.08156 \n",
      "Epoch 425: | Loss: 4.18757 \n",
      "Epoch 430: | Loss: 5.15567 \n",
      "Epoch 435: | Loss: 6.82350 \n",
      "Epoch 440: | Loss: 4.33988 \n",
      "Epoch 445: | Loss: 5.37257 \n",
      "Epoch 450: | Loss: 3.58294 \n",
      "Epoch 455: | Loss: 4.16680 \n",
      "Epoch 460: | Loss: 6.06810 \n",
      "Epoch 465: | Loss: 3.05422 \n",
      "Epoch 470: | Loss: 4.24362 \n",
      "Epoch 475: | Loss: 3.05405 \n",
      "Epoch 480: | Loss: 5.03107 \n",
      "Epoch 485: | Loss: 5.07810 \n",
      "Epoch 490: | Loss: 3.77813 \n",
      "Epoch 495: | Loss: 4.61728 \n"
     ]
    }
   ],
   "source": [
    "losses=[]\n",
    "acc_list=[]\n",
    "for epoch in range(num_epochs):\n",
    "    for batch_idx, (data, targets) in enumerate(train_loader):\n",
    "        data = data.permute(0,1,2)\n",
    "        #print(data.shape)\n",
    "        data = data.to(device=device)\n",
    "        targets = targets.to(device=device)\n",
    "        targets = torch.squeeze(targets, 1)\n",
    "        #print(targets)\n",
    "        \n",
    "        # forward\n",
    "        scores = model(data)\n",
    "        #print(scores.shape)\n",
    "        loss = criterion(scores, targets)\n",
    "        l2_lambda = l2_lamb\n",
    "        l2_norm = sum(p.pow(2.0).sum()\n",
    "                  for p in model.parameters())\n",
    " \n",
    "        loss = loss + l2_lambda * l2_norm\n",
    "    \n",
    "        # backward\n",
    "        optimizer.zero_grad()\n",
    "        loss.backward()\n",
    "        \n",
    "        # gradient descent or adam step\n",
    "        optimizer.step()\n",
    "        \n",
    "    if epoch%5 == 0:\n",
    "        losses.append(loss.detach().numpy() )\n",
    "        print(f'Epoch {epoch:03}: | Loss: {loss:.5f} ')\n",
    "        "
   ]
  },
  {
   "cell_type": "markdown",
   "id": "06bcbff7",
   "metadata": {
    "ExecuteTime": {
     "end_time": "2022-10-28T17:23:14.669685Z",
     "start_time": "2022-10-28T17:23:14.663564Z"
    },
    "heading_collapsed": true
   },
   "source": [
    "# Model RMSE"
   ]
  },
  {
   "cell_type": "code",
   "execution_count": 73,
   "id": "48a94a4e",
   "metadata": {
    "ExecuteTime": {
     "end_time": "2022-12-02T09:17:37.306887Z",
     "start_time": "2022-12-02T09:17:37.299214Z"
    },
    "hidden": true
   },
   "outputs": [],
   "source": [
    "def rmse(predictions, targets):\n",
    "    return np.sqrt(((predictions - targets) ** 2).mean())\n",
    "\n",
    "def check_rmse(loader, model):\n",
    "\n",
    "    # Set model to eval\n",
    "    model.eval()\n",
    "\n",
    "    with torch.no_grad():\n",
    "        for data, targets in loader:\n",
    "            data = data.permute(0,1,2)\n",
    "            #print(data.shape)\n",
    "            data = data.to(device=device)\n",
    "            targets = targets.to(device=device)\n",
    "            targets = torch.squeeze(targets, 1)\n",
    "\n",
    "            scores = model(data)\n",
    "            res = rmse(scores,targets)\n",
    "            print(res)\n",
    "            \n",
    "    # Toggle model back to train\n",
    "    model.train()\n",
    "    \n",
    "    "
   ]
  },
  {
   "cell_type": "code",
   "execution_count": 74,
   "id": "7194f3f0",
   "metadata": {
    "ExecuteTime": {
     "end_time": "2022-12-02T09:17:40.179660Z",
     "start_time": "2022-12-02T09:17:39.858358Z"
    },
    "hidden": true
   },
   "outputs": [
    {
     "name": "stdout",
     "output_type": "stream",
     "text": [
      "X now in shape of torch.Size([2394, 1, 54])\n",
      "y now in shape of torch.Size([2394, 1])\n",
      "tensor(2.6790)\n",
      "tensor(1.9424)\n",
      "tensor(1.9985)\n",
      "tensor(1.5515)\n",
      "tensor(1.5406)\n",
      "tensor(2.2862)\n",
      "tensor(1.8800)\n",
      "tensor(2.0082)\n",
      "tensor(2.2136)\n",
      "tensor(2.0294)\n",
      "tensor(2.1773)\n",
      "tensor(2.1629)\n",
      "tensor(2.1617)\n",
      "tensor(2.2278)\n",
      "tensor(2.1295)\n",
      "tensor(1.8482)\n",
      "tensor(1.9325)\n",
      "tensor(1.5646)\n",
      "tensor(1.9344)\n",
      "tensor(1.7955)\n",
      "tensor(2.1730)\n",
      "tensor(2.1426)\n",
      "tensor(1.8682)\n",
      "tensor(1.8532)\n",
      "tensor(1.8276)\n",
      "tensor(2.0679)\n",
      "tensor(1.8687)\n",
      "tensor(2.0467)\n",
      "tensor(2.3827)\n",
      "tensor(2.0190)\n",
      "tensor(1.9705)\n",
      "tensor(1.9690)\n",
      "tensor(1.7118)\n",
      "tensor(2.1212)\n",
      "tensor(2.2777)\n",
      "tensor(1.6681)\n",
      "tensor(1.9309)\n",
      "tensor(2.6509)\n",
      "tensor(2.1872)\n",
      "tensor(2.0891)\n",
      "tensor(2.0952)\n",
      "tensor(2.1847)\n",
      "tensor(2.0904)\n",
      "tensor(1.9486)\n",
      "tensor(1.5859)\n",
      "tensor(2.4112)\n",
      "tensor(1.9723)\n",
      "tensor(2.3834)\n",
      "tensor(1.6345)\n",
      "tensor(1.8415)\n",
      "tensor(1.7791)\n",
      "tensor(1.7980)\n",
      "tensor(1.9163)\n",
      "tensor(2.0734)\n",
      "tensor(1.6948)\n",
      "tensor(2.0367)\n",
      "tensor(1.6204)\n",
      "tensor(2.3004)\n",
      "tensor(1.8649)\n",
      "tensor(2.0392)\n",
      "tensor(2.1070)\n",
      "tensor(2.0087)\n",
      "tensor(2.1116)\n",
      "tensor(1.9963)\n",
      "tensor(2.0899)\n",
      "tensor(1.9293)\n",
      "tensor(1.9819)\n",
      "tensor(1.7382)\n",
      "tensor(2.2861)\n",
      "tensor(2.0128)\n",
      "tensor(1.8769)\n",
      "tensor(1.9878)\n",
      "tensor(1.8692)\n",
      "tensor(1.9571)\n",
      "tensor(2.0144)\n",
      "tensor(2.0270)\n",
      "tensor(2.1843)\n",
      "tensor(1.6999)\n",
      "tensor(1.8863)\n",
      "tensor(1.7363)\n",
      "tensor(1.9262)\n",
      "tensor(1.9823)\n",
      "tensor(2.2543)\n",
      "tensor(2.5199)\n",
      "tensor(1.9783)\n",
      "tensor(2.2054)\n",
      "tensor(1.8491)\n",
      "tensor(2.2606)\n",
      "tensor(1.9134)\n",
      "tensor(1.7218)\n",
      "tensor(2.1275)\n",
      "tensor(2.0510)\n",
      "tensor(1.8673)\n",
      "tensor(1.6998)\n",
      "tensor(2.1225)\n",
      "tensor(2.0344)\n",
      "tensor(2.3144)\n",
      "tensor(2.2855)\n",
      "tensor(1.7266)\n",
      "tensor(2.0985)\n",
      "tensor(2.0184)\n",
      "tensor(1.9685)\n",
      "tensor(1.8689)\n",
      "tensor(2.3299)\n",
      "tensor(2.1304)\n",
      "tensor(2.0155)\n",
      "tensor(1.5860)\n",
      "tensor(1.8887)\n",
      "tensor(2.0270)\n",
      "tensor(2.5588)\n",
      "tensor(1.9107)\n",
      "tensor(1.9134)\n",
      "tensor(2.2700)\n",
      "tensor(1.5987)\n",
      "tensor(1.7022)\n",
      "tensor(1.9607)\n",
      "tensor(1.8600)\n",
      "tensor(1.9068)\n",
      "tensor(1.9308)\n",
      "tensor(1.7152)\n",
      "tensor(1.9985)\n",
      "tensor(1.9421)\n",
      "tensor(2.3816)\n",
      "tensor(1.7093)\n",
      "tensor(2.6428)\n",
      "tensor(1.6592)\n",
      "tensor(2.0398)\n",
      "tensor(2.1514)\n",
      "tensor(2.0357)\n",
      "tensor(1.8622)\n",
      "tensor(2.0523)\n",
      "tensor(2.3288)\n",
      "tensor(2.4379)\n",
      "tensor(1.8987)\n",
      "tensor(1.7519)\n",
      "tensor(1.5227)\n",
      "tensor(2.3547)\n",
      "tensor(1.8976)\n",
      "tensor(2.3422)\n",
      "tensor(1.4820)\n",
      "tensor(2.0198)\n",
      "tensor(2.1136)\n",
      "tensor(2.8668)\n",
      "tensor(2.3478)\n",
      "tensor(1.7499)\n",
      "tensor(1.8403)\n",
      "tensor(2.1710)\n",
      "tensor(1.9112)\n",
      "tensor(1.8434)\n",
      "tensor(2.0327)\n",
      "tensor(2.4713)\n",
      "tensor(2.2772)\n",
      "tensor(1.9184)\n",
      "tensor(2.0742)\n",
      "tensor(2.2459)\n",
      "tensor(1.7330)\n",
      "tensor(1.7720)\n",
      "tensor(2.0794)\n",
      "tensor(1.9519)\n",
      "tensor(2.0375)\n",
      "tensor(2.0064)\n",
      "tensor(2.1964)\n",
      "tensor(1.6466)\n",
      "tensor(1.8418)\n",
      "tensor(1.7827)\n",
      "tensor(1.9184)\n",
      "tensor(1.7446)\n",
      "tensor(1.7303)\n",
      "tensor(1.9852)\n",
      "tensor(1.7492)\n",
      "tensor(1.7947)\n",
      "tensor(1.9334)\n",
      "tensor(1.7465)\n",
      "tensor(2.1455)\n",
      "tensor(2.0621)\n",
      "tensor(2.1736)\n",
      "tensor(1.8661)\n",
      "tensor(1.7355)\n",
      "tensor(1.7660)\n",
      "tensor(2.3313)\n",
      "tensor(2.3586)\n",
      "tensor(2.3711)\n",
      "tensor(1.7320)\n",
      "tensor(2.0757)\n",
      "tensor(1.7566)\n",
      "tensor(2.1368)\n",
      "tensor(1.7122)\n",
      "tensor(1.6463)\n",
      "tensor(2.0520)\n",
      "tensor(1.5388)\n",
      "tensor(1.9944)\n",
      "tensor(2.0801)\n",
      "tensor(2.2964)\n",
      "tensor(2.2336)\n",
      "tensor(1.7508)\n",
      "tensor(1.9560)\n",
      "tensor(2.1774)\n",
      "tensor(1.9671)\n",
      "tensor(2.1291)\n",
      "tensor(1.9162)\n",
      "tensor(1.7793)\n",
      "tensor(2.3315)\n",
      "tensor(2.0779)\n",
      "tensor(1.9834)\n",
      "tensor(2.1756)\n",
      "tensor(1.9030)\n",
      "tensor(2.0591)\n",
      "tensor(2.3460)\n",
      "tensor(1.9828)\n",
      "tensor(1.9481)\n",
      "tensor(2.2541)\n",
      "tensor(1.9873)\n",
      "tensor(2.2006)\n",
      "tensor(1.8867)\n",
      "tensor(1.9822)\n",
      "tensor(1.8972)\n",
      "tensor(2.1695)\n",
      "tensor(1.9884)\n",
      "tensor(2.3129)\n",
      "tensor(1.8400)\n",
      "tensor(2.0819)\n",
      "tensor(2.2999)\n",
      "tensor(2.0049)\n",
      "tensor(1.8089)\n",
      "tensor(2.1858)\n",
      "tensor(1.8723)\n",
      "tensor(2.2668)\n",
      "tensor(1.9547)\n",
      "tensor(1.6893)\n",
      "tensor(1.6800)\n",
      "tensor(2.1027)\n",
      "tensor(2.0151)\n",
      "tensor(1.8442)\n",
      "tensor(1.8374)\n",
      "tensor(1.8208)\n",
      "tensor(2.0089)\n",
      "tensor(2.0329)\n",
      "tensor(2.0987)\n",
      "tensor(2.0981)\n",
      "tensor(2.0945)\n",
      "tensor(2.1297)\n",
      "tensor(2.4292)\n",
      "tensor(2.3115)\n",
      "tensor(2.0512)\n",
      "tensor(2.0680)\n",
      "tensor(2.0262)\n",
      "tensor(2.1278)\n",
      "tensor(2.0382)\n",
      "tensor(1.7955)\n",
      "tensor(2.6563)\n",
      "tensor(1.6449)\n",
      "tensor(1.7436)\n",
      "tensor(1.7333)\n",
      "tensor(1.6550)\n",
      "tensor(1.7313)\n",
      "tensor(1.8565)\n",
      "tensor(1.7781)\n",
      "tensor(2.4367)\n",
      "tensor(1.9213)\n",
      "tensor(1.7791)\n",
      "tensor(1.5702)\n",
      "tensor(2.6279)\n"
     ]
    },
    {
     "ename": "TypeError",
     "evalue": "unsupported operand type(s) for *: 'NoneType' and 'int'",
     "output_type": "error",
     "traceback": [
      "\u001b[0;31m---------------------------------------------------------------------------\u001b[0m",
      "\u001b[0;31mTypeError\u001b[0m                                 Traceback (most recent call last)",
      "\u001b[0;32m/tmp/ipykernel_5432/3269261274.py\u001b[0m in \u001b[0;36m<module>\u001b[0;34m\u001b[0m\n\u001b[1;32m      4\u001b[0m \u001b[0mValid_datasets\u001b[0m \u001b[0;34m=\u001b[0m \u001b[0mCusDatasetLoader\u001b[0m\u001b[0;34m(\u001b[0m\u001b[0mX2\u001b[0m\u001b[0;34m,\u001b[0m \u001b[0my2\u001b[0m\u001b[0;34m)\u001b[0m\u001b[0;34m\u001b[0m\u001b[0;34m\u001b[0m\u001b[0m\n\u001b[1;32m      5\u001b[0m \u001b[0mValid_loader\u001b[0m \u001b[0;34m=\u001b[0m \u001b[0mDataLoader\u001b[0m\u001b[0;34m(\u001b[0m\u001b[0mdataset\u001b[0m\u001b[0;34m=\u001b[0m\u001b[0mtrain_datasets\u001b[0m\u001b[0;34m,\u001b[0m \u001b[0mbatch_size\u001b[0m\u001b[0;34m=\u001b[0m\u001b[0mbatch_size\u001b[0m\u001b[0;34m,\u001b[0m \u001b[0mshuffle\u001b[0m\u001b[0;34m=\u001b[0m\u001b[0;32mTrue\u001b[0m\u001b[0;34m)\u001b[0m\u001b[0;34m\u001b[0m\u001b[0;34m\u001b[0m\u001b[0m\n\u001b[0;32m----> 6\u001b[0;31m \u001b[0mprint\u001b[0m\u001b[0;34m(\u001b[0m\u001b[0;34mf\"RMSE on test set: {check_rmse(Valid_loader, model)*100:.2f} %\"\u001b[0m\u001b[0;34m)\u001b[0m\u001b[0;34m\u001b[0m\u001b[0;34m\u001b[0m\u001b[0m\n\u001b[0m",
      "\u001b[0;31mTypeError\u001b[0m: unsupported operand type(s) for *: 'NoneType' and 'int'"
     ]
    }
   ],
   "source": [
    "X2 = X_shape(X_valid_selected_t2_norm)\n",
    "y2 = y_tensor(y_valid_t2.iloc[:,-1])\n",
    "\n",
    "Valid_datasets = CusDatasetLoader(X2, y2)\n",
    "Valid_loader = DataLoader(dataset=train_datasets, batch_size=batch_size, shuffle=True)\n",
    "print(f\"RMSE on test set: {check_rmse(Valid_loader, model)*100:.2f} %\")"
   ]
  },
  {
   "cell_type": "markdown",
   "id": "b16acbcd",
   "metadata": {
    "heading_collapsed": true
   },
   "source": [
    "# Test"
   ]
  },
  {
   "cell_type": "code",
   "execution_count": null,
   "id": "0fc30b2a",
   "metadata": {
    "ExecuteTime": {
     "end_time": "2022-12-02T09:09:57.022305Z",
     "start_time": "2022-12-02T09:09:57.022284Z"
    },
    "hidden": true
   },
   "outputs": [],
   "source": [
    "def test(loader, model):\n",
    "    # Set model to eval\n",
    "    model.eval()\n",
    "    res = torch.tensor([], dtype=torch.int64)\n",
    "    with torch.no_grad():\n",
    "        for x, y in loader:\n",
    "            x = x.to(device=device).permute(0,2,1)\n",
    "            print(x.shape)\n",
    "            y = torch.squeeze(y.to(device=device), 1)\n",
    "            print(y.shape)\n",
    "\n",
    "            scores = model(x)\n",
    "            _, predictions = scores.max(1)\n",
    "            res =  torch.cat((predictions, res), 0)  \n",
    "    model.train()\n",
    "   \n",
    "    return res"
   ]
  },
  {
   "cell_type": "code",
   "execution_count": null,
   "id": "767ccbaa",
   "metadata": {
    "ExecuteTime": {
     "end_time": "2022-12-02T09:09:57.024554Z",
     "start_time": "2022-12-02T09:09:57.024538Z"
    },
    "hidden": true
   },
   "outputs": [],
   "source": [
    "X_test"
   ]
  },
  {
   "cell_type": "code",
   "execution_count": null,
   "id": "66e51253",
   "metadata": {
    "ExecuteTime": {
     "end_time": "2022-12-02T09:09:57.025984Z",
     "start_time": "2022-12-02T09:09:57.025961Z"
    },
    "hidden": true
   },
   "outputs": [],
   "source": [
    "X_test_final = X_shape(X_test)\n",
    "y_final = torch.zeros([4790,1])\n",
    "\n",
    "test_datasets = CusDatasetLoader(X_test_final, y_final)\n",
    "test_loader = DataLoader(dataset=test_datasets, batch_size=batch_size, shuffle=True)\n",
    "\n",
    "result = test(test_loader, model)\n",
    "result"
   ]
  },
  {
   "cell_type": "code",
   "execution_count": null,
   "id": "8747d5c8",
   "metadata": {
    "ExecuteTime": {
     "end_time": "2022-12-02T09:09:57.028113Z",
     "start_time": "2022-12-02T09:09:57.028089Z"
    },
    "hidden": true,
    "scrolled": true
   },
   "outputs": [],
   "source": [
    "\n",
    "#df.index = ['Row_1', 'Row_2', 'Row_3', 'Row_4']\n",
    "res1 = pd.DataFrame(result, columns=[\"Predicted\"])\n",
    "res1.index = X_test.index\n",
    "res1.index.name = 'Id'\n",
    "pd.DataFrame(res1).to_csv('out.csv')\n"
   ]
  },
  {
   "cell_type": "markdown",
   "id": "27ca623b",
   "metadata": {},
   "source": [
    "#"
   ]
  },
  {
   "cell_type": "markdown",
   "id": "afa29a40",
   "metadata": {},
   "source": [
    "#"
   ]
  },
  {
   "cell_type": "markdown",
   "id": "b8d38018",
   "metadata": {},
   "source": [
    "#"
   ]
  }
 ],
 "metadata": {
  "kernelspec": {
   "display_name": "comp3340",
   "language": "python",
   "name": "comp3340"
  },
  "language_info": {
   "codemirror_mode": {
    "name": "ipython",
    "version": 3
   },
   "file_extension": ".py",
   "mimetype": "text/x-python",
   "name": "python",
   "nbconvert_exporter": "python",
   "pygments_lexer": "ipython3",
   "version": "3.7.7"
  },
  "toc": {
   "base_numbering": 1,
   "nav_menu": {},
   "number_sections": true,
   "sideBar": true,
   "skip_h1_title": false,
   "title_cell": "Table of Contents",
   "title_sidebar": "Contents",
   "toc_cell": false,
   "toc_position": {},
   "toc_section_display": true,
   "toc_window_display": true
  }
 },
 "nbformat": 4,
 "nbformat_minor": 5
}
