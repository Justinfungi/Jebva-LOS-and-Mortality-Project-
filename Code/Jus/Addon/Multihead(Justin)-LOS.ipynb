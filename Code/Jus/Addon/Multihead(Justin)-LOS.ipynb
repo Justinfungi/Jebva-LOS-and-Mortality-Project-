{
 "cells": [
  {
   "cell_type": "markdown",
   "id": "970d9aef",
   "metadata": {
    "heading_collapsed": true
   },
   "source": [
    "# Libraries"
   ]
  },
  {
   "cell_type": "code",
   "execution_count": 75,
   "id": "71cace5d",
   "metadata": {
    "ExecuteTime": {
     "end_time": "2022-12-04T13:21:52.400136Z",
     "start_time": "2022-12-04T13:21:52.394825Z"
    },
    "hidden": true
   },
   "outputs": [],
   "source": [
    "import torch\n",
    "import torchvision\n",
    "import torch.nn as nn\n",
    "import torch.optim as optim\n",
    "import torch.nn.functional as F\n",
    "from torch.utils.data import Dataset, DataLoader\n",
    "import torchvision.transforms as transforms"
   ]
  },
  {
   "cell_type": "code",
   "execution_count": 76,
   "id": "8735b622",
   "metadata": {
    "ExecuteTime": {
     "end_time": "2022-12-04T13:21:52.407822Z",
     "start_time": "2022-12-04T13:21:52.402677Z"
    },
    "hidden": true
   },
   "outputs": [],
   "source": [
    "device = torch.device(\"cuda\" if torch.cuda.is_available() else \"cpu\")"
   ]
  },
  {
   "cell_type": "markdown",
   "id": "e5e3db1d",
   "metadata": {
    "ExecuteTime": {
     "end_time": "2022-10-27T03:47:12.458066Z",
     "start_time": "2022-10-27T03:47:12.452095Z"
    }
   },
   "source": [
    "# Import data"
   ]
  },
  {
   "cell_type": "code",
   "execution_count": 77,
   "id": "c7c7a26f",
   "metadata": {
    "ExecuteTime": {
     "end_time": "2022-12-04T13:21:52.812278Z",
     "start_time": "2022-12-04T13:21:52.409330Z"
    }
   },
   "outputs": [
    {
     "name": "stdout",
     "output_type": "stream",
     "text": [
      "************************************************************\n",
      "There are 6 set of X\n",
      "X_train_selected_t1, X_train_selected_t2, X_valid_selected_t1,X_valid_selected_t2,X_test_selected_t1,X_test_selected_t2\n",
      "------------------------------------------------------------\n",
      "Normalized version\n",
      "X_train_selected_t1_norm, X_train_selected_t2_norm, X_valid_selected_t1_norm,X_valid_selected_t2_norm,X_test_selected_t1_norm,X_test_selected_t2_norm\n",
      "------------------------------------------------------------\n",
      "There are 4 set of Y\n",
      "y_train_t1, y_train_t2, y_valid_t1, y_valid_t2\n",
      "when training, please use: 'y_train_t1_value,y_train_t2_value,y_valid_t1_value,y_valid_t2_value'\n",
      "************************************************************\n"
     ]
    }
   ],
   "source": [
    "%run Data_preprocessing_v1.ipynb"
   ]
  },
  {
   "cell_type": "code",
   "execution_count": 78,
   "id": "4aa393c8",
   "metadata": {
    "ExecuteTime": {
     "end_time": "2022-12-04T13:21:52.818832Z",
     "start_time": "2022-12-04T13:21:52.815180Z"
    }
   },
   "outputs": [
    {
     "name": "stdout",
     "output_type": "stream",
     "text": [
      "(16760, 54)\n",
      "(2394, 54)\n",
      "(4790, 54)\n"
     ]
    }
   ],
   "source": [
    "print(X_train_selected_t2_norm.shape)\n",
    "print(X_valid_selected_t2_norm.shape)\n",
    "print(X_test_selected_t2_norm.shape)"
   ]
  },
  {
   "cell_type": "markdown",
   "id": "560831ad",
   "metadata": {},
   "source": [
    "# Hyperparameters"
   ]
  },
  {
   "cell_type": "code",
   "execution_count": 79,
   "id": "6fb9fe03",
   "metadata": {
    "ExecuteTime": {
     "end_time": "2022-12-04T13:21:52.831186Z",
     "start_time": "2022-12-04T13:21:52.820504Z"
    }
   },
   "outputs": [],
   "source": [
    "input_size = 54\n",
    "sequence_length = 1\n",
    "output_size = 1 # live or dead\n",
    "num_layers = 3\n",
    "hidden_size=30\n",
    "learning_rate = 0.001\n",
    "batch_size = 64\n",
    "num_epochs = 500\n",
    "l2_lamb = 0.0005"
   ]
  },
  {
   "cell_type": "markdown",
   "id": "9b7e4676",
   "metadata": {},
   "source": [
    "# Create JusNN"
   ]
  },
  {
   "cell_type": "code",
   "execution_count": 80,
   "id": "b8810614",
   "metadata": {
    "ExecuteTime": {
     "end_time": "2022-12-04T13:21:52.840119Z",
     "start_time": "2022-12-04T13:21:52.833086Z"
    }
   },
   "outputs": [],
   "source": [
    "class JusNN(nn.Module):\n",
    "    def __init__(self, input_size, hidden_size, num_layers, output_size):\n",
    "        super(JusNN, self).__init__()\n",
    "        \n",
    "        self.convlayer = nn.Sequential(\n",
    "            nn.Conv1d(in_channels=1, out_channels=6, kernel_size=2, stride=1, padding=0),\n",
    "            nn.AvgPool1d(kernel_size=4,stride=2),\n",
    "            nn.Conv1d(in_channels=6, out_channels=1, kernel_size=2, stride=1, padding=0),\n",
    "            nn.ReLU(),\n",
    "        )\n",
    "        \n",
    "        self.fclayers = nn.Sequential(\n",
    "            nn.Linear(input_size, 50),\n",
    "            nn.ReLU(),\n",
    "            nn.Linear(50, 24),\n",
    "        )\n",
    "        \n",
    "        self.batchnorm1 = nn.BatchNorm1d(59)\n",
    "        #self.batchnorm2 = nn.BatchNorm1d(30)\n",
    "        #self.dropout = nn.Dropout(p=0.5)\n",
    "        \n",
    "        self.fc1 = nn.Linear(24, 1)\n",
    "        \n",
    "    def forward(self, x):\n",
    "         x1 = F.leaky_relu(self.fclayers(x))\n",
    "         #print(x1.shape)\n",
    "         x2 = self.convlayer(x)\n",
    "         #print(x2.shape)\n",
    "            \n",
    "         x3 = x1+x2\n",
    "         x3 = self.fc1(x3)\n",
    "         return x3"
   ]
  },
  {
   "cell_type": "markdown",
   "id": "076d6376",
   "metadata": {},
   "source": [
    "# Data transform"
   ]
  },
  {
   "cell_type": "code",
   "execution_count": 81,
   "id": "d7e4872c",
   "metadata": {
    "ExecuteTime": {
     "end_time": "2022-12-04T13:21:52.846032Z",
     "start_time": "2022-12-04T13:21:52.841751Z"
    }
   },
   "outputs": [],
   "source": [
    "class CusDatasetLoader(Dataset):\n",
    "    def __init__(self,x,y):\n",
    "        self.len = y.shape[0]\n",
    "        self.x_data = x\n",
    "        self.y_data = y\n",
    "  \n",
    "    def __len__(self):\n",
    "        return self.len\n",
    "\n",
    "    def __getitem__(self, index):\n",
    "        #return self.dataframe.iloc[index]\n",
    "        return self.x_data[index], self.y_data[index]"
   ]
  },
  {
   "cell_type": "code",
   "execution_count": 82,
   "id": "456be776",
   "metadata": {
    "ExecuteTime": {
     "end_time": "2022-12-04T13:21:52.854036Z",
     "start_time": "2022-12-04T13:21:52.847418Z"
    }
   },
   "outputs": [],
   "source": [
    "# X_shape(X) : used for split the data into a right tensor size\n",
    "#input: X in shape of 16760 rows × 7488 columns (df)\n",
    "#output: X in shape of torch.Size([16760, 312, 24]) (tensor)\n",
    "def X_shape(X):\n",
    "    X_tensor = torch.from_numpy(np.array(X)).to(torch.float32)\n",
    "    X_tensor = torch.split(X_tensor,1)\n",
    "    X_tensor = torch.stack(X_tensor)\n",
    "    print(\"X now in shape of\",X_tensor.shape)\n",
    "    return X_tensor\n",
    "\n",
    "# y_tensor(y) : used for split the data into a right tensor size\n",
    "#input: X in shape of 16760 rows × 7488 columns (df)\n",
    "#output: X in shape of torch.Size([16760, 312, 24]) (tensor)\n",
    "def y_tensor(y):\n",
    "    y= torch.from_numpy(np.array(y)).to(torch.float32).reshape(len(y),1)\n",
    "    print(\"y now in shape of\",y.shape)\n",
    "    return y"
   ]
  },
  {
   "cell_type": "code",
   "execution_count": 83,
   "id": "006849f5",
   "metadata": {
    "ExecuteTime": {
     "end_time": "2022-12-04T13:21:52.908477Z",
     "start_time": "2022-12-04T13:21:52.856748Z"
    }
   },
   "outputs": [
    {
     "name": "stdout",
     "output_type": "stream",
     "text": [
      "X now in shape of torch.Size([16760, 1, 54])\n",
      "y now in shape of torch.Size([16760, 1])\n",
      "torch.Size([1, 54])\n",
      "torch.Size([1])\n"
     ]
    }
   ],
   "source": [
    "# X should be in smaples, 1, squence, rows\n",
    "X1 = X_shape(X_train_selected_t2_norm)\n",
    "y1 = y_tensor(y_train_t2.iloc[:,-1])\n",
    "\n",
    "train_datasets = CusDatasetLoader(X1, y1)\n",
    "train_loader = DataLoader(dataset=train_datasets, batch_size=batch_size, shuffle=True)\n",
    "\n",
    "x,y = train_datasets[0]\n",
    "print(x.shape)\n",
    "print(y.shape)"
   ]
  },
  {
   "cell_type": "markdown",
   "id": "e366eb01",
   "metadata": {},
   "source": [
    "# Model train"
   ]
  },
  {
   "cell_type": "code",
   "execution_count": 84,
   "id": "6443333a",
   "metadata": {
    "ExecuteTime": {
     "end_time": "2022-12-04T13:21:52.914476Z",
     "start_time": "2022-12-04T13:21:52.909919Z"
    }
   },
   "outputs": [],
   "source": [
    "model = JusNN(input_size, hidden_size, num_layers, output_size).to(device)"
   ]
  },
  {
   "cell_type": "code",
   "execution_count": 85,
   "id": "afa986f2",
   "metadata": {
    "ExecuteTime": {
     "end_time": "2022-12-04T13:21:52.920051Z",
     "start_time": "2022-12-04T13:21:52.916048Z"
    }
   },
   "outputs": [],
   "source": [
    "criterion = nn.MSELoss()\n",
    "optimizer = optim.Adadelta(model.parameters(), lr = learning_rate)"
   ]
  },
  {
   "cell_type": "code",
   "execution_count": null,
   "id": "680547a7",
   "metadata": {
    "ExecuteTime": {
     "start_time": "2022-12-04T13:21:52.421Z"
    },
    "scrolled": true
   },
   "outputs": [
    {
     "name": "stdout",
     "output_type": "stream",
     "text": [
      "Epoch 000: | Loss: 17.83690 \n",
      "Epoch 005: | Loss: 9.85089 \n",
      "Epoch 010: | Loss: 6.57690 \n",
      "Epoch 015: | Loss: 7.96921 \n",
      "Epoch 020: | Loss: 2.47366 \n",
      "Epoch 025: | Loss: 5.08515 \n",
      "Epoch 030: | Loss: 2.88249 \n",
      "Epoch 035: | Loss: 3.36456 \n",
      "Epoch 040: | Loss: 2.88411 \n",
      "Epoch 045: | Loss: 3.46198 \n",
      "Epoch 050: | Loss: 5.39040 \n",
      "Epoch 055: | Loss: 3.59967 \n",
      "Epoch 060: | Loss: 5.10970 \n",
      "Epoch 065: | Loss: 3.88478 \n",
      "Epoch 070: | Loss: 4.14644 \n",
      "Epoch 075: | Loss: 5.04754 \n",
      "Epoch 080: | Loss: 6.22972 \n",
      "Epoch 085: | Loss: 4.57679 \n",
      "Epoch 090: | Loss: 5.56576 \n",
      "Epoch 095: | Loss: 4.51062 \n",
      "Epoch 100: | Loss: 2.44994 \n",
      "Epoch 105: | Loss: 3.18176 \n",
      "Epoch 110: | Loss: 4.80648 \n",
      "Epoch 115: | Loss: 4.97720 \n",
      "Epoch 120: | Loss: 3.21705 \n",
      "Epoch 125: | Loss: 4.51689 \n",
      "Epoch 130: | Loss: 4.67668 \n",
      "Epoch 135: | Loss: 3.42509 \n",
      "Epoch 140: | Loss: 4.01828 \n",
      "Epoch 145: | Loss: 4.37903 \n",
      "Epoch 150: | Loss: 2.94602 \n",
      "Epoch 155: | Loss: 4.82362 \n",
      "Epoch 160: | Loss: 2.79944 \n",
      "Epoch 165: | Loss: 4.17661 \n",
      "Epoch 170: | Loss: 5.66015 \n",
      "Epoch 175: | Loss: 4.27966 \n",
      "Epoch 180: | Loss: 3.37243 \n",
      "Epoch 185: | Loss: 4.78624 \n"
     ]
    }
   ],
   "source": [
    "losses=[]\n",
    "acc_list=[]\n",
    "for epoch in range(num_epochs):\n",
    "    for batch_idx, (data, targets) in enumerate(train_loader):\n",
    "        data = data.permute(0,1,2)\n",
    "        #print(data.shape)\n",
    "        data = data.to(device=device)\n",
    "        targets = targets.to(device=device)\n",
    "        targets = torch.squeeze(targets, 1)\n",
    "        #print(targets)\n",
    "        \n",
    "        # forward\n",
    "        scores = model(data)\n",
    "        #print(scores.shape)\n",
    "        loss = criterion(scores, targets)\n",
    "        l2_lambda = l2_lamb\n",
    "        l2_norm = sum(p.pow(2.0).sum()\n",
    "                  for p in model.parameters())\n",
    " \n",
    "        loss = loss + l2_lambda * l2_norm\n",
    "    \n",
    "        # backward\n",
    "        optimizer.zero_grad()\n",
    "        loss.backward()\n",
    "        \n",
    "        # gradient descent or adam step\n",
    "        optimizer.step()\n",
    "        \n",
    "    if epoch%5 == 0:\n",
    "        losses.append(loss.detach().numpy() )\n",
    "        print(f'Epoch {epoch:03}: | Loss: {loss:.5f} ')\n",
    "        "
   ]
  },
  {
   "cell_type": "markdown",
   "id": "06bcbff7",
   "metadata": {
    "ExecuteTime": {
     "end_time": "2022-10-28T17:23:14.669685Z",
     "start_time": "2022-10-28T17:23:14.663564Z"
    }
   },
   "source": [
    "# Model RMSE"
   ]
  },
  {
   "cell_type": "code",
   "execution_count": null,
   "id": "48a94a4e",
   "metadata": {
    "ExecuteTime": {
     "start_time": "2022-12-04T13:21:52.423Z"
    }
   },
   "outputs": [],
   "source": [
    "def rmse(predictions, targets):\n",
    "    return np.sqrt(((predictions - targets) ** 2).mean())\n",
    "\n",
    "def check_rmse(loader, model):\n",
    "\n",
    "    # Set model to eval\n",
    "    model.eval()\n",
    "\n",
    "    with torch.no_grad():\n",
    "        for data, targets in loader:\n",
    "            data = data.permute(0,1,2)\n",
    "            #print(data.shape)\n",
    "            data = data.to(device=device)\n",
    "            targets = targets.to(device=device)\n",
    "            targets = torch.squeeze(targets, 1)\n",
    "\n",
    "            scores = model(data)\n",
    "            res = rmse(scores,targets)\n",
    "            print(res)\n",
    "            \n",
    "    # Toggle model back to train\n",
    "    model.train()\n",
    "    \n",
    "    "
   ]
  },
  {
   "cell_type": "code",
   "execution_count": null,
   "id": "7194f3f0",
   "metadata": {
    "ExecuteTime": {
     "start_time": "2022-12-04T13:21:52.424Z"
    }
   },
   "outputs": [],
   "source": [
    "X2 = X_shape(X_valid_selected_t2_norm)\n",
    "y2 = y_tensor(y_valid_t2.iloc[:,-1])\n",
    "\n",
    "Valid_datasets = CusDatasetLoader(X2, y2)\n",
    "Valid_loader = DataLoader(dataset=train_datasets, batch_size=batch_size, shuffle=True)\n",
    "print(f\"RMSE on test set: {check_rmse(Valid_loader, model)*100:.2f} %\")"
   ]
  },
  {
   "cell_type": "markdown",
   "id": "b16acbcd",
   "metadata": {
    "heading_collapsed": true
   },
   "source": [
    "# Test"
   ]
  },
  {
   "cell_type": "code",
   "execution_count": null,
   "id": "0fc30b2a",
   "metadata": {
    "ExecuteTime": {
     "start_time": "2022-12-04T13:21:52.426Z"
    },
    "hidden": true
   },
   "outputs": [],
   "source": [
    "def test(loader, model):\n",
    "    # Set model to eval\n",
    "    model.eval()\n",
    "    res = torch.tensor([], dtype=torch.int64)\n",
    "    with torch.no_grad():\n",
    "        for x, y in loader:\n",
    "            x = x.to(device=device).permute(0,2,1)\n",
    "            print(x.shape)\n",
    "            y = torch.squeeze(y.to(device=device), 1)\n",
    "            print(y.shape)\n",
    "\n",
    "            scores = model(x)\n",
    "            _, predictions = scores.max(1)\n",
    "            res =  torch.cat((predictions, res), 0)  \n",
    "    model.train()\n",
    "   \n",
    "    return res"
   ]
  },
  {
   "cell_type": "code",
   "execution_count": null,
   "id": "767ccbaa",
   "metadata": {
    "ExecuteTime": {
     "start_time": "2022-12-04T13:21:52.427Z"
    },
    "hidden": true
   },
   "outputs": [],
   "source": [
    "X_test"
   ]
  },
  {
   "cell_type": "code",
   "execution_count": null,
   "id": "66e51253",
   "metadata": {
    "ExecuteTime": {
     "start_time": "2022-12-04T13:21:52.429Z"
    },
    "hidden": true
   },
   "outputs": [],
   "source": [
    "X_test_final = X_shape(X_test)\n",
    "y_final = torch.zeros([4790,1])\n",
    "\n",
    "test_datasets = CusDatasetLoader(X_test_final, y_final)\n",
    "test_loader = DataLoader(dataset=test_datasets, batch_size=batch_size, shuffle=True)\n",
    "\n",
    "result = test(test_loader, model)\n",
    "result"
   ]
  },
  {
   "cell_type": "code",
   "execution_count": null,
   "id": "8747d5c8",
   "metadata": {
    "ExecuteTime": {
     "start_time": "2022-12-04T13:21:52.431Z"
    },
    "hidden": true,
    "scrolled": true
   },
   "outputs": [],
   "source": [
    "\n",
    "#df.index = ['Row_1', 'Row_2', 'Row_3', 'Row_4']\n",
    "res1 = pd.DataFrame(result, columns=[\"Predicted\"])\n",
    "res1.index = X_test.index\n",
    "res1.index.name = 'Id'\n",
    "pd.DataFrame(res1).to_csv('out.csv')\n"
   ]
  },
  {
   "cell_type": "markdown",
   "id": "27ca623b",
   "metadata": {},
   "source": [
    "#"
   ]
  },
  {
   "cell_type": "markdown",
   "id": "afa29a40",
   "metadata": {},
   "source": [
    "#"
   ]
  },
  {
   "cell_type": "markdown",
   "id": "b8d38018",
   "metadata": {},
   "source": [
    "#"
   ]
  }
 ],
 "metadata": {
  "kernelspec": {
   "display_name": "comp3340",
   "language": "python",
   "name": "comp3340"
  },
  "language_info": {
   "codemirror_mode": {
    "name": "ipython",
    "version": 3
   },
   "file_extension": ".py",
   "mimetype": "text/x-python",
   "name": "python",
   "nbconvert_exporter": "python",
   "pygments_lexer": "ipython3",
   "version": "3.7.7"
  },
  "toc": {
   "base_numbering": 1,
   "nav_menu": {},
   "number_sections": true,
   "sideBar": true,
   "skip_h1_title": false,
   "title_cell": "Table of Contents",
   "title_sidebar": "Contents",
   "toc_cell": false,
   "toc_position": {},
   "toc_section_display": true,
   "toc_window_display": true
  }
 },
 "nbformat": 4,
 "nbformat_minor": 5
}
