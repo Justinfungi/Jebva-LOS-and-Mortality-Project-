{
 "cells": [
  {
   "cell_type": "markdown",
   "id": "970d9aef",
   "metadata": {
    "heading_collapsed": true
   },
   "source": [
    "# Libraries"
   ]
  },
  {
   "cell_type": "code",
   "execution_count": 200,
   "id": "71cace5d",
   "metadata": {
    "ExecuteTime": {
     "end_time": "2022-12-04T20:31:26.807405Z",
     "start_time": "2022-12-04T20:31:26.804272Z"
    },
    "hidden": true
   },
   "outputs": [],
   "source": [
    "import torch\n",
    "import torchvision\n",
    "import torch.nn as nn\n",
    "import torch.optim as optim\n",
    "import torch.nn.functional as F\n",
    "from torch.utils.data import Dataset, DataLoader\n",
    "import torchvision.transforms as transforms"
   ]
  },
  {
   "cell_type": "code",
   "execution_count": 201,
   "id": "8735b622",
   "metadata": {
    "ExecuteTime": {
     "end_time": "2022-12-04T20:31:26.820320Z",
     "start_time": "2022-12-04T20:31:26.810086Z"
    },
    "hidden": true
   },
   "outputs": [],
   "source": [
    "device = torch.device(\"cuda\" if torch.cuda.is_available() else \"cpu\")"
   ]
  },
  {
   "cell_type": "markdown",
   "id": "e5e3db1d",
   "metadata": {
    "ExecuteTime": {
     "end_time": "2022-10-27T03:47:12.458066Z",
     "start_time": "2022-10-27T03:47:12.452095Z"
    }
   },
   "source": [
    "# Import data"
   ]
  },
  {
   "cell_type": "code",
   "execution_count": 202,
   "id": "c7c7a26f",
   "metadata": {
    "ExecuteTime": {
     "end_time": "2022-12-04T20:31:27.197516Z",
     "start_time": "2022-12-04T20:31:26.822062Z"
    }
   },
   "outputs": [
    {
     "name": "stdout",
     "output_type": "stream",
     "text": [
      "************************************************************\n",
      "There are 6 set of X\n",
      "X_train_selected_t1, X_train_selected_t2, X_valid_selected_t1,X_valid_selected_t2,X_test_selected_t1,X_test_selected_t2\n",
      "------------------------------------------------------------\n",
      "Normalized version\n",
      "X_train_selected_t1_norm, X_train_selected_t2_norm, X_valid_selected_t1_norm,X_valid_selected_t2_norm,X_test_selected_t1_norm,X_test_selected_t2_norm\n",
      "------------------------------------------------------------\n",
      "There are 4 set of Y\n",
      "y_train_t1, y_train_t2, y_valid_t1, y_valid_t2\n",
      "when training, please use: 'y_train_t1_value,y_train_t2_value,y_valid_t1_value,y_valid_t2_value'\n",
      "************************************************************\n"
     ]
    }
   ],
   "source": [
    "%run Data_preprocessing_v1.ipynb"
   ]
  },
  {
   "cell_type": "code",
   "execution_count": 203,
   "id": "4aa393c8",
   "metadata": {
    "ExecuteTime": {
     "end_time": "2022-12-04T20:31:27.203282Z",
     "start_time": "2022-12-04T20:31:27.200291Z"
    }
   },
   "outputs": [
    {
     "name": "stdout",
     "output_type": "stream",
     "text": [
      "(16760, 54)\n",
      "(2394, 54)\n",
      "(4790, 54)\n"
     ]
    }
   ],
   "source": [
    "print(X_train_selected_t2_norm.shape)\n",
    "print(X_valid_selected_t2_norm.shape)\n",
    "print(X_test_selected_t2_norm.shape)"
   ]
  },
  {
   "cell_type": "markdown",
   "id": "560831ad",
   "metadata": {},
   "source": [
    "# Hyperparameters"
   ]
  },
  {
   "cell_type": "code",
   "execution_count": 204,
   "id": "6fb9fe03",
   "metadata": {
    "ExecuteTime": {
     "end_time": "2022-12-04T20:31:27.215806Z",
     "start_time": "2022-12-04T20:31:27.204802Z"
    }
   },
   "outputs": [],
   "source": [
    "input_size = 54\n",
    "sequence_length = 1\n",
    "output_size = 1 # live or dead\n",
    "num_layers = 3\n",
    "hidden_size=30\n",
    "learning_rate = 0.001\n",
    "batch_size = 32\n",
    "num_epochs = 500\n",
    "l2_lamb = 3.736842105263158e-05"
   ]
  },
  {
   "cell_type": "markdown",
   "id": "9b7e4676",
   "metadata": {},
   "source": [
    "# Create JusNN"
   ]
  },
  {
   "cell_type": "code",
   "execution_count": 205,
   "id": "b8810614",
   "metadata": {
    "ExecuteTime": {
     "end_time": "2022-12-04T20:31:27.223621Z",
     "start_time": "2022-12-04T20:31:27.217438Z"
    }
   },
   "outputs": [],
   "source": [
    "class JusNN(nn.Module):\n",
    "    def __init__(self, input_size, num_layers, output_size):\n",
    "        super(JusNN, self).__init__()\n",
    "        \n",
    "        self.convlayer = nn.Sequential(\n",
    "            nn.Conv1d(in_channels=1, out_channels=6, kernel_size=4, stride=1, padding=0),\n",
    "            nn.AvgPool1d(kernel_size=4,stride=3),\n",
    "            nn.Conv1d(in_channels=6, out_channels=1, kernel_size=4, stride=1, padding=0),\n",
    "            nn.ReLU(),\n",
    "        )\n",
    "        \n",
    "        self.fclayers = nn.Sequential(\n",
    "            nn.Linear(input_size, 3),\n",
    "            nn.ReLU(),\n",
    "            nn.Dropout(p=0.5),\n",
    "            nn.Linear(3, 13),\n",
    "        )\n",
    "        \n",
    "        self.fc1 = nn.Linear(13, 1)\n",
    "        \n",
    "    def forward(self, x):\n",
    "         x1 = F.leaky_relu(self.fclayers(x))\n",
    "         #print(x1.shape)\n",
    "         x2 = self.convlayer(x)\n",
    "         #print(x2.shape)\n",
    "            \n",
    "         x3 = x1+x2\n",
    "         x3 = self.fc1(x3)\n",
    "         return x3"
   ]
  },
  {
   "cell_type": "markdown",
   "id": "076d6376",
   "metadata": {
    "heading_collapsed": true
   },
   "source": [
    "# Data transform"
   ]
  },
  {
   "cell_type": "code",
   "execution_count": 206,
   "id": "d7e4872c",
   "metadata": {
    "ExecuteTime": {
     "end_time": "2022-12-04T20:31:27.231273Z",
     "start_time": "2022-12-04T20:31:27.225217Z"
    },
    "hidden": true
   },
   "outputs": [],
   "source": [
    "class CusDatasetLoader(Dataset):\n",
    "    def __init__(self,x,y):\n",
    "        self.len = y.shape[0]\n",
    "        self.x_data = x\n",
    "        self.y_data = y\n",
    "  \n",
    "    def __len__(self):\n",
    "        return self.len\n",
    "\n",
    "    def __getitem__(self, index):\n",
    "        #return self.dataframe.iloc[index]\n",
    "        return self.x_data[index], self.y_data[index]"
   ]
  },
  {
   "cell_type": "code",
   "execution_count": 207,
   "id": "456be776",
   "metadata": {
    "ExecuteTime": {
     "end_time": "2022-12-04T20:31:27.237396Z",
     "start_time": "2022-12-04T20:31:27.232668Z"
    },
    "hidden": true
   },
   "outputs": [],
   "source": [
    "# X_shape(X) : used for split the data into a right tensor size\n",
    "#input: X in shape of 16760 rows × 7488 columns (df)\n",
    "#output: X in shape of torch.Size([16760, 312, 24]) (tensor)\n",
    "def X_shape(X):\n",
    "    X_tensor = torch.from_numpy(np.array(X)).to(torch.float32)\n",
    "    X_tensor = torch.split(X_tensor,1)\n",
    "    X_tensor = torch.stack(X_tensor)\n",
    "    print(\"X now in shape of\",X_tensor.shape)\n",
    "    return X_tensor\n",
    "\n",
    "# y_tensor(y) : used for split the data into a right tensor size\n",
    "#input: X in shape of 16760 rows × 7488 columns (df)\n",
    "#output: X in shape of torch.Size([16760, 312, 24]) (tensor)\n",
    "def y_tensor(y):\n",
    "    y= torch.from_numpy(np.array(y)).to(torch.float32).reshape(len(y),1)\n",
    "    print(\"y now in shape of\",y.shape)\n",
    "    return y"
   ]
  },
  {
   "cell_type": "code",
   "execution_count": 208,
   "id": "006849f5",
   "metadata": {
    "ExecuteTime": {
     "end_time": "2022-12-04T20:31:27.289544Z",
     "start_time": "2022-12-04T20:31:27.240462Z"
    },
    "hidden": true
   },
   "outputs": [
    {
     "name": "stdout",
     "output_type": "stream",
     "text": [
      "X now in shape of torch.Size([16760, 1, 54])\n",
      "y now in shape of torch.Size([16760, 1])\n",
      "torch.Size([1, 54])\n",
      "torch.Size([1])\n"
     ]
    }
   ],
   "source": [
    "# X should be in smaples, 1, squence, rows\n",
    "X1 = X_shape(X_train_selected_t2_norm)\n",
    "y1 = y_tensor(y_train_t2.iloc[:,-1])\n",
    "\n",
    "train_datasets = CusDatasetLoader(X1, y1)\n",
    "train_loader = DataLoader(dataset=train_datasets, batch_size=batch_size, shuffle=True)\n",
    "\n",
    "x,y = train_datasets[0]\n",
    "print(x.shape)\n",
    "print(y.shape)"
   ]
  },
  {
   "cell_type": "markdown",
   "id": "e366eb01",
   "metadata": {},
   "source": [
    "# Model train"
   ]
  },
  {
   "cell_type": "code",
   "execution_count": 209,
   "id": "6443333a",
   "metadata": {
    "ExecuteTime": {
     "end_time": "2022-12-04T20:31:27.298028Z",
     "start_time": "2022-12-04T20:31:27.291863Z"
    }
   },
   "outputs": [],
   "source": [
    "model = JusNN(input_size, num_layers, output_size).to(device)"
   ]
  },
  {
   "cell_type": "code",
   "execution_count": 210,
   "id": "afa986f2",
   "metadata": {
    "ExecuteTime": {
     "end_time": "2022-12-04T20:31:27.303792Z",
     "start_time": "2022-12-04T20:31:27.299633Z"
    }
   },
   "outputs": [],
   "source": [
    "def RMSELoss(yhat,y):\n",
    "    return torch.sqrt(torch.mean((yhat-y)**2))\n",
    "\n",
    "criterion = RMSELoss\n",
    "optimizer = optim.Adadelta(model.parameters(), lr = learning_rate)"
   ]
  },
  {
   "cell_type": "code",
   "execution_count": 211,
   "id": "680547a7",
   "metadata": {
    "ExecuteTime": {
     "end_time": "2022-12-04T20:50:25.779298Z",
     "start_time": "2022-12-04T20:31:27.305656Z"
    },
    "scrolled": true
   },
   "outputs": [
    {
     "name": "stdout",
     "output_type": "stream",
     "text": [
      "Epoch 000: | Loss: 4.58264 \n",
      "Epoch 005: | Loss: 2.50964 \n",
      "Epoch 010: | Loss: 1.98793 \n",
      "Epoch 015: | Loss: 2.27600 \n",
      "Epoch 020: | Loss: 1.46798 \n",
      "Epoch 025: | Loss: 1.21482 \n",
      "Epoch 030: | Loss: 1.74973 \n",
      "Epoch 035: | Loss: 2.02878 \n",
      "Epoch 040: | Loss: 1.83034 \n",
      "Epoch 045: | Loss: 2.01138 \n",
      "Epoch 050: | Loss: 1.42939 \n",
      "Epoch 055: | Loss: 1.77593 \n",
      "Epoch 060: | Loss: 2.51421 \n",
      "Epoch 065: | Loss: 2.27796 \n",
      "Epoch 070: | Loss: 2.11736 \n",
      "Epoch 075: | Loss: 1.68948 \n",
      "Epoch 080: | Loss: 1.72143 \n",
      "Epoch 085: | Loss: 1.23671 \n",
      "Epoch 090: | Loss: 1.91781 \n",
      "Epoch 095: | Loss: 1.91700 \n",
      "Epoch 100: | Loss: 1.59808 \n",
      "Epoch 105: | Loss: 1.78603 \n",
      "Epoch 110: | Loss: 2.07805 \n",
      "Epoch 115: | Loss: 1.46868 \n",
      "Epoch 120: | Loss: 2.65344 \n",
      "Epoch 125: | Loss: 2.23157 \n",
      "Epoch 130: | Loss: 2.23309 \n",
      "Epoch 135: | Loss: 1.48596 \n",
      "Epoch 140: | Loss: 1.78986 \n",
      "Epoch 145: | Loss: 1.71603 \n",
      "Epoch 150: | Loss: 1.93434 \n",
      "Epoch 155: | Loss: 2.60820 \n",
      "Epoch 160: | Loss: 1.58716 \n",
      "Epoch 165: | Loss: 1.80276 \n",
      "Epoch 170: | Loss: 2.05713 \n",
      "Epoch 175: | Loss: 2.65545 \n",
      "Epoch 180: | Loss: 1.77213 \n",
      "Epoch 185: | Loss: 1.76036 \n",
      "Epoch 190: | Loss: 1.92218 \n",
      "Epoch 195: | Loss: 2.08925 \n",
      "Epoch 200: | Loss: 1.46383 \n",
      "Epoch 205: | Loss: 1.88405 \n",
      "Epoch 210: | Loss: 2.11867 \n",
      "Epoch 215: | Loss: 2.00689 \n",
      "Epoch 220: | Loss: 1.70967 \n",
      "Epoch 225: | Loss: 1.31833 \n",
      "Epoch 230: | Loss: 2.27837 \n",
      "Epoch 235: | Loss: 2.59267 \n",
      "Epoch 240: | Loss: 2.31533 \n",
      "Epoch 245: | Loss: 1.63093 \n",
      "Epoch 250: | Loss: 2.06735 \n",
      "Epoch 255: | Loss: 2.16893 \n",
      "Epoch 260: | Loss: 1.76097 \n",
      "Epoch 265: | Loss: 2.15800 \n",
      "Epoch 270: | Loss: 2.08271 \n",
      "Epoch 275: | Loss: 2.21603 \n",
      "Epoch 280: | Loss: 1.32588 \n",
      "Epoch 285: | Loss: 2.24627 \n",
      "Epoch 290: | Loss: 2.04358 \n",
      "Epoch 295: | Loss: 2.27124 \n",
      "Epoch 300: | Loss: 1.47208 \n",
      "Epoch 305: | Loss: 1.57807 \n",
      "Epoch 310: | Loss: 1.60706 \n",
      "Epoch 315: | Loss: 1.89486 \n",
      "Epoch 320: | Loss: 2.07759 \n",
      "Epoch 325: | Loss: 1.56782 \n",
      "Epoch 330: | Loss: 1.44223 \n",
      "Epoch 335: | Loss: 1.50364 \n",
      "Epoch 340: | Loss: 2.02372 \n",
      "Epoch 345: | Loss: 1.25601 \n",
      "Epoch 350: | Loss: 2.38677 \n",
      "Epoch 355: | Loss: 1.76002 \n",
      "Epoch 360: | Loss: 1.62023 \n",
      "Epoch 365: | Loss: 1.29671 \n",
      "Epoch 370: | Loss: 1.76345 \n",
      "Epoch 375: | Loss: 1.32914 \n",
      "Epoch 380: | Loss: 2.68125 \n",
      "Epoch 385: | Loss: 1.45118 \n",
      "Epoch 390: | Loss: 1.29928 \n",
      "Epoch 395: | Loss: 2.42740 \n",
      "Epoch 400: | Loss: 1.75883 \n",
      "Epoch 405: | Loss: 1.22565 \n",
      "Epoch 410: | Loss: 1.64346 \n",
      "Epoch 415: | Loss: 1.66908 \n",
      "Epoch 420: | Loss: 2.15692 \n",
      "Epoch 425: | Loss: 1.92229 \n",
      "Epoch 430: | Loss: 2.16483 \n",
      "Epoch 435: | Loss: 2.35905 \n",
      "Epoch 440: | Loss: 2.15258 \n",
      "Epoch 445: | Loss: 2.36876 \n",
      "Epoch 450: | Loss: 2.55578 \n",
      "Epoch 455: | Loss: 2.00247 \n",
      "Epoch 460: | Loss: 1.83253 \n",
      "Epoch 465: | Loss: 2.25700 \n",
      "Epoch 470: | Loss: 2.14109 \n",
      "Epoch 475: | Loss: 1.97781 \n",
      "Epoch 480: | Loss: 2.27774 \n",
      "Epoch 485: | Loss: 2.38742 \n",
      "Epoch 490: | Loss: 2.60096 \n",
      "Epoch 495: | Loss: 1.78143 \n"
     ]
    }
   ],
   "source": [
    "losses=[]\n",
    "acc_list=[]\n",
    "for epoch in range(num_epochs):\n",
    "    for batch_idx, (data, targets) in enumerate(train_loader):\n",
    "        data = data.permute(0,1,2)\n",
    "        #print(data.shape)\n",
    "        data = data.to(device=device)\n",
    "        targets = targets.to(device=device)\n",
    "        targets = torch.squeeze(targets, 1)\n",
    "        #print(targets)\n",
    "        \n",
    "        # forward\n",
    "        scores = model(data)\n",
    "        #print(scores.shape)\n",
    "        loss = criterion(scores, targets)\n",
    "        l2_lambda = l2_lamb\n",
    "        l2_norm = sum(p.pow(2.0).sum()\n",
    "                  for p in model.parameters())\n",
    " \n",
    "        loss = loss + l2_lambda * l2_norm\n",
    "    \n",
    "        # backward\n",
    "        optimizer.zero_grad()\n",
    "        loss.backward()\n",
    "        \n",
    "        # gradient descent or adam step\n",
    "        optimizer.step()\n",
    "        \n",
    "    if epoch%5 == 0:\n",
    "        losses.append(loss.detach().numpy() )\n",
    "        print(f'Epoch {epoch:03}: | Loss: {loss:.5f} ')\n",
    "        "
   ]
  },
  {
   "cell_type": "markdown",
   "id": "06bcbff7",
   "metadata": {
    "ExecuteTime": {
     "end_time": "2022-10-28T17:23:14.669685Z",
     "start_time": "2022-10-28T17:23:14.663564Z"
    }
   },
   "source": [
    "# Model RMSE"
   ]
  },
  {
   "cell_type": "code",
   "execution_count": 212,
   "id": "48a94a4e",
   "metadata": {
    "ExecuteTime": {
     "end_time": "2022-12-04T20:50:25.788292Z",
     "start_time": "2022-12-04T20:50:25.781503Z"
    }
   },
   "outputs": [],
   "source": [
    "def rmse(predictions, targets):\n",
    "    return np.sqrt(((predictions - targets) ** 2).mean())\n",
    "\n",
    "def check_rmse(loader, model):\n",
    "\n",
    "    # Set model to eval\n",
    "    model.eval()\n",
    "\n",
    "    with torch.no_grad():\n",
    "        for data, targets in loader:\n",
    "            data = data.permute(0,1,2)\n",
    "            #print(data.shape)\n",
    "            data = data.to(device=device)\n",
    "            targets = targets.to(device=device)\n",
    "            targets = torch.squeeze(targets, 1)\n",
    "\n",
    "            scores = model(data)\n",
    "            res = rmse(scores,targets)\n",
    "        \n",
    "            \n",
    "    # Toggle model back to train\n",
    "    model.train()\n",
    "    return res\n",
    "    "
   ]
  },
  {
   "cell_type": "code",
   "execution_count": 213,
   "id": "7194f3f0",
   "metadata": {
    "ExecuteTime": {
     "end_time": "2022-12-04T20:50:26.320416Z",
     "start_time": "2022-12-04T20:50:25.790091Z"
    }
   },
   "outputs": [
    {
     "name": "stdout",
     "output_type": "stream",
     "text": [
      "X now in shape of torch.Size([2394, 1, 54])\n",
      "y now in shape of torch.Size([2394, 1])\n",
      "RMSE on test set: 1.9922609329223633\n"
     ]
    }
   ],
   "source": [
    "X2 = X_shape(X_valid_selected_t2_norm)\n",
    "y2 = y_tensor(y_valid_t2.iloc[:,-1])\n",
    "\n",
    "Valid_datasets = CusDatasetLoader(X2, y2)\n",
    "Valid_loader = DataLoader(dataset=train_datasets, batch_size=batch_size, shuffle=True)\n",
    "print(f\"RMSE on test set: {check_rmse(Valid_loader, model)}\")"
   ]
  },
  {
   "cell_type": "markdown",
   "id": "b16acbcd",
   "metadata": {},
   "source": [
    "# Test"
   ]
  },
  {
   "cell_type": "code",
   "execution_count": 214,
   "id": "0fc30b2a",
   "metadata": {
    "ExecuteTime": {
     "end_time": "2022-12-04T20:50:26.329682Z",
     "start_time": "2022-12-04T20:50:26.323353Z"
    }
   },
   "outputs": [],
   "source": [
    "def test(loader, model):\n",
    "    # Set model to eval\n",
    "    model.eval()\n",
    "    res = torch.tensor([], dtype=torch.int64)\n",
    "    with torch.no_grad():\n",
    "        for x, y in loader:\n",
    "            x = x.to(device=device).permute(0,2,1)\n",
    "            print(x.shape)\n",
    "            y = torch.squeeze(y.to(device=device), 1)\n",
    "            print(y.shape)\n",
    "\n",
    "            scores = model(x)\n",
    "            _, predictions = scores.max(1)\n",
    "            res =  torch.cat((predictions, res), 0)  \n",
    "    model.train()\n",
    "   \n",
    "    return res"
   ]
  },
  {
   "cell_type": "code",
   "execution_count": null,
   "id": "66e51253",
   "metadata": {
    "ExecuteTime": {
     "end_time": "2022-12-04T20:50:26.351049Z",
     "start_time": "2022-12-04T20:50:26.351031Z"
    }
   },
   "outputs": [],
   "source": [
    "X_test_final = X_shape(X_test)\n",
    "y_final = torch.zeros([4790,1])\n",
    "\n",
    "test_datasets = CusDatasetLoader(X_test_final, y_final)\n",
    "test_loader = DataLoader(dataset=test_datasets, batch_size=batch_size, shuffle=True)\n",
    "\n",
    "result = test(test_loader, model)\n",
    "result"
   ]
  },
  {
   "cell_type": "code",
   "execution_count": null,
   "id": "8747d5c8",
   "metadata": {
    "ExecuteTime": {
     "end_time": "2022-12-04T20:50:26.352868Z",
     "start_time": "2022-12-04T20:50:26.352853Z"
    },
    "scrolled": true
   },
   "outputs": [],
   "source": [
    "\n",
    "#df.index = ['Row_1', 'Row_2', 'Row_3', 'Row_4']\n",
    "res1 = pd.DataFrame(result, columns=[\"Predicted\"])\n",
    "res1.index = X_test.index\n",
    "res1.index.name = 'Id'\n",
    "pd.DataFrame(res1).to_csv('out.csv')\n"
   ]
  },
  {
   "cell_type": "markdown",
   "id": "27ca623b",
   "metadata": {},
   "source": [
    "#"
   ]
  },
  {
   "cell_type": "markdown",
   "id": "afa29a40",
   "metadata": {},
   "source": [
    "#"
   ]
  },
  {
   "cell_type": "markdown",
   "id": "b8d38018",
   "metadata": {},
   "source": [
    "#"
   ]
  }
 ],
 "metadata": {
  "kernelspec": {
   "display_name": "comp3340",
   "language": "python",
   "name": "comp3340"
  },
  "language_info": {
   "codemirror_mode": {
    "name": "ipython",
    "version": 3
   },
   "file_extension": ".py",
   "mimetype": "text/x-python",
   "name": "python",
   "nbconvert_exporter": "python",
   "pygments_lexer": "ipython3",
   "version": "3.7.7"
  },
  "toc": {
   "base_numbering": 1,
   "nav_menu": {},
   "number_sections": true,
   "sideBar": true,
   "skip_h1_title": false,
   "title_cell": "Table of Contents",
   "title_sidebar": "Contents",
   "toc_cell": false,
   "toc_position": {},
   "toc_section_display": true,
   "toc_window_display": true
  }
 },
 "nbformat": 4,
 "nbformat_minor": 5
}
