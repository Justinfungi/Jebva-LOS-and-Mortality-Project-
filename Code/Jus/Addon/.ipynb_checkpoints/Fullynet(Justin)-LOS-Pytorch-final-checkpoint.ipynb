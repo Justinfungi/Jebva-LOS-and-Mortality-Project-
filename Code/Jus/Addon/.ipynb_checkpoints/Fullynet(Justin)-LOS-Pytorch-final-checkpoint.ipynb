{
 "cells": [
  {
   "cell_type": "markdown",
   "id": "970d9aef",
   "metadata": {
    "heading_collapsed": true
   },
   "source": [
    "# Libraries"
   ]
  },
  {
   "cell_type": "code",
   "execution_count": 95,
   "id": "71cace5d",
   "metadata": {
    "ExecuteTime": {
     "end_time": "2022-12-04T13:36:30.801898Z",
     "start_time": "2022-12-04T13:36:30.797120Z"
    },
    "hidden": true
   },
   "outputs": [],
   "source": [
    "import torch\n",
    "import torchvision\n",
    "import torch.nn as nn\n",
    "import torch.optim as optim\n",
    "import torch.nn.functional as F\n",
    "from torch.utils.data import Dataset, DataLoader\n",
    "import torchvision.transforms as transforms"
   ]
  },
  {
   "cell_type": "code",
   "execution_count": 96,
   "id": "8735b622",
   "metadata": {
    "ExecuteTime": {
     "end_time": "2022-12-04T13:36:30.814762Z",
     "start_time": "2022-12-04T13:36:30.804057Z"
    },
    "hidden": true
   },
   "outputs": [],
   "source": [
    "device = torch.device(\"cuda\" if torch.cuda.is_available() else \"cpu\")"
   ]
  },
  {
   "cell_type": "markdown",
   "id": "e5e3db1d",
   "metadata": {
    "ExecuteTime": {
     "end_time": "2022-10-27T03:47:12.458066Z",
     "start_time": "2022-10-27T03:47:12.452095Z"
    }
   },
   "source": [
    "# Import data"
   ]
  },
  {
   "cell_type": "code",
   "execution_count": 97,
   "id": "c7c7a26f",
   "metadata": {
    "ExecuteTime": {
     "end_time": "2022-12-04T13:36:31.213602Z",
     "start_time": "2022-12-04T13:36:30.816768Z"
    }
   },
   "outputs": [
    {
     "name": "stdout",
     "output_type": "stream",
     "text": [
      "************************************************************\n",
      "There are 6 set of X\n",
      "X_train_selected_t1, X_train_selected_t2, X_valid_selected_t1,X_valid_selected_t2,X_test_selected_t1,X_test_selected_t2\n",
      "------------------------------------------------------------\n",
      "Normalized version\n",
      "X_train_selected_t1_norm, X_train_selected_t2_norm, X_valid_selected_t1_norm,X_valid_selected_t2_norm,X_test_selected_t1_norm,X_test_selected_t2_norm\n",
      "------------------------------------------------------------\n",
      "There are 4 set of Y\n",
      "y_train_t1, y_train_t2, y_valid_t1, y_valid_t2\n",
      "when training, please use: 'y_train_t1_value,y_train_t2_value,y_valid_t1_value,y_valid_t2_value'\n",
      "************************************************************\n"
     ]
    }
   ],
   "source": [
    "%run Data_preprocessing_v1.ipynb"
   ]
  },
  {
   "cell_type": "code",
   "execution_count": 98,
   "id": "4aa393c8",
   "metadata": {
    "ExecuteTime": {
     "end_time": "2022-12-04T13:36:31.218584Z",
     "start_time": "2022-12-04T13:36:31.215294Z"
    }
   },
   "outputs": [
    {
     "name": "stdout",
     "output_type": "stream",
     "text": [
      "(16760, 54)\n",
      "(2394, 54)\n",
      "(4790, 54)\n"
     ]
    }
   ],
   "source": [
    "print(X_train_selected_t2_norm.shape)\n",
    "print(X_valid_selected_t2_norm.shape)\n",
    "print(X_test_selected_t2_norm.shape)"
   ]
  },
  {
   "cell_type": "markdown",
   "id": "560831ad",
   "metadata": {},
   "source": [
    "# Hyperparameters"
   ]
  },
  {
   "cell_type": "code",
   "execution_count": 99,
   "id": "6fb9fe03",
   "metadata": {
    "ExecuteTime": {
     "end_time": "2022-12-04T13:36:31.231049Z",
     "start_time": "2022-12-04T13:36:31.220825Z"
    }
   },
   "outputs": [],
   "source": [
    "input_size = 54\n",
    "sequence_length = 1\n",
    "output_size = 1 # live or dead\n",
    "num_layers = 3\n",
    "hidden_size=30\n",
    "learning_rate = 0.001\n",
    "batch_size = 64\n",
    "num_epochs = 500\n",
    "l2_lamb = 3.736842105263158e-05"
   ]
  },
  {
   "cell_type": "markdown",
   "id": "9b7e4676",
   "metadata": {},
   "source": [
    "# Create JusNN"
   ]
  },
  {
   "cell_type": "code",
   "execution_count": 100,
   "id": "b8810614",
   "metadata": {
    "ExecuteTime": {
     "end_time": "2022-12-04T13:36:31.238911Z",
     "start_time": "2022-12-04T13:36:31.232448Z"
    }
   },
   "outputs": [],
   "source": [
    "class JusNN(nn.Module):\n",
    "    def __init__(self, input_size, hidden_size, num_layers, output_size):\n",
    "        super(JusNN, self).__init__()\n",
    "        \n",
    "        self.convlayer = nn.Sequential(\n",
    "            nn.Conv1d(in_channels=1, out_channels=6, kernel_size=2, stride=1, padding=0),\n",
    "            nn.AvgPool1d(kernel_size=4,stride=2),\n",
    "            nn.Conv1d(in_channels=6, out_channels=1, kernel_size=2, stride=1, padding=0),\n",
    "            nn.ReLU(),\n",
    "        )\n",
    "        \n",
    "        self.fclayers = nn.Sequential(\n",
    "            nn.Linear(input_size, 50),\n",
    "            nn.ReLU(),\n",
    "            nn.Linear(50, 24),\n",
    "        )\n",
    "        \n",
    "        self.batchnorm1 = nn.BatchNorm1d(59)\n",
    "        #self.batchnorm2 = nn.BatchNorm1d(30)\n",
    "        #self.dropout = nn.Dropout(p=0.5)\n",
    "        \n",
    "        self.fc1 = nn.Linear(24, 1)\n",
    "        \n",
    "    def forward(self, x):\n",
    "         x1 = F.leaky_relu(self.fclayers(x))\n",
    "         #print(x1.shape)\n",
    "         x2 = self.convlayer(x)\n",
    "         #print(x2.shape)\n",
    "            \n",
    "         x3 = x1+x2\n",
    "         x3 = self.fc1(x3)\n",
    "         return x3"
   ]
  },
  {
   "cell_type": "markdown",
   "id": "076d6376",
   "metadata": {},
   "source": [
    "# Data transform"
   ]
  },
  {
   "cell_type": "code",
   "execution_count": 101,
   "id": "d7e4872c",
   "metadata": {
    "ExecuteTime": {
     "end_time": "2022-12-04T13:36:31.246848Z",
     "start_time": "2022-12-04T13:36:31.240310Z"
    }
   },
   "outputs": [],
   "source": [
    "class CusDatasetLoader(Dataset):\n",
    "    def __init__(self,x,y):\n",
    "        self.len = y.shape[0]\n",
    "        self.x_data = x\n",
    "        self.y_data = y\n",
    "  \n",
    "    def __len__(self):\n",
    "        return self.len\n",
    "\n",
    "    def __getitem__(self, index):\n",
    "        #return self.dataframe.iloc[index]\n",
    "        return self.x_data[index], self.y_data[index]"
   ]
  },
  {
   "cell_type": "code",
   "execution_count": 102,
   "id": "456be776",
   "metadata": {
    "ExecuteTime": {
     "end_time": "2022-12-04T13:36:31.253406Z",
     "start_time": "2022-12-04T13:36:31.248026Z"
    }
   },
   "outputs": [],
   "source": [
    "# X_shape(X) : used for split the data into a right tensor size\n",
    "#input: X in shape of 16760 rows × 7488 columns (df)\n",
    "#output: X in shape of torch.Size([16760, 312, 24]) (tensor)\n",
    "def X_shape(X):\n",
    "    X_tensor = torch.from_numpy(np.array(X)).to(torch.float32)\n",
    "    X_tensor = torch.split(X_tensor,1)\n",
    "    X_tensor = torch.stack(X_tensor)\n",
    "    print(\"X now in shape of\",X_tensor.shape)\n",
    "    return X_tensor\n",
    "\n",
    "# y_tensor(y) : used for split the data into a right tensor size\n",
    "#input: X in shape of 16760 rows × 7488 columns (df)\n",
    "#output: X in shape of torch.Size([16760, 312, 24]) (tensor)\n",
    "def y_tensor(y):\n",
    "    y= torch.from_numpy(np.array(y)).to(torch.float32).reshape(len(y),1)\n",
    "    print(\"y now in shape of\",y.shape)\n",
    "    return y"
   ]
  },
  {
   "cell_type": "code",
   "execution_count": 103,
   "id": "006849f5",
   "metadata": {
    "ExecuteTime": {
     "end_time": "2022-12-04T13:36:31.306990Z",
     "start_time": "2022-12-04T13:36:31.255060Z"
    }
   },
   "outputs": [
    {
     "name": "stdout",
     "output_type": "stream",
     "text": [
      "X now in shape of torch.Size([16760, 1, 54])\n",
      "y now in shape of torch.Size([16760, 1])\n",
      "torch.Size([1, 54])\n",
      "torch.Size([1])\n"
     ]
    }
   ],
   "source": [
    "# X should be in smaples, 1, squence, rows\n",
    "X1 = X_shape(X_train_selected_t2_norm)\n",
    "y1 = y_tensor(y_train_t2.iloc[:,-1])\n",
    "\n",
    "train_datasets = CusDatasetLoader(X1, y1)\n",
    "train_loader = DataLoader(dataset=train_datasets, batch_size=batch_size, shuffle=True)\n",
    "\n",
    "x,y = train_datasets[0]\n",
    "print(x.shape)\n",
    "print(y.shape)"
   ]
  },
  {
   "cell_type": "markdown",
   "id": "e366eb01",
   "metadata": {},
   "source": [
    "# Model train"
   ]
  },
  {
   "cell_type": "code",
   "execution_count": 104,
   "id": "6443333a",
   "metadata": {
    "ExecuteTime": {
     "end_time": "2022-12-04T13:36:31.313951Z",
     "start_time": "2022-12-04T13:36:31.309178Z"
    }
   },
   "outputs": [],
   "source": [
    "model = JusNN(input_size, hidden_size, num_layers, output_size).to(device)"
   ]
  },
  {
   "cell_type": "code",
   "execution_count": 105,
   "id": "afa986f2",
   "metadata": {
    "ExecuteTime": {
     "end_time": "2022-12-04T13:36:31.319979Z",
     "start_time": "2022-12-04T13:36:31.316696Z"
    }
   },
   "outputs": [],
   "source": [
    "criterion = nn.MSELoss()\n",
    "optimizer = optim.Adadelta(model.parameters(), lr = learning_rate)"
   ]
  },
  {
   "cell_type": "code",
   "execution_count": null,
   "id": "680547a7",
   "metadata": {
    "ExecuteTime": {
     "start_time": "2022-12-04T13:36:30.818Z"
    },
    "scrolled": true
   },
   "outputs": [
    {
     "name": "stdout",
     "output_type": "stream",
     "text": [
      "Epoch 000: | Loss: 13.14327 \n",
      "Epoch 005: | Loss: 10.60819 \n",
      "Epoch 010: | Loss: 10.91332 \n",
      "Epoch 015: | Loss: 3.99480 \n",
      "Epoch 020: | Loss: 3.79702 \n",
      "Epoch 025: | Loss: 4.64056 \n",
      "Epoch 030: | Loss: 4.64872 \n",
      "Epoch 035: | Loss: 4.35288 \n",
      "Epoch 040: | Loss: 3.70750 \n",
      "Epoch 045: | Loss: 5.32225 \n",
      "Epoch 050: | Loss: 3.13420 \n",
      "Epoch 055: | Loss: 4.17216 \n",
      "Epoch 060: | Loss: 5.01241 \n",
      "Epoch 065: | Loss: 4.97938 \n",
      "Epoch 070: | Loss: 5.20045 \n",
      "Epoch 075: | Loss: 4.00965 \n",
      "Epoch 080: | Loss: 2.88887 \n",
      "Epoch 085: | Loss: 4.81045 \n",
      "Epoch 090: | Loss: 4.58214 \n",
      "Epoch 095: | Loss: 4.24337 \n",
      "Epoch 100: | Loss: 2.89912 \n",
      "Epoch 105: | Loss: 4.28744 \n",
      "Epoch 110: | Loss: 4.91097 \n",
      "Epoch 115: | Loss: 4.81375 \n",
      "Epoch 120: | Loss: 3.41564 \n",
      "Epoch 125: | Loss: 4.48507 \n",
      "Epoch 130: | Loss: 3.73829 \n",
      "Epoch 135: | Loss: 2.99373 \n",
      "Epoch 140: | Loss: 6.67249 \n",
      "Epoch 145: | Loss: 4.74151 \n",
      "Epoch 150: | Loss: 5.29865 \n",
      "Epoch 155: | Loss: 3.98525 \n",
      "Epoch 160: | Loss: 4.92351 \n",
      "Epoch 165: | Loss: 4.67455 \n",
      "Epoch 170: | Loss: 4.30788 \n",
      "Epoch 175: | Loss: 4.62589 \n",
      "Epoch 180: | Loss: 3.51149 \n",
      "Epoch 185: | Loss: 2.51399 \n",
      "Epoch 190: | Loss: 4.02215 \n",
      "Epoch 195: | Loss: 2.36302 \n",
      "Epoch 200: | Loss: 2.37038 \n",
      "Epoch 205: | Loss: 3.20593 \n",
      "Epoch 210: | Loss: 3.75114 \n",
      "Epoch 215: | Loss: 2.78598 \n",
      "Epoch 220: | Loss: 3.56859 \n",
      "Epoch 225: | Loss: 6.67796 \n",
      "Epoch 230: | Loss: 4.11715 \n",
      "Epoch 235: | Loss: 3.05224 \n",
      "Epoch 240: | Loss: 3.61217 \n",
      "Epoch 245: | Loss: 4.76831 \n",
      "Epoch 250: | Loss: 3.13851 \n",
      "Epoch 255: | Loss: 4.04039 \n",
      "Epoch 260: | Loss: 3.69628 \n",
      "Epoch 265: | Loss: 2.66452 \n",
      "Epoch 270: | Loss: 4.16938 \n",
      "Epoch 275: | Loss: 2.30297 \n",
      "Epoch 280: | Loss: 5.66205 \n",
      "Epoch 285: | Loss: 3.58307 \n",
      "Epoch 290: | Loss: 3.88043 \n",
      "Epoch 295: | Loss: 4.58817 \n",
      "Epoch 300: | Loss: 3.21784 \n",
      "Epoch 305: | Loss: 2.82704 \n",
      "Epoch 310: | Loss: 2.64713 \n",
      "Epoch 315: | Loss: 3.36948 \n",
      "Epoch 320: | Loss: 2.24526 \n",
      "Epoch 325: | Loss: 4.20513 \n",
      "Epoch 330: | Loss: 3.87720 \n",
      "Epoch 335: | Loss: 4.56667 \n",
      "Epoch 340: | Loss: 3.87406 \n",
      "Epoch 345: | Loss: 4.66674 \n",
      "Epoch 350: | Loss: 4.16937 \n",
      "Epoch 355: | Loss: 4.16284 \n",
      "Epoch 360: | Loss: 3.15502 \n",
      "Epoch 365: | Loss: 3.02340 \n",
      "Epoch 370: | Loss: 3.37684 \n",
      "Epoch 375: | Loss: 3.70752 \n",
      "Epoch 380: | Loss: 3.90716 \n",
      "Epoch 385: | Loss: 3.62556 \n",
      "Epoch 390: | Loss: 4.15065 \n"
     ]
    }
   ],
   "source": [
    "losses=[]\n",
    "acc_list=[]\n",
    "for epoch in range(num_epochs):\n",
    "    for batch_idx, (data, targets) in enumerate(train_loader):\n",
    "        data = data.permute(0,1,2)\n",
    "        #print(data.shape)\n",
    "        data = data.to(device=device)\n",
    "        targets = targets.to(device=device)\n",
    "        targets = torch.squeeze(targets, 1)\n",
    "        #print(targets)\n",
    "        \n",
    "        # forward\n",
    "        scores = model(data)\n",
    "        #print(scores.shape)\n",
    "        loss = criterion(scores, targets)\n",
    "        l2_lambda = l2_lamb\n",
    "        l2_norm = sum(p.pow(2.0).sum()\n",
    "                  for p in model.parameters())\n",
    " \n",
    "        loss = loss + l2_lambda * l2_norm\n",
    "    \n",
    "        # backward\n",
    "        optimizer.zero_grad()\n",
    "        loss.backward()\n",
    "        \n",
    "        # gradient descent or adam step\n",
    "        optimizer.step()\n",
    "        \n",
    "    if epoch%5 == 0:\n",
    "        losses.append(loss.detach().numpy() )\n",
    "        print(f'Epoch {epoch:03}: | Loss: {loss:.5f} ')\n",
    "        "
   ]
  },
  {
   "cell_type": "markdown",
   "id": "06bcbff7",
   "metadata": {
    "ExecuteTime": {
     "end_time": "2022-10-28T17:23:14.669685Z",
     "start_time": "2022-10-28T17:23:14.663564Z"
    }
   },
   "source": [
    "# Model RMSE"
   ]
  },
  {
   "cell_type": "code",
   "execution_count": null,
   "id": "48a94a4e",
   "metadata": {
    "ExecuteTime": {
     "start_time": "2022-12-04T13:36:30.820Z"
    }
   },
   "outputs": [],
   "source": [
    "def rmse(predictions, targets):\n",
    "    return np.sqrt(((predictions - targets) ** 2).mean())\n",
    "\n",
    "def check_rmse(loader, model):\n",
    "\n",
    "    # Set model to eval\n",
    "    model.eval()\n",
    "\n",
    "    with torch.no_grad():\n",
    "        for data, targets in loader:\n",
    "            data = data.permute(0,1,2)\n",
    "            #print(data.shape)\n",
    "            data = data.to(device=device)\n",
    "            targets = targets.to(device=device)\n",
    "            targets = torch.squeeze(targets, 1)\n",
    "\n",
    "            scores = model(data)\n",
    "            res = rmse(scores,targets)\n",
    "        \n",
    "            \n",
    "    # Toggle model back to train\n",
    "    model.train()\n",
    "    return res\n",
    "    "
   ]
  },
  {
   "cell_type": "code",
   "execution_count": null,
   "id": "7194f3f0",
   "metadata": {
    "ExecuteTime": {
     "start_time": "2022-12-04T13:36:30.822Z"
    }
   },
   "outputs": [],
   "source": [
    "X2 = X_shape(X_valid_selected_t2_norm)\n",
    "y2 = y_tensor(y_valid_t2.iloc[:,-1])\n",
    "\n",
    "Valid_datasets = CusDatasetLoader(X2, y2)\n",
    "Valid_loader = DataLoader(dataset=train_datasets, batch_size=batch_size, shuffle=True)\n",
    "print(f\"RMSE on test set: {check_rmse(Valid_loader, model)}\")"
   ]
  },
  {
   "cell_type": "markdown",
   "id": "b16acbcd",
   "metadata": {
    "heading_collapsed": true
   },
   "source": [
    "# Test"
   ]
  },
  {
   "cell_type": "code",
   "execution_count": null,
   "id": "0fc30b2a",
   "metadata": {
    "ExecuteTime": {
     "start_time": "2022-12-04T13:36:30.824Z"
    },
    "hidden": true
   },
   "outputs": [],
   "source": [
    "def test(loader, model):\n",
    "    # Set model to eval\n",
    "    model.eval()\n",
    "    res = torch.tensor([], dtype=torch.int64)\n",
    "    with torch.no_grad():\n",
    "        for x, y in loader:\n",
    "            x = x.to(device=device).permute(0,2,1)\n",
    "            print(x.shape)\n",
    "            y = torch.squeeze(y.to(device=device), 1)\n",
    "            print(y.shape)\n",
    "\n",
    "            scores = model(x)\n",
    "            _, predictions = scores.max(1)\n",
    "            res =  torch.cat((predictions, res), 0)  \n",
    "    model.train()\n",
    "   \n",
    "    return res"
   ]
  },
  {
   "cell_type": "code",
   "execution_count": null,
   "id": "767ccbaa",
   "metadata": {
    "ExecuteTime": {
     "start_time": "2022-12-04T13:36:30.826Z"
    },
    "hidden": true
   },
   "outputs": [],
   "source": [
    "X_test"
   ]
  },
  {
   "cell_type": "code",
   "execution_count": null,
   "id": "66e51253",
   "metadata": {
    "ExecuteTime": {
     "start_time": "2022-12-04T13:36:30.828Z"
    },
    "hidden": true
   },
   "outputs": [],
   "source": [
    "X_test_final = X_shape(X_test)\n",
    "y_final = torch.zeros([4790,1])\n",
    "\n",
    "test_datasets = CusDatasetLoader(X_test_final, y_final)\n",
    "test_loader = DataLoader(dataset=test_datasets, batch_size=batch_size, shuffle=True)\n",
    "\n",
    "result = test(test_loader, model)\n",
    "result"
   ]
  },
  {
   "cell_type": "code",
   "execution_count": null,
   "id": "8747d5c8",
   "metadata": {
    "ExecuteTime": {
     "start_time": "2022-12-04T13:36:30.830Z"
    },
    "hidden": true,
    "scrolled": true
   },
   "outputs": [],
   "source": [
    "\n",
    "#df.index = ['Row_1', 'Row_2', 'Row_3', 'Row_4']\n",
    "res1 = pd.DataFrame(result, columns=[\"Predicted\"])\n",
    "res1.index = X_test.index\n",
    "res1.index.name = 'Id'\n",
    "pd.DataFrame(res1).to_csv('out.csv')\n"
   ]
  },
  {
   "cell_type": "markdown",
   "id": "27ca623b",
   "metadata": {},
   "source": [
    "#"
   ]
  },
  {
   "cell_type": "markdown",
   "id": "afa29a40",
   "metadata": {},
   "source": [
    "#"
   ]
  },
  {
   "cell_type": "markdown",
   "id": "b8d38018",
   "metadata": {},
   "source": [
    "#"
   ]
  }
 ],
 "metadata": {
  "kernelspec": {
   "display_name": "comp3340",
   "language": "python",
   "name": "comp3340"
  },
  "language_info": {
   "codemirror_mode": {
    "name": "ipython",
    "version": 3
   },
   "file_extension": ".py",
   "mimetype": "text/x-python",
   "name": "python",
   "nbconvert_exporter": "python",
   "pygments_lexer": "ipython3",
   "version": "3.7.7"
  },
  "toc": {
   "base_numbering": 1,
   "nav_menu": {},
   "number_sections": true,
   "sideBar": true,
   "skip_h1_title": false,
   "title_cell": "Table of Contents",
   "title_sidebar": "Contents",
   "toc_cell": false,
   "toc_position": {},
   "toc_section_display": true,
   "toc_window_display": true
  }
 },
 "nbformat": 4,
 "nbformat_minor": 5
}
