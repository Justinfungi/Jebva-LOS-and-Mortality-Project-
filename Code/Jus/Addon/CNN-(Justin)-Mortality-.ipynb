{
 "cells": [
  {
   "cell_type": "markdown",
   "id": "970d9aef",
   "metadata": {},
   "source": [
    "# Libraries"
   ]
  },
  {
   "cell_type": "code",
   "execution_count": 10,
   "id": "71cace5d",
   "metadata": {
    "ExecuteTime": {
     "end_time": "2022-11-27T12:11:49.953152Z",
     "start_time": "2022-11-27T12:11:49.949148Z"
    }
   },
   "outputs": [],
   "source": [
    "import torch\n",
    "import torchvision\n",
    "import torch.nn as nn\n",
    "import torch.optim as optim\n",
    "import torch.nn.functional as F\n",
    "from torch.utils.data import Dataset, DataLoader\n",
    "import torchvision.transforms as transforms"
   ]
  },
  {
   "cell_type": "code",
   "execution_count": 11,
   "id": "8735b622",
   "metadata": {
    "ExecuteTime": {
     "end_time": "2022-11-27T12:11:49.960077Z",
     "start_time": "2022-11-27T12:11:49.955426Z"
    }
   },
   "outputs": [],
   "source": [
    "device = torch.device(\"cuda\" if torch.cuda.is_available() else \"cpu\")"
   ]
  },
  {
   "cell_type": "markdown",
   "id": "e5e3db1d",
   "metadata": {
    "ExecuteTime": {
     "end_time": "2022-10-27T03:47:12.458066Z",
     "start_time": "2022-10-27T03:47:12.452095Z"
    }
   },
   "source": [
    "# Import data"
   ]
  },
  {
   "cell_type": "code",
   "execution_count": 12,
   "id": "c7c7a26f",
   "metadata": {
    "ExecuteTime": {
     "end_time": "2022-11-27T12:12:18.665935Z",
     "start_time": "2022-11-27T12:11:49.962070Z"
    }
   },
   "outputs": [
    {
     "name": "stdout",
     "output_type": "stream",
     "text": [
      "************************************************************\n",
      "There are 6 set of X\n",
      "X_*_nozero\n",
      "------------------------------------------------------------\n",
      "Normalized version\n",
      "X_*_norm\n",
      "------------------------------------------------------------\n",
      "There are 4 set of Y\n",
      "y_train_t1, y_train_t2, y_valid_t1, y_valid_t2\n",
      "when training, please use: 'y_train_t1_value,y_train_t2_value,y_valid_t1_value,y_valid_t2_value'\n",
      "************************************************************\n"
     ]
    }
   ],
   "source": [
    "%run Data_preprocessing.ipynb"
   ]
  },
  {
   "cell_type": "code",
   "execution_count": 13,
   "id": "4aa393c8",
   "metadata": {
    "ExecuteTime": {
     "end_time": "2022-11-27T12:12:18.671937Z",
     "start_time": "2022-11-27T12:12:18.669057Z"
    }
   },
   "outputs": [
    {
     "name": "stdout",
     "output_type": "stream",
     "text": [
      "(16760, 61)\n",
      "(2394, 61)\n",
      "(4790, 61)\n"
     ]
    }
   ],
   "source": [
    "print(X_train_norm.shape)\n",
    "print(X_valid_norm.shape)\n",
    "print(X_test_norm.shape)"
   ]
  },
  {
   "cell_type": "markdown",
   "id": "560831ad",
   "metadata": {},
   "source": [
    "# Hyperparameters"
   ]
  },
  {
   "cell_type": "code",
   "execution_count": 69,
   "id": "6fb9fe03",
   "metadata": {
    "ExecuteTime": {
     "end_time": "2022-11-27T12:35:31.397589Z",
     "start_time": "2022-11-27T12:35:31.394561Z"
    }
   },
   "outputs": [],
   "source": [
    "input_size = 61# 7488/24\n",
    "output_size = 1 \n",
    "hidden_size=256\n",
    "learning_rate = 0.01\n",
    "batch_size = 64\n",
    "num_epochs = 2"
   ]
  },
  {
   "cell_type": "markdown",
   "id": "9b7e4676",
   "metadata": {},
   "source": [
    "# Create CNN"
   ]
  },
  {
   "cell_type": "code",
   "execution_count": 24,
   "id": "c00d907c",
   "metadata": {
    "ExecuteTime": {
     "end_time": "2022-11-27T12:14:00.950390Z",
     "start_time": "2022-11-27T12:14:00.945182Z"
    }
   },
   "outputs": [],
   "source": [
    "class CNN(nn.Module):\n",
    "    def __init__(self, input_size, output_size):\n",
    "        super(CNN, self).__init__()\n",
    "        self.convlayer = nn.Sequential(\n",
    "            nn.Conv1d(in_channels=1, out_channels=6, kernel_size=1, stride=1, padding=0, dilation=0),\n",
    "            nn.ReLU(),\n",
    "            nn.Conv1d(in_channels=6, out_channels=1, kernel_size=1, stride=1, padding=0, dilation=0),\n",
    "            nn.ReLU(),\n",
    "        )\n",
    "        \n",
    "        self.fclayers = nn.Sequential(\n",
    "            nn.Linear(input_size, 30),\n",
    "            nn.Linear(30, output_size),\n",
    "        )\n",
    "        \n",
    "        #self.dropout = nn.Dropout(p=0.5)\n",
    "        \n",
    "    def forward(self, x):\n",
    "         x = self.convlayer(x)\n",
    "         x = x.view(-1,61)\n",
    "         x = self.fclayers(x)\n",
    "         #x = torch.argmax(x)\n",
    "         return x"
   ]
  },
  {
   "cell_type": "markdown",
   "id": "076d6376",
   "metadata": {},
   "source": [
    "# Data transform"
   ]
  },
  {
   "cell_type": "code",
   "execution_count": 25,
   "id": "d7e4872c",
   "metadata": {
    "ExecuteTime": {
     "end_time": "2022-11-27T12:14:04.364550Z",
     "start_time": "2022-11-27T12:14:04.358290Z"
    }
   },
   "outputs": [],
   "source": [
    "class CusDatasetLoader(Dataset):\n",
    "    def __init__(self,x,y):\n",
    "        self.len = y.shape[0]\n",
    "        self.x_data = x\n",
    "        self.y_data = y\n",
    "  \n",
    "    def __len__(self):\n",
    "        return self.len\n",
    "\n",
    "    def __getitem__(self, index):\n",
    "        #return self.dataframe.iloc[index]\n",
    "        return self.x_data[index], self.y_data[index]"
   ]
  },
  {
   "cell_type": "code",
   "execution_count": 26,
   "id": "456be776",
   "metadata": {
    "ExecuteTime": {
     "end_time": "2022-11-27T12:14:04.377870Z",
     "start_time": "2022-11-27T12:14:04.367125Z"
    }
   },
   "outputs": [],
   "source": [
    "# X_shape(X) : used for split the data into a right tensor size\n",
    "#input: X in shape of 16760 rows × 104 columns (df)\n",
    "#output: X in shape of torch.Size([16760, 104, 1]) (tensor)\n",
    "def X_tensor(X):\n",
    "    X_tensor = torch.from_numpy(np.array(X)).to(torch.float32)\n",
    "    X_tensor = torch.split(X_tensor,1,1)\n",
    "    X_tensor = torch.stack(X_tensor).permute(1, 0, 2)\n",
    "    print(\"X now in shape of\",X_tensor.shape)\n",
    "    return X_tensor\n",
    "\n",
    "# y_tensor(y) : used for split the data into a right tensor size\n",
    "#input: X in shape of 16760 rows × 7488 columns (df)\n",
    "#output: X in shape of torch.Size([16760, 312, 24]) (tensor)\n",
    "def y_tensor(y):\n",
    "    y= torch.from_numpy(np.array(y)).to(torch.float32).reshape(len(y),1)\n",
    "    print(\"y now in shape of\",y.shape)\n",
    "    return y"
   ]
  },
  {
   "cell_type": "code",
   "execution_count": 60,
   "id": "006849f5",
   "metadata": {
    "ExecuteTime": {
     "end_time": "2022-11-27T12:32:27.433901Z",
     "start_time": "2022-11-27T12:32:27.426940Z"
    }
   },
   "outputs": [
    {
     "name": "stdout",
     "output_type": "stream",
     "text": [
      "X now in shape of torch.Size([16760, 61, 1])\n",
      "y now in shape of torch.Size([16760, 1])\n",
      "torch.Size([61, 1])\n",
      "torch.Size([1])\n"
     ]
    }
   ],
   "source": [
    "# X should be in smaples, channel, rows\n",
    "X1 = X_tensor(X_train_norm)\n",
    "y2 = y_tensor(y_train_t2.iloc[:,-1])\n",
    "\n",
    "train_datasets = CusDatasetLoader(X1, y2)\n",
    "train_loader = DataLoader(dataset=train_datasets, batch_size=batch_size, shuffle=True)\n",
    "\n",
    "x,y = train_datasets[0]\n",
    "print(x.shape)\n",
    "print(y.shape)"
   ]
  },
  {
   "cell_type": "markdown",
   "id": "e366eb01",
   "metadata": {},
   "source": [
    "# Model train"
   ]
  },
  {
   "cell_type": "code",
   "execution_count": 66,
   "id": "6443333a",
   "metadata": {
    "ExecuteTime": {
     "end_time": "2022-11-27T12:34:42.261382Z",
     "start_time": "2022-11-27T12:34:42.255939Z"
    }
   },
   "outputs": [],
   "source": [
    "model = CNN(input_size, output_size).to(device)"
   ]
  },
  {
   "cell_type": "code",
   "execution_count": 67,
   "id": "afa986f2",
   "metadata": {
    "ExecuteTime": {
     "end_time": "2022-11-27T12:34:43.457472Z",
     "start_time": "2022-11-27T12:34:43.452965Z"
    }
   },
   "outputs": [],
   "source": [
    "criterion = nn.MSELoss()\n",
    "optimizer = optim.Adam(model.parameters(), lr = learning_rate)"
   ]
  },
  {
   "cell_type": "code",
   "execution_count": 68,
   "id": "680547a7",
   "metadata": {
    "ExecuteTime": {
     "end_time": "2022-11-27T12:34:44.542640Z",
     "start_time": "2022-11-27T12:34:44.512752Z"
    },
    "scrolled": true
   },
   "outputs": [
    {
     "ename": "RuntimeError",
     "evalue": "Given groups=1, weight of size [6, 1, 1], expected input[64, 61, 1] to have 1 channels, but got 61 channels instead",
     "output_type": "error",
     "traceback": [
      "\u001b[0;31m---------------------------------------------------------------------------\u001b[0m",
      "\u001b[0;31mRuntimeError\u001b[0m                              Traceback (most recent call last)",
      "\u001b[0;32m/tmp/ipykernel_65450/3556892005.py\u001b[0m in \u001b[0;36m<module>\u001b[0;34m\u001b[0m\n\u001b[1;32m     12\u001b[0m \u001b[0;34m\u001b[0m\u001b[0m\n\u001b[1;32m     13\u001b[0m         \u001b[0;31m# forward\u001b[0m\u001b[0;34m\u001b[0m\u001b[0;34m\u001b[0m\u001b[0;34m\u001b[0m\u001b[0m\n\u001b[0;32m---> 14\u001b[0;31m         \u001b[0mscores\u001b[0m \u001b[0;34m=\u001b[0m \u001b[0mmodel\u001b[0m\u001b[0;34m(\u001b[0m\u001b[0mdata\u001b[0m\u001b[0;34m)\u001b[0m\u001b[0;34m\u001b[0m\u001b[0;34m\u001b[0m\u001b[0m\n\u001b[0m\u001b[1;32m     15\u001b[0m         \u001b[0;31m#print(scores)\u001b[0m\u001b[0;34m\u001b[0m\u001b[0;34m\u001b[0m\u001b[0;34m\u001b[0m\u001b[0m\n\u001b[1;32m     16\u001b[0m         \u001b[0mloss\u001b[0m \u001b[0;34m=\u001b[0m \u001b[0mcriterion\u001b[0m\u001b[0;34m(\u001b[0m\u001b[0mscores\u001b[0m\u001b[0;34m,\u001b[0m \u001b[0mtargets\u001b[0m\u001b[0;34m)\u001b[0m\u001b[0;34m\u001b[0m\u001b[0;34m\u001b[0m\u001b[0m\n",
      "\u001b[0;32m~/anaconda3/envs/comp3340/lib/python3.7/site-packages/torch/nn/modules/module.py\u001b[0m in \u001b[0;36m_call_impl\u001b[0;34m(self, *input, **kwargs)\u001b[0m\n\u001b[1;32m    725\u001b[0m             \u001b[0mresult\u001b[0m \u001b[0;34m=\u001b[0m \u001b[0mself\u001b[0m\u001b[0;34m.\u001b[0m\u001b[0m_slow_forward\u001b[0m\u001b[0;34m(\u001b[0m\u001b[0;34m*\u001b[0m\u001b[0minput\u001b[0m\u001b[0;34m,\u001b[0m \u001b[0;34m**\u001b[0m\u001b[0mkwargs\u001b[0m\u001b[0;34m)\u001b[0m\u001b[0;34m\u001b[0m\u001b[0;34m\u001b[0m\u001b[0m\n\u001b[1;32m    726\u001b[0m         \u001b[0;32melse\u001b[0m\u001b[0;34m:\u001b[0m\u001b[0;34m\u001b[0m\u001b[0;34m\u001b[0m\u001b[0m\n\u001b[0;32m--> 727\u001b[0;31m             \u001b[0mresult\u001b[0m \u001b[0;34m=\u001b[0m \u001b[0mself\u001b[0m\u001b[0;34m.\u001b[0m\u001b[0mforward\u001b[0m\u001b[0;34m(\u001b[0m\u001b[0;34m*\u001b[0m\u001b[0minput\u001b[0m\u001b[0;34m,\u001b[0m \u001b[0;34m**\u001b[0m\u001b[0mkwargs\u001b[0m\u001b[0;34m)\u001b[0m\u001b[0;34m\u001b[0m\u001b[0;34m\u001b[0m\u001b[0m\n\u001b[0m\u001b[1;32m    728\u001b[0m         for hook in itertools.chain(\n\u001b[1;32m    729\u001b[0m                 \u001b[0m_global_forward_hooks\u001b[0m\u001b[0;34m.\u001b[0m\u001b[0mvalues\u001b[0m\u001b[0;34m(\u001b[0m\u001b[0;34m)\u001b[0m\u001b[0;34m,\u001b[0m\u001b[0;34m\u001b[0m\u001b[0;34m\u001b[0m\u001b[0m\n",
      "\u001b[0;32m/tmp/ipykernel_65450/3044574476.py\u001b[0m in \u001b[0;36mforward\u001b[0;34m(self, x)\u001b[0m\n\u001b[1;32m     17\u001b[0m \u001b[0;34m\u001b[0m\u001b[0m\n\u001b[1;32m     18\u001b[0m     \u001b[0;32mdef\u001b[0m \u001b[0mforward\u001b[0m\u001b[0;34m(\u001b[0m\u001b[0mself\u001b[0m\u001b[0;34m,\u001b[0m \u001b[0mx\u001b[0m\u001b[0;34m)\u001b[0m\u001b[0;34m:\u001b[0m\u001b[0;34m\u001b[0m\u001b[0;34m\u001b[0m\u001b[0m\n\u001b[0;32m---> 19\u001b[0;31m          \u001b[0mx\u001b[0m \u001b[0;34m=\u001b[0m \u001b[0mself\u001b[0m\u001b[0;34m.\u001b[0m\u001b[0mconvlayer\u001b[0m\u001b[0;34m(\u001b[0m\u001b[0mx\u001b[0m\u001b[0;34m)\u001b[0m\u001b[0;34m\u001b[0m\u001b[0;34m\u001b[0m\u001b[0m\n\u001b[0m\u001b[1;32m     20\u001b[0m          \u001b[0mx\u001b[0m \u001b[0;34m=\u001b[0m \u001b[0mx\u001b[0m\u001b[0;34m.\u001b[0m\u001b[0mview\u001b[0m\u001b[0;34m(\u001b[0m\u001b[0;34m-\u001b[0m\u001b[0;36m1\u001b[0m\u001b[0;34m,\u001b[0m\u001b[0;36m61\u001b[0m\u001b[0;34m)\u001b[0m\u001b[0;34m\u001b[0m\u001b[0;34m\u001b[0m\u001b[0m\n\u001b[1;32m     21\u001b[0m          \u001b[0mx\u001b[0m \u001b[0;34m=\u001b[0m \u001b[0mself\u001b[0m\u001b[0;34m.\u001b[0m\u001b[0mfclayers\u001b[0m\u001b[0;34m(\u001b[0m\u001b[0mx\u001b[0m\u001b[0;34m)\u001b[0m\u001b[0;34m\u001b[0m\u001b[0;34m\u001b[0m\u001b[0m\n",
      "\u001b[0;32m~/anaconda3/envs/comp3340/lib/python3.7/site-packages/torch/nn/modules/module.py\u001b[0m in \u001b[0;36m_call_impl\u001b[0;34m(self, *input, **kwargs)\u001b[0m\n\u001b[1;32m    725\u001b[0m             \u001b[0mresult\u001b[0m \u001b[0;34m=\u001b[0m \u001b[0mself\u001b[0m\u001b[0;34m.\u001b[0m\u001b[0m_slow_forward\u001b[0m\u001b[0;34m(\u001b[0m\u001b[0;34m*\u001b[0m\u001b[0minput\u001b[0m\u001b[0;34m,\u001b[0m \u001b[0;34m**\u001b[0m\u001b[0mkwargs\u001b[0m\u001b[0;34m)\u001b[0m\u001b[0;34m\u001b[0m\u001b[0;34m\u001b[0m\u001b[0m\n\u001b[1;32m    726\u001b[0m         \u001b[0;32melse\u001b[0m\u001b[0;34m:\u001b[0m\u001b[0;34m\u001b[0m\u001b[0;34m\u001b[0m\u001b[0m\n\u001b[0;32m--> 727\u001b[0;31m             \u001b[0mresult\u001b[0m \u001b[0;34m=\u001b[0m \u001b[0mself\u001b[0m\u001b[0;34m.\u001b[0m\u001b[0mforward\u001b[0m\u001b[0;34m(\u001b[0m\u001b[0;34m*\u001b[0m\u001b[0minput\u001b[0m\u001b[0;34m,\u001b[0m \u001b[0;34m**\u001b[0m\u001b[0mkwargs\u001b[0m\u001b[0;34m)\u001b[0m\u001b[0;34m\u001b[0m\u001b[0;34m\u001b[0m\u001b[0m\n\u001b[0m\u001b[1;32m    728\u001b[0m         for hook in itertools.chain(\n\u001b[1;32m    729\u001b[0m                 \u001b[0m_global_forward_hooks\u001b[0m\u001b[0;34m.\u001b[0m\u001b[0mvalues\u001b[0m\u001b[0;34m(\u001b[0m\u001b[0;34m)\u001b[0m\u001b[0;34m,\u001b[0m\u001b[0;34m\u001b[0m\u001b[0;34m\u001b[0m\u001b[0m\n",
      "\u001b[0;32m~/anaconda3/envs/comp3340/lib/python3.7/site-packages/torch/nn/modules/container.py\u001b[0m in \u001b[0;36mforward\u001b[0;34m(self, input)\u001b[0m\n\u001b[1;32m    115\u001b[0m     \u001b[0;32mdef\u001b[0m \u001b[0mforward\u001b[0m\u001b[0;34m(\u001b[0m\u001b[0mself\u001b[0m\u001b[0;34m,\u001b[0m \u001b[0minput\u001b[0m\u001b[0;34m)\u001b[0m\u001b[0;34m:\u001b[0m\u001b[0;34m\u001b[0m\u001b[0;34m\u001b[0m\u001b[0m\n\u001b[1;32m    116\u001b[0m         \u001b[0;32mfor\u001b[0m \u001b[0mmodule\u001b[0m \u001b[0;32min\u001b[0m \u001b[0mself\u001b[0m\u001b[0;34m:\u001b[0m\u001b[0;34m\u001b[0m\u001b[0;34m\u001b[0m\u001b[0m\n\u001b[0;32m--> 117\u001b[0;31m             \u001b[0minput\u001b[0m \u001b[0;34m=\u001b[0m \u001b[0mmodule\u001b[0m\u001b[0;34m(\u001b[0m\u001b[0minput\u001b[0m\u001b[0;34m)\u001b[0m\u001b[0;34m\u001b[0m\u001b[0;34m\u001b[0m\u001b[0m\n\u001b[0m\u001b[1;32m    118\u001b[0m         \u001b[0;32mreturn\u001b[0m \u001b[0minput\u001b[0m\u001b[0;34m\u001b[0m\u001b[0;34m\u001b[0m\u001b[0m\n\u001b[1;32m    119\u001b[0m \u001b[0;34m\u001b[0m\u001b[0m\n",
      "\u001b[0;32m~/anaconda3/envs/comp3340/lib/python3.7/site-packages/torch/nn/modules/module.py\u001b[0m in \u001b[0;36m_call_impl\u001b[0;34m(self, *input, **kwargs)\u001b[0m\n\u001b[1;32m    725\u001b[0m             \u001b[0mresult\u001b[0m \u001b[0;34m=\u001b[0m \u001b[0mself\u001b[0m\u001b[0;34m.\u001b[0m\u001b[0m_slow_forward\u001b[0m\u001b[0;34m(\u001b[0m\u001b[0;34m*\u001b[0m\u001b[0minput\u001b[0m\u001b[0;34m,\u001b[0m \u001b[0;34m**\u001b[0m\u001b[0mkwargs\u001b[0m\u001b[0;34m)\u001b[0m\u001b[0;34m\u001b[0m\u001b[0;34m\u001b[0m\u001b[0m\n\u001b[1;32m    726\u001b[0m         \u001b[0;32melse\u001b[0m\u001b[0;34m:\u001b[0m\u001b[0;34m\u001b[0m\u001b[0;34m\u001b[0m\u001b[0m\n\u001b[0;32m--> 727\u001b[0;31m             \u001b[0mresult\u001b[0m \u001b[0;34m=\u001b[0m \u001b[0mself\u001b[0m\u001b[0;34m.\u001b[0m\u001b[0mforward\u001b[0m\u001b[0;34m(\u001b[0m\u001b[0;34m*\u001b[0m\u001b[0minput\u001b[0m\u001b[0;34m,\u001b[0m \u001b[0;34m**\u001b[0m\u001b[0mkwargs\u001b[0m\u001b[0;34m)\u001b[0m\u001b[0;34m\u001b[0m\u001b[0;34m\u001b[0m\u001b[0m\n\u001b[0m\u001b[1;32m    728\u001b[0m         for hook in itertools.chain(\n\u001b[1;32m    729\u001b[0m                 \u001b[0m_global_forward_hooks\u001b[0m\u001b[0;34m.\u001b[0m\u001b[0mvalues\u001b[0m\u001b[0;34m(\u001b[0m\u001b[0;34m)\u001b[0m\u001b[0;34m,\u001b[0m\u001b[0;34m\u001b[0m\u001b[0;34m\u001b[0m\u001b[0m\n",
      "\u001b[0;32m~/anaconda3/envs/comp3340/lib/python3.7/site-packages/torch/nn/modules/conv.py\u001b[0m in \u001b[0;36mforward\u001b[0;34m(self, input)\u001b[0m\n\u001b[1;32m    257\u001b[0m                             _single(0), self.dilation, self.groups)\n\u001b[1;32m    258\u001b[0m         return F.conv1d(input, self.weight, self.bias, self.stride,\n\u001b[0;32m--> 259\u001b[0;31m                         self.padding, self.dilation, self.groups)\n\u001b[0m\u001b[1;32m    260\u001b[0m \u001b[0;34m\u001b[0m\u001b[0m\n\u001b[1;32m    261\u001b[0m \u001b[0;34m\u001b[0m\u001b[0m\n",
      "\u001b[0;31mRuntimeError\u001b[0m: Given groups=1, weight of size [6, 1, 1], expected input[64, 61, 1] to have 1 channels, but got 61 channels instead"
     ]
    }
   ],
   "source": [
    "losses=[]\n",
    "acc_list=[]\n",
    "\n",
    "for epoch in range(num_epochs):\n",
    "    for batch_idx, (data, targets) in enumerate(train_loader):\n",
    "        num_correct = 0\n",
    "        num_samples = 0\n",
    "        data = data.to(device=device)\n",
    "        targets = targets.to(device=device)\n",
    "        #print(targets)\n",
    "        #targets = torch.squeeze(targets, 1).type(torch.LongTensor)\n",
    "        \n",
    "        # forward\n",
    "        scores = model(data)\n",
    "        #print(scores)\n",
    "        loss = criterion(scores, targets)\n",
    "        \n",
    "        l2_lambda = 5e-05\n",
    "        l2_norm = sum(p.pow(2.0).sum()\n",
    "                  for p in model.parameters())\n",
    " \n",
    "        loss = loss + l2_lambda * l2_norm\n",
    "        \n",
    "        # backward\n",
    "        optimizer.zero_grad()\n",
    "        loss.backward()\n",
    "        \n",
    "        \n",
    "        # gradient descent or adam step\n",
    "        optimizer.step()\n",
    "        \n",
    "    if epoch%5 == 0:\n",
    "        losses.append(loss.detach().numpy() )\n",
    "    print(f'Epoch {epoch:03}: | Loss: {loss:.5f} | Acc: {acc:.3f}')\n",
    "        \n",
    "        "
   ]
  },
  {
   "cell_type": "markdown",
   "id": "06bcbff7",
   "metadata": {
    "ExecuteTime": {
     "end_time": "2022-10-28T17:23:14.669685Z",
     "start_time": "2022-10-28T17:23:14.663564Z"
    }
   },
   "source": [
    "# Model Accuracy"
   ]
  },
  {
   "cell_type": "code",
   "execution_count": 51,
   "id": "48a94a4e",
   "metadata": {
    "ExecuteTime": {
     "end_time": "2022-11-27T12:25:39.229296Z",
     "start_time": "2022-11-27T12:25:39.222578Z"
    }
   },
   "outputs": [],
   "source": [
    "# Check accuracy on training & test to see how good our model\n",
    "def check_accuracy(loader, model):\n",
    "    num_correct = 0\n",
    "    num_samples = 0\n",
    "\n",
    "    # Set model to eval\n",
    "    model.eval()\n",
    "\n",
    "    with torch.no_grad():\n",
    "        for x, y in loader:\n",
    "            x = x.to(device=device).permute(0,2,1)\n",
    "            y = torch.squeeze(y.to(device=device), 1)\n",
    "\n",
    "            scores = model(x)\n",
    "            _, predictions = scores.max(1)\n",
    "            #print(predictions)\n",
    "            #print(torch.count_nonzero(predictions))\n",
    "            num_correct += int((predictions == y).sum())\n",
    "            num_samples += predictions.size(0)\n",
    "            \n",
    "    # Toggle model back to train\n",
    "    model.train()\n",
    "    #print(num_correct , num_samples)\n",
    "    return num_correct / num_samples"
   ]
  },
  {
   "cell_type": "code",
   "execution_count": 52,
   "id": "f370065c",
   "metadata": {
    "ExecuteTime": {
     "end_time": "2022-11-27T12:25:40.831304Z",
     "start_time": "2022-11-27T12:25:40.550566Z"
    }
   },
   "outputs": [
    {
     "name": "stdout",
     "output_type": "stream",
     "text": [
      "Accuracy on training set: 0.000000 %\n"
     ]
    }
   ],
   "source": [
    "print(f\"Accuracy on training set: {check_accuracy(train_loader, model)*100:2f} %\")\n",
    "#print(f\"Accuracy on test set: {check_accuracy(test_loader, model)*100:.2f} %\")"
   ]
  },
  {
   "cell_type": "code",
   "execution_count": 53,
   "id": "7194f3f0",
   "metadata": {
    "ExecuteTime": {
     "end_time": "2022-11-27T12:25:42.830882Z",
     "start_time": "2022-11-27T12:25:42.543611Z"
    }
   },
   "outputs": [
    {
     "name": "stdout",
     "output_type": "stream",
     "text": [
      "X now in shape of torch.Size([2394, 61, 1])\n",
      "y now in shape of torch.Size([2394, 1])\n",
      "Accuracy on test set: 0.00 %\n"
     ]
    }
   ],
   "source": [
    "X2 = X_tensor(X_valid_norm)\n",
    "y2 = y_tensor(y_valid_t1.iloc[:,-1])\n",
    "\n",
    "Valid_datasets = CusDatasetLoader(X2, y2)\n",
    "Valid_loader = DataLoader(dataset=train_datasets, batch_size=batch_size, shuffle=True)\n",
    "print(f\"Accuracy on test set: {check_accuracy(Valid_loader, model)*100:.2f} %\")"
   ]
  },
  {
   "cell_type": "markdown",
   "id": "b16acbcd",
   "metadata": {},
   "source": [
    "# Test"
   ]
  },
  {
   "cell_type": "code",
   "execution_count": 54,
   "id": "0fc30b2a",
   "metadata": {
    "ExecuteTime": {
     "end_time": "2022-11-27T12:25:44.949786Z",
     "start_time": "2022-11-27T12:25:44.945781Z"
    }
   },
   "outputs": [],
   "source": [
    "def test(loader, model):\n",
    "    # Set model to eval\n",
    "    model.eval()\n",
    "    res = torch.tensor([], dtype=torch.int64)\n",
    "    with torch.no_grad():\n",
    "        for x, y in loader:\n",
    "            x = x.to(device=device)\n",
    "            print(x.shape)\n",
    "            y = torch.squeeze(y.to(device=device), 1)\n",
    "            print(y.shape)\n",
    "\n",
    "            scores = model(x)\n",
    "            _, predictions = scores.max(1)\n",
    "            res =  torch.cat((predictions, res), 0)  \n",
    "    model.train()\n",
    "   \n",
    "    return res"
   ]
  },
  {
   "cell_type": "code",
   "execution_count": null,
   "id": "767ccbaa",
   "metadata": {
    "ExecuteTime": {
     "end_time": "2022-11-27T12:14:04.451417Z",
     "start_time": "2022-11-27T12:14:04.451405Z"
    }
   },
   "outputs": [],
   "source": [
    "X_test_mean\n",
    "x_valid_mean=X_test_mean.values\n",
    "x_valid_mean_scaled = scaler.fit_transform(x_valid_mean)\n",
    "X_test_norm=pd.DataFrame(x_valid_mean_scaled)\n",
    "X_test_norm"
   ]
  },
  {
   "cell_type": "code",
   "execution_count": null,
   "id": "66e51253",
   "metadata": {
    "ExecuteTime": {
     "end_time": "2022-11-27T12:14:04.452690Z",
     "start_time": "2022-11-27T12:14:04.452678Z"
    }
   },
   "outputs": [],
   "source": [
    "X_test_final = X_tensor(X_test_norm).permute(0,2,1)\n",
    "y_final = torch.zeros([4790,1])\n",
    "\n",
    "test_datasets = CusDatasetLoader(X_test_final, y_final)\n",
    "test_loader = DataLoader(dataset=test_datasets, batch_size=batch_size, shuffle=True)\n",
    "\n",
    "result = test(test_loader, model)\n",
    "result"
   ]
  },
  {
   "cell_type": "code",
   "execution_count": null,
   "id": "8747d5c8",
   "metadata": {
    "ExecuteTime": {
     "end_time": "2022-11-27T12:14:04.453833Z",
     "start_time": "2022-11-27T12:14:04.453816Z"
    },
    "scrolled": true
   },
   "outputs": [],
   "source": [
    "\n",
    "#df.index = ['Row_1', 'Row_2', 'Row_3', 'Row_4']\n",
    "res1 = pd.DataFrame(result, columns=[\"Predicted\"])\n",
    "res1.index = X_test.index\n",
    "res1.index.name = 'Id'\n",
    "pd.DataFrame(res1).to_csv('out.csv')\n",
    "print(torch.count_nonzero(torch.from_numpy(np.array(res1)).to(torch.float32)))\n",
    "res1"
   ]
  },
  {
   "cell_type": "markdown",
   "id": "27ca623b",
   "metadata": {},
   "source": [
    "#"
   ]
  },
  {
   "cell_type": "markdown",
   "id": "afa29a40",
   "metadata": {},
   "source": [
    "#"
   ]
  },
  {
   "cell_type": "markdown",
   "id": "b8d38018",
   "metadata": {},
   "source": [
    "#"
   ]
  }
 ],
 "metadata": {
  "kernelspec": {
   "display_name": "comp3340",
   "language": "python",
   "name": "comp3340"
  },
  "language_info": {
   "codemirror_mode": {
    "name": "ipython",
    "version": 3
   },
   "file_extension": ".py",
   "mimetype": "text/x-python",
   "name": "python",
   "nbconvert_exporter": "python",
   "pygments_lexer": "ipython3",
   "version": "3.7.7"
  },
  "toc": {
   "base_numbering": 1,
   "nav_menu": {},
   "number_sections": true,
   "sideBar": true,
   "skip_h1_title": false,
   "title_cell": "Table of Contents",
   "title_sidebar": "Contents",
   "toc_cell": false,
   "toc_position": {},
   "toc_section_display": true,
   "toc_window_display": true
  }
 },
 "nbformat": 4,
 "nbformat_minor": 5
}
