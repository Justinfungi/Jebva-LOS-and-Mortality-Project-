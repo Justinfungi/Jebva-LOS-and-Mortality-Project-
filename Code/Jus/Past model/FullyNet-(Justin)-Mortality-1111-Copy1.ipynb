{
 "cells": [
  {
   "cell_type": "markdown",
   "id": "970d9aef",
   "metadata": {},
   "source": [
    "# Libraries"
   ]
  },
  {
   "cell_type": "code",
   "execution_count": 1,
   "id": "71cace5d",
   "metadata": {
    "ExecuteTime": {
     "end_time": "2022-11-14T07:40:29.028344Z",
     "start_time": "2022-11-14T07:40:26.234983Z"
    }
   },
   "outputs": [],
   "source": [
    "import torch\n",
    "import torchvision\n",
    "import torch.nn as nn\n",
    "import torch.optim as optim\n",
    "import torch.nn.functional as F\n",
    "from torch.utils.data import Dataset, DataLoader\n",
    "import torchvision.transforms as transforms\n",
    "import matplotlib.pyplot as plt\n",
    "from sklearn import metrics\n",
    "\n",
    "device = torch.device(\"cuda\" if torch.cuda.is_available() else \"cpu\")"
   ]
  },
  {
   "cell_type": "markdown",
   "id": "e5e3db1d",
   "metadata": {
    "ExecuteTime": {
     "end_time": "2022-10-27T03:47:12.458066Z",
     "start_time": "2022-10-27T03:47:12.452095Z"
    }
   },
   "source": [
    "# Import data"
   ]
  },
  {
   "cell_type": "code",
   "execution_count": 2,
   "id": "c7c7a26f",
   "metadata": {
    "ExecuteTime": {
     "end_time": "2022-11-14T07:40:53.936540Z",
     "start_time": "2022-11-14T07:40:29.033187Z"
    }
   },
   "outputs": [
    {
     "name": "stdout",
     "output_type": "stream",
     "text": [
      "************************************************************\n",
      "There are 6 set of X\n",
      "X_*_nozero\n",
      "------------------------------------------------------------\n",
      "Normalized version\n",
      "X_*_norm\n",
      "------------------------------------------------------------\n",
      "There are 4 set of Y\n",
      "y_train_t1, y_train_t2, y_valid_t1, y_valid_t2\n",
      "when training, please use: 'y_train_t1_value,y_train_t2_value,y_valid_t1_value,y_valid_t2_value'\n",
      "************************************************************\n"
     ]
    }
   ],
   "source": [
    "%run Data_preprocessing.ipynb"
   ]
  },
  {
   "cell_type": "code",
   "execution_count": 3,
   "id": "4aa393c8",
   "metadata": {
    "ExecuteTime": {
     "end_time": "2022-11-14T07:40:53.941168Z",
     "start_time": "2022-11-14T07:40:53.938353Z"
    }
   },
   "outputs": [
    {
     "name": "stdout",
     "output_type": "stream",
     "text": [
      "(16760, 61)\n",
      "(2394, 61)\n",
      "(4790, 61)\n"
     ]
    }
   ],
   "source": [
    "print(X_train_norm.shape)\n",
    "print(X_valid_norm.shape)\n",
    "print(X_test_norm.shape)"
   ]
  },
  {
   "cell_type": "markdown",
   "id": "07ffdcc1",
   "metadata": {
    "ExecuteTime": {
     "end_time": "2022-11-12T06:27:37.687176Z",
     "start_time": "2022-11-12T06:27:37.683442Z"
    }
   },
   "source": [
    "# Imbalanced Learning"
   ]
  },
  {
   "cell_type": "code",
   "execution_count": 4,
   "id": "a0e38388",
   "metadata": {
    "ExecuteTime": {
     "end_time": "2022-11-14T07:40:53.955644Z",
     "start_time": "2022-11-14T07:40:53.943020Z"
    }
   },
   "outputs": [
    {
     "name": "stdout",
     "output_type": "stream",
     "text": [
      "(15535, 62) (1225, 62)\n"
     ]
    }
   ],
   "source": [
    "Full = pd.DataFrame(np.concatenate((X_train_norm,pd.DataFrame(y_train_t1.iloc[:,-1])),axis=1))\n",
    "Full\n",
    "\n",
    "label0 = Full[Full[61]==0]\n",
    "label1 = Full[Full[61]==1]\n",
    "print(label0.shape,label1.shape)"
   ]
  },
  {
   "cell_type": "code",
   "execution_count": 5,
   "id": "cac17082",
   "metadata": {
    "ExecuteTime": {
     "end_time": "2022-11-14T07:40:54.052950Z",
     "start_time": "2022-11-14T07:40:53.957392Z"
    }
   },
   "outputs": [
    {
     "data": {
      "text/plain": [
       "(31070, 61)"
      ]
     },
     "execution_count": 5,
     "metadata": {},
     "output_type": "execute_result"
    }
   ],
   "source": [
    "from imblearn.over_sampling import RandomOverSampler\n",
    "oversample = RandomOverSampler()\n",
    "x_over, y_over = oversample.fit_resample(X_train_norm, y_train_t1.iloc[:,-1])\n",
    "\n",
    "\n",
    "y_over = pd.DataFrame(y_over)\n",
    "y_over.shape\n",
    "x_over.shape"
   ]
  },
  {
   "cell_type": "code",
   "execution_count": 6,
   "id": "dd3c662f",
   "metadata": {
    "ExecuteTime": {
     "end_time": "2022-11-14T07:40:54.069404Z",
     "start_time": "2022-11-14T07:40:54.054527Z"
    }
   },
   "outputs": [
    {
     "name": "stdout",
     "output_type": "stream",
     "text": [
      "(15535, 62) (15535, 62)\n"
     ]
    }
   ],
   "source": [
    "Full = pd.DataFrame(np.concatenate((x_over,y_over),axis=1))\n",
    "Full\n",
    "\n",
    "label0 = Full[Full[61]==0]\n",
    "label1 = Full[Full[61]==1]\n",
    "print(label0.shape,label1.shape)"
   ]
  },
  {
   "cell_type": "code",
   "execution_count": 7,
   "id": "55d6208d",
   "metadata": {
    "ExecuteTime": {
     "end_time": "2022-11-14T07:40:54.074286Z",
     "start_time": "2022-11-14T07:40:54.071380Z"
    }
   },
   "outputs": [],
   "source": [
    "X_train_norm=x_over\n",
    "\n",
    "y_train_t1 = y_over"
   ]
  },
  {
   "cell_type": "markdown",
   "id": "560831ad",
   "metadata": {},
   "source": [
    "# Hyperparameters"
   ]
  },
  {
   "cell_type": "code",
   "execution_count": 8,
   "id": "6fb9fe03",
   "metadata": {
    "ExecuteTime": {
     "end_time": "2022-11-14T07:40:54.080345Z",
     "start_time": "2022-11-14T07:40:54.076251Z"
    }
   },
   "outputs": [],
   "source": [
    "input_size = X_train_norm.shape[1] # 7488/24\n",
    "output_size = 2 # live or dead\n",
    "learning_rate = 0.01\n",
    "batch_size = 64\n",
    "num_epochs = 100"
   ]
  },
  {
   "cell_type": "markdown",
   "id": "9b7e4676",
   "metadata": {},
   "source": [
    "# Create FullyNet"
   ]
  },
  {
   "cell_type": "code",
   "execution_count": 9,
   "id": "c00d907c",
   "metadata": {
    "ExecuteTime": {
     "end_time": "2022-11-14T07:40:54.089114Z",
     "start_time": "2022-11-14T07:40:54.082089Z"
    }
   },
   "outputs": [],
   "source": [
    "class NN(nn.Module):\n",
    "    def __init__(self, input_size):\n",
    "        super(NN, self).__init__()\n",
    "        self.fc1 = nn.Linear(input_size,30)\n",
    "        self.fc2 = nn.Linear(30, 15)\n",
    "        self.fc3 = nn.Linear(15, 7)\n",
    "        self.fc4 = nn.Linear(7, 15)\n",
    "        self.fc5 = nn.Linear(15, 30)\n",
    "        self.fc6 = nn.Linear(30, 1)\n",
    "        \n",
    "        self.batchnorm1 = nn.BatchNorm1d(30)\n",
    "        self.batchnorm2 = nn.BatchNorm1d(15)\n",
    "        self.batchnorm3 = nn.BatchNorm1d(7)\n",
    "        self.dropout = nn.Dropout(p=0.1)\n",
    "\n",
    "        \n",
    "        \n",
    "    def forward(self, x):\n",
    "         x = F.leaky_relu(self.fc1(x))\n",
    "         x = self.batchnorm1(x)\n",
    "         x = F.leaky_relu(self.fc2(x))\n",
    "         x = self.batchnorm2(x)\n",
    "         x = F.leaky_relu(self.fc3(x))\n",
    "         x = self.batchnorm3(x)\n",
    "         x = F.leaky_relu(self.fc4(x))\n",
    "         x = F.leaky_relu(self.fc5(x))\n",
    "         x = self.dropout(x)\n",
    "         x = torch.sigmoid(self.fc6(x))\n",
    "         return x"
   ]
  },
  {
   "cell_type": "markdown",
   "id": "076d6376",
   "metadata": {},
   "source": [
    "# Data transform"
   ]
  },
  {
   "cell_type": "code",
   "execution_count": 10,
   "id": "d7e4872c",
   "metadata": {
    "ExecuteTime": {
     "end_time": "2022-11-14T07:40:54.096292Z",
     "start_time": "2022-11-14T07:40:54.092405Z"
    }
   },
   "outputs": [],
   "source": [
    "class CusDatasetLoader(Dataset):\n",
    "    def __init__(self,x,y):\n",
    "        self.len = y.shape[0]\n",
    "        self.x_data = x\n",
    "        self.y_data = y\n",
    "  \n",
    "    def __len__(self):\n",
    "        return self.len\n",
    "\n",
    "    def __getitem__(self, index):\n",
    "        #return self.dataframe.iloc[index]\n",
    "        return self.x_data[index], self.y_data[index]"
   ]
  },
  {
   "cell_type": "code",
   "execution_count": 11,
   "id": "456be776",
   "metadata": {
    "ExecuteTime": {
     "end_time": "2022-11-14T07:40:54.104239Z",
     "start_time": "2022-11-14T07:40:54.098780Z"
    }
   },
   "outputs": [],
   "source": [
    "# X_shape(X) : used for split the data into a right tensor size\n",
    "#input: X in shape of 16760 rows × 104 columns (df)\n",
    "#output: X in shape of torch.Size([16760, 104, 1]) (tensor)\n",
    "\n",
    "def X_tensor(X):\n",
    "    X_tensor = torch.from_numpy(np.array(X)).to(torch.float32)\n",
    "    #print(X_tensor.shape)\n",
    "    #X_tensor = torch.stack(X_tensor).permute()\n",
    "    print(\"X now in shape of\",X_tensor.shape)\n",
    "    return X_tensor\n",
    "\n",
    "# y_tensor(y) : used for split the data into a right tensor size\n",
    "#input: X in shape of 16760 rows × 7488 columns (df)\n",
    "#output: X in shape of torch.Size([16760, 312, 24]) (tensor)\n",
    "\n",
    "def y_tensor(y):\n",
    "    y= torch.from_numpy(np.array(y)).to(torch.float32).reshape(len(y),1)\n",
    "    print(\"y now in shape of\",y.shape)\n",
    "    return y"
   ]
  },
  {
   "cell_type": "code",
   "execution_count": 12,
   "id": "006849f5",
   "metadata": {
    "ExecuteTime": {
     "end_time": "2022-11-14T07:40:54.122570Z",
     "start_time": "2022-11-14T07:40:54.105958Z"
    }
   },
   "outputs": [
    {
     "name": "stdout",
     "output_type": "stream",
     "text": [
      "X now in shape of torch.Size([31070, 61])\n",
      "y now in shape of torch.Size([31070, 1])\n",
      "torch.Size([61])\n",
      "torch.Size([1])\n"
     ]
    }
   ],
   "source": [
    "# X should be in smaples, 1, squence, rows\n",
    "X1 = X_tensor(X_train_norm)\n",
    "y1 = y_tensor(y_train_t1.iloc[:,-1].astype(float))\n",
    "\n",
    "train_datasets = CusDatasetLoader(X1, y1)\n",
    "train_loader = DataLoader(dataset=train_datasets, batch_size=batch_size, shuffle=True)\n",
    "\n",
    "x,y = train_datasets[0]\n",
    "print(x.shape)\n",
    "print(y.shape)"
   ]
  },
  {
   "cell_type": "markdown",
   "id": "e366eb01",
   "metadata": {},
   "source": [
    "# Model train"
   ]
  },
  {
   "cell_type": "code",
   "execution_count": 13,
   "id": "6443333a",
   "metadata": {
    "ExecuteTime": {
     "end_time": "2022-11-14T07:40:54.138320Z",
     "start_time": "2022-11-14T07:40:54.124749Z"
    }
   },
   "outputs": [],
   "source": [
    "model = NN(input_size).to(device)"
   ]
  },
  {
   "cell_type": "raw",
   "id": "521238bb",
   "metadata": {
    "ExecuteTime": {
     "end_time": "2022-11-10T17:45:27.568519Z",
     "start_time": "2022-11-10T17:45:27.562929Z"
    }
   },
   "source": [
    "# Criterion and optimizer setting\n",
    "\n",
    "criterion = nn.CrossEntropyLoss()\n",
    "optimizer = optim.Adam(model.parameters(), lr = learning_rate)\n",
    "#optimizer = torch.optim.SGD(model.parameters(),lr=learning_rate)\n",
    "#optimizer = optim.Adam(model.parameters(), lr = learning_rate)"
   ]
  },
  {
   "cell_type": "code",
   "execution_count": 14,
   "id": "e73149f1",
   "metadata": {
    "ExecuteTime": {
     "end_time": "2022-11-14T07:40:54.142457Z",
     "start_time": "2022-11-14T07:40:54.139653Z"
    }
   },
   "outputs": [],
   "source": [
    "optimizer = optim.Adadelta(model.parameters(), lr = learning_rate)\n",
    "criterion = nn.BCELoss()"
   ]
  },
  {
   "cell_type": "code",
   "execution_count": 15,
   "id": "680547a7",
   "metadata": {
    "ExecuteTime": {
     "end_time": "2022-11-14T07:44:53.856573Z",
     "start_time": "2022-11-14T07:40:54.143955Z"
    },
    "scrolled": true
   },
   "outputs": [
    {
     "name": "stdout",
     "output_type": "stream",
     "text": [
      "Epoch 000: | Loss: 2.24040 | Acc: 0.534\n",
      "Epoch 001: | Loss: 2.02971 | Acc: 0.557\n",
      "Epoch 002: | Loss: 1.84602 | Acc: 0.580\n",
      "Epoch 003: | Loss: 1.65328 | Acc: 0.604\n",
      "Epoch 004: | Loss: 1.52228 | Acc: 0.627\n",
      "Epoch 005: | Loss: 1.41750 | Acc: 0.646\n",
      "Epoch 006: | Loss: 1.29038 | Acc: 0.662\n",
      "Epoch 007: | Loss: 1.16739 | Acc: 0.675\n",
      "Epoch 008: | Loss: 1.12428 | Acc: 0.687\n",
      "Epoch 009: | Loss: 0.99469 | Acc: 0.696\n",
      "Epoch 010: | Loss: 0.95133 | Acc: 0.705\n",
      "Epoch 011: | Loss: 0.90716 | Acc: 0.713\n",
      "Epoch 012: | Loss: 0.77369 | Acc: 0.720\n",
      "Epoch 013: | Loss: 0.92669 | Acc: 0.726\n",
      "Epoch 014: | Loss: 0.83935 | Acc: 0.732\n",
      "Epoch 015: | Loss: 0.84442 | Acc: 0.737\n",
      "Epoch 016: | Loss: 0.85021 | Acc: 0.741\n",
      "Epoch 017: | Loss: 0.72455 | Acc: 0.746\n",
      "Epoch 018: | Loss: 0.93448 | Acc: 0.750\n",
      "Epoch 019: | Loss: 0.82273 | Acc: 0.754\n",
      "Epoch 020: | Loss: 0.78455 | Acc: 0.757\n",
      "Epoch 021: | Loss: 0.66057 | Acc: 0.760\n",
      "Epoch 022: | Loss: 0.62144 | Acc: 0.764\n",
      "Epoch 023: | Loss: 0.62611 | Acc: 0.767\n",
      "Epoch 024: | Loss: 0.69295 | Acc: 0.770\n",
      "Epoch 025: | Loss: 0.73207 | Acc: 0.772\n",
      "Epoch 026: | Loss: 0.77748 | Acc: 0.775\n",
      "Epoch 027: | Loss: 0.88512 | Acc: 0.777\n",
      "Epoch 028: | Loss: 0.63666 | Acc: 0.780\n",
      "Epoch 029: | Loss: 0.68474 | Acc: 0.782\n",
      "Epoch 030: | Loss: 0.73343 | Acc: 0.784\n",
      "Epoch 031: | Loss: 0.74595 | Acc: 0.786\n",
      "Epoch 032: | Loss: 0.62855 | Acc: 0.788\n",
      "Epoch 033: | Loss: 0.67367 | Acc: 0.790\n",
      "Epoch 034: | Loss: 0.58635 | Acc: 0.792\n",
      "Epoch 035: | Loss: 0.57574 | Acc: 0.794\n",
      "Epoch 036: | Loss: 0.71959 | Acc: 0.796\n",
      "Epoch 037: | Loss: 0.58171 | Acc: 0.797\n",
      "Epoch 038: | Loss: 0.60183 | Acc: 0.799\n",
      "Epoch 039: | Loss: 0.53989 | Acc: 0.801\n",
      "Epoch 040: | Loss: 0.55417 | Acc: 0.802\n",
      "Epoch 041: | Loss: 0.62578 | Acc: 0.804\n",
      "Epoch 042: | Loss: 0.66137 | Acc: 0.805\n",
      "Epoch 043: | Loss: 0.60044 | Acc: 0.807\n",
      "Epoch 044: | Loss: 0.71912 | Acc: 0.808\n",
      "Epoch 045: | Loss: 0.64788 | Acc: 0.810\n",
      "Epoch 046: | Loss: 0.55288 | Acc: 0.811\n",
      "Epoch 047: | Loss: 0.70229 | Acc: 0.812\n",
      "Epoch 048: | Loss: 0.60859 | Acc: 0.814\n",
      "Epoch 049: | Loss: 0.82630 | Acc: 0.815\n",
      "Epoch 050: | Loss: 0.54959 | Acc: 0.816\n",
      "Epoch 051: | Loss: 0.50573 | Acc: 0.817\n",
      "Epoch 052: | Loss: 0.74614 | Acc: 0.819\n",
      "Epoch 053: | Loss: 0.44241 | Acc: 0.820\n",
      "Epoch 054: | Loss: 0.51817 | Acc: 0.821\n",
      "Epoch 055: | Loss: 0.77992 | Acc: 0.822\n",
      "Epoch 056: | Loss: 0.52775 | Acc: 0.823\n",
      "Epoch 057: | Loss: 0.53420 | Acc: 0.824\n",
      "Epoch 058: | Loss: 0.53804 | Acc: 0.825\n",
      "Epoch 059: | Loss: 0.66543 | Acc: 0.826\n",
      "Epoch 060: | Loss: 0.62709 | Acc: 0.828\n",
      "Epoch 061: | Loss: 0.57330 | Acc: 0.829\n",
      "Epoch 062: | Loss: 0.65788 | Acc: 0.830\n",
      "Epoch 063: | Loss: 0.70443 | Acc: 0.831\n",
      "Epoch 064: | Loss: 0.57725 | Acc: 0.832\n",
      "Epoch 065: | Loss: 0.80639 | Acc: 0.832\n",
      "Epoch 066: | Loss: 0.48597 | Acc: 0.833\n",
      "Epoch 067: | Loss: 0.68495 | Acc: 0.834\n",
      "Epoch 068: | Loss: 0.58297 | Acc: 0.835\n",
      "Epoch 069: | Loss: 0.67460 | Acc: 0.836\n",
      "Epoch 070: | Loss: 0.60615 | Acc: 0.837\n",
      "Epoch 071: | Loss: 0.57659 | Acc: 0.838\n",
      "Epoch 072: | Loss: 0.62305 | Acc: 0.839\n",
      "Epoch 073: | Loss: 0.66341 | Acc: 0.840\n",
      "Epoch 074: | Loss: 0.63649 | Acc: 0.840\n",
      "Epoch 075: | Loss: 0.51902 | Acc: 0.841\n",
      "Epoch 076: | Loss: 0.86566 | Acc: 0.842\n",
      "Epoch 077: | Loss: 0.52901 | Acc: 0.843\n",
      "Epoch 078: | Loss: 0.56110 | Acc: 0.844\n",
      "Epoch 079: | Loss: 0.49289 | Acc: 0.844\n",
      "Epoch 080: | Loss: 0.58020 | Acc: 0.845\n",
      "Epoch 081: | Loss: 0.50185 | Acc: 0.846\n",
      "Epoch 082: | Loss: 0.60185 | Acc: 0.847\n",
      "Epoch 083: | Loss: 0.62405 | Acc: 0.847\n",
      "Epoch 084: | Loss: 0.64695 | Acc: 0.848\n",
      "Epoch 085: | Loss: 0.57638 | Acc: 0.849\n",
      "Epoch 086: | Loss: 0.43526 | Acc: 0.850\n",
      "Epoch 087: | Loss: 0.48125 | Acc: 0.850\n",
      "Epoch 088: | Loss: 0.42829 | Acc: 0.851\n",
      "Epoch 089: | Loss: 0.57936 | Acc: 0.852\n",
      "Epoch 090: | Loss: 0.66318 | Acc: 0.852\n",
      "Epoch 091: | Loss: 0.48644 | Acc: 0.853\n",
      "Epoch 092: | Loss: 0.65194 | Acc: 0.854\n",
      "Epoch 093: | Loss: 0.45909 | Acc: 0.854\n",
      "Epoch 094: | Loss: 0.52108 | Acc: 0.855\n",
      "Epoch 095: | Loss: 0.65608 | Acc: 0.856\n",
      "Epoch 096: | Loss: 0.60250 | Acc: 0.856\n",
      "Epoch 097: | Loss: 0.49153 | Acc: 0.857\n",
      "Epoch 098: | Loss: 0.44873 | Acc: 0.858\n",
      "Epoch 099: | Loss: 0.39148 | Acc: 0.858\n"
     ]
    }
   ],
   "source": [
    "losses=[]\n",
    "acc_list=[]\n",
    "num_correct = 0\n",
    "num_samples = 0\n",
    "for epoch in range(num_epochs):\n",
    "    for batch_idx, (data, targets) in enumerate(train_loader):\n",
    "        data = data.to(device=device)\n",
    "        targets = targets.to(device=device)\n",
    "        \n",
    "        # forward\n",
    "        scores = model(data)\n",
    "        loss = criterion(scores, targets)\n",
    "        \n",
    "        # l2 regularization\n",
    "        l2_lambda = 0.02\n",
    "        l2_norm = sum(p.pow(2.0).sum()\n",
    "                  for p in model.parameters())\n",
    "        loss = loss + l2_lambda * l2_norm\n",
    "        \n",
    "        # backward\n",
    "        optimizer.zero_grad()\n",
    "        loss.backward()\n",
    "        \n",
    "        # gradient descent or adam step\n",
    "        optimizer.step()\n",
    "        \n",
    "        #accuracy\n",
    "        scores = model(data)\n",
    "        predictions = scores\n",
    "        predictions = predictions.detach().apply_( lambda x: 1 if x >= 0.5 else 0 )\n",
    "        num_correct += int((predictions == targets).sum())\n",
    "        num_samples += predictions.size(0)\n",
    "        acc = num_correct / num_samples\n",
    "        \n",
    "    if epoch%5 == 0:\n",
    "        losses.append(loss.detach().numpy() )\n",
    "        acc_list.append(acc)\n",
    "    print(f'Epoch {epoch:03}: | Loss: {loss:.5f} | Acc: {acc:.3f}')\n",
    "        \n",
    "        "
   ]
  },
  {
   "cell_type": "code",
   "execution_count": 16,
   "id": "b4fcb9b7",
   "metadata": {
    "ExecuteTime": {
     "end_time": "2022-11-14T07:44:54.041415Z",
     "start_time": "2022-11-14T07:44:53.859736Z"
    }
   },
   "outputs": [
    {
     "data": {
      "image/png": "[encoded data removed]",
      "text/plain": [
       "<Figure size 640x480 with 1 Axes>"
      ]
     },
     "metadata": {},
     "output_type": "display_data"
    }
   ],
   "source": [
    "#plotting the loss\n",
    "x_range = list(range(5,5*len(losses)+5,5))\n",
    "plt.plot(x_range,losses)\n",
    "plt.title('Loss vs Epochs')\n",
    "plt.xlabel('Epochs')\n",
    "plt.ylabel('loss')\n",
    "plt.show()"
   ]
  },
  {
   "cell_type": "markdown",
   "id": "06bcbff7",
   "metadata": {
    "ExecuteTime": {
     "end_time": "2022-10-28T17:23:14.669685Z",
     "start_time": "2022-10-28T17:23:14.663564Z"
    }
   },
   "source": [
    "# Model Accuracy"
   ]
  },
  {
   "cell_type": "code",
   "execution_count": 17,
   "id": "7057e4ba",
   "metadata": {
    "ExecuteTime": {
     "end_time": "2022-11-14T07:44:54.510187Z",
     "start_time": "2022-11-14T07:44:54.044412Z"
    }
   },
   "outputs": [
    {
     "data": {
      "text/plain": [
       "0.9364016736401674"
      ]
     },
     "execution_count": 17,
     "metadata": {},
     "output_type": "execute_result"
    }
   ],
   "source": [
    "num_correct = 0\n",
    "num_samples = 0\n",
    "\n",
    "# Set model to eval\n",
    "model.eval()\n",
    "\n",
    "with torch.no_grad():\n",
    "    for x, y in train_loader:\n",
    "        x = x.to(device=device)\n",
    "        y.to(device=device)\n",
    "        #y = torch.squeeze(y.to(device=device), 1)\n",
    "        #print(y.shape)\n",
    "\n",
    "        scores = model(x)\n",
    "        predictions = scores\n",
    "        predictions = predictions.apply_( lambda x: 1 if x >= 0.5 else 0 )\n",
    "        num_correct += int((predictions == y).sum())\n",
    "        num_samples += predictions.size(0)\n",
    "\n",
    "# Toggle model back to train\n",
    "model.train()\n",
    "#print(num_correct , num_samples)\n",
    "num_correct / num_samples"
   ]
  },
  {
   "cell_type": "code",
   "execution_count": 18,
   "id": "48a94a4e",
   "metadata": {
    "ExecuteTime": {
     "end_time": "2022-11-14T07:44:54.517503Z",
     "start_time": "2022-11-14T07:44:54.511893Z"
    }
   },
   "outputs": [],
   "source": [
    "# Check accuracy on training & test to see how good our model\n",
    "def check_accuracy(loader, model):\n",
    "    num_correct = 0\n",
    "    num_samples = 0\n",
    "\n",
    "    # Set model to eval\n",
    "    model.eval()\n",
    "\n",
    "    with torch.no_grad():\n",
    "        for x, y in train_loader:\n",
    "            x = x.to(device=device)\n",
    "            y.to(device=device)\n",
    "            #y = torch.squeeze(y.to(device=device), 1)\n",
    "            #print(y.shape)\n",
    "\n",
    "            scores = model(x)\n",
    "            predictions = scores\n",
    "            predictions = predictions.apply_( lambda x: 1 if x >= 0.5 else 0 )\n",
    "            num_correct += int((predictions == y).sum())\n",
    "            num_samples += predictions.size(0)\n",
    "\n",
    "    # Toggle model back to train\n",
    "    model.train()\n",
    "    return num_correct / num_samples"
   ]
  },
  {
   "cell_type": "code",
   "execution_count": 19,
   "id": "f370065c",
   "metadata": {
    "ExecuteTime": {
     "end_time": "2022-11-14T07:44:54.891556Z",
     "start_time": "2022-11-14T07:44:54.519635Z"
    }
   },
   "outputs": [
    {
     "name": "stdout",
     "output_type": "stream",
     "text": [
      "Accuracy on training set: 93.640167 %\n"
     ]
    }
   ],
   "source": [
    "print(f\"Accuracy on training set: {check_accuracy(train_loader, model)*100:2f} %\")\n",
    "#print(f\"Accuracy on test set: {check_accuracy(test_loader, model)*100:.2f} %\")"
   ]
  },
  {
   "cell_type": "markdown",
   "id": "122b08ba",
   "metadata": {},
   "source": [
    "# Model Performance on validation dataset"
   ]
  },
  {
   "cell_type": "code",
   "execution_count": 20,
   "id": "7194f3f0",
   "metadata": {
    "ExecuteTime": {
     "end_time": "2022-11-14T07:44:55.242730Z",
     "start_time": "2022-11-14T07:44:54.892993Z"
    }
   },
   "outputs": [
    {
     "name": "stdout",
     "output_type": "stream",
     "text": [
      "X now in shape of torch.Size([2394, 61])\n",
      "y now in shape of torch.Size([2394, 1])\n",
      "Accuracy on valid set: 93.64 %\n"
     ]
    }
   ],
   "source": [
    "X2 = X_tensor(X_valid_norm)\n",
    "y2 = y_tensor(y_valid_t1.iloc[:,-1])\n",
    "\n",
    "Valid_datasets = CusDatasetLoader(X2, y2)\n",
    "Valid_loader = DataLoader(dataset=Valid_datasets, batch_size=batch_size, shuffle=True)\n",
    "print(f\"Accuracy on valid set: {check_accuracy(Valid_loader, model)*100:.2f} %\")"
   ]
  },
  {
   "cell_type": "code",
   "execution_count": 21,
   "id": "d70d120b",
   "metadata": {
    "ExecuteTime": {
     "end_time": "2022-11-14T07:44:55.374047Z",
     "start_time": "2022-11-14T07:44:55.245021Z"
    }
   },
   "outputs": [
    {
     "name": "stdout",
     "output_type": "stream",
     "text": [
      "(2394, 1)\n",
      "(2394, 1)\n"
     ]
    },
    {
     "data": {
      "image/png": "[encoded data removed]",
      "text/plain": [
       "<Figure size 640x480 with 1 Axes>"
      ]
     },
     "metadata": {},
     "output_type": "display_data"
    }
   ],
   "source": [
    "y_true = np.array(y_valid_t1.iloc[:,[-1]])\n",
    "all_y_pred = []\n",
    "\n",
    "model.eval()\n",
    "with torch.no_grad():\n",
    "    for x, y in Valid_loader:\n",
    "            x = x.to(device=device)\n",
    "            y = y.to(device=device)\n",
    "            #y = torch.squeeze(y.to(device=device), 1)\n",
    "            \n",
    "            pred_y1 = torch.sigmoid(model(x))\n",
    "            y_pred = pred_y1.squeeze(-1).detach().numpy()\n",
    "            all_y_pred = np.append(all_y_pred, y_pred)\n",
    "\n",
    "print(y_true.shape)\n",
    "print(all_y_pred.reshape(-1,1).shape)\n",
    "fpr, tpr, _ = metrics.roc_curve(y_true, all_y_pred)\n",
    "roc_auc = metrics.roc_auc_score(y_true, all_y_pred)\n",
    "\n",
    "model.train()\n",
    "\n",
    "plt.figure(1)\n",
    "plt.plot([0, 1], [0, 1], 'k-')\n",
    "plt.plot(fpr, tpr, label='FN(area = {:.3f})'.format(roc_auc))\n",
    "plt.xlabel('False positive rate')\n",
    "plt.ylabel('True positive rate')\n",
    "plt.title(\"ROC curve\")\n",
    "plt.legend(loc=\"best\")\n",
    "plt.show()"
   ]
  },
  {
   "cell_type": "markdown",
   "id": "b16acbcd",
   "metadata": {},
   "source": [
    "# Test"
   ]
  },
  {
   "cell_type": "code",
   "execution_count": 22,
   "id": "0fc30b2a",
   "metadata": {
    "ExecuteTime": {
     "end_time": "2022-11-14T07:44:55.379702Z",
     "start_time": "2022-11-14T07:44:55.375776Z"
    }
   },
   "outputs": [],
   "source": [
    "def test(loader, model):\n",
    "    # Set model to eval\n",
    "    model.eval()\n",
    "    res = torch.tensor([], dtype=torch.int64)\n",
    "    with torch.no_grad():\n",
    "        for x, y in loader:\n",
    "            x = x.to(device=device)\n",
    "            y.to(device=device)\n",
    "\n",
    "            scores = model(x)\n",
    "            predictions = scores\n",
    "            res =  torch.cat((predictions, res), 0)  \n",
    "    model.train()\n",
    "   \n",
    "    return res"
   ]
  },
  {
   "cell_type": "code",
   "execution_count": 23,
   "id": "767ccbaa",
   "metadata": {
    "ExecuteTime": {
     "end_time": "2022-11-14T07:44:55.409791Z",
     "start_time": "2022-11-14T07:44:55.381446Z"
    }
   },
   "outputs": [
    {
     "data": {
      "text/html": [
       "<div>\n",
       "<style scoped>\n",
       "    .dataframe tbody tr th:only-of-type {\n",
       "        vertical-align: middle;\n",
       "    }\n",
       "\n",
       "    .dataframe tbody tr th {\n",
       "        vertical-align: top;\n",
       "    }\n",
       "\n",
       "    .dataframe thead th {\n",
       "        text-align: right;\n",
       "    }\n",
       "</style>\n",
       "<table border=\"1\" class=\"dataframe\">\n",
       "  <thead>\n",
       "    <tr style=\"text-align: right;\">\n",
       "      <th></th>\n",
       "      <th>0</th>\n",
       "      <th>1</th>\n",
       "      <th>2</th>\n",
       "      <th>3</th>\n",
       "      <th>4</th>\n",
       "      <th>5</th>\n",
       "      <th>6</th>\n",
       "      <th>7</th>\n",
       "      <th>8</th>\n",
       "      <th>9</th>\n",
       "      <th>...</th>\n",
       "      <th>94</th>\n",
       "      <th>95</th>\n",
       "      <th>96</th>\n",
       "      <th>97</th>\n",
       "      <th>98</th>\n",
       "      <th>99</th>\n",
       "      <th>100</th>\n",
       "      <th>101</th>\n",
       "      <th>102</th>\n",
       "      <th>103</th>\n",
       "    </tr>\n",
       "  </thead>\n",
       "  <tbody>\n",
       "    <tr>\n",
       "      <th>0</th>\n",
       "      <td>0.165740</td>\n",
       "      <td>-0.004162</td>\n",
       "      <td>-0.018101</td>\n",
       "      <td>-0.019275</td>\n",
       "      <td>0.048917</td>\n",
       "      <td>0.073994</td>\n",
       "      <td>0.185472</td>\n",
       "      <td>0.127482</td>\n",
       "      <td>-0.006190</td>\n",
       "      <td>0.972110</td>\n",
       "      <td>...</td>\n",
       "      <td>3.176095</td>\n",
       "      <td>-0.553177</td>\n",
       "      <td>-0.004285</td>\n",
       "      <td>0.002797</td>\n",
       "      <td>0.017947</td>\n",
       "      <td>0.027071</td>\n",
       "      <td>0.017438</td>\n",
       "      <td>-0.017092</td>\n",
       "      <td>0.765229</td>\n",
       "      <td>0.026431</td>\n",
       "    </tr>\n",
       "    <tr>\n",
       "      <th>1</th>\n",
       "      <td>-0.504386</td>\n",
       "      <td>1.730745</td>\n",
       "      <td>-0.018101</td>\n",
       "      <td>-0.019275</td>\n",
       "      <td>0.048917</td>\n",
       "      <td>-0.183348</td>\n",
       "      <td>-1.315022</td>\n",
       "      <td>-0.430294</td>\n",
       "      <td>-0.371828</td>\n",
       "      <td>1.212867</td>\n",
       "      <td>...</td>\n",
       "      <td>0.019050</td>\n",
       "      <td>-0.022098</td>\n",
       "      <td>-0.004285</td>\n",
       "      <td>0.002797</td>\n",
       "      <td>0.017947</td>\n",
       "      <td>0.027071</td>\n",
       "      <td>-4.824070</td>\n",
       "      <td>-0.143602</td>\n",
       "      <td>2.209077</td>\n",
       "      <td>0.026431</td>\n",
       "    </tr>\n",
       "    <tr>\n",
       "      <th>2</th>\n",
       "      <td>-0.477027</td>\n",
       "      <td>1.012991</td>\n",
       "      <td>-0.018101</td>\n",
       "      <td>-0.019275</td>\n",
       "      <td>0.048917</td>\n",
       "      <td>0.291617</td>\n",
       "      <td>0.185472</td>\n",
       "      <td>-0.442176</td>\n",
       "      <td>-0.789188</td>\n",
       "      <td>0.731352</td>\n",
       "      <td>...</td>\n",
       "      <td>0.019050</td>\n",
       "      <td>-0.022098</td>\n",
       "      <td>-0.004285</td>\n",
       "      <td>0.002797</td>\n",
       "      <td>0.017947</td>\n",
       "      <td>0.027071</td>\n",
       "      <td>0.017438</td>\n",
       "      <td>-0.636430</td>\n",
       "      <td>-0.528219</td>\n",
       "      <td>0.026431</td>\n",
       "    </tr>\n",
       "    <tr>\n",
       "      <th>3</th>\n",
       "      <td>0.165740</td>\n",
       "      <td>-0.004162</td>\n",
       "      <td>-0.018101</td>\n",
       "      <td>-0.019275</td>\n",
       "      <td>0.048917</td>\n",
       "      <td>0.073994</td>\n",
       "      <td>-0.714824</td>\n",
       "      <td>0.127482</td>\n",
       "      <td>-0.006190</td>\n",
       "      <td>-0.231679</td>\n",
       "      <td>...</td>\n",
       "      <td>1.089125</td>\n",
       "      <td>0.097808</td>\n",
       "      <td>-0.004285</td>\n",
       "      <td>0.002797</td>\n",
       "      <td>0.017947</td>\n",
       "      <td>0.027071</td>\n",
       "      <td>0.017438</td>\n",
       "      <td>0.246553</td>\n",
       "      <td>-0.633499</td>\n",
       "      <td>0.026431</td>\n",
       "    </tr>\n",
       "    <tr>\n",
       "      <th>4</th>\n",
       "      <td>-0.529010</td>\n",
       "      <td>-0.004162</td>\n",
       "      <td>-0.018101</td>\n",
       "      <td>-0.019275</td>\n",
       "      <td>0.048917</td>\n",
       "      <td>-0.247532</td>\n",
       "      <td>-0.714824</td>\n",
       "      <td>-0.447268</td>\n",
       "      <td>2.549697</td>\n",
       "      <td>-0.231679</td>\n",
       "      <td>...</td>\n",
       "      <td>0.019050</td>\n",
       "      <td>-0.022098</td>\n",
       "      <td>-0.004285</td>\n",
       "      <td>0.002797</td>\n",
       "      <td>0.017947</td>\n",
       "      <td>0.027071</td>\n",
       "      <td>0.017438</td>\n",
       "      <td>-0.017092</td>\n",
       "      <td>-1.550945</td>\n",
       "      <td>0.026431</td>\n",
       "    </tr>\n",
       "    <tr>\n",
       "      <th>...</th>\n",
       "      <td>...</td>\n",
       "      <td>...</td>\n",
       "      <td>...</td>\n",
       "      <td>...</td>\n",
       "      <td>...</td>\n",
       "      <td>...</td>\n",
       "      <td>...</td>\n",
       "      <td>...</td>\n",
       "      <td>...</td>\n",
       "      <td>...</td>\n",
       "      <td>...</td>\n",
       "      <td>...</td>\n",
       "      <td>...</td>\n",
       "      <td>...</td>\n",
       "      <td>...</td>\n",
       "      <td>...</td>\n",
       "      <td>...</td>\n",
       "      <td>...</td>\n",
       "      <td>...</td>\n",
       "      <td>...</td>\n",
       "      <td>...</td>\n",
       "    </tr>\n",
       "    <tr>\n",
       "      <th>4785</th>\n",
       "      <td>0.165740</td>\n",
       "      <td>-0.004162</td>\n",
       "      <td>-0.018101</td>\n",
       "      <td>-0.019275</td>\n",
       "      <td>0.048917</td>\n",
       "      <td>0.073994</td>\n",
       "      <td>-0.414726</td>\n",
       "      <td>0.127482</td>\n",
       "      <td>-0.006190</td>\n",
       "      <td>1.453625</td>\n",
       "      <td>...</td>\n",
       "      <td>-5.693526</td>\n",
       "      <td>-0.137387</td>\n",
       "      <td>-0.004285</td>\n",
       "      <td>0.002797</td>\n",
       "      <td>0.017947</td>\n",
       "      <td>0.027071</td>\n",
       "      <td>0.017438</td>\n",
       "      <td>-1.083055</td>\n",
       "      <td>-0.347738</td>\n",
       "      <td>0.026431</td>\n",
       "    </tr>\n",
       "    <tr>\n",
       "      <th>4786</th>\n",
       "      <td>0.165740</td>\n",
       "      <td>-0.004162</td>\n",
       "      <td>-0.018101</td>\n",
       "      <td>-0.019275</td>\n",
       "      <td>0.048917</td>\n",
       "      <td>0.073994</td>\n",
       "      <td>0.485571</td>\n",
       "      <td>0.127482</td>\n",
       "      <td>-0.006190</td>\n",
       "      <td>-1.194710</td>\n",
       "      <td>...</td>\n",
       "      <td>0.019050</td>\n",
       "      <td>-0.022098</td>\n",
       "      <td>-0.004285</td>\n",
       "      <td>0.002797</td>\n",
       "      <td>0.017947</td>\n",
       "      <td>-0.655784</td>\n",
       "      <td>0.017438</td>\n",
       "      <td>-0.460709</td>\n",
       "      <td>0.028265</td>\n",
       "      <td>0.026431</td>\n",
       "    </tr>\n",
       "    <tr>\n",
       "      <th>4787</th>\n",
       "      <td>0.165740</td>\n",
       "      <td>-0.004162</td>\n",
       "      <td>-0.018101</td>\n",
       "      <td>-0.019275</td>\n",
       "      <td>0.048917</td>\n",
       "      <td>0.073994</td>\n",
       "      <td>-0.414726</td>\n",
       "      <td>0.127482</td>\n",
       "      <td>-0.006190</td>\n",
       "      <td>-0.713195</td>\n",
       "      <td>...</td>\n",
       "      <td>0.045641</td>\n",
       "      <td>-0.137387</td>\n",
       "      <td>-0.004285</td>\n",
       "      <td>0.002797</td>\n",
       "      <td>0.017947</td>\n",
       "      <td>0.027071</td>\n",
       "      <td>0.017438</td>\n",
       "      <td>0.415963</td>\n",
       "      <td>-0.257497</td>\n",
       "      <td>0.026431</td>\n",
       "    </tr>\n",
       "    <tr>\n",
       "      <th>4788</th>\n",
       "      <td>0.165740</td>\n",
       "      <td>-0.004162</td>\n",
       "      <td>-0.018101</td>\n",
       "      <td>-0.019275</td>\n",
       "      <td>0.048917</td>\n",
       "      <td>0.073994</td>\n",
       "      <td>1.085769</td>\n",
       "      <td>0.127482</td>\n",
       "      <td>-1.206549</td>\n",
       "      <td>-0.231679</td>\n",
       "      <td>...</td>\n",
       "      <td>0.019050</td>\n",
       "      <td>-0.022098</td>\n",
       "      <td>-0.004285</td>\n",
       "      <td>0.002797</td>\n",
       "      <td>0.017947</td>\n",
       "      <td>-0.593120</td>\n",
       "      <td>0.017438</td>\n",
       "      <td>-0.636430</td>\n",
       "      <td>1.096111</td>\n",
       "      <td>0.026431</td>\n",
       "    </tr>\n",
       "    <tr>\n",
       "      <th>4789</th>\n",
       "      <td>-0.466083</td>\n",
       "      <td>-2.815031</td>\n",
       "      <td>-0.018101</td>\n",
       "      <td>-0.019275</td>\n",
       "      <td>0.048917</td>\n",
       "      <td>-0.748171</td>\n",
       "      <td>0.485571</td>\n",
       "      <td>-0.442176</td>\n",
       "      <td>-0.371828</td>\n",
       "      <td>-0.472437</td>\n",
       "      <td>...</td>\n",
       "      <td>0.019050</td>\n",
       "      <td>-0.022098</td>\n",
       "      <td>-0.004285</td>\n",
       "      <td>0.002797</td>\n",
       "      <td>0.017947</td>\n",
       "      <td>0.027071</td>\n",
       "      <td>0.017438</td>\n",
       "      <td>-0.879150</td>\n",
       "      <td>0.780269</td>\n",
       "      <td>0.026431</td>\n",
       "    </tr>\n",
       "  </tbody>\n",
       "</table>\n",
       "<p>4790 rows × 104 columns</p>\n",
       "</div>"
      ],
      "text/plain": [
       "           0         1         2         3         4         5         6    \\\n",
       "0     0.165740 -0.004162 -0.018101 -0.019275  0.048917  0.073994  0.185472   \n",
       "1    -0.504386  1.730745 -0.018101 -0.019275  0.048917 -0.183348 -1.315022   \n",
       "2    -0.477027  1.012991 -0.018101 -0.019275  0.048917  0.291617  0.185472   \n",
       "3     0.165740 -0.004162 -0.018101 -0.019275  0.048917  0.073994 -0.714824   \n",
       "4    -0.529010 -0.004162 -0.018101 -0.019275  0.048917 -0.247532 -0.714824   \n",
       "...        ...       ...       ...       ...       ...       ...       ...   \n",
       "4785  0.165740 -0.004162 -0.018101 -0.019275  0.048917  0.073994 -0.414726   \n",
       "4786  0.165740 -0.004162 -0.018101 -0.019275  0.048917  0.073994  0.485571   \n",
       "4787  0.165740 -0.004162 -0.018101 -0.019275  0.048917  0.073994 -0.414726   \n",
       "4788  0.165740 -0.004162 -0.018101 -0.019275  0.048917  0.073994  1.085769   \n",
       "4789 -0.466083 -2.815031 -0.018101 -0.019275  0.048917 -0.748171  0.485571   \n",
       "\n",
       "           7         8         9    ...       94        95        96   \\\n",
       "0     0.127482 -0.006190  0.972110  ...  3.176095 -0.553177 -0.004285   \n",
       "1    -0.430294 -0.371828  1.212867  ...  0.019050 -0.022098 -0.004285   \n",
       "2    -0.442176 -0.789188  0.731352  ...  0.019050 -0.022098 -0.004285   \n",
       "3     0.127482 -0.006190 -0.231679  ...  1.089125  0.097808 -0.004285   \n",
       "4    -0.447268  2.549697 -0.231679  ...  0.019050 -0.022098 -0.004285   \n",
       "...        ...       ...       ...  ...       ...       ...       ...   \n",
       "4785  0.127482 -0.006190  1.453625  ... -5.693526 -0.137387 -0.004285   \n",
       "4786  0.127482 -0.006190 -1.194710  ...  0.019050 -0.022098 -0.004285   \n",
       "4787  0.127482 -0.006190 -0.713195  ...  0.045641 -0.137387 -0.004285   \n",
       "4788  0.127482 -1.206549 -0.231679  ...  0.019050 -0.022098 -0.004285   \n",
       "4789 -0.442176 -0.371828 -0.472437  ...  0.019050 -0.022098 -0.004285   \n",
       "\n",
       "           97        98        99        100       101       102       103  \n",
       "0     0.002797  0.017947  0.027071  0.017438 -0.017092  0.765229  0.026431  \n",
       "1     0.002797  0.017947  0.027071 -4.824070 -0.143602  2.209077  0.026431  \n",
       "2     0.002797  0.017947  0.027071  0.017438 -0.636430 -0.528219  0.026431  \n",
       "3     0.002797  0.017947  0.027071  0.017438  0.246553 -0.633499  0.026431  \n",
       "4     0.002797  0.017947  0.027071  0.017438 -0.017092 -1.550945  0.026431  \n",
       "...        ...       ...       ...       ...       ...       ...       ...  \n",
       "4785  0.002797  0.017947  0.027071  0.017438 -1.083055 -0.347738  0.026431  \n",
       "4786  0.002797  0.017947 -0.655784  0.017438 -0.460709  0.028265  0.026431  \n",
       "4787  0.002797  0.017947  0.027071  0.017438  0.415963 -0.257497  0.026431  \n",
       "4788  0.002797  0.017947 -0.593120  0.017438 -0.636430  1.096111  0.026431  \n",
       "4789  0.002797  0.017947  0.027071  0.017438 -0.879150  0.780269  0.026431  \n",
       "\n",
       "[4790 rows x 104 columns]"
      ]
     },
     "execution_count": 23,
     "metadata": {},
     "output_type": "execute_result"
    }
   ],
   "source": [
    "X_test_mean\n",
    "x_valid_mean=X_test_mean.values\n",
    "x_valid_mean_scaled = scaler.fit_transform(x_valid_mean)\n",
    "X_test_norm=pd.DataFrame(x_valid_mean_scaled)\n",
    "X_test_norm"
   ]
  },
  {
   "cell_type": "code",
   "execution_count": 24,
   "id": "66e51253",
   "metadata": {
    "ExecuteTime": {
     "end_time": "2022-11-14T07:44:55.563721Z",
     "start_time": "2022-11-14T07:44:55.411624Z"
    }
   },
   "outputs": [
    {
     "name": "stdout",
     "output_type": "stream",
     "text": [
      "X now in shape of torch.Size([4790, 104])\n"
     ]
    },
    {
     "ename": "RuntimeError",
     "evalue": "mat1 and mat2 shapes cannot be multiplied (64x104 and 61x30)",
     "output_type": "error",
     "traceback": [
      "\u001b[0;31m---------------------------------------------------------------------------\u001b[0m",
      "\u001b[0;31mRuntimeError\u001b[0m                              Traceback (most recent call last)",
      "\u001b[0;32m/tmp/ipykernel_4398/347647333.py\u001b[0m in \u001b[0;36m<module>\u001b[0;34m\u001b[0m\n\u001b[1;32m      5\u001b[0m \u001b[0mtest_loader\u001b[0m \u001b[0;34m=\u001b[0m \u001b[0mDataLoader\u001b[0m\u001b[0;34m(\u001b[0m\u001b[0mdataset\u001b[0m\u001b[0;34m=\u001b[0m\u001b[0mtest_datasets\u001b[0m\u001b[0;34m,\u001b[0m \u001b[0mbatch_size\u001b[0m\u001b[0;34m=\u001b[0m\u001b[0mbatch_size\u001b[0m\u001b[0;34m,\u001b[0m \u001b[0mshuffle\u001b[0m\u001b[0;34m=\u001b[0m\u001b[0;32mTrue\u001b[0m\u001b[0;34m)\u001b[0m\u001b[0;34m\u001b[0m\u001b[0;34m\u001b[0m\u001b[0m\n\u001b[1;32m      6\u001b[0m \u001b[0;34m\u001b[0m\u001b[0m\n\u001b[0;32m----> 7\u001b[0;31m \u001b[0mresult\u001b[0m \u001b[0;34m=\u001b[0m \u001b[0mtest\u001b[0m\u001b[0;34m(\u001b[0m\u001b[0mtest_loader\u001b[0m\u001b[0;34m,\u001b[0m \u001b[0mmodel\u001b[0m\u001b[0;34m)\u001b[0m\u001b[0;34m\u001b[0m\u001b[0;34m\u001b[0m\u001b[0m\n\u001b[0m\u001b[1;32m      8\u001b[0m \u001b[0mresult\u001b[0m\u001b[0;34m\u001b[0m\u001b[0;34m\u001b[0m\u001b[0m\n",
      "\u001b[0;32m/tmp/ipykernel_4398/4188851062.py\u001b[0m in \u001b[0;36mtest\u001b[0;34m(loader, model)\u001b[0m\n\u001b[1;32m      8\u001b[0m             \u001b[0my\u001b[0m\u001b[0;34m.\u001b[0m\u001b[0mto\u001b[0m\u001b[0;34m(\u001b[0m\u001b[0mdevice\u001b[0m\u001b[0;34m=\u001b[0m\u001b[0mdevice\u001b[0m\u001b[0;34m)\u001b[0m\u001b[0;34m\u001b[0m\u001b[0;34m\u001b[0m\u001b[0m\n\u001b[1;32m      9\u001b[0m \u001b[0;34m\u001b[0m\u001b[0m\n\u001b[0;32m---> 10\u001b[0;31m             \u001b[0mscores\u001b[0m \u001b[0;34m=\u001b[0m \u001b[0mmodel\u001b[0m\u001b[0;34m(\u001b[0m\u001b[0mx\u001b[0m\u001b[0;34m)\u001b[0m\u001b[0;34m\u001b[0m\u001b[0;34m\u001b[0m\u001b[0m\n\u001b[0m\u001b[1;32m     11\u001b[0m             \u001b[0mpredictions\u001b[0m \u001b[0;34m=\u001b[0m \u001b[0mscores\u001b[0m\u001b[0;34m\u001b[0m\u001b[0;34m\u001b[0m\u001b[0m\n\u001b[1;32m     12\u001b[0m             \u001b[0mres\u001b[0m \u001b[0;34m=\u001b[0m  \u001b[0mtorch\u001b[0m\u001b[0;34m.\u001b[0m\u001b[0mcat\u001b[0m\u001b[0;34m(\u001b[0m\u001b[0;34m(\u001b[0m\u001b[0mpredictions\u001b[0m\u001b[0;34m,\u001b[0m \u001b[0mres\u001b[0m\u001b[0;34m)\u001b[0m\u001b[0;34m,\u001b[0m \u001b[0;36m0\u001b[0m\u001b[0;34m)\u001b[0m\u001b[0;34m\u001b[0m\u001b[0;34m\u001b[0m\u001b[0m\n",
      "\u001b[0;32m~/anaconda3/envs/comp3340/lib/python3.7/site-packages/torch/nn/modules/module.py\u001b[0m in \u001b[0;36m_call_impl\u001b[0;34m(self, *input, **kwargs)\u001b[0m\n\u001b[1;32m    725\u001b[0m             \u001b[0mresult\u001b[0m \u001b[0;34m=\u001b[0m \u001b[0mself\u001b[0m\u001b[0;34m.\u001b[0m\u001b[0m_slow_forward\u001b[0m\u001b[0;34m(\u001b[0m\u001b[0;34m*\u001b[0m\u001b[0minput\u001b[0m\u001b[0;34m,\u001b[0m \u001b[0;34m**\u001b[0m\u001b[0mkwargs\u001b[0m\u001b[0;34m)\u001b[0m\u001b[0;34m\u001b[0m\u001b[0;34m\u001b[0m\u001b[0m\n\u001b[1;32m    726\u001b[0m         \u001b[0;32melse\u001b[0m\u001b[0;34m:\u001b[0m\u001b[0;34m\u001b[0m\u001b[0;34m\u001b[0m\u001b[0m\n\u001b[0;32m--> 727\u001b[0;31m             \u001b[0mresult\u001b[0m \u001b[0;34m=\u001b[0m \u001b[0mself\u001b[0m\u001b[0;34m.\u001b[0m\u001b[0mforward\u001b[0m\u001b[0;34m(\u001b[0m\u001b[0;34m*\u001b[0m\u001b[0minput\u001b[0m\u001b[0;34m,\u001b[0m \u001b[0;34m**\u001b[0m\u001b[0mkwargs\u001b[0m\u001b[0;34m)\u001b[0m\u001b[0;34m\u001b[0m\u001b[0;34m\u001b[0m\u001b[0m\n\u001b[0m\u001b[1;32m    728\u001b[0m         for hook in itertools.chain(\n\u001b[1;32m    729\u001b[0m                 \u001b[0m_global_forward_hooks\u001b[0m\u001b[0;34m.\u001b[0m\u001b[0mvalues\u001b[0m\u001b[0;34m(\u001b[0m\u001b[0;34m)\u001b[0m\u001b[0;34m,\u001b[0m\u001b[0;34m\u001b[0m\u001b[0;34m\u001b[0m\u001b[0m\n",
      "\u001b[0;32m/tmp/ipykernel_4398/3434468360.py\u001b[0m in \u001b[0;36mforward\u001b[0;34m(self, x)\u001b[0m\n\u001b[1;32m     17\u001b[0m \u001b[0;34m\u001b[0m\u001b[0m\n\u001b[1;32m     18\u001b[0m     \u001b[0;32mdef\u001b[0m \u001b[0mforward\u001b[0m\u001b[0;34m(\u001b[0m\u001b[0mself\u001b[0m\u001b[0;34m,\u001b[0m \u001b[0mx\u001b[0m\u001b[0;34m)\u001b[0m\u001b[0;34m:\u001b[0m\u001b[0;34m\u001b[0m\u001b[0;34m\u001b[0m\u001b[0m\n\u001b[0;32m---> 19\u001b[0;31m          \u001b[0mx\u001b[0m \u001b[0;34m=\u001b[0m \u001b[0mF\u001b[0m\u001b[0;34m.\u001b[0m\u001b[0mleaky_relu\u001b[0m\u001b[0;34m(\u001b[0m\u001b[0mself\u001b[0m\u001b[0;34m.\u001b[0m\u001b[0mfc1\u001b[0m\u001b[0;34m(\u001b[0m\u001b[0mx\u001b[0m\u001b[0;34m)\u001b[0m\u001b[0;34m)\u001b[0m\u001b[0;34m\u001b[0m\u001b[0;34m\u001b[0m\u001b[0m\n\u001b[0m\u001b[1;32m     20\u001b[0m          \u001b[0mx\u001b[0m \u001b[0;34m=\u001b[0m \u001b[0mself\u001b[0m\u001b[0;34m.\u001b[0m\u001b[0mbatchnorm1\u001b[0m\u001b[0;34m(\u001b[0m\u001b[0mx\u001b[0m\u001b[0;34m)\u001b[0m\u001b[0;34m\u001b[0m\u001b[0;34m\u001b[0m\u001b[0m\n\u001b[1;32m     21\u001b[0m          \u001b[0mx\u001b[0m \u001b[0;34m=\u001b[0m \u001b[0mF\u001b[0m\u001b[0;34m.\u001b[0m\u001b[0mleaky_relu\u001b[0m\u001b[0;34m(\u001b[0m\u001b[0mself\u001b[0m\u001b[0;34m.\u001b[0m\u001b[0mfc2\u001b[0m\u001b[0;34m(\u001b[0m\u001b[0mx\u001b[0m\u001b[0;34m)\u001b[0m\u001b[0;34m)\u001b[0m\u001b[0;34m\u001b[0m\u001b[0;34m\u001b[0m\u001b[0m\n",
      "\u001b[0;32m~/anaconda3/envs/comp3340/lib/python3.7/site-packages/torch/nn/modules/module.py\u001b[0m in \u001b[0;36m_call_impl\u001b[0;34m(self, *input, **kwargs)\u001b[0m\n\u001b[1;32m    725\u001b[0m             \u001b[0mresult\u001b[0m \u001b[0;34m=\u001b[0m \u001b[0mself\u001b[0m\u001b[0;34m.\u001b[0m\u001b[0m_slow_forward\u001b[0m\u001b[0;34m(\u001b[0m\u001b[0;34m*\u001b[0m\u001b[0minput\u001b[0m\u001b[0;34m,\u001b[0m \u001b[0;34m**\u001b[0m\u001b[0mkwargs\u001b[0m\u001b[0;34m)\u001b[0m\u001b[0;34m\u001b[0m\u001b[0;34m\u001b[0m\u001b[0m\n\u001b[1;32m    726\u001b[0m         \u001b[0;32melse\u001b[0m\u001b[0;34m:\u001b[0m\u001b[0;34m\u001b[0m\u001b[0;34m\u001b[0m\u001b[0m\n\u001b[0;32m--> 727\u001b[0;31m             \u001b[0mresult\u001b[0m \u001b[0;34m=\u001b[0m \u001b[0mself\u001b[0m\u001b[0;34m.\u001b[0m\u001b[0mforward\u001b[0m\u001b[0;34m(\u001b[0m\u001b[0;34m*\u001b[0m\u001b[0minput\u001b[0m\u001b[0;34m,\u001b[0m \u001b[0;34m**\u001b[0m\u001b[0mkwargs\u001b[0m\u001b[0;34m)\u001b[0m\u001b[0;34m\u001b[0m\u001b[0;34m\u001b[0m\u001b[0m\n\u001b[0m\u001b[1;32m    728\u001b[0m         for hook in itertools.chain(\n\u001b[1;32m    729\u001b[0m                 \u001b[0m_global_forward_hooks\u001b[0m\u001b[0;34m.\u001b[0m\u001b[0mvalues\u001b[0m\u001b[0;34m(\u001b[0m\u001b[0;34m)\u001b[0m\u001b[0;34m,\u001b[0m\u001b[0;34m\u001b[0m\u001b[0;34m\u001b[0m\u001b[0m\n",
      "\u001b[0;32m~/anaconda3/envs/comp3340/lib/python3.7/site-packages/torch/nn/modules/linear.py\u001b[0m in \u001b[0;36mforward\u001b[0;34m(self, input)\u001b[0m\n\u001b[1;32m     91\u001b[0m \u001b[0;34m\u001b[0m\u001b[0m\n\u001b[1;32m     92\u001b[0m     \u001b[0;32mdef\u001b[0m \u001b[0mforward\u001b[0m\u001b[0;34m(\u001b[0m\u001b[0mself\u001b[0m\u001b[0;34m,\u001b[0m \u001b[0minput\u001b[0m\u001b[0;34m:\u001b[0m \u001b[0mTensor\u001b[0m\u001b[0;34m)\u001b[0m \u001b[0;34m->\u001b[0m \u001b[0mTensor\u001b[0m\u001b[0;34m:\u001b[0m\u001b[0;34m\u001b[0m\u001b[0;34m\u001b[0m\u001b[0m\n\u001b[0;32m---> 93\u001b[0;31m         \u001b[0;32mreturn\u001b[0m \u001b[0mF\u001b[0m\u001b[0;34m.\u001b[0m\u001b[0mlinear\u001b[0m\u001b[0;34m(\u001b[0m\u001b[0minput\u001b[0m\u001b[0;34m,\u001b[0m \u001b[0mself\u001b[0m\u001b[0;34m.\u001b[0m\u001b[0mweight\u001b[0m\u001b[0;34m,\u001b[0m \u001b[0mself\u001b[0m\u001b[0;34m.\u001b[0m\u001b[0mbias\u001b[0m\u001b[0;34m)\u001b[0m\u001b[0;34m\u001b[0m\u001b[0;34m\u001b[0m\u001b[0m\n\u001b[0m\u001b[1;32m     94\u001b[0m \u001b[0;34m\u001b[0m\u001b[0m\n\u001b[1;32m     95\u001b[0m     \u001b[0;32mdef\u001b[0m \u001b[0mextra_repr\u001b[0m\u001b[0;34m(\u001b[0m\u001b[0mself\u001b[0m\u001b[0;34m)\u001b[0m \u001b[0;34m->\u001b[0m \u001b[0mstr\u001b[0m\u001b[0;34m:\u001b[0m\u001b[0;34m\u001b[0m\u001b[0;34m\u001b[0m\u001b[0m\n",
      "\u001b[0;32m~/anaconda3/envs/comp3340/lib/python3.7/site-packages/torch/nn/functional.py\u001b[0m in \u001b[0;36mlinear\u001b[0;34m(input, weight, bias)\u001b[0m\n\u001b[1;32m   1688\u001b[0m     \u001b[0;32mif\u001b[0m \u001b[0minput\u001b[0m\u001b[0;34m.\u001b[0m\u001b[0mdim\u001b[0m\u001b[0;34m(\u001b[0m\u001b[0;34m)\u001b[0m \u001b[0;34m==\u001b[0m \u001b[0;36m2\u001b[0m \u001b[0;32mand\u001b[0m \u001b[0mbias\u001b[0m \u001b[0;32mis\u001b[0m \u001b[0;32mnot\u001b[0m \u001b[0;32mNone\u001b[0m\u001b[0;34m:\u001b[0m\u001b[0;34m\u001b[0m\u001b[0;34m\u001b[0m\u001b[0m\n\u001b[1;32m   1689\u001b[0m         \u001b[0;31m# fused op is marginally faster\u001b[0m\u001b[0;34m\u001b[0m\u001b[0;34m\u001b[0m\u001b[0;34m\u001b[0m\u001b[0m\n\u001b[0;32m-> 1690\u001b[0;31m         \u001b[0mret\u001b[0m \u001b[0;34m=\u001b[0m \u001b[0mtorch\u001b[0m\u001b[0;34m.\u001b[0m\u001b[0maddmm\u001b[0m\u001b[0;34m(\u001b[0m\u001b[0mbias\u001b[0m\u001b[0;34m,\u001b[0m \u001b[0minput\u001b[0m\u001b[0;34m,\u001b[0m \u001b[0mweight\u001b[0m\u001b[0;34m.\u001b[0m\u001b[0mt\u001b[0m\u001b[0;34m(\u001b[0m\u001b[0;34m)\u001b[0m\u001b[0;34m)\u001b[0m\u001b[0;34m\u001b[0m\u001b[0;34m\u001b[0m\u001b[0m\n\u001b[0m\u001b[1;32m   1691\u001b[0m     \u001b[0;32melse\u001b[0m\u001b[0;34m:\u001b[0m\u001b[0;34m\u001b[0m\u001b[0;34m\u001b[0m\u001b[0m\n\u001b[1;32m   1692\u001b[0m         \u001b[0moutput\u001b[0m \u001b[0;34m=\u001b[0m \u001b[0minput\u001b[0m\u001b[0;34m.\u001b[0m\u001b[0mmatmul\u001b[0m\u001b[0;34m(\u001b[0m\u001b[0mweight\u001b[0m\u001b[0;34m.\u001b[0m\u001b[0mt\u001b[0m\u001b[0;34m(\u001b[0m\u001b[0;34m)\u001b[0m\u001b[0;34m)\u001b[0m\u001b[0;34m\u001b[0m\u001b[0;34m\u001b[0m\u001b[0m\n",
      "\u001b[0;31mRuntimeError\u001b[0m: mat1 and mat2 shapes cannot be multiplied (64x104 and 61x30)"
     ]
    }
   ],
   "source": [
    "X_test_final = X_tensor(X_test_norm)\n",
    "y_final = torch.zeros([4790,1])\n",
    "\n",
    "test_datasets = CusDatasetLoader(X_test_final, y_final)\n",
    "test_loader = DataLoader(dataset=test_datasets, batch_size=batch_size, shuffle=True)\n",
    "\n",
    "result = test(test_loader, model)\n",
    "result"
   ]
  },
  {
   "cell_type": "code",
   "execution_count": null,
   "id": "8747d5c8",
   "metadata": {
    "ExecuteTime": {
     "end_time": "2022-11-14T07:44:55.565545Z",
     "start_time": "2022-11-14T07:44:55.565533Z"
    },
    "scrolled": true
   },
   "outputs": [],
   "source": [
    "\n",
    "#df.index = ['Row_1', 'Row_2', 'Row_3', 'Row_4']\n",
    "res1 = pd.DataFrame(result.tolist(), columns=[\"Predicted\"])\n",
    "res1.index = X_test.index\n",
    "res1.index.name = 'Id'\n",
    "pd.DataFrame(res1).to_csv('out.csv')\n",
    "#print(torch.count_nonzero(torch.from_numpy(np.array(res1)).to(torch.float32)))\n",
    "res1"
   ]
  }
 ],
 "metadata": {
  "kernelspec": {
   "display_name": "comp3340",
   "language": "python",
   "name": "comp3340"
  },
  "language_info": {
   "codemirror_mode": {
    "name": "ipython",
    "version": 3
   },
   "file_extension": ".py",
   "mimetype": "text/x-python",
   "name": "python",
   "nbconvert_exporter": "python",
   "pygments_lexer": "ipython3",
   "version": "3.7.13"
  },
  "toc": {
   "base_numbering": 1,
   "nav_menu": {},
   "number_sections": true,
   "sideBar": true,
   "skip_h1_title": false,
   "title_cell": "Table of Contents",
   "title_sidebar": "Contents",
   "toc_cell": false,
   "toc_position": {},
   "toc_section_display": true,
   "toc_window_display": true
  }
 },
 "nbformat": 4,
 "nbformat_minor": 5
}
