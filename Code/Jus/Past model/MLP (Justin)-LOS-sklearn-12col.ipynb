{
 "cells": [
  {
   "cell_type": "markdown",
   "id": "970d9aef",
   "metadata": {},
   "source": [
    "# Libraries"
   ]
  },
  {
   "cell_type": "code",
   "execution_count": 60,
   "id": "71cace5d",
   "metadata": {
    "ExecuteTime": {
     "end_time": "2022-11-27T11:19:37.683006Z",
     "start_time": "2022-11-27T11:19:37.678806Z"
    }
   },
   "outputs": [],
   "source": [
    "import pandas as pd\n",
    "import numpy as np\n",
    "from sklearn.impute import SimpleImputer\n",
    "from sklearn import preprocessing\n",
    "import torch\n",
    "import matplotlib.pyplot as plt\n",
    "from sklearn import metrics\n",
    "from sklearn.neural_network import MLPRegressor\n",
    "from tqdm import tqdm\n",
    "\n",
    "device = torch.device(\"cuda\" if torch.cuda.is_available() else \"cpu\")"
   ]
  },
  {
   "cell_type": "markdown",
   "id": "e5e3db1d",
   "metadata": {
    "ExecuteTime": {
     "end_time": "2022-10-27T03:47:12.458066Z",
     "start_time": "2022-10-27T03:47:12.452095Z"
    }
   },
   "source": [
    "# Import data"
   ]
  },
  {
   "cell_type": "code",
   "execution_count": 77,
   "id": "c7c7a26f",
   "metadata": {
    "ExecuteTime": {
     "end_time": "2022-11-27T11:27:38.111786Z",
     "start_time": "2022-11-27T11:27:37.914552Z"
    }
   },
   "outputs": [],
   "source": [
    "# For training the model\n",
    "X_train = pd.read_csv(\"../../X/train_v1.csv\", index_col=[0])\n",
    "\n",
    "# For cross validation\n",
    "X_valid = pd.read_csv(\"../../X/valid_v1.csv\", index_col=[0])\n",
    "\n",
    "# For prediction\n",
    "X_test = pd.read_csv(\"../../X/test_v1.csv\", index_col=[0])\n",
    "\n",
    "y_train_t2 = pd.read_csv(\"../../Task2/Y_train.csv\")\n",
    "y_valid_t2 = pd.read_csv(\"../../Task2/Y_valid.csv\")\n",
    "y_train_t2_value=y_train_t2[\"los_icu\"]\n",
    "y_valid_t2_value=y_valid_t2[\"los_icu\"]\n",
    "\n",
    "final_index = X_test.index"
   ]
  },
  {
   "cell_type": "code",
   "execution_count": 78,
   "id": "f58f4af0",
   "metadata": {
    "ExecuteTime": {
     "end_time": "2022-11-27T11:27:39.688697Z",
     "start_time": "2022-11-27T11:27:39.593680Z"
    }
   },
   "outputs": [
    {
     "data": {
      "text/html": [
       "<div>\n",
       "<style scoped>\n",
       "    .dataframe tbody tr th:only-of-type {\n",
       "        vertical-align: middle;\n",
       "    }\n",
       "\n",
       "    .dataframe tbody tr th {\n",
       "        vertical-align: top;\n",
       "    }\n",
       "\n",
       "    .dataframe thead th {\n",
       "        text-align: right;\n",
       "    }\n",
       "</style>\n",
       "<table border=\"1\" class=\"dataframe\">\n",
       "  <thead>\n",
       "    <tr style=\"text-align: right;\">\n",
       "      <th></th>\n",
       "      <th>0</th>\n",
       "      <th>1</th>\n",
       "      <th>2</th>\n",
       "      <th>3</th>\n",
       "      <th>4</th>\n",
       "      <th>5</th>\n",
       "      <th>6</th>\n",
       "      <th>7</th>\n",
       "      <th>8</th>\n",
       "      <th>9</th>\n",
       "      <th>...</th>\n",
       "      <th>45</th>\n",
       "      <th>46</th>\n",
       "      <th>47</th>\n",
       "      <th>48</th>\n",
       "      <th>49</th>\n",
       "      <th>50</th>\n",
       "      <th>51</th>\n",
       "      <th>52</th>\n",
       "      <th>53</th>\n",
       "      <th>54</th>\n",
       "    </tr>\n",
       "  </thead>\n",
       "  <tbody>\n",
       "    <tr>\n",
       "      <th>0</th>\n",
       "      <td>-2.039985</td>\n",
       "      <td>1.170093</td>\n",
       "      <td>-1.109747</td>\n",
       "      <td>0.792807</td>\n",
       "      <td>0.090101</td>\n",
       "      <td>1.478921</td>\n",
       "      <td>-0.638602</td>\n",
       "      <td>-1.069743</td>\n",
       "      <td>-0.047438</td>\n",
       "      <td>0.528476</td>\n",
       "      <td>...</td>\n",
       "      <td>-1.979855</td>\n",
       "      <td>-1.694872</td>\n",
       "      <td>0.869070</td>\n",
       "      <td>0.381991</td>\n",
       "      <td>-0.226618</td>\n",
       "      <td>0.079840</td>\n",
       "      <td>0.442871</td>\n",
       "      <td>0.000309</td>\n",
       "      <td>0.021107</td>\n",
       "      <td>0.919751</td>\n",
       "    </tr>\n",
       "    <tr>\n",
       "      <th>1</th>\n",
       "      <td>0.793194</td>\n",
       "      <td>-0.061390</td>\n",
       "      <td>0.702851</td>\n",
       "      <td>1.737977</td>\n",
       "      <td>1.369469</td>\n",
       "      <td>0.198395</td>\n",
       "      <td>1.537514</td>\n",
       "      <td>-1.044218</td>\n",
       "      <td>0.013225</td>\n",
       "      <td>0.989874</td>\n",
       "      <td>...</td>\n",
       "      <td>-0.251806</td>\n",
       "      <td>-1.444821</td>\n",
       "      <td>2.806903</td>\n",
       "      <td>1.307294</td>\n",
       "      <td>-0.254291</td>\n",
       "      <td>0.036593</td>\n",
       "      <td>-0.812489</td>\n",
       "      <td>0.000309</td>\n",
       "      <td>-0.255019</td>\n",
       "      <td>0.044903</td>\n",
       "    </tr>\n",
       "    <tr>\n",
       "      <th>2</th>\n",
       "      <td>-1.561656</td>\n",
       "      <td>0.546114</td>\n",
       "      <td>0.145354</td>\n",
       "      <td>-0.439621</td>\n",
       "      <td>-0.739112</td>\n",
       "      <td>0.161234</td>\n",
       "      <td>1.723172</td>\n",
       "      <td>-0.858553</td>\n",
       "      <td>-0.046173</td>\n",
       "      <td>0.377241</td>\n",
       "      <td>...</td>\n",
       "      <td>0.061017</td>\n",
       "      <td>1.019964</td>\n",
       "      <td>-0.476014</td>\n",
       "      <td>-1.941549</td>\n",
       "      <td>-0.271686</td>\n",
       "      <td>0.569831</td>\n",
       "      <td>0.100500</td>\n",
       "      <td>0.000309</td>\n",
       "      <td>-0.301820</td>\n",
       "      <td>0.044903</td>\n",
       "    </tr>\n",
       "    <tr>\n",
       "      <th>3</th>\n",
       "      <td>0.728804</td>\n",
       "      <td>-0.029561</td>\n",
       "      <td>-0.151030</td>\n",
       "      <td>-0.439621</td>\n",
       "      <td>-0.128434</td>\n",
       "      <td>-0.211957</td>\n",
       "      <td>-0.661305</td>\n",
       "      <td>-0.079990</td>\n",
       "      <td>0.013225</td>\n",
       "      <td>0.350605</td>\n",
       "      <td>...</td>\n",
       "      <td>0.061017</td>\n",
       "      <td>0.484141</td>\n",
       "      <td>0.071139</td>\n",
       "      <td>0.006806</td>\n",
       "      <td>-0.136461</td>\n",
       "      <td>0.036593</td>\n",
       "      <td>-0.015089</td>\n",
       "      <td>0.000309</td>\n",
       "      <td>-0.060128</td>\n",
       "      <td>0.044903</td>\n",
       "    </tr>\n",
       "    <tr>\n",
       "      <th>4</th>\n",
       "      <td>-1.074128</td>\n",
       "      <td>-0.101854</td>\n",
       "      <td>-0.181217</td>\n",
       "      <td>0.348021</td>\n",
       "      <td>0.186551</td>\n",
       "      <td>-0.341346</td>\n",
       "      <td>0.603034</td>\n",
       "      <td>-0.726826</td>\n",
       "      <td>-0.049916</td>\n",
       "      <td>-1.003401</td>\n",
       "      <td>...</td>\n",
       "      <td>0.061017</td>\n",
       "      <td>-1.694872</td>\n",
       "      <td>0.823474</td>\n",
       "      <td>0.006806</td>\n",
       "      <td>-0.136461</td>\n",
       "      <td>-0.308454</td>\n",
       "      <td>-0.015089</td>\n",
       "      <td>-1.333059</td>\n",
       "      <td>-0.071559</td>\n",
       "      <td>-0.809195</td>\n",
       "    </tr>\n",
       "    <tr>\n",
       "      <th>...</th>\n",
       "      <td>...</td>\n",
       "      <td>...</td>\n",
       "      <td>...</td>\n",
       "      <td>...</td>\n",
       "      <td>...</td>\n",
       "      <td>...</td>\n",
       "      <td>...</td>\n",
       "      <td>...</td>\n",
       "      <td>...</td>\n",
       "      <td>...</td>\n",
       "      <td>...</td>\n",
       "      <td>...</td>\n",
       "      <td>...</td>\n",
       "      <td>...</td>\n",
       "      <td>...</td>\n",
       "      <td>...</td>\n",
       "      <td>...</td>\n",
       "      <td>...</td>\n",
       "      <td>...</td>\n",
       "      <td>...</td>\n",
       "      <td>...</td>\n",
       "    </tr>\n",
       "    <tr>\n",
       "      <th>16755</th>\n",
       "      <td>0.039265</td>\n",
       "      <td>-1.432434</td>\n",
       "      <td>-0.036621</td>\n",
       "      <td>-0.200239</td>\n",
       "      <td>-0.575247</td>\n",
       "      <td>-0.894033</td>\n",
       "      <td>0.667703</td>\n",
       "      <td>-0.598336</td>\n",
       "      <td>0.013225</td>\n",
       "      <td>-0.467718</td>\n",
       "      <td>...</td>\n",
       "      <td>1.044231</td>\n",
       "      <td>0.091204</td>\n",
       "      <td>-0.236635</td>\n",
       "      <td>-0.070380</td>\n",
       "      <td>-0.136461</td>\n",
       "      <td>0.036593</td>\n",
       "      <td>-0.127747</td>\n",
       "      <td>0.000309</td>\n",
       "      <td>-0.348621</td>\n",
       "      <td>0.044903</td>\n",
       "    </tr>\n",
       "    <tr>\n",
       "      <th>16756</th>\n",
       "      <td>0.039265</td>\n",
       "      <td>0.370595</td>\n",
       "      <td>0.325411</td>\n",
       "      <td>-0.331513</td>\n",
       "      <td>-0.420184</td>\n",
       "      <td>-0.841322</td>\n",
       "      <td>-0.389591</td>\n",
       "      <td>-0.004140</td>\n",
       "      <td>0.013225</td>\n",
       "      <td>0.874450</td>\n",
       "      <td>...</td>\n",
       "      <td>0.061017</td>\n",
       "      <td>-2.230694</td>\n",
       "      <td>0.481503</td>\n",
       "      <td>0.265471</td>\n",
       "      <td>-0.136461</td>\n",
       "      <td>0.036593</td>\n",
       "      <td>-0.263269</td>\n",
       "      <td>0.000309</td>\n",
       "      <td>-0.161417</td>\n",
       "      <td>0.044903</td>\n",
       "    </tr>\n",
       "    <tr>\n",
       "      <th>16757</th>\n",
       "      <td>0.039265</td>\n",
       "      <td>-0.518391</td>\n",
       "      <td>0.006264</td>\n",
       "      <td>0.116362</td>\n",
       "      <td>-0.131727</td>\n",
       "      <td>-0.629821</td>\n",
       "      <td>-1.128922</td>\n",
       "      <td>-0.389777</td>\n",
       "      <td>-0.018729</td>\n",
       "      <td>-0.926452</td>\n",
       "      <td>...</td>\n",
       "      <td>1.044231</td>\n",
       "      <td>1.448622</td>\n",
       "      <td>-0.270832</td>\n",
       "      <td>0.006806</td>\n",
       "      <td>-0.261407</td>\n",
       "      <td>0.036593</td>\n",
       "      <td>-0.015089</td>\n",
       "      <td>0.000309</td>\n",
       "      <td>-0.056114</td>\n",
       "      <td>-0.468319</td>\n",
       "    </tr>\n",
       "    <tr>\n",
       "      <th>16758</th>\n",
       "      <td>0.039265</td>\n",
       "      <td>1.023920</td>\n",
       "      <td>0.052558</td>\n",
       "      <td>-0.219544</td>\n",
       "      <td>-0.491283</td>\n",
       "      <td>-0.077771</td>\n",
       "      <td>2.021813</td>\n",
       "      <td>1.028054</td>\n",
       "      <td>0.013225</td>\n",
       "      <td>0.173031</td>\n",
       "      <td>...</td>\n",
       "      <td>0.061017</td>\n",
       "      <td>-0.051682</td>\n",
       "      <td>-0.937674</td>\n",
       "      <td>-2.976518</td>\n",
       "      <td>-0.136461</td>\n",
       "      <td>0.036593</td>\n",
       "      <td>5.007816</td>\n",
       "      <td>0.000309</td>\n",
       "      <td>-0.372021</td>\n",
       "      <td>0.044903</td>\n",
       "    </tr>\n",
       "    <tr>\n",
       "      <th>16759</th>\n",
       "      <td>0.039265</td>\n",
       "      <td>-0.637370</td>\n",
       "      <td>0.172140</td>\n",
       "      <td>-0.671280</td>\n",
       "      <td>-0.314958</td>\n",
       "      <td>-0.358876</td>\n",
       "      <td>0.724944</td>\n",
       "      <td>0.404018</td>\n",
       "      <td>-0.038023</td>\n",
       "      <td>-0.297542</td>\n",
       "      <td>...</td>\n",
       "      <td>0.061017</td>\n",
       "      <td>2.220207</td>\n",
       "      <td>-0.407620</td>\n",
       "      <td>0.006806</td>\n",
       "      <td>-0.221874</td>\n",
       "      <td>0.036593</td>\n",
       "      <td>-0.015089</td>\n",
       "      <td>-0.411152</td>\n",
       "      <td>0.035148</td>\n",
       "      <td>0.044903</td>\n",
       "    </tr>\n",
       "  </tbody>\n",
       "</table>\n",
       "<p>16760 rows × 55 columns</p>\n",
       "</div>"
      ],
      "text/plain": [
       "             0         1         2         3         4         5         6   \\\n",
       "0     -2.039985  1.170093 -1.109747  0.792807  0.090101  1.478921 -0.638602   \n",
       "1      0.793194 -0.061390  0.702851  1.737977  1.369469  0.198395  1.537514   \n",
       "2     -1.561656  0.546114  0.145354 -0.439621 -0.739112  0.161234  1.723172   \n",
       "3      0.728804 -0.029561 -0.151030 -0.439621 -0.128434 -0.211957 -0.661305   \n",
       "4     -1.074128 -0.101854 -0.181217  0.348021  0.186551 -0.341346  0.603034   \n",
       "...         ...       ...       ...       ...       ...       ...       ...   \n",
       "16755  0.039265 -1.432434 -0.036621 -0.200239 -0.575247 -0.894033  0.667703   \n",
       "16756  0.039265  0.370595  0.325411 -0.331513 -0.420184 -0.841322 -0.389591   \n",
       "16757  0.039265 -0.518391  0.006264  0.116362 -0.131727 -0.629821 -1.128922   \n",
       "16758  0.039265  1.023920  0.052558 -0.219544 -0.491283 -0.077771  2.021813   \n",
       "16759  0.039265 -0.637370  0.172140 -0.671280 -0.314958 -0.358876  0.724944   \n",
       "\n",
       "             7         8         9   ...        45        46        47  \\\n",
       "0     -1.069743 -0.047438  0.528476  ... -1.979855 -1.694872  0.869070   \n",
       "1     -1.044218  0.013225  0.989874  ... -0.251806 -1.444821  2.806903   \n",
       "2     -0.858553 -0.046173  0.377241  ...  0.061017  1.019964 -0.476014   \n",
       "3     -0.079990  0.013225  0.350605  ...  0.061017  0.484141  0.071139   \n",
       "4     -0.726826 -0.049916 -1.003401  ...  0.061017 -1.694872  0.823474   \n",
       "...         ...       ...       ...  ...       ...       ...       ...   \n",
       "16755 -0.598336  0.013225 -0.467718  ...  1.044231  0.091204 -0.236635   \n",
       "16756 -0.004140  0.013225  0.874450  ...  0.061017 -2.230694  0.481503   \n",
       "16757 -0.389777 -0.018729 -0.926452  ...  1.044231  1.448622 -0.270832   \n",
       "16758  1.028054  0.013225  0.173031  ...  0.061017 -0.051682 -0.937674   \n",
       "16759  0.404018 -0.038023 -0.297542  ...  0.061017  2.220207 -0.407620   \n",
       "\n",
       "             48        49        50        51        52        53        54  \n",
       "0      0.381991 -0.226618  0.079840  0.442871  0.000309  0.021107  0.919751  \n",
       "1      1.307294 -0.254291  0.036593 -0.812489  0.000309 -0.255019  0.044903  \n",
       "2     -1.941549 -0.271686  0.569831  0.100500  0.000309 -0.301820  0.044903  \n",
       "3      0.006806 -0.136461  0.036593 -0.015089  0.000309 -0.060128  0.044903  \n",
       "4      0.006806 -0.136461 -0.308454 -0.015089 -1.333059 -0.071559 -0.809195  \n",
       "...         ...       ...       ...       ...       ...       ...       ...  \n",
       "16755 -0.070380 -0.136461  0.036593 -0.127747  0.000309 -0.348621  0.044903  \n",
       "16756  0.265471 -0.136461  0.036593 -0.263269  0.000309 -0.161417  0.044903  \n",
       "16757  0.006806 -0.261407  0.036593 -0.015089  0.000309 -0.056114 -0.468319  \n",
       "16758 -2.976518 -0.136461  0.036593  5.007816  0.000309 -0.372021  0.044903  \n",
       "16759  0.006806 -0.221874  0.036593 -0.015089 -0.411152  0.035148  0.044903  \n",
       "\n",
       "[16760 rows x 55 columns]"
      ]
     },
     "execution_count": 78,
     "metadata": {},
     "output_type": "execute_result"
    }
   ],
   "source": [
    "# Impute the 0 with mean\n",
    "imp = SimpleImputer(missing_values=0, strategy='mean')\n",
    "X_train_nozero = pd.DataFrame(imp.fit_transform(X_train))\n",
    "X_valid_nozero = pd.DataFrame(imp.fit_transform(X_valid))\n",
    "X_test_nozero = pd.DataFrame(imp.fit_transform(X_test))\n",
    "X_train_nozero"
   ]
  },
  {
   "cell_type": "code",
   "execution_count": 79,
   "id": "6399bfe5",
   "metadata": {
    "ExecuteTime": {
     "end_time": "2022-11-27T11:27:41.100515Z",
     "start_time": "2022-11-27T11:27:41.073450Z"
    }
   },
   "outputs": [],
   "source": [
    "scaler = preprocessing.StandardScaler()\n",
    "\n",
    "X_train=X_train.values\n",
    "X_train= scaler.fit_transform(X_train)\n",
    "X_train=pd.DataFrame(X_train)\n",
    "\n",
    "X_valid=X_valid.values\n",
    "X_valid= scaler.fit_transform(X_valid)\n",
    "X_valid=pd.DataFrame(X_valid)\n",
    "\n",
    "X_test=X_test.values\n",
    "X_test= scaler.fit_transform(X_test)\n",
    "X_test=pd.DataFrame(X_test)"
   ]
  },
  {
   "cell_type": "code",
   "execution_count": 80,
   "id": "4aa393c8",
   "metadata": {
    "ExecuteTime": {
     "end_time": "2022-11-27T11:27:42.742281Z",
     "start_time": "2022-11-27T11:27:42.735225Z"
    }
   },
   "outputs": [
    {
     "name": "stdout",
     "output_type": "stream",
     "text": [
      "(16760, 55)\n",
      "(2394, 55)\n",
      "(4790, 55)\n"
     ]
    }
   ],
   "source": [
    "\n",
    "X_train_norm = X_train\n",
    "X_valid_norm = X_valid\n",
    "X_test_norm = X_test\n",
    "\n",
    "print(X_train_norm.shape)\n",
    "print(X_valid_norm.shape)\n",
    "print(X_test_norm.shape)\n"
   ]
  },
  {
   "cell_type": "code",
   "execution_count": 81,
   "id": "123822ce",
   "metadata": {
    "ExecuteTime": {
     "end_time": "2022-11-27T11:27:45.787064Z",
     "start_time": "2022-11-27T11:27:45.777730Z"
    }
   },
   "outputs": [
    {
     "data": {
      "text/plain": [
       "0        6.064560\n",
       "1        3.672917\n",
       "2        5.323056\n",
       "3        1.584410\n",
       "4        7.634815\n",
       "           ...   \n",
       "16755    1.703391\n",
       "16756    2.731933\n",
       "16757    7.949259\n",
       "16758    3.142616\n",
       "16759    2.161481\n",
       "Name: los_icu, Length: 16760, dtype: float64"
      ]
     },
     "execution_count": 81,
     "metadata": {},
     "output_type": "execute_result"
    }
   ],
   "source": [
    "y_train_t2_value"
   ]
  },
  {
   "cell_type": "markdown",
   "id": "74a00a91",
   "metadata": {},
   "source": [
    "# Evaluation Matrix"
   ]
  },
  {
   "cell_type": "code",
   "execution_count": 82,
   "id": "f680ed22",
   "metadata": {
    "ExecuteTime": {
     "end_time": "2022-11-27T11:27:50.230576Z",
     "start_time": "2022-11-27T11:27:50.226212Z"
    }
   },
   "outputs": [],
   "source": [
    "def rmse(predictions, targets):\n",
    "    return np.sqrt(((predictions - targets) ** 2).mean())"
   ]
  },
  {
   "cell_type": "markdown",
   "id": "7eaa1314",
   "metadata": {
    "ExecuteTime": {
     "end_time": "2022-11-14T09:39:42.985881Z",
     "start_time": "2022-11-14T09:39:42.982955Z"
    }
   },
   "source": [
    "# Hyperparameter and setting tuning"
   ]
  },
  {
   "cell_type": "markdown",
   "id": "45b5905c",
   "metadata": {
    "ExecuteTime": {
     "end_time": "2022-11-14T10:48:05.363047Z",
     "start_time": "2022-11-14T10:48:05.359385Z"
    }
   },
   "source": [
    "## Layer Choices"
   ]
  },
  {
   "cell_type": "code",
   "execution_count": 83,
   "id": "8e9bbbe6",
   "metadata": {
    "ExecuteTime": {
     "end_time": "2022-11-27T11:52:56.423882Z",
     "start_time": "2022-11-27T11:27:50.233754Z"
    },
    "scrolled": false
   },
   "outputs": [
    {
     "name": "stderr",
     "output_type": "stream",
     "text": [
      "100%|█████████████████████████████████████████| 171/171 [25:05<00:00,  8.81s/it]\n"
     ]
    },
    {
     "name": "stdout",
     "output_type": "stream",
     "text": [
      "[(1, 1), (1, 2), (1, 3), (1, 4), (1, 5), (1, 6), (1, 7), (1, 8), (1, 9), (1, 10), (1, 11), (1, 12), (1, 13), (1, 14), (1, 15), (1, 16), (1, 17), (1, 18), (1, 19), (2, 1), (2, 2), (2, 3), (2, 4), (2, 5), (2, 6), (2, 7), (2, 8), (2, 9), (2, 10), (2, 11), (2, 12), (2, 13), (2, 14), (2, 15), (2, 16), (2, 17), (2, 18), (2, 19), (3, 1), (3, 2), (3, 3), (3, 4), (3, 5), (3, 6), (3, 7), (3, 8), (3, 9), (3, 10), (3, 11), (3, 12), (3, 13), (3, 14), (3, 15), (3, 16), (3, 17), (3, 18), (3, 19), (4, 1), (4, 2), (4, 3), (4, 4), (4, 5), (4, 6), (4, 7), (4, 8), (4, 9), (4, 10), (4, 11), (4, 12), (4, 13), (4, 14), (4, 15), (4, 16), (4, 17), (4, 18), (4, 19), (5, 1), (5, 2), (5, 3), (5, 4), (5, 5), (5, 6), (5, 7), (5, 8), (5, 9), (5, 10), (5, 11), (5, 12), (5, 13), (5, 14), (5, 15), (5, 16), (5, 17), (5, 18), (5, 19), (6, 1), (6, 2), (6, 3), (6, 4), (6, 5), (6, 6), (6, 7), (6, 8), (6, 9), (6, 10), (6, 11), (6, 12), (6, 13), (6, 14), (6, 15), (6, 16), (6, 17), (6, 18), (6, 19), (7, 1), (7, 2), (7, 3), (7, 4), (7, 5), (7, 6), (7, 7), (7, 8), (7, 9), (7, 10), (7, 11), (7, 12), (7, 13), (7, 14), (7, 15), (7, 16), (7, 17), (7, 18), (7, 19), (8, 1), (8, 2), (8, 3), (8, 4), (8, 5), (8, 6), (8, 7), (8, 8), (8, 9), (8, 10), (8, 11), (8, 12), (8, 13), (8, 14), (8, 15), (8, 16), (8, 17), (8, 18), (8, 19), (9, 1), (9, 2), (9, 3), (9, 4), (9, 5), (9, 6), (9, 7), (9, 8), (9, 9), (9, 10), (9, 11), (9, 12), (9, 13), (9, 14), (9, 15), (9, 16), (9, 17), (9, 18), (9, 19)]\n"
     ]
    },
    {
     "data": {
      "image/png": "[encoded data removed]",
      "text/plain": [
       "<Figure size 640x480 with 1 Axes>"
      ]
     },
     "metadata": {},
     "output_type": "display_data"
    }
   ],
   "source": [
    "layer_list = []\n",
    "rmse_lst=[]\n",
    "\n",
    "for x in range (1,10,1):\n",
    "    for y in range (1,20,1):\n",
    "        layer_list.append((x,y))\n",
    "\n",
    "for j in tqdm(range(len(layer_list))):\n",
    "    i = layer_list[j]\n",
    "    clf = MLPRegressor(solver=\"adam\",\n",
    "                       alpha=1e-5,\n",
    "                       hidden_layer_sizes=i,\n",
    "                       activation='relu',\n",
    "                       random_state=3612,\n",
    "                       max_iter=1000)\n",
    "\n",
    "    clf.fit(X_train_norm, y_train_t2_value)\n",
    "    y_pred = clf.predict(X_valid_norm)\n",
    "    rmse1 = rmse(y_pred, y_valid_t2_value)\n",
    "    rmse_lst.append(rmse1)\n",
    "    \n",
    "print(layer_list)\n",
    "index = rmse_lst.index(min(rmse_lst))\n",
    "plt.plot(list(range(len(layer_list))), rmse_lst, label='Layers Tuning')\n",
    "plt.xlabel('Layer Choises')\n",
    "plt.ylabel('RMSE')\n",
    "plt.title(f\"Layer {layer_list[index]} - ROC curve\")\n",
    "plt.legend(loc=\"best\")\n",
    "plt.annotate(np.min(rmse_lst).round(4), (np.argmin(rmse_lst), np.min(rmse_lst)), xycoords=\"data\",\n",
    "                 xytext=(40, 20), textcoords=\"offset pixels\", arrowprops=dict(facecolor=\"black\", shrink=0.1), fontsize=10,\n",
    "                 horizontalalignment=\"center\", verticalalignment=\"top\")\n",
    "plt.show()"
   ]
  },
  {
   "cell_type": "code",
   "execution_count": 99,
   "id": "f314ef7d",
   "metadata": {
    "ExecuteTime": {
     "end_time": "2022-11-27T12:02:38.724215Z",
     "start_time": "2022-11-27T12:02:38.716813Z"
    }
   },
   "outputs": [
    {
     "data": {
      "text/plain": [
       "(1, 4)"
      ]
     },
     "execution_count": 99,
     "metadata": {},
     "output_type": "execute_result"
    }
   ],
   "source": [
    "best_layernumber = layer_list[index]\n",
    "best_layernumber"
   ]
  },
  {
   "cell_type": "markdown",
   "id": "16213e33",
   "metadata": {},
   "source": [
    "## Solver Choices"
   ]
  },
  {
   "cell_type": "code",
   "execution_count": 85,
   "id": "754bfc1c",
   "metadata": {
    "ExecuteTime": {
     "end_time": "2022-11-27T11:53:18.987895Z",
     "start_time": "2022-11-27T11:52:56.436009Z"
    }
   },
   "outputs": [
    {
     "name": "stderr",
     "output_type": "stream",
     "text": [
      "/home/fish/anaconda3/envs/comp3340/lib/python3.7/site-packages/sklearn/neural_network/_multilayer_perceptron.py:549: ConvergenceWarning: lbfgs failed to converge (status=1):\n",
      "STOP: TOTAL NO. of ITERATIONS REACHED LIMIT.\n",
      "\n",
      "Increase the number of iterations (max_iter) or scale the data as shown in:\n",
      "    https://scikit-learn.org/stable/modules/preprocessing.html\n",
      "  self.n_iter_ = _check_optimize_result(\"lbfgs\", opt_res, self.max_iter)\n"
     ]
    },
    {
     "name": "stdout",
     "output_type": "stream",
     "text": [
      "['lbfgs', 'sgd', 'adam']\n"
     ]
    },
    {
     "data": {
      "image/png": "[encoded data removed]",
      "text/plain": [
       "<Figure size 640x480 with 1 Axes>"
      ]
     },
     "metadata": {},
     "output_type": "display_data"
    }
   ],
   "source": [
    "solver_list = [\"lbfgs\",\"sgd\",\"adam\"]\n",
    "rmse_lst=[]\n",
    "\n",
    "for i in solver_list:\n",
    "    clf = MLPRegressor(solver=i,\n",
    "                        alpha=1e-5,\n",
    "                        hidden_layer_sizes=best_layernumber,\n",
    "                        random_state=1,\n",
    "                        activation='relu',\n",
    "                        max_iter=1000)\n",
    "\n",
    "    clf.fit(X_train_norm, y_train_t2_value)\n",
    "    y_pred = clf.predict(X_valid_norm)\n",
    "    rmse1 = rmse(y_pred, y_valid_t2_value)\n",
    "    rmse_lst.append(rmse1)\n",
    "    \n",
    "print(solver_list)\n",
    "index = rmse_lst.index(min(rmse_lst))\n",
    "plt.plot(solver_list, rmse_lst, label='Solver Tuning')\n",
    "plt.xlabel('Solver Choises')\n",
    "plt.ylabel('RMSE')\n",
    "plt.title(f\"Solver {solver_list[index]} - ROC curve\")\n",
    "plt.legend(loc=\"best\")\n",
    "plt.annotate(np.min(rmse_lst).round(4), (np.argmin(rmse_lst), np.min(rmse_lst)), xycoords=\"data\",\n",
    "                 xytext=(40, 20), textcoords=\"offset pixels\", arrowprops=dict(facecolor=\"black\", shrink=0.1), fontsize=10,\n",
    "                 horizontalalignment=\"center\", verticalalignment=\"top\")\n",
    "plt.show()"
   ]
  },
  {
   "cell_type": "code",
   "execution_count": 86,
   "id": "69561f86",
   "metadata": {
    "ExecuteTime": {
     "end_time": "2022-11-27T11:53:18.998319Z",
     "start_time": "2022-11-27T11:53:18.991510Z"
    }
   },
   "outputs": [
    {
     "data": {
      "text/plain": [
       "'adam'"
      ]
     },
     "execution_count": 86,
     "metadata": {},
     "output_type": "execute_result"
    }
   ],
   "source": [
    "index = np.argmin(rmse_lst)\n",
    "best_solver = solver_list[index]\n",
    "best_solver"
   ]
  },
  {
   "cell_type": "markdown",
   "id": "893d31a1",
   "metadata": {
    "ExecuteTime": {
     "end_time": "2022-11-14T10:00:23.542784Z",
     "start_time": "2022-11-14T10:00:23.538559Z"
    }
   },
   "source": [
    "## Learning rate tuning"
   ]
  },
  {
   "cell_type": "code",
   "execution_count": 87,
   "id": "ee20b4f5",
   "metadata": {
    "ExecuteTime": {
     "end_time": "2022-11-27T11:54:05.334715Z",
     "start_time": "2022-11-27T11:53:19.000989Z"
    }
   },
   "outputs": [
    {
     "name": "stdout",
     "output_type": "stream",
     "text": [
      "[1e-10, 0.0001, 0.001, 0.0032500000000000003, 0.0055000000000000005, 0.007750000000000001, 0.01, 0.01, 0.0325, 0.05500000000000001, 0.0775, 0.1, 0.1, 0.325, 0.55, 0.775, 1.0]\n"
     ]
    },
    {
     "data": {
      "image/png": "[encoded data removed]",
      "text/plain": [
       "<Figure size 640x480 with 1 Axes>"
      ]
     },
     "metadata": {},
     "output_type": "display_data"
    },
    {
     "name": "stdout",
     "output_type": "stream",
     "text": [
      "1.8451\n"
     ]
    }
   ],
   "source": [
    "lr_list = [1e-10,0.0001]+list(np.linspace(0.001,0.01,5))+list(np.linspace(0.01,0.1,5))+list(np.linspace(0.1,1,5))\n",
    "rmse_lst=[]\n",
    "\n",
    "for i in lr_list:\n",
    "    clf = MLPRegressor(solver=best_solver,\n",
    "                        hidden_layer_sizes=best_layernumber,\n",
    "                        learning_rate_init=i,\n",
    "                        learning_rate=\"adaptive\", \n",
    "                        alpha=1e-5,\n",
    "                        random_state=1,\n",
    "                        activation='relu',\n",
    "                        max_iter=1000)\n",
    "\n",
    "    clf.fit(X_train_norm, y_train_t2_value)\n",
    "    y_pred = clf.predict(X_valid_norm)\n",
    "    rmse1 = rmse(y_pred, y_valid_t2_value)\n",
    "    rmse_lst.append(rmse1)\n",
    "    \n",
    "print(lr_list)\n",
    "index = rmse_lst.index(min(rmse_lst))\n",
    "plt.plot(lr_list, rmse_lst, label='Learning Rate Tuning')\n",
    "plt.xlabel('Learning Rate Choises')\n",
    "plt.ylabel('RMSE')\n",
    "plt.title(f\"Learning Rate {lr_list[index]} - ROC curve\")\n",
    "plt.legend(loc=\"best\")\n",
    "plt.annotate(np.min(rmse_lst).round(4), (np.argmin(rmse_lst), np.min(rmse_lst)), xycoords=\"data\",\n",
    "                 xytext=(40, 20), textcoords=\"offset pixels\", arrowprops=dict(facecolor=\"black\", shrink=0.1), fontsize=10,\n",
    "                 horizontalalignment=\"center\", verticalalignment=\"top\")\n",
    "plt.show()\n",
    "print(np.min(rmse_lst).round(4))"
   ]
  },
  {
   "cell_type": "code",
   "execution_count": 88,
   "id": "2c5468c4",
   "metadata": {
    "ExecuteTime": {
     "end_time": "2022-11-27T11:54:05.341065Z",
     "start_time": "2022-11-27T11:54:05.337075Z"
    }
   },
   "outputs": [
    {
     "data": {
      "text/plain": [
       "0.0001"
      ]
     },
     "execution_count": 88,
     "metadata": {},
     "output_type": "execute_result"
    }
   ],
   "source": [
    "index = np.argmin(rmse_lst)\n",
    "best_lr_choice =  lr_list[index]\n",
    "best_lr_choice"
   ]
  },
  {
   "cell_type": "markdown",
   "id": "cb356760",
   "metadata": {
    "ExecuteTime": {
     "end_time": "2022-11-24T12:56:56.523825Z",
     "start_time": "2022-11-24T12:56:56.518572Z"
    }
   },
   "source": [
    "## Regularization strength tuning"
   ]
  },
  {
   "cell_type": "code",
   "execution_count": 89,
   "id": "abcce264",
   "metadata": {
    "ExecuteTime": {
     "end_time": "2022-11-27T12:01:16.485544Z",
     "start_time": "2022-11-27T11:54:05.342491Z"
    }
   },
   "outputs": [
    {
     "name": "stdout",
     "output_type": "stream",
     "text": [
      "[1e-05, 1.2105263157894737e-05, 1.4210526315789475e-05, 1.6315789473684213e-05, 1.842105263157895e-05, 2.0526315789473685e-05, 2.2631578947368423e-05, 2.473684210526316e-05, 2.6842105263157896e-05, 2.8947368421052637e-05, 3.105263157894737e-05, 3.3157894736842106e-05, 3.526315789473685e-05, 3.736842105263158e-05, 3.9473684210526316e-05, 4.157894736842106e-05, 4.368421052631579e-05, 4.5789473684210527e-05, 4.789473684210527e-05, 5e-05]\n"
     ]
    },
    {
     "data": {
      "image/png": "[encoded data removed]",
      "text/plain": [
       "<Figure size 640x480 with 1 Axes>"
      ]
     },
     "metadata": {},
     "output_type": "display_data"
    }
   ],
   "source": [
    "reg_list = list(np.linspace(1e-5,0.00005,20))\n",
    "rmse_lst=[]\n",
    "\n",
    "for i in reg_list:\n",
    "    clf = MLPRegressor(solver=best_solver,\n",
    "                        hidden_layer_sizes=best_layernumber,\n",
    "                        learning_rate_init=best_lr_choice,\n",
    "                        alpha=i,\n",
    "                        random_state=1,\n",
    "                        activation='relu',\n",
    "                        max_iter=1000)\n",
    "\n",
    "    clf.fit(X_train_norm, y_train_t2_value)\n",
    "    y_pred = clf.predict(X_valid_norm)\n",
    "    rmse1 = rmse(y_pred, y_valid_t2_value)\n",
    "    rmse_lst.append(rmse1)\n",
    "    \n",
    "print(reg_list)\n",
    "index = rmse_lst.index(min(rmse_lst))\n",
    "plt.plot(list(range(len(reg_list))), rmse_lst, label='Regularization strength tuning')\n",
    "plt.xlabel('Regularization strength Choices')\n",
    "plt.ylabel('RMSE')\n",
    "plt.title(f\"Regularization strength tuning {reg_list[index]} - ROC curve\")\n",
    "plt.legend(loc=\"best\")\n",
    "plt.annotate(np.min(rmse_lst).round(4), (np.argmin(rmse_lst), np.min(rmse_lst)), xycoords=\"data\",\n",
    "                 xytext=(40, 20), textcoords=\"offset pixels\", arrowprops=dict(facecolor=\"black\", shrink=0.1), fontsize=10,\n",
    "                 horizontalalignment=\"center\", verticalalignment=\"top\")\n",
    "plt.show()"
   ]
  },
  {
   "cell_type": "code",
   "execution_count": 90,
   "id": "df9d432e",
   "metadata": {
    "ExecuteTime": {
     "end_time": "2022-11-27T12:01:16.494222Z",
     "start_time": "2022-11-27T12:01:16.488217Z"
    }
   },
   "outputs": [
    {
     "data": {
      "text/plain": [
       "1.4210526315789475e-05"
      ]
     },
     "execution_count": 90,
     "metadata": {},
     "output_type": "execute_result"
    }
   ],
   "source": [
    "index = np.argmin(rmse_lst)\n",
    "best_reg_choice =  reg_list[index]\n",
    "best_reg_choice"
   ]
  },
  {
   "cell_type": "code",
   "execution_count": 91,
   "id": "5bc4e02a",
   "metadata": {
    "ExecuteTime": {
     "end_time": "2022-11-27T12:01:16.507814Z",
     "start_time": "2022-11-27T12:01:16.497648Z"
    }
   },
   "outputs": [
    {
     "data": {
      "text/plain": [
       "201"
      ]
     },
     "execution_count": 91,
     "metadata": {},
     "output_type": "execute_result"
    }
   ],
   "source": [
    "index = np.argmin(rmse_lst)\n",
    "best_rs_choice =  rs_list[index]\n",
    "best_rs_choice"
   ]
  },
  {
   "cell_type": "markdown",
   "id": "4fbb3efb",
   "metadata": {
    "ExecuteTime": {
     "end_time": "2022-11-25T09:14:34.666541Z",
     "start_time": "2022-11-25T09:14:34.664049Z"
    }
   },
   "source": [
    "## Activation function Choices"
   ]
  },
  {
   "cell_type": "code",
   "execution_count": 92,
   "id": "9be7047c",
   "metadata": {
    "ExecuteTime": {
     "end_time": "2022-11-27T12:02:22.834828Z",
     "start_time": "2022-11-27T12:01:16.517169Z"
    }
   },
   "outputs": [
    {
     "name": "stdout",
     "output_type": "stream",
     "text": [
      "['identity', 'logistic', 'tanh', 'relu']\n"
     ]
    },
    {
     "data": {
      "image/png": "[encoded data removed]",
      "text/plain": [
       "<Figure size 640x480 with 1 Axes>"
      ]
     },
     "metadata": {},
     "output_type": "display_data"
    }
   ],
   "source": [
    "activation_list = ['identity','logistic','tanh','relu']\n",
    "rmse_lst=[]\n",
    "\n",
    "for i in activation_list:\n",
    "    clf = MLPRegressor(solver=best_solver,\n",
    "                        hidden_layer_sizes=best_layernumber,\n",
    "                        learning_rate_init=best_lr_choice,\n",
    "                        alpha=best_reg_choice,\n",
    "                        random_state=3612,\n",
    "                        activation=i,\n",
    "                        max_iter=1000)\n",
    "\n",
    "    clf.fit(X_train_norm, y_train_t2_value)\n",
    "    y_pred = clf.predict(X_valid_norm)\n",
    "    rmse1 = rmse(y_pred, y_valid_t2_value)\n",
    "    rmse_lst.append(rmse1)\n",
    "    \n",
    "print(activation_list)\n",
    "index = rmse_lst.index(min(rmse_lst))\n",
    "plt.plot(activation_list, rmse_lst, label=' Random State Tuning')\n",
    "plt.xlabel(' Random State Choices')\n",
    "plt.ylabel('RMSE')\n",
    "plt.title(f\" Activation Tuning {activation_list[index]} - ROC curve\")\n",
    "plt.legend(loc=\"best\")\n",
    "plt.annotate(np.min(rmse_lst).round(4), (np.argmin(rmse_lst), np.min(rmse_lst)), xycoords=\"data\",\n",
    "                 xytext=(40, 20), textcoords=\"offset pixels\", arrowprops=dict(facecolor=\"black\", shrink=0.1), fontsize=10,\n",
    "                 horizontalalignment=\"center\", verticalalignment=\"top\")\n",
    "plt.show()"
   ]
  },
  {
   "cell_type": "markdown",
   "id": "b16acbcd",
   "metadata": {},
   "source": [
    "# Test"
   ]
  },
  {
   "cell_type": "code",
   "execution_count": 93,
   "id": "393988a7",
   "metadata": {
    "ExecuteTime": {
     "end_time": "2022-11-27T12:02:22.847483Z",
     "start_time": "2022-11-27T12:02:22.836627Z"
    }
   },
   "outputs": [],
   "source": [
    "X = np.concatenate((X_train_norm,X_valid_norm),axis=0)\n",
    "y = np.concatenate((y_train_t2_value,y_valid_t2_value),axis=0)"
   ]
  },
  {
   "cell_type": "code",
   "execution_count": 94,
   "id": "f5c8cc99",
   "metadata": {
    "ExecuteTime": {
     "end_time": "2022-11-27T12:02:38.453651Z",
     "start_time": "2022-11-27T12:02:22.849338Z"
    }
   },
   "outputs": [
    {
     "name": "stderr",
     "output_type": "stream",
     "text": [
      "/home/fish/anaconda3/envs/comp3340/lib/python3.7/site-packages/sklearn/neural_network/_multilayer_perceptron.py:696: ConvergenceWarning: Stochastic Optimizer: Maximum iterations (200) reached and the optimization hasn't converged yet.\n",
      "  ConvergenceWarning,\n"
     ]
    },
    {
     "data": {
      "text/plain": [
       "2.1079877818500026"
      ]
     },
     "execution_count": 94,
     "metadata": {},
     "output_type": "execute_result"
    }
   ],
   "source": [
    "# Final model\n",
    "reg1 = MLPRegressor(\n",
    "                   )\n",
    "\n",
    "reg1.fit(X_train_norm,y_train_t2_value)\n",
    "y_pred = reg1.predict(X_valid_norm)\n",
    "rmse(y_pred, y_valid_t2_value)"
   ]
  },
  {
   "cell_type": "code",
   "execution_count": 95,
   "id": "bcd7285c",
   "metadata": {
    "ExecuteTime": {
     "end_time": "2022-11-27T12:02:38.467529Z",
     "start_time": "2022-11-27T12:02:38.456414Z"
    }
   },
   "outputs": [
    {
     "data": {
      "text/plain": [
       "2.1079877818500026"
      ]
     },
     "execution_count": 95,
     "metadata": {},
     "output_type": "execute_result"
    }
   ],
   "source": [
    "y_pred = reg1.predict(X_valid_norm)\n",
    "rmse(y_pred, y_valid_t2_value)"
   ]
  },
  {
   "cell_type": "code",
   "execution_count": 96,
   "id": "dcff3df6",
   "metadata": {
    "ExecuteTime": {
     "end_time": "2022-11-27T12:02:38.626034Z",
     "start_time": "2022-11-27T12:02:38.469835Z"
    }
   },
   "outputs": [
    {
     "data": {
      "text/html": [
       "<div>\n",
       "<style scoped>\n",
       "    .dataframe tbody tr th:only-of-type {\n",
       "        vertical-align: middle;\n",
       "    }\n",
       "\n",
       "    .dataframe tbody tr th {\n",
       "        vertical-align: top;\n",
       "    }\n",
       "\n",
       "    .dataframe thead th {\n",
       "        text-align: right;\n",
       "    }\n",
       "</style>\n",
       "<table border=\"1\" class=\"dataframe\">\n",
       "  <thead>\n",
       "    <tr style=\"text-align: right;\">\n",
       "      <th></th>\n",
       "      <th>0</th>\n",
       "      <th>1</th>\n",
       "      <th>2</th>\n",
       "      <th>3</th>\n",
       "      <th>4</th>\n",
       "      <th>5</th>\n",
       "      <th>6</th>\n",
       "      <th>7</th>\n",
       "      <th>8</th>\n",
       "      <th>9</th>\n",
       "      <th>...</th>\n",
       "      <th>45</th>\n",
       "      <th>46</th>\n",
       "      <th>47</th>\n",
       "      <th>48</th>\n",
       "      <th>49</th>\n",
       "      <th>50</th>\n",
       "      <th>51</th>\n",
       "      <th>52</th>\n",
       "      <th>53</th>\n",
       "      <th>54</th>\n",
       "    </tr>\n",
       "  </thead>\n",
       "  <tbody>\n",
       "    <tr>\n",
       "      <th>count</th>\n",
       "      <td>4.790000e+03</td>\n",
       "      <td>4.790000e+03</td>\n",
       "      <td>4.790000e+03</td>\n",
       "      <td>4.790000e+03</td>\n",
       "      <td>4.790000e+03</td>\n",
       "      <td>4.790000e+03</td>\n",
       "      <td>4.790000e+03</td>\n",
       "      <td>4.790000e+03</td>\n",
       "      <td>4.790000e+03</td>\n",
       "      <td>4.790000e+03</td>\n",
       "      <td>...</td>\n",
       "      <td>4.790000e+03</td>\n",
       "      <td>4.790000e+03</td>\n",
       "      <td>4.790000e+03</td>\n",
       "      <td>4.790000e+03</td>\n",
       "      <td>4.790000e+03</td>\n",
       "      <td>4790.000000</td>\n",
       "      <td>4.790000e+03</td>\n",
       "      <td>4.790000e+03</td>\n",
       "      <td>4.790000e+03</td>\n",
       "      <td>4.790000e+03</td>\n",
       "    </tr>\n",
       "    <tr>\n",
       "      <th>mean</th>\n",
       "      <td>-8.900327e-18</td>\n",
       "      <td>8.900327e-18</td>\n",
       "      <td>1.186710e-17</td>\n",
       "      <td>-1.483388e-18</td>\n",
       "      <td>1.780065e-17</td>\n",
       "      <td>5.191857e-18</td>\n",
       "      <td>-1.186710e-17</td>\n",
       "      <td>-8.900327e-18</td>\n",
       "      <td>-2.966776e-18</td>\n",
       "      <td>2.966776e-18</td>\n",
       "      <td>...</td>\n",
       "      <td>1.483388e-17</td>\n",
       "      <td>-2.966776e-18</td>\n",
       "      <td>2.966776e-18</td>\n",
       "      <td>2.076743e-17</td>\n",
       "      <td>2.966776e-18</td>\n",
       "      <td>0.000000</td>\n",
       "      <td>-2.966776e-18</td>\n",
       "      <td>1.186710e-17</td>\n",
       "      <td>1.260880e-17</td>\n",
       "      <td>-5.191857e-18</td>\n",
       "    </tr>\n",
       "    <tr>\n",
       "      <th>std</th>\n",
       "      <td>1.000104e+00</td>\n",
       "      <td>1.000104e+00</td>\n",
       "      <td>1.000104e+00</td>\n",
       "      <td>1.000104e+00</td>\n",
       "      <td>1.000104e+00</td>\n",
       "      <td>1.000104e+00</td>\n",
       "      <td>1.000104e+00</td>\n",
       "      <td>1.000104e+00</td>\n",
       "      <td>1.000104e+00</td>\n",
       "      <td>1.000104e+00</td>\n",
       "      <td>...</td>\n",
       "      <td>1.000104e+00</td>\n",
       "      <td>1.000104e+00</td>\n",
       "      <td>1.000104e+00</td>\n",
       "      <td>1.000104e+00</td>\n",
       "      <td>1.000104e+00</td>\n",
       "      <td>1.000104</td>\n",
       "      <td>1.000104e+00</td>\n",
       "      <td>1.000104e+00</td>\n",
       "      <td>1.000104e+00</td>\n",
       "      <td>1.000104e+00</td>\n",
       "    </tr>\n",
       "    <tr>\n",
       "      <th>min</th>\n",
       "      <td>-3.556379e+00</td>\n",
       "      <td>-2.838142e+00</td>\n",
       "      <td>-1.536457e+01</td>\n",
       "      <td>-1.123871e+00</td>\n",
       "      <td>-1.090785e+00</td>\n",
       "      <td>-2.313471e+00</td>\n",
       "      <td>-5.751566e+00</td>\n",
       "      <td>-3.322662e+00</td>\n",
       "      <td>-3.389959e-01</td>\n",
       "      <td>-2.001751e+00</td>\n",
       "      <td>...</td>\n",
       "      <td>-4.736598e+00</td>\n",
       "      <td>-3.692087e+00</td>\n",
       "      <td>-2.862890e+00</td>\n",
       "      <td>-8.055575e+00</td>\n",
       "      <td>-5.465878e-01</td>\n",
       "      <td>-3.486493</td>\n",
       "      <td>-1.905897e+00</td>\n",
       "      <td>-2.192629e+00</td>\n",
       "      <td>-9.245368e-01</td>\n",
       "      <td>-2.877995e+00</td>\n",
       "    </tr>\n",
       "    <tr>\n",
       "      <th>25%</th>\n",
       "      <td>-2.180239e-02</td>\n",
       "      <td>-7.032845e-01</td>\n",
       "      <td>-5.262887e-01</td>\n",
       "      <td>-5.885098e-01</td>\n",
       "      <td>-6.071152e-01</td>\n",
       "      <td>-6.114018e-01</td>\n",
       "      <td>-7.393733e-01</td>\n",
       "      <td>-6.911990e-01</td>\n",
       "      <td>-5.551026e-02</td>\n",
       "      <td>-6.308566e-01</td>\n",
       "      <td>...</td>\n",
       "      <td>-1.652654e-02</td>\n",
       "      <td>-5.599209e-01</td>\n",
       "      <td>-5.723597e-01</td>\n",
       "      <td>-5.290388e-03</td>\n",
       "      <td>-4.676456e-01</td>\n",
       "      <td>-0.040920</td>\n",
       "      <td>-2.174676e-01</td>\n",
       "      <td>-1.241869e-02</td>\n",
       "      <td>-4.422190e-01</td>\n",
       "      <td>-1.051838e-02</td>\n",
       "    </tr>\n",
       "    <tr>\n",
       "      <th>50%</th>\n",
       "      <td>-2.180239e-02</td>\n",
       "      <td>-5.918952e-02</td>\n",
       "      <td>1.145892e-01</td>\n",
       "      <td>-3.126732e-01</td>\n",
       "      <td>-2.886012e-01</td>\n",
       "      <td>-2.235298e-01</td>\n",
       "      <td>-1.262113e-01</td>\n",
       "      <td>-1.178589e-01</td>\n",
       "      <td>9.783142e-03</td>\n",
       "      <td>-1.259575e-01</td>\n",
       "      <td>...</td>\n",
       "      <td>-1.652654e-02</td>\n",
       "      <td>5.725481e-02</td>\n",
       "      <td>3.158027e-02</td>\n",
       "      <td>-5.290388e-03</td>\n",
       "      <td>1.610888e-01</td>\n",
       "      <td>-0.040920</td>\n",
       "      <td>-1.852143e-02</td>\n",
       "      <td>-1.241869e-02</td>\n",
       "      <td>-2.010602e-01</td>\n",
       "      <td>-1.051838e-02</td>\n",
       "    </tr>\n",
       "    <tr>\n",
       "      <th>75%</th>\n",
       "      <td>8.814692e-01</td>\n",
       "      <td>6.657165e-01</td>\n",
       "      <td>6.985036e-01</td>\n",
       "      <td>1.978024e-01</td>\n",
       "      <td>1.533247e-01</td>\n",
       "      <td>3.545389e-01</td>\n",
       "      <td>6.327947e-01</td>\n",
       "      <td>5.189761e-01</td>\n",
       "      <td>9.783142e-03</td>\n",
       "      <td>4.313781e-01</td>\n",
       "      <td>...</td>\n",
       "      <td>-1.652654e-02</td>\n",
       "      <td>5.509953e-01</td>\n",
       "      <td>3.158050e-01</td>\n",
       "      <td>3.311513e-01</td>\n",
       "      <td>1.610888e-01</td>\n",
       "      <td>-0.040920</td>\n",
       "      <td>-1.852143e-02</td>\n",
       "      <td>-1.241869e-02</td>\n",
       "      <td>1.316425e-01</td>\n",
       "      <td>-1.051838e-02</td>\n",
       "    </tr>\n",
       "    <tr>\n",
       "      <th>max</th>\n",
       "      <td>1.198458e+00</td>\n",
       "      <td>3.850336e+00</td>\n",
       "      <td>1.387850e+00</td>\n",
       "      <td>1.040731e+01</td>\n",
       "      <td>6.647926e+00</td>\n",
       "      <td>9.680445e+00</td>\n",
       "      <td>4.374406e+00</td>\n",
       "      <td>5.446387e+00</td>\n",
       "      <td>6.146729e+01</td>\n",
       "      <td>9.016094e+00</td>\n",
       "      <td>...</td>\n",
       "      <td>6.018757e+00</td>\n",
       "      <td>6.846187e+00</td>\n",
       "      <td>1.024923e+01</td>\n",
       "      <td>2.059389e+00</td>\n",
       "      <td>2.952342e+01</td>\n",
       "      <td>5.591317</td>\n",
       "      <td>1.977710e+01</td>\n",
       "      <td>2.526303e+01</td>\n",
       "      <td>2.598879e+01</td>\n",
       "      <td>1.364289e+01</td>\n",
       "    </tr>\n",
       "  </tbody>\n",
       "</table>\n",
       "<p>8 rows × 55 columns</p>\n",
       "</div>"
      ],
      "text/plain": [
       "                 0             1             2             3             4   \\\n",
       "count  4.790000e+03  4.790000e+03  4.790000e+03  4.790000e+03  4.790000e+03   \n",
       "mean  -8.900327e-18  8.900327e-18  1.186710e-17 -1.483388e-18  1.780065e-17   \n",
       "std    1.000104e+00  1.000104e+00  1.000104e+00  1.000104e+00  1.000104e+00   \n",
       "min   -3.556379e+00 -2.838142e+00 -1.536457e+01 -1.123871e+00 -1.090785e+00   \n",
       "25%   -2.180239e-02 -7.032845e-01 -5.262887e-01 -5.885098e-01 -6.071152e-01   \n",
       "50%   -2.180239e-02 -5.918952e-02  1.145892e-01 -3.126732e-01 -2.886012e-01   \n",
       "75%    8.814692e-01  6.657165e-01  6.985036e-01  1.978024e-01  1.533247e-01   \n",
       "max    1.198458e+00  3.850336e+00  1.387850e+00  1.040731e+01  6.647926e+00   \n",
       "\n",
       "                 5             6             7             8             9   \\\n",
       "count  4.790000e+03  4.790000e+03  4.790000e+03  4.790000e+03  4.790000e+03   \n",
       "mean   5.191857e-18 -1.186710e-17 -8.900327e-18 -2.966776e-18  2.966776e-18   \n",
       "std    1.000104e+00  1.000104e+00  1.000104e+00  1.000104e+00  1.000104e+00   \n",
       "min   -2.313471e+00 -5.751566e+00 -3.322662e+00 -3.389959e-01 -2.001751e+00   \n",
       "25%   -6.114018e-01 -7.393733e-01 -6.911990e-01 -5.551026e-02 -6.308566e-01   \n",
       "50%   -2.235298e-01 -1.262113e-01 -1.178589e-01  9.783142e-03 -1.259575e-01   \n",
       "75%    3.545389e-01  6.327947e-01  5.189761e-01  9.783142e-03  4.313781e-01   \n",
       "max    9.680445e+00  4.374406e+00  5.446387e+00  6.146729e+01  9.016094e+00   \n",
       "\n",
       "       ...            45            46            47            48  \\\n",
       "count  ...  4.790000e+03  4.790000e+03  4.790000e+03  4.790000e+03   \n",
       "mean   ...  1.483388e-17 -2.966776e-18  2.966776e-18  2.076743e-17   \n",
       "std    ...  1.000104e+00  1.000104e+00  1.000104e+00  1.000104e+00   \n",
       "min    ... -4.736598e+00 -3.692087e+00 -2.862890e+00 -8.055575e+00   \n",
       "25%    ... -1.652654e-02 -5.599209e-01 -5.723597e-01 -5.290388e-03   \n",
       "50%    ... -1.652654e-02  5.725481e-02  3.158027e-02 -5.290388e-03   \n",
       "75%    ... -1.652654e-02  5.509953e-01  3.158050e-01  3.311513e-01   \n",
       "max    ...  6.018757e+00  6.846187e+00  1.024923e+01  2.059389e+00   \n",
       "\n",
       "                 49           50            51            52            53  \\\n",
       "count  4.790000e+03  4790.000000  4.790000e+03  4.790000e+03  4.790000e+03   \n",
       "mean   2.966776e-18     0.000000 -2.966776e-18  1.186710e-17  1.260880e-17   \n",
       "std    1.000104e+00     1.000104  1.000104e+00  1.000104e+00  1.000104e+00   \n",
       "min   -5.465878e-01    -3.486493 -1.905897e+00 -2.192629e+00 -9.245368e-01   \n",
       "25%   -4.676456e-01    -0.040920 -2.174676e-01 -1.241869e-02 -4.422190e-01   \n",
       "50%    1.610888e-01    -0.040920 -1.852143e-02 -1.241869e-02 -2.010602e-01   \n",
       "75%    1.610888e-01    -0.040920 -1.852143e-02 -1.241869e-02  1.316425e-01   \n",
       "max    2.952342e+01     5.591317  1.977710e+01  2.526303e+01  2.598879e+01   \n",
       "\n",
       "                 54  \n",
       "count  4.790000e+03  \n",
       "mean  -5.191857e-18  \n",
       "std    1.000104e+00  \n",
       "min   -2.877995e+00  \n",
       "25%   -1.051838e-02  \n",
       "50%   -1.051838e-02  \n",
       "75%   -1.051838e-02  \n",
       "max    1.364289e+01  \n",
       "\n",
       "[8 rows x 55 columns]"
      ]
     },
     "execution_count": 96,
     "metadata": {},
     "output_type": "execute_result"
    }
   ],
   "source": [
    "X_test_norm.describe()"
   ]
  },
  {
   "cell_type": "code",
   "execution_count": 97,
   "id": "40f64526",
   "metadata": {
    "ExecuteTime": {
     "end_time": "2022-11-27T12:02:38.657589Z",
     "start_time": "2022-11-27T12:02:38.628364Z"
    }
   },
   "outputs": [
    {
     "data": {
      "text/html": [
       "<div>\n",
       "<style scoped>\n",
       "    .dataframe tbody tr th:only-of-type {\n",
       "        vertical-align: middle;\n",
       "    }\n",
       "\n",
       "    .dataframe tbody tr th {\n",
       "        vertical-align: top;\n",
       "    }\n",
       "\n",
       "    .dataframe thead th {\n",
       "        text-align: right;\n",
       "    }\n",
       "</style>\n",
       "<table border=\"1\" class=\"dataframe\">\n",
       "  <thead>\n",
       "    <tr style=\"text-align: right;\">\n",
       "      <th></th>\n",
       "      <th>0</th>\n",
       "      <th>1</th>\n",
       "      <th>2</th>\n",
       "      <th>3</th>\n",
       "      <th>4</th>\n",
       "      <th>5</th>\n",
       "      <th>6</th>\n",
       "      <th>7</th>\n",
       "      <th>8</th>\n",
       "      <th>9</th>\n",
       "      <th>...</th>\n",
       "      <th>45</th>\n",
       "      <th>46</th>\n",
       "      <th>47</th>\n",
       "      <th>48</th>\n",
       "      <th>49</th>\n",
       "      <th>50</th>\n",
       "      <th>51</th>\n",
       "      <th>52</th>\n",
       "      <th>53</th>\n",
       "      <th>54</th>\n",
       "    </tr>\n",
       "  </thead>\n",
       "  <tbody>\n",
       "    <tr>\n",
       "      <th>0</th>\n",
       "      <td>-0.386487</td>\n",
       "      <td>1.078343</td>\n",
       "      <td>-1.848121</td>\n",
       "      <td>-0.697255</td>\n",
       "      <td>-0.654302</td>\n",
       "      <td>-0.415546</td>\n",
       "      <td>-0.524015</td>\n",
       "      <td>0.420901</td>\n",
       "      <td>-0.072186</td>\n",
       "      <td>0.560483</td>\n",
       "      <td>...</td>\n",
       "      <td>-0.016527</td>\n",
       "      <td>1.044736</td>\n",
       "      <td>0.362551</td>\n",
       "      <td>-0.005290</td>\n",
       "      <td>0.161089</td>\n",
       "      <td>3.311502</td>\n",
       "      <td>-0.018521</td>\n",
       "      <td>-0.591049</td>\n",
       "      <td>-0.345755</td>\n",
       "      <td>-0.010518</td>\n",
       "    </tr>\n",
       "    <tr>\n",
       "      <th>1</th>\n",
       "      <td>1.198458</td>\n",
       "      <td>-1.207596</td>\n",
       "      <td>-1.384351</td>\n",
       "      <td>-0.287369</td>\n",
       "      <td>-0.642506</td>\n",
       "      <td>-0.559052</td>\n",
       "      <td>-0.374323</td>\n",
       "      <td>-0.240427</td>\n",
       "      <td>0.009783</td>\n",
       "      <td>2.716732</td>\n",
       "      <td>...</td>\n",
       "      <td>1.716615</td>\n",
       "      <td>0.880156</td>\n",
       "      <td>-0.665851</td>\n",
       "      <td>0.468986</td>\n",
       "      <td>-0.504080</td>\n",
       "      <td>-0.040920</td>\n",
       "      <td>-0.661791</td>\n",
       "      <td>-0.012419</td>\n",
       "      <td>-0.345755</td>\n",
       "      <td>-0.010518</td>\n",
       "    </tr>\n",
       "    <tr>\n",
       "      <th>2</th>\n",
       "      <td>1.198458</td>\n",
       "      <td>-1.041928</td>\n",
       "      <td>-0.064627</td>\n",
       "      <td>-0.471400</td>\n",
       "      <td>-0.719185</td>\n",
       "      <td>-0.316506</td>\n",
       "      <td>0.175336</td>\n",
       "      <td>-0.520262</td>\n",
       "      <td>0.009783</td>\n",
       "      <td>0.074254</td>\n",
       "      <td>...</td>\n",
       "      <td>0.999591</td>\n",
       "      <td>0.550995</td>\n",
       "      <td>-0.619105</td>\n",
       "      <td>-0.782131</td>\n",
       "      <td>-0.518250</td>\n",
       "      <td>-0.040920</td>\n",
       "      <td>0.226856</td>\n",
       "      <td>-0.012419</td>\n",
       "      <td>0.015983</td>\n",
       "      <td>-0.010518</td>\n",
       "    </tr>\n",
       "    <tr>\n",
       "      <th>3</th>\n",
       "      <td>-0.254409</td>\n",
       "      <td>-0.193021</td>\n",
       "      <td>0.438556</td>\n",
       "      <td>-0.069878</td>\n",
       "      <td>0.065303</td>\n",
       "      <td>-0.504732</td>\n",
       "      <td>-0.030925</td>\n",
       "      <td>0.590310</td>\n",
       "      <td>-0.030497</td>\n",
       "      <td>-1.374898</td>\n",
       "      <td>...</td>\n",
       "      <td>-0.016527</td>\n",
       "      <td>-0.313051</td>\n",
       "      <td>0.031580</td>\n",
       "      <td>-0.005290</td>\n",
       "      <td>0.161089</td>\n",
       "      <td>0.409919</td>\n",
       "      <td>-0.018521</td>\n",
       "      <td>-0.167774</td>\n",
       "      <td>-0.056365</td>\n",
       "      <td>-0.010518</td>\n",
       "    </tr>\n",
       "    <tr>\n",
       "      <th>4</th>\n",
       "      <td>1.198458</td>\n",
       "      <td>0.609900</td>\n",
       "      <td>0.486115</td>\n",
       "      <td>-0.371019</td>\n",
       "      <td>-0.188328</td>\n",
       "      <td>-1.076484</td>\n",
       "      <td>-1.661421</td>\n",
       "      <td>0.618287</td>\n",
       "      <td>0.009783</td>\n",
       "      <td>-1.507419</td>\n",
       "      <td>...</td>\n",
       "      <td>-0.016527</td>\n",
       "      <td>-0.189615</td>\n",
       "      <td>-0.151650</td>\n",
       "      <td>0.585616</td>\n",
       "      <td>-0.524322</td>\n",
       "      <td>-0.040920</td>\n",
       "      <td>1.115503</td>\n",
       "      <td>-0.012419</td>\n",
       "      <td>-0.779841</td>\n",
       "      <td>-0.010518</td>\n",
       "    </tr>\n",
       "    <tr>\n",
       "      <th>...</th>\n",
       "      <td>...</td>\n",
       "      <td>...</td>\n",
       "      <td>...</td>\n",
       "      <td>...</td>\n",
       "      <td>...</td>\n",
       "      <td>...</td>\n",
       "      <td>...</td>\n",
       "      <td>...</td>\n",
       "      <td>...</td>\n",
       "      <td>...</td>\n",
       "      <td>...</td>\n",
       "      <td>...</td>\n",
       "      <td>...</td>\n",
       "      <td>...</td>\n",
       "      <td>...</td>\n",
       "      <td>...</td>\n",
       "      <td>...</td>\n",
       "      <td>...</td>\n",
       "      <td>...</td>\n",
       "      <td>...</td>\n",
       "      <td>...</td>\n",
       "    </tr>\n",
       "    <tr>\n",
       "      <th>4785</th>\n",
       "      <td>-0.021802</td>\n",
       "      <td>0.039085</td>\n",
       "      <td>-0.185843</td>\n",
       "      <td>0.030502</td>\n",
       "      <td>1.864317</td>\n",
       "      <td>-0.652028</td>\n",
       "      <td>-0.414839</td>\n",
       "      <td>0.214338</td>\n",
       "      <td>-0.038835</td>\n",
       "      <td>1.022877</td>\n",
       "      <td>...</td>\n",
       "      <td>-0.016527</td>\n",
       "      <td>1.785347</td>\n",
       "      <td>0.409296</td>\n",
       "      <td>0.649232</td>\n",
       "      <td>0.161089</td>\n",
       "      <td>-0.040920</td>\n",
       "      <td>0.626747</td>\n",
       "      <td>-0.179214</td>\n",
       "      <td>-0.490451</td>\n",
       "      <td>-0.010518</td>\n",
       "    </tr>\n",
       "    <tr>\n",
       "      <th>4786</th>\n",
       "      <td>-0.021802</td>\n",
       "      <td>-0.703382</td>\n",
       "      <td>1.387850</td>\n",
       "      <td>2.309134</td>\n",
       "      <td>0.153325</td>\n",
       "      <td>4.821196</td>\n",
       "      <td>1.982481</td>\n",
       "      <td>-0.009874</td>\n",
       "      <td>0.009783</td>\n",
       "      <td>2.738978</td>\n",
       "      <td>...</td>\n",
       "      <td>-0.016527</td>\n",
       "      <td>-0.806791</td>\n",
       "      <td>0.502787</td>\n",
       "      <td>-0.005290</td>\n",
       "      <td>0.161089</td>\n",
       "      <td>-0.040920</td>\n",
       "      <td>-0.018521</td>\n",
       "      <td>-0.012419</td>\n",
       "      <td>0.131643</td>\n",
       "      <td>-0.010518</td>\n",
       "    </tr>\n",
       "    <tr>\n",
       "      <th>4787</th>\n",
       "      <td>-0.021802</td>\n",
       "      <td>0.702026</td>\n",
       "      <td>0.276190</td>\n",
       "      <td>-0.697255</td>\n",
       "      <td>-0.007837</td>\n",
       "      <td>-0.202474</td>\n",
       "      <td>-0.193095</td>\n",
       "      <td>-0.021898</td>\n",
       "      <td>-0.055510</td>\n",
       "      <td>-1.448309</td>\n",
       "      <td>...</td>\n",
       "      <td>-0.016527</td>\n",
       "      <td>-0.806791</td>\n",
       "      <td>0.031580</td>\n",
       "      <td>-0.005290</td>\n",
       "      <td>0.161089</td>\n",
       "      <td>-0.040920</td>\n",
       "      <td>-0.018521</td>\n",
       "      <td>-0.138031</td>\n",
       "      <td>0.175148</td>\n",
       "      <td>-1.334643</td>\n",
       "    </tr>\n",
       "    <tr>\n",
       "      <th>4788</th>\n",
       "      <td>-0.021802</td>\n",
       "      <td>-0.722627</td>\n",
       "      <td>-1.297502</td>\n",
       "      <td>0.381833</td>\n",
       "      <td>-0.666099</td>\n",
       "      <td>0.048931</td>\n",
       "      <td>0.716918</td>\n",
       "      <td>1.066594</td>\n",
       "      <td>0.009783</td>\n",
       "      <td>0.725737</td>\n",
       "      <td>...</td>\n",
       "      <td>-0.016527</td>\n",
       "      <td>-0.313051</td>\n",
       "      <td>0.269060</td>\n",
       "      <td>1.522187</td>\n",
       "      <td>0.161089</td>\n",
       "      <td>-0.040920</td>\n",
       "      <td>-0.913575</td>\n",
       "      <td>-0.012419</td>\n",
       "      <td>-0.635146</td>\n",
       "      <td>-0.010518</td>\n",
       "    </tr>\n",
       "    <tr>\n",
       "      <th>4789</th>\n",
       "      <td>-0.021802</td>\n",
       "      <td>-1.091229</td>\n",
       "      <td>-2.142301</td>\n",
       "      <td>1.586396</td>\n",
       "      <td>0.389716</td>\n",
       "      <td>-0.033535</td>\n",
       "      <td>0.270453</td>\n",
       "      <td>-0.710874</td>\n",
       "      <td>0.009783</td>\n",
       "      <td>-0.810809</td>\n",
       "      <td>...</td>\n",
       "      <td>-2.824535</td>\n",
       "      <td>-0.436486</td>\n",
       "      <td>2.933554</td>\n",
       "      <td>0.681040</td>\n",
       "      <td>-0.518250</td>\n",
       "      <td>-0.040920</td>\n",
       "      <td>0.226856</td>\n",
       "      <td>-0.012419</td>\n",
       "      <td>-0.490451</td>\n",
       "      <td>-0.010518</td>\n",
       "    </tr>\n",
       "  </tbody>\n",
       "</table>\n",
       "<p>4790 rows × 55 columns</p>\n",
       "</div>"
      ],
      "text/plain": [
       "            0         1         2         3         4         5         6   \\\n",
       "0    -0.386487  1.078343 -1.848121 -0.697255 -0.654302 -0.415546 -0.524015   \n",
       "1     1.198458 -1.207596 -1.384351 -0.287369 -0.642506 -0.559052 -0.374323   \n",
       "2     1.198458 -1.041928 -0.064627 -0.471400 -0.719185 -0.316506  0.175336   \n",
       "3    -0.254409 -0.193021  0.438556 -0.069878  0.065303 -0.504732 -0.030925   \n",
       "4     1.198458  0.609900  0.486115 -0.371019 -0.188328 -1.076484 -1.661421   \n",
       "...        ...       ...       ...       ...       ...       ...       ...   \n",
       "4785 -0.021802  0.039085 -0.185843  0.030502  1.864317 -0.652028 -0.414839   \n",
       "4786 -0.021802 -0.703382  1.387850  2.309134  0.153325  4.821196  1.982481   \n",
       "4787 -0.021802  0.702026  0.276190 -0.697255 -0.007837 -0.202474 -0.193095   \n",
       "4788 -0.021802 -0.722627 -1.297502  0.381833 -0.666099  0.048931  0.716918   \n",
       "4789 -0.021802 -1.091229 -2.142301  1.586396  0.389716 -0.033535  0.270453   \n",
       "\n",
       "            7         8         9   ...        45        46        47  \\\n",
       "0     0.420901 -0.072186  0.560483  ... -0.016527  1.044736  0.362551   \n",
       "1    -0.240427  0.009783  2.716732  ...  1.716615  0.880156 -0.665851   \n",
       "2    -0.520262  0.009783  0.074254  ...  0.999591  0.550995 -0.619105   \n",
       "3     0.590310 -0.030497 -1.374898  ... -0.016527 -0.313051  0.031580   \n",
       "4     0.618287  0.009783 -1.507419  ... -0.016527 -0.189615 -0.151650   \n",
       "...        ...       ...       ...  ...       ...       ...       ...   \n",
       "4785  0.214338 -0.038835  1.022877  ... -0.016527  1.785347  0.409296   \n",
       "4786 -0.009874  0.009783  2.738978  ... -0.016527 -0.806791  0.502787   \n",
       "4787 -0.021898 -0.055510 -1.448309  ... -0.016527 -0.806791  0.031580   \n",
       "4788  1.066594  0.009783  0.725737  ... -0.016527 -0.313051  0.269060   \n",
       "4789 -0.710874  0.009783 -0.810809  ... -2.824535 -0.436486  2.933554   \n",
       "\n",
       "            48        49        50        51        52        53        54  \n",
       "0    -0.005290  0.161089  3.311502 -0.018521 -0.591049 -0.345755 -0.010518  \n",
       "1     0.468986 -0.504080 -0.040920 -0.661791 -0.012419 -0.345755 -0.010518  \n",
       "2    -0.782131 -0.518250 -0.040920  0.226856 -0.012419  0.015983 -0.010518  \n",
       "3    -0.005290  0.161089  0.409919 -0.018521 -0.167774 -0.056365 -0.010518  \n",
       "4     0.585616 -0.524322 -0.040920  1.115503 -0.012419 -0.779841 -0.010518  \n",
       "...        ...       ...       ...       ...       ...       ...       ...  \n",
       "4785  0.649232  0.161089 -0.040920  0.626747 -0.179214 -0.490451 -0.010518  \n",
       "4786 -0.005290  0.161089 -0.040920 -0.018521 -0.012419  0.131643 -0.010518  \n",
       "4787 -0.005290  0.161089 -0.040920 -0.018521 -0.138031  0.175148 -1.334643  \n",
       "4788  1.522187  0.161089 -0.040920 -0.913575 -0.012419 -0.635146 -0.010518  \n",
       "4789  0.681040 -0.518250 -0.040920  0.226856 -0.012419 -0.490451 -0.010518  \n",
       "\n",
       "[4790 rows x 55 columns]"
      ]
     },
     "execution_count": 97,
     "metadata": {},
     "output_type": "execute_result"
    }
   ],
   "source": [
    "X_test"
   ]
  },
  {
   "cell_type": "code",
   "execution_count": 98,
   "id": "8747d5c8",
   "metadata": {
    "ExecuteTime": {
     "end_time": "2022-11-27T12:02:38.713551Z",
     "start_time": "2022-11-27T12:02:38.660327Z"
    },
    "scrolled": true
   },
   "outputs": [
    {
     "data": {
      "text/html": [
       "<div>\n",
       "<style scoped>\n",
       "    .dataframe tbody tr th:only-of-type {\n",
       "        vertical-align: middle;\n",
       "    }\n",
       "\n",
       "    .dataframe tbody tr th {\n",
       "        vertical-align: top;\n",
       "    }\n",
       "\n",
       "    .dataframe thead th {\n",
       "        text-align: right;\n",
       "    }\n",
       "</style>\n",
       "<table border=\"1\" class=\"dataframe\">\n",
       "  <thead>\n",
       "    <tr style=\"text-align: right;\">\n",
       "      <th></th>\n",
       "      <th>Predicted</th>\n",
       "    </tr>\n",
       "    <tr>\n",
       "      <th>Id</th>\n",
       "      <th></th>\n",
       "    </tr>\n",
       "  </thead>\n",
       "  <tbody>\n",
       "    <tr>\n",
       "      <th>32_175413_295037</th>\n",
       "      <td>3.843334</td>\n",
       "    </tr>\n",
       "    <tr>\n",
       "      <th>33_176176_296681</th>\n",
       "      <td>3.543536</td>\n",
       "    </tr>\n",
       "    <tr>\n",
       "      <th>42_119203_210828</th>\n",
       "      <td>2.150945</td>\n",
       "    </tr>\n",
       "    <tr>\n",
       "      <th>44_181750_291554</th>\n",
       "      <td>1.172765</td>\n",
       "    </tr>\n",
       "    <tr>\n",
       "      <th>61_176332_252348</th>\n",
       "      <td>2.195840</td>\n",
       "    </tr>\n",
       "    <tr>\n",
       "      <th>...</th>\n",
       "      <td>...</td>\n",
       "    </tr>\n",
       "    <tr>\n",
       "      <th>99883_150755_276467</th>\n",
       "      <td>4.975330</td>\n",
       "    </tr>\n",
       "    <tr>\n",
       "      <th>99897_162913_266801</th>\n",
       "      <td>3.015082</td>\n",
       "    </tr>\n",
       "    <tr>\n",
       "      <th>99913_175989_292375</th>\n",
       "      <td>0.714909</td>\n",
       "    </tr>\n",
       "    <tr>\n",
       "      <th>99944_185654_221067</th>\n",
       "      <td>3.115819</td>\n",
       "    </tr>\n",
       "    <tr>\n",
       "      <th>99992_197084_242052</th>\n",
       "      <td>3.939400</td>\n",
       "    </tr>\n",
       "  </tbody>\n",
       "</table>\n",
       "<p>4790 rows × 1 columns</p>\n",
       "</div>"
      ],
      "text/plain": [
       "                     Predicted\n",
       "Id                            \n",
       "32_175413_295037      3.843334\n",
       "33_176176_296681      3.543536\n",
       "42_119203_210828      2.150945\n",
       "44_181750_291554      1.172765\n",
       "61_176332_252348      2.195840\n",
       "...                        ...\n",
       "99883_150755_276467   4.975330\n",
       "99897_162913_266801   3.015082\n",
       "99913_175989_292375   0.714909\n",
       "99944_185654_221067   3.115819\n",
       "99992_197084_242052   3.939400\n",
       "\n",
       "[4790 rows x 1 columns]"
      ]
     },
     "execution_count": 98,
     "metadata": {},
     "output_type": "execute_result"
    }
   ],
   "source": [
    "\n",
    "result = reg1.predict(X_test_norm)\n",
    "res1 = pd.DataFrame(result.tolist(), columns=[\"Predicted\"])\n",
    "res1.index = final_index\n",
    "res1.index.name = 'Id'\n",
    "pd.DataFrame(res1).to_csv('out12col.csv')\n",
    "#print(torch.count_nonzero(torch.from_numpy(np.array(res1)).to(torch.float32)))\n",
    "res1"
   ]
  }
 ],
 "metadata": {
  "kernelspec": {
   "display_name": "comp3340",
   "language": "python",
   "name": "comp3340"
  },
  "language_info": {
   "codemirror_mode": {
    "name": "ipython",
    "version": 3
   },
   "file_extension": ".py",
   "mimetype": "text/x-python",
   "name": "python",
   "nbconvert_exporter": "python",
   "pygments_lexer": "ipython3",
   "version": "3.7.7"
  },
  "toc": {
   "base_numbering": 1,
   "nav_menu": {},
   "number_sections": true,
   "sideBar": true,
   "skip_h1_title": false,
   "title_cell": "Table of Contents",
   "title_sidebar": "Contents",
   "toc_cell": false,
   "toc_position": {},
   "toc_section_display": true,
   "toc_window_display": true
  }
 },
 "nbformat": 4,
 "nbformat_minor": 5
}
