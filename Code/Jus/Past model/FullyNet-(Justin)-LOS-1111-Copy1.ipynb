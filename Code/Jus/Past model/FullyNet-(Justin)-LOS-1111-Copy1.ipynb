{
 "cells": [
  {
   "cell_type": "markdown",
   "id": "970d9aef",
   "metadata": {},
   "source": [
    "# Libraries"
   ]
  },
  {
   "cell_type": "code",
   "execution_count": 34,
   "id": "71cace5d",
   "metadata": {
    "ExecuteTime": {
     "end_time": "2022-11-27T12:00:36.403315Z",
     "start_time": "2022-11-27T12:00:36.349944Z"
    }
   },
   "outputs": [],
   "source": [
    "import torch\n",
    "import torchvision\n",
    "import torch.nn as nn\n",
    "import torch.optim as optim\n",
    "import torch.nn.functional as F\n",
    "from torch.utils.data import Dataset, DataLoader\n",
    "import torchvision.transforms as transforms\n",
    "import matplotlib.pyplot as plt\n",
    "from sklearn import metrics\n",
    "\n",
    "device = torch.device(\"cuda\" if torch.cuda.is_available() else \"cpu\")"
   ]
  },
  {
   "cell_type": "markdown",
   "id": "e5e3db1d",
   "metadata": {
    "ExecuteTime": {
     "end_time": "2022-10-27T03:47:12.458066Z",
     "start_time": "2022-10-27T03:47:12.452095Z"
    }
   },
   "source": [
    "# Import data"
   ]
  },
  {
   "cell_type": "code",
   "execution_count": 35,
   "id": "c7c7a26f",
   "metadata": {
    "ExecuteTime": {
     "end_time": "2022-11-27T12:01:21.715404Z",
     "start_time": "2022-11-27T12:00:36.408122Z"
    }
   },
   "outputs": [
    {
     "name": "stdout",
     "output_type": "stream",
     "text": [
      "************************************************************\n",
      "There are 6 set of X\n",
      "X_*_nozero\n",
      "------------------------------------------------------------\n",
      "Normalized version\n",
      "X_*_norm\n",
      "------------------------------------------------------------\n",
      "There are 4 set of Y\n",
      "y_train_t1, y_train_t2, y_valid_t1, y_valid_t2\n",
      "when training, please use: 'y_train_t1_value,y_train_t2_value,y_valid_t1_value,y_valid_t2_value'\n",
      "************************************************************\n"
     ]
    }
   ],
   "source": [
    "%run Data_preprocessing.ipynb"
   ]
  },
  {
   "cell_type": "code",
   "execution_count": 36,
   "id": "4aa393c8",
   "metadata": {
    "ExecuteTime": {
     "end_time": "2022-11-27T12:01:21.728550Z",
     "start_time": "2022-11-27T12:01:21.719439Z"
    }
   },
   "outputs": [
    {
     "name": "stdout",
     "output_type": "stream",
     "text": [
      "(16760, 61)\n",
      "(2394, 61)\n",
      "(4790, 61)\n"
     ]
    }
   ],
   "source": [
    "print(X_train_norm.shape)\n",
    "print(X_valid_norm.shape)\n",
    "print(X_test_norm.shape)"
   ]
  },
  {
   "cell_type": "markdown",
   "id": "560831ad",
   "metadata": {},
   "source": [
    "# Hyperparameters"
   ]
  },
  {
   "cell_type": "code",
   "execution_count": 37,
   "id": "6fb9fe03",
   "metadata": {
    "ExecuteTime": {
     "end_time": "2022-11-27T12:01:21.741466Z",
     "start_time": "2022-11-27T12:01:21.735099Z"
    }
   },
   "outputs": [],
   "source": [
    "input_size = X_train_norm.shape[1]\n",
    "output_size = 1 #resulting LOS\n",
    "learning_rate = 0.01\n",
    "batch_size = 64\n",
    "num_epochs = 200"
   ]
  },
  {
   "cell_type": "markdown",
   "id": "9b7e4676",
   "metadata": {},
   "source": [
    "# Create FullyNet"
   ]
  },
  {
   "cell_type": "code",
   "execution_count": 43,
   "id": "c00d907c",
   "metadata": {
    "ExecuteTime": {
     "end_time": "2022-11-27T12:01:54.317907Z",
     "start_time": "2022-11-27T12:01:54.312491Z"
    }
   },
   "outputs": [],
   "source": [
    "class NN(nn.Module):\n",
    "    def __init__(self, input_size):\n",
    "        super(NN, self).__init__()\n",
    "        self.Conv1 = nn.Conv1d(input_size, 30, kernel_size=1)\n",
    "        self.Conv2 = nn.Conv1d(30, 15, kernel_size=1)\n",
    "        self.fc3 = nn.Linear(15, 1)\n",
    "        \n",
    "        self.batchnorm1 = nn.BatchNorm1d(30)\n",
    "        self.dropout = nn.Dropout(p=0.5)\n",
    "\n",
    "        \n",
    "        \n",
    "    def forward(self, x):\n",
    "         x = F.leaky_relu(self.Conv1(x))\n",
    "         x = self.batchnorm1(x)\n",
    "         x = F.leaky_relu(self.Conv2(x))\n",
    "         x = self.dropout(x)\n",
    "         x = F.leaky_relu(self.fc3(x))\n",
    "         \n",
    "         return x"
   ]
  },
  {
   "cell_type": "markdown",
   "id": "076d6376",
   "metadata": {
    "heading_collapsed": true
   },
   "source": [
    "# Data transform"
   ]
  },
  {
   "cell_type": "code",
   "execution_count": 39,
   "id": "d7e4872c",
   "metadata": {
    "ExecuteTime": {
     "end_time": "2022-11-27T12:01:21.769593Z",
     "start_time": "2022-11-27T12:01:21.760673Z"
    },
    "hidden": true
   },
   "outputs": [],
   "source": [
    "class CusDatasetLoader(Dataset):\n",
    "    def __init__(self,x,y):\n",
    "        self.len = y.shape[0]\n",
    "        self.x_data = x\n",
    "        self.y_data = y\n",
    "  \n",
    "    def __len__(self):\n",
    "        return self.len\n",
    "\n",
    "    def __getitem__(self, index):\n",
    "        #return self.dataframe.iloc[index]\n",
    "        return self.x_data[index], self.y_data[index]"
   ]
  },
  {
   "cell_type": "code",
   "execution_count": 40,
   "id": "456be776",
   "metadata": {
    "ExecuteTime": {
     "end_time": "2022-11-27T12:01:21.783424Z",
     "start_time": "2022-11-27T12:01:21.772874Z"
    },
    "hidden": true
   },
   "outputs": [],
   "source": [
    "# X_shape(X) : used for split the data into a right tensor size\n",
    "#input: X in shape of 16760 rows × 104 columns (df)\n",
    "#output: X in shape of torch.Size([16760, 104, 1]) (tensor)\n",
    "\n",
    "def X_tensor(X):\n",
    "    X_tensor = torch.from_numpy(np.array(X)).to(torch.float32)\n",
    "    #print(X_tensor.shape)\n",
    "    #X_tensor = torch.stack(X_tensor).permute()\n",
    "    print(\"X now in shape of\",X_tensor.shape)\n",
    "    return X_tensor\n",
    "\n",
    "# y_tensor(y) : used for split the data into a right tensor size\n",
    "#input: X in shape of 16760 rows × 7488 columns (df)\n",
    "#output: X in shape of torch.Size([16760, 312, 24]) (tensor)\n",
    "\n",
    "def y_tensor(y):\n",
    "    y= torch.from_numpy(np.array(y)).to(torch.float32).reshape(len(y),1)\n",
    "    print(\"y now in shape of\",y.shape)\n",
    "    return y"
   ]
  },
  {
   "cell_type": "code",
   "execution_count": 41,
   "id": "006849f5",
   "metadata": {
    "ExecuteTime": {
     "end_time": "2022-11-27T12:01:21.833653Z",
     "start_time": "2022-11-27T12:01:21.786497Z"
    },
    "hidden": true
   },
   "outputs": [
    {
     "name": "stdout",
     "output_type": "stream",
     "text": [
      "X now in shape of torch.Size([16760, 61])\n",
      "y now in shape of torch.Size([16760, 1])\n",
      "torch.Size([61])\n",
      "torch.Size([1])\n"
     ]
    }
   ],
   "source": [
    "# X should be in smaples, 1, squence, rows\n",
    "X1 = X_tensor(X_train_norm)\n",
    "y1 = y_tensor(y_train_t2.iloc[:,-1].astype(float))\n",
    "\n",
    "train_datasets = CusDatasetLoader(X1, y1)\n",
    "train_loader = DataLoader(dataset=train_datasets, batch_size=batch_size, shuffle=True)\n",
    "\n",
    "x,y = train_datasets[0]\n",
    "print(x.shape)\n",
    "print(y.shape)"
   ]
  },
  {
   "cell_type": "markdown",
   "id": "e366eb01",
   "metadata": {},
   "source": [
    "# Model train"
   ]
  },
  {
   "cell_type": "code",
   "execution_count": 44,
   "id": "6443333a",
   "metadata": {
    "ExecuteTime": {
     "end_time": "2022-11-27T12:01:56.799223Z",
     "start_time": "2022-11-27T12:01:56.776378Z"
    }
   },
   "outputs": [],
   "source": [
    "model = NN(input_size).to(device)"
   ]
  },
  {
   "cell_type": "raw",
   "id": "521238bb",
   "metadata": {
    "ExecuteTime": {
     "end_time": "2022-11-10T17:45:27.568519Z",
     "start_time": "2022-11-10T17:45:27.562929Z"
    }
   },
   "source": [
    "# Criterion and optimizer setting\n",
    "\n",
    "criterion = nn.MSELoss()\n",
    "optimizer = optim.Adam(model.parameters(), lr = learning_rate)"
   ]
  },
  {
   "cell_type": "code",
   "execution_count": 45,
   "id": "e73149f1",
   "metadata": {
    "ExecuteTime": {
     "end_time": "2022-11-27T12:01:59.664178Z",
     "start_time": "2022-11-27T12:01:59.658664Z"
    }
   },
   "outputs": [],
   "source": [
    "#optimizer = torch.optim.SGD(model.parameters(),lr=learning_rate)\n",
    "#optimizer = optim.Adam(model.parameters(), lr = learning_rate)\n",
    "optimizer = optim.Adadelta(model.parameters(), lr = learning_rate)\n",
    "criterion = torch.nn.MSELoss()"
   ]
  },
  {
   "cell_type": "code",
   "execution_count": 46,
   "id": "680547a7",
   "metadata": {
    "ExecuteTime": {
     "end_time": "2022-11-27T12:02:02.760338Z",
     "start_time": "2022-11-27T12:02:02.697897Z"
    },
    "scrolled": true
   },
   "outputs": [
    {
     "ename": "RuntimeError",
     "evalue": "Expected 3-dimensional input for 3-dimensional weight [30, 61, 1], but got 2-dimensional input of size [64, 61] instead",
     "output_type": "error",
     "traceback": [
      "\u001b[0;31m---------------------------------------------------------------------------\u001b[0m",
      "\u001b[0;31mRuntimeError\u001b[0m                              Traceback (most recent call last)",
      "\u001b[0;32m/tmp/ipykernel_14879/3556892005.py\u001b[0m in \u001b[0;36m<module>\u001b[0;34m\u001b[0m\n\u001b[1;32m     12\u001b[0m \u001b[0;34m\u001b[0m\u001b[0m\n\u001b[1;32m     13\u001b[0m         \u001b[0;31m# forward\u001b[0m\u001b[0;34m\u001b[0m\u001b[0;34m\u001b[0m\u001b[0;34m\u001b[0m\u001b[0m\n\u001b[0;32m---> 14\u001b[0;31m         \u001b[0mscores\u001b[0m \u001b[0;34m=\u001b[0m \u001b[0mmodel\u001b[0m\u001b[0;34m(\u001b[0m\u001b[0mdata\u001b[0m\u001b[0;34m)\u001b[0m\u001b[0;34m\u001b[0m\u001b[0;34m\u001b[0m\u001b[0m\n\u001b[0m\u001b[1;32m     15\u001b[0m         \u001b[0;31m#print(scores)\u001b[0m\u001b[0;34m\u001b[0m\u001b[0;34m\u001b[0m\u001b[0;34m\u001b[0m\u001b[0m\n\u001b[1;32m     16\u001b[0m         \u001b[0mloss\u001b[0m \u001b[0;34m=\u001b[0m \u001b[0mcriterion\u001b[0m\u001b[0;34m(\u001b[0m\u001b[0mscores\u001b[0m\u001b[0;34m,\u001b[0m \u001b[0mtargets\u001b[0m\u001b[0;34m)\u001b[0m\u001b[0;34m\u001b[0m\u001b[0;34m\u001b[0m\u001b[0m\n",
      "\u001b[0;32m~/anaconda3/envs/comp3340/lib/python3.7/site-packages/torch/nn/modules/module.py\u001b[0m in \u001b[0;36m_call_impl\u001b[0;34m(self, *input, **kwargs)\u001b[0m\n\u001b[1;32m    725\u001b[0m             \u001b[0mresult\u001b[0m \u001b[0;34m=\u001b[0m \u001b[0mself\u001b[0m\u001b[0;34m.\u001b[0m\u001b[0m_slow_forward\u001b[0m\u001b[0;34m(\u001b[0m\u001b[0;34m*\u001b[0m\u001b[0minput\u001b[0m\u001b[0;34m,\u001b[0m \u001b[0;34m**\u001b[0m\u001b[0mkwargs\u001b[0m\u001b[0;34m)\u001b[0m\u001b[0;34m\u001b[0m\u001b[0;34m\u001b[0m\u001b[0m\n\u001b[1;32m    726\u001b[0m         \u001b[0;32melse\u001b[0m\u001b[0;34m:\u001b[0m\u001b[0;34m\u001b[0m\u001b[0;34m\u001b[0m\u001b[0m\n\u001b[0;32m--> 727\u001b[0;31m             \u001b[0mresult\u001b[0m \u001b[0;34m=\u001b[0m \u001b[0mself\u001b[0m\u001b[0;34m.\u001b[0m\u001b[0mforward\u001b[0m\u001b[0;34m(\u001b[0m\u001b[0;34m*\u001b[0m\u001b[0minput\u001b[0m\u001b[0;34m,\u001b[0m \u001b[0;34m**\u001b[0m\u001b[0mkwargs\u001b[0m\u001b[0;34m)\u001b[0m\u001b[0;34m\u001b[0m\u001b[0;34m\u001b[0m\u001b[0m\n\u001b[0m\u001b[1;32m    728\u001b[0m         for hook in itertools.chain(\n\u001b[1;32m    729\u001b[0m                 \u001b[0m_global_forward_hooks\u001b[0m\u001b[0;34m.\u001b[0m\u001b[0mvalues\u001b[0m\u001b[0;34m(\u001b[0m\u001b[0;34m)\u001b[0m\u001b[0;34m,\u001b[0m\u001b[0;34m\u001b[0m\u001b[0;34m\u001b[0m\u001b[0m\n",
      "\u001b[0;32m/tmp/ipykernel_14879/3537382955.py\u001b[0m in \u001b[0;36mforward\u001b[0;34m(self, x)\u001b[0m\n\u001b[1;32m     12\u001b[0m \u001b[0;34m\u001b[0m\u001b[0m\n\u001b[1;32m     13\u001b[0m     \u001b[0;32mdef\u001b[0m \u001b[0mforward\u001b[0m\u001b[0;34m(\u001b[0m\u001b[0mself\u001b[0m\u001b[0;34m,\u001b[0m \u001b[0mx\u001b[0m\u001b[0;34m)\u001b[0m\u001b[0;34m:\u001b[0m\u001b[0;34m\u001b[0m\u001b[0;34m\u001b[0m\u001b[0m\n\u001b[0;32m---> 14\u001b[0;31m          \u001b[0mx\u001b[0m \u001b[0;34m=\u001b[0m \u001b[0mF\u001b[0m\u001b[0;34m.\u001b[0m\u001b[0mleaky_relu\u001b[0m\u001b[0;34m(\u001b[0m\u001b[0mself\u001b[0m\u001b[0;34m.\u001b[0m\u001b[0mConv1\u001b[0m\u001b[0;34m(\u001b[0m\u001b[0mx\u001b[0m\u001b[0;34m)\u001b[0m\u001b[0;34m)\u001b[0m\u001b[0;34m\u001b[0m\u001b[0;34m\u001b[0m\u001b[0m\n\u001b[0m\u001b[1;32m     15\u001b[0m          \u001b[0mx\u001b[0m \u001b[0;34m=\u001b[0m \u001b[0mself\u001b[0m\u001b[0;34m.\u001b[0m\u001b[0mbatchnorm1\u001b[0m\u001b[0;34m(\u001b[0m\u001b[0mx\u001b[0m\u001b[0;34m)\u001b[0m\u001b[0;34m\u001b[0m\u001b[0;34m\u001b[0m\u001b[0m\n\u001b[1;32m     16\u001b[0m          \u001b[0mx\u001b[0m \u001b[0;34m=\u001b[0m \u001b[0mF\u001b[0m\u001b[0;34m.\u001b[0m\u001b[0mleaky_relu\u001b[0m\u001b[0;34m(\u001b[0m\u001b[0mself\u001b[0m\u001b[0;34m.\u001b[0m\u001b[0mConv2\u001b[0m\u001b[0;34m(\u001b[0m\u001b[0mx\u001b[0m\u001b[0;34m)\u001b[0m\u001b[0;34m)\u001b[0m\u001b[0;34m\u001b[0m\u001b[0;34m\u001b[0m\u001b[0m\n",
      "\u001b[0;32m~/anaconda3/envs/comp3340/lib/python3.7/site-packages/torch/nn/modules/module.py\u001b[0m in \u001b[0;36m_call_impl\u001b[0;34m(self, *input, **kwargs)\u001b[0m\n\u001b[1;32m    725\u001b[0m             \u001b[0mresult\u001b[0m \u001b[0;34m=\u001b[0m \u001b[0mself\u001b[0m\u001b[0;34m.\u001b[0m\u001b[0m_slow_forward\u001b[0m\u001b[0;34m(\u001b[0m\u001b[0;34m*\u001b[0m\u001b[0minput\u001b[0m\u001b[0;34m,\u001b[0m \u001b[0;34m**\u001b[0m\u001b[0mkwargs\u001b[0m\u001b[0;34m)\u001b[0m\u001b[0;34m\u001b[0m\u001b[0;34m\u001b[0m\u001b[0m\n\u001b[1;32m    726\u001b[0m         \u001b[0;32melse\u001b[0m\u001b[0;34m:\u001b[0m\u001b[0;34m\u001b[0m\u001b[0;34m\u001b[0m\u001b[0m\n\u001b[0;32m--> 727\u001b[0;31m             \u001b[0mresult\u001b[0m \u001b[0;34m=\u001b[0m \u001b[0mself\u001b[0m\u001b[0;34m.\u001b[0m\u001b[0mforward\u001b[0m\u001b[0;34m(\u001b[0m\u001b[0;34m*\u001b[0m\u001b[0minput\u001b[0m\u001b[0;34m,\u001b[0m \u001b[0;34m**\u001b[0m\u001b[0mkwargs\u001b[0m\u001b[0;34m)\u001b[0m\u001b[0;34m\u001b[0m\u001b[0;34m\u001b[0m\u001b[0m\n\u001b[0m\u001b[1;32m    728\u001b[0m         for hook in itertools.chain(\n\u001b[1;32m    729\u001b[0m                 \u001b[0m_global_forward_hooks\u001b[0m\u001b[0;34m.\u001b[0m\u001b[0mvalues\u001b[0m\u001b[0;34m(\u001b[0m\u001b[0;34m)\u001b[0m\u001b[0;34m,\u001b[0m\u001b[0;34m\u001b[0m\u001b[0;34m\u001b[0m\u001b[0m\n",
      "\u001b[0;32m~/anaconda3/envs/comp3340/lib/python3.7/site-packages/torch/nn/modules/conv.py\u001b[0m in \u001b[0;36mforward\u001b[0;34m(self, input)\u001b[0m\n\u001b[1;32m    257\u001b[0m                             _single(0), self.dilation, self.groups)\n\u001b[1;32m    258\u001b[0m         return F.conv1d(input, self.weight, self.bias, self.stride,\n\u001b[0;32m--> 259\u001b[0;31m                         self.padding, self.dilation, self.groups)\n\u001b[0m\u001b[1;32m    260\u001b[0m \u001b[0;34m\u001b[0m\u001b[0m\n\u001b[1;32m    261\u001b[0m \u001b[0;34m\u001b[0m\u001b[0m\n",
      "\u001b[0;31mRuntimeError\u001b[0m: Expected 3-dimensional input for 3-dimensional weight [30, 61, 1], but got 2-dimensional input of size [64, 61] instead"
     ]
    }
   ],
   "source": [
    "losses=[]\n",
    "acc_list=[]\n",
    "\n",
    "for epoch in range(num_epochs):\n",
    "    for batch_idx, (data, targets) in enumerate(train_loader):\n",
    "        num_correct = 0\n",
    "        num_samples = 0\n",
    "        data = data.to(device=device)\n",
    "        targets = targets.to(device=device)\n",
    "        #print(targets)\n",
    "        #targets = torch.squeeze(targets, 1).type(torch.LongTensor)\n",
    "        \n",
    "        # forward\n",
    "        scores = model(data)\n",
    "        #print(scores)\n",
    "        loss = criterion(scores, targets)\n",
    "        \n",
    "        l2_lambda = 5e-05\n",
    "        l2_norm = sum(p.pow(2.0).sum()\n",
    "                  for p in model.parameters())\n",
    " \n",
    "        loss = loss + l2_lambda * l2_norm\n",
    "        \n",
    "        # backward\n",
    "        optimizer.zero_grad()\n",
    "        loss.backward()\n",
    "        \n",
    "        \n",
    "        # gradient descent or adam step\n",
    "        optimizer.step()\n",
    "        \n",
    "        #accuracy\n",
    "        scores = model(data)\n",
    "        predictions = scores\n",
    "        predictions = predictions.detach().apply_( lambda x: 1 if x >= 0.5 else 0 )\n",
    "        num_correct += int((predictions == targets).sum())\n",
    "        num_samples += predictions.size(0)\n",
    "        acc = num_correct / num_samples\n",
    "        \n",
    "    if epoch%5 == 0:\n",
    "        losses.append(loss.detach().numpy() )\n",
    "    print(f'Epoch {epoch:03}: | Loss: {loss:.5f} | Acc: {acc:.3f}')\n",
    "        \n",
    "        "
   ]
  },
  {
   "cell_type": "code",
   "execution_count": null,
   "id": "b4fcb9b7",
   "metadata": {
    "ExecuteTime": {
     "end_time": "2022-11-27T12:01:21.873485Z",
     "start_time": "2022-11-27T12:01:21.873436Z"
    }
   },
   "outputs": [],
   "source": [
    "#plotting the loss\n",
    "x_range = list(range(5,5*len(losses)+5,5))\n",
    "plt.plot(x_range,losses)\n",
    "plt.title('Loss vs Epochs')\n",
    "plt.xlabel('Epochs')\n",
    "plt.ylabel('loss')\n",
    "plt.show()"
   ]
  },
  {
   "cell_type": "markdown",
   "id": "06bcbff7",
   "metadata": {
    "ExecuteTime": {
     "end_time": "2022-10-28T17:23:14.669685Z",
     "start_time": "2022-10-28T17:23:14.663564Z"
    }
   },
   "source": [
    "# Model RMSE"
   ]
  },
  {
   "cell_type": "code",
   "execution_count": null,
   "id": "48a94a4e",
   "metadata": {
    "ExecuteTime": {
     "end_time": "2022-11-27T12:01:21.876137Z",
     "start_time": "2022-11-27T12:01:21.876110Z"
    }
   },
   "outputs": [],
   "source": [
    "# Check accuracy on training & test to see how good our model\n",
    "def check_accuracy(loader, model):\n",
    "    num_correct = 0\n",
    "    num_samples = 0\n",
    "\n",
    "    # Set model to eval\n",
    "    model.eval()\n",
    "\n",
    "    with torch.no_grad():\n",
    "        for x, y in train_loader:\n",
    "            x = x.to(device=device)\n",
    "            y.to(device=device)\n",
    "            #y = torch.squeeze(y.to(device=device), 1)\n",
    "            #print(y.shape)\n",
    "\n",
    "            scores = model(x)\n",
    "            predictions = scores\n",
    "            predictions = predictions.apply_( lambda x: 1 if x >= 0.5 else 0 )\n",
    "            num_correct += int((predictions == y).sum())\n",
    "            num_samples += predictions.size(0)\n",
    "\n",
    "    # Toggle model back to train\n",
    "    model.train()\n",
    "    return num_correct / num_samples"
   ]
  },
  {
   "cell_type": "code",
   "execution_count": null,
   "id": "f370065c",
   "metadata": {
    "ExecuteTime": {
     "end_time": "2022-11-27T12:01:21.878529Z",
     "start_time": "2022-11-27T12:01:21.878507Z"
    }
   },
   "outputs": [],
   "source": [
    "print(f\"Accuracy on training set: {check_accuracy(train_loader, model)*100:2f} %\")\n",
    "#print(f\"Accuracy on test set: {check_accuracy(test_loader, model)*100:.2f} %\")"
   ]
  },
  {
   "cell_type": "code",
   "execution_count": null,
   "id": "7194f3f0",
   "metadata": {
    "ExecuteTime": {
     "end_time": "2022-11-27T12:01:21.880937Z",
     "start_time": "2022-11-27T12:01:21.880911Z"
    }
   },
   "outputs": [],
   "source": [
    "X2 = X_tensor(X_valid_norm)\n",
    "y2 = y_tensor(y_valid_t2.iloc[:,-1])\n",
    "\n",
    "Valid_datasets = CusDatasetLoader(X2, y2)\n",
    "Valid_loader = DataLoader(dataset=Valid_datasets, batch_size=batch_size, shuffle=True)\n",
    "print(f\"Accuracy on valid set: {check_accuracy(Valid_loader, model)*100:.2f} %\")"
   ]
  },
  {
   "cell_type": "markdown",
   "id": "b16acbcd",
   "metadata": {},
   "source": [
    "# Test"
   ]
  },
  {
   "cell_type": "code",
   "execution_count": null,
   "id": "0fc30b2a",
   "metadata": {
    "ExecuteTime": {
     "end_time": "2022-11-27T12:01:21.883287Z",
     "start_time": "2022-11-27T12:01:21.883260Z"
    }
   },
   "outputs": [],
   "source": [
    "def test(loader, model):\n",
    "    # Set model to eval\n",
    "    model.eval()\n",
    "    res = torch.tensor([], dtype=torch.int64)\n",
    "    with torch.no_grad():\n",
    "        for x, y in loader:\n",
    "            x = x.to(device=device)\n",
    "            y.to(device=device)\n",
    "\n",
    "            scores = model(x)\n",
    "            predictions = scores\n",
    "            res =  torch.cat((predictions, res), 0)  \n",
    "    model.train()\n",
    "   \n",
    "    return res"
   ]
  },
  {
   "cell_type": "code",
   "execution_count": null,
   "id": "66e51253",
   "metadata": {
    "ExecuteTime": {
     "end_time": "2022-11-27T12:01:21.884638Z",
     "start_time": "2022-11-27T12:01:21.884624Z"
    }
   },
   "outputs": [],
   "source": [
    "X_test_final = X_tensor(X_test_norm)\n",
    "y_final = torch.zeros([4790,1])\n",
    "\n",
    "test_datasets = CusDatasetLoader(X_test_final, y_final)\n",
    "test_loader = DataLoader(dataset=test_datasets, batch_size=batch_size, shuffle=True)\n",
    "\n",
    "result = test(test_loader, model)\n",
    "result"
   ]
  },
  {
   "cell_type": "code",
   "execution_count": null,
   "id": "8747d5c8",
   "metadata": {
    "ExecuteTime": {
     "end_time": "2022-11-27T12:01:21.887414Z",
     "start_time": "2022-11-27T12:01:21.887390Z"
    },
    "scrolled": true
   },
   "outputs": [],
   "source": [
    "\n",
    "#df.index = ['Row_1', 'Row_2', 'Row_3', 'Row_4']\n",
    "res1 = pd.DataFrame(result.tolist(), columns=[\"Predicted\"])\n",
    "res1.index = X_test.index\n",
    "res1.index.name = 'Id'\n",
    "pd.DataFrame(res1).to_csv('outfullynet.csv')\n",
    "#print(torch.count_nonzero(torch.from_numpy(np.array(res1)).to(torch.float32)))\n",
    "res1"
   ]
  }
 ],
 "metadata": {
  "kernelspec": {
   "display_name": "comp3340",
   "language": "python",
   "name": "comp3340"
  },
  "language_info": {
   "codemirror_mode": {
    "name": "ipython",
    "version": 3
   },
   "file_extension": ".py",
   "mimetype": "text/x-python",
   "name": "python",
   "nbconvert_exporter": "python",
   "pygments_lexer": "ipython3",
   "version": "3.7.7"
  },
  "toc": {
   "base_numbering": 1,
   "nav_menu": {},
   "number_sections": true,
   "sideBar": true,
   "skip_h1_title": false,
   "title_cell": "Table of Contents",
   "title_sidebar": "Contents",
   "toc_cell": false,
   "toc_position": {},
   "toc_section_display": true,
   "toc_window_display": true
  }
 },
 "nbformat": 4,
 "nbformat_minor": 5
}
