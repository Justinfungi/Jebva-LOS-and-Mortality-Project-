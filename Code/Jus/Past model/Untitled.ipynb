{
 "cells": [
  {
   "cell_type": "code",
   "execution_count": 16,
   "id": "0989884c",
   "metadata": {
    "ExecuteTime": {
     "end_time": "2022-12-04T07:47:21.655111Z",
     "start_time": "2022-12-04T07:47:21.271766Z"
    },
    "scrolled": true
   },
   "outputs": [
    {
     "name": "stdout",
     "output_type": "stream",
     "text": [
      "************************************************************\n",
      "There are 6 set of X\n",
      "X_train_selected_t1, X_train_selected_t2, X_valid_selected_t1,X_valid_selected_t2,X_test_selected_t1,X_test_selected_t2\n",
      "------------------------------------------------------------\n",
      "Normalized version\n",
      "X_train_selected_t1_norm, X_train_selected_t2_norm, X_valid_selected_t1_norm,X_valid_selected_t2_norm,X_test_selected_t1_norm,X_test_selected_t2_norm\n",
      "------------------------------------------------------------\n",
      "There are 4 set of Y\n",
      "y_train_t1, y_train_t2, y_valid_t1, y_valid_t2\n",
      "when training, please use: 'y_train_t1_value,y_train_t2_value,y_valid_t1_value,y_valid_t2_value'\n",
      "************************************************************\n"
     ]
    }
   ],
   "source": [
    "import torch\n",
    "import matplotlib.pyplot as plt\n",
    "from sklearn import metrics\n",
    "from sklearn.neural_network import MLPRegressor\n",
    "from tqdm import tqdm\n",
    "from sklearn.model_selection import GridSearchCV\n",
    "\n",
    "\n",
    "device = torch.device(\"cuda\" if torch.cuda.is_available() else \"cpu\")\n",
    "\n",
    "%run Data_preprocessing_realmean_final.ipynb\n",
    "def rmse(predictions, targets):\n",
    "    return np.sqrt(((predictions - targets) ** 2).mean())"
   ]
  },
  {
   "cell_type": "code",
   "execution_count": 17,
   "id": "ada29435",
   "metadata": {
    "ExecuteTime": {
     "end_time": "2022-12-04T07:47:28.184306Z",
     "start_time": "2022-12-04T07:47:28.180498Z"
    }
   },
   "outputs": [
    {
     "name": "stdout",
     "output_type": "stream",
     "text": [
      "(16760, 61)\n",
      "(2394, 61)\n",
      "(4790, 61)\n"
     ]
    }
   ],
   "source": [
    "\n",
    "X_train_norm = X_train_selected_t2_norm\n",
    "X_valid_norm = X_valid_selected_t2_norm\n",
    "X_test_norm = X_test_selected_t2_norm\n",
    "\n",
    "print(X_train_norm.shape)\n",
    "print(X_valid_norm.shape)\n",
    "print(X_test_norm.shape)"
   ]
  },
  {
   "cell_type": "code",
   "execution_count": 28,
   "id": "aa30944e",
   "metadata": {
    "ExecuteTime": {
     "end_time": "2022-12-04T08:35:28.036231Z",
     "start_time": "2022-12-04T08:35:25.170860Z"
    }
   },
   "outputs": [
    {
     "data": {
      "text/plain": [
       "1.881421431068621"
      ]
     },
     "execution_count": 28,
     "metadata": {},
     "output_type": "execute_result"
    }
   ],
   "source": [
    "reg1 = MLPRegressor(solver=\"adam\",\n",
    "                    hidden_layer_sizes=(3,14,30),\n",
    "                    learning_rate_init=0.01,\n",
    "                    alpha=0.005,\n",
    "                    activation=\"relu\",\n",
    "                    \n",
    "                    )\n",
    "                   \n",
    "\n",
    "reg1.fit(X_train_norm,y_train_t2_value)\n",
    "y_pred = reg1.predict(X_valid_selected_t2_norm)\n",
    "rmse(y_pred, y_valid_t2_value)"
   ]
  },
  {
   "cell_type": "code",
   "execution_count": 12,
   "id": "e986ac9e",
   "metadata": {
    "ExecuteTime": {
     "end_time": "2022-12-04T07:46:01.993266Z",
     "start_time": "2022-12-04T07:46:01.982260Z"
    }
   },
   "outputs": [
    {
     "ename": "NameError",
     "evalue": "name 'reg1' is not defined",
     "output_type": "error",
     "traceback": [
      "\u001b[0;31m---------------------------------------------------------------------------\u001b[0m",
      "\u001b[0;31mNameError\u001b[0m                                 Traceback (most recent call last)",
      "\u001b[0;32m/tmp/ipykernel_75596/481836728.py\u001b[0m in \u001b[0;36m<module>\u001b[0;34m\u001b[0m\n\u001b[0;32m----> 1\u001b[0;31m \u001b[0mresult\u001b[0m \u001b[0;34m=\u001b[0m \u001b[0mreg1\u001b[0m\u001b[0;34m.\u001b[0m\u001b[0mpredict\u001b[0m\u001b[0;34m(\u001b[0m\u001b[0mX_test_selected_t2_norm\u001b[0m\u001b[0;34m)\u001b[0m\u001b[0;34m\u001b[0m\u001b[0;34m\u001b[0m\u001b[0m\n\u001b[0m\u001b[1;32m      2\u001b[0m \u001b[0mres1\u001b[0m \u001b[0;34m=\u001b[0m \u001b[0mpd\u001b[0m\u001b[0;34m.\u001b[0m\u001b[0mDataFrame\u001b[0m\u001b[0;34m(\u001b[0m\u001b[0mresult\u001b[0m\u001b[0;34m.\u001b[0m\u001b[0mtolist\u001b[0m\u001b[0;34m(\u001b[0m\u001b[0;34m)\u001b[0m\u001b[0;34m,\u001b[0m \u001b[0mcolumns\u001b[0m\u001b[0;34m=\u001b[0m\u001b[0;34m[\u001b[0m\u001b[0;34m\"Predicted\"\u001b[0m\u001b[0;34m]\u001b[0m\u001b[0;34m)\u001b[0m\u001b[0;34m\u001b[0m\u001b[0;34m\u001b[0m\u001b[0m\n\u001b[1;32m      3\u001b[0m \u001b[0mres1\u001b[0m\u001b[0;34m.\u001b[0m\u001b[0mindex\u001b[0m \u001b[0;34m=\u001b[0m \u001b[0mX_test\u001b[0m\u001b[0;34m.\u001b[0m\u001b[0mindex\u001b[0m\u001b[0;34m\u001b[0m\u001b[0;34m\u001b[0m\u001b[0m\n\u001b[1;32m      4\u001b[0m \u001b[0mres1\u001b[0m\u001b[0;34m.\u001b[0m\u001b[0mindex\u001b[0m\u001b[0;34m.\u001b[0m\u001b[0mname\u001b[0m \u001b[0;34m=\u001b[0m \u001b[0;34m'Id'\u001b[0m\u001b[0;34m\u001b[0m\u001b[0;34m\u001b[0m\u001b[0m\n\u001b[1;32m      5\u001b[0m \u001b[0mpd\u001b[0m\u001b[0;34m.\u001b[0m\u001b[0mDataFrame\u001b[0m\u001b[0;34m(\u001b[0m\u001b[0mres1\u001b[0m\u001b[0;34m)\u001b[0m\u001b[0;34m.\u001b[0m\u001b[0mto_csv\u001b[0m\u001b[0;34m(\u001b[0m\u001b[0;34m'out1_11271027.csv'\u001b[0m\u001b[0;34m)\u001b[0m\u001b[0;34m\u001b[0m\u001b[0;34m\u001b[0m\u001b[0m\n",
      "\u001b[0;31mNameError\u001b[0m: name 'reg1' is not defined"
     ]
    }
   ],
   "source": [
    "\n",
    "result = reg1.predict(X_test_selected_t2_norm)\n",
    "res1 = pd.DataFrame(result.tolist(), columns=[\"Predicted\"])\n",
    "res1.index = X_test.index\n",
    "res1.index.name = 'Id'\n",
    "pd.DataFrame(res1).to_csv('out1_11271027.csv')\n",
    "#print(torch.count_nonzero(torch.from_numpy(np.array(res1)).to(torch.float32)))\n",
    "res1"
   ]
  },
  {
   "cell_type": "markdown",
   "id": "fa0580b2",
   "metadata": {
    "heading_collapsed": true
   },
   "source": [
    "# 1.83"
   ]
  },
  {
   "cell_type": "code",
   "execution_count": null,
   "id": "8c81bd4b",
   "metadata": {
    "ExecuteTime": {
     "end_time": "2022-11-27T05:01:34.520070Z",
     "start_time": "2022-11-27T05:01:34.520042Z"
    },
    "hidden": true
   },
   "outputs": [],
   "source": [
    "X = np.concatenate((X_train_norm,X_valid_norm),axis=0)\n",
    "y = np.concatenate((y_train_t2_value,y_valid_t2_value),axis=0)\n",
    "reg1 = MLPRegressor(solver=\"adam\",\n",
    "                    hidden_layer_sizes=(10,1000),\n",
    "                    learning_rate_init=0.001,\n",
    "                    learning_rate=\"adaptive\", \n",
    "                    alpha=0.001,\n",
    "                    activation=\"relu\",\n",
    "                    \n",
    "                    max_iter=300,\n",
    "                    power_t=0.5,\n",
    "                    shuffle=True, \n",
    "                    random_state=3612, \n",
    "                    tol=0.001, \n",
    "                    verbose=False, \n",
    "                    warm_start=True, \n",
    "                    momentum=0.5, \n",
    "                    early_stopping=True, \n",
    "                    validation_fraction=0.3, \n",
    "                    beta_1=0.9, beta_2=0.999, \n",
    "                    epsilon=1e-08, \n",
    "                    n_iter_no_change=10, \n",
    "                    max_fun=15000)\n",
    "                   \n",
    "\n",
    "reg1.fit(X,y)\n",
    "y_pred = reg1.predict(X_valid_norm)\n",
    "rmse(y_pred, y_valid_t2_value)"
   ]
  },
  {
   "cell_type": "markdown",
   "id": "64e8fe3e",
   "metadata": {},
   "source": [
    "# 1.79"
   ]
  },
  {
   "cell_type": "code",
   "execution_count": 15,
   "id": "785ea492",
   "metadata": {
    "ExecuteTime": {
     "end_time": "2022-12-04T07:47:05.911679Z",
     "start_time": "2022-12-04T07:46:57.428272Z"
    }
   },
   "outputs": [
    {
     "data": {
      "text/plain": [
       "14.934033570675142"
      ]
     },
     "execution_count": 15,
     "metadata": {},
     "output_type": "execute_result"
    }
   ],
   "source": [
    "X = np.concatenate((X_train_selected_t2_norm,X_test_selected_t2_norm),axis=0)\n",
    "y = np.concatenate((y_train_t2_value,y_test_t2),axis=0)\n",
    "reg1 = MLPRegressor(solver=\"adam\",\n",
    "                    hidden_layer_sizes=(3,15),\n",
    "                    learning_rate_init=0.001,\n",
    "                    alpha=0.005,\n",
    "                    activation=\"relu\",\n",
    "                    \n",
    "                    )\n",
    "                   \n",
    "\n",
    "reg1.fit(X,y)\n",
    "y_pred = reg1.predict(X_valid_selected_t2_norm)\n",
    "rmse(y_pred, y_valid_t2_value)"
   ]
  },
  {
   "cell_type": "markdown",
   "id": "d5babfe0",
   "metadata": {},
   "source": [
    "# 1.84"
   ]
  },
  {
   "cell_type": "code",
   "execution_count": null,
   "id": "2ba5a61c",
   "metadata": {
    "ExecuteTime": {
     "end_time": "2022-11-27T05:01:34.523629Z",
     "start_time": "2022-11-27T05:01:34.523611Z"
    }
   },
   "outputs": [],
   "source": [
    "#X = np.concatenate((X_train_norm,X_valid_norm),axis=0)\n",
    "#y = np.concatenate((y_train_t2_value,y_valid_t2_value),axis=0)\n",
    "\n",
    "reg1 = MLPRegressor(solver=\"adam\",\n",
    "                    hidden_layer_sizes=(3,10),\n",
    "                    learning_rate_init=0.001,\n",
    "                    learning_rate=\"adaptive\", \n",
    "                    alpha=0.005,\n",
    "                    activation=\"relu\",\n",
    "                    \n",
    "                    \n",
    "                    )\n",
    "                   \n",
    "\n",
    "reg1.fit(X_train_norm,y_train_t2_value)\n",
    "y_pred = reg1.predict(X_valid_norm)\n",
    "rmse(y_pred, y_valid_t2_value)"
   ]
  },
  {
   "cell_type": "markdown",
   "id": "be28e2fe",
   "metadata": {},
   "source": [
    "#"
   ]
  },
  {
   "cell_type": "markdown",
   "id": "74150b8b",
   "metadata": {},
   "source": [
    "#"
   ]
  },
  {
   "cell_type": "markdown",
   "id": "9d212588",
   "metadata": {},
   "source": [
    "#"
   ]
  },
  {
   "cell_type": "markdown",
   "id": "940e2e03",
   "metadata": {},
   "source": [
    "#"
   ]
  },
  {
   "cell_type": "markdown",
   "id": "9f06905c",
   "metadata": {},
   "source": [
    "#"
   ]
  },
  {
   "cell_type": "markdown",
   "id": "b11c2348",
   "metadata": {},
   "source": [
    "#"
   ]
  },
  {
   "cell_type": "code",
   "execution_count": null,
   "id": "131f6c97",
   "metadata": {},
   "outputs": [],
   "source": []
  },
  {
   "cell_type": "code",
   "execution_count": null,
   "id": "ec8c2d7d",
   "metadata": {},
   "outputs": [],
   "source": []
  },
  {
   "cell_type": "code",
   "execution_count": null,
   "id": "cfcbbe8a",
   "metadata": {},
   "outputs": [],
   "source": []
  },
  {
   "cell_type": "code",
   "execution_count": null,
   "id": "dbe03470",
   "metadata": {},
   "outputs": [],
   "source": []
  },
  {
   "cell_type": "code",
   "execution_count": null,
   "id": "f0b432bd",
   "metadata": {},
   "outputs": [],
   "source": []
  },
  {
   "cell_type": "code",
   "execution_count": null,
   "id": "3c38d9a6",
   "metadata": {},
   "outputs": [],
   "source": []
  },
  {
   "cell_type": "code",
   "execution_count": null,
   "id": "cd41e4bb",
   "metadata": {},
   "outputs": [],
   "source": []
  }
 ],
 "metadata": {
  "kernelspec": {
   "display_name": "comp3340",
   "language": "python",
   "name": "comp3340"
  },
  "language_info": {
   "codemirror_mode": {
    "name": "ipython",
    "version": 3
   },
   "file_extension": ".py",
   "mimetype": "text/x-python",
   "name": "python",
   "nbconvert_exporter": "python",
   "pygments_lexer": "ipython3",
   "version": "3.7.7"
  },
  "toc": {
   "base_numbering": 1,
   "nav_menu": {},
   "number_sections": true,
   "sideBar": true,
   "skip_h1_title": false,
   "title_cell": "Table of Contents",
   "title_sidebar": "Contents",
   "toc_cell": false,
   "toc_position": {},
   "toc_section_display": true,
   "toc_window_display": true
  }
 },
 "nbformat": 4,
 "nbformat_minor": 5
}
