{
 "cells": [
  {
   "cell_type": "markdown",
   "id": "970d9aef",
   "metadata": {
    "heading_collapsed": true
   },
   "source": [
    "# Libraries"
   ]
  },
  {
   "cell_type": "code",
   "execution_count": 23,
   "id": "71cace5d",
   "metadata": {
    "ExecuteTime": {
     "end_time": "2022-11-12T09:31:16.116560Z",
     "start_time": "2022-11-12T09:31:16.103338Z"
    },
    "hidden": true
   },
   "outputs": [],
   "source": [
    "import torch\n",
    "import torchvision\n",
    "import torch.nn as nn\n",
    "import torch.optim as optim\n",
    "import torch.nn.functional as F\n",
    "from torch.utils.data import Dataset, DataLoader\n",
    "import torchvision.transforms as transforms\n",
    "import matplotlib.pyplot as plt\n",
    "from sklearn import metrics\n",
    "\n",
    "device = torch.device(\"cuda\" if torch.cuda.is_available() else \"cpu\")"
   ]
  },
  {
   "cell_type": "markdown",
   "id": "e5e3db1d",
   "metadata": {
    "ExecuteTime": {
     "end_time": "2022-10-27T03:47:12.458066Z",
     "start_time": "2022-10-27T03:47:12.452095Z"
    },
    "heading_collapsed": true
   },
   "source": [
    "# Import data"
   ]
  },
  {
   "cell_type": "code",
   "execution_count": 24,
   "id": "c7c7a26f",
   "metadata": {
    "ExecuteTime": {
     "end_time": "2022-11-12T09:31:46.804458Z",
     "start_time": "2022-11-12T09:31:16.119099Z"
    },
    "hidden": true
   },
   "outputs": [
    {
     "name": "stdout",
     "output_type": "stream",
     "text": [
      "************************************************************\n",
      "There are 3 set of X\n",
      "X_train_mean, X_valid_mean, X_test_mean\n",
      "------------------------------------------------------------\n",
      "Normalized version\n",
      "X_train_norm, X_valid_norm, X_test_norm\n",
      "------------------------------------------------------------\n",
      "There are 4 set of Y\n",
      "y_train_t1, y_train_t2, y_valid_t1, y_valid_t2\n",
      "************************************************************\n"
     ]
    }
   ],
   "source": [
    "%run Data_preprocessing.ipynb"
   ]
  },
  {
   "cell_type": "code",
   "execution_count": 25,
   "id": "4aa393c8",
   "metadata": {
    "ExecuteTime": {
     "end_time": "2022-11-12T09:31:46.811969Z",
     "start_time": "2022-11-12T09:31:46.807142Z"
    },
    "hidden": true
   },
   "outputs": [
    {
     "name": "stdout",
     "output_type": "stream",
     "text": [
      "(16760, 61)\n",
      "(2394, 61)\n",
      "(4790, 61)\n"
     ]
    }
   ],
   "source": [
    "print(X_train_norm.shape)\n",
    "print(X_valid_norm.shape)\n",
    "print(X_test_mean.shape)"
   ]
  },
  {
   "cell_type": "markdown",
   "id": "560831ad",
   "metadata": {
    "heading_collapsed": true
   },
   "source": [
    "# Hyperparameters"
   ]
  },
  {
   "cell_type": "code",
   "execution_count": 26,
   "id": "6fb9fe03",
   "metadata": {
    "ExecuteTime": {
     "end_time": "2022-11-12T09:31:46.818278Z",
     "start_time": "2022-11-12T09:31:46.814395Z"
    },
    "hidden": true
   },
   "outputs": [],
   "source": [
    "input_size = X_train_norm.shape[1] # 7488/24\n",
    "output_size = 1 #resulting LOS\n",
    "learning_rate = 0.01\n",
    "batch_size = 64\n",
    "num_epochs = 200"
   ]
  },
  {
   "cell_type": "markdown",
   "id": "9b7e4676",
   "metadata": {
    "heading_collapsed": true
   },
   "source": [
    "# Create FullyNet"
   ]
  },
  {
   "cell_type": "code",
   "execution_count": 27,
   "id": "c00d907c",
   "metadata": {
    "ExecuteTime": {
     "end_time": "2022-11-12T09:31:46.826097Z",
     "start_time": "2022-11-12T09:31:46.819876Z"
    },
    "hidden": true
   },
   "outputs": [],
   "source": [
    "class NN(nn.Module):\n",
    "    def __init__(self, input_size):\n",
    "        super(NN, self).__init__()\n",
    "        self.fc1 = nn.Linear(input_size, 52)\n",
    "        self.fc2 = nn.Linear(52, 26)\n",
    "        self.fc3 = nn.Linear(26, 13)\n",
    "        self.fc4 = nn.Linear(13, 1)\n",
    "        \n",
    "        self.batchnorm1 = nn.BatchNorm1d(52)\n",
    "        self.batchnorm2 = nn.BatchNorm1d(26)\n",
    "        self.dropout = nn.Dropout(p=0.1)\n",
    "\n",
    "        \n",
    "        \n",
    "    def forward(self, x):\n",
    "         x = F.leaky_relu(self.fc1(x))\n",
    "         x = self.batchnorm1(x)\n",
    "         x = F.leaky_relu(self.fc2(x))\n",
    "         x = self.batchnorm2(x)\n",
    "         x = F.leaky_relu(self.fc3(x))\n",
    "         x = self.dropout(x)\n",
    "         x = torch.sigmoid(self.fc4(x))\n",
    "         return x"
   ]
  },
  {
   "cell_type": "markdown",
   "id": "076d6376",
   "metadata": {
    "heading_collapsed": true
   },
   "source": [
    "# Data transform"
   ]
  },
  {
   "cell_type": "code",
   "execution_count": 28,
   "id": "d7e4872c",
   "metadata": {
    "ExecuteTime": {
     "end_time": "2022-11-12T09:31:46.832268Z",
     "start_time": "2022-11-12T09:31:46.827766Z"
    },
    "hidden": true
   },
   "outputs": [],
   "source": [
    "class CusDatasetLoader(Dataset):\n",
    "    def __init__(self,x,y):\n",
    "        self.len = y.shape[0]\n",
    "        self.x_data = x\n",
    "        self.y_data = y\n",
    "  \n",
    "    def __len__(self):\n",
    "        return self.len\n",
    "\n",
    "    def __getitem__(self, index):\n",
    "        #return self.dataframe.iloc[index]\n",
    "        return self.x_data[index], self.y_data[index]"
   ]
  },
  {
   "cell_type": "code",
   "execution_count": 29,
   "id": "456be776",
   "metadata": {
    "ExecuteTime": {
     "end_time": "2022-11-12T09:31:46.838392Z",
     "start_time": "2022-11-12T09:31:46.833998Z"
    },
    "hidden": true
   },
   "outputs": [],
   "source": [
    "# X_shape(X) : used for split the data into a right tensor size\n",
    "#input: X in shape of 16760 rows × 104 columns (df)\n",
    "#output: X in shape of torch.Size([16760, 104, 1]) (tensor)\n",
    "\n",
    "def X_tensor(X):\n",
    "    X_tensor = torch.from_numpy(np.array(X)).to(torch.float32)\n",
    "    #print(X_tensor.shape)\n",
    "    #X_tensor = torch.stack(X_tensor).permute()\n",
    "    print(\"X now in shape of\",X_tensor.shape)\n",
    "    return X_tensor\n",
    "\n",
    "# y_tensor(y) : used for split the data into a right tensor size\n",
    "#input: X in shape of 16760 rows × 7488 columns (df)\n",
    "#output: X in shape of torch.Size([16760, 312, 24]) (tensor)\n",
    "\n",
    "def y_tensor(y):\n",
    "    y= torch.from_numpy(np.array(y)).to(torch.float32).reshape(len(y),1)\n",
    "    print(\"y now in shape of\",y.shape)\n",
    "    return y"
   ]
  },
  {
   "cell_type": "code",
   "execution_count": 30,
   "id": "006849f5",
   "metadata": {
    "ExecuteTime": {
     "end_time": "2022-11-12T09:31:46.849917Z",
     "start_time": "2022-11-12T09:31:46.840039Z"
    },
    "hidden": true
   },
   "outputs": [
    {
     "name": "stdout",
     "output_type": "stream",
     "text": [
      "X now in shape of torch.Size([16760, 61])\n",
      "y now in shape of torch.Size([16760, 1])\n",
      "torch.Size([61])\n",
      "torch.Size([1])\n"
     ]
    }
   ],
   "source": [
    "# X should be in smaples, 1, squence, rows\n",
    "X1 = X_tensor(X_train_norm)\n",
    "y1 = y_tensor(y_train_t2.iloc[:,-1].astype(float))\n",
    "\n",
    "train_datasets = CusDatasetLoader(X1, y1)\n",
    "train_loader = DataLoader(dataset=train_datasets, batch_size=batch_size, shuffle=True)\n",
    "\n",
    "x,y = train_datasets[0]\n",
    "print(x.shape)\n",
    "print(y.shape)"
   ]
  },
  {
   "cell_type": "markdown",
   "id": "e366eb01",
   "metadata": {
    "heading_collapsed": true
   },
   "source": [
    "# Model train"
   ]
  },
  {
   "cell_type": "code",
   "execution_count": 31,
   "id": "6443333a",
   "metadata": {
    "ExecuteTime": {
     "end_time": "2022-11-12T09:31:46.857197Z",
     "start_time": "2022-11-12T09:31:46.851758Z"
    },
    "hidden": true
   },
   "outputs": [],
   "source": [
    "model = NN(input_size).to(device)"
   ]
  },
  {
   "cell_type": "raw",
   "id": "521238bb",
   "metadata": {
    "ExecuteTime": {
     "end_time": "2022-11-10T17:45:27.568519Z",
     "start_time": "2022-11-10T17:45:27.562929Z"
    },
    "hidden": true
   },
   "source": [
    "# Criterion and optimizer setting\n",
    "\n",
    "criterion = nn.MSELoss()\n",
    "optimizer = optim.Adam(model.parameters(), lr = learning_rate)"
   ]
  },
  {
   "cell_type": "code",
   "execution_count": 46,
   "id": "e73149f1",
   "metadata": {
    "ExecuteTime": {
     "end_time": "2022-11-12T10:29:49.640995Z",
     "start_time": "2022-11-12T10:29:49.633535Z"
    },
    "hidden": true
   },
   "outputs": [],
   "source": [
    "#optimizer = torch.optim.SGD(model.parameters(),lr=learning_rate)\n",
    "#optimizer = optim.Adam(model.parameters(), lr = learning_rate)\n",
    "optimizer = optim.Adadelta(model.parameters(), lr = learning_rate)\n",
    "criterion = torch.nn.MSELoss()"
   ]
  },
  {
   "cell_type": "code",
   "execution_count": 48,
   "id": "680547a7",
   "metadata": {
    "ExecuteTime": {
     "end_time": "2022-11-12T10:37:26.026604Z",
     "start_time": "2022-11-12T10:30:04.380154Z"
    },
    "hidden": true,
    "scrolled": true
   },
   "outputs": [
    {
     "name": "stdout",
     "output_type": "stream",
     "text": [
      "Epoch 000: | Loss: 15.36116 | Acc: 0.000\n",
      "Epoch 001: | Loss: 5.56296 | Acc: 0.000\n",
      "Epoch 002: | Loss: 5.85414 | Acc: 0.000\n",
      "Epoch 003: | Loss: 5.02779 | Acc: 0.000\n",
      "Epoch 004: | Loss: 5.67899 | Acc: 0.000\n",
      "Epoch 005: | Loss: 4.28408 | Acc: 0.000\n",
      "Epoch 006: | Loss: 5.67433 | Acc: 0.000\n",
      "Epoch 007: | Loss: 7.22138 | Acc: 0.000\n",
      "Epoch 008: | Loss: 6.50890 | Acc: 0.000\n",
      "Epoch 009: | Loss: 4.30983 | Acc: 0.000\n",
      "Epoch 010: | Loss: 3.20658 | Acc: 0.000\n",
      "Epoch 011: | Loss: 5.15998 | Acc: 0.000\n",
      "Epoch 012: | Loss: 3.97240 | Acc: 0.000\n",
      "Epoch 013: | Loss: 4.39291 | Acc: 0.000\n",
      "Epoch 014: | Loss: 7.31185 | Acc: 0.000\n",
      "Epoch 015: | Loss: 4.55467 | Acc: 0.000\n",
      "Epoch 016: | Loss: 4.65222 | Acc: 0.000\n",
      "Epoch 017: | Loss: 6.17658 | Acc: 0.000\n",
      "Epoch 018: | Loss: 3.48338 | Acc: 0.000\n",
      "Epoch 019: | Loss: 3.77467 | Acc: 0.000\n",
      "Epoch 020: | Loss: 5.82443 | Acc: 0.000\n",
      "Epoch 021: | Loss: 5.01019 | Acc: 0.000\n",
      "Epoch 022: | Loss: 6.34328 | Acc: 0.000\n",
      "Epoch 023: | Loss: 4.59134 | Acc: 0.000\n",
      "Epoch 024: | Loss: 3.52537 | Acc: 0.000\n",
      "Epoch 025: | Loss: 3.36258 | Acc: 0.000\n",
      "Epoch 026: | Loss: 4.33770 | Acc: 0.000\n",
      "Epoch 027: | Loss: 4.31016 | Acc: 0.000\n",
      "Epoch 028: | Loss: 3.47437 | Acc: 0.000\n",
      "Epoch 029: | Loss: 4.45139 | Acc: 0.000\n",
      "Epoch 030: | Loss: 4.47442 | Acc: 0.000\n",
      "Epoch 031: | Loss: 3.87328 | Acc: 0.000\n",
      "Epoch 032: | Loss: 3.33531 | Acc: 0.000\n",
      "Epoch 033: | Loss: 3.04765 | Acc: 0.000\n",
      "Epoch 034: | Loss: 5.01474 | Acc: 0.000\n",
      "Epoch 035: | Loss: 3.82314 | Acc: 0.000\n",
      "Epoch 036: | Loss: 2.37454 | Acc: 0.000\n",
      "Epoch 037: | Loss: 4.38685 | Acc: 0.000\n",
      "Epoch 038: | Loss: 4.22938 | Acc: 0.000\n",
      "Epoch 039: | Loss: 2.68427 | Acc: 0.000\n",
      "Epoch 040: | Loss: 3.76956 | Acc: 0.000\n",
      "Epoch 041: | Loss: 3.68009 | Acc: 0.000\n",
      "Epoch 042: | Loss: 4.59510 | Acc: 0.000\n",
      "Epoch 043: | Loss: 4.34235 | Acc: 0.000\n",
      "Epoch 044: | Loss: 4.43954 | Acc: 0.000\n",
      "Epoch 045: | Loss: 5.15732 | Acc: 0.000\n",
      "Epoch 046: | Loss: 3.60870 | Acc: 0.000\n",
      "Epoch 047: | Loss: 4.35726 | Acc: 0.000\n",
      "Epoch 048: | Loss: 3.99504 | Acc: 0.000\n",
      "Epoch 049: | Loss: 4.42197 | Acc: 0.000\n",
      "Epoch 050: | Loss: 3.34783 | Acc: 0.000\n",
      "Epoch 051: | Loss: 3.52423 | Acc: 0.000\n",
      "Epoch 052: | Loss: 5.09747 | Acc: 0.000\n",
      "Epoch 053: | Loss: 2.99498 | Acc: 0.000\n",
      "Epoch 054: | Loss: 3.51787 | Acc: 0.000\n",
      "Epoch 055: | Loss: 3.45538 | Acc: 0.000\n",
      "Epoch 056: | Loss: 3.74466 | Acc: 0.000\n",
      "Epoch 057: | Loss: 4.64206 | Acc: 0.000\n",
      "Epoch 058: | Loss: 4.49925 | Acc: 0.000\n",
      "Epoch 059: | Loss: 3.39412 | Acc: 0.000\n",
      "Epoch 060: | Loss: 3.34850 | Acc: 0.000\n",
      "Epoch 061: | Loss: 3.74199 | Acc: 0.000\n",
      "Epoch 062: | Loss: 4.47125 | Acc: 0.000\n",
      "Epoch 063: | Loss: 5.63301 | Acc: 0.000\n",
      "Epoch 064: | Loss: 3.74296 | Acc: 0.000\n",
      "Epoch 065: | Loss: 2.87664 | Acc: 0.000\n",
      "Epoch 066: | Loss: 4.26880 | Acc: 0.000\n",
      "Epoch 067: | Loss: 3.73245 | Acc: 0.000\n",
      "Epoch 068: | Loss: 4.58552 | Acc: 0.000\n",
      "Epoch 069: | Loss: 5.55236 | Acc: 0.000\n",
      "Epoch 070: | Loss: 4.51983 | Acc: 0.000\n",
      "Epoch 071: | Loss: 4.60209 | Acc: 0.000\n",
      "Epoch 072: | Loss: 5.35761 | Acc: 0.000\n",
      "Epoch 073: | Loss: 3.15078 | Acc: 0.000\n",
      "Epoch 074: | Loss: 4.09296 | Acc: 0.000\n",
      "Epoch 075: | Loss: 2.74453 | Acc: 0.000\n",
      "Epoch 076: | Loss: 4.29587 | Acc: 0.000\n",
      "Epoch 077: | Loss: 3.21863 | Acc: 0.000\n",
      "Epoch 078: | Loss: 2.17357 | Acc: 0.000\n",
      "Epoch 079: | Loss: 4.70549 | Acc: 0.000\n",
      "Epoch 080: | Loss: 3.67850 | Acc: 0.000\n",
      "Epoch 081: | Loss: 3.72917 | Acc: 0.000\n",
      "Epoch 082: | Loss: 3.06716 | Acc: 0.000\n",
      "Epoch 083: | Loss: 2.61660 | Acc: 0.000\n",
      "Epoch 084: | Loss: 3.46573 | Acc: 0.000\n",
      "Epoch 085: | Loss: 3.66454 | Acc: 0.000\n",
      "Epoch 086: | Loss: 3.30593 | Acc: 0.000\n",
      "Epoch 087: | Loss: 2.85945 | Acc: 0.000\n",
      "Epoch 088: | Loss: 4.67911 | Acc: 0.000\n",
      "Epoch 089: | Loss: 3.85144 | Acc: 0.000\n",
      "Epoch 090: | Loss: 4.61463 | Acc: 0.000\n",
      "Epoch 091: | Loss: 4.32101 | Acc: 0.000\n",
      "Epoch 092: | Loss: 3.40734 | Acc: 0.000\n",
      "Epoch 093: | Loss: 3.20339 | Acc: 0.000\n",
      "Epoch 094: | Loss: 6.25046 | Acc: 0.000\n",
      "Epoch 095: | Loss: 3.29784 | Acc: 0.000\n",
      "Epoch 096: | Loss: 4.68796 | Acc: 0.000\n",
      "Epoch 097: | Loss: 2.42607 | Acc: 0.000\n",
      "Epoch 098: | Loss: 2.36904 | Acc: 0.000\n",
      "Epoch 099: | Loss: 3.26732 | Acc: 0.000\n",
      "Epoch 100: | Loss: 3.46265 | Acc: 0.000\n",
      "Epoch 101: | Loss: 3.71342 | Acc: 0.000\n",
      "Epoch 102: | Loss: 3.70357 | Acc: 0.000\n",
      "Epoch 103: | Loss: 4.14951 | Acc: 0.000\n",
      "Epoch 104: | Loss: 3.99871 | Acc: 0.000\n",
      "Epoch 105: | Loss: 4.89798 | Acc: 0.000\n",
      "Epoch 106: | Loss: 4.21483 | Acc: 0.000\n",
      "Epoch 107: | Loss: 2.70964 | Acc: 0.000\n",
      "Epoch 108: | Loss: 4.01833 | Acc: 0.000\n",
      "Epoch 109: | Loss: 4.85201 | Acc: 0.000\n",
      "Epoch 110: | Loss: 2.84457 | Acc: 0.000\n",
      "Epoch 111: | Loss: 4.29674 | Acc: 0.000\n",
      "Epoch 112: | Loss: 4.05961 | Acc: 0.000\n",
      "Epoch 113: | Loss: 3.99088 | Acc: 0.000\n",
      "Epoch 114: | Loss: 3.09353 | Acc: 0.000\n",
      "Epoch 115: | Loss: 4.58529 | Acc: 0.000\n",
      "Epoch 116: | Loss: 2.86127 | Acc: 0.000\n",
      "Epoch 117: | Loss: 4.96204 | Acc: 0.000\n",
      "Epoch 118: | Loss: 4.94684 | Acc: 0.000\n",
      "Epoch 119: | Loss: 3.69932 | Acc: 0.000\n",
      "Epoch 120: | Loss: 4.83922 | Acc: 0.000\n",
      "Epoch 121: | Loss: 3.57837 | Acc: 0.000\n",
      "Epoch 122: | Loss: 5.73798 | Acc: 0.000\n",
      "Epoch 123: | Loss: 2.83452 | Acc: 0.000\n",
      "Epoch 124: | Loss: 4.54224 | Acc: 0.000\n",
      "Epoch 125: | Loss: 3.37447 | Acc: 0.000\n",
      "Epoch 126: | Loss: 3.68969 | Acc: 0.000\n",
      "Epoch 127: | Loss: 4.65220 | Acc: 0.000\n",
      "Epoch 128: | Loss: 3.29043 | Acc: 0.000\n",
      "Epoch 129: | Loss: 3.79810 | Acc: 0.000\n",
      "Epoch 130: | Loss: 2.96133 | Acc: 0.000\n",
      "Epoch 131: | Loss: 4.67110 | Acc: 0.000\n",
      "Epoch 132: | Loss: 2.32676 | Acc: 0.000\n",
      "Epoch 133: | Loss: 5.22334 | Acc: 0.000\n",
      "Epoch 134: | Loss: 3.74983 | Acc: 0.000\n",
      "Epoch 135: | Loss: 5.00067 | Acc: 0.000\n",
      "Epoch 136: | Loss: 4.28682 | Acc: 0.000\n",
      "Epoch 137: | Loss: 2.82443 | Acc: 0.000\n",
      "Epoch 138: | Loss: 4.48997 | Acc: 0.000\n",
      "Epoch 139: | Loss: 4.64438 | Acc: 0.000\n",
      "Epoch 140: | Loss: 4.07541 | Acc: 0.000\n",
      "Epoch 141: | Loss: 5.09971 | Acc: 0.000\n",
      "Epoch 142: | Loss: 4.03431 | Acc: 0.000\n",
      "Epoch 143: | Loss: 3.62113 | Acc: 0.000\n",
      "Epoch 144: | Loss: 3.31991 | Acc: 0.000\n",
      "Epoch 145: | Loss: 3.68147 | Acc: 0.000\n",
      "Epoch 146: | Loss: 2.80193 | Acc: 0.000\n",
      "Epoch 147: | Loss: 4.60903 | Acc: 0.000\n",
      "Epoch 148: | Loss: 2.83208 | Acc: 0.000\n",
      "Epoch 149: | Loss: 4.35003 | Acc: 0.000\n",
      "Epoch 150: | Loss: 2.85239 | Acc: 0.000\n",
      "Epoch 151: | Loss: 4.70291 | Acc: 0.000\n",
      "Epoch 152: | Loss: 3.74492 | Acc: 0.000\n",
      "Epoch 153: | Loss: 3.93966 | Acc: 0.000\n",
      "Epoch 154: | Loss: 4.85474 | Acc: 0.000\n",
      "Epoch 155: | Loss: 2.45734 | Acc: 0.000\n",
      "Epoch 156: | Loss: 4.46899 | Acc: 0.000\n",
      "Epoch 157: | Loss: 3.06740 | Acc: 0.000\n",
      "Epoch 158: | Loss: 4.52225 | Acc: 0.000\n",
      "Epoch 159: | Loss: 3.42908 | Acc: 0.000\n",
      "Epoch 160: | Loss: 4.01741 | Acc: 0.000\n",
      "Epoch 161: | Loss: 2.32141 | Acc: 0.000\n",
      "Epoch 162: | Loss: 4.00930 | Acc: 0.000\n",
      "Epoch 163: | Loss: 3.39625 | Acc: 0.000\n",
      "Epoch 164: | Loss: 4.93203 | Acc: 0.000\n",
      "Epoch 165: | Loss: 4.17072 | Acc: 0.000\n",
      "Epoch 166: | Loss: 3.72899 | Acc: 0.000\n",
      "Epoch 167: | Loss: 2.57404 | Acc: 0.000\n",
      "Epoch 168: | Loss: 3.51678 | Acc: 0.000\n",
      "Epoch 169: | Loss: 3.78168 | Acc: 0.000\n",
      "Epoch 170: | Loss: 3.56083 | Acc: 0.000\n",
      "Epoch 171: | Loss: 4.91104 | Acc: 0.000\n",
      "Epoch 172: | Loss: 3.37925 | Acc: 0.000\n",
      "Epoch 173: | Loss: 4.11526 | Acc: 0.000\n",
      "Epoch 174: | Loss: 3.76456 | Acc: 0.000\n",
      "Epoch 175: | Loss: 4.36839 | Acc: 0.000\n",
      "Epoch 176: | Loss: 2.68123 | Acc: 0.000\n",
      "Epoch 177: | Loss: 4.59416 | Acc: 0.000\n",
      "Epoch 178: | Loss: 3.14757 | Acc: 0.000\n",
      "Epoch 179: | Loss: 2.80655 | Acc: 0.000\n",
      "Epoch 180: | Loss: 3.40519 | Acc: 0.000\n",
      "Epoch 181: | Loss: 3.47467 | Acc: 0.000\n",
      "Epoch 182: | Loss: 3.15182 | Acc: 0.000\n",
      "Epoch 183: | Loss: 5.20247 | Acc: 0.000\n",
      "Epoch 184: | Loss: 2.84580 | Acc: 0.000\n",
      "Epoch 185: | Loss: 5.16262 | Acc: 0.000\n",
      "Epoch 186: | Loss: 3.41054 | Acc: 0.000\n",
      "Epoch 187: | Loss: 3.61358 | Acc: 0.000\n",
      "Epoch 188: | Loss: 3.13466 | Acc: 0.000\n",
      "Epoch 189: | Loss: 3.10434 | Acc: 0.000\n",
      "Epoch 190: | Loss: 3.22526 | Acc: 0.000\n",
      "Epoch 191: | Loss: 3.97887 | Acc: 0.000\n",
      "Epoch 192: | Loss: 4.53871 | Acc: 0.000\n",
      "Epoch 193: | Loss: 2.84672 | Acc: 0.000\n",
      "Epoch 194: | Loss: 3.08331 | Acc: 0.000\n",
      "Epoch 195: | Loss: 2.71783 | Acc: 0.000\n",
      "Epoch 196: | Loss: 4.53698 | Acc: 0.000\n",
      "Epoch 197: | Loss: 3.66127 | Acc: 0.000\n",
      "Epoch 198: | Loss: 2.80717 | Acc: 0.000\n",
      "Epoch 199: | Loss: 4.17534 | Acc: 0.000\n"
     ]
    }
   ],
   "source": [
    "losses=[]\n",
    "acc_list=[]\n",
    "\n",
    "for epoch in range(num_epochs):\n",
    "    for batch_idx, (data, targets) in enumerate(train_loader):\n",
    "        num_correct = 0\n",
    "        num_samples = 0\n",
    "        data = data.to(device=device)\n",
    "        targets = targets.to(device=device)\n",
    "        #print(targets)\n",
    "        #targets = torch.squeeze(targets, 1).type(torch.LongTensor)\n",
    "        \n",
    "        # forward\n",
    "        scores = model(data)\n",
    "        #print(scores)\n",
    "        loss = criterion(scores, targets)\n",
    "        \n",
    "        l2_lambda = 0.02\n",
    "        l2_norm = sum(p.pow(2.0).sum()\n",
    "                  for p in model.parameters())\n",
    " \n",
    "        loss = loss + l2_lambda * l2_norm\n",
    "        \n",
    "        # backward\n",
    "        optimizer.zero_grad()\n",
    "        loss.backward()\n",
    "        \n",
    "        \n",
    "        # gradient descent or adam step\n",
    "        optimizer.step()\n",
    "        \n",
    "        #accuracy\n",
    "        scores = model(data)\n",
    "        predictions = scores\n",
    "        predictions = predictions.detach().apply_( lambda x: 1 if x >= 0.5 else 0 )\n",
    "        num_correct += int((predictions == targets).sum())\n",
    "        num_samples += predictions.size(0)\n",
    "        acc = num_correct / num_samples\n",
    "        \n",
    "    if epoch%5 == 0:\n",
    "        losses.append(loss.detach().numpy() )\n",
    "        acc_list.append(acc)\n",
    "    print(f'Epoch {epoch:03}: | Loss: {loss:.5f} | Acc: {acc:.3f}')\n",
    "        \n",
    "        "
   ]
  },
  {
   "cell_type": "code",
   "execution_count": 49,
   "id": "b4fcb9b7",
   "metadata": {
    "ExecuteTime": {
     "end_time": "2022-11-12T10:38:26.442003Z",
     "start_time": "2022-11-12T10:38:26.019001Z"
    },
    "hidden": true
   },
   "outputs": [
    {
     "data": {
      "image/png": "[encoded data removed]",
      "text/plain": [
       "<Figure size 640x480 with 1 Axes>"
      ]
     },
     "metadata": {},
     "output_type": "display_data"
    }
   ],
   "source": [
    "#plotting the loss\n",
    "x_range = list(range(5,5*len(losses)+5,5))\n",
    "plt.plot(x_range,losses)\n",
    "plt.title('Loss vs Epochs')\n",
    "plt.xlabel('Epochs')\n",
    "plt.ylabel('loss')\n",
    "plt.show()"
   ]
  },
  {
   "cell_type": "markdown",
   "id": "06bcbff7",
   "metadata": {
    "ExecuteTime": {
     "end_time": "2022-10-28T17:23:14.669685Z",
     "start_time": "2022-10-28T17:23:14.663564Z"
    },
    "heading_collapsed": true
   },
   "source": [
    "# Model RMSE"
   ]
  },
  {
   "cell_type": "code",
   "execution_count": 51,
   "id": "48a94a4e",
   "metadata": {
    "ExecuteTime": {
     "end_time": "2022-11-12T10:38:27.116235Z",
     "start_time": "2022-11-12T10:38:27.101808Z"
    },
    "hidden": true
   },
   "outputs": [],
   "source": [
    "# Check accuracy on training & test to see how good our model\n",
    "def check_accuracy(loader, model):\n",
    "    num_correct = 0\n",
    "    num_samples = 0\n",
    "\n",
    "    # Set model to eval\n",
    "    model.eval()\n",
    "\n",
    "    with torch.no_grad():\n",
    "        for x, y in train_loader:\n",
    "            x = x.to(device=device)\n",
    "            y.to(device=device)\n",
    "            #y = torch.squeeze(y.to(device=device), 1)\n",
    "            #print(y.shape)\n",
    "\n",
    "            scores = model(x)\n",
    "            predictions = scores\n",
    "            predictions = predictions.apply_( lambda x: 1 if x >= 0.5 else 0 )\n",
    "            num_correct += int((predictions == y).sum())\n",
    "            num_samples += predictions.size(0)\n",
    "\n",
    "    # Toggle model back to train\n",
    "    model.train()\n",
    "    return num_correct / num_samples"
   ]
  },
  {
   "cell_type": "code",
   "execution_count": 52,
   "id": "f370065c",
   "metadata": {
    "ExecuteTime": {
     "end_time": "2022-11-12T10:38:27.847215Z",
     "start_time": "2022-11-12T10:38:27.123963Z"
    },
    "hidden": true
   },
   "outputs": [
    {
     "name": "stdout",
     "output_type": "stream",
     "text": [
      "Accuracy on training set: 0.000000 %\n"
     ]
    }
   ],
   "source": [
    "print(f\"Accuracy on training set: {check_accuracy(train_loader, model)*100:2f} %\")\n",
    "#print(f\"Accuracy on test set: {check_accuracy(test_loader, model)*100:.2f} %\")"
   ]
  },
  {
   "cell_type": "code",
   "execution_count": 53,
   "id": "7194f3f0",
   "metadata": {
    "ExecuteTime": {
     "end_time": "2022-11-12T10:38:28.613625Z",
     "start_time": "2022-11-12T10:38:27.852793Z"
    },
    "hidden": true
   },
   "outputs": [
    {
     "name": "stdout",
     "output_type": "stream",
     "text": [
      "X now in shape of torch.Size([2394, 61])\n",
      "y now in shape of torch.Size([2394, 1])\n",
      "Accuracy on valid set: 0.00 %\n"
     ]
    }
   ],
   "source": [
    "X2 = X_tensor(X_valid_norm)\n",
    "y2 = y_tensor(y_valid_t2.iloc[:,-1])\n",
    "\n",
    "Valid_datasets = CusDatasetLoader(X2, y2)\n",
    "Valid_loader = DataLoader(dataset=Valid_datasets, batch_size=batch_size, shuffle=True)\n",
    "print(f\"Accuracy on valid set: {check_accuracy(Valid_loader, model)*100:.2f} %\")"
   ]
  },
  {
   "cell_type": "code",
   "execution_count": 54,
   "id": "d70d120b",
   "metadata": {
    "ExecuteTime": {
     "end_time": "2022-11-12T10:38:28.773246Z",
     "start_time": "2022-11-12T10:38:28.620766Z"
    },
    "hidden": true
   },
   "outputs": [
    {
     "name": "stdout",
     "output_type": "stream",
     "text": [
      "(2394, 1)\n",
      "(2394, 1)\n"
     ]
    },
    {
     "ename": "ValueError",
     "evalue": "continuous format is not supported",
     "output_type": "error",
     "traceback": [
      "\u001b[0;31m---------------------------------------------------------------------------\u001b[0m",
      "\u001b[0;31mValueError\u001b[0m                                Traceback (most recent call last)",
      "\u001b[0;32m/tmp/ipykernel_78615/2573288268.py\u001b[0m in \u001b[0;36m<module>\u001b[0;34m\u001b[0m\n\u001b[1;32m     15\u001b[0m \u001b[0mprint\u001b[0m\u001b[0;34m(\u001b[0m\u001b[0my_true\u001b[0m\u001b[0;34m.\u001b[0m\u001b[0mshape\u001b[0m\u001b[0;34m)\u001b[0m\u001b[0;34m\u001b[0m\u001b[0;34m\u001b[0m\u001b[0m\n\u001b[1;32m     16\u001b[0m \u001b[0mprint\u001b[0m\u001b[0;34m(\u001b[0m\u001b[0mall_y_pred\u001b[0m\u001b[0;34m.\u001b[0m\u001b[0mreshape\u001b[0m\u001b[0;34m(\u001b[0m\u001b[0;34m-\u001b[0m\u001b[0;36m1\u001b[0m\u001b[0;34m,\u001b[0m\u001b[0;36m1\u001b[0m\u001b[0;34m)\u001b[0m\u001b[0;34m.\u001b[0m\u001b[0mshape\u001b[0m\u001b[0;34m)\u001b[0m\u001b[0;34m\u001b[0m\u001b[0;34m\u001b[0m\u001b[0m\n\u001b[0;32m---> 17\u001b[0;31m \u001b[0mfpr\u001b[0m\u001b[0;34m,\u001b[0m \u001b[0mtpr\u001b[0m\u001b[0;34m,\u001b[0m \u001b[0m_\u001b[0m \u001b[0;34m=\u001b[0m \u001b[0mmetrics\u001b[0m\u001b[0;34m.\u001b[0m\u001b[0mroc_curve\u001b[0m\u001b[0;34m(\u001b[0m\u001b[0my_true\u001b[0m\u001b[0;34m,\u001b[0m \u001b[0mall_y_pred\u001b[0m\u001b[0;34m)\u001b[0m\u001b[0;34m\u001b[0m\u001b[0;34m\u001b[0m\u001b[0m\n\u001b[0m\u001b[1;32m     18\u001b[0m \u001b[0mroc_auc\u001b[0m \u001b[0;34m=\u001b[0m \u001b[0mmetrics\u001b[0m\u001b[0;34m.\u001b[0m\u001b[0mroc_auc_score\u001b[0m\u001b[0;34m(\u001b[0m\u001b[0my_true\u001b[0m\u001b[0;34m,\u001b[0m \u001b[0mall_y_pred\u001b[0m\u001b[0;34m)\u001b[0m\u001b[0;34m\u001b[0m\u001b[0;34m\u001b[0m\u001b[0m\n\u001b[1;32m     19\u001b[0m \u001b[0;34m\u001b[0m\u001b[0m\n",
      "\u001b[0;32m~/anaconda3/envs/comp3340/lib/python3.7/site-packages/sklearn/metrics/_ranking.py\u001b[0m in \u001b[0;36mroc_curve\u001b[0;34m(y_true, y_score, pos_label, sample_weight, drop_intermediate)\u001b[0m\n\u001b[1;32m    961\u001b[0m     \"\"\"\n\u001b[1;32m    962\u001b[0m     fps, tps, thresholds = _binary_clf_curve(\n\u001b[0;32m--> 963\u001b[0;31m         \u001b[0my_true\u001b[0m\u001b[0;34m,\u001b[0m \u001b[0my_score\u001b[0m\u001b[0;34m,\u001b[0m \u001b[0mpos_label\u001b[0m\u001b[0;34m=\u001b[0m\u001b[0mpos_label\u001b[0m\u001b[0;34m,\u001b[0m \u001b[0msample_weight\u001b[0m\u001b[0;34m=\u001b[0m\u001b[0msample_weight\u001b[0m\u001b[0;34m\u001b[0m\u001b[0;34m\u001b[0m\u001b[0m\n\u001b[0m\u001b[1;32m    964\u001b[0m     )\n\u001b[1;32m    965\u001b[0m \u001b[0;34m\u001b[0m\u001b[0m\n",
      "\u001b[0;32m~/anaconda3/envs/comp3340/lib/python3.7/site-packages/sklearn/metrics/_ranking.py\u001b[0m in \u001b[0;36m_binary_clf_curve\u001b[0;34m(y_true, y_score, pos_label, sample_weight)\u001b[0m\n\u001b[1;32m    729\u001b[0m     \u001b[0my_type\u001b[0m \u001b[0;34m=\u001b[0m \u001b[0mtype_of_target\u001b[0m\u001b[0;34m(\u001b[0m\u001b[0my_true\u001b[0m\u001b[0;34m)\u001b[0m\u001b[0;34m\u001b[0m\u001b[0;34m\u001b[0m\u001b[0m\n\u001b[1;32m    730\u001b[0m     \u001b[0;32mif\u001b[0m \u001b[0;32mnot\u001b[0m \u001b[0;34m(\u001b[0m\u001b[0my_type\u001b[0m \u001b[0;34m==\u001b[0m \u001b[0;34m\"binary\"\u001b[0m \u001b[0;32mor\u001b[0m \u001b[0;34m(\u001b[0m\u001b[0my_type\u001b[0m \u001b[0;34m==\u001b[0m \u001b[0;34m\"multiclass\"\u001b[0m \u001b[0;32mand\u001b[0m \u001b[0mpos_label\u001b[0m \u001b[0;32mis\u001b[0m \u001b[0;32mnot\u001b[0m \u001b[0;32mNone\u001b[0m\u001b[0;34m)\u001b[0m\u001b[0;34m)\u001b[0m\u001b[0;34m:\u001b[0m\u001b[0;34m\u001b[0m\u001b[0;34m\u001b[0m\u001b[0m\n\u001b[0;32m--> 731\u001b[0;31m         \u001b[0;32mraise\u001b[0m \u001b[0mValueError\u001b[0m\u001b[0;34m(\u001b[0m\u001b[0;34m\"{0} format is not supported\"\u001b[0m\u001b[0;34m.\u001b[0m\u001b[0mformat\u001b[0m\u001b[0;34m(\u001b[0m\u001b[0my_type\u001b[0m\u001b[0;34m)\u001b[0m\u001b[0;34m)\u001b[0m\u001b[0;34m\u001b[0m\u001b[0;34m\u001b[0m\u001b[0m\n\u001b[0m\u001b[1;32m    732\u001b[0m \u001b[0;34m\u001b[0m\u001b[0m\n\u001b[1;32m    733\u001b[0m     \u001b[0mcheck_consistent_length\u001b[0m\u001b[0;34m(\u001b[0m\u001b[0my_true\u001b[0m\u001b[0;34m,\u001b[0m \u001b[0my_score\u001b[0m\u001b[0;34m,\u001b[0m \u001b[0msample_weight\u001b[0m\u001b[0;34m)\u001b[0m\u001b[0;34m\u001b[0m\u001b[0;34m\u001b[0m\u001b[0m\n",
      "\u001b[0;31mValueError\u001b[0m: continuous format is not supported"
     ]
    }
   ],
   "source": [
    "y_true = np.array(y_valid_t2.iloc[:,[-1]])\n",
    "all_y_pred = []\n",
    "\n",
    "model.eval()\n",
    "with torch.no_grad():\n",
    "    for x, y in Valid_loader:\n",
    "            x = x.to(device=device)\n",
    "            y = y.to(device=device)\n",
    "            #y = torch.squeeze(y.to(device=device), 1)\n",
    "            \n",
    "            pred_y1 = torch.sigmoid(model(x))\n",
    "            y_pred = pred_y1.squeeze(-1).detach().numpy()\n",
    "            all_y_pred = np.append(all_y_pred, y_pred)\n",
    "\n",
    "print(y_true.shape)\n",
    "print(all_y_pred.reshape(-1,1).shape)\n",
    "fpr, tpr, _ = metrics.roc_curve(y_true, all_y_pred)\n",
    "roc_auc = metrics.roc_auc_score(y_true, all_y_pred)\n",
    "\n",
    "model.train()\n",
    "\n",
    "plt.figure(1)\n",
    "plt.plot([0, 1], [0, 1], 'k-')\n",
    "plt.plot(fpr, tpr, label='FN(area = {:.3f})'.format(roc_auc))\n",
    "plt.xlabel('False positive rate')\n",
    "plt.ylabel('True positive rate')\n",
    "plt.title(\"ROC curve\")\n",
    "plt.legend(loc=\"best\")\n",
    "plt.show()"
   ]
  },
  {
   "cell_type": "markdown",
   "id": "b16acbcd",
   "metadata": {
    "heading_collapsed": true
   },
   "source": [
    "# Test"
   ]
  },
  {
   "cell_type": "code",
   "execution_count": null,
   "id": "0fc30b2a",
   "metadata": {
    "ExecuteTime": {
     "end_time": "2022-11-12T10:38:28.779350Z",
     "start_time": "2022-11-12T10:38:28.779301Z"
    },
    "hidden": true
   },
   "outputs": [],
   "source": [
    "def test(loader, model):\n",
    "    # Set model to eval\n",
    "    model.eval()\n",
    "    res = torch.tensor([], dtype=torch.int64)\n",
    "    with torch.no_grad():\n",
    "        for x, y in loader:\n",
    "            x = x.to(device=device)\n",
    "            y.to(device=device)\n",
    "\n",
    "            scores = model(x)\n",
    "            predictions = scores\n",
    "            res =  torch.cat((predictions, res), 0)  \n",
    "    model.train()\n",
    "   \n",
    "    return res"
   ]
  },
  {
   "cell_type": "code",
   "execution_count": null,
   "id": "767ccbaa",
   "metadata": {
    "ExecuteTime": {
     "end_time": "2022-11-12T10:38:28.786607Z",
     "start_time": "2022-11-12T10:38:28.786477Z"
    },
    "hidden": true
   },
   "outputs": [],
   "source": [
    "X_test_mean\n",
    "x_valid_mean=X_test_mean.values\n",
    "x_valid_mean_scaled = scaler.fit_transform(x_valid_mean)\n",
    "X_test_norm=pd.DataFrame(x_valid_mean_scaled)\n",
    "X_test_norm"
   ]
  },
  {
   "cell_type": "code",
   "execution_count": null,
   "id": "66e51253",
   "metadata": {
    "ExecuteTime": {
     "end_time": "2022-11-12T10:38:28.790008Z",
     "start_time": "2022-11-12T10:38:28.789971Z"
    },
    "hidden": true
   },
   "outputs": [],
   "source": [
    "X_test_final = X_tensor(X_test_norm)\n",
    "y_final = torch.zeros([4790,1])\n",
    "\n",
    "test_datasets = CusDatasetLoader(X_test_final, y_final)\n",
    "test_loader = DataLoader(dataset=test_datasets, batch_size=batch_size, shuffle=True)\n",
    "\n",
    "result = test(test_loader, model)\n",
    "result"
   ]
  },
  {
   "cell_type": "code",
   "execution_count": null,
   "id": "8747d5c8",
   "metadata": {
    "ExecuteTime": {
     "end_time": "2022-11-12T10:38:28.794313Z",
     "start_time": "2022-11-12T10:38:28.794261Z"
    },
    "hidden": true,
    "scrolled": true
   },
   "outputs": [],
   "source": [
    "\n",
    "#df.index = ['Row_1', 'Row_2', 'Row_3', 'Row_4']\n",
    "res1 = pd.DataFrame(result.tolist(), columns=[\"Predicted\"])\n",
    "res1.index = X_test.index\n",
    "res1.index.name = 'Id'\n",
    "pd.DataFrame(res1).to_csv('out.csv')\n",
    "#print(torch.count_nonzero(torch.from_numpy(np.array(res1)).to(torch.float32)))\n",
    "res1"
   ]
  }
 ],
 "metadata": {
  "kernelspec": {
   "display_name": "comp3340",
   "language": "python",
   "name": "comp3340"
  },
  "language_info": {
   "codemirror_mode": {
    "name": "ipython",
    "version": 3
   },
   "file_extension": ".py",
   "mimetype": "text/x-python",
   "name": "python",
   "nbconvert_exporter": "python",
   "pygments_lexer": "ipython3",
   "version": "3.7.13"
  },
  "toc": {
   "base_numbering": 1,
   "nav_menu": {},
   "number_sections": true,
   "sideBar": true,
   "skip_h1_title": false,
   "title_cell": "Table of Contents",
   "title_sidebar": "Contents",
   "toc_cell": false,
   "toc_position": {},
   "toc_section_display": true,
   "toc_window_display": false
  }
 },
 "nbformat": 4,
 "nbformat_minor": 5
}
