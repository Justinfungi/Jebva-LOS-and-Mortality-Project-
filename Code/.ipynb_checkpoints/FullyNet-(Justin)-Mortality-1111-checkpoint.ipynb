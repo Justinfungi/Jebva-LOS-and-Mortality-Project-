{
 "cells": [
  {
   "cell_type": "markdown",
   "id": "970d9aef",
   "metadata": {
    "heading_collapsed": true
   },
   "source": [
    "# Libraries"
   ]
  },
  {
   "cell_type": "code",
   "execution_count": 673,
   "id": "71cace5d",
   "metadata": {
    "ExecuteTime": {
     "end_time": "2022-11-12T09:11:51.729251Z",
     "start_time": "2022-11-12T09:11:51.722760Z"
    },
    "hidden": true
   },
   "outputs": [],
   "source": [
    "import torch\n",
    "import torchvision\n",
    "import torch.nn as nn\n",
    "import torch.optim as optim\n",
    "import torch.nn.functional as F\n",
    "from torch.utils.data import Dataset, DataLoader\n",
    "import torchvision.transforms as transforms\n",
    "import matplotlib.pyplot as plt\n",
    "from sklearn import metrics\n",
    "\n",
    "device = torch.device(\"cuda\" if torch.cuda.is_available() else \"cpu\")"
   ]
  },
  {
   "cell_type": "markdown",
   "id": "e5e3db1d",
   "metadata": {
    "ExecuteTime": {
     "end_time": "2022-10-27T03:47:12.458066Z",
     "start_time": "2022-10-27T03:47:12.452095Z"
    }
   },
   "source": [
    "# Import data"
   ]
  },
  {
   "cell_type": "code",
   "execution_count": 705,
   "id": "c7c7a26f",
   "metadata": {
    "ExecuteTime": {
     "end_time": "2022-11-12T13:21:55.669883Z",
     "start_time": "2022-11-12T13:20:29.418260Z"
    }
   },
   "outputs": [
    {
     "name": "stdout",
     "output_type": "stream",
     "text": [
      "************************************************************\n",
      "There are 3 set of X\n",
      "X_train_mean, X_valid_mean, X_test_mean\n",
      "------------------------------------------------------------\n",
      "Normalized version\n",
      "X_train_norm, X_valid_norm, X_test_norm\n",
      "------------------------------------------------------------\n",
      "There are 4 set of Y\n",
      "y_train_t1, y_train_t2, y_valid_t1, y_valid_t2\n",
      "************************************************************\n"
     ]
    }
   ],
   "source": [
    "%run Data_preprocessing.ipynb"
   ]
  },
  {
   "cell_type": "code",
   "execution_count": 707,
   "id": "4aa393c8",
   "metadata": {
    "ExecuteTime": {
     "end_time": "2022-11-12T13:22:06.534838Z",
     "start_time": "2022-11-12T13:22:06.527052Z"
    }
   },
   "outputs": [
    {
     "name": "stdout",
     "output_type": "stream",
     "text": [
      "(16760, 61)\n",
      "(2394, 61)\n",
      "(4790, 61)\n"
     ]
    }
   ],
   "source": [
    "print(X_train_norm.shape)\n",
    "print(X_valid_norm.shape)\n",
    "print(X_test_norm.shape)"
   ]
  },
  {
   "cell_type": "markdown",
   "id": "07ffdcc1",
   "metadata": {
    "ExecuteTime": {
     "end_time": "2022-11-12T06:27:37.687176Z",
     "start_time": "2022-11-12T06:27:37.683442Z"
    }
   },
   "source": [
    "# Imbalanced Learning"
   ]
  },
  {
   "cell_type": "code",
   "execution_count": 708,
   "id": "a0e38388",
   "metadata": {
    "ExecuteTime": {
     "end_time": "2022-11-12T13:22:08.875829Z",
     "start_time": "2022-11-12T13:22:08.856655Z"
    }
   },
   "outputs": [
    {
     "name": "stdout",
     "output_type": "stream",
     "text": [
      "(15535, 62) (1225, 62)\n"
     ]
    }
   ],
   "source": [
    "Full = pd.DataFrame(np.concatenate((X_train_norm,pd.DataFrame(y_train_t1.iloc[:,-1])),axis=1))\n",
    "Full\n",
    "\n",
    "label0 = Full[Full[61]==0]\n",
    "label1 = Full[Full[61]==1]\n",
    "print(label0.shape,label1.shape)"
   ]
  },
  {
   "cell_type": "code",
   "execution_count": 709,
   "id": "cac17082",
   "metadata": {
    "ExecuteTime": {
     "end_time": "2022-11-12T13:22:12.825725Z",
     "start_time": "2022-11-12T13:22:12.749945Z"
    }
   },
   "outputs": [
    {
     "data": {
      "text/plain": [
       "(31070, 61)"
      ]
     },
     "execution_count": 709,
     "metadata": {},
     "output_type": "execute_result"
    }
   ],
   "source": [
    "from imblearn.over_sampling import RandomOverSampler\n",
    "oversample = RandomOverSampler()\n",
    "x_over, y_over = oversample.fit_resample(X_train_norm, y_train_t1.iloc[:,-1])\n",
    "\n",
    "\n",
    "y_over = pd.DataFrame(y_over)\n",
    "y_over.shape\n",
    "x_over.shape"
   ]
  },
  {
   "cell_type": "code",
   "execution_count": 710,
   "id": "dd3c662f",
   "metadata": {
    "ExecuteTime": {
     "end_time": "2022-11-12T13:22:14.402174Z",
     "start_time": "2022-11-12T13:22:14.364663Z"
    }
   },
   "outputs": [
    {
     "name": "stdout",
     "output_type": "stream",
     "text": [
      "(15535, 62) (15535, 62)\n"
     ]
    }
   ],
   "source": [
    "Full = pd.DataFrame(np.concatenate((x_over,y_over),axis=1))\n",
    "Full\n",
    "\n",
    "label0 = Full[Full[61]==0]\n",
    "label1 = Full[Full[61]==1]\n",
    "print(label0.shape,label1.shape)"
   ]
  },
  {
   "cell_type": "code",
   "execution_count": 682,
   "id": "55d6208d",
   "metadata": {
    "ExecuteTime": {
     "end_time": "2022-11-12T09:13:31.324340Z",
     "start_time": "2022-11-12T09:13:31.321587Z"
    }
   },
   "outputs": [],
   "source": [
    "X_train_norm=x_over\n",
    "\n",
    "y_train_t1 = y_over"
   ]
  },
  {
   "cell_type": "markdown",
   "id": "560831ad",
   "metadata": {
    "heading_collapsed": true
   },
   "source": [
    "# Hyperparameters"
   ]
  },
  {
   "cell_type": "code",
   "execution_count": 683,
   "id": "6fb9fe03",
   "metadata": {
    "ExecuteTime": {
     "end_time": "2022-11-12T09:13:31.336944Z",
     "start_time": "2022-11-12T09:13:31.326556Z"
    },
    "hidden": true
   },
   "outputs": [],
   "source": [
    "input_size = X_train_norm.shape[1] # 7488/24\n",
    "output_size = 2 # live or dead\n",
    "learning_rate = 0.01\n",
    "batch_size = 64\n",
    "num_epochs = 200"
   ]
  },
  {
   "cell_type": "markdown",
   "id": "9b7e4676",
   "metadata": {},
   "source": [
    "# Create FullyNet"
   ]
  },
  {
   "cell_type": "code",
   "execution_count": 684,
   "id": "c00d907c",
   "metadata": {
    "ExecuteTime": {
     "end_time": "2022-11-12T09:13:31.344069Z",
     "start_time": "2022-11-12T09:13:31.338809Z"
    }
   },
   "outputs": [],
   "source": [
    "class NN(nn.Module):\n",
    "    def __init__(self, input_size):\n",
    "        super(NN, self).__init__()\n",
    "        self.fc1 = nn.Linear(input_size, 52)\n",
    "        self.fc2 = nn.Linear(52, 26)\n",
    "        self.fc3 = nn.Linear(26, 13)\n",
    "        self.fc4 = nn.Linear(13, 1)\n",
    "        self.dropout = nn.Dropout(p=0.1)\n",
    "        self.batchnorm1 = nn.BatchNorm1d(52)\n",
    "        self.batchnorm2 = nn.BatchNorm1d(26)\n",
    "\n",
    "        \n",
    "        \n",
    "    def forward(self, x):\n",
    "         x = F.leaky_relu(self.fc1(x))\n",
    "         x = self.batchnorm1(x)\n",
    "         x = F.leaky_relu(self.fc2(x))\n",
    "         x = self.batchnorm2(x)\n",
    "         x = F.leaky_relu(self.fc3(x))\n",
    "         x = self.dropout(x)\n",
    "         x = torch.sigmoid(self.fc4(x))\n",
    "         return x"
   ]
  },
  {
   "cell_type": "markdown",
   "id": "076d6376",
   "metadata": {
    "heading_collapsed": true
   },
   "source": [
    "# Data transform"
   ]
  },
  {
   "cell_type": "code",
   "execution_count": 685,
   "id": "d7e4872c",
   "metadata": {
    "ExecuteTime": {
     "end_time": "2022-11-12T09:13:31.349694Z",
     "start_time": "2022-11-12T09:13:31.345643Z"
    },
    "hidden": true
   },
   "outputs": [],
   "source": [
    "class CusDatasetLoader(Dataset):\n",
    "    def __init__(self,x,y):\n",
    "        self.len = y.shape[0]\n",
    "        self.x_data = x\n",
    "        self.y_data = y\n",
    "  \n",
    "    def __len__(self):\n",
    "        return self.len\n",
    "\n",
    "    def __getitem__(self, index):\n",
    "        #return self.dataframe.iloc[index]\n",
    "        return self.x_data[index], self.y_data[index]"
   ]
  },
  {
   "cell_type": "code",
   "execution_count": 686,
   "id": "456be776",
   "metadata": {
    "ExecuteTime": {
     "end_time": "2022-11-12T09:13:31.357841Z",
     "start_time": "2022-11-12T09:13:31.351536Z"
    },
    "hidden": true
   },
   "outputs": [],
   "source": [
    "# X_shape(X) : used for split the data into a right tensor size\n",
    "#input: X in shape of 16760 rows × 104 columns (df)\n",
    "#output: X in shape of torch.Size([16760, 104, 1]) (tensor)\n",
    "\n",
    "def X_tensor(X):\n",
    "    X_tensor = torch.from_numpy(np.array(X)).to(torch.float32)\n",
    "    #print(X_tensor.shape)\n",
    "    #X_tensor = torch.stack(X_tensor).permute()\n",
    "    print(\"X now in shape of\",X_tensor.shape)\n",
    "    return X_tensor\n",
    "\n",
    "# y_tensor(y) : used for split the data into a right tensor size\n",
    "#input: X in shape of 16760 rows × 7488 columns (df)\n",
    "#output: X in shape of torch.Size([16760, 312, 24]) (tensor)\n",
    "\n",
    "def y_tensor(y):\n",
    "    y= torch.from_numpy(np.array(y)).to(torch.float32).reshape(len(y),1)\n",
    "    print(\"y now in shape of\",y.shape)\n",
    "    return y"
   ]
  },
  {
   "cell_type": "code",
   "execution_count": 687,
   "id": "006849f5",
   "metadata": {
    "ExecuteTime": {
     "end_time": "2022-11-12T09:13:31.365791Z",
     "start_time": "2022-11-12T09:13:31.359524Z"
    },
    "hidden": true
   },
   "outputs": [
    {
     "name": "stdout",
     "output_type": "stream",
     "text": [
      "X now in shape of torch.Size([2450, 61])\n",
      "y now in shape of torch.Size([2450, 1])\n",
      "torch.Size([61])\n",
      "torch.Size([1])\n"
     ]
    }
   ],
   "source": [
    "# X should be in smaples, 1, squence, rows\n",
    "X1 = X_tensor(X_train_norm)\n",
    "y1 = y_tensor(y_train_t1.iloc[:,-1].astype(float))\n",
    "\n",
    "train_datasets = CusDatasetLoader(X1, y1)\n",
    "train_loader = DataLoader(dataset=train_datasets, batch_size=batch_size, shuffle=True)\n",
    "\n",
    "x,y = train_datasets[0]\n",
    "print(x.shape)\n",
    "print(y.shape)"
   ]
  },
  {
   "cell_type": "markdown",
   "id": "e366eb01",
   "metadata": {},
   "source": [
    "# Model train"
   ]
  },
  {
   "cell_type": "code",
   "execution_count": 688,
   "id": "6443333a",
   "metadata": {
    "ExecuteTime": {
     "end_time": "2022-11-12T09:13:31.372670Z",
     "start_time": "2022-11-12T09:13:31.368227Z"
    }
   },
   "outputs": [],
   "source": [
    "model = NN(input_size).to(device)"
   ]
  },
  {
   "cell_type": "raw",
   "id": "521238bb",
   "metadata": {
    "ExecuteTime": {
     "end_time": "2022-11-10T17:45:27.568519Z",
     "start_time": "2022-11-10T17:45:27.562929Z"
    }
   },
   "source": [
    "# Criterion and optimizer setting\n",
    "\n",
    "criterion = nn.CrossEntropyLoss()\n",
    "optimizer = optim.Adam(model.parameters(), lr = learning_rate)"
   ]
  },
  {
   "cell_type": "code",
   "execution_count": 689,
   "id": "e73149f1",
   "metadata": {
    "ExecuteTime": {
     "end_time": "2022-11-12T09:13:31.379670Z",
     "start_time": "2022-11-12T09:13:31.376227Z"
    }
   },
   "outputs": [],
   "source": [
    "#optimizer = torch.optim.SGD(model.parameters(),lr=learning_rate)\n",
    "#optimizer = optim.Adam(model.parameters(), lr = learning_rate)\n",
    "optimizer = optim.Adadelta(model.parameters(), lr = learning_rate)\n",
    "criterion = nn.BCEWithLogitsLoss()"
   ]
  },
  {
   "cell_type": "code",
   "execution_count": 690,
   "id": "680547a7",
   "metadata": {
    "ExecuteTime": {
     "end_time": "2022-11-12T09:13:53.022581Z",
     "start_time": "2022-11-12T09:13:31.381101Z"
    },
    "scrolled": true
   },
   "outputs": [
    {
     "name": "stdout",
     "output_type": "stream",
     "text": [
      "Epoch 000: | Loss: 2.33974 | Acc: 0.444\n",
      "Epoch 001: | Loss: 2.40086 | Acc: 0.556\n",
      "Epoch 002: | Loss: 2.19743 | Acc: 0.222\n",
      "Epoch 003: | Loss: 2.25953 | Acc: 0.389\n",
      "Epoch 004: | Loss: 2.21532 | Acc: 0.278\n",
      "Epoch 005: | Loss: 2.19348 | Acc: 0.333\n",
      "Epoch 006: | Loss: 2.22622 | Acc: 0.444\n",
      "Epoch 007: | Loss: 2.33868 | Acc: 0.722\n",
      "Epoch 008: | Loss: 2.29225 | Acc: 0.667\n",
      "Epoch 009: | Loss: 2.14053 | Acc: 0.389\n",
      "Epoch 010: | Loss: 2.17375 | Acc: 0.500\n",
      "Epoch 011: | Loss: 2.23254 | Acc: 0.667\n",
      "Epoch 012: | Loss: 2.13462 | Acc: 0.500\n",
      "Epoch 013: | Loss: 2.14215 | Acc: 0.556\n",
      "Epoch 014: | Loss: 2.07066 | Acc: 0.444\n",
      "Epoch 015: | Loss: 1.99866 | Acc: 0.333\n",
      "Epoch 016: | Loss: 2.00700 | Acc: 0.389\n",
      "Epoch 017: | Loss: 2.04105 | Acc: 0.500\n",
      "Epoch 018: | Loss: 2.12621 | Acc: 0.722\n",
      "Epoch 019: | Loss: 1.95294 | Acc: 0.389\n",
      "Epoch 020: | Loss: 2.03881 | Acc: 0.611\n",
      "Epoch 021: | Loss: 2.02135 | Acc: 0.611\n",
      "Epoch 022: | Loss: 1.92640 | Acc: 0.444\n",
      "Epoch 023: | Loss: 1.93471 | Acc: 0.500\n",
      "Epoch 024: | Loss: 1.96963 | Acc: 0.611\n",
      "Epoch 025: | Loss: 1.97846 | Acc: 0.667\n",
      "Epoch 026: | Loss: 1.85924 | Acc: 0.444\n",
      "Epoch 027: | Loss: 1.99695 | Acc: 0.778\n",
      "Epoch 028: | Loss: 1.82665 | Acc: 0.444\n",
      "Epoch 029: | Loss: 1.81080 | Acc: 0.444\n",
      "Epoch 030: | Loss: 1.74396 | Acc: 0.333\n",
      "Epoch 031: | Loss: 1.83094 | Acc: 0.556\n",
      "Epoch 032: | Loss: 1.81558 | Acc: 0.556\n",
      "Epoch 033: | Loss: 1.80029 | Acc: 0.556\n",
      "Epoch 034: | Loss: 1.81092 | Acc: 0.611\n",
      "Epoch 035: | Loss: 1.77064 | Acc: 0.556\n",
      "Epoch 036: | Loss: 1.75594 | Acc: 0.556\n",
      "Epoch 037: | Loss: 1.71580 | Acc: 0.500\n",
      "Epoch 038: | Loss: 1.72705 | Acc: 0.556\n",
      "Epoch 039: | Loss: 1.66192 | Acc: 0.444\n",
      "Epoch 040: | Loss: 1.59707 | Acc: 0.333\n",
      "Epoch 041: | Loss: 1.73601 | Acc: 0.667\n",
      "Epoch 042: | Loss: 1.67146 | Acc: 0.556\n",
      "Epoch 043: | Loss: 1.58164 | Acc: 0.389\n",
      "Epoch 044: | Loss: 1.59375 | Acc: 0.444\n",
      "Epoch 045: | Loss: 1.60598 | Acc: 0.500\n",
      "Epoch 046: | Loss: 1.59273 | Acc: 0.500\n",
      "Epoch 047: | Loss: 1.57980 | Acc: 0.500\n",
      "Epoch 048: | Loss: 1.56715 | Acc: 0.500\n",
      "Epoch 049: | Loss: 1.60502 | Acc: 0.611\n",
      "Epoch 050: | Loss: 1.44080 | Acc: 0.278\n",
      "Epoch 051: | Loss: 1.52957 | Acc: 0.500\n",
      "Epoch 052: | Loss: 1.54260 | Acc: 0.556\n",
      "Epoch 053: | Loss: 1.53044 | Acc: 0.556\n",
      "Epoch 054: | Loss: 1.41758 | Acc: 0.333\n",
      "Epoch 055: | Loss: 1.43099 | Acc: 0.389\n",
      "Epoch 056: | Loss: 1.46972 | Acc: 0.500\n",
      "Epoch 057: | Loss: 1.43297 | Acc: 0.444\n",
      "Epoch 058: | Loss: 1.42152 | Acc: 0.444\n",
      "Epoch 059: | Loss: 1.35989 | Acc: 0.333\n",
      "Epoch 060: | Loss: 1.42415 | Acc: 0.500\n",
      "Epoch 061: | Loss: 1.53869 | Acc: 0.778\n",
      "Epoch 062: | Loss: 1.45233 | Acc: 0.611\n",
      "Epoch 063: | Loss: 1.41636 | Acc: 0.556\n",
      "Epoch 064: | Loss: 1.40561 | Acc: 0.556\n",
      "Epoch 065: | Loss: 1.39499 | Acc: 0.556\n",
      "Epoch 066: | Loss: 1.35943 | Acc: 0.500\n",
      "Epoch 067: | Loss: 1.37410 | Acc: 0.556\n",
      "Epoch 068: | Loss: 1.28872 | Acc: 0.389\n",
      "Epoch 069: | Loss: 1.35365 | Acc: 0.556\n",
      "Epoch 070: | Loss: 1.26859 | Acc: 0.389\n",
      "Epoch 071: | Loss: 1.25870 | Acc: 0.389\n",
      "Epoch 072: | Loss: 1.24890 | Acc: 0.389\n",
      "Epoch 073: | Loss: 1.36406 | Acc: 0.667\n",
      "Epoch 074: | Loss: 1.37937 | Acc: 0.722\n",
      "Epoch 075: | Loss: 1.29503 | Acc: 0.556\n",
      "Epoch 076: | Loss: 1.23578 | Acc: 0.444\n",
      "Epoch 077: | Loss: 1.22652 | Acc: 0.444\n",
      "Epoch 078: | Loss: 1.34187 | Acc: 0.722\n",
      "Epoch 079: | Loss: 1.23320 | Acc: 0.500\n",
      "Epoch 080: | Loss: 1.24914 | Acc: 0.556\n",
      "Epoch 081: | Loss: 1.19055 | Acc: 0.444\n",
      "Epoch 082: | Loss: 1.28123 | Acc: 0.667\n",
      "Epoch 083: | Loss: 1.19804 | Acc: 0.500\n",
      "Epoch 084: | Loss: 1.09019 | Acc: 0.278\n",
      "Epoch 085: | Loss: 1.18107 | Acc: 0.500\n",
      "Epoch 086: | Loss: 1.14794 | Acc: 0.444\n",
      "Epoch 087: | Loss: 1.16450 | Acc: 0.500\n",
      "Epoch 088: | Loss: 1.20593 | Acc: 0.611\n",
      "Epoch 089: | Loss: 1.22264 | Acc: 0.667\n",
      "Epoch 090: | Loss: 1.16517 | Acc: 0.556\n",
      "Epoch 091: | Loss: 1.13258 | Acc: 0.500\n",
      "Epoch 092: | Loss: 1.12485 | Acc: 0.500\n",
      "Epoch 093: | Loss: 1.11722 | Acc: 0.500\n",
      "Epoch 094: | Loss: 1.03557 | Acc: 0.333\n",
      "Epoch 095: | Loss: 1.17631 | Acc: 0.667\n",
      "Epoch 096: | Loss: 1.07021 | Acc: 0.444\n",
      "Epoch 097: | Loss: 1.03831 | Acc: 0.389\n",
      "Epoch 098: | Loss: 1.05584 | Acc: 0.444\n",
      "Epoch 099: | Loss: 0.97487 | Acc: 0.278\n",
      "Epoch 100: | Loss: 1.11572 | Acc: 0.611\n",
      "Epoch 101: | Loss: 1.10882 | Acc: 0.611\n",
      "Epoch 102: | Loss: 1.07742 | Acc: 0.556\n",
      "Epoch 103: | Loss: 0.99696 | Acc: 0.389\n",
      "Epoch 104: | Loss: 0.94124 | Acc: 0.278\n",
      "Epoch 105: | Loss: 1.08217 | Acc: 0.611\n",
      "Epoch 106: | Loss: 1.00208 | Acc: 0.444\n",
      "Epoch 107: | Loss: 0.94670 | Acc: 0.333\n",
      "Epoch 108: | Loss: 1.06315 | Acc: 0.611\n",
      "Epoch 109: | Loss: 1.00795 | Acc: 0.500\n",
      "Epoch 110: | Loss: 1.02641 | Acc: 0.556\n",
      "Epoch 111: | Loss: 0.92248 | Acc: 0.333\n",
      "Epoch 112: | Loss: 1.01455 | Acc: 0.556\n",
      "Epoch 113: | Loss: 1.03322 | Acc: 0.611\n",
      "Epoch 114: | Loss: 0.92969 | Acc: 0.389\n",
      "Epoch 115: | Loss: 0.89966 | Acc: 0.333\n",
      "Epoch 116: | Loss: 0.89417 | Acc: 0.333\n",
      "Epoch 117: | Loss: 0.93761 | Acc: 0.444\n",
      "Epoch 118: | Loss: 0.95667 | Acc: 0.500\n",
      "Epoch 119: | Loss: 0.97580 | Acc: 0.556\n",
      "Epoch 120: | Loss: 0.94621 | Acc: 0.500\n",
      "Epoch 121: | Loss: 0.98985 | Acc: 0.611\n",
      "Epoch 122: | Loss: 0.93609 | Acc: 0.500\n",
      "Epoch 123: | Loss: 1.02852 | Acc: 0.722\n",
      "Epoch 124: | Loss: 0.97496 | Acc: 0.611\n",
      "Epoch 125: | Loss: 0.92152 | Acc: 0.500\n",
      "Epoch 126: | Loss: 0.91683 | Acc: 0.500\n",
      "Epoch 127: | Loss: 0.88792 | Acc: 0.444\n",
      "Epoch 128: | Loss: 0.88339 | Acc: 0.444\n",
      "Epoch 129: | Loss: 1.00031 | Acc: 0.722\n",
      "Epoch 130: | Loss: 0.87458 | Acc: 0.444\n",
      "Epoch 131: | Loss: 0.77328 | Acc: 0.222\n",
      "Epoch 132: | Loss: 0.86607 | Acc: 0.444\n",
      "Epoch 133: | Loss: 0.95886 | Acc: 0.667\n",
      "Epoch 134: | Loss: 0.93053 | Acc: 0.611\n",
      "Epoch 135: | Loss: 0.82967 | Acc: 0.389\n",
      "Epoch 136: | Loss: 0.92255 | Acc: 0.611\n",
      "Epoch 137: | Loss: 0.91867 | Acc: 0.611\n",
      "Epoch 138: | Loss: 0.84235 | Acc: 0.444\n",
      "Epoch 139: | Loss: 0.83865 | Acc: 0.444\n",
      "Epoch 140: | Loss: 0.85917 | Acc: 0.500\n",
      "Epoch 141: | Loss: 0.78318 | Acc: 0.333\n",
      "Epoch 142: | Loss: 0.90036 | Acc: 0.611\n",
      "Epoch 143: | Loss: 0.75220 | Acc: 0.278\n",
      "Epoch 144: | Loss: 0.91763 | Acc: 0.667\n",
      "Epoch 145: | Loss: 0.76972 | Acc: 0.333\n",
      "Epoch 146: | Loss: 0.86287 | Acc: 0.556\n",
      "Epoch 147: | Loss: 0.85970 | Acc: 0.556\n",
      "Epoch 148: | Loss: 0.78440 | Acc: 0.389\n",
      "Epoch 149: | Loss: 0.90166 | Acc: 0.667\n",
      "Epoch 150: | Loss: 0.82653 | Acc: 0.500\n",
      "Epoch 151: | Loss: 0.82362 | Acc: 0.500\n",
      "Epoch 152: | Loss: 0.84480 | Acc: 0.556\n",
      "Epoch 153: | Loss: 0.81799 | Acc: 0.500\n",
      "Epoch 154: | Loss: 0.79127 | Acc: 0.444\n",
      "Epoch 155: | Loss: 0.86059 | Acc: 0.611\n",
      "Epoch 156: | Loss: 0.73807 | Acc: 0.333\n",
      "Epoch 157: | Loss: 0.78350 | Acc: 0.444\n",
      "Epoch 158: | Loss: 0.73311 | Acc: 0.333\n",
      "Epoch 159: | Loss: 0.85044 | Acc: 0.611\n",
      "Epoch 160: | Loss: 0.82411 | Acc: 0.556\n",
      "Epoch 161: | Loss: 0.72608 | Acc: 0.333\n",
      "Epoch 162: | Loss: 0.79559 | Acc: 0.500\n",
      "Epoch 163: | Loss: 0.76947 | Acc: 0.444\n",
      "Epoch 164: | Loss: 0.76733 | Acc: 0.444\n",
      "Epoch 165: | Loss: 0.76523 | Acc: 0.444\n",
      "Epoch 166: | Loss: 0.85869 | Acc: 0.667\n",
      "Epoch 167: | Loss: 0.83278 | Acc: 0.611\n",
      "Epoch 168: | Loss: 0.68768 | Acc: 0.278\n",
      "Epoch 169: | Loss: 0.82888 | Acc: 0.611\n",
      "Epoch 170: | Loss: 0.85083 | Acc: 0.667\n",
      "Epoch 171: | Loss: 0.80134 | Acc: 0.556\n",
      "Epoch 172: | Loss: 0.84719 | Acc: 0.667\n",
      "Epoch 173: | Loss: 0.77403 | Acc: 0.500\n",
      "Epoch 174: | Loss: 0.77236 | Acc: 0.500\n",
      "Epoch 175: | Loss: 0.72316 | Acc: 0.389\n",
      "Epoch 176: | Loss: 0.69782 | Acc: 0.333\n",
      "Epoch 177: | Loss: 0.79135 | Acc: 0.556\n",
      "Epoch 178: | Loss: 0.83734 | Acc: 0.667\n",
      "Epoch 179: | Loss: 0.69340 | Acc: 0.333\n",
      "Epoch 180: | Loss: 0.83439 | Acc: 0.667\n",
      "Epoch 181: | Loss: 0.76181 | Acc: 0.500\n",
      "Epoch 182: | Loss: 0.66562 | Acc: 0.278\n",
      "Epoch 183: | Loss: 0.73545 | Acc: 0.444\n",
      "Epoch 184: | Loss: 0.73419 | Acc: 0.444\n",
      "Epoch 185: | Loss: 0.66191 | Acc: 0.278\n",
      "Epoch 186: | Loss: 0.63706 | Acc: 0.222\n",
      "Epoch 187: | Loss: 0.80160 | Acc: 0.611\n",
      "Epoch 188: | Loss: 0.72948 | Acc: 0.444\n",
      "Epoch 189: | Loss: 0.70474 | Acc: 0.389\n",
      "Epoch 190: | Loss: 0.75096 | Acc: 0.500\n",
      "Epoch 191: | Loss: 0.84443 | Acc: 0.722\n",
      "Epoch 192: | Loss: 0.84338 | Acc: 0.722\n",
      "Epoch 193: | Loss: 0.72432 | Acc: 0.444\n",
      "Epoch 194: | Loss: 0.77057 | Acc: 0.556\n",
      "Epoch 195: | Loss: 0.65170 | Acc: 0.278\n",
      "Epoch 196: | Loss: 0.76874 | Acc: 0.556\n",
      "Epoch 197: | Loss: 0.76785 | Acc: 0.556\n",
      "Epoch 198: | Loss: 0.71988 | Acc: 0.444\n",
      "Epoch 199: | Loss: 0.71908 | Acc: 0.444\n"
     ]
    }
   ],
   "source": [
    "losses=[]\n",
    "acc_list=[]\n",
    "\n",
    "for epoch in range(num_epochs):\n",
    "    for batch_idx, (data, targets) in enumerate(train_loader):\n",
    "        num_correct = 0\n",
    "        num_samples = 0\n",
    "        data = data.to(device=device)\n",
    "        targets = targets.to(device=device)\n",
    "        #targets = torch.squeeze(targets, 1).type(torch.LongTensor)\n",
    "        \n",
    "        # forward\n",
    "        scores = model(data)\n",
    "        #print(scores)\n",
    "        loss = criterion(scores, targets)\n",
    "        \n",
    "        l2_lambda = 0.02\n",
    "        l2_norm = sum(p.pow(2.0).sum()\n",
    "                  for p in model.parameters())\n",
    " \n",
    "        loss = loss + l2_lambda * l2_norm\n",
    "        \n",
    "        # backward\n",
    "        optimizer.zero_grad()\n",
    "        loss.backward()\n",
    "        \n",
    "        \n",
    "        # gradient descent or adam step\n",
    "        optimizer.step()\n",
    "        \n",
    "        #accuracy\n",
    "        scores = model(data)\n",
    "        predictions = scores\n",
    "        predictions = predictions.detach().apply_( lambda x: 1 if x >= 0.5 else 0 )\n",
    "        num_correct += int((predictions == targets).sum())\n",
    "        num_samples += predictions.size(0)\n",
    "        acc = num_correct / num_samples\n",
    "        \n",
    "    if epoch%5 == 0:\n",
    "        losses.append(loss.detach().numpy() )\n",
    "        acc_list.append(acc)\n",
    "    print(f'Epoch {epoch:03}: | Loss: {loss:.5f} | Acc: {acc:.3f}')\n",
    "        \n",
    "        "
   ]
  },
  {
   "cell_type": "code",
   "execution_count": 701,
   "id": "b4fcb9b7",
   "metadata": {
    "ExecuteTime": {
     "end_time": "2022-11-12T09:13:56.281942Z",
     "start_time": "2022-11-12T09:13:56.178537Z"
    }
   },
   "outputs": [
    {
     "data": {
      "image/png": "[encoded data removed]",
      "text/plain": [
       "<Figure size 640x480 with 1 Axes>"
      ]
     },
     "metadata": {},
     "output_type": "display_data"
    }
   ],
   "source": [
    "#plotting the loss\n",
    "x_range = list(range(5,5*len(losses)+5,5))\n",
    "plt.plot(x_range,losses)\n",
    "plt.title('Loss vs Epochs')\n",
    "plt.xlabel('Epochs')\n",
    "plt.ylabel('loss')\n",
    "plt.show()"
   ]
  },
  {
   "cell_type": "markdown",
   "id": "06bcbff7",
   "metadata": {
    "ExecuteTime": {
     "end_time": "2022-10-28T17:23:14.669685Z",
     "start_time": "2022-10-28T17:23:14.663564Z"
    }
   },
   "source": [
    "# Model Accuracy"
   ]
  },
  {
   "cell_type": "code",
   "execution_count": 692,
   "id": "7057e4ba",
   "metadata": {
    "ExecuteTime": {
     "end_time": "2022-11-12T09:13:53.231997Z",
     "start_time": "2022-11-12T09:13:53.177988Z"
    }
   },
   "outputs": [
    {
     "data": {
      "text/plain": [
       "0.5"
      ]
     },
     "execution_count": 692,
     "metadata": {},
     "output_type": "execute_result"
    }
   ],
   "source": [
    "num_correct = 0\n",
    "num_samples = 0\n",
    "\n",
    "# Set model to eval\n",
    "model.eval()\n",
    "\n",
    "with torch.no_grad():\n",
    "    for x, y in train_loader:\n",
    "        x = x.to(device=device)\n",
    "        y.to(device=device)\n",
    "        #y = torch.squeeze(y.to(device=device), 1)\n",
    "        #print(y.shape)\n",
    "\n",
    "        scores = model(x)\n",
    "        predictions = scores\n",
    "        predictions = predictions.apply_( lambda x: 1 if x >= 0.5 else 0 )\n",
    "        num_correct += int((predictions == y).sum())\n",
    "        num_samples += predictions.size(0)\n",
    "\n",
    "# Toggle model back to train\n",
    "model.train()\n",
    "#print(num_correct , num_samples)\n",
    "num_correct / num_samples"
   ]
  },
  {
   "cell_type": "code",
   "execution_count": 693,
   "id": "48a94a4e",
   "metadata": {
    "ExecuteTime": {
     "end_time": "2022-11-12T09:13:53.243529Z",
     "start_time": "2022-11-12T09:13:53.236579Z"
    }
   },
   "outputs": [],
   "source": [
    "# Check accuracy on training & test to see how good our model\n",
    "def check_accuracy(loader, model):\n",
    "    num_correct = 0\n",
    "    num_samples = 0\n",
    "\n",
    "    # Set model to eval\n",
    "    model.eval()\n",
    "\n",
    "    with torch.no_grad():\n",
    "        for x, y in train_loader:\n",
    "            x = x.to(device=device)\n",
    "            y.to(device=device)\n",
    "            #y = torch.squeeze(y.to(device=device), 1)\n",
    "            #print(y.shape)\n",
    "\n",
    "            scores = model(x)\n",
    "            predictions = scores\n",
    "            predictions = predictions.apply_( lambda x: 1 if x >= 0.5 else 0 )\n",
    "            num_correct += int((predictions == y).sum())\n",
    "            num_samples += predictions.size(0)\n",
    "\n",
    "    # Toggle model back to train\n",
    "    model.train()\n",
    "    return num_correct / num_samples"
   ]
  },
  {
   "cell_type": "code",
   "execution_count": 694,
   "id": "f370065c",
   "metadata": {
    "ExecuteTime": {
     "end_time": "2022-11-12T09:13:53.297241Z",
     "start_time": "2022-11-12T09:13:53.246459Z"
    }
   },
   "outputs": [
    {
     "name": "stdout",
     "output_type": "stream",
     "text": [
      "Accuracy on training set: 50.000000 %\n"
     ]
    }
   ],
   "source": [
    "print(f\"Accuracy on training set: {check_accuracy(train_loader, model)*100:2f} %\")\n",
    "#print(f\"Accuracy on test set: {check_accuracy(test_loader, model)*100:.2f} %\")"
   ]
  },
  {
   "cell_type": "code",
   "execution_count": 695,
   "id": "7194f3f0",
   "metadata": {
    "ExecuteTime": {
     "end_time": "2022-11-12T09:13:53.341969Z",
     "start_time": "2022-11-12T09:13:53.299911Z"
    }
   },
   "outputs": [
    {
     "name": "stdout",
     "output_type": "stream",
     "text": [
      "X now in shape of torch.Size([2394, 61])\n",
      "y now in shape of torch.Size([2394, 1])\n",
      "Accuracy on valid set: 50.00 %\n"
     ]
    }
   ],
   "source": [
    "X2 = X_tensor(X_valid_norm)\n",
    "y2 = y_tensor(y_valid_t1.iloc[:,-1])\n",
    "\n",
    "Valid_datasets = CusDatasetLoader(X2, y2)\n",
    "Valid_loader = DataLoader(dataset=Valid_datasets, batch_size=batch_size, shuffle=True)\n",
    "print(f\"Accuracy on valid set: {check_accuracy(Valid_loader, model)*100:.2f} %\")"
   ]
  },
  {
   "cell_type": "code",
   "execution_count": 696,
   "id": "d70d120b",
   "metadata": {
    "ExecuteTime": {
     "end_time": "2022-11-12T09:13:53.483511Z",
     "start_time": "2022-11-12T09:13:53.344586Z"
    }
   },
   "outputs": [
    {
     "name": "stdout",
     "output_type": "stream",
     "text": [
      "(2394, 1)\n",
      "(2394, 1)\n"
     ]
    },
    {
     "data": {
      "image/png": "[encoded data removed]",
      "text/plain": [
       "<Figure size 640x480 with 1 Axes>"
      ]
     },
     "metadata": {},
     "output_type": "display_data"
    }
   ],
   "source": [
    "y_true = np.array(y_valid_t1.iloc[:,[-1]])\n",
    "all_y_pred = []\n",
    "\n",
    "model.eval()\n",
    "with torch.no_grad():\n",
    "    for x, y in Valid_loader:\n",
    "            x = x.to(device=device)\n",
    "            y = y.to(device=device)\n",
    "            #y = torch.squeeze(y.to(device=device), 1)\n",
    "            \n",
    "            pred_y1 = torch.sigmoid(model(x))\n",
    "            y_pred = pred_y1.squeeze(-1).detach().numpy()\n",
    "            all_y_pred = np.append(all_y_pred, y_pred)\n",
    "\n",
    "print(y_true.shape)\n",
    "print(all_y_pred.reshape(-1,1).shape)\n",
    "fpr, tpr, _ = metrics.roc_curve(y_true, all_y_pred)\n",
    "roc_auc = metrics.roc_auc_score(y_true, all_y_pred)\n",
    "\n",
    "model.train()\n",
    "\n",
    "plt.figure(1)\n",
    "plt.plot([0, 1], [0, 1], 'k-')\n",
    "plt.plot(fpr, tpr, label='FN(area = {:.3f})'.format(roc_auc))\n",
    "plt.xlabel('False positive rate')\n",
    "plt.ylabel('True positive rate')\n",
    "plt.title(\"ROC curve\")\n",
    "plt.legend(loc=\"best\")\n",
    "plt.show()"
   ]
  },
  {
   "cell_type": "markdown",
   "id": "b16acbcd",
   "metadata": {},
   "source": [
    "# Test"
   ]
  },
  {
   "cell_type": "code",
   "execution_count": 697,
   "id": "0fc30b2a",
   "metadata": {
    "ExecuteTime": {
     "end_time": "2022-11-12T09:13:53.489456Z",
     "start_time": "2022-11-12T09:13:53.486041Z"
    }
   },
   "outputs": [],
   "source": [
    "def test(loader, model):\n",
    "    # Set model to eval\n",
    "    model.eval()\n",
    "    res = torch.tensor([], dtype=torch.int64)\n",
    "    with torch.no_grad():\n",
    "        for x, y in loader:\n",
    "            x = x.to(device=device)\n",
    "            y.to(device=device)\n",
    "\n",
    "            scores = model(x)\n",
    "            predictions = scores\n",
    "            res =  torch.cat((predictions, res), 0)  \n",
    "    model.train()\n",
    "   \n",
    "    return res"
   ]
  },
  {
   "cell_type": "code",
   "execution_count": 698,
   "id": "767ccbaa",
   "metadata": {
    "ExecuteTime": {
     "end_time": "2022-11-12T09:13:53.518258Z",
     "start_time": "2022-11-12T09:13:53.490696Z"
    }
   },
   "outputs": [
    {
     "data": {
      "text/html": [
       "<div>\n",
       "<style scoped>\n",
       "    .dataframe tbody tr th:only-of-type {\n",
       "        vertical-align: middle;\n",
       "    }\n",
       "\n",
       "    .dataframe tbody tr th {\n",
       "        vertical-align: top;\n",
       "    }\n",
       "\n",
       "    .dataframe thead th {\n",
       "        text-align: right;\n",
       "    }\n",
       "</style>\n",
       "<table border=\"1\" class=\"dataframe\">\n",
       "  <thead>\n",
       "    <tr style=\"text-align: right;\">\n",
       "      <th></th>\n",
       "      <th>0</th>\n",
       "      <th>1</th>\n",
       "      <th>2</th>\n",
       "      <th>3</th>\n",
       "      <th>4</th>\n",
       "      <th>5</th>\n",
       "      <th>6</th>\n",
       "      <th>7</th>\n",
       "      <th>8</th>\n",
       "      <th>9</th>\n",
       "      <th>...</th>\n",
       "      <th>51</th>\n",
       "      <th>52</th>\n",
       "      <th>53</th>\n",
       "      <th>54</th>\n",
       "      <th>55</th>\n",
       "      <th>56</th>\n",
       "      <th>57</th>\n",
       "      <th>58</th>\n",
       "      <th>59</th>\n",
       "      <th>60</th>\n",
       "    </tr>\n",
       "  </thead>\n",
       "  <tbody>\n",
       "    <tr>\n",
       "      <th>0</th>\n",
       "      <td>0.165740</td>\n",
       "      <td>-0.004162</td>\n",
       "      <td>0.073994</td>\n",
       "      <td>0.185472</td>\n",
       "      <td>0.127482</td>\n",
       "      <td>-0.006190</td>\n",
       "      <td>0.972110</td>\n",
       "      <td>0.088822</td>\n",
       "      <td>-0.701075</td>\n",
       "      <td>-0.080230</td>\n",
       "      <td>...</td>\n",
       "      <td>-1.253352</td>\n",
       "      <td>0.761817</td>\n",
       "      <td>-0.268789</td>\n",
       "      <td>0.796971</td>\n",
       "      <td>-2.789214</td>\n",
       "      <td>3.176095</td>\n",
       "      <td>-0.553177</td>\n",
       "      <td>0.027071</td>\n",
       "      <td>-0.017092</td>\n",
       "      <td>0.765229</td>\n",
       "    </tr>\n",
       "    <tr>\n",
       "      <th>1</th>\n",
       "      <td>-0.504386</td>\n",
       "      <td>1.730745</td>\n",
       "      <td>-0.183348</td>\n",
       "      <td>-1.315022</td>\n",
       "      <td>-0.430294</td>\n",
       "      <td>-0.371828</td>\n",
       "      <td>1.212867</td>\n",
       "      <td>-0.484192</td>\n",
       "      <td>-0.344128</td>\n",
       "      <td>-0.010144</td>\n",
       "      <td>...</td>\n",
       "      <td>0.154415</td>\n",
       "      <td>0.298574</td>\n",
       "      <td>-0.174854</td>\n",
       "      <td>0.058073</td>\n",
       "      <td>0.041105</td>\n",
       "      <td>0.019050</td>\n",
       "      <td>-0.022098</td>\n",
       "      <td>0.027071</td>\n",
       "      <td>-0.143602</td>\n",
       "      <td>2.209077</td>\n",
       "    </tr>\n",
       "    <tr>\n",
       "      <th>2</th>\n",
       "      <td>-0.477027</td>\n",
       "      <td>1.012991</td>\n",
       "      <td>0.291617</td>\n",
       "      <td>0.185472</td>\n",
       "      <td>-0.442176</td>\n",
       "      <td>-0.789188</td>\n",
       "      <td>0.731352</td>\n",
       "      <td>-0.657678</td>\n",
       "      <td>-0.548098</td>\n",
       "      <td>0.410367</td>\n",
       "      <td>...</td>\n",
       "      <td>0.154415</td>\n",
       "      <td>-0.164669</td>\n",
       "      <td>1.187213</td>\n",
       "      <td>-1.225180</td>\n",
       "      <td>0.041105</td>\n",
       "      <td>0.019050</td>\n",
       "      <td>-0.022098</td>\n",
       "      <td>0.027071</td>\n",
       "      <td>-0.636430</td>\n",
       "      <td>-0.528219</td>\n",
       "    </tr>\n",
       "    <tr>\n",
       "      <th>3</th>\n",
       "      <td>0.165740</td>\n",
       "      <td>-0.004162</td>\n",
       "      <td>0.073994</td>\n",
       "      <td>-0.714824</td>\n",
       "      <td>0.127482</td>\n",
       "      <td>-0.006190</td>\n",
       "      <td>-0.231679</td>\n",
       "      <td>0.088822</td>\n",
       "      <td>0.012818</td>\n",
       "      <td>-0.028788</td>\n",
       "      <td>...</td>\n",
       "      <td>-2.901256</td>\n",
       "      <td>-0.396290</td>\n",
       "      <td>-0.409693</td>\n",
       "      <td>1.419130</td>\n",
       "      <td>1.121996</td>\n",
       "      <td>1.089125</td>\n",
       "      <td>0.097808</td>\n",
       "      <td>0.027071</td>\n",
       "      <td>0.246553</td>\n",
       "      <td>-0.633499</td>\n",
       "    </tr>\n",
       "    <tr>\n",
       "      <th>4</th>\n",
       "      <td>-0.529010</td>\n",
       "      <td>-0.004162</td>\n",
       "      <td>-0.247532</td>\n",
       "      <td>-0.714824</td>\n",
       "      <td>-0.447268</td>\n",
       "      <td>2.549697</td>\n",
       "      <td>-0.231679</td>\n",
       "      <td>-0.657678</td>\n",
       "      <td>-0.344128</td>\n",
       "      <td>-0.781082</td>\n",
       "      <td>...</td>\n",
       "      <td>0.154415</td>\n",
       "      <td>0.298574</td>\n",
       "      <td>-1.583888</td>\n",
       "      <td>1.185786</td>\n",
       "      <td>0.041105</td>\n",
       "      <td>0.019050</td>\n",
       "      <td>-0.022098</td>\n",
       "      <td>0.027071</td>\n",
       "      <td>-0.017092</td>\n",
       "      <td>-1.550945</td>\n",
       "    </tr>\n",
       "    <tr>\n",
       "      <th>...</th>\n",
       "      <td>...</td>\n",
       "      <td>...</td>\n",
       "      <td>...</td>\n",
       "      <td>...</td>\n",
       "      <td>...</td>\n",
       "      <td>...</td>\n",
       "      <td>...</td>\n",
       "      <td>...</td>\n",
       "      <td>...</td>\n",
       "      <td>...</td>\n",
       "      <td>...</td>\n",
       "      <td>...</td>\n",
       "      <td>...</td>\n",
       "      <td>...</td>\n",
       "      <td>...</td>\n",
       "      <td>...</td>\n",
       "      <td>...</td>\n",
       "      <td>...</td>\n",
       "      <td>...</td>\n",
       "      <td>...</td>\n",
       "      <td>...</td>\n",
       "    </tr>\n",
       "    <tr>\n",
       "      <th>4785</th>\n",
       "      <td>0.165740</td>\n",
       "      <td>-0.004162</td>\n",
       "      <td>0.073994</td>\n",
       "      <td>-0.414726</td>\n",
       "      <td>0.127482</td>\n",
       "      <td>-0.006190</td>\n",
       "      <td>1.453625</td>\n",
       "      <td>0.088822</td>\n",
       "      <td>0.012818</td>\n",
       "      <td>0.550538</td>\n",
       "      <td>...</td>\n",
       "      <td>-3.999859</td>\n",
       "      <td>-0.396290</td>\n",
       "      <td>-1.255113</td>\n",
       "      <td>-0.214115</td>\n",
       "      <td>-0.791603</td>\n",
       "      <td>-5.693526</td>\n",
       "      <td>-0.137387</td>\n",
       "      <td>0.027071</td>\n",
       "      <td>-1.083055</td>\n",
       "      <td>-0.347738</td>\n",
       "    </tr>\n",
       "    <tr>\n",
       "      <th>4786</th>\n",
       "      <td>0.165740</td>\n",
       "      <td>-0.004162</td>\n",
       "      <td>0.073994</td>\n",
       "      <td>0.485571</td>\n",
       "      <td>0.127482</td>\n",
       "      <td>-0.006190</td>\n",
       "      <td>-1.194710</td>\n",
       "      <td>0.088822</td>\n",
       "      <td>2.103507</td>\n",
       "      <td>0.340282</td>\n",
       "      <td>...</td>\n",
       "      <td>0.154415</td>\n",
       "      <td>-2.017639</td>\n",
       "      <td>0.952374</td>\n",
       "      <td>-0.602983</td>\n",
       "      <td>0.041105</td>\n",
       "      <td>0.019050</td>\n",
       "      <td>-0.022098</td>\n",
       "      <td>-0.655784</td>\n",
       "      <td>-0.460709</td>\n",
       "      <td>0.028265</td>\n",
       "    </tr>\n",
       "    <tr>\n",
       "      <th>4787</th>\n",
       "      <td>0.165740</td>\n",
       "      <td>-0.004162</td>\n",
       "      <td>0.073994</td>\n",
       "      <td>-0.414726</td>\n",
       "      <td>0.127482</td>\n",
       "      <td>-0.006190</td>\n",
       "      <td>-0.713195</td>\n",
       "      <td>0.088822</td>\n",
       "      <td>-0.752067</td>\n",
       "      <td>-0.028788</td>\n",
       "      <td>...</td>\n",
       "      <td>0.119901</td>\n",
       "      <td>-0.396290</td>\n",
       "      <td>-0.315757</td>\n",
       "      <td>0.719168</td>\n",
       "      <td>-0.866280</td>\n",
       "      <td>0.045641</td>\n",
       "      <td>-0.137387</td>\n",
       "      <td>0.027071</td>\n",
       "      <td>0.415963</td>\n",
       "      <td>-0.257497</td>\n",
       "    </tr>\n",
       "    <tr>\n",
       "      <th>4788</th>\n",
       "      <td>0.165740</td>\n",
       "      <td>-0.004162</td>\n",
       "      <td>0.073994</td>\n",
       "      <td>1.085769</td>\n",
       "      <td>0.127482</td>\n",
       "      <td>-1.206549</td>\n",
       "      <td>-0.231679</td>\n",
       "      <td>0.088822</td>\n",
       "      <td>0.471750</td>\n",
       "      <td>0.270197</td>\n",
       "      <td>...</td>\n",
       "      <td>0.154415</td>\n",
       "      <td>0.530195</td>\n",
       "      <td>1.140245</td>\n",
       "      <td>-0.914077</td>\n",
       "      <td>0.041105</td>\n",
       "      <td>0.019050</td>\n",
       "      <td>-0.022098</td>\n",
       "      <td>-0.593120</td>\n",
       "      <td>-0.636430</td>\n",
       "      <td>1.096111</td>\n",
       "    </tr>\n",
       "    <tr>\n",
       "      <th>4789</th>\n",
       "      <td>-0.466083</td>\n",
       "      <td>-2.815031</td>\n",
       "      <td>-0.748171</td>\n",
       "      <td>0.485571</td>\n",
       "      <td>-0.442176</td>\n",
       "      <td>-0.371828</td>\n",
       "      <td>-0.472437</td>\n",
       "      <td>-0.729964</td>\n",
       "      <td>1.644575</td>\n",
       "      <td>-0.710997</td>\n",
       "      <td>...</td>\n",
       "      <td>0.154415</td>\n",
       "      <td>-0.627911</td>\n",
       "      <td>1.797795</td>\n",
       "      <td>-0.136342</td>\n",
       "      <td>0.041105</td>\n",
       "      <td>0.019050</td>\n",
       "      <td>-0.022098</td>\n",
       "      <td>0.027071</td>\n",
       "      <td>-0.879150</td>\n",
       "      <td>0.780269</td>\n",
       "    </tr>\n",
       "  </tbody>\n",
       "</table>\n",
       "<p>4790 rows × 61 columns</p>\n",
       "</div>"
      ],
      "text/plain": [
       "            0         1         2         3         4         5         6   \\\n",
       "0     0.165740 -0.004162  0.073994  0.185472  0.127482 -0.006190  0.972110   \n",
       "1    -0.504386  1.730745 -0.183348 -1.315022 -0.430294 -0.371828  1.212867   \n",
       "2    -0.477027  1.012991  0.291617  0.185472 -0.442176 -0.789188  0.731352   \n",
       "3     0.165740 -0.004162  0.073994 -0.714824  0.127482 -0.006190 -0.231679   \n",
       "4    -0.529010 -0.004162 -0.247532 -0.714824 -0.447268  2.549697 -0.231679   \n",
       "...        ...       ...       ...       ...       ...       ...       ...   \n",
       "4785  0.165740 -0.004162  0.073994 -0.414726  0.127482 -0.006190  1.453625   \n",
       "4786  0.165740 -0.004162  0.073994  0.485571  0.127482 -0.006190 -1.194710   \n",
       "4787  0.165740 -0.004162  0.073994 -0.414726  0.127482 -0.006190 -0.713195   \n",
       "4788  0.165740 -0.004162  0.073994  1.085769  0.127482 -1.206549 -0.231679   \n",
       "4789 -0.466083 -2.815031 -0.748171  0.485571 -0.442176 -0.371828 -0.472437   \n",
       "\n",
       "            7         8         9   ...        51        52        53  \\\n",
       "0     0.088822 -0.701075 -0.080230  ... -1.253352  0.761817 -0.268789   \n",
       "1    -0.484192 -0.344128 -0.010144  ...  0.154415  0.298574 -0.174854   \n",
       "2    -0.657678 -0.548098  0.410367  ...  0.154415 -0.164669  1.187213   \n",
       "3     0.088822  0.012818 -0.028788  ... -2.901256 -0.396290 -0.409693   \n",
       "4    -0.657678 -0.344128 -0.781082  ...  0.154415  0.298574 -1.583888   \n",
       "...        ...       ...       ...  ...       ...       ...       ...   \n",
       "4785  0.088822  0.012818  0.550538  ... -3.999859 -0.396290 -1.255113   \n",
       "4786  0.088822  2.103507  0.340282  ...  0.154415 -2.017639  0.952374   \n",
       "4787  0.088822 -0.752067 -0.028788  ...  0.119901 -0.396290 -0.315757   \n",
       "4788  0.088822  0.471750  0.270197  ...  0.154415  0.530195  1.140245   \n",
       "4789 -0.729964  1.644575 -0.710997  ...  0.154415 -0.627911  1.797795   \n",
       "\n",
       "            54        55        56        57        58        59        60  \n",
       "0     0.796971 -2.789214  3.176095 -0.553177  0.027071 -0.017092  0.765229  \n",
       "1     0.058073  0.041105  0.019050 -0.022098  0.027071 -0.143602  2.209077  \n",
       "2    -1.225180  0.041105  0.019050 -0.022098  0.027071 -0.636430 -0.528219  \n",
       "3     1.419130  1.121996  1.089125  0.097808  0.027071  0.246553 -0.633499  \n",
       "4     1.185786  0.041105  0.019050 -0.022098  0.027071 -0.017092 -1.550945  \n",
       "...        ...       ...       ...       ...       ...       ...       ...  \n",
       "4785 -0.214115 -0.791603 -5.693526 -0.137387  0.027071 -1.083055 -0.347738  \n",
       "4786 -0.602983  0.041105  0.019050 -0.022098 -0.655784 -0.460709  0.028265  \n",
       "4787  0.719168 -0.866280  0.045641 -0.137387  0.027071  0.415963 -0.257497  \n",
       "4788 -0.914077  0.041105  0.019050 -0.022098 -0.593120 -0.636430  1.096111  \n",
       "4789 -0.136342  0.041105  0.019050 -0.022098  0.027071 -0.879150  0.780269  \n",
       "\n",
       "[4790 rows x 61 columns]"
      ]
     },
     "execution_count": 698,
     "metadata": {},
     "output_type": "execute_result"
    }
   ],
   "source": [
    "X_test_mean\n",
    "x_valid_mean=X_test_mean.values\n",
    "x_valid_mean_scaled = scaler.fit_transform(x_valid_mean)\n",
    "X_test_norm=pd.DataFrame(x_valid_mean_scaled)\n",
    "X_test_norm"
   ]
  },
  {
   "cell_type": "code",
   "execution_count": 699,
   "id": "66e51253",
   "metadata": {
    "ExecuteTime": {
     "end_time": "2022-11-12T09:13:53.591262Z",
     "start_time": "2022-11-12T09:13:53.519776Z"
    }
   },
   "outputs": [
    {
     "name": "stdout",
     "output_type": "stream",
     "text": [
      "X now in shape of torch.Size([4790, 61])\n"
     ]
    },
    {
     "data": {
      "text/plain": [
       "tensor([[0.4238],\n",
       "        [0.4238],\n",
       "        [0.4238],\n",
       "        ...,\n",
       "        [0.4238],\n",
       "        [0.4238],\n",
       "        [0.4238]])"
      ]
     },
     "execution_count": 699,
     "metadata": {},
     "output_type": "execute_result"
    }
   ],
   "source": [
    "X_test_final = X_tensor(X_test_norm)\n",
    "y_final = torch.zeros([4790,1])\n",
    "\n",
    "test_datasets = CusDatasetLoader(X_test_final, y_final)\n",
    "test_loader = DataLoader(dataset=test_datasets, batch_size=batch_size, shuffle=True)\n",
    "\n",
    "result = test(test_loader, model)\n",
    "result"
   ]
  },
  {
   "cell_type": "code",
   "execution_count": 700,
   "id": "8747d5c8",
   "metadata": {
    "ExecuteTime": {
     "end_time": "2022-11-12T09:13:53.615499Z",
     "start_time": "2022-11-12T09:13:53.593321Z"
    },
    "scrolled": true
   },
   "outputs": [
    {
     "data": {
      "text/html": [
       "<div>\n",
       "<style scoped>\n",
       "    .dataframe tbody tr th:only-of-type {\n",
       "        vertical-align: middle;\n",
       "    }\n",
       "\n",
       "    .dataframe tbody tr th {\n",
       "        vertical-align: top;\n",
       "    }\n",
       "\n",
       "    .dataframe thead th {\n",
       "        text-align: right;\n",
       "    }\n",
       "</style>\n",
       "<table border=\"1\" class=\"dataframe\">\n",
       "  <thead>\n",
       "    <tr style=\"text-align: right;\">\n",
       "      <th></th>\n",
       "      <th>Predicted</th>\n",
       "    </tr>\n",
       "    <tr>\n",
       "      <th>Id</th>\n",
       "      <th></th>\n",
       "    </tr>\n",
       "  </thead>\n",
       "  <tbody>\n",
       "    <tr>\n",
       "      <th>32_175413_295037</th>\n",
       "      <td>0.423837</td>\n",
       "    </tr>\n",
       "    <tr>\n",
       "      <th>33_176176_296681</th>\n",
       "      <td>0.423837</td>\n",
       "    </tr>\n",
       "    <tr>\n",
       "      <th>42_119203_210828</th>\n",
       "      <td>0.423837</td>\n",
       "    </tr>\n",
       "    <tr>\n",
       "      <th>44_181750_291554</th>\n",
       "      <td>0.423837</td>\n",
       "    </tr>\n",
       "    <tr>\n",
       "      <th>61_176332_252348</th>\n",
       "      <td>0.423837</td>\n",
       "    </tr>\n",
       "    <tr>\n",
       "      <th>...</th>\n",
       "      <td>...</td>\n",
       "    </tr>\n",
       "    <tr>\n",
       "      <th>99883_150755_276467</th>\n",
       "      <td>0.423837</td>\n",
       "    </tr>\n",
       "    <tr>\n",
       "      <th>99897_162913_266801</th>\n",
       "      <td>0.423837</td>\n",
       "    </tr>\n",
       "    <tr>\n",
       "      <th>99913_175989_292375</th>\n",
       "      <td>0.423837</td>\n",
       "    </tr>\n",
       "    <tr>\n",
       "      <th>99944_185654_221067</th>\n",
       "      <td>0.423837</td>\n",
       "    </tr>\n",
       "    <tr>\n",
       "      <th>99992_197084_242052</th>\n",
       "      <td>0.423837</td>\n",
       "    </tr>\n",
       "  </tbody>\n",
       "</table>\n",
       "<p>4790 rows × 1 columns</p>\n",
       "</div>"
      ],
      "text/plain": [
       "                     Predicted\n",
       "Id                            \n",
       "32_175413_295037      0.423837\n",
       "33_176176_296681      0.423837\n",
       "42_119203_210828      0.423837\n",
       "44_181750_291554      0.423837\n",
       "61_176332_252348      0.423837\n",
       "...                        ...\n",
       "99883_150755_276467   0.423837\n",
       "99897_162913_266801   0.423837\n",
       "99913_175989_292375   0.423837\n",
       "99944_185654_221067   0.423837\n",
       "99992_197084_242052   0.423837\n",
       "\n",
       "[4790 rows x 1 columns]"
      ]
     },
     "execution_count": 700,
     "metadata": {},
     "output_type": "execute_result"
    }
   ],
   "source": [
    "\n",
    "#df.index = ['Row_1', 'Row_2', 'Row_3', 'Row_4']\n",
    "res1 = pd.DataFrame(result.tolist(), columns=[\"Predicted\"])\n",
    "res1.index = X_test.index\n",
    "res1.index.name = 'Id'\n",
    "pd.DataFrame(res1).to_csv('out.csv')\n",
    "#print(torch.count_nonzero(torch.from_numpy(np.array(res1)).to(torch.float32)))\n",
    "res1"
   ]
  },
  {
   "cell_type": "markdown",
   "id": "27ca623b",
   "metadata": {},
   "source": [
    "#"
   ]
  },
  {
   "cell_type": "markdown",
   "id": "afa29a40",
   "metadata": {},
   "source": [
    "#"
   ]
  },
  {
   "cell_type": "markdown",
   "id": "b8d38018",
   "metadata": {},
   "source": [
    "#"
   ]
  }
 ],
 "metadata": {
  "kernelspec": {
   "display_name": "comp3340",
   "language": "python",
   "name": "comp3340"
  },
  "language_info": {
   "codemirror_mode": {
    "name": "ipython",
    "version": 3
   },
   "file_extension": ".py",
   "mimetype": "text/x-python",
   "name": "python",
   "nbconvert_exporter": "python",
   "pygments_lexer": "ipython3",
   "version": "3.7.13"
  },
  "toc": {
   "base_numbering": 1,
   "nav_menu": {},
   "number_sections": true,
   "sideBar": true,
   "skip_h1_title": false,
   "title_cell": "Table of Contents",
   "title_sidebar": "Contents",
   "toc_cell": false,
   "toc_position": {},
   "toc_section_display": true,
   "toc_window_display": false
  }
 },
 "nbformat": 4,
 "nbformat_minor": 5
}
