{
 "cells": [
  {
   "cell_type": "markdown",
   "id": "ef20a47f",
   "metadata": {
    "ExecuteTime": {
     "end_time": "2022-10-25T14:31:30.264761Z",
     "start_time": "2022-10-25T14:31:30.261019Z"
    }
   },
   "source": [
    "# Libraries"
   ]
  },
  {
   "cell_type": "markdown",
   "id": "c7dc3c25",
   "metadata": {},
   "source": [
    "! pip install numpy pandas sklearn"
   ]
  },
  {
   "cell_type": "code",
   "execution_count": 2,
   "id": "13f6d23e",
   "metadata": {
    "ExecuteTime": {
     "end_time": "2022-10-27T04:24:31.948223Z",
     "start_time": "2022-10-27T04:24:31.679655Z"
    }
   },
   "outputs": [],
   "source": [
    "import numpy as np\n",
    "import pandas as pd"
   ]
  },
  {
   "cell_type": "markdown",
   "id": "e2457a8a",
   "metadata": {},
   "source": [
    "# Import data"
   ]
  },
  {
   "cell_type": "markdown",
   "id": "9604885a",
   "metadata": {
    "heading_collapsed": true
   },
   "source": [
    "## X"
   ]
  },
  {
   "cell_type": "code",
   "execution_count": 3,
   "id": "f546c14e",
   "metadata": {
    "ExecuteTime": {
     "end_time": "2022-10-27T04:24:48.786898Z",
     "start_time": "2022-10-27T04:24:31.950114Z"
    },
    "hidden": true
   },
   "outputs": [],
   "source": [
    "# For training the model\n",
    "X_train = pd.read_csv(\"../X/X_train.csv\" , index_col=[0], header=[0, 1, 2])\n"
   ]
  },
  {
   "cell_type": "code",
   "execution_count": 4,
   "id": "ce970fb5",
   "metadata": {
    "ExecuteTime": {
     "end_time": "2022-10-27T04:24:48.833738Z",
     "start_time": "2022-10-27T04:24:48.788190Z"
    },
    "hidden": true
   },
   "outputs": [
    {
     "data": {
      "text/html": [
       "<div>\n",
       "<style scoped>\n",
       "    .dataframe tbody tr th:only-of-type {\n",
       "        vertical-align: middle;\n",
       "    }\n",
       "\n",
       "    .dataframe tbody tr th {\n",
       "        vertical-align: top;\n",
       "    }\n",
       "\n",
       "    .dataframe thead tr th {\n",
       "        text-align: left;\n",
       "    }\n",
       "</style>\n",
       "<table border=\"1\" class=\"dataframe\">\n",
       "  <thead>\n",
       "    <tr>\n",
       "      <th>LEVEL2</th>\n",
       "      <th colspan=\"10\" halign=\"left\">alanine aminotransferase</th>\n",
       "      <th>...</th>\n",
       "      <th colspan=\"10\" halign=\"left\">white blood cell count urine</th>\n",
       "    </tr>\n",
       "    <tr>\n",
       "      <th>Aggregation Function</th>\n",
       "      <th colspan=\"10\" halign=\"left\">mask</th>\n",
       "      <th>...</th>\n",
       "      <th colspan=\"10\" halign=\"left\">time_since_measured</th>\n",
       "    </tr>\n",
       "    <tr>\n",
       "      <th>hours_in</th>\n",
       "      <th>0</th>\n",
       "      <th>1</th>\n",
       "      <th>2</th>\n",
       "      <th>3</th>\n",
       "      <th>4</th>\n",
       "      <th>5</th>\n",
       "      <th>6</th>\n",
       "      <th>7</th>\n",
       "      <th>8</th>\n",
       "      <th>9</th>\n",
       "      <th>...</th>\n",
       "      <th>14</th>\n",
       "      <th>15</th>\n",
       "      <th>16</th>\n",
       "      <th>17</th>\n",
       "      <th>18</th>\n",
       "      <th>19</th>\n",
       "      <th>20</th>\n",
       "      <th>21</th>\n",
       "      <th>22</th>\n",
       "      <th>23</th>\n",
       "    </tr>\n",
       "  </thead>\n",
       "  <tbody>\n",
       "    <tr>\n",
       "      <th>3_145834_211552</th>\n",
       "      <td>1.0</td>\n",
       "      <td>0.0</td>\n",
       "      <td>0.0</td>\n",
       "      <td>0.0</td>\n",
       "      <td>0.0</td>\n",
       "      <td>0.0</td>\n",
       "      <td>0.0</td>\n",
       "      <td>0.0</td>\n",
       "      <td>0.0</td>\n",
       "      <td>0.0</td>\n",
       "      <td>...</td>\n",
       "      <td>6.0</td>\n",
       "      <td>7.0</td>\n",
       "      <td>8.0</td>\n",
       "      <td>9.0</td>\n",
       "      <td>10.0</td>\n",
       "      <td>11.0</td>\n",
       "      <td>12.0</td>\n",
       "      <td>13.0</td>\n",
       "      <td>14.0</td>\n",
       "      <td>15.0</td>\n",
       "    </tr>\n",
       "    <tr>\n",
       "      <th>6_107064_228232</th>\n",
       "      <td>1.0</td>\n",
       "      <td>0.0</td>\n",
       "      <td>0.0</td>\n",
       "      <td>0.0</td>\n",
       "      <td>0.0</td>\n",
       "      <td>0.0</td>\n",
       "      <td>0.0</td>\n",
       "      <td>0.0</td>\n",
       "      <td>0.0</td>\n",
       "      <td>0.0</td>\n",
       "      <td>...</td>\n",
       "      <td>30.0</td>\n",
       "      <td>31.0</td>\n",
       "      <td>32.0</td>\n",
       "      <td>33.0</td>\n",
       "      <td>34.0</td>\n",
       "      <td>35.0</td>\n",
       "      <td>36.0</td>\n",
       "      <td>37.0</td>\n",
       "      <td>38.0</td>\n",
       "      <td>39.0</td>\n",
       "    </tr>\n",
       "    <tr>\n",
       "      <th>9_150750_220597</th>\n",
       "      <td>0.0</td>\n",
       "      <td>0.0</td>\n",
       "      <td>0.0</td>\n",
       "      <td>0.0</td>\n",
       "      <td>0.0</td>\n",
       "      <td>0.0</td>\n",
       "      <td>0.0</td>\n",
       "      <td>0.0</td>\n",
       "      <td>0.0</td>\n",
       "      <td>0.0</td>\n",
       "      <td>...</td>\n",
       "      <td>54.0</td>\n",
       "      <td>55.0</td>\n",
       "      <td>56.0</td>\n",
       "      <td>57.0</td>\n",
       "      <td>58.0</td>\n",
       "      <td>59.0</td>\n",
       "      <td>60.0</td>\n",
       "      <td>61.0</td>\n",
       "      <td>62.0</td>\n",
       "      <td>63.0</td>\n",
       "    </tr>\n",
       "    <tr>\n",
       "      <th>11_194540_229441</th>\n",
       "      <td>0.0</td>\n",
       "      <td>0.0</td>\n",
       "      <td>0.0</td>\n",
       "      <td>0.0</td>\n",
       "      <td>0.0</td>\n",
       "      <td>0.0</td>\n",
       "      <td>0.0</td>\n",
       "      <td>0.0</td>\n",
       "      <td>0.0</td>\n",
       "      <td>0.0</td>\n",
       "      <td>...</td>\n",
       "      <td>78.0</td>\n",
       "      <td>79.0</td>\n",
       "      <td>80.0</td>\n",
       "      <td>81.0</td>\n",
       "      <td>82.0</td>\n",
       "      <td>83.0</td>\n",
       "      <td>84.0</td>\n",
       "      <td>85.0</td>\n",
       "      <td>86.0</td>\n",
       "      <td>87.0</td>\n",
       "    </tr>\n",
       "    <tr>\n",
       "      <th>12_112213_232669</th>\n",
       "      <td>0.0</td>\n",
       "      <td>0.0</td>\n",
       "      <td>0.0</td>\n",
       "      <td>0.0</td>\n",
       "      <td>0.0</td>\n",
       "      <td>0.0</td>\n",
       "      <td>0.0</td>\n",
       "      <td>0.0</td>\n",
       "      <td>0.0</td>\n",
       "      <td>0.0</td>\n",
       "      <td>...</td>\n",
       "      <td>102.0</td>\n",
       "      <td>103.0</td>\n",
       "      <td>104.0</td>\n",
       "      <td>105.0</td>\n",
       "      <td>106.0</td>\n",
       "      <td>107.0</td>\n",
       "      <td>108.0</td>\n",
       "      <td>109.0</td>\n",
       "      <td>110.0</td>\n",
       "      <td>111.0</td>\n",
       "    </tr>\n",
       "    <tr>\n",
       "      <th>...</th>\n",
       "      <td>...</td>\n",
       "      <td>...</td>\n",
       "      <td>...</td>\n",
       "      <td>...</td>\n",
       "      <td>...</td>\n",
       "      <td>...</td>\n",
       "      <td>...</td>\n",
       "      <td>...</td>\n",
       "      <td>...</td>\n",
       "      <td>...</td>\n",
       "      <td>...</td>\n",
       "      <td>...</td>\n",
       "      <td>...</td>\n",
       "      <td>...</td>\n",
       "      <td>...</td>\n",
       "      <td>...</td>\n",
       "      <td>...</td>\n",
       "      <td>...</td>\n",
       "      <td>...</td>\n",
       "      <td>...</td>\n",
       "      <td>...</td>\n",
       "    </tr>\n",
       "    <tr>\n",
       "      <th>99966_167228_252173</th>\n",
       "      <td>0.0</td>\n",
       "      <td>0.0</td>\n",
       "      <td>0.0</td>\n",
       "      <td>0.0</td>\n",
       "      <td>0.0</td>\n",
       "      <td>0.0</td>\n",
       "      <td>0.0</td>\n",
       "      <td>0.0</td>\n",
       "      <td>0.0</td>\n",
       "      <td>0.0</td>\n",
       "      <td>...</td>\n",
       "      <td>86.0</td>\n",
       "      <td>87.0</td>\n",
       "      <td>88.0</td>\n",
       "      <td>89.0</td>\n",
       "      <td>90.0</td>\n",
       "      <td>91.0</td>\n",
       "      <td>92.0</td>\n",
       "      <td>93.0</td>\n",
       "      <td>94.0</td>\n",
       "      <td>95.0</td>\n",
       "    </tr>\n",
       "    <tr>\n",
       "      <th>99973_150202_275083</th>\n",
       "      <td>0.0</td>\n",
       "      <td>0.0</td>\n",
       "      <td>0.0</td>\n",
       "      <td>0.0</td>\n",
       "      <td>0.0</td>\n",
       "      <td>0.0</td>\n",
       "      <td>0.0</td>\n",
       "      <td>0.0</td>\n",
       "      <td>0.0</td>\n",
       "      <td>0.0</td>\n",
       "      <td>...</td>\n",
       "      <td>110.0</td>\n",
       "      <td>111.0</td>\n",
       "      <td>112.0</td>\n",
       "      <td>113.0</td>\n",
       "      <td>114.0</td>\n",
       "      <td>115.0</td>\n",
       "      <td>116.0</td>\n",
       "      <td>117.0</td>\n",
       "      <td>118.0</td>\n",
       "      <td>119.0</td>\n",
       "    </tr>\n",
       "    <tr>\n",
       "      <th>99982_151454_221194</th>\n",
       "      <td>0.0</td>\n",
       "      <td>0.0</td>\n",
       "      <td>0.0</td>\n",
       "      <td>0.0</td>\n",
       "      <td>0.0</td>\n",
       "      <td>0.0</td>\n",
       "      <td>0.0</td>\n",
       "      <td>0.0</td>\n",
       "      <td>0.0</td>\n",
       "      <td>0.0</td>\n",
       "      <td>...</td>\n",
       "      <td>134.0</td>\n",
       "      <td>135.0</td>\n",
       "      <td>136.0</td>\n",
       "      <td>137.0</td>\n",
       "      <td>138.0</td>\n",
       "      <td>139.0</td>\n",
       "      <td>140.0</td>\n",
       "      <td>141.0</td>\n",
       "      <td>142.0</td>\n",
       "      <td>143.0</td>\n",
       "    </tr>\n",
       "    <tr>\n",
       "      <th>99991_151118_226241</th>\n",
       "      <td>0.0</td>\n",
       "      <td>0.0</td>\n",
       "      <td>0.0</td>\n",
       "      <td>0.0</td>\n",
       "      <td>0.0</td>\n",
       "      <td>0.0</td>\n",
       "      <td>0.0</td>\n",
       "      <td>0.0</td>\n",
       "      <td>0.0</td>\n",
       "      <td>0.0</td>\n",
       "      <td>...</td>\n",
       "      <td>14.0</td>\n",
       "      <td>15.0</td>\n",
       "      <td>16.0</td>\n",
       "      <td>17.0</td>\n",
       "      <td>18.0</td>\n",
       "      <td>19.0</td>\n",
       "      <td>20.0</td>\n",
       "      <td>21.0</td>\n",
       "      <td>22.0</td>\n",
       "      <td>23.0</td>\n",
       "    </tr>\n",
       "    <tr>\n",
       "      <th>99995_137810_229633</th>\n",
       "      <td>0.0</td>\n",
       "      <td>1.0</td>\n",
       "      <td>1.0</td>\n",
       "      <td>0.0</td>\n",
       "      <td>0.0</td>\n",
       "      <td>0.0</td>\n",
       "      <td>0.0</td>\n",
       "      <td>0.0</td>\n",
       "      <td>0.0</td>\n",
       "      <td>0.0</td>\n",
       "      <td>...</td>\n",
       "      <td>38.0</td>\n",
       "      <td>39.0</td>\n",
       "      <td>40.0</td>\n",
       "      <td>41.0</td>\n",
       "      <td>42.0</td>\n",
       "      <td>43.0</td>\n",
       "      <td>44.0</td>\n",
       "      <td>45.0</td>\n",
       "      <td>46.0</td>\n",
       "      <td>47.0</td>\n",
       "    </tr>\n",
       "  </tbody>\n",
       "</table>\n",
       "<p>16760 rows × 7488 columns</p>\n",
       "</div>"
      ],
      "text/plain": [
       "LEVEL2               alanine aminotransferase                                \\\n",
       "Aggregation Function                     mask                                 \n",
       "hours_in                                    0    1    2    3    4    5    6   \n",
       "3_145834_211552                           1.0  0.0  0.0  0.0  0.0  0.0  0.0   \n",
       "6_107064_228232                           1.0  0.0  0.0  0.0  0.0  0.0  0.0   \n",
       "9_150750_220597                           0.0  0.0  0.0  0.0  0.0  0.0  0.0   \n",
       "11_194540_229441                          0.0  0.0  0.0  0.0  0.0  0.0  0.0   \n",
       "12_112213_232669                          0.0  0.0  0.0  0.0  0.0  0.0  0.0   \n",
       "...                                       ...  ...  ...  ...  ...  ...  ...   \n",
       "99966_167228_252173                       0.0  0.0  0.0  0.0  0.0  0.0  0.0   \n",
       "99973_150202_275083                       0.0  0.0  0.0  0.0  0.0  0.0  0.0   \n",
       "99982_151454_221194                       0.0  0.0  0.0  0.0  0.0  0.0  0.0   \n",
       "99991_151118_226241                       0.0  0.0  0.0  0.0  0.0  0.0  0.0   \n",
       "99995_137810_229633                       0.0  1.0  1.0  0.0  0.0  0.0  0.0   \n",
       "\n",
       "LEVEL2                               ... white blood cell count urine         \\\n",
       "Aggregation Function                 ...          time_since_measured          \n",
       "hours_in                7    8    9  ...                           14     15   \n",
       "3_145834_211552       0.0  0.0  0.0  ...                          6.0    7.0   \n",
       "6_107064_228232       0.0  0.0  0.0  ...                         30.0   31.0   \n",
       "9_150750_220597       0.0  0.0  0.0  ...                         54.0   55.0   \n",
       "11_194540_229441      0.0  0.0  0.0  ...                         78.0   79.0   \n",
       "12_112213_232669      0.0  0.0  0.0  ...                        102.0  103.0   \n",
       "...                   ...  ...  ...  ...                          ...    ...   \n",
       "99966_167228_252173   0.0  0.0  0.0  ...                         86.0   87.0   \n",
       "99973_150202_275083   0.0  0.0  0.0  ...                        110.0  111.0   \n",
       "99982_151454_221194   0.0  0.0  0.0  ...                        134.0  135.0   \n",
       "99991_151118_226241   0.0  0.0  0.0  ...                         14.0   15.0   \n",
       "99995_137810_229633   0.0  0.0  0.0  ...                         38.0   39.0   \n",
       "\n",
       "LEVEL2                                                                        \n",
       "Aggregation Function                                                          \n",
       "hours_in                 16     17     18     19     20     21     22     23  \n",
       "3_145834_211552         8.0    9.0   10.0   11.0   12.0   13.0   14.0   15.0  \n",
       "6_107064_228232        32.0   33.0   34.0   35.0   36.0   37.0   38.0   39.0  \n",
       "9_150750_220597        56.0   57.0   58.0   59.0   60.0   61.0   62.0   63.0  \n",
       "11_194540_229441       80.0   81.0   82.0   83.0   84.0   85.0   86.0   87.0  \n",
       "12_112213_232669      104.0  105.0  106.0  107.0  108.0  109.0  110.0  111.0  \n",
       "...                     ...    ...    ...    ...    ...    ...    ...    ...  \n",
       "99966_167228_252173    88.0   89.0   90.0   91.0   92.0   93.0   94.0   95.0  \n",
       "99973_150202_275083   112.0  113.0  114.0  115.0  116.0  117.0  118.0  119.0  \n",
       "99982_151454_221194   136.0  137.0  138.0  139.0  140.0  141.0  142.0  143.0  \n",
       "99991_151118_226241    16.0   17.0   18.0   19.0   20.0   21.0   22.0   23.0  \n",
       "99995_137810_229633    40.0   41.0   42.0   43.0   44.0   45.0   46.0   47.0  \n",
       "\n",
       "[16760 rows x 7488 columns]"
      ]
     },
     "execution_count": 4,
     "metadata": {},
     "output_type": "execute_result"
    }
   ],
   "source": [
    "X_train\n"
   ]
  },
  {
   "cell_type": "code",
   "execution_count": null,
   "id": "6bc2142a",
   "metadata": {
    "hidden": true
   },
   "outputs": [],
   "source": []
  },
  {
   "cell_type": "code",
   "execution_count": 5,
   "id": "f8f37436",
   "metadata": {
    "ExecuteTime": {
     "end_time": "2022-10-27T04:24:51.246997Z",
     "start_time": "2022-10-27T04:24:48.835423Z"
    },
    "hidden": true,
    "scrolled": false
   },
   "outputs": [],
   "source": [
    "# For cross validation\n",
    "X_valid = pd.read_csv(\"../X/X_valid.csv\", index_col=[0], header=[0, 1, 2])"
   ]
  },
  {
   "cell_type": "code",
   "execution_count": 6,
   "id": "f36f2de1",
   "metadata": {
    "ExecuteTime": {
     "end_time": "2022-10-27T04:24:56.086464Z",
     "start_time": "2022-10-27T04:24:51.248731Z"
    },
    "hidden": true
   },
   "outputs": [],
   "source": [
    "# For prediction\n",
    "X_test = pd.read_csv(\"../X/X_test.csv\", index_col=[0], header=[0, 1, 2])"
   ]
  },
  {
   "cell_type": "markdown",
   "id": "1517bf13",
   "metadata": {
    "heading_collapsed": true
   },
   "source": [
    "## Task 1"
   ]
  },
  {
   "cell_type": "code",
   "execution_count": 7,
   "id": "a44e85c0",
   "metadata": {
    "ExecuteTime": {
     "end_time": "2022-10-27T05:07:06.555426Z",
     "start_time": "2022-10-27T05:07:06.534240Z"
    },
    "hidden": true
   },
   "outputs": [],
   "source": [
    "y_train_t1 = pd.read_csv(\"../Task1/Y_train.csv\")\n",
    "y_valid_t1 = pd.read_csv(\"../Task1/Y_valid.csv\")"
   ]
  },
  {
   "cell_type": "markdown",
   "id": "b04af03f",
   "metadata": {
    "heading_collapsed": true
   },
   "source": [
    "## Task 2"
   ]
  },
  {
   "cell_type": "code",
   "execution_count": 8,
   "id": "94409666",
   "metadata": {
    "ExecuteTime": {
     "end_time": "2022-10-27T05:07:29.906313Z",
     "start_time": "2022-10-27T05:07:29.882713Z"
    },
    "hidden": true
   },
   "outputs": [],
   "source": [
    "y_train_t2 = pd.read_csv(\"../Task2/Y_train.csv\")\n",
    "y_valid_t2 = pd.read_csv(\"../Task2/Y_valid.csv\")"
   ]
  },
  {
   "cell_type": "markdown",
   "id": "aed0dc26",
   "metadata": {},
   "source": [
    "# Data Pre-processing"
   ]
  },
  {
   "cell_type": "markdown",
   "id": "668ec5a9",
   "metadata": {},
   "source": [
    "## Dealing with N/A data"
   ]
  },
  {
   "cell_type": "code",
   "execution_count": 9,
   "id": "dbb462d0",
   "metadata": {
    "ExecuteTime": {
     "end_time": "2022-10-27T05:08:09.179850Z",
     "start_time": "2022-10-27T05:08:08.912324Z"
    },
    "scrolled": true
   },
   "outputs": [
    {
     "name": "stdout",
     "output_type": "stream",
     "text": [
      "0\n",
      "0\n",
      "0\n"
     ]
    }
   ],
   "source": [
    "print(X_train.isna().sum().sum())\n",
    "print(X_valid.isna().sum().sum())\n",
    "print(X_test.isna().sum().sum()) "
   ]
  },
  {
   "cell_type": "markdown",
   "id": "da4029d9",
   "metadata": {},
   "source": [
    "All data are well-recorded. There is no N/A data"
   ]
  },
  {
   "cell_type": "markdown",
   "id": "edfbdb01",
   "metadata": {},
   "source": [
    "## Normalization"
   ]
  },
  {
   "cell_type": "code",
   "execution_count": 10,
   "id": "4673047f",
   "metadata": {},
   "outputs": [
    {
     "name": "stdout",
     "output_type": "stream",
     "text": [
      "LEVEL2               alanine aminotransferase                                \\\n",
      "Aggregation Function                     mask                                 \n",
      "hours_in                                    0    1    2    3    4    5    6   \n",
      "3_145834_211552                           1.0  0.0  0.0  0.0  0.0  0.0  0.0   \n",
      "6_107064_228232                           1.0  0.0  0.0  0.0  0.0  0.0  0.0   \n",
      "9_150750_220597                           0.0  0.0  0.0  0.0  0.0  0.0  0.0   \n",
      "11_194540_229441                          0.0  0.0  0.0  0.0  0.0  0.0  0.0   \n",
      "12_112213_232669                          0.0  0.0  0.0  0.0  0.0  0.0  0.0   \n",
      "...                                       ...  ...  ...  ...  ...  ...  ...   \n",
      "99966_167228_252173                       0.0  0.0  0.0  0.0  0.0  0.0  0.0   \n",
      "99973_150202_275083                       0.0  0.0  0.0  0.0  0.0  0.0  0.0   \n",
      "99982_151454_221194                       0.0  0.0  0.0  0.0  0.0  0.0  0.0   \n",
      "99991_151118_226241                       0.0  0.0  0.0  0.0  0.0  0.0  0.0   \n",
      "99995_137810_229633                       0.0  1.0  1.0  0.0  0.0  0.0  0.0   \n",
      "\n",
      "LEVEL2                               ... white blood cell count urine         \\\n",
      "Aggregation Function                 ...          time_since_measured          \n",
      "hours_in                7    8    9  ...                           14     15   \n",
      "3_145834_211552       0.0  0.0  0.0  ...                          6.0    7.0   \n",
      "6_107064_228232       0.0  0.0  0.0  ...                         30.0   31.0   \n",
      "9_150750_220597       0.0  0.0  0.0  ...                         54.0   55.0   \n",
      "11_194540_229441      0.0  0.0  0.0  ...                         78.0   79.0   \n",
      "12_112213_232669      0.0  0.0  0.0  ...                        102.0  103.0   \n",
      "...                   ...  ...  ...  ...                          ...    ...   \n",
      "99966_167228_252173   0.0  0.0  0.0  ...                         86.0   87.0   \n",
      "99973_150202_275083   0.0  0.0  0.0  ...                        110.0  111.0   \n",
      "99982_151454_221194   0.0  0.0  0.0  ...                        134.0  135.0   \n",
      "99991_151118_226241   0.0  0.0  0.0  ...                         14.0   15.0   \n",
      "99995_137810_229633   0.0  0.0  0.0  ...                         38.0   39.0   \n",
      "\n",
      "LEVEL2                                                                        \n",
      "Aggregation Function                                                          \n",
      "hours_in                 16     17     18     19     20     21     22     23  \n",
      "3_145834_211552         8.0    9.0   10.0   11.0   12.0   13.0   14.0   15.0  \n",
      "6_107064_228232        32.0   33.0   34.0   35.0   36.0   37.0   38.0   39.0  \n",
      "9_150750_220597        56.0   57.0   58.0   59.0   60.0   61.0   62.0   63.0  \n",
      "11_194540_229441       80.0   81.0   82.0   83.0   84.0   85.0   86.0   87.0  \n",
      "12_112213_232669      104.0  105.0  106.0  107.0  108.0  109.0  110.0  111.0  \n",
      "...                     ...    ...    ...    ...    ...    ...    ...    ...  \n",
      "99966_167228_252173    88.0   89.0   90.0   91.0   92.0   93.0   94.0   95.0  \n",
      "99973_150202_275083   112.0  113.0  114.0  115.0  116.0  117.0  118.0  119.0  \n",
      "99982_151454_221194   136.0  137.0  138.0  139.0  140.0  141.0  142.0  143.0  \n",
      "99991_151118_226241    16.0   17.0   18.0   19.0   20.0   21.0   22.0   23.0  \n",
      "99995_137810_229633    40.0   41.0   42.0   43.0   44.0   45.0   46.0   47.0  \n",
      "\n",
      "[16760 rows x 7488 columns]\n"
     ]
    }
   ],
   "source": [
    "from sklearn import preprocessing\n",
    "scaler = preprocessing.StandardScaler()\n",
    "x_train=X_train.values\n",
    "x_train_scaled = scaler.fit_transform(x_train)\n",
    "X_train_norm=pd.DataFrame(x_train_scaled)\n",
    "print(X_train)"
   ]
  },
  {
   "cell_type": "code",
   "execution_count": 11,
   "id": "67418d3f",
   "metadata": {},
   "outputs": [],
   "source": [
    "x_valid=X_valid.values\n",
    "x_valid_scaled = scaler.fit_transform(x_valid)\n",
    "X_valid_norm=pd.DataFrame(x_valid_scaled)\n"
   ]
  },
  {
   "cell_type": "code",
   "execution_count": 12,
   "id": "cb1f57a9",
   "metadata": {},
   "outputs": [],
   "source": [
    "y1_train=y_train_t1.values\n",
    "y1_train_scaled = scaler.fit_transform(y1_train)\n",
    "y_train_t1_norm=pd.DataFrame(y1_train_scaled)\n"
   ]
  },
  {
   "cell_type": "code",
   "execution_count": 13,
   "id": "070f3a56",
   "metadata": {},
   "outputs": [],
   "source": [
    "y1_valid=y_valid_t1.values\n",
    "y1_valid_scaled = scaler.fit_transform(y1_valid)\n",
    "y_valid_t1_norm=pd.DataFrame(y1_valid_scaled)"
   ]
  },
  {
   "cell_type": "code",
   "execution_count": 14,
   "id": "6d4d5293",
   "metadata": {},
   "outputs": [],
   "source": [
    "y2_train=y_train_t2.values\n",
    "y2_train_scaled = scaler.fit_transform(y2_train)\n",
    "y_train_t2_norm=pd.DataFrame(y2_train_scaled)"
   ]
  },
  {
   "cell_type": "code",
   "execution_count": 15,
   "id": "fc199e87",
   "metadata": {},
   "outputs": [],
   "source": [
    "y2_valid=y_valid_t2.values\n",
    "y2_valid_scaled = scaler.fit_transform(y2_valid)\n",
    "y_valid_t2_norm=pd.DataFrame(y2_valid_scaled)\n"
   ]
  },
  {
   "cell_type": "code",
   "execution_count": null,
   "id": "e61b7e88",
   "metadata": {},
   "outputs": [],
   "source": []
  },
  {
   "cell_type": "markdown",
   "id": "341e78ea",
   "metadata": {},
   "source": [
    "## Statistics Calculation\n"
   ]
  },
  {
   "cell_type": "code",
   "execution_count": 16,
   "id": "01cb5b01",
   "metadata": {},
   "outputs": [],
   "source": [
    "li=[] # Find the positions of the columns with means of the particular feature after 24 hours\n",
    "for i in range(47, 7488, 72):\n",
    "    li.append(i)\n",
    "#print(li)"
   ]
  },
  {
   "cell_type": "code",
   "execution_count": 21,
   "id": "262ba37f",
   "metadata": {
    "scrolled": true
   },
   "outputs": [
    {
     "name": "stdout",
     "output_type": "stream",
     "text": [
      "           47        119   191   263   335       407       479       551   \\\n",
      "0     -0.254460 -1.979855   0.0   0.0   0.0 -0.318615  0.152716 -0.226618   \n",
      "1     -0.256599 -0.251806   0.0   0.0   0.0 -0.422405  1.361109 -0.254291   \n",
      "2     -0.269432  0.000000   0.0   0.0   0.0 -0.367050 -0.330641 -0.271686   \n",
      "3      0.000000  0.000000   0.0   0.0   0.0  0.000000 -0.088963  0.000000   \n",
      "4      0.000000  0.000000   0.0   0.0   0.0  0.000000 -0.813998  0.000000   \n",
      "...         ...       ...   ...   ...   ...       ...       ...       ...   \n",
      "16755  0.000000  1.044231   0.0   0.0   0.0  0.000000 -0.813998  0.000000   \n",
      "16756  0.000000  0.000000   0.0   0.0   0.0  0.000000 -0.088963  0.000000   \n",
      "16757 -0.260876  1.044231   0.0   0.0   0.0 -0.297857 -0.330641 -0.261407   \n",
      "16758  0.000000  0.000000   0.0   0.0   0.0  0.000000 -1.055677  0.000000   \n",
      "16759 -0.243765  0.000000   0.0   0.0   0.0 -0.207906 -1.297356 -0.221874   \n",
      "\n",
      "           623       695   ...      6815      6887  6959  7031  7103  \\\n",
      "0      0.000000 -1.337656  ...  0.440628  0.000000   0.0   0.0   0.0   \n",
      "1     -0.742403 -1.123327  ...  0.000000  0.000000   0.0   0.0   0.0   \n",
      "2      2.097036  0.591306  ...  1.279148  0.000000   0.0   0.0   0.0   \n",
      "3      0.000000  0.591306  ...  0.000000  0.000000   0.0   0.0   0.0   \n",
      "4      0.000000  0.376977  ...  0.440628 -1.333059   0.0   0.0   0.0   \n",
      "...         ...       ...  ...       ...       ...   ...   ...   ...   \n",
      "16755  0.290121  0.376977  ...  0.000000  0.000000   0.0   0.0   0.0   \n",
      "16756 -0.742403 -2.409302  ...  0.000000  0.000000   0.0   0.0   0.0   \n",
      "16757  0.000000  1.448622  ...  0.000000  0.000000   0.0   0.0   0.0   \n",
      "16758  0.000000  0.591306  ...  0.000000  0.000000   0.0   0.0   0.0   \n",
      "16759  0.000000  1.877280  ... -0.817152 -0.406955   0.0   0.0   0.0   \n",
      "\n",
      "           7175  7247      7319      7391      7463  \n",
      "0      0.000000   0.0  1.026004  0.583116  0.160067  \n",
      "1      0.000000   0.0  0.000000 -0.181589  0.000000  \n",
      "2      0.000000   0.0  0.000000  0.107507  0.000000  \n",
      "3      0.000000   0.0  0.000000  0.023576  0.000000  \n",
      "4     -0.317391   0.0  0.000000 -0.442708  0.000000  \n",
      "...         ...   ...       ...       ...       ...  \n",
      "16755 -0.366371   0.0  0.584864 -0.162937  0.000000  \n",
      "16756 -0.361918   0.0  0.973702  0.405929  0.000000  \n",
      "16757  0.000000   0.0 -0.472878 -0.480010  0.000000  \n",
      "16758  0.000000   0.0  0.781214 -0.489336 -0.303768  \n",
      "16759 -0.366371   0.0 -0.608981 -0.489336  0.000000  \n",
      "\n",
      "[16760 rows x 104 columns] 10\n"
     ]
    }
   ],
   "source": [
    "dx_train = pd. DataFrame(x_train)\n",
    "X_train_mean= dx_train[li]\n",
    "print(X_train_mean)"
   ]
  },
  {
   "cell_type": "code",
   "execution_count": 19,
   "id": "4495564c",
   "metadata": {},
   "outputs": [
    {
     "name": "stdout",
     "output_type": "stream",
     "text": [
      "            0         1             2         3             4         5    \\\n",
      "0     -0.467274 -3.269616 -3.298809e-17 -0.000308 -7.205090e-19 -0.516323   \n",
      "1     -0.472515 -0.434872 -3.298809e-17 -0.000308 -7.205090e-19 -0.702852   \n",
      "2     -0.503966 -0.021802 -3.298809e-17 -0.000308 -7.205090e-19 -0.603370   \n",
      "3      0.156329 -0.021802 -3.298809e-17 -0.000308 -7.205090e-19  0.056287   \n",
      "4      0.156329 -0.021802 -3.298809e-17 -0.000308 -7.205090e-19  0.056287   \n",
      "...         ...       ...           ...       ...           ...       ...   \n",
      "16755  0.156329  1.691187 -3.298809e-17 -0.000308 -7.205090e-19  0.056287   \n",
      "16756  0.156329 -0.021802 -3.298809e-17 -0.000308 -7.205090e-19  0.056287   \n",
      "16757 -0.482999  1.691187 -3.298809e-17 -0.000308 -7.205090e-19 -0.479017   \n",
      "16758  0.156329 -0.021802 -3.298809e-17 -0.000308 -7.205090e-19  0.056287   \n",
      "16759 -0.441065 -0.021802 -3.298809e-17 -0.000308 -7.205090e-19 -0.317357   \n",
      "\n",
      "            6         7         8         9    ...       94        95   \\\n",
      "0      0.472435 -0.416013 -0.002152 -1.642616  ...  0.588699 -0.016474   \n",
      "1      1.964001 -0.487618 -1.167979 -1.404320  ...  0.027478 -0.016474   \n",
      "2     -0.124192 -0.532627  3.290917  0.502050  ...  1.656710 -0.016474   \n",
      "3      0.174121  0.170363 -0.002152  0.502050  ...  0.027478 -0.016474   \n",
      "4     -0.720819  0.170363 -0.002152  0.263754  ...  0.588699 -2.269709   \n",
      "...         ...       ...       ...       ...  ...       ...       ...   \n",
      "16755 -0.720819  0.170363  0.453437  0.263754  ...  0.027478 -0.016474   \n",
      "16756  0.174121  0.170363 -1.167979 -2.834097  ...  0.027478 -0.016474   \n",
      "16757 -0.124192 -0.506031 -0.002152  1.455235  ...  0.027478 -0.016474   \n",
      "16758 -1.019132  0.170363 -0.002152  0.502050  ...  0.027478 -0.016474   \n",
      "16759 -1.317445 -0.403738 -0.002152  1.931827  ... -1.013317 -0.704340   \n",
      "\n",
      "            96        97       98        99        100       101       102  \\\n",
      "0     -0.002072 -0.000466 -0.00083  0.023948  0.006276  1.248148  0.790475   \n",
      "1     -0.002072 -0.000466 -0.00083  0.023948  0.006276 -0.006506 -0.174239   \n",
      "2     -0.002072 -0.000466 -0.00083  0.023948  0.006276 -0.006506  0.190470   \n",
      "3     -0.002072 -0.000466 -0.00083  0.023948  0.006276 -0.006506  0.084586   \n",
      "4     -0.002072 -0.000466 -0.00083 -0.601420  0.006276 -0.006506 -0.503654   \n",
      "...         ...       ...      ...       ...       ...       ...       ...   \n",
      "16755 -0.002072 -0.000466 -0.00083 -0.697928  0.006276  0.708698 -0.150710   \n",
      "16756 -0.002072 -0.000466 -0.00083 -0.689154  0.006276  1.184190  0.566944   \n",
      "16757 -0.002072 -0.000466 -0.00083  0.023948  0.006276 -0.584767 -0.550713   \n",
      "16758 -0.002072 -0.000466 -0.00083  0.023948  0.006276  0.948804 -0.562478   \n",
      "16759 -0.002072 -0.000466 -0.00083 -0.697928  0.006276 -0.751201 -0.562478   \n",
      "\n",
      "            103  \n",
      "0      0.474539  \n",
      "1      0.001324  \n",
      "2      0.001324  \n",
      "3      0.001324  \n",
      "4      0.001324  \n",
      "...         ...  \n",
      "16755  0.001324  \n",
      "16756  0.001324  \n",
      "16757  0.001324  \n",
      "16758 -0.896721  \n",
      "16759  0.001324  \n",
      "\n",
      "[16760 rows x 104 columns]\n"
     ]
    }
   ],
   "source": [
    "x_train_mean=X_train_mean.values\n",
    "x_train_mean_scaled = scaler.fit_transform(x_train_mean)\n",
    "X_train_mean_norm=pd.DataFrame(x_train_mean_scaled)\n",
    "print(X_train_mean_norm)"
   ]
  },
  {
   "cell_type": "code",
   "execution_count": 23,
   "id": "5decbfd9",
   "metadata": {
    "scrolled": true
   },
   "outputs": [],
   "source": [
    "dx_valid = pd. DataFrame(x_valid)\n",
    "X_valid_mean= dx_valid[li]"
   ]
  },
  {
   "cell_type": "code",
   "execution_count": 24,
   "id": "36065df6",
   "metadata": {},
   "outputs": [
    {
     "name": "stdout",
     "output_type": "stream",
     "text": [
      "           0         1         2        3         4          5         6    \\\n",
      "0    -0.393697 -0.915888  0.009954  0.02609 -0.013254  10.982597  0.536397   \n",
      "1    -0.184365 -0.009034  0.009954  0.02609 -0.013254  -0.630982  4.205340   \n",
      "2    -0.395812  0.051783  0.009954  0.02609 -0.013254  -1.405221 -1.909565   \n",
      "3     0.111521 -0.009034  0.009954  0.02609 -0.013254   0.083245  0.343197   \n",
      "4    -0.389468 -0.190135  0.009954  0.02609 -0.013254  -0.752432 -0.380839   \n",
      "...        ...       ...       ...      ...       ...        ...       ...   \n",
      "2389 -0.342950 -0.009034  0.009954  0.02609 -0.013254  -1.040873 -1.298075   \n",
      "2390 -0.421185  4.406306  0.009954  0.02609 -0.013254  -1.207866 -1.603820   \n",
      "2391 -0.419071 -0.673970  0.009954  0.02609 -0.013254   1.524741  1.147887   \n",
      "2392  0.111521 -0.009034  0.009954  0.02609 -0.013254   0.083245 -0.380839   \n",
      "2393 -0.414842 -0.009034  0.009954  0.02609 -0.013254  -0.615801 -0.380839   \n",
      "\n",
      "           7         8         9    ...       94        95        96   \\\n",
      "0    -0.346221 -1.422102 -0.710265  ...  0.066240 -0.008058  0.044181   \n",
      "1    -0.013436  0.020664 -2.142127  ...  0.066240 -0.008058  0.044181   \n",
      "2    -0.336712 -0.920457  0.005667  ...  0.066240 -0.008058  0.044181   \n",
      "3     0.115898  0.020664  0.482954  ...  2.565049 -0.008058  0.044181   \n",
      "4    -0.414362 -0.418813  0.005667  ...  0.586173  0.751600  0.044181   \n",
      "...        ...       ...       ...  ...       ...       ...       ...   \n",
      "2389 -0.324035  0.020664  1.676173  ...  0.066240 -0.008058  0.044181   \n",
      "2390 -0.425455  0.082832 -1.426196  ...  0.066240 -0.008058  0.044181   \n",
      "2391 -0.403269  0.020664  0.005667  ... -1.392703 -2.058517  0.044181   \n",
      "2392  0.115898  0.020664  2.869392  ...  0.066240 -0.008058  0.044181   \n",
      "2393 -0.417532  0.020664  0.960242  ...  0.066240 -0.008058  0.044181   \n",
      "\n",
      "           97        98        99         100       101       102       103  \n",
      "0     0.019327 -0.013102 -0.010485   0.008788 -1.473028 -0.343132  0.009184  \n",
      "1     0.019327 -0.013102  1.796148  -9.539431 -0.853042  1.454446  0.009184  \n",
      "2     0.019327 -0.013102  0.201964 -10.257162  0.944918 -0.043535  0.009184  \n",
      "3     0.019327 -0.013102 -0.010485   0.008788  1.027583  0.949863 -0.708002  \n",
      "4     0.019327 -0.013102 -0.010485   0.008788 -0.522383 -0.358900  0.009184  \n",
      "...        ...       ...       ...        ...       ...       ...       ...  \n",
      "2389  0.019327 -0.013102 -0.010485   0.008788 -0.994197  1.564824  0.009184  \n",
      "2390  0.019327 -0.013102 -0.010485   0.008788 -1.574462  0.066842  0.009184  \n",
      "2391  0.019327 -0.013102 -0.632298   0.008788 -1.097312  0.224525  1.451399  \n",
      "2392  0.019327 -0.013102 -0.010485   0.008788  0.350765 -0.406204  0.009184  \n",
      "2393  0.019327 -0.013102 -0.690118   0.008788 -0.837542 -0.674264  0.009184  \n",
      "\n",
      "[2394 rows x 104 columns]\n"
     ]
    }
   ],
   "source": [
    "x_valid_mean=X_valid_mean.values\n",
    "x_valid_mean_scaled = scaler.fit_transform(x_valid_mean)\n",
    "X_valid_mean_norm=pd.DataFrame(x_valid_mean_scaled)\n",
    "print(X_valid_mean_norm)"
   ]
  },
  {
   "cell_type": "code",
   "execution_count": 66,
   "id": "194b0837",
   "metadata": {},
   "outputs": [],
   "source": [
    "x_test=X_test.values\n",
    "dx_test = pd. DataFrame(x_test)\n",
    "X_test_mean= dx_test[li]\n"
   ]
  },
  {
   "cell_type": "markdown",
   "id": "3926ff97",
   "metadata": {},
   "source": [
    "## Feature importance checking"
   ]
  },
  {
   "cell_type": "markdown",
   "id": "6dc85304",
   "metadata": {},
   "source": []
  },
  {
   "cell_type": "markdown",
   "id": "5a279935",
   "metadata": {
    "ExecuteTime": {
     "end_time": "2022-10-25T14:36:30.344475Z",
     "start_time": "2022-10-25T14:36:30.341456Z"
    }
   },
   "source": [
    "# Export processed data when done"
   ]
  },
  {
   "cell_type": "code",
   "execution_count": null,
   "id": "d304f912",
   "metadata": {},
   "outputs": [],
   "source": [
    "from sklearn import linear_model\n",
    "\n",
    "linear_reg= linear_model.LinearRegression()\n",
    "reg.fit(X_train_mean_norm,)"
   ]
  },
  {
   "cell_type": "code",
   "execution_count": null,
   "id": "7503846f",
   "metadata": {},
   "outputs": [],
   "source": []
  },
  {
   "cell_type": "code",
   "execution_count": null,
   "id": "e36545d8",
   "metadata": {},
   "outputs": [],
   "source": []
  },
  {
   "cell_type": "code",
   "execution_count": null,
   "id": "7e3e051f",
   "metadata": {},
   "outputs": [],
   "source": []
  }
 ],
 "metadata": {
  "kernelspec": {
   "display_name": "Python 3 (ipykernel)",
   "language": "python",
   "name": "python3"
  },
  "language_info": {
   "codemirror_mode": {
    "name": "ipython",
    "version": 3
   },
   "file_extension": ".py",
   "mimetype": "text/x-python",
   "name": "python",
   "nbconvert_exporter": "python",
   "pygments_lexer": "ipython3",
   "version": "3.9.12"
  },
  "toc": {
   "base_numbering": 1,
   "nav_menu": {},
   "number_sections": true,
   "sideBar": true,
   "skip_h1_title": false,
   "title_cell": "Table of Contents",
   "title_sidebar": "Contents",
   "toc_cell": false,
   "toc_position": {},
   "toc_section_display": true,
   "toc_window_display": true
  },
  "vscode": {
   "interpreter": {
    "hash": "529bcf6abcc3d23528523c7666d9f36040f112e2ca21b4e62324de75fcde4134"
   }
  }
 },
 "nbformat": 4,
 "nbformat_minor": 5
}
