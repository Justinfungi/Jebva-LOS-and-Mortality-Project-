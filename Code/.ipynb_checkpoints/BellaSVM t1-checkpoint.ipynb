{
 "cells": [
  {
   "cell_type": "code",
   "execution_count": 2,
   "id": "37750dc6",
   "metadata": {},
   "outputs": [],
   "source": [
    "import numpy as np\n",
    "import pandas as pd\n",
    "import matplotlib.pyplot as plt\n",
    "import seaborn as sns\n",
    "from sklearn import svm\n",
    "from sklearn.metrics import accuracy_score, precision_score, roc_auc_score, roc_curve, auc, confusion_matrix\n",
    "\n",
    "%matplotlib inline"
   ]
  },
  {
   "cell_type": "markdown",
   "id": "dcd64141",
   "metadata": {},
   "source": [
    "### Data preprocessing"
   ]
  },
  {
   "cell_type": "code",
   "execution_count": 81,
   "id": "17cea3bb",
   "metadata": {
    "scrolled": false
   },
   "outputs": [
    {
     "name": "stdout",
     "output_type": "stream",
     "text": [
      "(15535, 62) (1225, 62)\n",
      "(15535, 62) (15535, 62)\n",
      "MAE: 0.85087\n",
      "Config: {'alpha': 0.0}\n",
      "************************************************************\n",
      "There are 6 set of X\n",
      "X_train_selected_t1, X_train_selected_t2, X_valid_selected_t1,X_valid_selected_t2,X_test_selected_t1,X_test_selected_t2\n",
      "------------------------------------------------------------\n",
      "Normalized version\n",
      "X_train_selected_t1_norm, X_train_selected_t2_norm, X_valid_selected_t1_norm,X_valid_selected_t2_norm,X_test_selected_t1_norm,X_test_selected_t2_norm\n",
      "------------------------------------------------------------\n",
      "There are 4 set of Y\n",
      "y_train_t1, y_train_t2, y_valid_t1, y_valid_t2\n",
      "when training, please use: 'y_train_t1_value,y_train_t2_value,y_valid_t1_value,y_valid_t2_value'\n",
      "************************************************************\n"
     ]
    }
   ],
   "source": [
    "%run Data_preprocessing_realmean跑这个先norm.py"
   ]
  },
  {
   "cell_type": "markdown",
   "id": "248b5445",
   "metadata": {},
   "source": [
    "## Imbalanced for valid and train ##"
   ]
  },
  {
   "cell_type": "code",
   "execution_count": null,
   "id": "98aef7ce",
   "metadata": {},
   "outputs": [],
   "source": [
    "Full = pd.DataFrame(np.concatenate((X_trainvalid_t1,pd.DataFrame(y_trainvalid_t1)),axis=1))\n",
    "Full\n",
    "\n",
    "label0 = Full[Full[51]==0]\n",
    "label1 = Full[Full[51]==1]\n",
    "print(label0.shape,label1.shape)"
   ]
  },
  {
   "cell_type": "code",
   "execution_count": null,
   "id": "ad288f8d",
   "metadata": {},
   "outputs": [],
   "source": [
    "from imblearn.over_sampling import RandomOverSampler\n",
    "oversample = RandomOverSampler()\n",
    "x_over, y_over = oversample.fit_resample(X_trainvalid_t1, y_trainvalid_t1)\n",
    "\n",
    "y_over = pd.DataFrame(y_over)\n",
    "y_over.shape\n",
    "x_over.shape"
   ]
  },
  {
   "cell_type": "code",
   "execution_count": null,
   "id": "317df96f",
   "metadata": {},
   "outputs": [],
   "source": [
    "Full = pd.DataFrame(np.concatenate((x_over,y_over),axis=1))\n",
    "Full\n",
    "\n",
    "label0 = Full[Full[51]==0]\n",
    "label1 = Full[Full[51]==1]\n",
    "print(label0.shape,label1.shape)"
   ]
  },
  {
   "cell_type": "code",
   "execution_count": null,
   "id": "e9931a56",
   "metadata": {},
   "outputs": [],
   "source": [
    "X_trainvalid_t1_balanced=x_over\n",
    "\n",
    "y_trainvalid_t1_balanced = y_over"
   ]
  },
  {
   "cell_type": "code",
   "execution_count": 73,
   "id": "7113ae61",
   "metadata": {},
   "outputs": [],
   "source": [
    "train_low_var=X_train_nozero_norm.var()[X_train_nozero.var()<0.1].index\n",
    "valid_low_var=X_valid_nozero_norm.var()[X_valid_nozero.var()<0.1].index"
   ]
  },
  {
   "cell_type": "code",
   "execution_count": 74,
   "id": "da70bfd9",
   "metadata": {},
   "outputs": [],
   "source": [
    "X_train_nozero_norm_copy=X_train_nozero_norm.copy()\n",
    "X_valid_nozero_norm_copy=X_valid_nozero_norm.copy()"
   ]
  },
  {
   "cell_type": "code",
   "execution_count": 80,
   "id": "4eb20065",
   "metadata": {},
   "outputs": [
    {
     "ename": "AttributeError",
     "evalue": "'NoneType' object has no attribute 'drop'",
     "output_type": "error",
     "traceback": [
      "\u001b[1;31m---------------------------------------------------------------------------\u001b[0m",
      "\u001b[1;31mAttributeError\u001b[0m                            Traceback (most recent call last)",
      "\u001b[1;32m~\\AppData\\Local\\Temp/ipykernel_14676/2554440251.py\u001b[0m in \u001b[0;36m<module>\u001b[1;34m\u001b[0m\n\u001b[1;32m----> 1\u001b[1;33m \u001b[0mX_train_nozero_norm\u001b[0m\u001b[1;33m.\u001b[0m\u001b[0mdrop\u001b[0m\u001b[1;33m(\u001b[0m\u001b[0mtrain_low_var\u001b[0m\u001b[1;33m,\u001b[0m\u001b[0maxis\u001b[0m\u001b[1;33m=\u001b[0m\u001b[1;36m1\u001b[0m\u001b[1;33m,\u001b[0m\u001b[0minplace\u001b[0m\u001b[1;33m=\u001b[0m\u001b[1;32mTrue\u001b[0m\u001b[1;33m)\u001b[0m\u001b[1;33m\u001b[0m\u001b[1;33m\u001b[0m\u001b[0m\n\u001b[0m\u001b[0;32m      2\u001b[0m \u001b[0mX_valid_nozero_norm\u001b[0m\u001b[1;33m.\u001b[0m\u001b[0mdrop\u001b[0m\u001b[1;33m(\u001b[0m\u001b[0mvalid_low_var\u001b[0m\u001b[1;33m,\u001b[0m\u001b[0maxis\u001b[0m\u001b[1;33m=\u001b[0m\u001b[1;36m1\u001b[0m\u001b[1;33m,\u001b[0m\u001b[0minplace\u001b[0m\u001b[1;33m=\u001b[0m\u001b[1;32mTrue\u001b[0m\u001b[1;33m)\u001b[0m\u001b[1;33m\u001b[0m\u001b[1;33m\u001b[0m\u001b[0m\n",
      "\u001b[1;31mAttributeError\u001b[0m: 'NoneType' object has no attribute 'drop'"
     ]
    }
   ],
   "source": [
    "X_train_nozero_norm.drop(train_low_var,axis=1,inplace=True)\n",
    "X_valid_nozero_norm.drop(valid_low_var,axis=1,inplace=True)"
   ]
  },
  {
   "cell_type": "code",
   "execution_count": 79,
   "id": "46b4fb40",
   "metadata": {},
   "outputs": [],
   "source": [
    "X_train_nozero_norm"
   ]
  },
  {
   "cell_type": "markdown",
   "id": "bf9d0958",
   "metadata": {},
   "source": [
    "## Imbalanced for train ##"
   ]
  },
  {
   "cell_type": "code",
   "execution_count": 36,
   "id": "68319036",
   "metadata": {},
   "outputs": [
    {
     "name": "stdout",
     "output_type": "stream",
     "text": [
      "(15535, 62) (1225, 62)\n"
     ]
    }
   ],
   "source": [
    "Full = pd.DataFrame(np.concatenate((X_train_nozero_norm,pd.DataFrame(y_train_t1_value)),axis=1))\n",
    "Full\n",
    "\n",
    "label0 = Full[Full[61]==0]\n",
    "label1 = Full[Full[61]==1]\n",
    "print(label0.shape,label1.shape)"
   ]
  },
  {
   "cell_type": "code",
   "execution_count": 37,
   "id": "25b98c40",
   "metadata": {},
   "outputs": [
    {
     "data": {
      "text/plain": [
       "(31070, 61)"
      ]
     },
     "execution_count": 37,
     "metadata": {},
     "output_type": "execute_result"
    }
   ],
   "source": [
    "from imblearn.over_sampling import RandomOverSampler\n",
    "oversample = RandomOverSampler()\n",
    "x_over, y_over = oversample.fit_resample(X_train_nozero_norm, y_train_t1_value)\n",
    "\n",
    "y_over = pd.DataFrame(y_over)\n",
    "y_over.shape\n",
    "x_over.shape"
   ]
  },
  {
   "cell_type": "code",
   "execution_count": 38,
   "id": "6fbef866",
   "metadata": {},
   "outputs": [
    {
     "name": "stdout",
     "output_type": "stream",
     "text": [
      "(15535, 62) (15535, 62)\n"
     ]
    }
   ],
   "source": [
    "Full = pd.DataFrame(np.concatenate((x_over,y_over),axis=1))\n",
    "Full\n",
    "\n",
    "label0 = Full[Full[61]==0]\n",
    "label1 = Full[Full[61]==1]\n",
    "print(label0.shape,label1.shape)"
   ]
  },
  {
   "cell_type": "code",
   "execution_count": 39,
   "id": "ce8a89c6",
   "metadata": {},
   "outputs": [],
   "source": [
    "X_train_t1_balanced=x_over\n",
    "\n",
    "y_train_t1_balanced = y_over"
   ]
  },
  {
   "cell_type": "code",
   "execution_count": 62,
   "id": "f5a58cdd",
   "metadata": {},
   "outputs": [
    {
     "data": {
      "text/html": [
       "<div>\n",
       "<style scoped>\n",
       "    .dataframe tbody tr th:only-of-type {\n",
       "        vertical-align: middle;\n",
       "    }\n",
       "\n",
       "    .dataframe tbody tr th {\n",
       "        vertical-align: top;\n",
       "    }\n",
       "\n",
       "    .dataframe thead th {\n",
       "        text-align: right;\n",
       "    }\n",
       "</style>\n",
       "<table border=\"1\" class=\"dataframe\">\n",
       "  <thead>\n",
       "    <tr style=\"text-align: right;\">\n",
       "      <th></th>\n",
       "      <th>alanine aminotransferase</th>\n",
       "      <th>albumin</th>\n",
       "      <th>alkaline phosphate</th>\n",
       "      <th>anion gap</th>\n",
       "      <th>asparate aminotransferase</th>\n",
       "      <th>basophils</th>\n",
       "      <th>bicarbonate</th>\n",
       "      <th>bilirubin</th>\n",
       "      <th>blood urea nitrogen</th>\n",
       "      <th>calcium</th>\n",
       "      <th>...</th>\n",
       "      <th>respiratory rate set</th>\n",
       "      <th>sodium</th>\n",
       "      <th>systolic blood pressure</th>\n",
       "      <th>temperature</th>\n",
       "      <th>tidal volume observed</th>\n",
       "      <th>tidal volume set</th>\n",
       "      <th>tidal volume spontaneous</th>\n",
       "      <th>troponin-t</th>\n",
       "      <th>weight</th>\n",
       "      <th>white blood cell count</th>\n",
       "    </tr>\n",
       "  </thead>\n",
       "  <tbody>\n",
       "    <tr>\n",
       "      <th>0</th>\n",
       "      <td>-0.254460</td>\n",
       "      <td>-1.979855</td>\n",
       "      <td>-0.318615</td>\n",
       "      <td>0.931458</td>\n",
       "      <td>-0.226618</td>\n",
       "      <td>0.014621</td>\n",
       "      <td>-1.694872</td>\n",
       "      <td>-0.298127</td>\n",
       "      <td>0.792807</td>\n",
       "      <td>-1.004507</td>\n",
       "      <td>...</td>\n",
       "      <td>0.280562</td>\n",
       "      <td>0.260075</td>\n",
       "      <td>-0.638602</td>\n",
       "      <td>-0.002273</td>\n",
       "      <td>0.800876</td>\n",
       "      <td>0.440628</td>\n",
       "      <td>0.000309</td>\n",
       "      <td>-0.053738</td>\n",
       "      <td>1.026004</td>\n",
       "      <td>0.634186</td>\n",
       "    </tr>\n",
       "    <tr>\n",
       "      <th>1</th>\n",
       "      <td>-0.256599</td>\n",
       "      <td>-0.251806</td>\n",
       "      <td>-0.422405</td>\n",
       "      <td>1.723627</td>\n",
       "      <td>-0.254291</td>\n",
       "      <td>-0.742403</td>\n",
       "      <td>-1.444821</td>\n",
       "      <td>-0.444605</td>\n",
       "      <td>1.737977</td>\n",
       "      <td>-0.016061</td>\n",
       "      <td>...</td>\n",
       "      <td>-0.075873</td>\n",
       "      <td>-0.417323</td>\n",
       "      <td>1.537514</td>\n",
       "      <td>-0.518339</td>\n",
       "      <td>0.069184</td>\n",
       "      <td>0.052263</td>\n",
       "      <td>0.000309</td>\n",
       "      <td>-0.053738</td>\n",
       "      <td>-0.010417</td>\n",
       "      <td>-0.181589</td>\n",
       "    </tr>\n",
       "    <tr>\n",
       "      <th>2</th>\n",
       "      <td>-0.269432</td>\n",
       "      <td>0.061017</td>\n",
       "      <td>-0.367050</td>\n",
       "      <td>-0.330641</td>\n",
       "      <td>-0.271686</td>\n",
       "      <td>2.097036</td>\n",
       "      <td>1.019964</td>\n",
       "      <td>-0.395779</td>\n",
       "      <td>-0.439621</td>\n",
       "      <td>0.636039</td>\n",
       "      <td>...</td>\n",
       "      <td>-0.133014</td>\n",
       "      <td>-0.047833</td>\n",
       "      <td>1.723172</td>\n",
       "      <td>0.101098</td>\n",
       "      <td>0.801063</td>\n",
       "      <td>1.039571</td>\n",
       "      <td>0.000309</td>\n",
       "      <td>-0.053738</td>\n",
       "      <td>-0.010417</td>\n",
       "      <td>-0.181589</td>\n",
       "    </tr>\n",
       "    <tr>\n",
       "      <th>3</th>\n",
       "      <td>-0.140093</td>\n",
       "      <td>0.061017</td>\n",
       "      <td>-0.052863</td>\n",
       "      <td>-0.088963</td>\n",
       "      <td>-0.136461</td>\n",
       "      <td>0.014621</td>\n",
       "      <td>0.484141</td>\n",
       "      <td>-0.115158</td>\n",
       "      <td>-0.439621</td>\n",
       "      <td>0.910607</td>\n",
       "      <td>...</td>\n",
       "      <td>-0.075873</td>\n",
       "      <td>0.598773</td>\n",
       "      <td>-0.661305</td>\n",
       "      <td>-0.188482</td>\n",
       "      <td>0.069184</td>\n",
       "      <td>0.052263</td>\n",
       "      <td>0.000309</td>\n",
       "      <td>-0.053738</td>\n",
       "      <td>-0.010417</td>\n",
       "      <td>-0.139623</td>\n",
       "    </tr>\n",
       "    <tr>\n",
       "      <th>4</th>\n",
       "      <td>-0.140093</td>\n",
       "      <td>0.061017</td>\n",
       "      <td>-0.052863</td>\n",
       "      <td>1.240269</td>\n",
       "      <td>-0.136461</td>\n",
       "      <td>0.014621</td>\n",
       "      <td>-1.694872</td>\n",
       "      <td>-0.115158</td>\n",
       "      <td>0.348021</td>\n",
       "      <td>0.224186</td>\n",
       "      <td>...</td>\n",
       "      <td>0.035793</td>\n",
       "      <td>0.875890</td>\n",
       "      <td>0.603034</td>\n",
       "      <td>-0.157922</td>\n",
       "      <td>0.476344</td>\n",
       "      <td>0.680205</td>\n",
       "      <td>-1.333059</td>\n",
       "      <td>-0.317391</td>\n",
       "      <td>-0.010417</td>\n",
       "      <td>-0.414731</td>\n",
       "    </tr>\n",
       "    <tr>\n",
       "      <th>...</th>\n",
       "      <td>...</td>\n",
       "      <td>...</td>\n",
       "      <td>...</td>\n",
       "      <td>...</td>\n",
       "      <td>...</td>\n",
       "      <td>...</td>\n",
       "      <td>...</td>\n",
       "      <td>...</td>\n",
       "      <td>...</td>\n",
       "      <td>...</td>\n",
       "      <td>...</td>\n",
       "      <td>...</td>\n",
       "      <td>...</td>\n",
       "      <td>...</td>\n",
       "      <td>...</td>\n",
       "      <td>...</td>\n",
       "      <td>...</td>\n",
       "      <td>...</td>\n",
       "      <td>...</td>\n",
       "      <td>...</td>\n",
       "      <td>...</td>\n",
       "    </tr>\n",
       "    <tr>\n",
       "      <th>31065</th>\n",
       "      <td>-0.245904</td>\n",
       "      <td>0.061017</td>\n",
       "      <td>-0.560792</td>\n",
       "      <td>-1.539034</td>\n",
       "      <td>-0.246384</td>\n",
       "      <td>0.031990</td>\n",
       "      <td>3.377584</td>\n",
       "      <td>-0.298127</td>\n",
       "      <td>-1.018769</td>\n",
       "      <td>0.224186</td>\n",
       "      <td>...</td>\n",
       "      <td>-0.075873</td>\n",
       "      <td>0.691146</td>\n",
       "      <td>0.599845</td>\n",
       "      <td>0.070719</td>\n",
       "      <td>-1.732972</td>\n",
       "      <td>0.052263</td>\n",
       "      <td>-0.373381</td>\n",
       "      <td>-0.053738</td>\n",
       "      <td>5.123908</td>\n",
       "      <td>-0.452033</td>\n",
       "    </tr>\n",
       "    <tr>\n",
       "      <th>31066</th>\n",
       "      <td>-0.140093</td>\n",
       "      <td>-0.827822</td>\n",
       "      <td>-0.052863</td>\n",
       "      <td>0.346059</td>\n",
       "      <td>-0.136461</td>\n",
       "      <td>0.014621</td>\n",
       "      <td>1.362890</td>\n",
       "      <td>-0.115158</td>\n",
       "      <td>1.029100</td>\n",
       "      <td>-0.270037</td>\n",
       "      <td>...</td>\n",
       "      <td>-0.075873</td>\n",
       "      <td>0.358605</td>\n",
       "      <td>-0.442109</td>\n",
       "      <td>-0.254445</td>\n",
       "      <td>0.069184</td>\n",
       "      <td>0.052263</td>\n",
       "      <td>0.000309</td>\n",
       "      <td>-0.232789</td>\n",
       "      <td>-1.049598</td>\n",
       "      <td>-0.623626</td>\n",
       "    </tr>\n",
       "    <tr>\n",
       "      <th>31067</th>\n",
       "      <td>-0.140093</td>\n",
       "      <td>0.061017</td>\n",
       "      <td>-0.052863</td>\n",
       "      <td>-0.572320</td>\n",
       "      <td>-0.136461</td>\n",
       "      <td>0.014621</td>\n",
       "      <td>1.662951</td>\n",
       "      <td>-0.115158</td>\n",
       "      <td>-0.416455</td>\n",
       "      <td>-0.324950</td>\n",
       "      <td>...</td>\n",
       "      <td>-0.369343</td>\n",
       "      <td>0.506401</td>\n",
       "      <td>-1.294283</td>\n",
       "      <td>-0.947185</td>\n",
       "      <td>-3.454184</td>\n",
       "      <td>-1.655672</td>\n",
       "      <td>3.137979</td>\n",
       "      <td>-0.053738</td>\n",
       "      <td>-1.933350</td>\n",
       "      <td>1.002772</td>\n",
       "    </tr>\n",
       "    <tr>\n",
       "      <th>31068</th>\n",
       "      <td>-0.253390</td>\n",
       "      <td>-1.259835</td>\n",
       "      <td>-0.574631</td>\n",
       "      <td>0.696493</td>\n",
       "      <td>-0.209223</td>\n",
       "      <td>0.014621</td>\n",
       "      <td>-1.069745</td>\n",
       "      <td>-0.176061</td>\n",
       "      <td>-0.897148</td>\n",
       "      <td>-1.165816</td>\n",
       "      <td>...</td>\n",
       "      <td>-0.147784</td>\n",
       "      <td>0.829704</td>\n",
       "      <td>-0.439864</td>\n",
       "      <td>-1.178104</td>\n",
       "      <td>0.777335</td>\n",
       "      <td>1.069518</td>\n",
       "      <td>0.000309</td>\n",
       "      <td>-0.053738</td>\n",
       "      <td>0.665938</td>\n",
       "      <td>-0.530369</td>\n",
       "    </tr>\n",
       "    <tr>\n",
       "      <th>31069</th>\n",
       "      <td>-0.140093</td>\n",
       "      <td>0.061017</td>\n",
       "      <td>-0.052863</td>\n",
       "      <td>-0.209802</td>\n",
       "      <td>-0.136461</td>\n",
       "      <td>0.014621</td>\n",
       "      <td>-0.373175</td>\n",
       "      <td>-0.115158</td>\n",
       "      <td>-0.810275</td>\n",
       "      <td>-0.187666</td>\n",
       "      <td>...</td>\n",
       "      <td>0.457809</td>\n",
       "      <td>0.044539</td>\n",
       "      <td>-1.219697</td>\n",
       "      <td>0.471276</td>\n",
       "      <td>0.457677</td>\n",
       "      <td>0.440628</td>\n",
       "      <td>0.404435</td>\n",
       "      <td>-0.053738</td>\n",
       "      <td>1.326060</td>\n",
       "      <td>0.813150</td>\n",
       "    </tr>\n",
       "  </tbody>\n",
       "</table>\n",
       "<p>31070 rows × 61 columns</p>\n",
       "</div>"
      ],
      "text/plain": [
       "       alanine aminotransferase   albumin  alkaline phosphate  anion gap  \\\n",
       "0                     -0.254460 -1.979855           -0.318615   0.931458   \n",
       "1                     -0.256599 -0.251806           -0.422405   1.723627   \n",
       "2                     -0.269432  0.061017           -0.367050  -0.330641   \n",
       "3                     -0.140093  0.061017           -0.052863  -0.088963   \n",
       "4                     -0.140093  0.061017           -0.052863   1.240269   \n",
       "...                         ...       ...                 ...        ...   \n",
       "31065                 -0.245904  0.061017           -0.560792  -1.539034   \n",
       "31066                 -0.140093 -0.827822           -0.052863   0.346059   \n",
       "31067                 -0.140093  0.061017           -0.052863  -0.572320   \n",
       "31068                 -0.253390 -1.259835           -0.574631   0.696493   \n",
       "31069                 -0.140093  0.061017           -0.052863  -0.209802   \n",
       "\n",
       "       asparate aminotransferase  basophils  bicarbonate  bilirubin  \\\n",
       "0                      -0.226618   0.014621    -1.694872  -0.298127   \n",
       "1                      -0.254291  -0.742403    -1.444821  -0.444605   \n",
       "2                      -0.271686   2.097036     1.019964  -0.395779   \n",
       "3                      -0.136461   0.014621     0.484141  -0.115158   \n",
       "4                      -0.136461   0.014621    -1.694872  -0.115158   \n",
       "...                          ...        ...          ...        ...   \n",
       "31065                  -0.246384   0.031990     3.377584  -0.298127   \n",
       "31066                  -0.136461   0.014621     1.362890  -0.115158   \n",
       "31067                  -0.136461   0.014621     1.662951  -0.115158   \n",
       "31068                  -0.209223   0.014621    -1.069745  -0.176061   \n",
       "31069                  -0.136461   0.014621    -0.373175  -0.115158   \n",
       "\n",
       "       blood urea nitrogen   calcium  ...  respiratory rate set    sodium  \\\n",
       "0                 0.792807 -1.004507  ...              0.280562  0.260075   \n",
       "1                 1.737977 -0.016061  ...             -0.075873 -0.417323   \n",
       "2                -0.439621  0.636039  ...             -0.133014 -0.047833   \n",
       "3                -0.439621  0.910607  ...             -0.075873  0.598773   \n",
       "4                 0.348021  0.224186  ...              0.035793  0.875890   \n",
       "...                    ...       ...  ...                   ...       ...   \n",
       "31065            -1.018769  0.224186  ...             -0.075873  0.691146   \n",
       "31066             1.029100 -0.270037  ...             -0.075873  0.358605   \n",
       "31067            -0.416455 -0.324950  ...             -0.369343  0.506401   \n",
       "31068            -0.897148 -1.165816  ...             -0.147784  0.829704   \n",
       "31069            -0.810275 -0.187666  ...              0.457809  0.044539   \n",
       "\n",
       "       systolic blood pressure  temperature  tidal volume observed  \\\n",
       "0                    -0.638602    -0.002273               0.800876   \n",
       "1                     1.537514    -0.518339               0.069184   \n",
       "2                     1.723172     0.101098               0.801063   \n",
       "3                    -0.661305    -0.188482               0.069184   \n",
       "4                     0.603034    -0.157922               0.476344   \n",
       "...                        ...          ...                    ...   \n",
       "31065                 0.599845     0.070719              -1.732972   \n",
       "31066                -0.442109    -0.254445               0.069184   \n",
       "31067                -1.294283    -0.947185              -3.454184   \n",
       "31068                -0.439864    -1.178104               0.777335   \n",
       "31069                -1.219697     0.471276               0.457677   \n",
       "\n",
       "       tidal volume set  tidal volume spontaneous  troponin-t    weight  \\\n",
       "0              0.440628                  0.000309   -0.053738  1.026004   \n",
       "1              0.052263                  0.000309   -0.053738 -0.010417   \n",
       "2              1.039571                  0.000309   -0.053738 -0.010417   \n",
       "3              0.052263                  0.000309   -0.053738 -0.010417   \n",
       "4              0.680205                 -1.333059   -0.317391 -0.010417   \n",
       "...                 ...                       ...         ...       ...   \n",
       "31065          0.052263                 -0.373381   -0.053738  5.123908   \n",
       "31066          0.052263                  0.000309   -0.232789 -1.049598   \n",
       "31067         -1.655672                  3.137979   -0.053738 -1.933350   \n",
       "31068          1.069518                  0.000309   -0.053738  0.665938   \n",
       "31069          0.440628                  0.404435   -0.053738  1.326060   \n",
       "\n",
       "       white blood cell count  \n",
       "0                    0.634186  \n",
       "1                   -0.181589  \n",
       "2                   -0.181589  \n",
       "3                   -0.139623  \n",
       "4                   -0.414731  \n",
       "...                       ...  \n",
       "31065               -0.452033  \n",
       "31066               -0.623626  \n",
       "31067                1.002772  \n",
       "31068               -0.530369  \n",
       "31069                0.813150  \n",
       "\n",
       "[31070 rows x 61 columns]"
      ]
     },
     "execution_count": 62,
     "metadata": {},
     "output_type": "execute_result"
    }
   ],
   "source": [
    "X_train_t1_balanced"
   ]
  },
  {
   "cell_type": "markdown",
   "id": "fba5ecf0",
   "metadata": {},
   "source": [
    "## Formal Model ##"
   ]
  },
  {
   "cell_type": "code",
   "execution_count": 58,
   "id": "c2622237",
   "metadata": {},
   "outputs": [
    {
     "data": {
      "text/html": [
       "<style>#sk-container-id-8 {color: black;background-color: white;}#sk-container-id-8 pre{padding: 0;}#sk-container-id-8 div.sk-toggleable {background-color: white;}#sk-container-id-8 label.sk-toggleable__label {cursor: pointer;display: block;width: 100%;margin-bottom: 0;padding: 0.3em;box-sizing: border-box;text-align: center;}#sk-container-id-8 label.sk-toggleable__label-arrow:before {content: \"▸\";float: left;margin-right: 0.25em;color: #696969;}#sk-container-id-8 label.sk-toggleable__label-arrow:hover:before {color: black;}#sk-container-id-8 div.sk-estimator:hover label.sk-toggleable__label-arrow:before {color: black;}#sk-container-id-8 div.sk-toggleable__content {max-height: 0;max-width: 0;overflow: hidden;text-align: left;background-color: #f0f8ff;}#sk-container-id-8 div.sk-toggleable__content pre {margin: 0.2em;color: black;border-radius: 0.25em;background-color: #f0f8ff;}#sk-container-id-8 input.sk-toggleable__control:checked~div.sk-toggleable__content {max-height: 200px;max-width: 100%;overflow: auto;}#sk-container-id-8 input.sk-toggleable__control:checked~label.sk-toggleable__label-arrow:before {content: \"▾\";}#sk-container-id-8 div.sk-estimator input.sk-toggleable__control:checked~label.sk-toggleable__label {background-color: #d4ebff;}#sk-container-id-8 div.sk-label input.sk-toggleable__control:checked~label.sk-toggleable__label {background-color: #d4ebff;}#sk-container-id-8 input.sk-hidden--visually {border: 0;clip: rect(1px 1px 1px 1px);clip: rect(1px, 1px, 1px, 1px);height: 1px;margin: -1px;overflow: hidden;padding: 0;position: absolute;width: 1px;}#sk-container-id-8 div.sk-estimator {font-family: monospace;background-color: #f0f8ff;border: 1px dotted black;border-radius: 0.25em;box-sizing: border-box;margin-bottom: 0.5em;}#sk-container-id-8 div.sk-estimator:hover {background-color: #d4ebff;}#sk-container-id-8 div.sk-parallel-item::after {content: \"\";width: 100%;border-bottom: 1px solid gray;flex-grow: 1;}#sk-container-id-8 div.sk-label:hover label.sk-toggleable__label {background-color: #d4ebff;}#sk-container-id-8 div.sk-serial::before {content: \"\";position: absolute;border-left: 1px solid gray;box-sizing: border-box;top: 0;bottom: 0;left: 50%;z-index: 0;}#sk-container-id-8 div.sk-serial {display: flex;flex-direction: column;align-items: center;background-color: white;padding-right: 0.2em;padding-left: 0.2em;position: relative;}#sk-container-id-8 div.sk-item {position: relative;z-index: 1;}#sk-container-id-8 div.sk-parallel {display: flex;align-items: stretch;justify-content: center;background-color: white;position: relative;}#sk-container-id-8 div.sk-item::before, #sk-container-id-8 div.sk-parallel-item::before {content: \"\";position: absolute;border-left: 1px solid gray;box-sizing: border-box;top: 0;bottom: 0;left: 50%;z-index: -1;}#sk-container-id-8 div.sk-parallel-item {display: flex;flex-direction: column;z-index: 1;position: relative;background-color: white;}#sk-container-id-8 div.sk-parallel-item:first-child::after {align-self: flex-end;width: 50%;}#sk-container-id-8 div.sk-parallel-item:last-child::after {align-self: flex-start;width: 50%;}#sk-container-id-8 div.sk-parallel-item:only-child::after {width: 0;}#sk-container-id-8 div.sk-dashed-wrapped {border: 1px dashed gray;margin: 0 0.4em 0.5em 0.4em;box-sizing: border-box;padding-bottom: 0.4em;background-color: white;}#sk-container-id-8 div.sk-label label {font-family: monospace;font-weight: bold;display: inline-block;line-height: 1.2em;}#sk-container-id-8 div.sk-label-container {text-align: center;}#sk-container-id-8 div.sk-container {/* jupyter's `normalize.less` sets `[hidden] { display: none; }` but bootstrap.min.css set `[hidden] { display: none !important; }` so we also need the `!important` here to be able to override the default hidden behavior on the sphinx rendered scikit-learn.org. See: https://github.com/scikit-learn/scikit-learn/issues/21755 */display: inline-block !important;position: relative;}#sk-container-id-8 div.sk-text-repr-fallback {display: none;}</style><div id=\"sk-container-id-8\" class=\"sk-top-container\"><div class=\"sk-text-repr-fallback\"><pre>SVC(C=0.1, probability=True)</pre><b>In a Jupyter environment, please rerun this cell to show the HTML representation or trust the notebook. <br />On GitHub, the HTML representation is unable to render, please try loading this page with nbviewer.org.</b></div><div class=\"sk-container\" hidden><div class=\"sk-item\"><div class=\"sk-estimator sk-toggleable\"><input class=\"sk-toggleable__control sk-hidden--visually\" id=\"sk-estimator-id-14\" type=\"checkbox\" checked><label for=\"sk-estimator-id-14\" class=\"sk-toggleable__label sk-toggleable__label-arrow\">SVC</label><div class=\"sk-toggleable__content\"><pre>SVC(C=0.1, probability=True)</pre></div></div></div></div></div>"
      ],
      "text/plain": [
       "SVC(C=0.1, probability=True)"
      ]
     },
     "execution_count": 58,
     "metadata": {},
     "output_type": "execute_result"
    }
   ],
   "source": [
    "clf_rbf = svm.SVC(C=0.1, kernel='rbf', degree=3,probability=True)\n",
    "clf_rbf.fit(X_train_t1_balanced,y_train_t1_balanced)"
   ]
  },
  {
   "cell_type": "code",
   "execution_count": 59,
   "id": "24b2a2ea",
   "metadata": {},
   "outputs": [
    {
     "name": "stdout",
     "output_type": "stream",
     "text": [
      "0.8613814028827645\n"
     ]
    }
   ],
   "source": [
    "y_valid_score = clf_rbf.decision_function(X_valid_nozero)\n",
    "# compute ROC curve and AUC for each learning rate\n",
    "fpr, tpr, thresholds = roc_curve(y_valid_t1_value,y_valid_score)\n",
    "roc_auc = auc(fpr, tpr)\n",
    "\n",
    "print(roc_auc)\n"
   ]
  },
  {
   "cell_type": "code",
   "execution_count": null,
   "id": "04b74843",
   "metadata": {},
   "outputs": [],
   "source": [
    "plt.title(\"C=1.1, kernel='rbf', degree=3\", fontsize=18)\n",
    "plt.scatter(X_test_selected_t1_norm[:, 0], X_test_selected_t1_norm[:, 1], c=pred_test_y, s=50, cmap='cool')\n",
    "plot_svc_decision_function(clf)"
   ]
  },
  {
   "cell_type": "code",
   "execution_count": 64,
   "id": "ba5861c5",
   "metadata": {},
   "outputs": [],
   "source": [
    "pred_test_y = clf_rbf.predict_proba(X_test_nozero)\n",
    "pd.DataFrame(pred_test_y).to_excel(excel_writer=\"C:/Users/16225/Documents/GitHub/Jebva-LOS-and-Mortality-Project-/prediction/SVMpred8.xlsx\")"
   ]
  },
  {
   "cell_type": "markdown",
   "id": "53ec5338",
   "metadata": {},
   "source": [
    "## GridsearchCV ##"
   ]
  },
  {
   "cell_type": "code",
   "execution_count": 29,
   "id": "8e7a2c76",
   "metadata": {},
   "outputs": [],
   "source": [
    "from sklearn.model_selection import GridSearchCV\n",
    "from sklearn.metrics import make_scorer\n",
    "from sklearn.svm import SVC"
   ]
  },
  {
   "cell_type": "code",
   "execution_count": 44,
   "id": "1e6a8bcf",
   "metadata": {},
   "outputs": [],
   "source": [
    "def my_custom_loss_func(X_valid_nozero,y_valid_t1_value):\n",
    "    y_valid_score = grid.score(X_valid_nozero)\n",
    "    # compute ROC curve and AUC for each learning rate\n",
    "    fpr, tpr, thresholds = roc_curve(y_valid_t1_value,y_valid_score)\n",
    "    roc_auc = auc(fpr, tpr)\n",
    "    return roc_auc\n",
    "\n",
    "score = make_scorer(my_custom_loss_func, greater_is_better=True)"
   ]
  },
  {
   "cell_type": "code",
   "execution_count": 31,
   "id": "8d6e1fd6",
   "metadata": {},
   "outputs": [
    {
     "name": "stdout",
     "output_type": "stream",
     "text": [
      "Fitting 5 folds for each of 1 candidates, totalling 5 fits\n",
      "[CV] END .........................C=0.1, gamma=1, kernel=rbf; total time=  34.7s\n",
      "[CV] END .........................C=0.1, gamma=1, kernel=rbf; total time=  35.1s\n",
      "[CV] END .........................C=0.1, gamma=1, kernel=rbf; total time=  35.5s\n",
      "[CV] END .........................C=0.1, gamma=1, kernel=rbf; total time=  35.0s\n",
      "[CV] END .........................C=0.1, gamma=1, kernel=rbf; total time=  35.2s\n"
     ]
    },
    {
     "data": {
      "text/html": [
       "<style>#sk-container-id-3 {color: black;background-color: white;}#sk-container-id-3 pre{padding: 0;}#sk-container-id-3 div.sk-toggleable {background-color: white;}#sk-container-id-3 label.sk-toggleable__label {cursor: pointer;display: block;width: 100%;margin-bottom: 0;padding: 0.3em;box-sizing: border-box;text-align: center;}#sk-container-id-3 label.sk-toggleable__label-arrow:before {content: \"▸\";float: left;margin-right: 0.25em;color: #696969;}#sk-container-id-3 label.sk-toggleable__label-arrow:hover:before {color: black;}#sk-container-id-3 div.sk-estimator:hover label.sk-toggleable__label-arrow:before {color: black;}#sk-container-id-3 div.sk-toggleable__content {max-height: 0;max-width: 0;overflow: hidden;text-align: left;background-color: #f0f8ff;}#sk-container-id-3 div.sk-toggleable__content pre {margin: 0.2em;color: black;border-radius: 0.25em;background-color: #f0f8ff;}#sk-container-id-3 input.sk-toggleable__control:checked~div.sk-toggleable__content {max-height: 200px;max-width: 100%;overflow: auto;}#sk-container-id-3 input.sk-toggleable__control:checked~label.sk-toggleable__label-arrow:before {content: \"▾\";}#sk-container-id-3 div.sk-estimator input.sk-toggleable__control:checked~label.sk-toggleable__label {background-color: #d4ebff;}#sk-container-id-3 div.sk-label input.sk-toggleable__control:checked~label.sk-toggleable__label {background-color: #d4ebff;}#sk-container-id-3 input.sk-hidden--visually {border: 0;clip: rect(1px 1px 1px 1px);clip: rect(1px, 1px, 1px, 1px);height: 1px;margin: -1px;overflow: hidden;padding: 0;position: absolute;width: 1px;}#sk-container-id-3 div.sk-estimator {font-family: monospace;background-color: #f0f8ff;border: 1px dotted black;border-radius: 0.25em;box-sizing: border-box;margin-bottom: 0.5em;}#sk-container-id-3 div.sk-estimator:hover {background-color: #d4ebff;}#sk-container-id-3 div.sk-parallel-item::after {content: \"\";width: 100%;border-bottom: 1px solid gray;flex-grow: 1;}#sk-container-id-3 div.sk-label:hover label.sk-toggleable__label {background-color: #d4ebff;}#sk-container-id-3 div.sk-serial::before {content: \"\";position: absolute;border-left: 1px solid gray;box-sizing: border-box;top: 0;bottom: 0;left: 50%;z-index: 0;}#sk-container-id-3 div.sk-serial {display: flex;flex-direction: column;align-items: center;background-color: white;padding-right: 0.2em;padding-left: 0.2em;position: relative;}#sk-container-id-3 div.sk-item {position: relative;z-index: 1;}#sk-container-id-3 div.sk-parallel {display: flex;align-items: stretch;justify-content: center;background-color: white;position: relative;}#sk-container-id-3 div.sk-item::before, #sk-container-id-3 div.sk-parallel-item::before {content: \"\";position: absolute;border-left: 1px solid gray;box-sizing: border-box;top: 0;bottom: 0;left: 50%;z-index: -1;}#sk-container-id-3 div.sk-parallel-item {display: flex;flex-direction: column;z-index: 1;position: relative;background-color: white;}#sk-container-id-3 div.sk-parallel-item:first-child::after {align-self: flex-end;width: 50%;}#sk-container-id-3 div.sk-parallel-item:last-child::after {align-self: flex-start;width: 50%;}#sk-container-id-3 div.sk-parallel-item:only-child::after {width: 0;}#sk-container-id-3 div.sk-dashed-wrapped {border: 1px dashed gray;margin: 0 0.4em 0.5em 0.4em;box-sizing: border-box;padding-bottom: 0.4em;background-color: white;}#sk-container-id-3 div.sk-label label {font-family: monospace;font-weight: bold;display: inline-block;line-height: 1.2em;}#sk-container-id-3 div.sk-label-container {text-align: center;}#sk-container-id-3 div.sk-container {/* jupyter's `normalize.less` sets `[hidden] { display: none; }` but bootstrap.min.css set `[hidden] { display: none !important; }` so we also need the `!important` here to be able to override the default hidden behavior on the sphinx rendered scikit-learn.org. See: https://github.com/scikit-learn/scikit-learn/issues/21755 */display: inline-block !important;position: relative;}#sk-container-id-3 div.sk-text-repr-fallback {display: none;}</style><div id=\"sk-container-id-3\" class=\"sk-top-container\"><div class=\"sk-text-repr-fallback\"><pre>GridSearchCV(estimator=SVC(),\n",
       "             param_grid={&#x27;C&#x27;: [0.1], &#x27;gamma&#x27;: [1], &#x27;kernel&#x27;: [&#x27;rbf&#x27;]},\n",
       "             scoring=make_scorer(my_custom_loss_func), verbose=2)</pre><b>In a Jupyter environment, please rerun this cell to show the HTML representation or trust the notebook. <br />On GitHub, the HTML representation is unable to render, please try loading this page with nbviewer.org.</b></div><div class=\"sk-container\" hidden><div class=\"sk-item sk-dashed-wrapped\"><div class=\"sk-label-container\"><div class=\"sk-label sk-toggleable\"><input class=\"sk-toggleable__control sk-hidden--visually\" id=\"sk-estimator-id-7\" type=\"checkbox\" ><label for=\"sk-estimator-id-7\" class=\"sk-toggleable__label sk-toggleable__label-arrow\">GridSearchCV</label><div class=\"sk-toggleable__content\"><pre>GridSearchCV(estimator=SVC(),\n",
       "             param_grid={&#x27;C&#x27;: [0.1], &#x27;gamma&#x27;: [1], &#x27;kernel&#x27;: [&#x27;rbf&#x27;]},\n",
       "             scoring=make_scorer(my_custom_loss_func), verbose=2)</pre></div></div></div><div class=\"sk-parallel\"><div class=\"sk-parallel-item\"><div class=\"sk-item\"><div class=\"sk-label-container\"><div class=\"sk-label sk-toggleable\"><input class=\"sk-toggleable__control sk-hidden--visually\" id=\"sk-estimator-id-8\" type=\"checkbox\" ><label for=\"sk-estimator-id-8\" class=\"sk-toggleable__label sk-toggleable__label-arrow\">estimator: SVC</label><div class=\"sk-toggleable__content\"><pre>SVC()</pre></div></div></div><div class=\"sk-serial\"><div class=\"sk-item\"><div class=\"sk-estimator sk-toggleable\"><input class=\"sk-toggleable__control sk-hidden--visually\" id=\"sk-estimator-id-9\" type=\"checkbox\" ><label for=\"sk-estimator-id-9\" class=\"sk-toggleable__label sk-toggleable__label-arrow\">SVC</label><div class=\"sk-toggleable__content\"><pre>SVC()</pre></div></div></div></div></div></div></div></div></div></div>"
      ],
      "text/plain": [
       "GridSearchCV(estimator=SVC(),\n",
       "             param_grid={'C': [0.1], 'gamma': [1], 'kernel': ['rbf']},\n",
       "             scoring=make_scorer(my_custom_loss_func), verbose=2)"
      ]
     },
     "execution_count": 31,
     "metadata": {},
     "output_type": "execute_result"
    }
   ],
   "source": [
    "param_grid={'kernel':['rbf'],'gamma':[1],'C':[0.1]}\n",
    "\n",
    "grid=GridSearchCV(SVC(),param_grid,refit=True,verbose=2,scoring=score)\n",
    "grid.fit(X_train_t1_balanced,y_train_t1_balanced)"
   ]
  },
  {
   "cell_type": "code",
   "execution_count": 45,
   "id": "97186091",
   "metadata": {},
   "outputs": [
    {
     "ename": "AttributeError",
     "evalue": "'dict' object has no attribute 'score'",
     "output_type": "error",
     "traceback": [
      "\u001b[1;31m---------------------------------------------------------------------------\u001b[0m",
      "\u001b[1;31mAttributeError\u001b[0m                            Traceback (most recent call last)",
      "\u001b[1;32m~\\AppData\\Local\\Temp/ipykernel_14676/1376937669.py\u001b[0m in \u001b[0;36m<module>\u001b[1;34m\u001b[0m\n\u001b[1;32m----> 1\u001b[1;33m \u001b[0mmy_custom_loss_func\u001b[0m\u001b[1;33m(\u001b[0m\u001b[0mX_valid_nozero\u001b[0m\u001b[1;33m,\u001b[0m\u001b[0my_train_t1_value\u001b[0m\u001b[1;33m)\u001b[0m\u001b[1;33m\u001b[0m\u001b[1;33m\u001b[0m\u001b[0m\n\u001b[0m",
      "\u001b[1;32m~\\AppData\\Local\\Temp/ipykernel_14676/2912852804.py\u001b[0m in \u001b[0;36mmy_custom_loss_func\u001b[1;34m(X_valid_nozero, y_valid_t1_value)\u001b[0m\n\u001b[0;32m      1\u001b[0m \u001b[1;32mdef\u001b[0m \u001b[0mmy_custom_loss_func\u001b[0m\u001b[1;33m(\u001b[0m\u001b[0mX_valid_nozero\u001b[0m\u001b[1;33m,\u001b[0m\u001b[0my_valid_t1_value\u001b[0m\u001b[1;33m)\u001b[0m\u001b[1;33m:\u001b[0m\u001b[1;33m\u001b[0m\u001b[1;33m\u001b[0m\u001b[0m\n\u001b[1;32m----> 2\u001b[1;33m     \u001b[0my_valid_score\u001b[0m \u001b[1;33m=\u001b[0m \u001b[0mgrid\u001b[0m\u001b[1;33m.\u001b[0m\u001b[0mscore\u001b[0m\u001b[1;33m(\u001b[0m\u001b[0mX_valid_nozero\u001b[0m\u001b[1;33m)\u001b[0m\u001b[1;33m\u001b[0m\u001b[1;33m\u001b[0m\u001b[0m\n\u001b[0m\u001b[0;32m      3\u001b[0m     \u001b[1;31m# compute ROC curve and AUC for each learning rate\u001b[0m\u001b[1;33m\u001b[0m\u001b[1;33m\u001b[0m\u001b[0m\n\u001b[0;32m      4\u001b[0m     \u001b[0mfpr\u001b[0m\u001b[1;33m,\u001b[0m \u001b[0mtpr\u001b[0m\u001b[1;33m,\u001b[0m \u001b[0mthresholds\u001b[0m \u001b[1;33m=\u001b[0m \u001b[0mroc_curve\u001b[0m\u001b[1;33m(\u001b[0m\u001b[0my_valid_t1_value\u001b[0m\u001b[1;33m,\u001b[0m\u001b[0my_valid_score\u001b[0m\u001b[1;33m)\u001b[0m\u001b[1;33m\u001b[0m\u001b[1;33m\u001b[0m\u001b[0m\n\u001b[0;32m      5\u001b[0m     \u001b[0mroc_auc\u001b[0m \u001b[1;33m=\u001b[0m \u001b[0mauc\u001b[0m\u001b[1;33m(\u001b[0m\u001b[0mfpr\u001b[0m\u001b[1;33m,\u001b[0m \u001b[0mtpr\u001b[0m\u001b[1;33m)\u001b[0m\u001b[1;33m\u001b[0m\u001b[1;33m\u001b[0m\u001b[0m\n",
      "\u001b[1;31mAttributeError\u001b[0m: 'dict' object has no attribute 'score'"
     ]
    }
   ],
   "source": [
    "my_custom_loss_func(X_valid_nozero,y_train_t1_value)"
   ]
  },
  {
   "cell_type": "code",
   "execution_count": 32,
   "id": "b64048eb",
   "metadata": {},
   "outputs": [
    {
     "name": "stdout",
     "output_type": "stream",
     "text": [
      "best_params_: {'C': 0.1, 'gamma': 1, 'kernel': 'rbf'}\n",
      "best_score_: nan\n"
     ]
    }
   ],
   "source": [
    "print('best_params_:',grid.best_params_)\n",
    "print('best_score_:',grid.best_score_)"
   ]
  },
  {
   "cell_type": "code",
   "execution_count": null,
   "id": "9b753f0c",
   "metadata": {},
   "outputs": [],
   "source": [
    "aucs = []\n",
    "for fold in range (0,n_folds):\n",
    "    probabilities = []\n",
    "    clf = RandomForestClassifier(n_estimators = 1000,max_depth=8)\n",
    "    clf = clf.fit(train_data,train_labels)\n",
    "    predicted_probs = clf.predict_proba(test_data)\n",
    "    for value in predicted_probs:\n",
    "       for k, pr in enumerate(value):\n",
    "            if k == 1:\n",
    "                probabilities.append(pr)\n",
    "    fpr, tpr, thresholds = metrics.roc_curve(test_labels, probabilities, pos_label=1)   \n",
    "    fold_auc = metrics.auc(fpr, tpr)\n",
    "    aucs.append(fold_auc)\n",
    "\n",
    "performance = np.mean(aucs)"
   ]
  },
  {
   "cell_type": "code",
   "execution_count": null,
   "id": "2b01eca7",
   "metadata": {},
   "outputs": [],
   "source": []
  },
  {
   "cell_type": "code",
   "execution_count": 20,
   "id": "b5768b41",
   "metadata": {},
   "outputs": [],
   "source": [
    "clf_best = svm.SVC(C=0.1, kernel='rbf',gamma=1,probability=True)\n",
    "clf_best.fit(X_train_t1_balanced,y_train_t1_balanced)\n",
    "pred_test_y = clf_best.predict_proba(X_test_selected_t1_norm)"
   ]
  },
  {
   "cell_type": "code",
   "execution_count": 21,
   "id": "db18410e",
   "metadata": {},
   "outputs": [
    {
     "data": {
      "text/plain": [
       "array([[9.99999542e-01, 4.58463280e-07],\n",
       "       [9.99999542e-01, 4.57604989e-07],\n",
       "       [9.99999701e-01, 2.98611109e-07],\n",
       "       ...,\n",
       "       [9.99999553e-01, 4.47217754e-07],\n",
       "       [9.99999554e-01, 4.45563885e-07],\n",
       "       [9.99999542e-01, 4.58471157e-07]])"
      ]
     },
     "execution_count": 21,
     "metadata": {},
     "output_type": "execute_result"
    }
   ],
   "source": [
    "pred_test_y"
   ]
  },
  {
   "cell_type": "code",
   "execution_count": 22,
   "id": "fa01ea44",
   "metadata": {},
   "outputs": [
    {
     "name": "stdout",
     "output_type": "stream",
     "text": [
      "Fitting 5 folds for each of 5 candidates, totalling 25 fits\n",
      "[CV] END .........................C=1, gamma=0.1, kernel=rbf; total time=  41.0s\n",
      "[CV] END .........................C=1, gamma=0.1, kernel=rbf; total time=  40.6s\n",
      "[CV] END .........................C=1, gamma=0.1, kernel=rbf; total time=  41.0s\n",
      "[CV] END .........................C=1, gamma=0.1, kernel=rbf; total time=  41.5s\n",
      "[CV] END .........................C=1, gamma=0.1, kernel=rbf; total time=  42.2s\n",
      "[CV] END .........................C=1, gamma=0.2, kernel=rbf; total time=  48.8s\n",
      "[CV] END .........................C=1, gamma=0.2, kernel=rbf; total time=  49.1s\n",
      "[CV] END .........................C=1, gamma=0.2, kernel=rbf; total time=  48.5s\n",
      "[CV] END .........................C=1, gamma=0.2, kernel=rbf; total time=  48.4s\n",
      "[CV] END .........................C=1, gamma=0.2, kernel=rbf; total time=  50.4s\n",
      "[CV] END .........................C=1, gamma=0.3, kernel=rbf; total time=  51.2s\n",
      "[CV] END .........................C=1, gamma=0.3, kernel=rbf; total time=  41.0s\n",
      "[CV] END .........................C=1, gamma=0.3, kernel=rbf; total time=  37.8s\n",
      "[CV] END .........................C=1, gamma=0.3, kernel=rbf; total time=  37.3s\n",
      "[CV] END .........................C=1, gamma=0.3, kernel=rbf; total time=  37.1s\n",
      "[CV] END .........................C=1, gamma=0.4, kernel=rbf; total time=  41.1s\n",
      "[CV] END .........................C=1, gamma=0.4, kernel=rbf; total time=  44.6s\n",
      "[CV] END .........................C=1, gamma=0.4, kernel=rbf; total time=  42.7s\n",
      "[CV] END .........................C=1, gamma=0.4, kernel=rbf; total time=  41.0s\n",
      "[CV] END .........................C=1, gamma=0.4, kernel=rbf; total time=  40.5s\n",
      "[CV] END .........................C=1, gamma=0.5, kernel=rbf; total time=  50.4s\n",
      "[CV] END .........................C=1, gamma=0.5, kernel=rbf; total time=  49.9s\n",
      "[CV] END .........................C=1, gamma=0.5, kernel=rbf; total time=  49.3s\n",
      "[CV] END .........................C=1, gamma=0.5, kernel=rbf; total time=  50.9s\n",
      "[CV] END .........................C=1, gamma=0.5, kernel=rbf; total time=  51.1s\n"
     ]
    },
    {
     "data": {
      "text/html": [
       "<style>#sk-container-id-2 {color: black;background-color: white;}#sk-container-id-2 pre{padding: 0;}#sk-container-id-2 div.sk-toggleable {background-color: white;}#sk-container-id-2 label.sk-toggleable__label {cursor: pointer;display: block;width: 100%;margin-bottom: 0;padding: 0.3em;box-sizing: border-box;text-align: center;}#sk-container-id-2 label.sk-toggleable__label-arrow:before {content: \"▸\";float: left;margin-right: 0.25em;color: #696969;}#sk-container-id-2 label.sk-toggleable__label-arrow:hover:before {color: black;}#sk-container-id-2 div.sk-estimator:hover label.sk-toggleable__label-arrow:before {color: black;}#sk-container-id-2 div.sk-toggleable__content {max-height: 0;max-width: 0;overflow: hidden;text-align: left;background-color: #f0f8ff;}#sk-container-id-2 div.sk-toggleable__content pre {margin: 0.2em;color: black;border-radius: 0.25em;background-color: #f0f8ff;}#sk-container-id-2 input.sk-toggleable__control:checked~div.sk-toggleable__content {max-height: 200px;max-width: 100%;overflow: auto;}#sk-container-id-2 input.sk-toggleable__control:checked~label.sk-toggleable__label-arrow:before {content: \"▾\";}#sk-container-id-2 div.sk-estimator input.sk-toggleable__control:checked~label.sk-toggleable__label {background-color: #d4ebff;}#sk-container-id-2 div.sk-label input.sk-toggleable__control:checked~label.sk-toggleable__label {background-color: #d4ebff;}#sk-container-id-2 input.sk-hidden--visually {border: 0;clip: rect(1px 1px 1px 1px);clip: rect(1px, 1px, 1px, 1px);height: 1px;margin: -1px;overflow: hidden;padding: 0;position: absolute;width: 1px;}#sk-container-id-2 div.sk-estimator {font-family: monospace;background-color: #f0f8ff;border: 1px dotted black;border-radius: 0.25em;box-sizing: border-box;margin-bottom: 0.5em;}#sk-container-id-2 div.sk-estimator:hover {background-color: #d4ebff;}#sk-container-id-2 div.sk-parallel-item::after {content: \"\";width: 100%;border-bottom: 1px solid gray;flex-grow: 1;}#sk-container-id-2 div.sk-label:hover label.sk-toggleable__label {background-color: #d4ebff;}#sk-container-id-2 div.sk-serial::before {content: \"\";position: absolute;border-left: 1px solid gray;box-sizing: border-box;top: 0;bottom: 0;left: 50%;z-index: 0;}#sk-container-id-2 div.sk-serial {display: flex;flex-direction: column;align-items: center;background-color: white;padding-right: 0.2em;padding-left: 0.2em;position: relative;}#sk-container-id-2 div.sk-item {position: relative;z-index: 1;}#sk-container-id-2 div.sk-parallel {display: flex;align-items: stretch;justify-content: center;background-color: white;position: relative;}#sk-container-id-2 div.sk-item::before, #sk-container-id-2 div.sk-parallel-item::before {content: \"\";position: absolute;border-left: 1px solid gray;box-sizing: border-box;top: 0;bottom: 0;left: 50%;z-index: -1;}#sk-container-id-2 div.sk-parallel-item {display: flex;flex-direction: column;z-index: 1;position: relative;background-color: white;}#sk-container-id-2 div.sk-parallel-item:first-child::after {align-self: flex-end;width: 50%;}#sk-container-id-2 div.sk-parallel-item:last-child::after {align-self: flex-start;width: 50%;}#sk-container-id-2 div.sk-parallel-item:only-child::after {width: 0;}#sk-container-id-2 div.sk-dashed-wrapped {border: 1px dashed gray;margin: 0 0.4em 0.5em 0.4em;box-sizing: border-box;padding-bottom: 0.4em;background-color: white;}#sk-container-id-2 div.sk-label label {font-family: monospace;font-weight: bold;display: inline-block;line-height: 1.2em;}#sk-container-id-2 div.sk-label-container {text-align: center;}#sk-container-id-2 div.sk-container {/* jupyter's `normalize.less` sets `[hidden] { display: none; }` but bootstrap.min.css set `[hidden] { display: none !important; }` so we also need the `!important` here to be able to override the default hidden behavior on the sphinx rendered scikit-learn.org. See: https://github.com/scikit-learn/scikit-learn/issues/21755 */display: inline-block !important;position: relative;}#sk-container-id-2 div.sk-text-repr-fallback {display: none;}</style><div id=\"sk-container-id-2\" class=\"sk-top-container\"><div class=\"sk-text-repr-fallback\"><pre>GridSearchCV(estimator=SVC(),\n",
       "             param_grid={&#x27;C&#x27;: [1], &#x27;gamma&#x27;: [0.1, 0.2, 0.3, 0.4, 0.5],\n",
       "                         &#x27;kernel&#x27;: [&#x27;rbf&#x27;]},\n",
       "             scoring=&#x27;roc_auc&#x27;, verbose=2)</pre><b>In a Jupyter environment, please rerun this cell to show the HTML representation or trust the notebook. <br />On GitHub, the HTML representation is unable to render, please try loading this page with nbviewer.org.</b></div><div class=\"sk-container\" hidden><div class=\"sk-item sk-dashed-wrapped\"><div class=\"sk-label-container\"><div class=\"sk-label sk-toggleable\"><input class=\"sk-toggleable__control sk-hidden--visually\" id=\"sk-estimator-id-4\" type=\"checkbox\" ><label for=\"sk-estimator-id-4\" class=\"sk-toggleable__label sk-toggleable__label-arrow\">GridSearchCV</label><div class=\"sk-toggleable__content\"><pre>GridSearchCV(estimator=SVC(),\n",
       "             param_grid={&#x27;C&#x27;: [1], &#x27;gamma&#x27;: [0.1, 0.2, 0.3, 0.4, 0.5],\n",
       "                         &#x27;kernel&#x27;: [&#x27;rbf&#x27;]},\n",
       "             scoring=&#x27;roc_auc&#x27;, verbose=2)</pre></div></div></div><div class=\"sk-parallel\"><div class=\"sk-parallel-item\"><div class=\"sk-item\"><div class=\"sk-label-container\"><div class=\"sk-label sk-toggleable\"><input class=\"sk-toggleable__control sk-hidden--visually\" id=\"sk-estimator-id-5\" type=\"checkbox\" ><label for=\"sk-estimator-id-5\" class=\"sk-toggleable__label sk-toggleable__label-arrow\">estimator: SVC</label><div class=\"sk-toggleable__content\"><pre>SVC()</pre></div></div></div><div class=\"sk-serial\"><div class=\"sk-item\"><div class=\"sk-estimator sk-toggleable\"><input class=\"sk-toggleable__control sk-hidden--visually\" id=\"sk-estimator-id-6\" type=\"checkbox\" ><label for=\"sk-estimator-id-6\" class=\"sk-toggleable__label sk-toggleable__label-arrow\">SVC</label><div class=\"sk-toggleable__content\"><pre>SVC()</pre></div></div></div></div></div></div></div></div></div></div>"
      ],
      "text/plain": [
       "GridSearchCV(estimator=SVC(),\n",
       "             param_grid={'C': [1], 'gamma': [0.1, 0.2, 0.3, 0.4, 0.5],\n",
       "                         'kernel': ['rbf']},\n",
       "             scoring='roc_auc', verbose=2)"
      ]
     },
     "execution_count": 22,
     "metadata": {},
     "output_type": "execute_result"
    }
   ],
   "source": [
    "param_grid={'kernel':['rbf'],'gamma':[0.1,0.2,0.3,0.4,0.5],'C':[1]}\n",
    "\n",
    "grid=GridSearchCV(SVC(),param_grid,refit=True,verbose=2,scoring='roc_auc')\n",
    "grid.fit(X_train_t1_balanced,y_train_t1_balanced)"
   ]
  },
  {
   "cell_type": "code",
   "execution_count": 23,
   "id": "70dd5e3a",
   "metadata": {},
   "outputs": [
    {
     "name": "stdout",
     "output_type": "stream",
     "text": [
      "best_params_: {'C': 1, 'gamma': 0.2, 'kernel': 'rbf'}\n",
      "best_score_: 1.0\n"
     ]
    }
   ],
   "source": [
    "print('best_params_:',grid.best_params_)\n",
    "print('best_score_:',grid.best_score_)"
   ]
  },
  {
   "cell_type": "code",
   "execution_count": 24,
   "id": "7fb49ee0",
   "metadata": {},
   "outputs": [],
   "source": [
    "clf_best = svm.SVC(C=1, kernel='rbf',gamma=0.2,probability=True)\n",
    "clf_best.fit(X_train_t1_balanced,y_train_t1_balanced)\n",
    "pred_test_y = clf_best.predict_proba(X_test_selected_t1_norm)"
   ]
  },
  {
   "cell_type": "code",
   "execution_count": 25,
   "id": "1826220e",
   "metadata": {},
   "outputs": [
    {
     "data": {
      "text/plain": [
       "array([[9.99987677e-01, 1.23233676e-05],\n",
       "       [9.99994318e-01, 5.68167424e-06],\n",
       "       [9.99999218e-01, 7.82283957e-07],\n",
       "       ...,\n",
       "       [9.99993442e-01, 6.55840056e-06],\n",
       "       [9.99999301e-01, 6.99053964e-07],\n",
       "       [9.99975642e-01, 2.43578876e-05]])"
      ]
     },
     "execution_count": 25,
     "metadata": {},
     "output_type": "execute_result"
    }
   ],
   "source": [
    "pred_test_y"
   ]
  },
  {
   "cell_type": "code",
   "execution_count": 26,
   "id": "f7c11408",
   "metadata": {},
   "outputs": [],
   "source": [
    "pd.DataFrame(pred_test_y).to_excel(excel_writer=\"C:/Users/16225/Documents/GitHub/Jebva-LOS-and-Mortality-Project-/prediction/SVMpred7.xlsx\")"
   ]
  },
  {
   "cell_type": "code",
   "execution_count": 27,
   "id": "4f19e41f",
   "metadata": {},
   "outputs": [
    {
     "name": "stdout",
     "output_type": "stream",
     "text": [
      "0.8290911545142964\n"
     ]
    }
   ],
   "source": [
    "#clf_rbf = svm.SVC(C=1.1, kernel='rbf', degree=3,probability=True)\n",
    "#clf_rbf.fit(X_train_t1_balanced,y_train_t1_balanced)\n",
    "y_valid_score = clf_rbf.decision_function(X_valid_selected_t1_norm)\n",
    "# compute ROC curve and AUC for each learning rate\n",
    "fpr, tpr, thresholds = roc_curve(y_valid_t1_value,y_valid_score)\n",
    "roc_auc = auc(fpr, tpr)\n",
    "\n",
    "print(roc_auc)"
   ]
  },
  {
   "cell_type": "code",
   "execution_count": null,
   "id": "48329ee6",
   "metadata": {},
   "outputs": [],
   "source": [
    "clf_best_nonbalanced = svm.SVC(C=0.1, kernel='rbf',gamma=1,probability=True)\n",
    "clf_best_nonbalanced.fit(X_train_selected_t1_norm,y_train_t1_value)\n",
    "pred_test_y = clf_best_nonbalanced.predict_proba(X_test_selected_t1_norm)"
   ]
  },
  {
   "cell_type": "code",
   "execution_count": null,
   "id": "2f5973ae",
   "metadata": {},
   "outputs": [],
   "source": [
    "y_valid_score = clf_best_nonbalanced.decision_function(X_valid_selected_t1_norm)\n",
    "\n",
    "\n",
    "# compute ROC curve and AUC for each learning rate\n",
    "fpr, tpr, thresholds = roc_curve(y_valid_t1_value,y_valid_score)\n",
    "roc_auc = auc(fpr, tpr)\n",
    "\n",
    "print(roc_auc)"
   ]
  },
  {
   "cell_type": "code",
   "execution_count": null,
   "id": "860055c7",
   "metadata": {},
   "outputs": [],
   "source": [
    "sns.set_theme(style=\"whitegrid\")\n",
    "\n",
    "plt.plot(fpr, tpr, color='darkorange', lw=2, label='ROC curve (area = %0.2f)' % roc_auc)\n",
    "plt.plot([0, 1], [0, 1], color='navy', lw=2, linestyle='--')\n",
    "plt.xlim([0.0, 1.0])\n",
    "plt.ylim([0.0, 1.05])\n",
    "plt.xlabel('False Positive Rate')\n",
    "plt.ylabel('True Positive Rate')\n",
    "plt.title('ROC Curve')\n",
    "plt.legend(loc=\"lower right\")"
   ]
  },
  {
   "cell_type": "code",
   "execution_count": null,
   "id": "067cc907",
   "metadata": {},
   "outputs": [],
   "source": [
    "pred_test_y"
   ]
  },
  {
   "cell_type": "code",
   "execution_count": null,
   "id": "ff8b22cf",
   "metadata": {},
   "outputs": [],
   "source": [
    "pd.DataFrame(pred_test_y).to_excel(excel_writer=\"C:/Users/16225/Documents/GitHub/Jebva-LOS-and-Mortality-Project-/prediction/SVMpred5.xlsx\")"
   ]
  },
  {
   "cell_type": "markdown",
   "id": "4deb9916",
   "metadata": {},
   "source": [
    "## def GridSearchCV ##"
   ]
  },
  {
   "cell_type": "code",
   "execution_count": null,
   "id": "335959ba",
   "metadata": {},
   "outputs": [],
   "source": [
    "def model_fit(model: svm.SVC, \n",
    "              X: pd.DataFrame or np.array or list, \n",
    "              y: pd.DataFrame or np.array or list, \n",
    "              useTrainCV=True,\n",
    "              cv_folds=5,\n",
    "              early_stopping_rounds=50\n",
    "              ) -> None:\n",
    "    \n",
    "    if useTrainCV:\n",
    "        clf_param = model.get_clf_params()\n",
    "        xgtrain = clf.DMatrix(X.values, label=y.values)\n",
    "        cvresult = clf.cv(clf_param, \n",
    "                          xgtrain, \n",
    "                          num_boost_round=model.get_params()['n_estimators'], \n",
    "                          nfold=cv_folds,\n",
    "                          metrics='auc', \n",
    "                          early_stopping_rounds=early_stopping_rounds,\n",
    "                          verbose_eval=True\n",
    "                          )\n",
    "        model.set_params(n_estimators=cvresult.shape[0])\n",
    "\n",
    "    # fit the algorithm on the data\n",
    "    model.fit(X, y, eval_metric='auc')\n",
    "    \n",
    "    # predict training set\n",
    "    dtrain_predictions = model.predict(X)\n",
    "    dtrain_predprob = model.predict_proba(X)[:,1]\n",
    "    \n",
    "    # print model report\n",
    "    print('*'*10)\n",
    "    print(\"Model Report\")\n",
    "    print(\"Accuracy : %.4g\" % metrics.accuracy_score(y.values, dtrain_predictions))\n",
    "    print(\"AUC Score (Train): %f\" % metrics.roc_auc_score(y, dtrain_predprob))\n",
    "    print('*'*10)\n",
    "    \n",
    "    sns.set_style('whitegrid')\n",
    "    feat_imp = (pd.Series(model.get_booster().get_fscore())\n",
    "                .sort_values(ascending=False))\n",
    "    feat_imp.plot(kind='bar', title='Feature Importances')\n",
    "    plt.ylabel('Feature Importance Score')\n",
    "    \n",
    "    return model"
   ]
  },
  {
   "cell_type": "code",
   "execution_count": null,
   "id": "f5592ed2",
   "metadata": {},
   "outputs": [],
   "source": []
  },
  {
   "cell_type": "code",
   "execution_count": null,
   "id": "30570852",
   "metadata": {},
   "outputs": [],
   "source": [
    "svm1 = svm.SVC(C=0.1, kernel='rbf',gamma=1,probability=True)\n",
    "\n",
    "svm2 = model_fit(svm1, X_train, y_train_t1)"
   ]
  },
  {
   "cell_type": "markdown",
   "id": "23cf8f91",
   "metadata": {},
   "source": [
    "### RBF"
   ]
  },
  {
   "cell_type": "code",
   "execution_count": null,
   "id": "1aced651",
   "metadata": {},
   "outputs": [],
   "source": [
    "# select different type of kernel function and compare the score\n",
    "\n",
    "# kernel = 'rbf'\n",
    "train_rbf_scores = []\n",
    "test_rbf_scores = []\n",
    "auc_list=[]\n",
    "\n",
    "for c in range(10,20,2):\n",
    "    clf_rbf = svm.SVC(C=c*0.1, kernel='rbf',probability=True)\n",
    "    clf_rbf.fit(X_train_selected_t1_norm,y_train_t1_value)\n",
    "    y_valid_score = clf_rbf.decision_function(X_valid_selected_t1_norm)\n",
    "    fpr, tpr, thresholds = roc_curve(y_valid_t1_value,y_valid_score)\n",
    "    roc_auc = auc(fpr, tpr)\n",
    "    \n",
    "    train_rbf_scores.append(clf_rbf.score(X_train_selected_t1_norm,y_train_t1_value))\n",
    "    test_rbf_scores.append(clf_rbf.score(X_valid_selected_t1_norm,y_valid_t1_value))\n",
    "    auc_list.append(roc_auc)\n",
    "    \n",
    "\n",
    "\n",
    "plt.plot(train_rbf_scores, 'bo--')\n",
    "plt.plot(test_rbf_scores, 'bo-')\n",
    "plt.plot(auc_list,'bo-')\n",
    "plt.legend([\"rbf training score\", \"rbf valid score\",\"auc\"])\n",
    "plt.axvline(np.argmax(train_rbf_scores), linestyle=\"dotted\", color=\"red\")\n",
    "plt.annotate(np.max(auc_list).round(4), (np.argmax(auc_list), np.max(auc_list)), xycoords=\"data\",\n",
    "                 xytext=(40, 20), textcoords=\"offset pixels\", arrowprops=dict(facecolor=\"black\", shrink=0.1), fontsize=10,\n",
    "                 horizontalalignment=\"center\", verticalalignment=\"top\")\n",
    "plt.show()"
   ]
  },
  {
   "cell_type": "code",
   "execution_count": null,
   "id": "18596df7",
   "metadata": {},
   "outputs": [],
   "source": [
    "# select different type of kernel function and compare the score\n",
    "\n",
    "# kernel = 'rbf'\n",
    "train_rbf_scores = []\n",
    "test_rbf_scores = []\n",
    "rmse=[]\n",
    "\n",
    "for c in range(10,20,2):\n",
    "    clf_rbf = svm.SVR(C=c*0.1, kernel='rbf')\n",
    "    clf_rbf.fit(X_train_selected_t2_norm,y_train_t2_value)\n",
    "    y_valid_score = clf_rbf.score(X_valid_selected_t2_norm,y_valid_t2_value)\n",
    "\n",
    "    \n",
    "    train_rbf_scores.append(clf_rbf.score(X_train_selected_t2_norm,y_train_t2_value))\n",
    "    test_rbf_scores.append(clf_rbf.score(X_valid_selected_t2_norm,y_valid_t2_value))\n",
    "    rmse.append(y_valid_score)\n",
    "    \n",
    "\n",
    "plt.plot(train_rbf_scores, 'bo--')\n",
    "plt.plot(test_rbf_scores, 'bo-')\n",
    "plt.plot(auc_list,'bo-')\n",
    "plt.legend([\"rbf training score\", \"rbf valid score\",\"auc\"])\n",
    "plt.axvline(np.argmax(train_rbf_scores), linestyle=\"dotted\", color=\"red\")\n",
    "plt.annotate(np.max(auc_list).round(4), (np.argmax(auc_list), np.max(auc_list)), xycoords=\"data\",\n",
    "                 xytext=(40, 20), textcoords=\"offset pixels\", arrowprops=dict(facecolor=\"black\", shrink=0.1), fontsize=10,\n",
    "                 horizontalalignment=\"center\", verticalalignment=\"top\")\n",
    "plt.show()"
   ]
  },
  {
   "cell_type": "code",
   "execution_count": 16,
   "id": "edac87a6",
   "metadata": {},
   "outputs": [
    {
     "ename": "KeyboardInterrupt",
     "evalue": "",
     "output_type": "error",
     "traceback": [
      "\u001b[1;31m---------------------------------------------------------------------------\u001b[0m",
      "\u001b[1;31mKeyboardInterrupt\u001b[0m                         Traceback (most recent call last)",
      "\u001b[1;32m~\\AppData\\Local\\Temp/ipykernel_14676/1282692066.py\u001b[0m in \u001b[0;36m<module>\u001b[1;34m\u001b[0m\n\u001b[0;32m      1\u001b[0m \u001b[0mclf_rbf\u001b[0m \u001b[1;33m=\u001b[0m \u001b[0msvm\u001b[0m\u001b[1;33m.\u001b[0m\u001b[0mSVC\u001b[0m\u001b[1;33m(\u001b[0m\u001b[0mC\u001b[0m\u001b[1;33m=\u001b[0m\u001b[1;36m2\u001b[0m\u001b[1;33m,\u001b[0m \u001b[0mkernel\u001b[0m\u001b[1;33m=\u001b[0m\u001b[1;34m'rbf'\u001b[0m\u001b[1;33m,\u001b[0m \u001b[0mdegree\u001b[0m\u001b[1;33m=\u001b[0m\u001b[1;36m3\u001b[0m\u001b[1;33m,\u001b[0m\u001b[0mprobability\u001b[0m\u001b[1;33m=\u001b[0m\u001b[1;32mTrue\u001b[0m\u001b[1;33m)\u001b[0m\u001b[1;33m\u001b[0m\u001b[1;33m\u001b[0m\u001b[0m\n\u001b[1;32m----> 2\u001b[1;33m \u001b[0mclf_rbf\u001b[0m\u001b[1;33m.\u001b[0m\u001b[0mfit\u001b[0m\u001b[1;33m(\u001b[0m\u001b[0mX_train_selected_t1_norm\u001b[0m\u001b[1;33m,\u001b[0m\u001b[0my_train_t1_value\u001b[0m\u001b[1;33m)\u001b[0m\u001b[1;33m\u001b[0m\u001b[1;33m\u001b[0m\u001b[0m\n\u001b[0m",
      "\u001b[1;32mD:\\anaconda3\\lib\\site-packages\\sklearn\\svm\\_base.py\u001b[0m in \u001b[0;36mfit\u001b[1;34m(self, X, y, sample_weight)\u001b[0m\n\u001b[0;32m    249\u001b[0m \u001b[1;33m\u001b[0m\u001b[0m\n\u001b[0;32m    250\u001b[0m         \u001b[0mseed\u001b[0m \u001b[1;33m=\u001b[0m \u001b[0mrnd\u001b[0m\u001b[1;33m.\u001b[0m\u001b[0mrandint\u001b[0m\u001b[1;33m(\u001b[0m\u001b[0mnp\u001b[0m\u001b[1;33m.\u001b[0m\u001b[0miinfo\u001b[0m\u001b[1;33m(\u001b[0m\u001b[1;34m\"i\"\u001b[0m\u001b[1;33m)\u001b[0m\u001b[1;33m.\u001b[0m\u001b[0mmax\u001b[0m\u001b[1;33m)\u001b[0m\u001b[1;33m\u001b[0m\u001b[1;33m\u001b[0m\u001b[0m\n\u001b[1;32m--> 251\u001b[1;33m         \u001b[0mfit\u001b[0m\u001b[1;33m(\u001b[0m\u001b[0mX\u001b[0m\u001b[1;33m,\u001b[0m \u001b[0my\u001b[0m\u001b[1;33m,\u001b[0m \u001b[0msample_weight\u001b[0m\u001b[1;33m,\u001b[0m \u001b[0msolver_type\u001b[0m\u001b[1;33m,\u001b[0m \u001b[0mkernel\u001b[0m\u001b[1;33m,\u001b[0m \u001b[0mrandom_seed\u001b[0m\u001b[1;33m=\u001b[0m\u001b[0mseed\u001b[0m\u001b[1;33m)\u001b[0m\u001b[1;33m\u001b[0m\u001b[1;33m\u001b[0m\u001b[0m\n\u001b[0m\u001b[0;32m    252\u001b[0m         \u001b[1;31m# see comment on the other call to np.iinfo in this file\u001b[0m\u001b[1;33m\u001b[0m\u001b[1;33m\u001b[0m\u001b[0m\n\u001b[0;32m    253\u001b[0m \u001b[1;33m\u001b[0m\u001b[0m\n",
      "\u001b[1;32mD:\\anaconda3\\lib\\site-packages\\sklearn\\svm\\_base.py\u001b[0m in \u001b[0;36m_dense_fit\u001b[1;34m(self, X, y, sample_weight, solver_type, kernel, random_seed)\u001b[0m\n\u001b[0;32m    331\u001b[0m             \u001b[0mself\u001b[0m\u001b[1;33m.\u001b[0m\u001b[0mfit_status_\u001b[0m\u001b[1;33m,\u001b[0m\u001b[1;33m\u001b[0m\u001b[1;33m\u001b[0m\u001b[0m\n\u001b[0;32m    332\u001b[0m             \u001b[0mself\u001b[0m\u001b[1;33m.\u001b[0m\u001b[0m_num_iter\u001b[0m\u001b[1;33m,\u001b[0m\u001b[1;33m\u001b[0m\u001b[1;33m\u001b[0m\u001b[0m\n\u001b[1;32m--> 333\u001b[1;33m         \u001b[1;33m)\u001b[0m \u001b[1;33m=\u001b[0m \u001b[0mlibsvm\u001b[0m\u001b[1;33m.\u001b[0m\u001b[0mfit\u001b[0m\u001b[1;33m(\u001b[0m\u001b[1;33m\u001b[0m\u001b[1;33m\u001b[0m\u001b[0m\n\u001b[0m\u001b[0;32m    334\u001b[0m             \u001b[0mX\u001b[0m\u001b[1;33m,\u001b[0m\u001b[1;33m\u001b[0m\u001b[1;33m\u001b[0m\u001b[0m\n\u001b[0;32m    335\u001b[0m             \u001b[0my\u001b[0m\u001b[1;33m,\u001b[0m\u001b[1;33m\u001b[0m\u001b[1;33m\u001b[0m\u001b[0m\n",
      "\u001b[1;31mKeyboardInterrupt\u001b[0m: "
     ]
    }
   ],
   "source": [
    "clf_rbf = svm.SVC(C=2, kernel='rbf', degree=3,probability=True)\n",
    "clf_rbf.fit(X_train_selected_t1_norm,y_train_t1_value)"
   ]
  },
  {
   "cell_type": "code",
   "execution_count": null,
   "id": "c6cf8630",
   "metadata": {},
   "outputs": [],
   "source": [
    "pd.DataFrame(clf_rbf.predict_proba(X_test_selected_t1_norm)).to_excel(excel_writer=\"C:/Users/16225/Documents/GitHub/Jebva-LOS-and-Mortality-Project-/prediction/SVMpred3.xlsx\")"
   ]
  },
  {
   "cell_type": "code",
   "execution_count": null,
   "id": "5d6b12a1",
   "metadata": {},
   "outputs": [],
   "source": [
    "x_graph = list(range(1,10,2))\n",
    "plt.plot(x_graph,train_rbf_scores, 'bo--')\n",
    "plt.plot(x_graph,test_rbf_scores, 'bo-')\n",
    "plt.plot(x_graph,auc_list,'bo-')\n",
    "plt.xlim(1,5)\n",
    "plt.legend([\"rbf training score\", \"rbf valid score\",\"auc\"])\n",
    "plt.axvline(np.argmax(train_rbf_scores), linestyle=\"dotted\", color=\"red\")\n",
    "plt.annotate(np.max(auc_list).round(4), (np.argmax(auc_list), np.max(auc_list)), xycoords=\"data\",\n",
    "                 xytext=(40, 20), textcoords=\"offset pixels\", arrowprops=dict(facecolor=\"black\", shrink=0.1), fontsize=10,\n",
    "                 horizontalalignment=\"center\", verticalalignment=\"top\")\n",
    "plt.show()"
   ]
  },
  {
   "cell_type": "code",
   "execution_count": null,
   "id": "082092c3",
   "metadata": {},
   "outputs": [],
   "source": [
    "x_graph = list(range(1,10,2))\n",
    "x_graph"
   ]
  },
  {
   "cell_type": "code",
   "execution_count": null,
   "id": "f7e601a5",
   "metadata": {},
   "outputs": [],
   "source": [
    "pred_test_y = clf_rbf.predict_proba(X_test_selected_t1_norm)"
   ]
  },
  {
   "cell_type": "code",
   "execution_count": null,
   "id": "1ce7217f",
   "metadata": {},
   "outputs": [],
   "source": [
    "pred_test_y"
   ]
  },
  {
   "cell_type": "code",
   "execution_count": null,
   "id": "6ac47cb3",
   "metadata": {},
   "outputs": [],
   "source": [
    "pd.DataFrame(pred_test_y).to_excel(excel_writer=\"C:/Users/16225/Documents/GitHub/Jebva-LOS-and-Mortality-Project-/prediction/SVMpred6degree=3trainbalanced.xlsx\")"
   ]
  },
  {
   "cell_type": "code",
   "execution_count": null,
   "id": "3121d671",
   "metadata": {},
   "outputs": [],
   "source": [
    "X_test_selected_t1_norm[:, 0]"
   ]
  },
  {
   "cell_type": "code",
   "execution_count": null,
   "id": "cf80c470",
   "metadata": {},
   "outputs": [],
   "source": [
    "plt.title(\"C=1.1, kernel='rbf', degree=3\", fontsize=18)\n",
    "plt.scatter(X_test_selected_t1_norm[:, 0], X_test_selected_t1_norm[:, 1], c=pred_test_y, s=50, cmap='cool')\n",
    "plot_svc_decision_function(clf)"
   ]
  },
  {
   "cell_type": "code",
   "execution_count": null,
   "id": "9ddcd2e0",
   "metadata": {},
   "outputs": [],
   "source": [
    "# plot the graph of ROC curve\n",
    "sns.set_theme(style=\"whitegrid\")\n",
    "\n",
    "plt.plot(fpr, tpr, color='darkorange', lw=2, label='ROC curve (area = %0.2f)' % roc_auc)\n",
    "plt.plot([0, 1], [0, 1], color='navy', lw=2, linestyle='--')\n",
    "plt.xlim([0.0, 1.0])\n",
    "plt.ylim([0.0, 1.05])\n",
    "plt.xlabel('False Positive Rate')\n",
    "plt.ylabel('True Positive Rate')\n",
    "plt.title('ROC Curve')\n",
    "plt.legend(loc=\"lower right\")"
   ]
  },
  {
   "cell_type": "code",
   "execution_count": null,
   "id": "dc1eb768",
   "metadata": {},
   "outputs": [],
   "source": [
    "pd.DataFrame(predictpos1).to_excel(excel_writer=\"C:/Users/16225/Documents/GitHub/Jebva-LOS-and-Mortality-Project-/prediction/SVMpred2.xlsx\")"
   ]
  },
  {
   "cell_type": "markdown",
   "id": "0481fc47",
   "metadata": {},
   "source": [
    "### poly degree=3"
   ]
  },
  {
   "cell_type": "code",
   "execution_count": null,
   "id": "5e6bb7f9",
   "metadata": {},
   "outputs": [],
   "source": [
    "# select different type of kernel function and compare the score\n",
    "\n",
    "# kernel = 'poly'\n",
    "train_poly_scores = []\n",
    "test_poly_scores = []\n",
    "\n",
    "for c in range(1,25,2):\n",
    "    clf_poly = svm.SVC(C=c*0.1, kernel='poly', degree=3)\n",
    "    clf_poly.fit(X_train_selected_t1_norm,y_train_t1_value)\n",
    "    train_poly_scores.append(clf_poly.score(X_train_selected_t1_norm,y_train_t1_value))\n",
    "    test_poly_scores.append(clf_poly.score(X_valid_selected_t1_norm,y_valid_t1_value))\n",
    "\n",
    "plt.plot(train_poly_scores, 'bo--')\n",
    "plt.plot(test_poly_scores, 'bo-')\n",
    "plt.legend([\"poly training score\", \"poly valid score\"])\n",
    "plt.axvline(np.argmax(train_poly_scores), linestyle=\"dotted\", color=\"red\")\n",
    "plt.annotate(np.max(test_poly_scores).round(4), (np.argmax(test_poly_scores), np.max(test_poly_scores)), xycoords=\"data\",\n",
    "                 xytext=(40, 20), textcoords=\"offset pixels\", arrowprops=dict(facecolor=\"black\", shrink=0.1), fontsize=10,\n",
    "                 horizontalalignment=\"center\", verticalalignment=\"top\")\n",
    "plt.show()"
   ]
  },
  {
   "cell_type": "code",
   "execution_count": null,
   "id": "9d142971",
   "metadata": {},
   "outputs": [],
   "source": [
    "clf_poly = svm.SVC(C=0.1, kernel='poly', degree=3,probability=True)\n",
    "clf_poly.fit(X_train_selected_t1_norm,y_train_t1_value)\n",
    "y_valid_score = clf_poly.decision_function(X_valid_selected_t1_norm)\n",
    "\n",
    "\n",
    "# compute ROC curve and AUC for each learning rate\n",
    "fpr, tpr, thresholds = roc_curve(y_valid_t1_value,y_valid_score)\n",
    "roc_auc = auc(fpr, tpr)\n",
    "\n",
    "# plot the graph of ROC curve\n",
    "sns.set_theme(style=\"whitegrid\")\n",
    "for i in range(len(y_valid_pred)):\n",
    "    y_valid_pred_true.append(y_valid_pred[i][0])\n",
    "y_valid_pred_true\n",
    "plt.plot(fpr, tpr, color='darkorange', lw=2, label='ROC curve (area = %0.2f)' % roc_auc)\n",
    "plt.plot([0, 1], [0, 1], color='navy', lw=2, linestyle='--')\n",
    "plt.xlim([0.0, 1.0])\n",
    "plt.ylim([0.0, 1.05])\n",
    "plt.xlabel('False Positive Rate')\n",
    "plt.ylabel('True Positive Rate')\n",
    "plt.title('ROC Curve')\n",
    "plt.legend(loc=\"lower right\")"
   ]
  },
  {
   "cell_type": "markdown",
   "id": "cd11fe99",
   "metadata": {},
   "source": [
    "### poly degree=2"
   ]
  },
  {
   "cell_type": "code",
   "execution_count": null,
   "id": "09be5e75",
   "metadata": {},
   "outputs": [],
   "source": [
    "# select different type of kernel function and compare the score\n",
    "\n",
    "# kernel = 'poly'\n",
    "train_poly_scores = []\n",
    "test_poly_scores = []\n",
    "\n",
    "for c in range(1,25,2):\n",
    "    clf_poly = svm.SVC(C=c*0.1, kernel='poly', degree=2)\n",
    "    clf_poly.fit(X_train_selected_t1_norm,y_train_t1_value)\n",
    "    train_poly_scores.append(clf_poly.score(X_train_selected_t1_norm,y_train_t1_value))\n",
    "    test_poly_scores.append(clf_poly.score(X_valid_selected_t1_norm,y_valid_t1_value))\n",
    "\n",
    "plt.plot(train_poly_scores, 'bo--')\n",
    "plt.plot(test_poly_scores, 'bo-')\n",
    "plt.legend([\"poly training score\", \"poly valid score\"])\n",
    "plt.axvline(np.argmax(train_poly_scores), linestyle=\"dotted\", color=\"red\")\n",
    "plt.annotate(np.max(test_poly_scores).round(4), (np.argmax(test_poly_scores), np.max(test_poly_scores)), xycoords=\"data\",\n",
    "                 xytext=(40, 20), textcoords=\"offset pixels\", arrowprops=dict(facecolor=\"black\", shrink=0.1), fontsize=10,\n",
    "                 horizontalalignment=\"center\", verticalalignment=\"top\")\n",
    "plt.show()"
   ]
  },
  {
   "cell_type": "code",
   "execution_count": null,
   "id": "e04c2a37",
   "metadata": {},
   "outputs": [],
   "source": [
    "clf_poly = svm.SVC(C=0.1, kernel='poly', degree=2,probability=True)\n",
    "clf_poly.fit(X_train_selected_t1_norm,y_train_t1_value)\n",
    "y_valid_score = clf_poly.decision_function(X_valid_selected_t1_norm)\n",
    "\n",
    "\n",
    "# compute ROC curve and AUC for each learning rate\n",
    "fpr, tpr, thresholds = roc_curve(y_valid_t1_value,y_valid_score)\n",
    "roc_auc = auc(fpr, tpr)\n",
    "\n",
    "# plot the graph of ROC curve\n",
    "sns.set_theme(style=\"whitegrid\")\n",
    "for i in range(len(y_valid_pred)):\n",
    "    y_valid_pred_true.append(y_valid_pred[i][0])\n",
    "y_valid_pred_true\n",
    "plt.plot(fpr, tpr, color='darkorange', lw=2, label='ROC curve (area = %0.2f)' % roc_auc)\n",
    "plt.plot([0, 1], [0, 1], color='navy', lw=2, linestyle='--')\n",
    "plt.xlim([0.0, 1.0])\n",
    "plt.ylim([0.0, 1.05])\n",
    "plt.xlabel('False Positive Rate')\n",
    "plt.ylabel('True Positive Rate')\n",
    "plt.title('ROC Curve')\n",
    "plt.legend(loc=\"lower right\")"
   ]
  },
  {
   "cell_type": "markdown",
   "id": "8c35cb98",
   "metadata": {},
   "source": [
    "### poly degree=4"
   ]
  },
  {
   "cell_type": "code",
   "execution_count": null,
   "id": "748c2e9f",
   "metadata": {},
   "outputs": [],
   "source": [
    "# select different type of kernel function and compare the score\n",
    "\n",
    "# kernel = 'poly'\n",
    "train_poly_scores = []\n",
    "test_poly_scores = []\n",
    "\n",
    "for c in range(1,25,2):\n",
    "    clf_poly = svm.SVC(C=c*0.1, kernel='poly', degree=4)\n",
    "    clf_poly.fit(X_train_selected_t1_norm,y_train_t1_value)\n",
    "    train_poly_scores.append(clf_poly.score(X_train_selected_t1_norm,y_train_t1_value))\n",
    "    test_poly_scores.append(clf_poly.score(X_valid_selected_t1_norm,y_valid_t1_value))\n",
    "\n",
    "plt.plot(train_poly_scores, 'bo--')\n",
    "plt.plot(test_poly_scores, 'bo-')\n",
    "plt.legend([\"poly training score\", \"poly valid score\"])\n",
    "plt.axvline(np.argmax(train_poly_scores), linestyle=\"dotted\", color=\"red\")\n",
    "plt.annotate(np.max(test_poly_scores).round(4), (np.argmax(test_poly_scores), np.max(test_poly_scores)), xycoords=\"data\",\n",
    "                 xytext=(40, 20), textcoords=\"offset pixels\", arrowprops=dict(facecolor=\"black\", shrink=0.1), fontsize=10,\n",
    "                 horizontalalignment=\"center\", verticalalignment=\"top\")\n",
    "plt.show()"
   ]
  },
  {
   "cell_type": "code",
   "execution_count": null,
   "id": "dd4db390",
   "metadata": {},
   "outputs": [],
   "source": [
    "clf_poly = svm.SVC(C=0.1, kernel='poly', degree=4,probability=True)\n",
    "clf_poly.fit(X_train_selected_t1_norm,y_train_t1_value)\n",
    "y_valid_score = clf_poly.decision_function(X_valid_selected_t1_norm)\n",
    "\n",
    "\n",
    "# compute ROC curve and AUC for each learning rate\n",
    "fpr, tpr, thresholds = roc_curve(y_valid_t1_value,y_valid_score)\n",
    "roc_auc = auc(fpr, tpr)\n",
    "\n",
    "# plot the graph of ROC curve\n",
    "sns.set_theme(style=\"whitegrid\")\n",
    "for i in range(len(y_valid_pred)):\n",
    "    y_valid_pred_true.append(y_valid_pred[i][0])\n",
    "y_valid_pred_true\n",
    "plt.plot(fpr, tpr, color='darkorange', lw=2, label='ROC curve (area = %0.2f)' % roc_auc)\n",
    "plt.plot([0, 1], [0, 1], color='navy', lw=2, linestyle='--')\n",
    "plt.xlim([0.0, 1.0])\n",
    "plt.ylim([0.0, 1.05])\n",
    "plt.xlabel('False Positive Rate')\n",
    "plt.ylabel('True Positive Rate')\n",
    "plt.title('ROC Curve')\n",
    "plt.legend(loc=\"lower right\")"
   ]
  },
  {
   "cell_type": "markdown",
   "id": "28ed472b",
   "metadata": {},
   "source": [
    "### sigmoid"
   ]
  },
  {
   "cell_type": "code",
   "execution_count": null,
   "id": "5fb10068",
   "metadata": {
    "scrolled": false
   },
   "outputs": [],
   "source": [
    "# select different type of kernel function and compare the score\n",
    "\n",
    "# kernel = 'sigmoid'\n",
    "train_sigmoid_scores = []\n",
    "test_sigmoid_scores = []\n",
    "\n",
    "for c in range(1,11,2):\n",
    "    clf_sigmoid = svm.SVC(C=c*0.01, kernel='sigmoid')\n",
    "    clf_sigmoid.fit(X_train_selected_t1_norm,y_train_t1_value)\n",
    "    train_sigmoid_scores.append(clf_sigmoid.score(X_train_selected_t1_norm,y_train_t1_value))\n",
    "    test_sigmoid_scores.append(clf_sigmoid.score(X_valid_selected_t1_norm,y_valid_t1_value))\n",
    "\n"
   ]
  },
  {
   "cell_type": "code",
   "execution_count": null,
   "id": "f420bb43",
   "metadata": {},
   "outputs": [],
   "source": [
    "plt.plot(train_sigmoid_scores, 'bo--')\n",
    "plt.plot(test_sigmoid_scores, 'bo-')\n",
    "plt.legend([\"sigmoid training score\", \"sigmoid valid score\"])\n",
    "plt.axis([0.01, 0.11, 0.92, 0.94])\n",
    "plt.axvline(np.argmax(train_sigmoid_scores), linestyle=\"dotted\", color=\"red\")\n",
    "plt.annotate(np.max(test_sigmoid_scores).round(4), (np.argmax(test_sigmoid_scores), np.max(test_sigmoid_scores)), xycoords=\"data\",\n",
    "                 xytext=(40, 20), textcoords=\"offset pixels\", arrowprops=dict(facecolor=\"black\", shrink=0.1), fontsize=10,\n",
    "                 horizontalalignment=\"center\", verticalalignment=\"top\")\n",
    "plt.show()"
   ]
  },
  {
   "cell_type": "code",
   "execution_count": null,
   "id": "22f072bb",
   "metadata": {},
   "outputs": [],
   "source": [
    "clf_sigmoid = svm.SVC(C=0.01, kernel='sigmoid',probability=True)\n",
    "clf_sigmoid.fit(X_train_selected_t1_norm,y_train_t1_value)\n",
    "y_valid_score = clf_sigmoid.decision_function(X_valid_selected_t1_norm)\n",
    "\n",
    "\n",
    "# compute ROC curve and AUC for each learning rate\n",
    "fpr, tpr, thresholds = roc_curve(y_valid_t1_value,y_valid_score)\n",
    "roc_auc = auc(fpr, tpr)\n",
    "\n",
    "# plot the graph of ROC curve\n",
    "sns.set_theme(style=\"whitegrid\")\n",
    "\n",
    "plt.plot(fpr, tpr, color='darkorange', lw=2, label='ROC curve (area = %0.2f)' % roc_auc)\n",
    "plt.plot([0, 1], [0, 1], color='navy', lw=2, linestyle='--')\n",
    "plt.xlim([0.0, 1.0])\n",
    "plt.ylim([0.0, 1.05])\n",
    "plt.xlabel('False Positive Rate')\n",
    "plt.ylabel('True Positive Rate')\n",
    "plt.title('ROC Curve')\n",
    "plt.legend(loc=\"lower right\")"
   ]
  }
 ],
 "metadata": {
  "kernelspec": {
   "display_name": "Python 3 (ipykernel)",
   "language": "python",
   "name": "python3"
  },
  "language_info": {
   "codemirror_mode": {
    "name": "ipython",
    "version": 3
   },
   "file_extension": ".py",
   "mimetype": "text/x-python",
   "name": "python",
   "nbconvert_exporter": "python",
   "pygments_lexer": "ipython3",
   "version": "3.9.7"
  }
 },
 "nbformat": 4,
 "nbformat_minor": 5
}
