{
 "cells": [
  {
   "cell_type": "markdown",
   "id": "a5bd3ed2",
   "metadata": {
    "ExecuteTime": {
     "end_time": "2022-10-25T14:31:30.264761Z",
     "start_time": "2022-10-25T14:31:30.261019Z"
    }
   },
   "source": [
    "# Libraries"
   ]
  },
  {
   "cell_type": "code",
   "execution_count": 2,
   "id": "e6cbcd60",
   "metadata": {
    "ExecuteTime": {
     "end_time": "2022-10-25T14:31:40.461218Z",
     "start_time": "2022-10-25T14:31:40.222359Z"
    }
   },
   "outputs": [],
   "source": [
    "import numpy as np\n",
    "import pandas as pd"
   ]
  },
  {
   "cell_type": "code",
   "execution_count": 5,
   "id": "7237a25e",
   "metadata": {
    "ExecuteTime": {
     "end_time": "2022-10-25T14:36:15.689238Z",
     "start_time": "2022-10-25T14:35:58.459815Z"
    }
   },
   "outputs": [],
   "source": [
    "# For training the model\n",
    "X_train = pd.read_csv(\"../X/X_train.csv\", index_col=[0], header=[0, 1, 2])"
   ]
  },
  {
   "cell_type": "code",
   "execution_count": 3,
   "id": "f8f37436",
   "metadata": {
    "ExecuteTime": {
     "end_time": "2022-10-25T14:32:42.250754Z",
     "start_time": "2022-10-25T14:32:39.727567Z"
    },
    "scrolled": false
   },
   "outputs": [],
   "source": [
    "# For cross validation\n",
    "X_valid = pd.read_csv(\"../X/X_valid.csv\", index_col=[0], header=[0, 1, 2])"
   ]
  },
  {
   "cell_type": "code",
   "execution_count": 4,
   "id": "e57e3860",
   "metadata": {
    "ExecuteTime": {
     "end_time": "2022-10-25T14:35:24.929151Z",
     "start_time": "2022-10-25T14:35:19.977037Z"
    }
   },
   "outputs": [],
   "source": [
    "# For prediction\n",
    "X_test = pd.read_csv(\"../X/X_test.csv\", index_col=[0], header=[0, 1, 2])"
   ]
  },
  {
   "cell_type": "markdown",
   "id": "b44e7a9e",
   "metadata": {},
   "source": [
    "# Data Pre-processing"
   ]
  },
  {
   "cell_type": "markdown",
   "id": "e9201ff4",
   "metadata": {},
   "source": [
    "## Dealing with N/A data"
   ]
  },
  {
   "cell_type": "markdown",
   "id": "f0c44f14",
   "metadata": {},
   "source": [
    "X_train.isna().sum()"
   ]
  },
  {
   "cell_type": "markdown",
   "id": "4b108640",
   "metadata": {},
   "source": []
  },
  {
   "cell_type": "markdown",
   "id": "35088a08",
   "metadata": {
    "ExecuteTime": {
     "end_time": "2022-10-25T14:36:30.344475Z",
     "start_time": "2022-10-25T14:36:30.341456Z"
    }
   },
   "source": [
    "# Export processed data when done"
   ]
  },
  {
   "cell_type": "code",
   "execution_count": 8,
   "id": "2fc2e8b3",
   "metadata": {
    "ExecuteTime": {
     "end_time": "2022-10-24T00:54:01.813974Z",
     "start_time": "2022-10-24T00:46:09.975441Z"
    }
   },
   "outputs": [],
   "source": [
    "import openpyxl\n",
    "X_valid.to_excel('Xvalid.xlsx', sheet_name='new_sheet_name')"
   ]
  }
 ],
 "metadata": {
  "kernelspec": {
   "display_name": "comp3340",
   "language": "python",
   "name": "comp3340"
  },
  "language_info": {
   "codemirror_mode": {
    "name": "ipython",
    "version": 3
   },
   "file_extension": ".py",
   "mimetype": "text/x-python",
   "name": "python",
   "nbconvert_exporter": "python",
   "pygments_lexer": "ipython3",
   "version": "3.7.13"
  },
  "toc": {
   "base_numbering": 1,
   "nav_menu": {},
   "number_sections": true,
   "sideBar": true,
   "skip_h1_title": false,
   "title_cell": "Table of Contents",
   "title_sidebar": "Contents",
   "toc_cell": false,
   "toc_position": {},
   "toc_section_display": true,
   "toc_window_display": false
  }
 },
 "nbformat": 4,
 "nbformat_minor": 5
}
