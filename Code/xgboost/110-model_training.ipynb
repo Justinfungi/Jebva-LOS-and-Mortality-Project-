{
 "cells": [
  {
   "cell_type": "code",
   "execution_count": 20,
   "metadata": {},
   "outputs": [],
   "source": [
    "import xgboost as xgb   # model training\n",
    "import pickle           # save model"
   ]
  },
  {
   "cell_type": "code",
   "execution_count": 23,
   "metadata": {},
   "outputs": [],
   "source": [
    "%run 101-data_preprocessing.py"
   ]
  },
  {
   "cell_type": "code",
   "execution_count": null,
   "metadata": {},
   "outputs": [],
   "source": [
    "learning_rate_list = [0.01, 0.02, 0.03, 0.04, 0.05, 0.06, 0.07, 0.08, 0.09, \n",
    "                      0.1, 0.2, 0.3, 0.4, 0.5, 0.6, 0.7, 0.8, 0.9, 1.0]\n",
    "n_estimators = 100\n",
    "\n",
    "X_train = X_train.values\n",
    "y_train_t1 = y_train_t1.value"
   ]
  },
  {
   "cell_type": "code",
   "execution_count": 27,
   "metadata": {},
   "outputs": [
    {
     "name": "stdout",
     "output_type": "stream",
     "text": [
      "Finished training model with learning rate: 0.01\n",
      "Finished training model with learning rate: 0.02\n",
      "Finished training model with learning rate: 0.03\n",
      "Finished training model with learning rate: 0.04\n",
      "Finished training model with learning rate: 0.05\n",
      "Finished training model with learning rate: 0.06\n",
      "Finished training model with learning rate: 0.07\n",
      "Finished training model with learning rate: 0.08\n",
      "Finished training model with learning rate: 0.09\n",
      "Finished training model with learning rate: 0.1\n",
      "Finished training model with learning rate: 0.2\n",
      "Finished training model with learning rate: 0.3\n",
      "Finished training model with learning rate: 0.4\n",
      "Finished training model with learning rate: 0.5\n",
      "Finished training model with learning rate: 0.6\n",
      "Finished training model with learning rate: 0.7\n",
      "Finished training model with learning rate: 0.8\n",
      "Finished training model with learning rate: 0.9\n",
      "Finished training model with learning rate: 1.0\n"
     ]
    }
   ],
   "source": [
    "# train the xgboost model with different learning rate\n",
    "for learning_rate in learning_rate_list:\n",
    "    xgboostModel = xgb.XGBClassifier(n_estimators=n_estimators, learning_rate=learning_rate)\n",
    "    xgboostModel.fit(X_train, y_train_t1)\n",
    "    \n",
    "    print(\"Finished training model with learning rate:\", learning_rate)\n",
    "    pickle.dump(xgboostModel, open(os.path.join(path_y_t1, f\"t1-xgboostModel-{learning_rate}.pickle.dat\"), \"wb\")) # save the trained model by pickel"
   ]
  },
  {
   "cell_type": "code",
   "execution_count": null,
   "metadata": {},
   "outputs": [],
   "source": []
  }
 ],
 "metadata": {
  "kernelspec": {
   "display_name": "Python 3.10.4 ('venv': venv)",
   "language": "python",
   "name": "python3"
  },
  "language_info": {
   "codemirror_mode": {
    "name": "ipython",
    "version": 3
   },
   "file_extension": ".py",
   "mimetype": "text/x-python",
   "name": "python",
   "nbconvert_exporter": "python",
   "pygments_lexer": "ipython3",
   "version": "3.10.4"
  },
  "orig_nbformat": 4,
  "vscode": {
   "interpreter": {
    "hash": "c8f43a7909c1c004417d38a2aae4808776198692c948156b64ab6dfc08b2a350"
   }
  }
 },
 "nbformat": 4,
 "nbformat_minor": 2
}
