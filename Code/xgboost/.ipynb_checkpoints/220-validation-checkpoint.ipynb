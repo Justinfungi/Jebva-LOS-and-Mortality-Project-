{
 "cells": [
  {
   "cell_type": "code",
   "execution_count": 17,
   "metadata": {},
   "outputs": [],
   "source": [
    "import pickle\n",
    "import numpy as np\n",
    "import pandas as pd\n",
    "import matplotlib.pyplot as plt\n",
    "import seaborn as sns\n",
    "\n",
    "%matplotlib inline"
   ]
  },
  {
   "cell_type": "code",
   "execution_count": 2,
   "metadata": {},
   "outputs": [],
   "source": [
    "%run 201-data_preprocessing.py"
   ]
  },
  {
   "cell_type": "code",
   "execution_count": 18,
   "metadata": {},
   "outputs": [],
   "source": [
    "# load the model from disk\n",
    "modelXGB_001 = pickle.load(open(os.path.join(path_y_t2, 't2-xgboostModel-0.01.pickle.dat'), 'rb'))\n",
    "modelXGB_002 = pickle.load(open(os.path.join(path_y_t2, 't2-xgboostModel-0.02.pickle.dat'), 'rb'))\n",
    "modelXGB_003 = pickle.load(open(os.path.join(path_y_t2, 't2-xgboostModel-0.03.pickle.dat'), 'rb'))\n",
    "modelXGB_004 = pickle.load(open(os.path.join(path_y_t2, 't2-xgboostModel-0.04.pickle.dat'), 'rb'))\n",
    "modelXGB_005 = pickle.load(open(os.path.join(path_y_t2, 't2-xgboostModel-0.05.pickle.dat'), 'rb'))\n",
    "modelXGB_006 = pickle.load(open(os.path.join(path_y_t2, 't2-xgboostModel-0.06.pickle.dat'), 'rb'))\n",
    "modelXGB_007 = pickle.load(open(os.path.join(path_y_t2, 't2-xgboostModel-0.07.pickle.dat'), 'rb'))\n",
    "modelXGB_008 = pickle.load(open(os.path.join(path_y_t2, 't2-xgboostModel-0.08.pickle.dat'), 'rb'))\n",
    "modelXGB_009 = pickle.load(open(os.path.join(path_y_t2, 't2-xgboostModel-0.09.pickle.dat'), 'rb'))\n",
    "modelXGB_01 = pickle.load(open(os.path.join(path_y_t2, 't2-xgboostModel-0.1.pickle.dat'), 'rb'))\n",
    "modelXGB_02 = pickle.load(open(os.path.join(path_y_t2, 't2-xgboostModel-0.2.pickle.dat'), 'rb'))\n",
    "modelXGB_03 = pickle.load(open(os.path.join(path_y_t2, 't2-xgboostModel-0.3.pickle.dat'), 'rb'))\n",
    "modelXGB_04 = pickle.load(open(os.path.join(path_y_t2, 't2-xgboostModel-0.4.pickle.dat'), 'rb'))\n",
    "modelXGB_05 = pickle.load(open(os.path.join(path_y_t2, 't2-xgboostModel-0.5.pickle.dat'), 'rb'))\n",
    "modelXGB_06 = pickle.load(open(os.path.join(path_y_t2, 't2-xgboostModel-0.6.pickle.dat'), 'rb'))\n",
    "modelXGB_07 = pickle.load(open(os.path.join(path_y_t2, 't2-xgboostModel-0.7.pickle.dat'), 'rb'))\n",
    "modelXGB_08 = pickle.load(open(os.path.join(path_y_t2, 't2-xgboostModel-0.8.pickle.dat'), 'rb'))\n",
    "modelXGB_09 = pickle.load(open(os.path.join(path_y_t2, 't2-xgboostModel-0.9.pickle.dat'), 'rb'))\n",
    "modelXGB_1 = pickle.load(open(os.path.join(path_y_t2, 't2-xgboostModel-1.0.pickle.dat'), 'rb'))"
   ]
  },
  {
   "cell_type": "code",
   "execution_count": 19,
   "metadata": {},
   "outputs": [],
   "source": [
    "modelXGB_list = [modelXGB_001, modelXGB_002, modelXGB_003, modelXGB_004, modelXGB_005, \n",
    "                 modelXGB_006, modelXGB_007, modelXGB_008, modelXGB_009,\n",
    "                 modelXGB_01, modelXGB_02, modelXGB_03, modelXGB_04, modelXGB_05, \n",
    "                 modelXGB_06, modelXGB_07, modelXGB_08, modelXGB_09, modelXGB_1]\n",
    "learning_rate_list = [0.01, 0.02, 0.03, 0.04, 0.05, \n",
    "                      0.06, 0.07, 0.08, 0.09, \n",
    "                      0.1, 0.2, 0.3, 0.4, 0.5, \n",
    "                      0.6, 0.7, 0.8, 0.9, 1.0]"
   ]
  },
  {
   "cell_type": "code",
   "execution_count": 20,
   "metadata": {},
   "outputs": [],
   "source": [
    "from sklearn.metrics import mean_squared_error, r2_score\n",
    "\n",
    "mse_list = []\n",
    "r2_list = []\n",
    "\n",
    "for modelXGB in modelXGB_list:\n",
    "    # compute the mse and r-squared\n",
    "    y_pred = modelXGB.predict(X_valid)\n",
    "    mse_list.append(mean_squared_error(y_valid_t2, y_pred))\n",
    "    r2_list.append(r2_score(y_valid_t2, y_pred))"
   ]
  },
  {
   "cell_type": "code",
   "execution_count": 38,
   "metadata": {},
   "outputs": [
    {
     "data": {
      "text/plain": [
       "[4.496565614631865,\n",
       " 3.400211799878246,\n",
       " 3.2266993200694287,\n",
       " 3.1757175502866035,\n",
       " 3.1644983342944624,\n",
       " 3.1535540781691322,\n",
       " 3.167974336024291,\n",
       " 3.173262239177776,\n",
       " 3.1622142784755867,\n",
       " 3.2048431969352946,\n",
       " 3.3066709727483907,\n",
       " 3.336040633586175,\n",
       " 3.5610641906543563,\n",
       " 3.6807151647255503,\n",
       " 3.843797071691065,\n",
       " 4.19298460609113,\n",
       " 4.609238151521405,\n",
       " 4.858264172891017,\n",
       " 5.31689635309299]"
      ]
     },
     "execution_count": 38,
     "metadata": {},
     "output_type": "execute_result"
    }
   ],
   "source": [
    "mse_list"
   ]
  },
  {
   "cell_type": "code",
   "execution_count": 43,
   "metadata": {},
   "outputs": [
    {
     "name": "stdout",
     "output_type": "stream",
     "text": [
      "5: 5.31689635309299\n",
      "5: 0.20709593942119897\n"
     ]
    }
   ],
   "source": [
    "# find the index of the max mse\n",
    "print(np.argmin(mse_list), max(mse_list), sep=': ')\n",
    "print(np.argmax(r2_list), max(r2_list), sep=': ')"
   ]
  },
  {
   "cell_type": "code",
   "execution_count": 32,
   "metadata": {},
   "outputs": [
    {
     "data": {
      "text/plain": [
       "Text(0, 0.5, 'r-squared')"
      ]
     },
     "execution_count": 32,
     "metadata": {},
     "output_type": "execute_result"
    },
    {
     "data": {
      "image/png": "[encoded data removed]",
      "text/plain": [
       "<Figure size 1080x360 with 2 Axes>"
      ]
     },
     "metadata": {},
     "output_type": "display_data"
    }
   ],
   "source": [
    "# plot the graph of mse and r-squared\n",
    "sns.set_style('whitegrid')\n",
    "fig, (ax1, ax2) = plt.subplots(1, 2, figsize=(15, 5))\n",
    "ax1.plot(learning_rate_list, mse_list)\n",
    "# for i, txt in enumerate(mse_list):\n",
    "#     ax1.annotate(np.around(txt, 2), (learning_rate_list[i], mse_list[i]))\n",
    "ax1.set_xlabel('learning rate')\n",
    "ax1.set_ylabel('mse')\n",
    "\n",
    "ax2.plot(learning_rate_list, r2_list)\n",
    "# for i, txt in enumerate(r2_list):\n",
    "#     ax2.annotate(np.around(txt, 2), (learning_rate_list[i], r2_list[i]))\n",
    "ax2.set_xlabel('learning rate')\n",
    "ax2.set_ylabel('r-squared')"
   ]
  },
  {
   "cell_type": "code",
   "execution_count": 44,
   "metadata": {},
   "outputs": [],
   "source": [
    "# hence, model with learning rate of 0.05 is performance the best\n",
    "y_pred = modelXGB_005.predict(X_valid)"
   ]
  },
  {
   "cell_type": "code",
   "execution_count": null,
   "metadata": {},
   "outputs": [],
   "source": []
  }
 ],
 "metadata": {
  "kernelspec": {
   "display_name": "Python 3 (ipykernel)",
   "language": "python",
   "name": "python3"
  },
  "language_info": {
   "codemirror_mode": {
    "name": "ipython",
    "version": 3
   },
   "file_extension": ".py",
   "mimetype": "text/x-python",
   "name": "python",
   "nbconvert_exporter": "python",
   "pygments_lexer": "ipython3",
   "version": "3.9.7"
  },
  "vscode": {
   "interpreter": {
    "hash": "c8f43a7909c1c004417d38a2aae4808776198692c948156b64ab6dfc08b2a350"
   }
  }
 },
 "nbformat": 4,
 "nbformat_minor": 2
}
