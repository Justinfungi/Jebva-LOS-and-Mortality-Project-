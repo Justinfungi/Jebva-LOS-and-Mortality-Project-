{
 "cells": [
  {
   "cell_type": "code",
   "execution_count": 7,
   "metadata": {},
   "outputs": [],
   "source": [
    "import pandas as pd\n",
    "import os\n",
    "import numpy as np \n",
    "import xgboost as xgb   # model training\n",
    "import pickle           # save model"
   ]
  },
  {
   "cell_type": "code",
   "execution_count": 8,
   "metadata": {},
   "outputs": [],
   "source": [
    "%run 201-data_preprocessing.py"
   ]
  },
  {
   "cell_type": "code",
   "execution_count": 9,
   "metadata": {},
   "outputs": [],
   "source": [
    "learning_rate_list = [0.01, 0.05, 0.1, 0.2, 0.3, 0.4, 0.5]\n",
    "n_estimators = 100\n",
    "\n",
    "X_train = X_train.values\n",
    "y_train_t2 = y_train_t2.values"
   ]
  },
  {
   "cell_type": "code",
   "execution_count": 10,
   "metadata": {},
   "outputs": [
    {
     "name": "stdout",
     "output_type": "stream",
     "text": [
      "Finished training model with learning rate: 0.01\n",
      "Finished training model with learning rate: 0.05\n",
      "Finished training model with learning rate: 0.1\n",
      "Finished training model with learning rate: 0.2\n",
      "Finished training model with learning rate: 0.3\n",
      "Finished training model with learning rate: 0.4\n",
      "Finished training model with learning rate: 0.5\n"
     ]
    }
   ],
   "source": [
    "# train the xgboost model with different learning rate\n",
    "for learning_rate in learning_rate_list:\n",
    "    xgboostModel = xgb.XGBRegressor(n_estimators=n_estimators, learning_rate=learning_rate)\n",
    "    xgboostModel.fit(X_train, y_train_t2)\n",
    "    \n",
    "    print(\"Finished training model with learning rate:\", learning_rate)\n",
    "    pickle.dump(xgboostModel, open(os.path.join(path_y_t2, f\"t2-xgboostModel-{learning_rate}.pickle.dat\"), \"wb\")) # save the trained model by pickel"
   ]
  },
  {
   "cell_type": "code",
   "execution_count": null,
   "metadata": {},
   "outputs": [],
   "source": []
  }
 ],
 "metadata": {
  "kernelspec": {
   "display_name": "Python 3.10.4 ('venv': venv)",
   "language": "python",
   "name": "python3"
  },
  "language_info": {
   "codemirror_mode": {
    "name": "ipython",
    "version": 3
   },
   "file_extension": ".py",
   "mimetype": "text/x-python",
   "name": "python",
   "nbconvert_exporter": "python",
   "pygments_lexer": "ipython3",
   "version": "3.10.4"
  },
  "orig_nbformat": 4,
  "vscode": {
   "interpreter": {
    "hash": "c8f43a7909c1c004417d38a2aae4808776198692c948156b64ab6dfc08b2a350"
   }
  }
 },
 "nbformat": 4,
 "nbformat_minor": 2
}
