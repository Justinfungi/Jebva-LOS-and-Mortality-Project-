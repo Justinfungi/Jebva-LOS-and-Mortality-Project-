{
 "cells": [
  {
   "cell_type": "code",
   "execution_count": 10,
   "metadata": {},
   "outputs": [
    {
     "name": "stdout",
     "output_type": "stream",
     "text": [
      "Requirement already satisfied: nbformat in c:\\users\\gcq20\\appdata\\local\\programs\\python\\python37\\lib\\site-packages (5.7.0)Note: you may need to restart the kernel to use updated packages.\n"
     ]
    },
    {
     "name": "stderr",
     "output_type": "stream",
     "text": [
      "WARNING: You are using pip version 19.2.3, however version 22.3.1 is available.\n",
      "You should consider upgrading via the 'python -m pip install --upgrade pip' command.\n"
     ]
    },
    {
     "name": "stdout",
     "output_type": "stream",
     "text": [
      "\n",
      "Requirement already satisfied: matplotlib in c:\\users\\gcq20\\appdata\\local\\programs\\python\\python37\\lib\\site-packages (3.5.3)\n",
      "Requirement already satisfied: fastjsonschema in c:\\users\\gcq20\\appdata\\local\\programs\\python\\python37\\lib\\site-packages (from nbformat) (2.16.2)\n",
      "Requirement already satisfied: importlib-metadata>=3.6; python_version < \"3.8\" in c:\\users\\gcq20\\appdata\\local\\programs\\python\\python37\\lib\\site-packages (from nbformat) (5.0.0)\n",
      "Requirement already satisfied: jupyter-core in c:\\users\\gcq20\\appdata\\roaming\\python\\python37\\site-packages (from nbformat) (4.11.2)\n",
      "Requirement already satisfied: jsonschema>=2.6 in c:\\users\\gcq20\\appdata\\local\\programs\\python\\python37\\lib\\site-packages (from nbformat) (4.17.0)\n",
      "Requirement already satisfied: traitlets>=5.1 in c:\\users\\gcq20\\appdata\\roaming\\python\\python37\\site-packages (from nbformat) (5.5.0)\n",
      "Requirement already satisfied: cycler>=0.10 in c:\\users\\gcq20\\appdata\\local\\programs\\python\\python37\\lib\\site-packages (from matplotlib) (0.11.0)\n",
      "Requirement already satisfied: numpy>=1.17 in c:\\users\\gcq20\\appdata\\local\\programs\\python\\python37\\lib\\site-packages (from matplotlib) (1.21.6)\n",
      "Requirement already satisfied: python-dateutil>=2.7 in c:\\users\\gcq20\\appdata\\roaming\\python\\python37\\site-packages (from matplotlib) (2.8.2)\n",
      "Requirement already satisfied: packaging>=20.0 in c:\\users\\gcq20\\appdata\\roaming\\python\\python37\\site-packages (from matplotlib) (21.3)\n",
      "Requirement already satisfied: fonttools>=4.22.0 in c:\\users\\gcq20\\appdata\\local\\programs\\python\\python37\\lib\\site-packages (from matplotlib) (4.38.0)\n",
      "Requirement already satisfied: kiwisolver>=1.0.1 in c:\\users\\gcq20\\appdata\\local\\programs\\python\\python37\\lib\\site-packages (from matplotlib) (1.4.4)\n",
      "Requirement already satisfied: pillow>=6.2.0 in c:\\users\\gcq20\\appdata\\local\\programs\\python\\python37\\lib\\site-packages (from matplotlib) (9.3.0)\n",
      "Requirement already satisfied: pyparsing>=2.2.1 in c:\\users\\gcq20\\appdata\\roaming\\python\\python37\\site-packages (from matplotlib) (3.0.9)\n",
      "Requirement already satisfied: typing-extensions>=3.6.4; python_version < \"3.8\" in c:\\users\\gcq20\\appdata\\local\\programs\\python\\python37\\lib\\site-packages (from importlib-metadata>=3.6; python_version < \"3.8\"->nbformat) (4.4.0)\n",
      "Requirement already satisfied: zipp>=0.5 in c:\\users\\gcq20\\appdata\\local\\programs\\python\\python37\\lib\\site-packages (from importlib-metadata>=3.6; python_version < \"3.8\"->nbformat) (3.10.0)\n",
      "Requirement already satisfied: pywin32>=1.0; sys_platform == \"win32\" and platform_python_implementation != \"PyPy\" in c:\\users\\gcq20\\appdata\\roaming\\python\\python37\\site-packages (from jupyter-core->nbformat) (304)\n",
      "Requirement already satisfied: importlib-resources>=1.4.0; python_version < \"3.9\" in c:\\users\\gcq20\\appdata\\local\\programs\\python\\python37\\lib\\site-packages (from jsonschema>=2.6->nbformat) (5.10.0)\n",
      "Requirement already satisfied: pkgutil-resolve-name>=1.3.10; python_version < \"3.9\" in c:\\users\\gcq20\\appdata\\local\\programs\\python\\python37\\lib\\site-packages (from jsonschema>=2.6->nbformat) (1.3.10)\n",
      "Requirement already satisfied: attrs>=17.4.0 in c:\\users\\gcq20\\appdata\\local\\programs\\python\\python37\\lib\\site-packages (from jsonschema>=2.6->nbformat) (22.1.0)\n",
      "Requirement already satisfied: pyrsistent!=0.17.0,!=0.17.1,!=0.17.2,>=0.14.0 in c:\\users\\gcq20\\appdata\\local\\programs\\python\\python37\\lib\\site-packages (from jsonschema>=2.6->nbformat) (0.19.2)\n",
      "Requirement already satisfied: six>=1.5 in c:\\users\\gcq20\\appdata\\roaming\\python\\python37\\site-packages (from python-dateutil>=2.7->matplotlib) (1.16.0)\n"
     ]
    }
   ],
   "source": [
    "pip install nbformat matplotlib"
   ]
  },
  {
   "cell_type": "code",
   "execution_count": 11,
   "metadata": {},
   "outputs": [
    {
     "name": "stdout",
     "output_type": "stream",
     "text": [
      "************************************************************\n",
      "There are 3 set of X\n",
      "X_train_mean, X_valid_mean, X_test_mean\n",
      "------------------------------------------------------------\n",
      "Normalized version\n",
      "X_train_norm, X_valid_norm, X_test_norm\n",
      "------------------------------------------------------------\n",
      "There are 4 set of Y\n",
      "y_train_t1, y_train_t2, y_valid_t1, y_valid_t2\n",
      "************************************************************\n"
     ]
    }
   ],
   "source": [
    "%run Data_preprocessing.ipynb"
   ]
  },
  {
   "cell_type": "code",
   "execution_count": 12,
   "metadata": {},
   "outputs": [],
   "source": [
    "import numpy as np\n",
    "import pandas as pd\n",
    "from sklearn.linear_model import Ridge, Lasso, ElasticNet\n",
    "from sklearn.metrics import mean_squared_error,r2_score\n",
    "from sklearn.model_selection import train_test_split, cross_val_score\n",
    "from sklearn import model_selection\n",
    "import matplotlib.pyplot as plt\n",
    "from sklearn.linear_model import RidgeCV, LassoCV,ElasticNetCV\n",
    "from sklearn import metrics"
   ]
  },
  {
   "cell_type": "markdown",
   "metadata": {},
   "source": [
    "## Task 1\n"
   ]
  },
  {
   "cell_type": "code",
   "execution_count": 15,
   "metadata": {},
   "outputs": [
    {
     "name": "stderr",
     "output_type": "stream",
     "text": [
      "c:\\Users\\gcq20\\AppData\\Local\\Programs\\Python\\Python37\\lib\\site-packages\\sklearn\\utils\\validation.py:1692: FutureWarning: Feature names only support names that are all strings. Got feature names with dtypes: ['tuple']. An error will be raised in 1.2.\n",
      "  FutureWarning,\n"
     ]
    },
    {
     "name": "stdout",
     "output_type": "stream",
     "text": [
      "MSE: 3.521127794738723e+32\n",
      "RMSE: 1.8764668381665376e+16\n",
      "R2: 0.10380762317313919\n"
     ]
    },
    {
     "name": "stderr",
     "output_type": "stream",
     "text": [
      "c:\\Users\\gcq20\\AppData\\Local\\Programs\\Python\\Python37\\lib\\site-packages\\sklearn\\linear_model\\_coordinate_descent.py:648: ConvergenceWarning: Objective did not converge. You might want to increase the number of iterations, check the scale of the features or consider increasing regularisation. Duality gap: 2.202e+36, tolerance: 1.434e+33\n",
      "  coef_, l1_reg, l2_reg, X, y, max_iter, tol, rng, random, positive\n",
      "c:\\Users\\gcq20\\AppData\\Local\\Programs\\Python\\Python37\\lib\\site-packages\\sklearn\\utils\\validation.py:1692: FutureWarning: Feature names only support names that are all strings. Got feature names with dtypes: ['tuple']. An error will be raised in 1.2.\n",
      "  FutureWarning,\n"
     ]
    }
   ],
   "source": [
    "enet_model = ElasticNet().fit(X_train_mean, y_train_t1)\n",
    "#print(enet_model.coef_)\n",
    "#print(enet_model.intercept_)\n",
    "\n",
    "y_pred_1 = enet_model.predict(X_valid_mean)\n",
    "MSE=mean_squared_error(y_valid_t1,y_pred_1)\n",
    "print(\"MSE:\", MSE)\n",
    "print(\"RMSE:\", np.sqrt(MSE))\n",
    "print(\"R2:\", r2_score(y_valid_t1,y_pred_1))"
   ]
  },
  {
   "cell_type": "markdown",
   "metadata": {},
   "source": [
    "Normalized"
   ]
  },
  {
   "cell_type": "code",
   "execution_count": 16,
   "metadata": {},
   "outputs": [
    {
     "name": "stdout",
     "output_type": "stream",
     "text": [
      "MSE: 3.233267536162632e+32\n",
      "RMSE: 1.798128898650659e+16\n",
      "R2: 0.13613392004385955\n"
     ]
    },
    {
     "name": "stderr",
     "output_type": "stream",
     "text": [
      "c:\\Users\\gcq20\\AppData\\Local\\Programs\\Python\\Python37\\lib\\site-packages\\sklearn\\linear_model\\_coordinate_descent.py:648: ConvergenceWarning: Objective did not converge. You might want to increase the number of iterations, check the scale of the features or consider increasing regularisation. Duality gap: 3.933e+36, tolerance: 1.434e+33\n",
      "  coef_, l1_reg, l2_reg, X, y, max_iter, tol, rng, random, positive\n"
     ]
    }
   ],
   "source": [
    "enet_model = ElasticNet().fit(X_train_norm, y_train_t1)\n",
    "#print(enet_model.coef_)\n",
    "#print(enet_model.intercept_)\n",
    "\n",
    "y_pred_2 = enet_model.predict(X_valid_norm)\n",
    "MSE=mean_squared_error(y_valid_t1,y_pred_2)\n",
    "print(\"MSE:\", MSE)\n",
    "print(\"RMSE:\", np.sqrt(MSE))\n",
    "print(\"R2:\", r2_score(y_valid_t1,y_pred_2))"
   ]
  },
  {
   "cell_type": "markdown",
   "metadata": {},
   "source": [
    "## Task 2"
   ]
  },
  {
   "cell_type": "code",
   "execution_count": 17,
   "metadata": {},
   "outputs": [
    {
     "name": "stderr",
     "output_type": "stream",
     "text": [
      "c:\\Users\\gcq20\\AppData\\Local\\Programs\\Python\\Python37\\lib\\site-packages\\sklearn\\utils\\validation.py:1692: FutureWarning: Feature names only support names that are all strings. Got feature names with dtypes: ['tuple']. An error will be raised in 1.2.\n",
      "  FutureWarning,\n"
     ]
    },
    {
     "name": "stdout",
     "output_type": "stream",
     "text": [
      "MSE = 3.521127794738723e+32\n",
      "RMSE = 1.8764668381665376e+16\n",
      "R2 = 0.10456368064049937\n"
     ]
    },
    {
     "name": "stderr",
     "output_type": "stream",
     "text": [
      "c:\\Users\\gcq20\\AppData\\Local\\Programs\\Python\\Python37\\lib\\site-packages\\sklearn\\linear_model\\_coordinate_descent.py:648: ConvergenceWarning: Objective did not converge. You might want to increase the number of iterations, check the scale of the features or consider increasing regularisation. Duality gap: 2.202e+36, tolerance: 1.434e+33\n",
      "  coef_, l1_reg, l2_reg, X, y, max_iter, tol, rng, random, positive\n",
      "c:\\Users\\gcq20\\AppData\\Local\\Programs\\Python\\Python37\\lib\\site-packages\\sklearn\\utils\\validation.py:1692: FutureWarning: Feature names only support names that are all strings. Got feature names with dtypes: ['tuple']. An error will be raised in 1.2.\n",
      "  FutureWarning,\n"
     ]
    }
   ],
   "source": [
    "enet_model = ElasticNet().fit(X_train_mean, y_train_t2)\n",
    "#print(enet_model.coef_)\n",
    "#print(enet_model.intercept_)\n",
    "\n",
    "y_pred_3 = enet_model.predict(X_valid_mean)\n",
    "MSE=mean_squared_error(y_valid_t2,y_pred_3)\n",
    "print(\"MSE =\", MSE)\n",
    "print(\"RMSE =\", np.sqrt(MSE))\n",
    "print(\"R2 =\", r2_score(y_valid_t2,y_pred_3))"
   ]
  },
  {
   "cell_type": "markdown",
   "metadata": {},
   "source": [
    "Normalized"
   ]
  },
  {
   "cell_type": "code",
   "execution_count": 18,
   "metadata": {},
   "outputs": [
    {
     "name": "stdout",
     "output_type": "stream",
     "text": [
      "MSE = 3.233267536162632e+32\n",
      "RMSE = 1.798128898650659e+16\n",
      "R2 = 0.13688997751121973\n"
     ]
    },
    {
     "name": "stderr",
     "output_type": "stream",
     "text": [
      "c:\\Users\\gcq20\\AppData\\Local\\Programs\\Python\\Python37\\lib\\site-packages\\sklearn\\linear_model\\_coordinate_descent.py:648: ConvergenceWarning: Objective did not converge. You might want to increase the number of iterations, check the scale of the features or consider increasing regularisation. Duality gap: 3.933e+36, tolerance: 1.434e+33\n",
      "  coef_, l1_reg, l2_reg, X, y, max_iter, tol, rng, random, positive\n"
     ]
    }
   ],
   "source": [
    "enet_model = ElasticNet().fit(X_train_norm, y_train_t2)\n",
    "#print(enet_model.coef_)\n",
    "#print(enet_model.intercept_)\n",
    "\n",
    "y_pred_4 = enet_model.predict(X_valid_norm)\n",
    "MSE=mean_squared_error(y_valid_t2,y_pred_4)\n",
    "print(\"MSE =\", MSE)\n",
    "print(\"RMSE =\", np.sqrt(MSE))\n",
    "print(\"R2 =\", r2_score(y_valid_t2,y_pred_4))"
   ]
  }
 ],
 "metadata": {
  "kernelspec": {
   "display_name": "Python 3.7.7 64-bit",
   "language": "python",
   "name": "python3"
  },
  "language_info": {
   "codemirror_mode": {
    "name": "ipython",
    "version": 3
   },
   "file_extension": ".py",
   "mimetype": "text/x-python",
   "name": "python",
   "nbconvert_exporter": "python",
   "pygments_lexer": "ipython3",
   "version": "3.7.7"
  },
  "orig_nbformat": 4,
  "vscode": {
   "interpreter": {
    "hash": "529bcf6abcc3d23528523c7666d9f36040f112e2ca21b4e62324de75fcde4134"
   }
  }
 },
 "nbformat": 4,
 "nbformat_minor": 2
}
