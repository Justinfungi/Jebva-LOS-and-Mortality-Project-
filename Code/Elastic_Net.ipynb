{
 "cells": [
  {
   "cell_type": "code",
   "execution_count": 34,
   "metadata": {},
   "outputs": [
    {
     "name": "stdout",
     "output_type": "stream",
     "text": [
      "Requirement already satisfied: nbformat in c:\\users\\gcq20\\appdata\\local\\programs\\python\\python37\\lib\\site-packages (5.7.0)Note: you may need to restart the kernel to use updated packages.\n",
      "\n",
      "Requirement already satisfied: matplotlib in c:\\users\\gcq20\\appdata\\local\\programs\\python\\python37\\lib\\site-packages (3.5.3)\n",
      "Requirement already satisfied: jsonschema>=2.6 in c:\\users\\gcq20\\appdata\\local\\programs\\python\\python37\\lib\\site-packages (from nbformat) (4.17.0)\n",
      "Requirement already satisfied: jupyter-core in c:\\users\\gcq20\\appdata\\roaming\\python\\python37\\site-packages (from nbformat) (4.11.2)\n",
      "Requirement already satisfied: importlib-metadata>=3.6; python_version < \"3.8\" in c:\\users\\gcq20\\appdata\\local\\programs\\python\\python37\\lib\\site-packages (from nbformat) (5.0.0)\n",
      "Requirement already satisfied: traitlets>=5.1 in c:\\users\\gcq20\\appdata\\roaming\\python\\python37\\site-packages (from nbformat) (5.5.0)\n",
      "Requirement already satisfied: fastjsonschema in c:\\users\\gcq20\\appdata\\local\\programs\\python\\python37\\lib\\site-packages (from nbformat) (2.16.2)\n",
      "Requirement already satisfied: pillow>=6.2.0 in c:\\users\\gcq20\\appdata\\local\\programs\\python\\python37\\lib\\site-packages (from matplotlib) (9.3.0)\n",
      "Requirement already satisfied: python-dateutil>=2.7 in c:\\users\\gcq20\\appdata\\roaming\\python\\python37\\site-packages (from matplotlib) (2.8.2)\n",
      "Requirement already satisfied: cycler>=0.10 in c:\\users\\gcq20\\appdata\\local\\programs\\python\\python37\\lib\\site-packages (from matplotlib) (0.11.0)\n",
      "Requirement already satisfied: pyparsing>=2.2.1 in c:\\users\\gcq20\\appdata\\roaming\\python\\python37\\site-packages (from matplotlib) (3.0.9)\n",
      "Requirement already satisfied: packaging>=20.0 in c:\\users\\gcq20\\appdata\\roaming\\python\\python37\\site-packages (from matplotlib) (21.3)\n",
      "Requirement already satisfied: fonttools>=4.22.0 in c:\\users\\gcq20\\appdata\\local\\programs\\python\\python37\\lib\\site-packages (from matplotlib) (4.38.0)\n",
      "Requirement already satisfied: kiwisolver>=1.0.1 in c:\\users\\gcq20\\appdata\\local\\programs\\python\\python37\\lib\\site-packages (from matplotlib) (1.4.4)\n",
      "Requirement already satisfied: numpy>=1.17 in c:\\users\\gcq20\\appdata\\local\\programs\\python\\python37\\lib\\site-packages (from matplotlib) (1.21.6)\n",
      "Requirement already satisfied: pkgutil-resolve-name>=1.3.10; python_version < \"3.9\" in c:\\users\\gcq20\\appdata\\local\\programs\\python\\python37\\lib\\site-packages (from jsonschema>=2.6->nbformat) (1.3.10)\n",
      "Requirement already satisfied: typing-extensions; python_version < \"3.8\" in c:\\users\\gcq20\\appdata\\local\\programs\\python\\python37\\lib\\site-packages (from jsonschema>=2.6->nbformat) (4.4.0)\n",
      "Requirement already satisfied: importlib-resources>=1.4.0; python_version < \"3.9\" in c:\\users\\gcq20\\appdata\\local\\programs\\python\\python37\\lib\\site-packages (from jsonschema>=2.6->nbformat) (5.10.0)\n",
      "Requirement already satisfied: pyrsistent!=0.17.0,!=0.17.1,!=0.17.2,>=0.14.0 in c:\\users\\gcq20\\appdata\\local\\programs\\python\\python37\\lib\\site-packages (from jsonschema>=2.6->nbformat) (0.19.2)\n",
      "Requirement already satisfied: attrs>=17.4.0 in c:\\users\\gcq20\\appdata\\local\\programs\\python\\python37\\lib\\site-packages (from jsonschema>=2.6->nbformat) (22.1.0)\n",
      "Requirement already satisfied: pywin32>=1.0; sys_platform == \"win32\" and platform_python_implementation != \"PyPy\" in c:\\users\\gcq20\\appdata\\roaming\\python\\python37\\site-packages (from jupyter-core->nbformat) (304)\n",
      "Requirement already satisfied: zipp>=0.5 in c:\\users\\gcq20\\appdata\\local\\programs\\python\\python37\\lib\\site-packages (from importlib-metadata>=3.6; python_version < \"3.8\"->nbformat) (3.10.0)\n",
      "Requirement already satisfied: six>=1.5 in c:\\users\\gcq20\\appdata\\roaming\\python\\python37\\site-packages (from python-dateutil>=2.7->matplotlib) (1.16.0)\n"
     ]
    },
    {
     "name": "stderr",
     "output_type": "stream",
     "text": [
      "WARNING: You are using pip version 19.2.3, however version 22.3 is available.\n",
      "You should consider upgrading via the 'python -m pip install --upgrade pip' command.\n"
     ]
    }
   ],
   "source": [
    "pip install nbformat matplotlib"
   ]
  },
  {
   "cell_type": "code",
   "execution_count": 38,
   "metadata": {},
   "outputs": [
    {
     "name": "stdout",
     "output_type": "stream",
     "text": [
      "************************************************************\n",
      "There are 3 set of X\n",
      "X_train_mean, X_valid_mean, X_test_mean\n",
      "------------------------------------------------------------\n",
      "Normalized version\n",
      "X_train_norm, X_valid_norm, X_test_norm\n",
      "------------------------------------------------------------\n",
      "There are 4 set of Y\n",
      "y_train_t1, y_train_t2, y_valid_t1, y_valid_t2\n",
      "************************************************************\n"
     ]
    }
   ],
   "source": [
    "%run Data_preprocessing.ipynb"
   ]
  },
  {
   "cell_type": "code",
   "execution_count": 39,
   "metadata": {},
   "outputs": [
    {
     "name": "stdout",
     "output_type": "stream",
     "text": [
      "            0         1             2         3             4         5    \\\n",
      "0     -0.467274 -3.269616 -3.298809e-17 -0.000308 -7.205090e-19 -0.516323   \n",
      "1     -0.472515 -0.434872 -3.298809e-17 -0.000308 -7.205090e-19 -0.702852   \n",
      "2     -0.503966 -0.021802 -3.298809e-17 -0.000308 -7.205090e-19 -0.603370   \n",
      "3      0.156329 -0.021802 -3.298809e-17 -0.000308 -7.205090e-19  0.056287   \n",
      "4      0.156329 -0.021802 -3.298809e-17 -0.000308 -7.205090e-19  0.056287   \n",
      "...         ...       ...           ...       ...           ...       ...   \n",
      "16755  0.156329  1.691187 -3.298809e-17 -0.000308 -7.205090e-19  0.056287   \n",
      "16756  0.156329 -0.021802 -3.298809e-17 -0.000308 -7.205090e-19  0.056287   \n",
      "16757 -0.482999  1.691187 -3.298809e-17 -0.000308 -7.205090e-19 -0.479017   \n",
      "16758  0.156329 -0.021802 -3.298809e-17 -0.000308 -7.205090e-19  0.056287   \n",
      "16759 -0.441065 -0.021802 -3.298809e-17 -0.000308 -7.205090e-19 -0.317357   \n",
      "\n",
      "            6         7         8         9    ...       94        95   \\\n",
      "0      0.472435 -0.416013 -0.002152 -1.642616  ...  0.588699 -0.016474   \n",
      "1      1.964001 -0.487618 -1.167979 -1.404320  ...  0.027478 -0.016474   \n",
      "2     -0.124192 -0.532627  3.290917  0.502050  ...  1.656710 -0.016474   \n",
      "3      0.174121  0.170363 -0.002152  0.502050  ...  0.027478 -0.016474   \n",
      "4     -0.720819  0.170363 -0.002152  0.263754  ...  0.588699 -2.269709   \n",
      "...         ...       ...       ...       ...  ...       ...       ...   \n",
      "16755 -0.720819  0.170363  0.453437  0.263754  ...  0.027478 -0.016474   \n",
      "16756  0.174121  0.170363 -1.167979 -2.834097  ...  0.027478 -0.016474   \n",
      "16757 -0.124192 -0.506031 -0.002152  1.455235  ...  0.027478 -0.016474   \n",
      "16758 -1.019132  0.170363 -0.002152  0.502050  ...  0.027478 -0.016474   \n",
      "16759 -1.317445 -0.403738 -0.002152  1.931827  ... -1.013317 -0.704340   \n",
      "\n",
      "            96        97       98        99        100       101       102  \\\n",
      "0     -0.002072 -0.000466 -0.00083  0.023948  0.006276  1.248148  0.790475   \n",
      "1     -0.002072 -0.000466 -0.00083  0.023948  0.006276 -0.006506 -0.174239   \n",
      "2     -0.002072 -0.000466 -0.00083  0.023948  0.006276 -0.006506  0.190470   \n",
      "3     -0.002072 -0.000466 -0.00083  0.023948  0.006276 -0.006506  0.084586   \n",
      "4     -0.002072 -0.000466 -0.00083 -0.601420  0.006276 -0.006506 -0.503654   \n",
      "...         ...       ...      ...       ...       ...       ...       ...   \n",
      "16755 -0.002072 -0.000466 -0.00083 -0.697928  0.006276  0.708698 -0.150710   \n",
      "16756 -0.002072 -0.000466 -0.00083 -0.689154  0.006276  1.184190  0.566944   \n",
      "16757 -0.002072 -0.000466 -0.00083  0.023948  0.006276 -0.584767 -0.550713   \n",
      "16758 -0.002072 -0.000466 -0.00083  0.023948  0.006276  0.948804 -0.562478   \n",
      "16759 -0.002072 -0.000466 -0.00083 -0.697928  0.006276 -0.751201 -0.562478   \n",
      "\n",
      "            103  \n",
      "0      0.474539  \n",
      "1      0.001324  \n",
      "2      0.001324  \n",
      "3      0.001324  \n",
      "4      0.001324  \n",
      "...         ...  \n",
      "16755  0.001324  \n",
      "16756  0.001324  \n",
      "16757  0.001324  \n",
      "16758 -0.896721  \n",
      "16759  0.001324  \n",
      "\n",
      "[16760 rows x 104 columns]\n"
     ]
    }
   ],
   "source": [
    "print(X_train_norm)"
   ]
  },
  {
   "cell_type": "code",
   "execution_count": 40,
   "metadata": {},
   "outputs": [],
   "source": [
    "import numpy as np\n",
    "import pandas as pd\n",
    "from sklearn.linear_model import Ridge, Lasso, ElasticNet\n",
    "from sklearn.metrics import mean_squared_error,r2_score\n",
    "from sklearn.model_selection import train_test_split, cross_val_score\n",
    "from sklearn import model_selection\n",
    "import matplotlib.pyplot as plt\n",
    "from sklearn.linear_model import RidgeCV, LassoCV,ElasticNetCV"
   ]
  },
  {
   "cell_type": "code",
   "execution_count": 41,
   "metadata": {},
   "outputs": [
    {
     "name": "stdout",
     "output_type": "stream",
     "text": [
      "[[ 3.94950152e+13  1.02326363e+15 -2.61601692e+14 -2.45490990e+13\n",
      "   1.12607425e+14 -2.22970698e+14 -1.38419259e+15  2.26596252e+13\n",
      "   2.00433851e+14  1.04737551e+15  4.00137086e+13 -3.70671430e+14\n",
      "   8.85412486e+13 -2.82313870e+14 -1.64172058e+13 -5.34669886e+14\n",
      "  -4.75161676e+14  5.29419972e+14  7.80282168e+14 -6.28271092e+14\n",
      "  -4.51974109e+14 -4.31612654e+13 -2.42590926e+14  6.23921346e+13\n",
      "  -2.11415538e+15 -2.85601608e+14  1.31479480e+14 -1.63996128e+14\n",
      "   2.78901254e+14  2.47141430e+13  3.14524267e+14  2.58746301e+15\n",
      "   9.88720671e+13 -3.08193800e+14 -1.35099671e+15  1.88163488e+15\n",
      "  -3.27591167e+15  1.08016697e+14 -9.94269017e+13  1.01535876e+14\n",
      "   8.17371232e+13  1.83756594e+13 -1.31507607e+15  2.72344085e+14\n",
      "  -1.75270387e+13 -7.81117386e+14  3.16353034e+14 -3.91257719e+13\n",
      "  -2.34496144e+14 -1.33869266e+14 -2.18604353e+14 -1.10602822e+14\n",
      "   2.37148391e+14  8.46258546e+14 -2.27774563e+15 -2.81552359e+14\n",
      "  -1.60264584e+15  6.48274836e+14 -1.63319395e+14 -1.40052923e+14\n",
      "   3.37687800e+14 -7.10608988e+14 -1.78184081e+14  4.19823239e+15\n",
      "  -4.29883526e+14 -3.87858667e+15 -7.26690743e+13 -4.29606656e+14\n",
      "  -1.46299004e+14  4.98455242e+13  5.56584561e+14  5.67743596e+13\n",
      "   2.88298547e+14  5.69998656e+14  3.93676095e+13  7.05686738e+14\n",
      "  -1.03337333e+15 -1.03733786e+15  1.33518752e+15 -1.52311666e+14\n",
      "  -2.04773812e+14 -1.41789363e+14 -2.24434435e+14  2.26241433e+14\n",
      "  -1.07966743e+14 -1.36635494e+13 -6.35988792e+14  4.28815175e+14\n",
      "   8.72921050e+14 -5.93990675e+14  7.53044600e+13 -1.15720390e+14\n",
      "  -1.16199524e+15 -1.94346267e+15 -1.31121357e+15  7.45510900e+14\n",
      "  -9.66234513e+13  1.27003973e+14  1.40927743e+13 -9.82321110e+14\n",
      "   3.81619444e+13  6.03246953e+14 -6.03507759e+14 -4.30062667e+14]\n",
      " [ 0.00000000e+00 -0.00000000e+00 -0.00000000e+00 -0.00000000e+00\n",
      "  -0.00000000e+00  0.00000000e+00  0.00000000e+00  0.00000000e+00\n",
      "  -0.00000000e+00 -0.00000000e+00  0.00000000e+00  0.00000000e+00\n",
      "  -0.00000000e+00  0.00000000e+00 -0.00000000e+00 -0.00000000e+00\n",
      "  -0.00000000e+00 -0.00000000e+00  0.00000000e+00  0.00000000e+00\n",
      "  -0.00000000e+00 -0.00000000e+00 -0.00000000e+00 -0.00000000e+00\n",
      "  -0.00000000e+00 -0.00000000e+00  0.00000000e+00  0.00000000e+00\n",
      "  -0.00000000e+00  0.00000000e+00 -0.00000000e+00 -0.00000000e+00\n",
      "   0.00000000e+00  0.00000000e+00  0.00000000e+00  0.00000000e+00\n",
      "  -0.00000000e+00  0.00000000e+00  0.00000000e+00 -0.00000000e+00\n",
      "   0.00000000e+00 -0.00000000e+00  0.00000000e+00  0.00000000e+00\n",
      "  -0.00000000e+00  0.00000000e+00 -0.00000000e+00 -0.00000000e+00\n",
      "   0.00000000e+00 -0.00000000e+00 -0.00000000e+00 -0.00000000e+00\n",
      "   0.00000000e+00  0.00000000e+00 -0.00000000e+00  0.00000000e+00\n",
      "  -0.00000000e+00  0.00000000e+00  0.00000000e+00 -0.00000000e+00\n",
      "   0.00000000e+00 -0.00000000e+00 -0.00000000e+00 -0.00000000e+00\n",
      "   0.00000000e+00  0.00000000e+00 -0.00000000e+00 -0.00000000e+00\n",
      "   0.00000000e+00  0.00000000e+00  0.00000000e+00 -0.00000000e+00\n",
      "   0.00000000e+00  0.00000000e+00  0.00000000e+00  0.00000000e+00\n",
      "   0.00000000e+00  0.00000000e+00  0.00000000e+00  0.00000000e+00\n",
      "   0.00000000e+00  0.00000000e+00 -0.00000000e+00  0.00000000e+00\n",
      "  -0.00000000e+00  0.00000000e+00  0.00000000e+00  0.00000000e+00\n",
      "   0.00000000e+00  0.00000000e+00  0.00000000e+00 -0.00000000e+00\n",
      "  -0.00000000e+00 -0.00000000e+00 -0.00000000e+00 -0.00000000e+00\n",
      "  -0.00000000e+00 -0.00000000e+00  0.00000000e+00  0.00000000e+00\n",
      "   0.00000000e+00 -0.00000000e+00  0.00000000e+00  0.00000000e+00]]\n",
      "[3.77594126e+16 7.30906921e-02]\n",
      "1.798128898650659e+16\n",
      "0.13613392004385955\n"
     ]
    },
    {
     "name": "stderr",
     "output_type": "stream",
     "text": [
      "c:\\Users\\gcq20\\AppData\\Local\\Programs\\Python\\Python37\\lib\\site-packages\\sklearn\\linear_model\\_coordinate_descent.py:648: ConvergenceWarning: Objective did not converge. You might want to increase the number of iterations, check the scale of the features or consider increasing regularisation. Duality gap: 3.933e+36, tolerance: 1.434e+33\n",
      "  coef_, l1_reg, l2_reg, X, y, max_iter, tol, rng, random, positive\n"
     ]
    }
   ],
   "source": [
    "enet_model = ElasticNet().fit(X_train_norm, y_train_t1)\n",
    "print(enet_model.coef_)\n",
    "print(enet_model.intercept_)\n",
    "\n",
    "y_pred = enet_model.predict(X_valid_norm)\n",
    "print(np.sqrt(mean_squared_error(y_valid_t1,y_pred)))\n",
    "print(r2_score(y_valid_t1,y_pred))"
   ]
  },
  {
   "cell_type": "code",
   "execution_count": null,
   "metadata": {},
   "outputs": [],
   "source": []
  }
 ],
 "metadata": {
  "kernelspec": {
   "display_name": "Python 3.7.7 64-bit",
   "language": "python",
   "name": "python3"
  },
  "language_info": {
   "codemirror_mode": {
    "name": "ipython",
    "version": 3
   },
   "file_extension": ".py",
   "mimetype": "text/x-python",
   "name": "python",
   "nbconvert_exporter": "python",
   "pygments_lexer": "ipython3",
   "version": "3.7.7"
  },
  "orig_nbformat": 4,
  "vscode": {
   "interpreter": {
    "hash": "529bcf6abcc3d23528523c7666d9f36040f112e2ca21b4e62324de75fcde4134"
   }
  }
 },
 "nbformat": 4,
 "nbformat_minor": 2
}
