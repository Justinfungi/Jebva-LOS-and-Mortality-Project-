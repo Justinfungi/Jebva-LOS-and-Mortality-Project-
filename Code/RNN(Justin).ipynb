{
 "cells": [
  {
   "cell_type": "markdown",
   "id": "970d9aef",
   "metadata": {
    "heading_collapsed": true
   },
   "source": [
    "# Libraries"
   ]
  },
  {
   "cell_type": "code",
   "execution_count": null,
   "id": "71cace5d",
   "metadata": {
    "ExecuteTime": {
     "end_time": "2022-10-27T19:00:31.761529Z",
     "start_time": "2022-10-27T19:00:31.756114Z"
    },
    "hidden": true
   },
   "outputs": [],
   "source": [
    "import torch\n",
    "import torchvision\n",
    "import torch.nn as nn\n",
    "import torch.optim as optim\n",
    "import torch.nn.functional as F\n",
    "from torch.utils.data import Dataset, DataLoader\n",
    "import torchvision.transforms as transforms"
   ]
  },
  {
   "cell_type": "code",
   "execution_count": null,
   "id": "8735b622",
   "metadata": {
    "ExecuteTime": {
     "end_time": "2022-10-27T19:00:31.771066Z",
     "start_time": "2022-10-27T19:00:31.764051Z"
    },
    "hidden": true
   },
   "outputs": [],
   "source": [
    "device = torch.device(\"cuda\" if torch.cuda.is_available() else \"cpu\")"
   ]
  },
  {
   "cell_type": "markdown",
   "id": "e5e3db1d",
   "metadata": {
    "ExecuteTime": {
     "end_time": "2022-10-27T03:47:12.458066Z",
     "start_time": "2022-10-27T03:47:12.452095Z"
    },
    "heading_collapsed": true
   },
   "source": [
    "# Import data"
   ]
  },
  {
   "cell_type": "code",
   "execution_count": null,
   "id": "c7c7a26f",
   "metadata": {
    "ExecuteTime": {
     "end_time": "2022-10-27T19:00:57.475157Z",
     "start_time": "2022-10-27T19:00:31.772709Z"
    },
    "hidden": true
   },
   "outputs": [],
   "source": [
    "%run Data_preprocessing.ipynb"
   ]
  },
  {
   "cell_type": "code",
   "execution_count": null,
   "id": "4aa393c8",
   "metadata": {
    "ExecuteTime": {
     "end_time": "2022-10-27T19:00:57.480732Z",
     "start_time": "2022-10-27T19:00:57.477282Z"
    },
    "hidden": true
   },
   "outputs": [],
   "source": [
    "len(X_train.columns)"
   ]
  },
  {
   "cell_type": "markdown",
   "id": "560831ad",
   "metadata": {},
   "source": [
    "# Hyperparameters"
   ]
  },
  {
   "cell_type": "code",
   "execution_count": null,
   "id": "6fb9fe03",
   "metadata": {
    "ExecuteTime": {
     "end_time": "2022-10-27T19:00:57.488058Z",
     "start_time": "2022-10-27T19:00:57.481956Z"
    }
   },
   "outputs": [],
   "source": [
    "input_size = 312 # 7488/24\n",
    "sequence_length = 24\n",
    "output_size = 2 # live or dead\n",
    "num_layers = 2\n",
    "hidden_size=256\n",
    "learning_rate = 0.01\n",
    "batch_size = 64\n",
    "num_epochs = 2"
   ]
  },
  {
   "cell_type": "code",
   "execution_count": null,
   "id": "9b63a1ce",
   "metadata": {
    "ExecuteTime": {
     "end_time": "2022-10-27T19:00:57.494329Z",
     "start_time": "2022-10-27T19:00:57.489294Z"
    }
   },
   "outputs": [],
   "source": [
    "7488/24"
   ]
  },
  {
   "cell_type": "markdown",
   "id": "9b7e4676",
   "metadata": {},
   "source": [
    "# Create RNN"
   ]
  },
  {
   "cell_type": "code",
   "execution_count": null,
   "id": "c00d907c",
   "metadata": {
    "ExecuteTime": {
     "end_time": "2022-10-27T19:06:55.134416Z",
     "start_time": "2022-10-27T19:06:55.127726Z"
    }
   },
   "outputs": [],
   "source": [
    "class RNN(nn.Module):\n",
    "    def __init__(self, input_size, hidden_size, num_layers, output_size):\n",
    "        super(RNN, self).__init__()\n",
    "        self.hidden_size = hidden_size\n",
    "        self.num_layers = num_layers\n",
    "        self.rnn = nn.RNN(input_size, hidden_size, num_layers, batch_first=True)\n",
    "        self.fc = nn.Linear(hidden_size*sequence_length, num_epochs)\n",
    "        # N * time_seq * features\n",
    "        \n",
    "        \n",
    "    def forward(self, x):\n",
    "        h0 = torch.zeros(self.num_layers, x.size(0),self.hidden_size).to(device)\n",
    "        out, _ = self.rnn(x,h0)\n",
    "        out = out.reshape(out.shape[0],-1)\n",
    "        out = self.fc(out)\n",
    "        out = F.softmax(out, dim=1)\n",
    "        print(out)\n",
    "        return out"
   ]
  },
  {
   "cell_type": "markdown",
   "id": "076d6376",
   "metadata": {},
   "source": [
    "# Load data"
   ]
  },
  {
   "cell_type": "code",
   "execution_count": null,
   "id": "d7e4872c",
   "metadata": {
    "ExecuteTime": {
     "end_time": "2022-10-27T19:00:57.505996Z",
     "start_time": "2022-10-27T19:00:57.501961Z"
    }
   },
   "outputs": [],
   "source": [
    "class CusDatasetLoader(Dataset):\n",
    "    def __init__(self,x,y):\n",
    "        self.len = y.shape[0]\n",
    "        self.x_data = x\n",
    "        self.y_data = y\n",
    "  \n",
    "    def __len__(self):\n",
    "        return self.len\n",
    "\n",
    "    def __getitem__(self, index):\n",
    "        #return self.dataframe.iloc[index]\n",
    "        return self.x_data[index], self.y_data[index]"
   ]
  },
  {
   "cell_type": "code",
   "execution_count": null,
   "id": "456be776",
   "metadata": {
    "ExecuteTime": {
     "end_time": "2022-10-27T19:00:57.511537Z",
     "start_time": "2022-10-27T19:00:57.508211Z"
    }
   },
   "outputs": [],
   "source": [
    "def X_split(X):\n",
    "    X_tensor = torch.from_numpy(np.array(X)).to(torch.float32)\n",
    "    print(X_tensor.shape)\n",
    "    X_tensor = torch.split(X_tensor,24,1)\n",
    "    X_tensor = torch.stack(X_tensor)\n",
    "    print(X_tensor.shape)\n",
    "    return X_tensor\n",
    "\n",
    "def y_tensor(y):\n",
    "    y= torch.from_numpy(np.array(y)).to(torch.float32)\n",
    "    return y"
   ]
  },
  {
   "cell_type": "raw",
   "id": "e5b89ea9",
   "metadata": {
    "ExecuteTime": {
     "end_time": "2022-10-27T17:57:57.828687Z",
     "start_time": "2022-10-27T17:57:57.770391Z"
    }
   },
   "source": [
    "# xy = np.concatenate((X_train,y_train_t1.iloc[:,[-1]]),axis=1)"
   ]
  },
  {
   "cell_type": "code",
   "execution_count": null,
   "id": "926ace29",
   "metadata": {
    "ExecuteTime": {
     "end_time": "2022-10-27T19:00:57.518416Z",
     "start_time": "2022-10-27T19:00:57.513249Z"
    }
   },
   "outputs": [],
   "source": [
    "len(y_train_t1.iloc[:,-1])"
   ]
  },
  {
   "cell_type": "code",
   "execution_count": null,
   "id": "006849f5",
   "metadata": {
    "ExecuteTime": {
     "end_time": "2022-10-27T19:00:57.900178Z",
     "start_time": "2022-10-27T19:00:57.520071Z"
    }
   },
   "outputs": [],
   "source": [
    "# X should be in smaples, 1, squence, rows\n",
    "X1 = X_split(X_train)\n",
    "X1 = X1.permute(1, 0, 2)\n",
    "print(X1.shape)\n",
    "y1 = y_tensor(y_train_t1.iloc[:,-1]).reshape(len(y_train_t1.iloc[:,-1]),1)\n",
    "print(y1.shape)\n",
    "train_datasets = CusDatasetLoader(X1, y1)\n",
    "train_loader = DataLoader(dataset=train_datasets, batch_size=batch_size, shuffle=True)"
   ]
  },
  {
   "cell_type": "code",
   "execution_count": null,
   "id": "979d9f54",
   "metadata": {
    "ExecuteTime": {
     "end_time": "2022-10-27T19:00:57.924232Z",
     "start_time": "2022-10-27T19:00:57.901656Z"
    }
   },
   "outputs": [],
   "source": [
    "x,y = train_datasets[0]\n",
    "print(x.shape)\n",
    "print(y.shape)"
   ]
  },
  {
   "cell_type": "code",
   "execution_count": null,
   "id": "6443333a",
   "metadata": {
    "ExecuteTime": {
     "end_time": "2022-10-27T19:06:59.812511Z",
     "start_time": "2022-10-27T19:06:59.802196Z"
    }
   },
   "outputs": [],
   "source": [
    "model = RNN(input_size, hidden_size, num_layers, output_size).to(device)"
   ]
  },
  {
   "cell_type": "code",
   "execution_count": null,
   "id": "afa986f2",
   "metadata": {
    "ExecuteTime": {
     "end_time": "2022-10-27T19:00:57.938967Z",
     "start_time": "2022-10-27T19:00:57.935947Z"
    }
   },
   "outputs": [],
   "source": [
    "criterion = nn.CrossEntropyLoss()\n",
    "optimizer = optim.Adam(model.parameters(), lr = learning_rate)"
   ]
  },
  {
   "cell_type": "code",
   "execution_count": null,
   "id": "680547a7",
   "metadata": {
    "ExecuteTime": {
     "end_time": "2022-10-27T19:07:03.683930Z",
     "start_time": "2022-10-27T19:07:03.642450Z"
    }
   },
   "outputs": [],
   "source": [
    "for epoch in range(num_epochs):\n",
    "    for batch_idx, (data, targets) in enumerate(train_loader):\n",
    "        data = data.permute(0,2,1)\n",
    "        print(data.shape)\n",
    "        data = data.to(device=device)\n",
    "        targets = targets.to(device=device)\n",
    "        targets = torch.squeeze(targets, 1)\n",
    "        print(targets.shape)\n",
    "        \n",
    "        # forward\n",
    "        scores = model(data)\n",
    "        print(scores)\n",
    "        loss = criterion(scores, targets)\n",
    "        \n",
    "        # backward\n",
    "        optimizer.zero_grad()\n",
    "        loss.backward()\n",
    "        \n",
    "        # gradient descent or adam step\n",
    "        optimizer.step()\n",
    "        \n",
    "        "
   ]
  },
  {
   "cell_type": "markdown",
   "id": "da54923c",
   "metadata": {},
   "source": [
    "#"
   ]
  },
  {
   "cell_type": "markdown",
   "id": "e366eb01",
   "metadata": {},
   "source": [
    "#"
   ]
  },
  {
   "cell_type": "markdown",
   "id": "5891c812",
   "metadata": {},
   "source": [
    "#"
   ]
  },
  {
   "cell_type": "markdown",
   "id": "70b90e20",
   "metadata": {},
   "source": [
    "#"
   ]
  },
  {
   "cell_type": "markdown",
   "id": "b16acbcd",
   "metadata": {},
   "source": [
    "#"
   ]
  },
  {
   "cell_type": "markdown",
   "id": "27ca623b",
   "metadata": {},
   "source": [
    "#"
   ]
  },
  {
   "cell_type": "markdown",
   "id": "afa29a40",
   "metadata": {},
   "source": [
    "#"
   ]
  },
  {
   "cell_type": "markdown",
   "id": "b8d38018",
   "metadata": {},
   "source": [
    "#"
   ]
  }
 ],
 "metadata": {
  "kernelspec": {
   "display_name": "comp3340",
   "language": "python",
   "name": "comp3340"
  },
  "language_info": {
   "codemirror_mode": {
    "name": "ipython",
    "version": 3
   },
   "file_extension": ".py",
   "mimetype": "text/x-python",
   "name": "python",
   "nbconvert_exporter": "python",
   "pygments_lexer": "ipython3",
   "version": "3.7.13"
  },
  "toc": {
   "base_numbering": 1,
   "nav_menu": {},
   "number_sections": true,
   "sideBar": true,
   "skip_h1_title": false,
   "title_cell": "Table of Contents",
   "title_sidebar": "Contents",
   "toc_cell": false,
   "toc_position": {},
   "toc_section_display": true,
   "toc_window_display": true
  }
 },
 "nbformat": 4,
 "nbformat_minor": 5
}
