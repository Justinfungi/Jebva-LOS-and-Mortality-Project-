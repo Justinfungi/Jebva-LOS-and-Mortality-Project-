{
 "cells": [
  {
   "cell_type": "markdown",
   "id": "970d9aef",
   "metadata": {
    "heading_collapsed": true
   },
   "source": [
    "# Libraries"
   ]
  },
  {
   "cell_type": "code",
   "execution_count": 30,
   "id": "71cace5d",
   "metadata": {
    "ExecuteTime": {
     "end_time": "2022-10-30T16:36:16.285898Z",
     "start_time": "2022-10-30T16:36:16.272322Z"
    },
    "hidden": true
   },
   "outputs": [],
   "source": [
    "import torch\n",
    "import torchvision\n",
    "import torch.nn as nn\n",
    "import torch.optim as optim\n",
    "import torch.nn.functional as F\n",
    "from torch.utils.data import Dataset, DataLoader\n",
    "import torchvision.transforms as transforms"
   ]
  },
  {
   "cell_type": "code",
   "execution_count": 31,
   "id": "8735b622",
   "metadata": {
    "ExecuteTime": {
     "end_time": "2022-10-30T16:36:16.308812Z",
     "start_time": "2022-10-30T16:36:16.296085Z"
    },
    "hidden": true
   },
   "outputs": [],
   "source": [
    "device = torch.device(\"cuda\" if torch.cuda.is_available() else \"cpu\")"
   ]
  },
  {
   "cell_type": "markdown",
   "id": "e5e3db1d",
   "metadata": {
    "ExecuteTime": {
     "end_time": "2022-10-27T03:47:12.458066Z",
     "start_time": "2022-10-27T03:47:12.452095Z"
    },
    "heading_collapsed": true
   },
   "source": [
    "# Import data"
   ]
  },
  {
   "cell_type": "code",
   "execution_count": 32,
   "id": "c7c7a26f",
   "metadata": {
    "ExecuteTime": {
     "end_time": "2022-10-30T16:38:03.693695Z",
     "start_time": "2022-10-30T16:36:16.315769Z"
    },
    "hidden": true
   },
   "outputs": [
    {
     "name": "stdout",
     "output_type": "stream",
     "text": [
      "0\n",
      "0\n",
      "0\n"
     ]
    }
   ],
   "source": [
    "%run Data_preprocessing.ipynb"
   ]
  },
  {
   "cell_type": "code",
   "execution_count": 33,
   "id": "4aa393c8",
   "metadata": {
    "ExecuteTime": {
     "end_time": "2022-10-30T16:38:03.841011Z",
     "start_time": "2022-10-30T16:38:03.703880Z"
    },
    "hidden": true
   },
   "outputs": [
    {
     "data": {
      "text/html": [
       "<div>\n",
       "<style scoped>\n",
       "    .dataframe tbody tr th:only-of-type {\n",
       "        vertical-align: middle;\n",
       "    }\n",
       "\n",
       "    .dataframe tbody tr th {\n",
       "        vertical-align: top;\n",
       "    }\n",
       "\n",
       "    .dataframe thead tr th {\n",
       "        text-align: left;\n",
       "    }\n",
       "</style>\n",
       "<table border=\"1\" class=\"dataframe\">\n",
       "  <thead>\n",
       "    <tr>\n",
       "      <th>LEVEL2</th>\n",
       "      <th colspan=\"10\" halign=\"left\">alanine aminotransferase</th>\n",
       "      <th>...</th>\n",
       "      <th colspan=\"10\" halign=\"left\">white blood cell count urine</th>\n",
       "    </tr>\n",
       "    <tr>\n",
       "      <th>Aggregation Function</th>\n",
       "      <th colspan=\"10\" halign=\"left\">mask</th>\n",
       "      <th>...</th>\n",
       "      <th colspan=\"10\" halign=\"left\">time_since_measured</th>\n",
       "    </tr>\n",
       "    <tr>\n",
       "      <th>hours_in</th>\n",
       "      <th>0</th>\n",
       "      <th>1</th>\n",
       "      <th>2</th>\n",
       "      <th>3</th>\n",
       "      <th>4</th>\n",
       "      <th>5</th>\n",
       "      <th>6</th>\n",
       "      <th>7</th>\n",
       "      <th>8</th>\n",
       "      <th>9</th>\n",
       "      <th>...</th>\n",
       "      <th>14</th>\n",
       "      <th>15</th>\n",
       "      <th>16</th>\n",
       "      <th>17</th>\n",
       "      <th>18</th>\n",
       "      <th>19</th>\n",
       "      <th>20</th>\n",
       "      <th>21</th>\n",
       "      <th>22</th>\n",
       "      <th>23</th>\n",
       "    </tr>\n",
       "  </thead>\n",
       "  <tbody>\n",
       "    <tr>\n",
       "      <th>3_145834_211552</th>\n",
       "      <td>1.0</td>\n",
       "      <td>0.0</td>\n",
       "      <td>0.0</td>\n",
       "      <td>0.0</td>\n",
       "      <td>0.0</td>\n",
       "      <td>0.0</td>\n",
       "      <td>0.0</td>\n",
       "      <td>0.0</td>\n",
       "      <td>0.0</td>\n",
       "      <td>0.0</td>\n",
       "      <td>...</td>\n",
       "      <td>6.0</td>\n",
       "      <td>7.0</td>\n",
       "      <td>8.0</td>\n",
       "      <td>9.0</td>\n",
       "      <td>10.0</td>\n",
       "      <td>11.0</td>\n",
       "      <td>12.0</td>\n",
       "      <td>13.0</td>\n",
       "      <td>14.0</td>\n",
       "      <td>15.0</td>\n",
       "    </tr>\n",
       "    <tr>\n",
       "      <th>6_107064_228232</th>\n",
       "      <td>1.0</td>\n",
       "      <td>0.0</td>\n",
       "      <td>0.0</td>\n",
       "      <td>0.0</td>\n",
       "      <td>0.0</td>\n",
       "      <td>0.0</td>\n",
       "      <td>0.0</td>\n",
       "      <td>0.0</td>\n",
       "      <td>0.0</td>\n",
       "      <td>0.0</td>\n",
       "      <td>...</td>\n",
       "      <td>30.0</td>\n",
       "      <td>31.0</td>\n",
       "      <td>32.0</td>\n",
       "      <td>33.0</td>\n",
       "      <td>34.0</td>\n",
       "      <td>35.0</td>\n",
       "      <td>36.0</td>\n",
       "      <td>37.0</td>\n",
       "      <td>38.0</td>\n",
       "      <td>39.0</td>\n",
       "    </tr>\n",
       "    <tr>\n",
       "      <th>9_150750_220597</th>\n",
       "      <td>0.0</td>\n",
       "      <td>0.0</td>\n",
       "      <td>0.0</td>\n",
       "      <td>0.0</td>\n",
       "      <td>0.0</td>\n",
       "      <td>0.0</td>\n",
       "      <td>0.0</td>\n",
       "      <td>0.0</td>\n",
       "      <td>0.0</td>\n",
       "      <td>0.0</td>\n",
       "      <td>...</td>\n",
       "      <td>54.0</td>\n",
       "      <td>55.0</td>\n",
       "      <td>56.0</td>\n",
       "      <td>57.0</td>\n",
       "      <td>58.0</td>\n",
       "      <td>59.0</td>\n",
       "      <td>60.0</td>\n",
       "      <td>61.0</td>\n",
       "      <td>62.0</td>\n",
       "      <td>63.0</td>\n",
       "    </tr>\n",
       "    <tr>\n",
       "      <th>11_194540_229441</th>\n",
       "      <td>0.0</td>\n",
       "      <td>0.0</td>\n",
       "      <td>0.0</td>\n",
       "      <td>0.0</td>\n",
       "      <td>0.0</td>\n",
       "      <td>0.0</td>\n",
       "      <td>0.0</td>\n",
       "      <td>0.0</td>\n",
       "      <td>0.0</td>\n",
       "      <td>0.0</td>\n",
       "      <td>...</td>\n",
       "      <td>78.0</td>\n",
       "      <td>79.0</td>\n",
       "      <td>80.0</td>\n",
       "      <td>81.0</td>\n",
       "      <td>82.0</td>\n",
       "      <td>83.0</td>\n",
       "      <td>84.0</td>\n",
       "      <td>85.0</td>\n",
       "      <td>86.0</td>\n",
       "      <td>87.0</td>\n",
       "    </tr>\n",
       "    <tr>\n",
       "      <th>12_112213_232669</th>\n",
       "      <td>0.0</td>\n",
       "      <td>0.0</td>\n",
       "      <td>0.0</td>\n",
       "      <td>0.0</td>\n",
       "      <td>0.0</td>\n",
       "      <td>0.0</td>\n",
       "      <td>0.0</td>\n",
       "      <td>0.0</td>\n",
       "      <td>0.0</td>\n",
       "      <td>0.0</td>\n",
       "      <td>...</td>\n",
       "      <td>102.0</td>\n",
       "      <td>103.0</td>\n",
       "      <td>104.0</td>\n",
       "      <td>105.0</td>\n",
       "      <td>106.0</td>\n",
       "      <td>107.0</td>\n",
       "      <td>108.0</td>\n",
       "      <td>109.0</td>\n",
       "      <td>110.0</td>\n",
       "      <td>111.0</td>\n",
       "    </tr>\n",
       "    <tr>\n",
       "      <th>...</th>\n",
       "      <td>...</td>\n",
       "      <td>...</td>\n",
       "      <td>...</td>\n",
       "      <td>...</td>\n",
       "      <td>...</td>\n",
       "      <td>...</td>\n",
       "      <td>...</td>\n",
       "      <td>...</td>\n",
       "      <td>...</td>\n",
       "      <td>...</td>\n",
       "      <td>...</td>\n",
       "      <td>...</td>\n",
       "      <td>...</td>\n",
       "      <td>...</td>\n",
       "      <td>...</td>\n",
       "      <td>...</td>\n",
       "      <td>...</td>\n",
       "      <td>...</td>\n",
       "      <td>...</td>\n",
       "      <td>...</td>\n",
       "      <td>...</td>\n",
       "    </tr>\n",
       "    <tr>\n",
       "      <th>99966_167228_252173</th>\n",
       "      <td>0.0</td>\n",
       "      <td>0.0</td>\n",
       "      <td>0.0</td>\n",
       "      <td>0.0</td>\n",
       "      <td>0.0</td>\n",
       "      <td>0.0</td>\n",
       "      <td>0.0</td>\n",
       "      <td>0.0</td>\n",
       "      <td>0.0</td>\n",
       "      <td>0.0</td>\n",
       "      <td>...</td>\n",
       "      <td>86.0</td>\n",
       "      <td>87.0</td>\n",
       "      <td>88.0</td>\n",
       "      <td>89.0</td>\n",
       "      <td>90.0</td>\n",
       "      <td>91.0</td>\n",
       "      <td>92.0</td>\n",
       "      <td>93.0</td>\n",
       "      <td>94.0</td>\n",
       "      <td>95.0</td>\n",
       "    </tr>\n",
       "    <tr>\n",
       "      <th>99973_150202_275083</th>\n",
       "      <td>0.0</td>\n",
       "      <td>0.0</td>\n",
       "      <td>0.0</td>\n",
       "      <td>0.0</td>\n",
       "      <td>0.0</td>\n",
       "      <td>0.0</td>\n",
       "      <td>0.0</td>\n",
       "      <td>0.0</td>\n",
       "      <td>0.0</td>\n",
       "      <td>0.0</td>\n",
       "      <td>...</td>\n",
       "      <td>110.0</td>\n",
       "      <td>111.0</td>\n",
       "      <td>112.0</td>\n",
       "      <td>113.0</td>\n",
       "      <td>114.0</td>\n",
       "      <td>115.0</td>\n",
       "      <td>116.0</td>\n",
       "      <td>117.0</td>\n",
       "      <td>118.0</td>\n",
       "      <td>119.0</td>\n",
       "    </tr>\n",
       "    <tr>\n",
       "      <th>99982_151454_221194</th>\n",
       "      <td>0.0</td>\n",
       "      <td>0.0</td>\n",
       "      <td>0.0</td>\n",
       "      <td>0.0</td>\n",
       "      <td>0.0</td>\n",
       "      <td>0.0</td>\n",
       "      <td>0.0</td>\n",
       "      <td>0.0</td>\n",
       "      <td>0.0</td>\n",
       "      <td>0.0</td>\n",
       "      <td>...</td>\n",
       "      <td>134.0</td>\n",
       "      <td>135.0</td>\n",
       "      <td>136.0</td>\n",
       "      <td>137.0</td>\n",
       "      <td>138.0</td>\n",
       "      <td>139.0</td>\n",
       "      <td>140.0</td>\n",
       "      <td>141.0</td>\n",
       "      <td>142.0</td>\n",
       "      <td>143.0</td>\n",
       "    </tr>\n",
       "    <tr>\n",
       "      <th>99991_151118_226241</th>\n",
       "      <td>0.0</td>\n",
       "      <td>0.0</td>\n",
       "      <td>0.0</td>\n",
       "      <td>0.0</td>\n",
       "      <td>0.0</td>\n",
       "      <td>0.0</td>\n",
       "      <td>0.0</td>\n",
       "      <td>0.0</td>\n",
       "      <td>0.0</td>\n",
       "      <td>0.0</td>\n",
       "      <td>...</td>\n",
       "      <td>14.0</td>\n",
       "      <td>15.0</td>\n",
       "      <td>16.0</td>\n",
       "      <td>17.0</td>\n",
       "      <td>18.0</td>\n",
       "      <td>19.0</td>\n",
       "      <td>20.0</td>\n",
       "      <td>21.0</td>\n",
       "      <td>22.0</td>\n",
       "      <td>23.0</td>\n",
       "    </tr>\n",
       "    <tr>\n",
       "      <th>99995_137810_229633</th>\n",
       "      <td>0.0</td>\n",
       "      <td>1.0</td>\n",
       "      <td>1.0</td>\n",
       "      <td>0.0</td>\n",
       "      <td>0.0</td>\n",
       "      <td>0.0</td>\n",
       "      <td>0.0</td>\n",
       "      <td>0.0</td>\n",
       "      <td>0.0</td>\n",
       "      <td>0.0</td>\n",
       "      <td>...</td>\n",
       "      <td>38.0</td>\n",
       "      <td>39.0</td>\n",
       "      <td>40.0</td>\n",
       "      <td>41.0</td>\n",
       "      <td>42.0</td>\n",
       "      <td>43.0</td>\n",
       "      <td>44.0</td>\n",
       "      <td>45.0</td>\n",
       "      <td>46.0</td>\n",
       "      <td>47.0</td>\n",
       "    </tr>\n",
       "  </tbody>\n",
       "</table>\n",
       "<p>16760 rows × 7488 columns</p>\n",
       "</div>"
      ],
      "text/plain": [
       "LEVEL2               alanine aminotransferase                                \\\n",
       "Aggregation Function                     mask                                 \n",
       "hours_in                                    0    1    2    3    4    5    6   \n",
       "3_145834_211552                           1.0  0.0  0.0  0.0  0.0  0.0  0.0   \n",
       "6_107064_228232                           1.0  0.0  0.0  0.0  0.0  0.0  0.0   \n",
       "9_150750_220597                           0.0  0.0  0.0  0.0  0.0  0.0  0.0   \n",
       "11_194540_229441                          0.0  0.0  0.0  0.0  0.0  0.0  0.0   \n",
       "12_112213_232669                          0.0  0.0  0.0  0.0  0.0  0.0  0.0   \n",
       "...                                       ...  ...  ...  ...  ...  ...  ...   \n",
       "99966_167228_252173                       0.0  0.0  0.0  0.0  0.0  0.0  0.0   \n",
       "99973_150202_275083                       0.0  0.0  0.0  0.0  0.0  0.0  0.0   \n",
       "99982_151454_221194                       0.0  0.0  0.0  0.0  0.0  0.0  0.0   \n",
       "99991_151118_226241                       0.0  0.0  0.0  0.0  0.0  0.0  0.0   \n",
       "99995_137810_229633                       0.0  1.0  1.0  0.0  0.0  0.0  0.0   \n",
       "\n",
       "LEVEL2                               ... white blood cell count urine         \\\n",
       "Aggregation Function                 ...          time_since_measured          \n",
       "hours_in                7    8    9  ...                           14     15   \n",
       "3_145834_211552       0.0  0.0  0.0  ...                          6.0    7.0   \n",
       "6_107064_228232       0.0  0.0  0.0  ...                         30.0   31.0   \n",
       "9_150750_220597       0.0  0.0  0.0  ...                         54.0   55.0   \n",
       "11_194540_229441      0.0  0.0  0.0  ...                         78.0   79.0   \n",
       "12_112213_232669      0.0  0.0  0.0  ...                        102.0  103.0   \n",
       "...                   ...  ...  ...  ...                          ...    ...   \n",
       "99966_167228_252173   0.0  0.0  0.0  ...                         86.0   87.0   \n",
       "99973_150202_275083   0.0  0.0  0.0  ...                        110.0  111.0   \n",
       "99982_151454_221194   0.0  0.0  0.0  ...                        134.0  135.0   \n",
       "99991_151118_226241   0.0  0.0  0.0  ...                         14.0   15.0   \n",
       "99995_137810_229633   0.0  0.0  0.0  ...                         38.0   39.0   \n",
       "\n",
       "LEVEL2                                                                        \n",
       "Aggregation Function                                                          \n",
       "hours_in                 16     17     18     19     20     21     22     23  \n",
       "3_145834_211552         8.0    9.0   10.0   11.0   12.0   13.0   14.0   15.0  \n",
       "6_107064_228232        32.0   33.0   34.0   35.0   36.0   37.0   38.0   39.0  \n",
       "9_150750_220597        56.0   57.0   58.0   59.0   60.0   61.0   62.0   63.0  \n",
       "11_194540_229441       80.0   81.0   82.0   83.0   84.0   85.0   86.0   87.0  \n",
       "12_112213_232669      104.0  105.0  106.0  107.0  108.0  109.0  110.0  111.0  \n",
       "...                     ...    ...    ...    ...    ...    ...    ...    ...  \n",
       "99966_167228_252173    88.0   89.0   90.0   91.0   92.0   93.0   94.0   95.0  \n",
       "99973_150202_275083   112.0  113.0  114.0  115.0  116.0  117.0  118.0  119.0  \n",
       "99982_151454_221194   136.0  137.0  138.0  139.0  140.0  141.0  142.0  143.0  \n",
       "99991_151118_226241    16.0   17.0   18.0   19.0   20.0   21.0   22.0   23.0  \n",
       "99995_137810_229633    40.0   41.0   42.0   43.0   44.0   45.0   46.0   47.0  \n",
       "\n",
       "[16760 rows x 7488 columns]"
      ]
     },
     "execution_count": 33,
     "metadata": {},
     "output_type": "execute_result"
    }
   ],
   "source": [
    "X_train"
   ]
  },
  {
   "cell_type": "markdown",
   "id": "560831ad",
   "metadata": {
    "heading_collapsed": true
   },
   "source": [
    "# Hyperparameters"
   ]
  },
  {
   "cell_type": "code",
   "execution_count": 34,
   "id": "6fb9fe03",
   "metadata": {
    "ExecuteTime": {
     "end_time": "2022-10-30T16:38:03.856529Z",
     "start_time": "2022-10-30T16:38:03.846748Z"
    },
    "hidden": true
   },
   "outputs": [],
   "source": [
    "input_size = 312 # 7488/24\n",
    "sequence_length = 24\n",
    "output_size = 2 # live or dead\n",
    "num_layers = 2\n",
    "hidden_size=256\n",
    "learning_rate = 0.01\n",
    "batch_size = 64\n",
    "num_epochs = 2"
   ]
  },
  {
   "cell_type": "markdown",
   "id": "9b7e4676",
   "metadata": {
    "heading_collapsed": true
   },
   "source": [
    "# Create RNN"
   ]
  },
  {
   "cell_type": "code",
   "execution_count": 35,
   "id": "c00d907c",
   "metadata": {
    "ExecuteTime": {
     "end_time": "2022-10-30T16:38:03.878115Z",
     "start_time": "2022-10-30T16:38:03.860787Z"
    },
    "hidden": true
   },
   "outputs": [],
   "source": [
    "class RNN(nn.Module):\n",
    "    def __init__(self, input_size, hidden_size, num_layers, output_size):\n",
    "        super(RNN, self).__init__()\n",
    "        self.hidden_size = hidden_size\n",
    "        self.num_layers = num_layers\n",
    "        self.rnn = nn.RNN(input_size, hidden_size, num_layers, batch_first=True)\n",
    "        self.fc = nn.Linear(hidden_size*sequence_length, num_epochs)\n",
    "        # N * time_seq * features\n",
    "        \n",
    "        \n",
    "    def forward(self, x):\n",
    "        h0 = torch.zeros(self.num_layers, x.size(0),self.hidden_size).to(device)\n",
    "        out, _ = self.rnn(x,h0)\n",
    "        out = out.reshape(out.shape[0],-1)\n",
    "        out = (F.softmax(self.fc(out), dim=1))\n",
    "        #out = torch.argmax(out, dim=1)\n",
    "        #print(out)\n",
    "        return out"
   ]
  },
  {
   "cell_type": "markdown",
   "id": "076d6376",
   "metadata": {},
   "source": [
    "# Data transform"
   ]
  },
  {
   "cell_type": "code",
   "execution_count": 36,
   "id": "d7e4872c",
   "metadata": {
    "ExecuteTime": {
     "end_time": "2022-10-30T16:38:03.897462Z",
     "start_time": "2022-10-30T16:38:03.886271Z"
    }
   },
   "outputs": [],
   "source": [
    "class CusDatasetLoader(Dataset):\n",
    "    def __init__(self,x,y):\n",
    "        self.len = y.shape[0]\n",
    "        self.x_data = x\n",
    "        self.y_data = y\n",
    "  \n",
    "    def __len__(self):\n",
    "        return self.len\n",
    "\n",
    "    def __getitem__(self, index):\n",
    "        #return self.dataframe.iloc[index]\n",
    "        return self.x_data[index], self.y_data[index]"
   ]
  },
  {
   "cell_type": "code",
   "execution_count": 37,
   "id": "456be776",
   "metadata": {
    "ExecuteTime": {
     "end_time": "2022-10-30T16:38:03.918923Z",
     "start_time": "2022-10-30T16:38:03.905843Z"
    }
   },
   "outputs": [],
   "source": [
    "# X_shape(X) : used for split the data into a right tensor size\n",
    "#input: X in shape of 16760 rows × 7488 columns (df)\n",
    "#output: X in shape of torch.Size([16760, 312, 24]) (tensor)\n",
    "def X_shape(X):\n",
    "    X_tensor = torch.from_numpy(np.array(X)).to(torch.float32)\n",
    "    X_tensor = torch.split(X_tensor,24,1)\n",
    "    X_tensor = torch.stack(X_tensor).permute(1, 0, 2)\n",
    "    print(\"X now in shape of\",X_tensor.shape)\n",
    "    return X_tensor\n",
    "\n",
    "# y_tensor(y) : used for split the data into a right tensor size\n",
    "#input: X in shape of 16760 rows × 7488 columns (df)\n",
    "#output: X in shape of torch.Size([16760, 312, 24]) (tensor)\n",
    "def y_tensor(y):\n",
    "    y= torch.from_numpy(np.array(y)).to(torch.float32).reshape(len(y),1)\n",
    "    print(\"y now in shape of\",y.shape)\n",
    "    return y"
   ]
  },
  {
   "cell_type": "code",
   "execution_count": 38,
   "id": "006849f5",
   "metadata": {
    "ExecuteTime": {
     "end_time": "2022-10-30T16:38:07.387574Z",
     "start_time": "2022-10-30T16:38:03.924871Z"
    }
   },
   "outputs": [
    {
     "name": "stdout",
     "output_type": "stream",
     "text": [
      "X now in shape of torch.Size([16760, 312, 24])\n",
      "y now in shape of torch.Size([16760, 1])\n",
      "torch.Size([312, 24])\n",
      "torch.Size([1])\n"
     ]
    }
   ],
   "source": [
    "# X should be in smaples, 1, squence, rows\n",
    "X1 = X_shape(X_train)\n",
    "y1 = y_tensor(y_train_t1.iloc[:,-1])\n",
    "\n",
    "train_datasets = CusDatasetLoader(X1, y1)\n",
    "train_loader = DataLoader(dataset=train_datasets, batch_size=batch_size, shuffle=True)\n",
    "\n",
    "x,y = train_datasets[0]\n",
    "print(x.shape)\n",
    "print(y.shape)"
   ]
  },
  {
   "cell_type": "markdown",
   "id": "e366eb01",
   "metadata": {
    "heading_collapsed": true
   },
   "source": [
    "# Model train"
   ]
  },
  {
   "cell_type": "code",
   "execution_count": 39,
   "id": "6443333a",
   "metadata": {
    "ExecuteTime": {
     "end_time": "2022-10-30T16:38:07.427222Z",
     "start_time": "2022-10-30T16:38:07.401155Z"
    },
    "hidden": true
   },
   "outputs": [],
   "source": [
    "model = RNN(input_size, hidden_size, num_layers, output_size).to(device)"
   ]
  },
  {
   "cell_type": "code",
   "execution_count": 40,
   "id": "afa986f2",
   "metadata": {
    "ExecuteTime": {
     "end_time": "2022-10-30T16:38:07.444104Z",
     "start_time": "2022-10-30T16:38:07.434319Z"
    },
    "hidden": true
   },
   "outputs": [],
   "source": [
    "criterion = nn.CrossEntropyLoss()\n",
    "optimizer = optim.Adam(model.parameters(), lr = learning_rate)"
   ]
  },
  {
   "cell_type": "code",
   "execution_count": 41,
   "id": "680547a7",
   "metadata": {
    "ExecuteTime": {
     "end_time": "2022-10-30T16:38:51.753944Z",
     "start_time": "2022-10-30T16:38:07.449622Z"
    },
    "hidden": true,
    "scrolled": true
   },
   "outputs": [],
   "source": [
    "for epoch in range(num_epochs):\n",
    "    for batch_idx, (data, targets) in enumerate(train_loader):\n",
    "        data = data.permute(0,2,1)\n",
    "        #print(data.shape)\n",
    "        data = data.to(device=device)\n",
    "        targets = targets.to(device=device)\n",
    "        targets = torch.squeeze(targets, 1).type(torch.LongTensor)\n",
    "        #print(targets)\n",
    "        \n",
    "        # forward\n",
    "        scores = model(data)\n",
    "        #print(scores.shape)\n",
    "        loss = criterion(scores, targets)\n",
    "        \n",
    "        # backward\n",
    "        optimizer.zero_grad()\n",
    "        loss.backward()\n",
    "        \n",
    "        # gradient descent or adam step\n",
    "        optimizer.step()\n",
    "        \n",
    "        "
   ]
  },
  {
   "cell_type": "markdown",
   "id": "06bcbff7",
   "metadata": {
    "ExecuteTime": {
     "end_time": "2022-10-28T17:23:14.669685Z",
     "start_time": "2022-10-28T17:23:14.663564Z"
    },
    "heading_collapsed": true
   },
   "source": [
    "# Model Accuracy"
   ]
  },
  {
   "cell_type": "code",
   "execution_count": 42,
   "id": "48a94a4e",
   "metadata": {
    "ExecuteTime": {
     "end_time": "2022-10-30T16:38:51.775203Z",
     "start_time": "2022-10-30T16:38:51.758533Z"
    },
    "hidden": true
   },
   "outputs": [],
   "source": [
    "# Check accuracy on training & test to see how good our model\n",
    "def check_accuracy(loader, model):\n",
    "    num_correct = 0\n",
    "    num_samples = 0\n",
    "\n",
    "    # Set model to eval\n",
    "    model.eval()\n",
    "\n",
    "    with torch.no_grad():\n",
    "        for x, y in loader:\n",
    "            x = x.to(device=device).permute(0,2,1)\n",
    "            #print(x.shape)\n",
    "            y = torch.squeeze(y.to(device=device), 1)\n",
    "            #print(y)\n",
    "\n",
    "            scores = model(x)\n",
    "            _, predictions = scores.max(1)\n",
    "            #print(predictions)\n",
    "            num_correct += int((predictions == y).sum())\n",
    "            #print(num_correct)\n",
    "            num_samples += predictions.size(0)\n",
    "            \n",
    "    # Toggle model back to train\n",
    "    model.train()\n",
    "    #print(num_correct , num_samples)\n",
    "    return num_correct / num_samples"
   ]
  },
  {
   "cell_type": "code",
   "execution_count": 43,
   "id": "f370065c",
   "metadata": {
    "ExecuteTime": {
     "end_time": "2022-10-30T16:38:59.514822Z",
     "start_time": "2022-10-30T16:38:51.782476Z"
    },
    "hidden": true
   },
   "outputs": [
    {
     "name": "stdout",
     "output_type": "stream",
     "text": [
      "Accuracy on training set: 92.690931 %\n"
     ]
    }
   ],
   "source": [
    "print(f\"Accuracy on training set: {check_accuracy(train_loader, model)*100:2f} %\")\n",
    "#print(f\"Accuracy on test set: {check_accuracy(test_loader, model)*100:.2f} %\")"
   ]
  },
  {
   "cell_type": "code",
   "execution_count": 44,
   "id": "7194f3f0",
   "metadata": {
    "ExecuteTime": {
     "end_time": "2022-10-30T16:39:07.700376Z",
     "start_time": "2022-10-30T16:38:59.520431Z"
    },
    "hidden": true
   },
   "outputs": [
    {
     "name": "stdout",
     "output_type": "stream",
     "text": [
      "torch.Size([2394, 312, 24])\n",
      "y now in shape of torch.Size([2394, 1])\n",
      "Accuracy on test set: 92.69 %\n"
     ]
    }
   ],
   "source": [
    "X2 = X_split(X_valid)\n",
    "y2 = y_tensor(y_valid_t1.iloc[:,-1])\n",
    "\n",
    "Valid_datasets = CusDatasetLoader(X2, y2)\n",
    "Valid_loader = DataLoader(dataset=train_datasets, batch_size=batch_size, shuffle=True)\n",
    "print(f\"Accuracy on test set: {check_accuracy(Valid_loader, model)*100:.2f} %\")"
   ]
  },
  {
   "cell_type": "markdown",
   "id": "5891c812",
   "metadata": {},
   "source": [
    "# On normalizaed dataset"
   ]
  },
  {
   "cell_type": "code",
   "execution_count": 45,
   "id": "cd4ea994",
   "metadata": {
    "ExecuteTime": {
     "end_time": "2022-10-30T16:40:07.897467Z",
     "start_time": "2022-10-30T16:39:07.707913Z"
    }
   },
   "outputs": [
    {
     "name": "stdout",
     "output_type": "stream",
     "text": [
      "torch.Size([16760, 312, 24])\n",
      "y now in shape of torch.Size([16760, 1])\n",
      "torch.Size([2394, 312, 24])\n",
      "y now in shape of torch.Size([2394, 1])\n",
      "Accuracy on test set: 54.40 %\n",
      "Accuracy on training set: 54.403341 %\n"
     ]
    }
   ],
   "source": [
    "X3 = X_split(X_train_norm)\n",
    "y3 = y_tensor(y_train_t1.iloc[:,-1])\n",
    "\n",
    "train_datasets = CusDatasetLoader(X3, y3)\n",
    "train_loader = DataLoader(dataset=train_datasets, batch_size=batch_size, shuffle=True)\n",
    "\n",
    "for epoch in range(num_epochs):\n",
    "    for batch_idx, (data, targets) in enumerate(train_loader):\n",
    "        data = data.permute(0,2,1)\n",
    "        #print(data.shape)\n",
    "        data = data.to(device=device)\n",
    "        targets = targets.to(device=device)\n",
    "        targets = torch.squeeze(targets, 1).type(torch.LongTensor)\n",
    "        #print(targets)\n",
    "        \n",
    "        # forward\n",
    "        scores = model(data)\n",
    "        #print(scores.shape)\n",
    "        loss = criterion(scores, targets)\n",
    "        \n",
    "        # backward\n",
    "        optimizer.zero_grad()\n",
    "        loss.backward()\n",
    "        \n",
    "        # gradient descent or adam step\n",
    "        optimizer.step()\n",
    "        \n",
    "X4 = X_split(X_valid_norm)\n",
    "y4 = y_tensor(y_valid_t1.iloc[:,-1])\n",
    "\n",
    "Valid_datasets = CusDatasetLoader(X4, y4)\n",
    "Valid_loader = DataLoader(dataset=train_datasets, batch_size=batch_size, shuffle=True)\n",
    "print(f\"Accuracy on test set: {check_accuracy(Valid_loader, model)*100:.2f} %\")\n",
    "print(f\"Accuracy on training set: {check_accuracy(train_loader, model)*100:2f} %\")"
   ]
  },
  {
   "cell_type": "markdown",
   "id": "70b90e20",
   "metadata": {},
   "source": [
    "# "
   ]
  },
  {
   "cell_type": "code",
   "execution_count": 46,
   "id": "3cfbb0f4",
   "metadata": {
    "ExecuteTime": {
     "end_time": "2022-10-30T16:40:16.154026Z",
     "start_time": "2022-10-30T16:40:07.904616Z"
    }
   },
   "outputs": [
    {
     "name": "stdout",
     "output_type": "stream",
     "text": [
      "Accuracy on training set: 54.403341 %\n"
     ]
    }
   ],
   "source": [
    "print(f\"Accuracy on training set: {check_accuracy(train_loader, model)*100:2f} %\")"
   ]
  },
  {
   "cell_type": "markdown",
   "id": "b16acbcd",
   "metadata": {},
   "source": [
    "#"
   ]
  },
  {
   "cell_type": "markdown",
   "id": "27ca623b",
   "metadata": {},
   "source": [
    "#"
   ]
  },
  {
   "cell_type": "markdown",
   "id": "afa29a40",
   "metadata": {},
   "source": [
    "#"
   ]
  },
  {
   "cell_type": "markdown",
   "id": "b8d38018",
   "metadata": {},
   "source": [
    "#"
   ]
  }
 ],
 "metadata": {
  "kernelspec": {
   "display_name": "comp3340",
   "language": "python",
   "name": "comp3340"
  },
  "language_info": {
   "codemirror_mode": {
    "name": "ipython",
    "version": 3
   },
   "file_extension": ".py",
   "mimetype": "text/x-python",
   "name": "python",
   "nbconvert_exporter": "python",
   "pygments_lexer": "ipython3",
   "version": "3.7.13"
  },
  "toc": {
   "base_numbering": 1,
   "nav_menu": {},
   "number_sections": true,
   "sideBar": true,
   "skip_h1_title": false,
   "title_cell": "Table of Contents",
   "title_sidebar": "Contents",
   "toc_cell": false,
   "toc_position": {},
   "toc_section_display": true,
   "toc_window_display": false
  }
 },
 "nbformat": 4,
 "nbformat_minor": 5
}
